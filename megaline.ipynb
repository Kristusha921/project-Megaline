{
 "cells": [
  {
   "cell_type": "markdown",
   "metadata": {},
   "source": [
    "# Определение перспективного тарифа для телеком-компании"
   ]
  },
  {
   "cell_type": "markdown",
   "metadata": {},
   "source": [
    "## Описание проекта"
   ]
  },
  {
   "cell_type": "markdown",
   "metadata": {},
   "source": [
    "Компания «Мегалайн» — федеральный оператор сотовой связи. Клиентам предлагают два тарифных плана: «Смарт» и «Ультра». Чтобы скорректировать рекламный бюджет, коммерческий департамент хочет понять, какой тариф приносит больше денег.\n",
    "Необходимо сделать предварительный анализ тарифов на небольшой выборке клиентов. Для анализа имеются данные 500 пользователей «Мегалайна»: кто они, откуда, каким тарифом пользуются, сколько звонков и сообщений каждый отправил за 2018 год. Нужно проанализировать поведение клиентов и сделать вывод — какой тариф лучше."
   ]
  },
  {
   "cell_type": "markdown",
   "metadata": {},
   "source": [
    "### Описание тарифов"
   ]
  },
  {
   "cell_type": "markdown",
   "metadata": {},
   "source": [
    "Тариф «Смарт»:\n",
    "\n",
    "1. Ежемесячная плата: 550 рублей\n",
    "2. Включено 500 минут разговора, 50 сообщений и 15 Гб интернет-трафика\n",
    "\n",
    "Стоимость услуг сверх тарифного пакета:\n",
    "1. минута разговора: 3 рубля\n",
    "2. сообщение: 3 рубля\n",
    "3. 1 Гб интернет-трафика: 200 рублей\n",
    "\n",
    "Тариф «Ультра»:\n",
    "\n",
    "1. Ежемесячная плата: 1950 рублей\n",
    "2. Включено 3000 минут разговора, 1000 сообщений и 30 Гб интернет-трафика\n",
    "\n",
    "Стоимость услуг сверх тарифного пакета:\n",
    "\n",
    "1. минута разговора: 1 рубль\n",
    "2. сообщение: 1 рубль\n",
    "3. 1 Гб интернет-трафика: 150 рублей"
   ]
  },
  {
   "cell_type": "markdown",
   "metadata": {},
   "source": [
    "### Описание данных"
   ]
  },
  {
   "cell_type": "markdown",
   "metadata": {},
   "source": [
    "Таблица users (информация о пользователях):\n",
    "\n",
    "1. user_id — уникальный идентификатор пользователя\n",
    "2. first_name — имя пользователя\n",
    "3. last_name — фамилия пользователя\n",
    "4. age — возраст пользователя (годы)\n",
    "5. reg_date — дата подключения тарифа (день, месяц, год)\n",
    "6. churn_date — дата прекращения пользования тарифом (если значение пропущено, то тариф ещё действовал на момент выгрузки данных)\n",
    "7. city — город проживания пользователя\n",
    "8. tariff — название тарифного плана\n",
    "\n",
    "Таблица calls (информация о звонках):\n",
    "\n",
    "1. id — уникальный номер звонка\n",
    "2. call_date — дата звонка\n",
    "3. duration — длительность звонка в минутах\n",
    "4. user_id — идентификатор пользователя, сделавшего звонок\n",
    "\n",
    "Таблица messages (информация о сообщениях):\n",
    "\n",
    "1. id — уникальный номер сообщения\n",
    "2. message_date — дата сообщения\n",
    "3. user_id — идентификатор пользователя, отправившего сообщение\n",
    "\n",
    "Таблица internet (информация об интернет-сессиях):\n",
    "\n",
    "1. id — уникальный номер сессии\n",
    "2. mb_used — объём потраченного за сессию интернет-трафика (в мегабайтах)\n",
    "3. session_date — дата интернет-сессии\n",
    "4. user_id — идентификатор пользователя\n",
    "\n",
    "Таблица tariffs (информация о тарифах):\n",
    "\n",
    "1. tariff_name — название тарифа\n",
    "2. rub_monthly_fee — ежемесячная абонентская плата в рублях\n",
    "3. minutes_included — количество минут разговора в месяц, включённых в абонентскую плату\n",
    "4. messages_included — количество сообщений в месяц, включённых в абонентскую плату\n",
    "5. mb_per_month_included — объём интернет-трафика, включённого в абонентскую плату (в мегабайтах)\n",
    "6. rub_per_minute — стоимость минуты разговора сверх тарифного пакета (например, если в тарифе 100 минут разговора в месяц, то со 101 минуты будет взиматься плата)\n",
    "7. rub_per_message — стоимость отправки сообщения сверх тарифного пакета\n",
    "8. rub_per_gb — стоимость дополнительного гигабайта интернет-трафика сверх тарифного пакета (1 гигабайт = 1024 мегабайта)\n"
   ]
  },
  {
   "cell_type": "markdown",
   "metadata": {},
   "source": [
    "### Ход исследования"
   ]
  },
  {
   "cell_type": "markdown",
   "metadata": {},
   "source": [
    "1. Обзор данных.\n",
    "2. Предобработка данных.\n",
    "3. Расчет и добавление необходимых показателей.\n",
    "4. Исследование данных.\n",
    "5. Проверка гипотез.\n",
    "6. Ответы на вопросы и основной вывод."
   ]
  },
  {
   "cell_type": "markdown",
   "metadata": {},
   "source": [
    "## Изучение данных"
   ]
  },
  {
   "cell_type": "code",
   "execution_count": 1,
   "metadata": {},
   "outputs": [],
   "source": [
    "import pandas as pd\n",
    "import matplotlib.pyplot as plt \n",
    "import numpy as np\n",
    "from scipy import stats as st\n",
    "import math\n",
    "import seaborn as sns"
   ]
  },
  {
   "cell_type": "markdown",
   "metadata": {},
   "source": [
    "### Прочтение файлов и просмотр первых строк полученных таблиц"
   ]
  },
  {
   "cell_type": "markdown",
   "metadata": {},
   "source": [
    "Прочтем каждый файл с помощью библиотеки pandas и посмотрим имеющиеся в них сведения."
   ]
  },
  {
   "cell_type": "code",
   "execution_count": 2,
   "metadata": {},
   "outputs": [
    {
     "data": {
      "text/html": [
       "<div>\n",
       "<style scoped>\n",
       "    .dataframe tbody tr th:only-of-type {\n",
       "        vertical-align: middle;\n",
       "    }\n",
       "\n",
       "    .dataframe tbody tr th {\n",
       "        vertical-align: top;\n",
       "    }\n",
       "\n",
       "    .dataframe thead th {\n",
       "        text-align: right;\n",
       "    }\n",
       "</style>\n",
       "<table border=\"1\" class=\"dataframe\">\n",
       "  <thead>\n",
       "    <tr style=\"text-align: right;\">\n",
       "      <th></th>\n",
       "      <th>id</th>\n",
       "      <th>call_date</th>\n",
       "      <th>duration</th>\n",
       "      <th>user_id</th>\n",
       "    </tr>\n",
       "  </thead>\n",
       "  <tbody>\n",
       "    <tr>\n",
       "      <th>0</th>\n",
       "      <td>1000_0</td>\n",
       "      <td>2018-07-25</td>\n",
       "      <td>0.00</td>\n",
       "      <td>1000</td>\n",
       "    </tr>\n",
       "    <tr>\n",
       "      <th>1</th>\n",
       "      <td>1000_1</td>\n",
       "      <td>2018-08-17</td>\n",
       "      <td>0.00</td>\n",
       "      <td>1000</td>\n",
       "    </tr>\n",
       "    <tr>\n",
       "      <th>2</th>\n",
       "      <td>1000_2</td>\n",
       "      <td>2018-06-11</td>\n",
       "      <td>2.85</td>\n",
       "      <td>1000</td>\n",
       "    </tr>\n",
       "    <tr>\n",
       "      <th>3</th>\n",
       "      <td>1000_3</td>\n",
       "      <td>2018-09-21</td>\n",
       "      <td>13.80</td>\n",
       "      <td>1000</td>\n",
       "    </tr>\n",
       "    <tr>\n",
       "      <th>4</th>\n",
       "      <td>1000_4</td>\n",
       "      <td>2018-12-15</td>\n",
       "      <td>5.18</td>\n",
       "      <td>1000</td>\n",
       "    </tr>\n",
       "  </tbody>\n",
       "</table>\n",
       "</div>"
      ],
      "text/plain": [
       "       id   call_date  duration  user_id\n",
       "0  1000_0  2018-07-25      0.00     1000\n",
       "1  1000_1  2018-08-17      0.00     1000\n",
       "2  1000_2  2018-06-11      2.85     1000\n",
       "3  1000_3  2018-09-21     13.80     1000\n",
       "4  1000_4  2018-12-15      5.18     1000"
      ]
     },
     "execution_count": 2,
     "metadata": {},
     "output_type": "execute_result"
    }
   ],
   "source": [
    "calls = pd.read_csv('~/Desktop/project_files/calls.csv')\n",
    "calls.head()"
   ]
  },
  {
   "cell_type": "code",
   "execution_count": 3,
   "metadata": {},
   "outputs": [
    {
     "data": {
      "text/html": [
       "<div>\n",
       "<style scoped>\n",
       "    .dataframe tbody tr th:only-of-type {\n",
       "        vertical-align: middle;\n",
       "    }\n",
       "\n",
       "    .dataframe tbody tr th {\n",
       "        vertical-align: top;\n",
       "    }\n",
       "\n",
       "    .dataframe thead th {\n",
       "        text-align: right;\n",
       "    }\n",
       "</style>\n",
       "<table border=\"1\" class=\"dataframe\">\n",
       "  <thead>\n",
       "    <tr style=\"text-align: right;\">\n",
       "      <th></th>\n",
       "      <th>id</th>\n",
       "      <th>mb_used</th>\n",
       "      <th>session_date</th>\n",
       "      <th>user_id</th>\n",
       "    </tr>\n",
       "  </thead>\n",
       "  <tbody>\n",
       "    <tr>\n",
       "      <th>0</th>\n",
       "      <td>1000_0</td>\n",
       "      <td>112.95</td>\n",
       "      <td>2018-11-25</td>\n",
       "      <td>1000</td>\n",
       "    </tr>\n",
       "    <tr>\n",
       "      <th>1</th>\n",
       "      <td>1000_1</td>\n",
       "      <td>1052.81</td>\n",
       "      <td>2018-09-07</td>\n",
       "      <td>1000</td>\n",
       "    </tr>\n",
       "    <tr>\n",
       "      <th>2</th>\n",
       "      <td>1000_2</td>\n",
       "      <td>1197.26</td>\n",
       "      <td>2018-06-25</td>\n",
       "      <td>1000</td>\n",
       "    </tr>\n",
       "    <tr>\n",
       "      <th>3</th>\n",
       "      <td>1000_3</td>\n",
       "      <td>550.27</td>\n",
       "      <td>2018-08-22</td>\n",
       "      <td>1000</td>\n",
       "    </tr>\n",
       "    <tr>\n",
       "      <th>4</th>\n",
       "      <td>1000_4</td>\n",
       "      <td>302.56</td>\n",
       "      <td>2018-09-24</td>\n",
       "      <td>1000</td>\n",
       "    </tr>\n",
       "  </tbody>\n",
       "</table>\n",
       "</div>"
      ],
      "text/plain": [
       "       id  mb_used session_date  user_id\n",
       "0  1000_0   112.95   2018-11-25     1000\n",
       "1  1000_1  1052.81   2018-09-07     1000\n",
       "2  1000_2  1197.26   2018-06-25     1000\n",
       "3  1000_3   550.27   2018-08-22     1000\n",
       "4  1000_4   302.56   2018-09-24     1000"
      ]
     },
     "execution_count": 3,
     "metadata": {},
     "output_type": "execute_result"
    }
   ],
   "source": [
    "inet = pd.read_csv('~/Desktop/project_files/internet.csv', index_col=0)\n",
    "inet.head()"
   ]
  },
  {
   "cell_type": "code",
   "execution_count": 4,
   "metadata": {},
   "outputs": [
    {
     "data": {
      "text/html": [
       "<div>\n",
       "<style scoped>\n",
       "    .dataframe tbody tr th:only-of-type {\n",
       "        vertical-align: middle;\n",
       "    }\n",
       "\n",
       "    .dataframe tbody tr th {\n",
       "        vertical-align: top;\n",
       "    }\n",
       "\n",
       "    .dataframe thead th {\n",
       "        text-align: right;\n",
       "    }\n",
       "</style>\n",
       "<table border=\"1\" class=\"dataframe\">\n",
       "  <thead>\n",
       "    <tr style=\"text-align: right;\">\n",
       "      <th></th>\n",
       "      <th>id</th>\n",
       "      <th>message_date</th>\n",
       "      <th>user_id</th>\n",
       "    </tr>\n",
       "  </thead>\n",
       "  <tbody>\n",
       "    <tr>\n",
       "      <th>0</th>\n",
       "      <td>1000_0</td>\n",
       "      <td>2018-06-27</td>\n",
       "      <td>1000</td>\n",
       "    </tr>\n",
       "    <tr>\n",
       "      <th>1</th>\n",
       "      <td>1000_1</td>\n",
       "      <td>2018-10-08</td>\n",
       "      <td>1000</td>\n",
       "    </tr>\n",
       "    <tr>\n",
       "      <th>2</th>\n",
       "      <td>1000_2</td>\n",
       "      <td>2018-08-04</td>\n",
       "      <td>1000</td>\n",
       "    </tr>\n",
       "    <tr>\n",
       "      <th>3</th>\n",
       "      <td>1000_3</td>\n",
       "      <td>2018-06-16</td>\n",
       "      <td>1000</td>\n",
       "    </tr>\n",
       "    <tr>\n",
       "      <th>4</th>\n",
       "      <td>1000_4</td>\n",
       "      <td>2018-12-05</td>\n",
       "      <td>1000</td>\n",
       "    </tr>\n",
       "  </tbody>\n",
       "</table>\n",
       "</div>"
      ],
      "text/plain": [
       "       id message_date  user_id\n",
       "0  1000_0   2018-06-27     1000\n",
       "1  1000_1   2018-10-08     1000\n",
       "2  1000_2   2018-08-04     1000\n",
       "3  1000_3   2018-06-16     1000\n",
       "4  1000_4   2018-12-05     1000"
      ]
     },
     "execution_count": 4,
     "metadata": {},
     "output_type": "execute_result"
    }
   ],
   "source": [
    "messages = pd.read_csv('~/Desktop/project_files/messages.csv')\n",
    "messages.head()"
   ]
  },
  {
   "cell_type": "code",
   "execution_count": 5,
   "metadata": {},
   "outputs": [
    {
     "data": {
      "text/html": [
       "<div>\n",
       "<style scoped>\n",
       "    .dataframe tbody tr th:only-of-type {\n",
       "        vertical-align: middle;\n",
       "    }\n",
       "\n",
       "    .dataframe tbody tr th {\n",
       "        vertical-align: top;\n",
       "    }\n",
       "\n",
       "    .dataframe thead th {\n",
       "        text-align: right;\n",
       "    }\n",
       "</style>\n",
       "<table border=\"1\" class=\"dataframe\">\n",
       "  <thead>\n",
       "    <tr style=\"text-align: right;\">\n",
       "      <th></th>\n",
       "      <th>messages_included</th>\n",
       "      <th>mb_per_month_included</th>\n",
       "      <th>minutes_included</th>\n",
       "      <th>rub_monthly_fee</th>\n",
       "      <th>rub_per_gb</th>\n",
       "      <th>rub_per_message</th>\n",
       "      <th>rub_per_minute</th>\n",
       "      <th>tariff_name</th>\n",
       "    </tr>\n",
       "  </thead>\n",
       "  <tbody>\n",
       "    <tr>\n",
       "      <th>0</th>\n",
       "      <td>50</td>\n",
       "      <td>15360</td>\n",
       "      <td>500</td>\n",
       "      <td>550</td>\n",
       "      <td>200</td>\n",
       "      <td>3</td>\n",
       "      <td>3</td>\n",
       "      <td>smart</td>\n",
       "    </tr>\n",
       "    <tr>\n",
       "      <th>1</th>\n",
       "      <td>1000</td>\n",
       "      <td>30720</td>\n",
       "      <td>3000</td>\n",
       "      <td>1950</td>\n",
       "      <td>150</td>\n",
       "      <td>1</td>\n",
       "      <td>1</td>\n",
       "      <td>ultra</td>\n",
       "    </tr>\n",
       "  </tbody>\n",
       "</table>\n",
       "</div>"
      ],
      "text/plain": [
       "   messages_included  mb_per_month_included  minutes_included  \\\n",
       "0                 50                  15360               500   \n",
       "1               1000                  30720              3000   \n",
       "\n",
       "   rub_monthly_fee  rub_per_gb  rub_per_message  rub_per_minute tariff_name  \n",
       "0              550         200                3               3       smart  \n",
       "1             1950         150                1               1       ultra  "
      ]
     },
     "execution_count": 5,
     "metadata": {},
     "output_type": "execute_result"
    }
   ],
   "source": [
    "tarif = pd.read_csv('~/Desktop/project_files/tariffs.csv')\n",
    "tarif.head()"
   ]
  },
  {
   "cell_type": "code",
   "execution_count": 6,
   "metadata": {},
   "outputs": [
    {
     "data": {
      "text/html": [
       "<div>\n",
       "<style scoped>\n",
       "    .dataframe tbody tr th:only-of-type {\n",
       "        vertical-align: middle;\n",
       "    }\n",
       "\n",
       "    .dataframe tbody tr th {\n",
       "        vertical-align: top;\n",
       "    }\n",
       "\n",
       "    .dataframe thead th {\n",
       "        text-align: right;\n",
       "    }\n",
       "</style>\n",
       "<table border=\"1\" class=\"dataframe\">\n",
       "  <thead>\n",
       "    <tr style=\"text-align: right;\">\n",
       "      <th></th>\n",
       "      <th>user_id</th>\n",
       "      <th>age</th>\n",
       "      <th>churn_date</th>\n",
       "      <th>city</th>\n",
       "      <th>first_name</th>\n",
       "      <th>last_name</th>\n",
       "      <th>reg_date</th>\n",
       "      <th>tariff</th>\n",
       "    </tr>\n",
       "  </thead>\n",
       "  <tbody>\n",
       "    <tr>\n",
       "      <th>0</th>\n",
       "      <td>1000</td>\n",
       "      <td>52</td>\n",
       "      <td>NaN</td>\n",
       "      <td>Краснодар</td>\n",
       "      <td>Рафаил</td>\n",
       "      <td>Верещагин</td>\n",
       "      <td>2018-05-25</td>\n",
       "      <td>ultra</td>\n",
       "    </tr>\n",
       "    <tr>\n",
       "      <th>1</th>\n",
       "      <td>1001</td>\n",
       "      <td>41</td>\n",
       "      <td>NaN</td>\n",
       "      <td>Москва</td>\n",
       "      <td>Иван</td>\n",
       "      <td>Ежов</td>\n",
       "      <td>2018-11-01</td>\n",
       "      <td>smart</td>\n",
       "    </tr>\n",
       "    <tr>\n",
       "      <th>2</th>\n",
       "      <td>1002</td>\n",
       "      <td>59</td>\n",
       "      <td>NaN</td>\n",
       "      <td>Стерлитамак</td>\n",
       "      <td>Евгений</td>\n",
       "      <td>Абрамович</td>\n",
       "      <td>2018-06-17</td>\n",
       "      <td>smart</td>\n",
       "    </tr>\n",
       "    <tr>\n",
       "      <th>3</th>\n",
       "      <td>1003</td>\n",
       "      <td>23</td>\n",
       "      <td>NaN</td>\n",
       "      <td>Москва</td>\n",
       "      <td>Белла</td>\n",
       "      <td>Белякова</td>\n",
       "      <td>2018-08-17</td>\n",
       "      <td>ultra</td>\n",
       "    </tr>\n",
       "    <tr>\n",
       "      <th>4</th>\n",
       "      <td>1004</td>\n",
       "      <td>68</td>\n",
       "      <td>NaN</td>\n",
       "      <td>Новокузнецк</td>\n",
       "      <td>Татьяна</td>\n",
       "      <td>Авдеенко</td>\n",
       "      <td>2018-05-14</td>\n",
       "      <td>ultra</td>\n",
       "    </tr>\n",
       "  </tbody>\n",
       "</table>\n",
       "</div>"
      ],
      "text/plain": [
       "   user_id  age churn_date         city first_name  last_name    reg_date  \\\n",
       "0     1000   52        NaN    Краснодар     Рафаил  Верещагин  2018-05-25   \n",
       "1     1001   41        NaN       Москва       Иван       Ежов  2018-11-01   \n",
       "2     1002   59        NaN  Стерлитамак    Евгений  Абрамович  2018-06-17   \n",
       "3     1003   23        NaN       Москва      Белла   Белякова  2018-08-17   \n",
       "4     1004   68        NaN  Новокузнецк    Татьяна   Авдеенко  2018-05-14   \n",
       "\n",
       "  tariff  \n",
       "0  ultra  \n",
       "1  smart  \n",
       "2  smart  \n",
       "3  ultra  \n",
       "4  ultra  "
      ]
     },
     "execution_count": 6,
     "metadata": {},
     "output_type": "execute_result"
    }
   ],
   "source": [
    "user = pd.read_csv('~/Desktop/project_files/users.csv')\n",
    "user.head()"
   ]
  },
  {
   "cell_type": "markdown",
   "metadata": {},
   "source": [
    "Ниже посмотрела, что нет ошибок и лишних названий в тарифов и обратила внимание, что пользователей с тарифом smart гораздо больше в данной выборке. "
   ]
  },
  {
   "cell_type": "code",
   "execution_count": 7,
   "metadata": {},
   "outputs": [
    {
     "data": {
      "text/plain": [
       "smart    351\n",
       "ultra    149\n",
       "Name: tariff, dtype: int64"
      ]
     },
     "execution_count": 7,
     "metadata": {},
     "output_type": "execute_result"
    }
   ],
   "source": [
    "user['tariff'].value_counts()"
   ]
  },
  {
   "cell_type": "markdown",
   "metadata": {},
   "source": [
    "### Изучение общей информации по каждой таблице данных"
   ]
  },
  {
   "cell_type": "code",
   "execution_count": 8,
   "metadata": {},
   "outputs": [
    {
     "name": "stdout",
     "output_type": "stream",
     "text": [
      "<class 'pandas.core.frame.DataFrame'>\n",
      "RangeIndex: 202607 entries, 0 to 202606\n",
      "Data columns (total 4 columns):\n",
      " #   Column     Non-Null Count   Dtype  \n",
      "---  ------     --------------   -----  \n",
      " 0   id         202607 non-null  object \n",
      " 1   call_date  202607 non-null  object \n",
      " 2   duration   202607 non-null  float64\n",
      " 3   user_id    202607 non-null  int64  \n",
      "dtypes: float64(1), int64(1), object(2)\n",
      "memory usage: 6.2+ MB\n"
     ]
    }
   ],
   "source": [
    "calls.info()"
   ]
  },
  {
   "cell_type": "code",
   "execution_count": 9,
   "metadata": {},
   "outputs": [
    {
     "name": "stdout",
     "output_type": "stream",
     "text": [
      "<class 'pandas.core.frame.DataFrame'>\n",
      "Int64Index: 149396 entries, 0 to 149395\n",
      "Data columns (total 4 columns):\n",
      " #   Column        Non-Null Count   Dtype  \n",
      "---  ------        --------------   -----  \n",
      " 0   id            149396 non-null  object \n",
      " 1   mb_used       149396 non-null  float64\n",
      " 2   session_date  149396 non-null  object \n",
      " 3   user_id       149396 non-null  int64  \n",
      "dtypes: float64(1), int64(1), object(2)\n",
      "memory usage: 5.7+ MB\n"
     ]
    }
   ],
   "source": [
    "inet.info()"
   ]
  },
  {
   "cell_type": "code",
   "execution_count": 10,
   "metadata": {},
   "outputs": [
    {
     "name": "stdout",
     "output_type": "stream",
     "text": [
      "<class 'pandas.core.frame.DataFrame'>\n",
      "RangeIndex: 123036 entries, 0 to 123035\n",
      "Data columns (total 3 columns):\n",
      " #   Column        Non-Null Count   Dtype \n",
      "---  ------        --------------   ----- \n",
      " 0   id            123036 non-null  object\n",
      " 1   message_date  123036 non-null  object\n",
      " 2   user_id       123036 non-null  int64 \n",
      "dtypes: int64(1), object(2)\n",
      "memory usage: 2.8+ MB\n"
     ]
    }
   ],
   "source": [
    "messages.info()"
   ]
  },
  {
   "cell_type": "code",
   "execution_count": 11,
   "metadata": {},
   "outputs": [
    {
     "name": "stdout",
     "output_type": "stream",
     "text": [
      "<class 'pandas.core.frame.DataFrame'>\n",
      "RangeIndex: 2 entries, 0 to 1\n",
      "Data columns (total 8 columns):\n",
      " #   Column                 Non-Null Count  Dtype \n",
      "---  ------                 --------------  ----- \n",
      " 0   messages_included      2 non-null      int64 \n",
      " 1   mb_per_month_included  2 non-null      int64 \n",
      " 2   minutes_included       2 non-null      int64 \n",
      " 3   rub_monthly_fee        2 non-null      int64 \n",
      " 4   rub_per_gb             2 non-null      int64 \n",
      " 5   rub_per_message        2 non-null      int64 \n",
      " 6   rub_per_minute         2 non-null      int64 \n",
      " 7   tariff_name            2 non-null      object\n",
      "dtypes: int64(7), object(1)\n",
      "memory usage: 256.0+ bytes\n"
     ]
    }
   ],
   "source": [
    "tarif.info()"
   ]
  },
  {
   "cell_type": "code",
   "execution_count": 12,
   "metadata": {},
   "outputs": [
    {
     "name": "stdout",
     "output_type": "stream",
     "text": [
      "<class 'pandas.core.frame.DataFrame'>\n",
      "RangeIndex: 500 entries, 0 to 499\n",
      "Data columns (total 8 columns):\n",
      " #   Column      Non-Null Count  Dtype \n",
      "---  ------      --------------  ----- \n",
      " 0   user_id     500 non-null    int64 \n",
      " 1   age         500 non-null    int64 \n",
      " 2   churn_date  38 non-null     object\n",
      " 3   city        500 non-null    object\n",
      " 4   first_name  500 non-null    object\n",
      " 5   last_name   500 non-null    object\n",
      " 6   reg_date    500 non-null    object\n",
      " 7   tariff      500 non-null    object\n",
      "dtypes: int64(2), object(6)\n",
      "memory usage: 31.4+ KB\n"
     ]
    }
   ],
   "source": [
    "user.info()"
   ]
  },
  {
   "cell_type": "markdown",
   "metadata": {},
   "source": [
    "Исходя из общей информации, необходимо изменить типы данных в столбцах, хранящих данные о времени. Также проверить наличие пропусков и дубликатов, возможно переименовать названия столбцов. При этом, для исследования нам будет необходимо добавить дополнительные сведения."
   ]
  },
  {
   "cell_type": "markdown",
   "metadata": {},
   "source": [
    "### Гистограмма распределения интернет-трафика"
   ]
  },
  {
   "cell_type": "code",
   "execution_count": 13,
   "metadata": {},
   "outputs": [
    {
     "data": {
      "image/png": "[encoded data removed]",
      "text/plain": [
       "<Figure size 720x504 with 1 Axes>"
      ]
     },
     "metadata": {
      "needs_background": "light"
     },
     "output_type": "display_data"
    }
   ],
   "source": [
    "plt.figure(figsize=(10, 7))\n",
    "inet['mb_used'].hist()\n",
    "plt.title('Гистограмма распределения интернет-трафика')\n",
    "plt.xlabel('Объём потраченного за сессию интернет-трафика (в мегабайтах)')\n",
    "plt.ylabel('Количество сессий')\n",
    "plt.show()"
   ]
  },
  {
   "cell_type": "code",
   "execution_count": 14,
   "metadata": {},
   "outputs": [
    {
     "name": "stdout",
     "output_type": "stream",
     "text": [
      "Максимальный объём потраченного за сессию интернет-трафика в мегабайтах составляет:  1724.83\n"
     ]
    }
   ],
   "source": [
    "print('Максимальный объём потраченного за сессию интернет-трафика в мегабайтах составляет: ', inet['mb_used'].max())"
   ]
  },
  {
   "cell_type": "markdown",
   "metadata": {},
   "source": [
    "Данная гистограмма показывает распределение интернет-трафика. На мой взгляд здесь аномалий нет. Есть немного выбивающихся значений, но я бы не считала это аномалией, так как 15-16 Гб может составлять объем какого-либо длительного видео, поэтому эти данные оставим.\n",
    "\n",
    "Добавим в нашу гистограмму параметр bins для наглядности:"
   ]
  },
  {
   "cell_type": "code",
   "execution_count": 15,
   "metadata": {},
   "outputs": [
    {
     "data": {
      "image/png": "[encoded data removed]",
      "text/plain": [
       "<Figure size 720x504 with 1 Axes>"
      ]
     },
     "metadata": {
      "needs_background": "light"
     },
     "output_type": "display_data"
    }
   ],
   "source": [
    "plt.figure(figsize=(10, 7))\n",
    "inet['mb_used'].hist(bins = 80)\n",
    "plt.title('Гистограмма распределения интернет-трафика')\n",
    "plt.xlabel('Объём потраченного за сессию интернет-трафика (в мегабайтах)')\n",
    "plt.ylabel('Количество сессий')\n",
    "plt.show()"
   ]
  },
  {
   "cell_type": "markdown",
   "metadata": {},
   "source": [
    "Имеется большое количество так называемых нулевых сессий. Возможно, клиенты пытались зайти в интернет, но не смогли, происходит какой-то обрыв сессий и звонков. В таких случаях информацию необходимо предоставлять техподдержке."
   ]
  },
  {
   "cell_type": "markdown",
   "metadata": {},
   "source": [
    "### Проверка на наличие дубликатов"
   ]
  },
  {
   "cell_type": "markdown",
   "metadata": {},
   "source": [
    "Проверим таблицы на наличие явных дубликатов:"
   ]
  },
  {
   "cell_type": "code",
   "execution_count": 16,
   "metadata": {},
   "outputs": [
    {
     "name": "stdout",
     "output_type": "stream",
     "text": [
      "Количество дубликатов: 0\n"
     ]
    }
   ],
   "source": [
    "print('Количество дубликатов:', user.duplicated().sum())"
   ]
  },
  {
   "cell_type": "code",
   "execution_count": 17,
   "metadata": {},
   "outputs": [
    {
     "name": "stdout",
     "output_type": "stream",
     "text": [
      "Количество дубликатов: 0\n"
     ]
    }
   ],
   "source": [
    "print('Количество дубликатов:', messages.duplicated().sum())"
   ]
  },
  {
   "cell_type": "code",
   "execution_count": 18,
   "metadata": {},
   "outputs": [
    {
     "name": "stdout",
     "output_type": "stream",
     "text": [
      "Количество дубликатов: 0\n"
     ]
    }
   ],
   "source": [
    "print('Количество дубликатов:', inet.duplicated().sum())"
   ]
  },
  {
   "cell_type": "code",
   "execution_count": 19,
   "metadata": {},
   "outputs": [
    {
     "name": "stdout",
     "output_type": "stream",
     "text": [
      "Количество дубликатов: 0\n"
     ]
    }
   ],
   "source": [
    "print('Количество дубликатов:', calls.duplicated().sum())"
   ]
  },
  {
   "cell_type": "markdown",
   "metadata": {},
   "source": [
    "После проведенной проверки дубликатов не выявлено."
   ]
  },
  {
   "cell_type": "markdown",
   "metadata": {},
   "source": [
    "## Предобработка данных"
   ]
  },
  {
   "cell_type": "markdown",
   "metadata": {},
   "source": [
    "После просмотра общей информации по таблицам видно, что сведения с датами сохранены в формате object, поэтому сразу поменяем формат. "
   ]
  },
  {
   "cell_type": "code",
   "execution_count": 20,
   "metadata": {},
   "outputs": [],
   "source": [
    "calls['call_date'] = pd.to_datetime(calls['call_date'], format='%Y-%m-%d')\n",
    "inet['session_date'] = pd.to_datetime(inet['session_date'], format='%Y-%m-%d')\n",
    "messages['message_date'] = pd.to_datetime(messages['message_date'], format='%Y-%m-%d')\n",
    "user['churn_date'] = pd.to_datetime(user['churn_date'], format='%Y-%m-%d')\n",
    "user['reg_date'] = pd.to_datetime(user['reg_date'], format='%Y-%m-%d')"
   ]
  },
  {
   "cell_type": "markdown",
   "metadata": {},
   "source": [
    "Так как «Мегалайн» округляет секунды до минут, то для дальнейшего анализа нам необходимо в таблице с информацией о звонках также округлить до полных минут."
   ]
  },
  {
   "cell_type": "code",
   "execution_count": 21,
   "metadata": {},
   "outputs": [
    {
     "data": {
      "text/html": [
       "<div>\n",
       "<style scoped>\n",
       "    .dataframe tbody tr th:only-of-type {\n",
       "        vertical-align: middle;\n",
       "    }\n",
       "\n",
       "    .dataframe tbody tr th {\n",
       "        vertical-align: top;\n",
       "    }\n",
       "\n",
       "    .dataframe thead th {\n",
       "        text-align: right;\n",
       "    }\n",
       "</style>\n",
       "<table border=\"1\" class=\"dataframe\">\n",
       "  <thead>\n",
       "    <tr style=\"text-align: right;\">\n",
       "      <th></th>\n",
       "      <th>id</th>\n",
       "      <th>call_date</th>\n",
       "      <th>duration</th>\n",
       "      <th>user_id</th>\n",
       "    </tr>\n",
       "  </thead>\n",
       "  <tbody>\n",
       "    <tr>\n",
       "      <th>0</th>\n",
       "      <td>1000_0</td>\n",
       "      <td>2018-07-25</td>\n",
       "      <td>0.0</td>\n",
       "      <td>1000</td>\n",
       "    </tr>\n",
       "    <tr>\n",
       "      <th>1</th>\n",
       "      <td>1000_1</td>\n",
       "      <td>2018-08-17</td>\n",
       "      <td>0.0</td>\n",
       "      <td>1000</td>\n",
       "    </tr>\n",
       "    <tr>\n",
       "      <th>2</th>\n",
       "      <td>1000_2</td>\n",
       "      <td>2018-06-11</td>\n",
       "      <td>3.0</td>\n",
       "      <td>1000</td>\n",
       "    </tr>\n",
       "    <tr>\n",
       "      <th>3</th>\n",
       "      <td>1000_3</td>\n",
       "      <td>2018-09-21</td>\n",
       "      <td>14.0</td>\n",
       "      <td>1000</td>\n",
       "    </tr>\n",
       "    <tr>\n",
       "      <th>4</th>\n",
       "      <td>1000_4</td>\n",
       "      <td>2018-12-15</td>\n",
       "      <td>6.0</td>\n",
       "      <td>1000</td>\n",
       "    </tr>\n",
       "  </tbody>\n",
       "</table>\n",
       "</div>"
      ],
      "text/plain": [
       "       id  call_date  duration  user_id\n",
       "0  1000_0 2018-07-25       0.0     1000\n",
       "1  1000_1 2018-08-17       0.0     1000\n",
       "2  1000_2 2018-06-11       3.0     1000\n",
       "3  1000_3 2018-09-21      14.0     1000\n",
       "4  1000_4 2018-12-15       6.0     1000"
      ]
     },
     "execution_count": 21,
     "metadata": {},
     "output_type": "execute_result"
    }
   ],
   "source": [
    "calls['duration'] = np.ceil(calls['duration'])\n",
    "calls.head()"
   ]
  },
  {
   "cell_type": "markdown",
   "metadata": {},
   "source": [
    "Для дальнейшего исследования создадим столбец, в котором будут хранится даты звонков, округленные до месяца:"
   ]
  },
  {
   "cell_type": "code",
   "execution_count": 22,
   "metadata": {},
   "outputs": [],
   "source": [
    "calls['month'] = calls['call_date'].to_numpy().astype('datetime64[M]')"
   ]
  },
  {
   "cell_type": "code",
   "execution_count": 23,
   "metadata": {},
   "outputs": [
    {
     "data": {
      "text/html": [
       "<div>\n",
       "<style scoped>\n",
       "    .dataframe tbody tr th:only-of-type {\n",
       "        vertical-align: middle;\n",
       "    }\n",
       "\n",
       "    .dataframe tbody tr th {\n",
       "        vertical-align: top;\n",
       "    }\n",
       "\n",
       "    .dataframe thead th {\n",
       "        text-align: right;\n",
       "    }\n",
       "</style>\n",
       "<table border=\"1\" class=\"dataframe\">\n",
       "  <thead>\n",
       "    <tr style=\"text-align: right;\">\n",
       "      <th></th>\n",
       "      <th>id</th>\n",
       "      <th>call_date</th>\n",
       "      <th>duration</th>\n",
       "      <th>user_id</th>\n",
       "      <th>month</th>\n",
       "    </tr>\n",
       "  </thead>\n",
       "  <tbody>\n",
       "    <tr>\n",
       "      <th>0</th>\n",
       "      <td>1000_0</td>\n",
       "      <td>2018-07-25</td>\n",
       "      <td>0.0</td>\n",
       "      <td>1000</td>\n",
       "      <td>2018-07-01</td>\n",
       "    </tr>\n",
       "    <tr>\n",
       "      <th>1</th>\n",
       "      <td>1000_1</td>\n",
       "      <td>2018-08-17</td>\n",
       "      <td>0.0</td>\n",
       "      <td>1000</td>\n",
       "      <td>2018-08-01</td>\n",
       "    </tr>\n",
       "    <tr>\n",
       "      <th>2</th>\n",
       "      <td>1000_2</td>\n",
       "      <td>2018-06-11</td>\n",
       "      <td>3.0</td>\n",
       "      <td>1000</td>\n",
       "      <td>2018-06-01</td>\n",
       "    </tr>\n",
       "    <tr>\n",
       "      <th>3</th>\n",
       "      <td>1000_3</td>\n",
       "      <td>2018-09-21</td>\n",
       "      <td>14.0</td>\n",
       "      <td>1000</td>\n",
       "      <td>2018-09-01</td>\n",
       "    </tr>\n",
       "    <tr>\n",
       "      <th>4</th>\n",
       "      <td>1000_4</td>\n",
       "      <td>2018-12-15</td>\n",
       "      <td>6.0</td>\n",
       "      <td>1000</td>\n",
       "      <td>2018-12-01</td>\n",
       "    </tr>\n",
       "  </tbody>\n",
       "</table>\n",
       "</div>"
      ],
      "text/plain": [
       "       id  call_date  duration  user_id      month\n",
       "0  1000_0 2018-07-25       0.0     1000 2018-07-01\n",
       "1  1000_1 2018-08-17       0.0     1000 2018-08-01\n",
       "2  1000_2 2018-06-11       3.0     1000 2018-06-01\n",
       "3  1000_3 2018-09-21      14.0     1000 2018-09-01\n",
       "4  1000_4 2018-12-15       6.0     1000 2018-12-01"
      ]
     },
     "execution_count": 23,
     "metadata": {},
     "output_type": "execute_result"
    }
   ],
   "source": [
    "calls.head()"
   ]
  },
  {
   "cell_type": "markdown",
   "metadata": {},
   "source": [
    "Также создаем столбец и округляем до месяца в следующей таблице:"
   ]
  },
  {
   "cell_type": "code",
   "execution_count": 24,
   "metadata": {},
   "outputs": [],
   "source": [
    "inet['month'] = inet['session_date'].to_numpy().astype('datetime64[M]')"
   ]
  },
  {
   "cell_type": "code",
   "execution_count": 25,
   "metadata": {},
   "outputs": [
    {
     "data": {
      "text/html": [
       "<div>\n",
       "<style scoped>\n",
       "    .dataframe tbody tr th:only-of-type {\n",
       "        vertical-align: middle;\n",
       "    }\n",
       "\n",
       "    .dataframe tbody tr th {\n",
       "        vertical-align: top;\n",
       "    }\n",
       "\n",
       "    .dataframe thead th {\n",
       "        text-align: right;\n",
       "    }\n",
       "</style>\n",
       "<table border=\"1\" class=\"dataframe\">\n",
       "  <thead>\n",
       "    <tr style=\"text-align: right;\">\n",
       "      <th></th>\n",
       "      <th>id</th>\n",
       "      <th>mb_used</th>\n",
       "      <th>session_date</th>\n",
       "      <th>user_id</th>\n",
       "      <th>month</th>\n",
       "    </tr>\n",
       "  </thead>\n",
       "  <tbody>\n",
       "    <tr>\n",
       "      <th>0</th>\n",
       "      <td>1000_0</td>\n",
       "      <td>112.95</td>\n",
       "      <td>2018-11-25</td>\n",
       "      <td>1000</td>\n",
       "      <td>2018-11-01</td>\n",
       "    </tr>\n",
       "    <tr>\n",
       "      <th>1</th>\n",
       "      <td>1000_1</td>\n",
       "      <td>1052.81</td>\n",
       "      <td>2018-09-07</td>\n",
       "      <td>1000</td>\n",
       "      <td>2018-09-01</td>\n",
       "    </tr>\n",
       "    <tr>\n",
       "      <th>2</th>\n",
       "      <td>1000_2</td>\n",
       "      <td>1197.26</td>\n",
       "      <td>2018-06-25</td>\n",
       "      <td>1000</td>\n",
       "      <td>2018-06-01</td>\n",
       "    </tr>\n",
       "    <tr>\n",
       "      <th>3</th>\n",
       "      <td>1000_3</td>\n",
       "      <td>550.27</td>\n",
       "      <td>2018-08-22</td>\n",
       "      <td>1000</td>\n",
       "      <td>2018-08-01</td>\n",
       "    </tr>\n",
       "    <tr>\n",
       "      <th>4</th>\n",
       "      <td>1000_4</td>\n",
       "      <td>302.56</td>\n",
       "      <td>2018-09-24</td>\n",
       "      <td>1000</td>\n",
       "      <td>2018-09-01</td>\n",
       "    </tr>\n",
       "  </tbody>\n",
       "</table>\n",
       "</div>"
      ],
      "text/plain": [
       "       id  mb_used session_date  user_id      month\n",
       "0  1000_0   112.95   2018-11-25     1000 2018-11-01\n",
       "1  1000_1  1052.81   2018-09-07     1000 2018-09-01\n",
       "2  1000_2  1197.26   2018-06-25     1000 2018-06-01\n",
       "3  1000_3   550.27   2018-08-22     1000 2018-08-01\n",
       "4  1000_4   302.56   2018-09-24     1000 2018-09-01"
      ]
     },
     "execution_count": 25,
     "metadata": {},
     "output_type": "execute_result"
    }
   ],
   "source": [
    "inet.head()"
   ]
  },
  {
   "cell_type": "markdown",
   "metadata": {},
   "source": [
    "С таблицей сообщений проделываем такую же работу:"
   ]
  },
  {
   "cell_type": "code",
   "execution_count": 26,
   "metadata": {},
   "outputs": [],
   "source": [
    "messages['month'] = messages['message_date'].to_numpy().astype('datetime64[M]')"
   ]
  },
  {
   "cell_type": "code",
   "execution_count": 27,
   "metadata": {},
   "outputs": [
    {
     "data": {
      "text/html": [
       "<div>\n",
       "<style scoped>\n",
       "    .dataframe tbody tr th:only-of-type {\n",
       "        vertical-align: middle;\n",
       "    }\n",
       "\n",
       "    .dataframe tbody tr th {\n",
       "        vertical-align: top;\n",
       "    }\n",
       "\n",
       "    .dataframe thead th {\n",
       "        text-align: right;\n",
       "    }\n",
       "</style>\n",
       "<table border=\"1\" class=\"dataframe\">\n",
       "  <thead>\n",
       "    <tr style=\"text-align: right;\">\n",
       "      <th></th>\n",
       "      <th>id</th>\n",
       "      <th>message_date</th>\n",
       "      <th>user_id</th>\n",
       "      <th>month</th>\n",
       "    </tr>\n",
       "  </thead>\n",
       "  <tbody>\n",
       "    <tr>\n",
       "      <th>0</th>\n",
       "      <td>1000_0</td>\n",
       "      <td>2018-06-27</td>\n",
       "      <td>1000</td>\n",
       "      <td>2018-06-01</td>\n",
       "    </tr>\n",
       "    <tr>\n",
       "      <th>1</th>\n",
       "      <td>1000_1</td>\n",
       "      <td>2018-10-08</td>\n",
       "      <td>1000</td>\n",
       "      <td>2018-10-01</td>\n",
       "    </tr>\n",
       "    <tr>\n",
       "      <th>2</th>\n",
       "      <td>1000_2</td>\n",
       "      <td>2018-08-04</td>\n",
       "      <td>1000</td>\n",
       "      <td>2018-08-01</td>\n",
       "    </tr>\n",
       "    <tr>\n",
       "      <th>3</th>\n",
       "      <td>1000_3</td>\n",
       "      <td>2018-06-16</td>\n",
       "      <td>1000</td>\n",
       "      <td>2018-06-01</td>\n",
       "    </tr>\n",
       "    <tr>\n",
       "      <th>4</th>\n",
       "      <td>1000_4</td>\n",
       "      <td>2018-12-05</td>\n",
       "      <td>1000</td>\n",
       "      <td>2018-12-01</td>\n",
       "    </tr>\n",
       "  </tbody>\n",
       "</table>\n",
       "</div>"
      ],
      "text/plain": [
       "       id message_date  user_id      month\n",
       "0  1000_0   2018-06-27     1000 2018-06-01\n",
       "1  1000_1   2018-10-08     1000 2018-10-01\n",
       "2  1000_2   2018-08-04     1000 2018-08-01\n",
       "3  1000_3   2018-06-16     1000 2018-06-01\n",
       "4  1000_4   2018-12-05     1000 2018-12-01"
      ]
     },
     "execution_count": 27,
     "metadata": {},
     "output_type": "execute_result"
    }
   ],
   "source": [
    "messages.head()"
   ]
  },
  {
   "cell_type": "markdown",
   "metadata": {},
   "source": [
    "### Расчет израсходованных минут, смс и интернета для каждого пользователя по месяцам"
   ]
  },
  {
   "cell_type": "markdown",
   "metadata": {},
   "source": [
    "Создадим новую таблицу, где сгруппируем данные по пользователям и месяцам и таким образом получим данные, а именно сколько каждый пользователь расходует минут в месяц."
   ]
  },
  {
   "cell_type": "code",
   "execution_count": 28,
   "metadata": {},
   "outputs": [
    {
     "data": {
      "text/html": [
       "<div>\n",
       "<style scoped>\n",
       "    .dataframe tbody tr th:only-of-type {\n",
       "        vertical-align: middle;\n",
       "    }\n",
       "\n",
       "    .dataframe tbody tr th {\n",
       "        vertical-align: top;\n",
       "    }\n",
       "\n",
       "    .dataframe thead th {\n",
       "        text-align: right;\n",
       "    }\n",
       "</style>\n",
       "<table border=\"1\" class=\"dataframe\">\n",
       "  <thead>\n",
       "    <tr style=\"text-align: right;\">\n",
       "      <th></th>\n",
       "      <th>user_id</th>\n",
       "      <th>month</th>\n",
       "      <th>duration</th>\n",
       "    </tr>\n",
       "  </thead>\n",
       "  <tbody>\n",
       "    <tr>\n",
       "      <th>0</th>\n",
       "      <td>1000</td>\n",
       "      <td>2018-05-01</td>\n",
       "      <td>159.0</td>\n",
       "    </tr>\n",
       "    <tr>\n",
       "      <th>1</th>\n",
       "      <td>1000</td>\n",
       "      <td>2018-06-01</td>\n",
       "      <td>172.0</td>\n",
       "    </tr>\n",
       "    <tr>\n",
       "      <th>2</th>\n",
       "      <td>1000</td>\n",
       "      <td>2018-07-01</td>\n",
       "      <td>340.0</td>\n",
       "    </tr>\n",
       "    <tr>\n",
       "      <th>3</th>\n",
       "      <td>1000</td>\n",
       "      <td>2018-08-01</td>\n",
       "      <td>408.0</td>\n",
       "    </tr>\n",
       "    <tr>\n",
       "      <th>4</th>\n",
       "      <td>1000</td>\n",
       "      <td>2018-09-01</td>\n",
       "      <td>466.0</td>\n",
       "    </tr>\n",
       "  </tbody>\n",
       "</table>\n",
       "</div>"
      ],
      "text/plain": [
       "   user_id      month  duration\n",
       "0     1000 2018-05-01     159.0\n",
       "1     1000 2018-06-01     172.0\n",
       "2     1000 2018-07-01     340.0\n",
       "3     1000 2018-08-01     408.0\n",
       "4     1000 2018-09-01     466.0"
      ]
     },
     "execution_count": 28,
     "metadata": {},
     "output_type": "execute_result"
    }
   ],
   "source": [
    "user_calls = (calls.groupby(['user_id', 'month'])['duration']\n",
    "              .sum()\n",
    "              .reset_index()\n",
    "             )\n",
    "user_calls.head()"
   ]
  },
  {
   "cell_type": "markdown",
   "metadata": {},
   "source": [
    "Теперь проделаем то же самое по таблице с данными интернета."
   ]
  },
  {
   "cell_type": "code",
   "execution_count": 29,
   "metadata": {},
   "outputs": [
    {
     "data": {
      "text/html": [
       "<div>\n",
       "<style scoped>\n",
       "    .dataframe tbody tr th:only-of-type {\n",
       "        vertical-align: middle;\n",
       "    }\n",
       "\n",
       "    .dataframe tbody tr th {\n",
       "        vertical-align: top;\n",
       "    }\n",
       "\n",
       "    .dataframe thead th {\n",
       "        text-align: right;\n",
       "    }\n",
       "</style>\n",
       "<table border=\"1\" class=\"dataframe\">\n",
       "  <thead>\n",
       "    <tr style=\"text-align: right;\">\n",
       "      <th></th>\n",
       "      <th>user_id</th>\n",
       "      <th>month</th>\n",
       "      <th>mb_used</th>\n",
       "    </tr>\n",
       "  </thead>\n",
       "  <tbody>\n",
       "    <tr>\n",
       "      <th>0</th>\n",
       "      <td>1000</td>\n",
       "      <td>2018-05-01</td>\n",
       "      <td>2253.49</td>\n",
       "    </tr>\n",
       "    <tr>\n",
       "      <th>1</th>\n",
       "      <td>1000</td>\n",
       "      <td>2018-06-01</td>\n",
       "      <td>23233.77</td>\n",
       "    </tr>\n",
       "    <tr>\n",
       "      <th>2</th>\n",
       "      <td>1000</td>\n",
       "      <td>2018-07-01</td>\n",
       "      <td>14003.64</td>\n",
       "    </tr>\n",
       "    <tr>\n",
       "      <th>3</th>\n",
       "      <td>1000</td>\n",
       "      <td>2018-08-01</td>\n",
       "      <td>14055.93</td>\n",
       "    </tr>\n",
       "    <tr>\n",
       "      <th>4</th>\n",
       "      <td>1000</td>\n",
       "      <td>2018-09-01</td>\n",
       "      <td>14568.91</td>\n",
       "    </tr>\n",
       "  </tbody>\n",
       "</table>\n",
       "</div>"
      ],
      "text/plain": [
       "   user_id      month   mb_used\n",
       "0     1000 2018-05-01   2253.49\n",
       "1     1000 2018-06-01  23233.77\n",
       "2     1000 2018-07-01  14003.64\n",
       "3     1000 2018-08-01  14055.93\n",
       "4     1000 2018-09-01  14568.91"
      ]
     },
     "execution_count": 29,
     "metadata": {},
     "output_type": "execute_result"
    }
   ],
   "source": [
    "user_inet = (inet.groupby(['user_id', 'month'])['mb_used']\n",
    "             .sum()\n",
    "             .reset_index()\n",
    "            )\n",
    "user_inet.head()"
   ]
  },
  {
   "cell_type": "markdown",
   "metadata": {},
   "source": [
    "Так как компания рассчет ведет в гигабайтах, то создадим столбец с нужными данными и округлим их:"
   ]
  },
  {
   "cell_type": "code",
   "execution_count": 30,
   "metadata": {},
   "outputs": [
    {
     "data": {
      "text/html": [
       "<div>\n",
       "<style scoped>\n",
       "    .dataframe tbody tr th:only-of-type {\n",
       "        vertical-align: middle;\n",
       "    }\n",
       "\n",
       "    .dataframe tbody tr th {\n",
       "        vertical-align: top;\n",
       "    }\n",
       "\n",
       "    .dataframe thead th {\n",
       "        text-align: right;\n",
       "    }\n",
       "</style>\n",
       "<table border=\"1\" class=\"dataframe\">\n",
       "  <thead>\n",
       "    <tr style=\"text-align: right;\">\n",
       "      <th></th>\n",
       "      <th>user_id</th>\n",
       "      <th>month</th>\n",
       "      <th>mb_used</th>\n",
       "      <th>gb_used</th>\n",
       "    </tr>\n",
       "  </thead>\n",
       "  <tbody>\n",
       "    <tr>\n",
       "      <th>0</th>\n",
       "      <td>1000</td>\n",
       "      <td>2018-05-01</td>\n",
       "      <td>2253.49</td>\n",
       "      <td>3.0</td>\n",
       "    </tr>\n",
       "    <tr>\n",
       "      <th>1</th>\n",
       "      <td>1000</td>\n",
       "      <td>2018-06-01</td>\n",
       "      <td>23233.77</td>\n",
       "      <td>23.0</td>\n",
       "    </tr>\n",
       "    <tr>\n",
       "      <th>2</th>\n",
       "      <td>1000</td>\n",
       "      <td>2018-07-01</td>\n",
       "      <td>14003.64</td>\n",
       "      <td>14.0</td>\n",
       "    </tr>\n",
       "    <tr>\n",
       "      <th>3</th>\n",
       "      <td>1000</td>\n",
       "      <td>2018-08-01</td>\n",
       "      <td>14055.93</td>\n",
       "      <td>14.0</td>\n",
       "    </tr>\n",
       "    <tr>\n",
       "      <th>4</th>\n",
       "      <td>1000</td>\n",
       "      <td>2018-09-01</td>\n",
       "      <td>14568.91</td>\n",
       "      <td>15.0</td>\n",
       "    </tr>\n",
       "  </tbody>\n",
       "</table>\n",
       "</div>"
      ],
      "text/plain": [
       "   user_id      month   mb_used  gb_used\n",
       "0     1000 2018-05-01   2253.49      3.0\n",
       "1     1000 2018-06-01  23233.77     23.0\n",
       "2     1000 2018-07-01  14003.64     14.0\n",
       "3     1000 2018-08-01  14055.93     14.0\n",
       "4     1000 2018-09-01  14568.91     15.0"
      ]
     },
     "execution_count": 30,
     "metadata": {},
     "output_type": "execute_result"
    }
   ],
   "source": [
    "user_inet['gb_used'] = user_inet['mb_used'] / 1024\n",
    "user_inet['gb_used'] = np.ceil(user_inet['gb_used'])\n",
    "user_inet.head()"
   ]
  },
  {
   "cell_type": "markdown",
   "metadata": {},
   "source": [
    "Таблицу с данными по сообщениям также сгруппируем и получим нужные данные."
   ]
  },
  {
   "cell_type": "code",
   "execution_count": 31,
   "metadata": {},
   "outputs": [
    {
     "data": {
      "text/html": [
       "<div>\n",
       "<style scoped>\n",
       "    .dataframe tbody tr th:only-of-type {\n",
       "        vertical-align: middle;\n",
       "    }\n",
       "\n",
       "    .dataframe tbody tr th {\n",
       "        vertical-align: top;\n",
       "    }\n",
       "\n",
       "    .dataframe thead th {\n",
       "        text-align: right;\n",
       "    }\n",
       "</style>\n",
       "<table border=\"1\" class=\"dataframe\">\n",
       "  <thead>\n",
       "    <tr style=\"text-align: right;\">\n",
       "      <th></th>\n",
       "      <th>user_id</th>\n",
       "      <th>month</th>\n",
       "      <th>id</th>\n",
       "    </tr>\n",
       "  </thead>\n",
       "  <tbody>\n",
       "    <tr>\n",
       "      <th>0</th>\n",
       "      <td>1000</td>\n",
       "      <td>2018-05-01</td>\n",
       "      <td>22</td>\n",
       "    </tr>\n",
       "    <tr>\n",
       "      <th>1</th>\n",
       "      <td>1000</td>\n",
       "      <td>2018-06-01</td>\n",
       "      <td>60</td>\n",
       "    </tr>\n",
       "    <tr>\n",
       "      <th>2</th>\n",
       "      <td>1000</td>\n",
       "      <td>2018-07-01</td>\n",
       "      <td>75</td>\n",
       "    </tr>\n",
       "    <tr>\n",
       "      <th>3</th>\n",
       "      <td>1000</td>\n",
       "      <td>2018-08-01</td>\n",
       "      <td>81</td>\n",
       "    </tr>\n",
       "    <tr>\n",
       "      <th>4</th>\n",
       "      <td>1000</td>\n",
       "      <td>2018-09-01</td>\n",
       "      <td>57</td>\n",
       "    </tr>\n",
       "  </tbody>\n",
       "</table>\n",
       "</div>"
      ],
      "text/plain": [
       "   user_id      month  id\n",
       "0     1000 2018-05-01  22\n",
       "1     1000 2018-06-01  60\n",
       "2     1000 2018-07-01  75\n",
       "3     1000 2018-08-01  81\n",
       "4     1000 2018-09-01  57"
      ]
     },
     "execution_count": 31,
     "metadata": {},
     "output_type": "execute_result"
    }
   ],
   "source": [
    "user_messages = (messages.groupby(['user_id', 'month'])['id']\n",
    "                 .count()\n",
    "                 .reset_index()\n",
    "                )\n",
    "user_messages.head()"
   ]
  },
  {
   "cell_type": "markdown",
   "metadata": {},
   "source": [
    "### Объединение данных в одну аналитическую таблицу"
   ]
  },
  {
   "cell_type": "markdown",
   "metadata": {},
   "source": [
    "Для начала объединим таблицы с данными о звонках и смс."
   ]
  },
  {
   "cell_type": "code",
   "execution_count": 32,
   "metadata": {},
   "outputs": [],
   "source": [
    "user_calls_sms = user_calls.merge(user_messages, how='outer', on=['user_id', 'month'])"
   ]
  },
  {
   "cell_type": "markdown",
   "metadata": {},
   "source": [
    "Теперь соединим полученную таблицу с данными по интернет-трафику и посмотрим, что получилось."
   ]
  },
  {
   "cell_type": "code",
   "execution_count": 33,
   "metadata": {},
   "outputs": [
    {
     "data": {
      "text/html": [
       "<div>\n",
       "<style scoped>\n",
       "    .dataframe tbody tr th:only-of-type {\n",
       "        vertical-align: middle;\n",
       "    }\n",
       "\n",
       "    .dataframe tbody tr th {\n",
       "        vertical-align: top;\n",
       "    }\n",
       "\n",
       "    .dataframe thead th {\n",
       "        text-align: right;\n",
       "    }\n",
       "</style>\n",
       "<table border=\"1\" class=\"dataframe\">\n",
       "  <thead>\n",
       "    <tr style=\"text-align: right;\">\n",
       "      <th></th>\n",
       "      <th>user_id</th>\n",
       "      <th>month</th>\n",
       "      <th>duration</th>\n",
       "      <th>id</th>\n",
       "      <th>mb_used</th>\n",
       "      <th>gb_used</th>\n",
       "    </tr>\n",
       "  </thead>\n",
       "  <tbody>\n",
       "    <tr>\n",
       "      <th>0</th>\n",
       "      <td>1000</td>\n",
       "      <td>2018-05-01</td>\n",
       "      <td>159.0</td>\n",
       "      <td>22.0</td>\n",
       "      <td>2253.49</td>\n",
       "      <td>3.0</td>\n",
       "    </tr>\n",
       "    <tr>\n",
       "      <th>1</th>\n",
       "      <td>1000</td>\n",
       "      <td>2018-06-01</td>\n",
       "      <td>172.0</td>\n",
       "      <td>60.0</td>\n",
       "      <td>23233.77</td>\n",
       "      <td>23.0</td>\n",
       "    </tr>\n",
       "    <tr>\n",
       "      <th>2</th>\n",
       "      <td>1000</td>\n",
       "      <td>2018-07-01</td>\n",
       "      <td>340.0</td>\n",
       "      <td>75.0</td>\n",
       "      <td>14003.64</td>\n",
       "      <td>14.0</td>\n",
       "    </tr>\n",
       "    <tr>\n",
       "      <th>3</th>\n",
       "      <td>1000</td>\n",
       "      <td>2018-08-01</td>\n",
       "      <td>408.0</td>\n",
       "      <td>81.0</td>\n",
       "      <td>14055.93</td>\n",
       "      <td>14.0</td>\n",
       "    </tr>\n",
       "    <tr>\n",
       "      <th>4</th>\n",
       "      <td>1000</td>\n",
       "      <td>2018-09-01</td>\n",
       "      <td>466.0</td>\n",
       "      <td>57.0</td>\n",
       "      <td>14568.91</td>\n",
       "      <td>15.0</td>\n",
       "    </tr>\n",
       "    <tr>\n",
       "      <th>...</th>\n",
       "      <td>...</td>\n",
       "      <td>...</td>\n",
       "      <td>...</td>\n",
       "      <td>...</td>\n",
       "      <td>...</td>\n",
       "      <td>...</td>\n",
       "    </tr>\n",
       "    <tr>\n",
       "      <th>3209</th>\n",
       "      <td>1489</td>\n",
       "      <td>2018-09-01</td>\n",
       "      <td>NaN</td>\n",
       "      <td>32.0</td>\n",
       "      <td>17206.30</td>\n",
       "      <td>17.0</td>\n",
       "    </tr>\n",
       "    <tr>\n",
       "      <th>3210</th>\n",
       "      <td>1489</td>\n",
       "      <td>2018-10-01</td>\n",
       "      <td>NaN</td>\n",
       "      <td>21.0</td>\n",
       "      <td>19559.44</td>\n",
       "      <td>20.0</td>\n",
       "    </tr>\n",
       "    <tr>\n",
       "      <th>3211</th>\n",
       "      <td>1489</td>\n",
       "      <td>2018-11-01</td>\n",
       "      <td>NaN</td>\n",
       "      <td>20.0</td>\n",
       "      <td>17491.56</td>\n",
       "      <td>18.0</td>\n",
       "    </tr>\n",
       "    <tr>\n",
       "      <th>3212</th>\n",
       "      <td>1489</td>\n",
       "      <td>2018-12-01</td>\n",
       "      <td>NaN</td>\n",
       "      <td>35.0</td>\n",
       "      <td>17322.51</td>\n",
       "      <td>17.0</td>\n",
       "    </tr>\n",
       "    <tr>\n",
       "      <th>3213</th>\n",
       "      <td>1476</td>\n",
       "      <td>2018-04-01</td>\n",
       "      <td>NaN</td>\n",
       "      <td>NaN</td>\n",
       "      <td>530.78</td>\n",
       "      <td>1.0</td>\n",
       "    </tr>\n",
       "  </tbody>\n",
       "</table>\n",
       "<p>3214 rows × 6 columns</p>\n",
       "</div>"
      ],
      "text/plain": [
       "      user_id      month  duration    id   mb_used  gb_used\n",
       "0        1000 2018-05-01     159.0  22.0   2253.49      3.0\n",
       "1        1000 2018-06-01     172.0  60.0  23233.77     23.0\n",
       "2        1000 2018-07-01     340.0  75.0  14003.64     14.0\n",
       "3        1000 2018-08-01     408.0  81.0  14055.93     14.0\n",
       "4        1000 2018-09-01     466.0  57.0  14568.91     15.0\n",
       "...       ...        ...       ...   ...       ...      ...\n",
       "3209     1489 2018-09-01       NaN  32.0  17206.30     17.0\n",
       "3210     1489 2018-10-01       NaN  21.0  19559.44     20.0\n",
       "3211     1489 2018-11-01       NaN  20.0  17491.56     18.0\n",
       "3212     1489 2018-12-01       NaN  35.0  17322.51     17.0\n",
       "3213     1476 2018-04-01       NaN   NaN    530.78      1.0\n",
       "\n",
       "[3214 rows x 6 columns]"
      ]
     },
     "execution_count": 33,
     "metadata": {},
     "output_type": "execute_result"
    }
   ],
   "source": [
    "user_pivot = user_calls_sms.merge(user_inet, how='outer', on=['user_id', 'month'])\n",
    "user_pivot"
   ]
  },
  {
   "cell_type": "code",
   "execution_count": 34,
   "metadata": {},
   "outputs": [
    {
     "data": {
      "text/plain": [
       "0"
      ]
     },
     "execution_count": 34,
     "metadata": {},
     "output_type": "execute_result"
    }
   ],
   "source": [
    "user_pivot['month'].isna().sum()"
   ]
  },
  {
   "cell_type": "markdown",
   "metadata": {},
   "source": [
    "Выше у нас получилась таблица, где отражены основные показатели для каждого пользователя по месяцам. Теперь ниже мы проверим на примере столбца с данными о звонках, чтобы удостовериться о целостности данных."
   ]
  },
  {
   "cell_type": "code",
   "execution_count": 35,
   "metadata": {},
   "outputs": [
    {
     "data": {
      "text/plain": [
       "1450301.0"
      ]
     },
     "execution_count": 35,
     "metadata": {},
     "output_type": "execute_result"
    }
   ],
   "source": [
    "user_calls['duration'].sum()"
   ]
  },
  {
   "cell_type": "code",
   "execution_count": 36,
   "metadata": {
    "scrolled": true
   },
   "outputs": [
    {
     "data": {
      "text/plain": [
       "1450301.0"
      ]
     },
     "execution_count": 36,
     "metadata": {},
     "output_type": "execute_result"
    }
   ],
   "source": [
    "user_pivot['duration'].sum()"
   ]
  },
  {
   "cell_type": "markdown",
   "metadata": {},
   "source": [
    "Данные совпадают."
   ]
  },
  {
   "cell_type": "markdown",
   "metadata": {},
   "source": [
    "Теперь мы объеденим данные о пользователях и нашу таблицу, сохранив в новой таблице, и посмотрим что получилось."
   ]
  },
  {
   "cell_type": "code",
   "execution_count": 37,
   "metadata": {},
   "outputs": [
    {
     "data": {
      "text/html": [
       "<div>\n",
       "<style scoped>\n",
       "    .dataframe tbody tr th:only-of-type {\n",
       "        vertical-align: middle;\n",
       "    }\n",
       "\n",
       "    .dataframe tbody tr th {\n",
       "        vertical-align: top;\n",
       "    }\n",
       "\n",
       "    .dataframe thead th {\n",
       "        text-align: right;\n",
       "    }\n",
       "</style>\n",
       "<table border=\"1\" class=\"dataframe\">\n",
       "  <thead>\n",
       "    <tr style=\"text-align: right;\">\n",
       "      <th></th>\n",
       "      <th>user_id</th>\n",
       "      <th>month</th>\n",
       "      <th>duration</th>\n",
       "      <th>id</th>\n",
       "      <th>mb_used</th>\n",
       "      <th>gb_used</th>\n",
       "      <th>age</th>\n",
       "      <th>churn_date</th>\n",
       "      <th>city</th>\n",
       "      <th>first_name</th>\n",
       "      <th>last_name</th>\n",
       "      <th>reg_date</th>\n",
       "      <th>tariff</th>\n",
       "    </tr>\n",
       "  </thead>\n",
       "  <tbody>\n",
       "    <tr>\n",
       "      <th>0</th>\n",
       "      <td>1000</td>\n",
       "      <td>2018-05-01</td>\n",
       "      <td>159.0</td>\n",
       "      <td>22.0</td>\n",
       "      <td>2253.49</td>\n",
       "      <td>3.0</td>\n",
       "      <td>52</td>\n",
       "      <td>NaT</td>\n",
       "      <td>Краснодар</td>\n",
       "      <td>Рафаил</td>\n",
       "      <td>Верещагин</td>\n",
       "      <td>2018-05-25</td>\n",
       "      <td>ultra</td>\n",
       "    </tr>\n",
       "    <tr>\n",
       "      <th>1</th>\n",
       "      <td>1000</td>\n",
       "      <td>2018-06-01</td>\n",
       "      <td>172.0</td>\n",
       "      <td>60.0</td>\n",
       "      <td>23233.77</td>\n",
       "      <td>23.0</td>\n",
       "      <td>52</td>\n",
       "      <td>NaT</td>\n",
       "      <td>Краснодар</td>\n",
       "      <td>Рафаил</td>\n",
       "      <td>Верещагин</td>\n",
       "      <td>2018-05-25</td>\n",
       "      <td>ultra</td>\n",
       "    </tr>\n",
       "    <tr>\n",
       "      <th>2</th>\n",
       "      <td>1000</td>\n",
       "      <td>2018-07-01</td>\n",
       "      <td>340.0</td>\n",
       "      <td>75.0</td>\n",
       "      <td>14003.64</td>\n",
       "      <td>14.0</td>\n",
       "      <td>52</td>\n",
       "      <td>NaT</td>\n",
       "      <td>Краснодар</td>\n",
       "      <td>Рафаил</td>\n",
       "      <td>Верещагин</td>\n",
       "      <td>2018-05-25</td>\n",
       "      <td>ultra</td>\n",
       "    </tr>\n",
       "    <tr>\n",
       "      <th>3</th>\n",
       "      <td>1000</td>\n",
       "      <td>2018-08-01</td>\n",
       "      <td>408.0</td>\n",
       "      <td>81.0</td>\n",
       "      <td>14055.93</td>\n",
       "      <td>14.0</td>\n",
       "      <td>52</td>\n",
       "      <td>NaT</td>\n",
       "      <td>Краснодар</td>\n",
       "      <td>Рафаил</td>\n",
       "      <td>Верещагин</td>\n",
       "      <td>2018-05-25</td>\n",
       "      <td>ultra</td>\n",
       "    </tr>\n",
       "    <tr>\n",
       "      <th>4</th>\n",
       "      <td>1000</td>\n",
       "      <td>2018-09-01</td>\n",
       "      <td>466.0</td>\n",
       "      <td>57.0</td>\n",
       "      <td>14568.91</td>\n",
       "      <td>15.0</td>\n",
       "      <td>52</td>\n",
       "      <td>NaT</td>\n",
       "      <td>Краснодар</td>\n",
       "      <td>Рафаил</td>\n",
       "      <td>Верещагин</td>\n",
       "      <td>2018-05-25</td>\n",
       "      <td>ultra</td>\n",
       "    </tr>\n",
       "  </tbody>\n",
       "</table>\n",
       "</div>"
      ],
      "text/plain": [
       "   user_id      month  duration    id   mb_used  gb_used  age churn_date  \\\n",
       "0     1000 2018-05-01     159.0  22.0   2253.49      3.0   52        NaT   \n",
       "1     1000 2018-06-01     172.0  60.0  23233.77     23.0   52        NaT   \n",
       "2     1000 2018-07-01     340.0  75.0  14003.64     14.0   52        NaT   \n",
       "3     1000 2018-08-01     408.0  81.0  14055.93     14.0   52        NaT   \n",
       "4     1000 2018-09-01     466.0  57.0  14568.91     15.0   52        NaT   \n",
       "\n",
       "        city first_name  last_name   reg_date tariff  \n",
       "0  Краснодар     Рафаил  Верещагин 2018-05-25  ultra  \n",
       "1  Краснодар     Рафаил  Верещагин 2018-05-25  ultra  \n",
       "2  Краснодар     Рафаил  Верещагин 2018-05-25  ultra  \n",
       "3  Краснодар     Рафаил  Верещагин 2018-05-25  ultra  \n",
       "4  Краснодар     Рафаил  Верещагин 2018-05-25  ultra  "
      ]
     },
     "execution_count": 37,
     "metadata": {},
     "output_type": "execute_result"
    }
   ],
   "source": [
    "at = user_pivot.merge(user, how='outer', on='user_id')\n",
    "at.head()"
   ]
  },
  {
   "cell_type": "markdown",
   "metadata": {},
   "source": [
    "Проверим в каких данных у нас образовались пропуски:"
   ]
  },
  {
   "cell_type": "code",
   "execution_count": 38,
   "metadata": {},
   "outputs": [
    {
     "data": {
      "text/plain": [
       "user_id          0\n",
       "month            2\n",
       "duration        42\n",
       "id             499\n",
       "mb_used         13\n",
       "gb_used         13\n",
       "age              0\n",
       "churn_date    3027\n",
       "city             0\n",
       "first_name       0\n",
       "last_name        0\n",
       "reg_date         0\n",
       "tariff           0\n",
       "dtype: int64"
      ]
     },
     "execution_count": 38,
     "metadata": {},
     "output_type": "execute_result"
    }
   ],
   "source": [
    "at.isna().sum()"
   ]
  },
  {
   "cell_type": "markdown",
   "metadata": {},
   "source": [
    "В данном случае исследовательскому анализу сильно помешают пропуски в столбце month (остальные сможем заменить 0), выведем эти строки с ними:"
   ]
  },
  {
   "cell_type": "code",
   "execution_count": 39,
   "metadata": {},
   "outputs": [
    {
     "data": {
      "text/html": [
       "<div>\n",
       "<style scoped>\n",
       "    .dataframe tbody tr th:only-of-type {\n",
       "        vertical-align: middle;\n",
       "    }\n",
       "\n",
       "    .dataframe tbody tr th {\n",
       "        vertical-align: top;\n",
       "    }\n",
       "\n",
       "    .dataframe thead th {\n",
       "        text-align: right;\n",
       "    }\n",
       "</style>\n",
       "<table border=\"1\" class=\"dataframe\">\n",
       "  <thead>\n",
       "    <tr style=\"text-align: right;\">\n",
       "      <th></th>\n",
       "      <th>user_id</th>\n",
       "      <th>month</th>\n",
       "      <th>duration</th>\n",
       "      <th>id</th>\n",
       "      <th>mb_used</th>\n",
       "      <th>gb_used</th>\n",
       "      <th>age</th>\n",
       "      <th>churn_date</th>\n",
       "      <th>city</th>\n",
       "      <th>first_name</th>\n",
       "      <th>last_name</th>\n",
       "      <th>reg_date</th>\n",
       "      <th>tariff</th>\n",
       "    </tr>\n",
       "  </thead>\n",
       "  <tbody>\n",
       "    <tr>\n",
       "      <th>3214</th>\n",
       "      <td>1128</td>\n",
       "      <td>NaT</td>\n",
       "      <td>NaN</td>\n",
       "      <td>NaN</td>\n",
       "      <td>NaN</td>\n",
       "      <td>NaN</td>\n",
       "      <td>51</td>\n",
       "      <td>2018-12-23</td>\n",
       "      <td>Волжский</td>\n",
       "      <td>Ксения</td>\n",
       "      <td>Агаева</td>\n",
       "      <td>2018-12-15</td>\n",
       "      <td>ultra</td>\n",
       "    </tr>\n",
       "    <tr>\n",
       "      <th>3215</th>\n",
       "      <td>1371</td>\n",
       "      <td>NaT</td>\n",
       "      <td>NaN</td>\n",
       "      <td>NaN</td>\n",
       "      <td>NaN</td>\n",
       "      <td>NaN</td>\n",
       "      <td>50</td>\n",
       "      <td>2018-12-30</td>\n",
       "      <td>Омск</td>\n",
       "      <td>Ириней</td>\n",
       "      <td>Трофимов</td>\n",
       "      <td>2018-12-25</td>\n",
       "      <td>smart</td>\n",
       "    </tr>\n",
       "  </tbody>\n",
       "</table>\n",
       "</div>"
      ],
      "text/plain": [
       "      user_id month  duration  id  mb_used  gb_used  age churn_date      city  \\\n",
       "3214     1128   NaT       NaN NaN      NaN      NaN   51 2018-12-23  Волжский   \n",
       "3215     1371   NaT       NaN NaN      NaN      NaN   50 2018-12-30      Омск   \n",
       "\n",
       "     first_name last_name   reg_date tariff  \n",
       "3214     Ксения    Агаева 2018-12-15  ultra  \n",
       "3215     Ириней  Трофимов 2018-12-25  smart  "
      ]
     },
     "execution_count": 39,
     "metadata": {},
     "output_type": "execute_result"
    }
   ],
   "source": [
    "at[at['month'].isnull()]"
   ]
  },
  {
   "cell_type": "markdown",
   "metadata": {},
   "source": [
    "Так как эти строки не несут какой-либо информации, мы их удалим:"
   ]
  },
  {
   "cell_type": "code",
   "execution_count": 45,
   "metadata": {},
   "outputs": [],
   "source": [
    "at = at.query('user_id != 1128').reset_index(drop=True)\n",
    "at = at.query('user_id != 1371').reset_index(drop=True)"
   ]
  },
  {
   "cell_type": "markdown",
   "metadata": {},
   "source": [
    "Для дальнейшего исследования нам многие данные из таблицы пользователей не нужны, поэтому мы их просто уберем из таблицы."
   ]
  },
  {
   "cell_type": "code",
   "execution_count": 46,
   "metadata": {},
   "outputs": [
    {
     "data": {
      "text/html": [
       "<div>\n",
       "<style scoped>\n",
       "    .dataframe tbody tr th:only-of-type {\n",
       "        vertical-align: middle;\n",
       "    }\n",
       "\n",
       "    .dataframe tbody tr th {\n",
       "        vertical-align: top;\n",
       "    }\n",
       "\n",
       "    .dataframe thead th {\n",
       "        text-align: right;\n",
       "    }\n",
       "</style>\n",
       "<table border=\"1\" class=\"dataframe\">\n",
       "  <thead>\n",
       "    <tr style=\"text-align: right;\">\n",
       "      <th></th>\n",
       "      <th>user_id</th>\n",
       "      <th>reg_date</th>\n",
       "      <th>churn_date</th>\n",
       "      <th>city</th>\n",
       "      <th>month</th>\n",
       "      <th>duration</th>\n",
       "      <th>id</th>\n",
       "      <th>gb_used</th>\n",
       "      <th>tariff</th>\n",
       "    </tr>\n",
       "  </thead>\n",
       "  <tbody>\n",
       "    <tr>\n",
       "      <th>0</th>\n",
       "      <td>1000</td>\n",
       "      <td>2018-05-25</td>\n",
       "      <td>NaT</td>\n",
       "      <td>Краснодар</td>\n",
       "      <td>2018-05-01</td>\n",
       "      <td>159.0</td>\n",
       "      <td>22.0</td>\n",
       "      <td>3.0</td>\n",
       "      <td>ultra</td>\n",
       "    </tr>\n",
       "    <tr>\n",
       "      <th>1</th>\n",
       "      <td>1000</td>\n",
       "      <td>2018-05-25</td>\n",
       "      <td>NaT</td>\n",
       "      <td>Краснодар</td>\n",
       "      <td>2018-06-01</td>\n",
       "      <td>172.0</td>\n",
       "      <td>60.0</td>\n",
       "      <td>23.0</td>\n",
       "      <td>ultra</td>\n",
       "    </tr>\n",
       "    <tr>\n",
       "      <th>2</th>\n",
       "      <td>1000</td>\n",
       "      <td>2018-05-25</td>\n",
       "      <td>NaT</td>\n",
       "      <td>Краснодар</td>\n",
       "      <td>2018-07-01</td>\n",
       "      <td>340.0</td>\n",
       "      <td>75.0</td>\n",
       "      <td>14.0</td>\n",
       "      <td>ultra</td>\n",
       "    </tr>\n",
       "    <tr>\n",
       "      <th>3</th>\n",
       "      <td>1000</td>\n",
       "      <td>2018-05-25</td>\n",
       "      <td>NaT</td>\n",
       "      <td>Краснодар</td>\n",
       "      <td>2018-08-01</td>\n",
       "      <td>408.0</td>\n",
       "      <td>81.0</td>\n",
       "      <td>14.0</td>\n",
       "      <td>ultra</td>\n",
       "    </tr>\n",
       "    <tr>\n",
       "      <th>4</th>\n",
       "      <td>1000</td>\n",
       "      <td>2018-05-25</td>\n",
       "      <td>NaT</td>\n",
       "      <td>Краснодар</td>\n",
       "      <td>2018-09-01</td>\n",
       "      <td>466.0</td>\n",
       "      <td>57.0</td>\n",
       "      <td>15.0</td>\n",
       "      <td>ultra</td>\n",
       "    </tr>\n",
       "  </tbody>\n",
       "</table>\n",
       "</div>"
      ],
      "text/plain": [
       "   user_id   reg_date churn_date       city      month  duration    id  \\\n",
       "0     1000 2018-05-25        NaT  Краснодар 2018-05-01     159.0  22.0   \n",
       "1     1000 2018-05-25        NaT  Краснодар 2018-06-01     172.0  60.0   \n",
       "2     1000 2018-05-25        NaT  Краснодар 2018-07-01     340.0  75.0   \n",
       "3     1000 2018-05-25        NaT  Краснодар 2018-08-01     408.0  81.0   \n",
       "4     1000 2018-05-25        NaT  Краснодар 2018-09-01     466.0  57.0   \n",
       "\n",
       "   gb_used tariff  \n",
       "0      3.0  ultra  \n",
       "1     23.0  ultra  \n",
       "2     14.0  ultra  \n",
       "3     14.0  ultra  \n",
       "4     15.0  ultra  "
      ]
     },
     "execution_count": 46,
     "metadata": {},
     "output_type": "execute_result"
    }
   ],
   "source": [
    "at_1 = at[['user_id', 'reg_date', 'churn_date', 'city', 'month', 'duration', 'id', 'gb_used', 'tariff']].reset_index(drop=True)\n",
    "at_1.head()"
   ]
  },
  {
   "cell_type": "code",
   "execution_count": 47,
   "metadata": {},
   "outputs": [
    {
     "data": {
      "text/plain": [
       "Index(['user_id', 'reg_date', 'churn_date', 'city', 'month', 'duration', 'id',\n",
       "       'gb_used', 'tariff'],\n",
       "      dtype='object')"
      ]
     },
     "execution_count": 47,
     "metadata": {},
     "output_type": "execute_result"
    }
   ],
   "source": [
    "at_1.columns"
   ]
  },
  {
   "cell_type": "markdown",
   "metadata": {},
   "source": [
    "Для удобства переименуем столбцы."
   ]
  },
  {
   "cell_type": "code",
   "execution_count": 48,
   "metadata": {},
   "outputs": [
    {
     "data": {
      "text/html": [
       "<div>\n",
       "<style scoped>\n",
       "    .dataframe tbody tr th:only-of-type {\n",
       "        vertical-align: middle;\n",
       "    }\n",
       "\n",
       "    .dataframe tbody tr th {\n",
       "        vertical-align: top;\n",
       "    }\n",
       "\n",
       "    .dataframe thead th {\n",
       "        text-align: right;\n",
       "    }\n",
       "</style>\n",
       "<table border=\"1\" class=\"dataframe\">\n",
       "  <thead>\n",
       "    <tr style=\"text-align: right;\">\n",
       "      <th></th>\n",
       "      <th>user_id</th>\n",
       "      <th>reg_date</th>\n",
       "      <th>churn_date</th>\n",
       "      <th>city</th>\n",
       "      <th>month</th>\n",
       "      <th>duration</th>\n",
       "      <th>sms</th>\n",
       "      <th>gb_used</th>\n",
       "      <th>tariff_name</th>\n",
       "    </tr>\n",
       "  </thead>\n",
       "  <tbody>\n",
       "    <tr>\n",
       "      <th>0</th>\n",
       "      <td>1000</td>\n",
       "      <td>2018-05-25</td>\n",
       "      <td>NaT</td>\n",
       "      <td>Краснодар</td>\n",
       "      <td>2018-05-01</td>\n",
       "      <td>159.0</td>\n",
       "      <td>22.0</td>\n",
       "      <td>3.0</td>\n",
       "      <td>ultra</td>\n",
       "    </tr>\n",
       "    <tr>\n",
       "      <th>1</th>\n",
       "      <td>1000</td>\n",
       "      <td>2018-05-25</td>\n",
       "      <td>NaT</td>\n",
       "      <td>Краснодар</td>\n",
       "      <td>2018-06-01</td>\n",
       "      <td>172.0</td>\n",
       "      <td>60.0</td>\n",
       "      <td>23.0</td>\n",
       "      <td>ultra</td>\n",
       "    </tr>\n",
       "    <tr>\n",
       "      <th>2</th>\n",
       "      <td>1000</td>\n",
       "      <td>2018-05-25</td>\n",
       "      <td>NaT</td>\n",
       "      <td>Краснодар</td>\n",
       "      <td>2018-07-01</td>\n",
       "      <td>340.0</td>\n",
       "      <td>75.0</td>\n",
       "      <td>14.0</td>\n",
       "      <td>ultra</td>\n",
       "    </tr>\n",
       "    <tr>\n",
       "      <th>3</th>\n",
       "      <td>1000</td>\n",
       "      <td>2018-05-25</td>\n",
       "      <td>NaT</td>\n",
       "      <td>Краснодар</td>\n",
       "      <td>2018-08-01</td>\n",
       "      <td>408.0</td>\n",
       "      <td>81.0</td>\n",
       "      <td>14.0</td>\n",
       "      <td>ultra</td>\n",
       "    </tr>\n",
       "    <tr>\n",
       "      <th>4</th>\n",
       "      <td>1000</td>\n",
       "      <td>2018-05-25</td>\n",
       "      <td>NaT</td>\n",
       "      <td>Краснодар</td>\n",
       "      <td>2018-09-01</td>\n",
       "      <td>466.0</td>\n",
       "      <td>57.0</td>\n",
       "      <td>15.0</td>\n",
       "      <td>ultra</td>\n",
       "    </tr>\n",
       "  </tbody>\n",
       "</table>\n",
       "</div>"
      ],
      "text/plain": [
       "   user_id   reg_date churn_date       city      month  duration   sms  \\\n",
       "0     1000 2018-05-25        NaT  Краснодар 2018-05-01     159.0  22.0   \n",
       "1     1000 2018-05-25        NaT  Краснодар 2018-06-01     172.0  60.0   \n",
       "2     1000 2018-05-25        NaT  Краснодар 2018-07-01     340.0  75.0   \n",
       "3     1000 2018-05-25        NaT  Краснодар 2018-08-01     408.0  81.0   \n",
       "4     1000 2018-05-25        NaT  Краснодар 2018-09-01     466.0  57.0   \n",
       "\n",
       "   gb_used tariff_name  \n",
       "0      3.0       ultra  \n",
       "1     23.0       ultra  \n",
       "2     14.0       ultra  \n",
       "3     14.0       ultra  \n",
       "4     15.0       ultra  "
      ]
     },
     "execution_count": 48,
     "metadata": {},
     "output_type": "execute_result"
    }
   ],
   "source": [
    "at_1.columns = ['user_id', 'reg_date', 'churn_date', 'city', 'month', 'duration', 'sms', 'gb_used', 'tariff_name']\n",
    "at_1.head()"
   ]
  },
  {
   "cell_type": "markdown",
   "metadata": {},
   "source": [
    "Теперь для дальнейшего удобства я заполню все имеющиеся пропуски нулями и буду это иметь ввиду при работе со столбцом о прекращении договора."
   ]
  },
  {
   "cell_type": "code",
   "execution_count": 49,
   "metadata": {},
   "outputs": [
    {
     "data": {
      "text/plain": [
       "user_id           0\n",
       "reg_date          0\n",
       "churn_date     3027\n",
       "city              0\n",
       "month             0\n",
       "duration         40\n",
       "sms             497\n",
       "gb_used          11\n",
       "tariff_name       0\n",
       "dtype: int64"
      ]
     },
     "execution_count": 49,
     "metadata": {},
     "output_type": "execute_result"
    }
   ],
   "source": [
    "at_1.isna().sum()"
   ]
  },
  {
   "cell_type": "code",
   "execution_count": 50,
   "metadata": {},
   "outputs": [],
   "source": [
    "at_1['duration'] = at_1['duration'].fillna(0)\n",
    "at_1['sms'] = at_1['sms'].fillna(0)\n",
    "at_1['gb_used'] = at_1['gb_used'].fillna(0)\n",
    "at_1['churn_date'] = at_1['churn_date'].fillna(0)\n"
   ]
  },
  {
   "cell_type": "code",
   "execution_count": 51,
   "metadata": {},
   "outputs": [
    {
     "data": {
      "text/plain": [
       "user_id        0\n",
       "reg_date       0\n",
       "churn_date     0\n",
       "city           0\n",
       "month          0\n",
       "duration       0\n",
       "sms            0\n",
       "gb_used        0\n",
       "tariff_name    0\n",
       "dtype: int64"
      ]
     },
     "execution_count": 51,
     "metadata": {},
     "output_type": "execute_result"
    }
   ],
   "source": [
    "at_1.isna().sum()"
   ]
  },
  {
   "cell_type": "markdown",
   "metadata": {},
   "source": [
    "И в финале мы объедением полученную таблицу с таблицей по тарифам"
   ]
  },
  {
   "cell_type": "code",
   "execution_count": 52,
   "metadata": {},
   "outputs": [
    {
     "data": {
      "text/html": [
       "<div>\n",
       "<style scoped>\n",
       "    .dataframe tbody tr th:only-of-type {\n",
       "        vertical-align: middle;\n",
       "    }\n",
       "\n",
       "    .dataframe tbody tr th {\n",
       "        vertical-align: top;\n",
       "    }\n",
       "\n",
       "    .dataframe thead th {\n",
       "        text-align: right;\n",
       "    }\n",
       "</style>\n",
       "<table border=\"1\" class=\"dataframe\">\n",
       "  <thead>\n",
       "    <tr style=\"text-align: right;\">\n",
       "      <th></th>\n",
       "      <th>user_id</th>\n",
       "      <th>reg_date</th>\n",
       "      <th>churn_date</th>\n",
       "      <th>city</th>\n",
       "      <th>month</th>\n",
       "      <th>duration</th>\n",
       "      <th>sms</th>\n",
       "      <th>gb_used</th>\n",
       "      <th>tariff_name</th>\n",
       "      <th>messages_included</th>\n",
       "      <th>mb_per_month_included</th>\n",
       "      <th>minutes_included</th>\n",
       "      <th>rub_monthly_fee</th>\n",
       "      <th>rub_per_gb</th>\n",
       "      <th>rub_per_message</th>\n",
       "      <th>rub_per_minute</th>\n",
       "    </tr>\n",
       "  </thead>\n",
       "  <tbody>\n",
       "    <tr>\n",
       "      <th>0</th>\n",
       "      <td>1000</td>\n",
       "      <td>2018-05-25</td>\n",
       "      <td>0</td>\n",
       "      <td>Краснодар</td>\n",
       "      <td>2018-05-01</td>\n",
       "      <td>159.0</td>\n",
       "      <td>22.0</td>\n",
       "      <td>3.0</td>\n",
       "      <td>ultra</td>\n",
       "      <td>1000</td>\n",
       "      <td>30720</td>\n",
       "      <td>3000</td>\n",
       "      <td>1950</td>\n",
       "      <td>150</td>\n",
       "      <td>1</td>\n",
       "      <td>1</td>\n",
       "    </tr>\n",
       "    <tr>\n",
       "      <th>1</th>\n",
       "      <td>1000</td>\n",
       "      <td>2018-05-25</td>\n",
       "      <td>0</td>\n",
       "      <td>Краснодар</td>\n",
       "      <td>2018-06-01</td>\n",
       "      <td>172.0</td>\n",
       "      <td>60.0</td>\n",
       "      <td>23.0</td>\n",
       "      <td>ultra</td>\n",
       "      <td>1000</td>\n",
       "      <td>30720</td>\n",
       "      <td>3000</td>\n",
       "      <td>1950</td>\n",
       "      <td>150</td>\n",
       "      <td>1</td>\n",
       "      <td>1</td>\n",
       "    </tr>\n",
       "    <tr>\n",
       "      <th>2</th>\n",
       "      <td>1000</td>\n",
       "      <td>2018-05-25</td>\n",
       "      <td>0</td>\n",
       "      <td>Краснодар</td>\n",
       "      <td>2018-07-01</td>\n",
       "      <td>340.0</td>\n",
       "      <td>75.0</td>\n",
       "      <td>14.0</td>\n",
       "      <td>ultra</td>\n",
       "      <td>1000</td>\n",
       "      <td>30720</td>\n",
       "      <td>3000</td>\n",
       "      <td>1950</td>\n",
       "      <td>150</td>\n",
       "      <td>1</td>\n",
       "      <td>1</td>\n",
       "    </tr>\n",
       "    <tr>\n",
       "      <th>3</th>\n",
       "      <td>1000</td>\n",
       "      <td>2018-05-25</td>\n",
       "      <td>0</td>\n",
       "      <td>Краснодар</td>\n",
       "      <td>2018-08-01</td>\n",
       "      <td>408.0</td>\n",
       "      <td>81.0</td>\n",
       "      <td>14.0</td>\n",
       "      <td>ultra</td>\n",
       "      <td>1000</td>\n",
       "      <td>30720</td>\n",
       "      <td>3000</td>\n",
       "      <td>1950</td>\n",
       "      <td>150</td>\n",
       "      <td>1</td>\n",
       "      <td>1</td>\n",
       "    </tr>\n",
       "    <tr>\n",
       "      <th>4</th>\n",
       "      <td>1000</td>\n",
       "      <td>2018-05-25</td>\n",
       "      <td>0</td>\n",
       "      <td>Краснодар</td>\n",
       "      <td>2018-09-01</td>\n",
       "      <td>466.0</td>\n",
       "      <td>57.0</td>\n",
       "      <td>15.0</td>\n",
       "      <td>ultra</td>\n",
       "      <td>1000</td>\n",
       "      <td>30720</td>\n",
       "      <td>3000</td>\n",
       "      <td>1950</td>\n",
       "      <td>150</td>\n",
       "      <td>1</td>\n",
       "      <td>1</td>\n",
       "    </tr>\n",
       "  </tbody>\n",
       "</table>\n",
       "</div>"
      ],
      "text/plain": [
       "   user_id   reg_date churn_date       city      month  duration   sms  \\\n",
       "0     1000 2018-05-25          0  Краснодар 2018-05-01     159.0  22.0   \n",
       "1     1000 2018-05-25          0  Краснодар 2018-06-01     172.0  60.0   \n",
       "2     1000 2018-05-25          0  Краснодар 2018-07-01     340.0  75.0   \n",
       "3     1000 2018-05-25          0  Краснодар 2018-08-01     408.0  81.0   \n",
       "4     1000 2018-05-25          0  Краснодар 2018-09-01     466.0  57.0   \n",
       "\n",
       "   gb_used tariff_name  messages_included  mb_per_month_included  \\\n",
       "0      3.0       ultra               1000                  30720   \n",
       "1     23.0       ultra               1000                  30720   \n",
       "2     14.0       ultra               1000                  30720   \n",
       "3     14.0       ultra               1000                  30720   \n",
       "4     15.0       ultra               1000                  30720   \n",
       "\n",
       "   minutes_included  rub_monthly_fee  rub_per_gb  rub_per_message  \\\n",
       "0              3000             1950         150                1   \n",
       "1              3000             1950         150                1   \n",
       "2              3000             1950         150                1   \n",
       "3              3000             1950         150                1   \n",
       "4              3000             1950         150                1   \n",
       "\n",
       "   rub_per_minute  \n",
       "0               1  \n",
       "1               1  \n",
       "2               1  \n",
       "3               1  \n",
       "4               1  "
      ]
     },
     "execution_count": 52,
     "metadata": {},
     "output_type": "execute_result"
    }
   ],
   "source": [
    "final_at = at_1.merge(tarif, how='left', on='tariff_name')\n",
    "final_at.head()"
   ]
  },
  {
   "cell_type": "code",
   "execution_count": 53,
   "metadata": {},
   "outputs": [
    {
     "name": "stdout",
     "output_type": "stream",
     "text": [
      "<class 'pandas.core.frame.DataFrame'>\n",
      "Int64Index: 3214 entries, 0 to 3213\n",
      "Data columns (total 16 columns):\n",
      " #   Column                 Non-Null Count  Dtype         \n",
      "---  ------                 --------------  -----         \n",
      " 0   user_id                3214 non-null   int64         \n",
      " 1   reg_date               3214 non-null   datetime64[ns]\n",
      " 2   churn_date             3214 non-null   object        \n",
      " 3   city                   3214 non-null   object        \n",
      " 4   month                  3214 non-null   datetime64[ns]\n",
      " 5   duration               3214 non-null   float64       \n",
      " 6   sms                    3214 non-null   float64       \n",
      " 7   gb_used                3214 non-null   float64       \n",
      " 8   tariff_name            3214 non-null   object        \n",
      " 9   messages_included      3214 non-null   int64         \n",
      " 10  mb_per_month_included  3214 non-null   int64         \n",
      " 11  minutes_included       3214 non-null   int64         \n",
      " 12  rub_monthly_fee        3214 non-null   int64         \n",
      " 13  rub_per_gb             3214 non-null   int64         \n",
      " 14  rub_per_message        3214 non-null   int64         \n",
      " 15  rub_per_minute         3214 non-null   int64         \n",
      "dtypes: datetime64[ns](2), float64(3), int64(8), object(3)\n",
      "memory usage: 426.9+ KB\n"
     ]
    }
   ],
   "source": [
    "final_at.info()"
   ]
  },
  {
   "cell_type": "markdown",
   "metadata": {},
   "source": [
    "Названия стобцов слишком длинные и это неудобно, поэтому переименуем столбцы в нашей аналитической таблице."
   ]
  },
  {
   "cell_type": "code",
   "execution_count": 54,
   "metadata": {},
   "outputs": [
    {
     "data": {
      "text/plain": [
       "Index(['user_id', 'reg_date', 'churn_date', 'city', 'month', 'duration', 'sms',\n",
       "       'gb_used', 'tariff_name', 'messages_included', 'mb_per_month_included',\n",
       "       'minutes_included', 'rub_monthly_fee', 'rub_per_gb', 'rub_per_message',\n",
       "       'rub_per_minute'],\n",
       "      dtype='object')"
      ]
     },
     "execution_count": 54,
     "metadata": {},
     "output_type": "execute_result"
    }
   ],
   "source": [
    "final_at.columns"
   ]
  },
  {
   "cell_type": "code",
   "execution_count": 55,
   "metadata": {},
   "outputs": [],
   "source": [
    "final_at.columns = ['user_id', 'reg_date', 'churn_date', 'city', 'month', 'duration', 'sms',\n",
    "       'gb_used', 'tariff_name', 'sms_inc', 'mb_inc',\n",
    "       'min_inc', 'tarif_pay', 'rub_per_gb', 'rub_per_sms',\n",
    "       'rub_per_min']"
   ]
  },
  {
   "cell_type": "markdown",
   "metadata": {},
   "source": [
    "Аналитическая таблица готова. Теперь можно приступать к расчетам и исследованию."
   ]
  },
  {
   "cell_type": "code",
   "execution_count": 56,
   "metadata": {},
   "outputs": [
    {
     "data": {
      "text/html": [
       "<div>\n",
       "<style scoped>\n",
       "    .dataframe tbody tr th:only-of-type {\n",
       "        vertical-align: middle;\n",
       "    }\n",
       "\n",
       "    .dataframe tbody tr th {\n",
       "        vertical-align: top;\n",
       "    }\n",
       "\n",
       "    .dataframe thead th {\n",
       "        text-align: right;\n",
       "    }\n",
       "</style>\n",
       "<table border=\"1\" class=\"dataframe\">\n",
       "  <thead>\n",
       "    <tr style=\"text-align: right;\">\n",
       "      <th></th>\n",
       "      <th>user_id</th>\n",
       "      <th>reg_date</th>\n",
       "      <th>churn_date</th>\n",
       "      <th>city</th>\n",
       "      <th>month</th>\n",
       "      <th>duration</th>\n",
       "      <th>sms</th>\n",
       "      <th>gb_used</th>\n",
       "      <th>tariff_name</th>\n",
       "      <th>sms_inc</th>\n",
       "      <th>mb_inc</th>\n",
       "      <th>min_inc</th>\n",
       "      <th>tarif_pay</th>\n",
       "      <th>rub_per_gb</th>\n",
       "      <th>rub_per_sms</th>\n",
       "      <th>rub_per_min</th>\n",
       "    </tr>\n",
       "  </thead>\n",
       "  <tbody>\n",
       "    <tr>\n",
       "      <th>0</th>\n",
       "      <td>1000</td>\n",
       "      <td>2018-05-25</td>\n",
       "      <td>0</td>\n",
       "      <td>Краснодар</td>\n",
       "      <td>2018-05-01</td>\n",
       "      <td>159.0</td>\n",
       "      <td>22.0</td>\n",
       "      <td>3.0</td>\n",
       "      <td>ultra</td>\n",
       "      <td>1000</td>\n",
       "      <td>30720</td>\n",
       "      <td>3000</td>\n",
       "      <td>1950</td>\n",
       "      <td>150</td>\n",
       "      <td>1</td>\n",
       "      <td>1</td>\n",
       "    </tr>\n",
       "    <tr>\n",
       "      <th>1</th>\n",
       "      <td>1000</td>\n",
       "      <td>2018-05-25</td>\n",
       "      <td>0</td>\n",
       "      <td>Краснодар</td>\n",
       "      <td>2018-06-01</td>\n",
       "      <td>172.0</td>\n",
       "      <td>60.0</td>\n",
       "      <td>23.0</td>\n",
       "      <td>ultra</td>\n",
       "      <td>1000</td>\n",
       "      <td>30720</td>\n",
       "      <td>3000</td>\n",
       "      <td>1950</td>\n",
       "      <td>150</td>\n",
       "      <td>1</td>\n",
       "      <td>1</td>\n",
       "    </tr>\n",
       "    <tr>\n",
       "      <th>2</th>\n",
       "      <td>1000</td>\n",
       "      <td>2018-05-25</td>\n",
       "      <td>0</td>\n",
       "      <td>Краснодар</td>\n",
       "      <td>2018-07-01</td>\n",
       "      <td>340.0</td>\n",
       "      <td>75.0</td>\n",
       "      <td>14.0</td>\n",
       "      <td>ultra</td>\n",
       "      <td>1000</td>\n",
       "      <td>30720</td>\n",
       "      <td>3000</td>\n",
       "      <td>1950</td>\n",
       "      <td>150</td>\n",
       "      <td>1</td>\n",
       "      <td>1</td>\n",
       "    </tr>\n",
       "    <tr>\n",
       "      <th>3</th>\n",
       "      <td>1000</td>\n",
       "      <td>2018-05-25</td>\n",
       "      <td>0</td>\n",
       "      <td>Краснодар</td>\n",
       "      <td>2018-08-01</td>\n",
       "      <td>408.0</td>\n",
       "      <td>81.0</td>\n",
       "      <td>14.0</td>\n",
       "      <td>ultra</td>\n",
       "      <td>1000</td>\n",
       "      <td>30720</td>\n",
       "      <td>3000</td>\n",
       "      <td>1950</td>\n",
       "      <td>150</td>\n",
       "      <td>1</td>\n",
       "      <td>1</td>\n",
       "    </tr>\n",
       "    <tr>\n",
       "      <th>4</th>\n",
       "      <td>1000</td>\n",
       "      <td>2018-05-25</td>\n",
       "      <td>0</td>\n",
       "      <td>Краснодар</td>\n",
       "      <td>2018-09-01</td>\n",
       "      <td>466.0</td>\n",
       "      <td>57.0</td>\n",
       "      <td>15.0</td>\n",
       "      <td>ultra</td>\n",
       "      <td>1000</td>\n",
       "      <td>30720</td>\n",
       "      <td>3000</td>\n",
       "      <td>1950</td>\n",
       "      <td>150</td>\n",
       "      <td>1</td>\n",
       "      <td>1</td>\n",
       "    </tr>\n",
       "  </tbody>\n",
       "</table>\n",
       "</div>"
      ],
      "text/plain": [
       "   user_id   reg_date churn_date       city      month  duration   sms  \\\n",
       "0     1000 2018-05-25          0  Краснодар 2018-05-01     159.0  22.0   \n",
       "1     1000 2018-05-25          0  Краснодар 2018-06-01     172.0  60.0   \n",
       "2     1000 2018-05-25          0  Краснодар 2018-07-01     340.0  75.0   \n",
       "3     1000 2018-05-25          0  Краснодар 2018-08-01     408.0  81.0   \n",
       "4     1000 2018-05-25          0  Краснодар 2018-09-01     466.0  57.0   \n",
       "\n",
       "   gb_used tariff_name  sms_inc  mb_inc  min_inc  tarif_pay  rub_per_gb  \\\n",
       "0      3.0       ultra     1000   30720     3000       1950         150   \n",
       "1     23.0       ultra     1000   30720     3000       1950         150   \n",
       "2     14.0       ultra     1000   30720     3000       1950         150   \n",
       "3     14.0       ultra     1000   30720     3000       1950         150   \n",
       "4     15.0       ultra     1000   30720     3000       1950         150   \n",
       "\n",
       "   rub_per_sms  rub_per_min  \n",
       "0            1            1  \n",
       "1            1            1  \n",
       "2            1            1  \n",
       "3            1            1  \n",
       "4            1            1  "
      ]
     },
     "execution_count": 56,
     "metadata": {},
     "output_type": "execute_result"
    }
   ],
   "source": [
    "final_at.head()"
   ]
  },
  {
   "cell_type": "markdown",
   "metadata": {},
   "source": [
    "## Рассчет помесячной выручки с каждого пользователя"
   ]
  },
  {
   "cell_type": "markdown",
   "metadata": {},
   "source": [
    "Для того, чтобы рассчитать выручку, нам необходимо создать функцию, которая будет суммировать стоимость пакета услуг и перерасход по каждому показателю, также не забываем про столбец с окончанием договора."
   ]
  },
  {
   "cell_type": "code",
   "execution_count": 57,
   "metadata": {},
   "outputs": [],
   "source": [
    "def revenue(row):\n",
    "    d = 0\n",
    "    s = 0\n",
    "    g = 0 \n",
    "    \n",
    "    if row['duration'] > row['min_inc']:\n",
    "        d = (row['duration'] - row['min_inc']) * row['rub_per_min']\n",
    "    if row['sms'] > row['sms_inc']:\n",
    "        s = (row['sms'] - row['sms_inc']) * row['rub_per_sms']\n",
    "    if row['gb_used'] > row['mb_inc'] / 1024:\n",
    "        g = (row['gb_used'] - (row['mb_inc'] / 1024)) * row['rub_per_gb']\n",
    "        \n",
    "    return row['tarif_pay'] + d + s + g  \n",
    "        \n",
    "        "
   ]
  },
  {
   "cell_type": "markdown",
   "metadata": {},
   "source": [
    "Теперь применим созданную функцию к нашей таблице, создав новый столбец с данными по выручки для каждого пользователя по месяцам."
   ]
  },
  {
   "cell_type": "code",
   "execution_count": 58,
   "metadata": {},
   "outputs": [
    {
     "data": {
      "text/html": [
       "<div>\n",
       "<style scoped>\n",
       "    .dataframe tbody tr th:only-of-type {\n",
       "        vertical-align: middle;\n",
       "    }\n",
       "\n",
       "    .dataframe tbody tr th {\n",
       "        vertical-align: top;\n",
       "    }\n",
       "\n",
       "    .dataframe thead th {\n",
       "        text-align: right;\n",
       "    }\n",
       "</style>\n",
       "<table border=\"1\" class=\"dataframe\">\n",
       "  <thead>\n",
       "    <tr style=\"text-align: right;\">\n",
       "      <th></th>\n",
       "      <th>user_id</th>\n",
       "      <th>reg_date</th>\n",
       "      <th>churn_date</th>\n",
       "      <th>city</th>\n",
       "      <th>month</th>\n",
       "      <th>duration</th>\n",
       "      <th>sms</th>\n",
       "      <th>gb_used</th>\n",
       "      <th>tariff_name</th>\n",
       "      <th>sms_inc</th>\n",
       "      <th>mb_inc</th>\n",
       "      <th>min_inc</th>\n",
       "      <th>tarif_pay</th>\n",
       "      <th>rub_per_gb</th>\n",
       "      <th>rub_per_sms</th>\n",
       "      <th>rub_per_min</th>\n",
       "      <th>revenue</th>\n",
       "    </tr>\n",
       "  </thead>\n",
       "  <tbody>\n",
       "    <tr>\n",
       "      <th>0</th>\n",
       "      <td>1000</td>\n",
       "      <td>2018-05-25</td>\n",
       "      <td>0</td>\n",
       "      <td>Краснодар</td>\n",
       "      <td>2018-05-01</td>\n",
       "      <td>159.0</td>\n",
       "      <td>22.0</td>\n",
       "      <td>3.0</td>\n",
       "      <td>ultra</td>\n",
       "      <td>1000</td>\n",
       "      <td>30720</td>\n",
       "      <td>3000</td>\n",
       "      <td>1950</td>\n",
       "      <td>150</td>\n",
       "      <td>1</td>\n",
       "      <td>1</td>\n",
       "      <td>1950.0</td>\n",
       "    </tr>\n",
       "    <tr>\n",
       "      <th>1</th>\n",
       "      <td>1000</td>\n",
       "      <td>2018-05-25</td>\n",
       "      <td>0</td>\n",
       "      <td>Краснодар</td>\n",
       "      <td>2018-06-01</td>\n",
       "      <td>172.0</td>\n",
       "      <td>60.0</td>\n",
       "      <td>23.0</td>\n",
       "      <td>ultra</td>\n",
       "      <td>1000</td>\n",
       "      <td>30720</td>\n",
       "      <td>3000</td>\n",
       "      <td>1950</td>\n",
       "      <td>150</td>\n",
       "      <td>1</td>\n",
       "      <td>1</td>\n",
       "      <td>1950.0</td>\n",
       "    </tr>\n",
       "    <tr>\n",
       "      <th>2</th>\n",
       "      <td>1000</td>\n",
       "      <td>2018-05-25</td>\n",
       "      <td>0</td>\n",
       "      <td>Краснодар</td>\n",
       "      <td>2018-07-01</td>\n",
       "      <td>340.0</td>\n",
       "      <td>75.0</td>\n",
       "      <td>14.0</td>\n",
       "      <td>ultra</td>\n",
       "      <td>1000</td>\n",
       "      <td>30720</td>\n",
       "      <td>3000</td>\n",
       "      <td>1950</td>\n",
       "      <td>150</td>\n",
       "      <td>1</td>\n",
       "      <td>1</td>\n",
       "      <td>1950.0</td>\n",
       "    </tr>\n",
       "    <tr>\n",
       "      <th>3</th>\n",
       "      <td>1000</td>\n",
       "      <td>2018-05-25</td>\n",
       "      <td>0</td>\n",
       "      <td>Краснодар</td>\n",
       "      <td>2018-08-01</td>\n",
       "      <td>408.0</td>\n",
       "      <td>81.0</td>\n",
       "      <td>14.0</td>\n",
       "      <td>ultra</td>\n",
       "      <td>1000</td>\n",
       "      <td>30720</td>\n",
       "      <td>3000</td>\n",
       "      <td>1950</td>\n",
       "      <td>150</td>\n",
       "      <td>1</td>\n",
       "      <td>1</td>\n",
       "      <td>1950.0</td>\n",
       "    </tr>\n",
       "    <tr>\n",
       "      <th>4</th>\n",
       "      <td>1000</td>\n",
       "      <td>2018-05-25</td>\n",
       "      <td>0</td>\n",
       "      <td>Краснодар</td>\n",
       "      <td>2018-09-01</td>\n",
       "      <td>466.0</td>\n",
       "      <td>57.0</td>\n",
       "      <td>15.0</td>\n",
       "      <td>ultra</td>\n",
       "      <td>1000</td>\n",
       "      <td>30720</td>\n",
       "      <td>3000</td>\n",
       "      <td>1950</td>\n",
       "      <td>150</td>\n",
       "      <td>1</td>\n",
       "      <td>1</td>\n",
       "      <td>1950.0</td>\n",
       "    </tr>\n",
       "  </tbody>\n",
       "</table>\n",
       "</div>"
      ],
      "text/plain": [
       "   user_id   reg_date churn_date       city      month  duration   sms  \\\n",
       "0     1000 2018-05-25          0  Краснодар 2018-05-01     159.0  22.0   \n",
       "1     1000 2018-05-25          0  Краснодар 2018-06-01     172.0  60.0   \n",
       "2     1000 2018-05-25          0  Краснодар 2018-07-01     340.0  75.0   \n",
       "3     1000 2018-05-25          0  Краснодар 2018-08-01     408.0  81.0   \n",
       "4     1000 2018-05-25          0  Краснодар 2018-09-01     466.0  57.0   \n",
       "\n",
       "   gb_used tariff_name  sms_inc  mb_inc  min_inc  tarif_pay  rub_per_gb  \\\n",
       "0      3.0       ultra     1000   30720     3000       1950         150   \n",
       "1     23.0       ultra     1000   30720     3000       1950         150   \n",
       "2     14.0       ultra     1000   30720     3000       1950         150   \n",
       "3     14.0       ultra     1000   30720     3000       1950         150   \n",
       "4     15.0       ultra     1000   30720     3000       1950         150   \n",
       "\n",
       "   rub_per_sms  rub_per_min  revenue  \n",
       "0            1            1   1950.0  \n",
       "1            1            1   1950.0  \n",
       "2            1            1   1950.0  \n",
       "3            1            1   1950.0  \n",
       "4            1            1   1950.0  "
      ]
     },
     "execution_count": 58,
     "metadata": {},
     "output_type": "execute_result"
    }
   ],
   "source": [
    "final_at['revenue'] = final_at.apply(revenue, axis=1)\n",
    "final_at.head()"
   ]
  },
  {
   "cell_type": "code",
   "execution_count": 59,
   "metadata": {},
   "outputs": [
    {
     "name": "stdout",
     "output_type": "stream",
     "text": [
      "<class 'pandas.core.frame.DataFrame'>\n",
      "Int64Index: 3214 entries, 0 to 3213\n",
      "Data columns (total 17 columns):\n",
      " #   Column       Non-Null Count  Dtype         \n",
      "---  ------       --------------  -----         \n",
      " 0   user_id      3214 non-null   int64         \n",
      " 1   reg_date     3214 non-null   datetime64[ns]\n",
      " 2   churn_date   3214 non-null   object        \n",
      " 3   city         3214 non-null   object        \n",
      " 4   month        3214 non-null   datetime64[ns]\n",
      " 5   duration     3214 non-null   float64       \n",
      " 6   sms          3214 non-null   float64       \n",
      " 7   gb_used      3214 non-null   float64       \n",
      " 8   tariff_name  3214 non-null   object        \n",
      " 9   sms_inc      3214 non-null   int64         \n",
      " 10  mb_inc       3214 non-null   int64         \n",
      " 11  min_inc      3214 non-null   int64         \n",
      " 12  tarif_pay    3214 non-null   int64         \n",
      " 13  rub_per_gb   3214 non-null   int64         \n",
      " 14  rub_per_sms  3214 non-null   int64         \n",
      " 15  rub_per_min  3214 non-null   int64         \n",
      " 16  revenue      3214 non-null   float64       \n",
      "dtypes: datetime64[ns](2), float64(4), int64(8), object(3)\n",
      "memory usage: 452.0+ KB\n"
     ]
    }
   ],
   "source": [
    "final_at.info()"
   ]
  },
  {
   "cell_type": "markdown",
   "metadata": {},
   "source": [
    "Сразу поменяем тип данных в столбце month:"
   ]
  },
  {
   "cell_type": "code",
   "execution_count": 60,
   "metadata": {},
   "outputs": [],
   "source": [
    "final_at['month'] = pd.to_datetime(final_at['month'], format='%Y-%m-%d')"
   ]
  },
  {
   "cell_type": "code",
   "execution_count": 61,
   "metadata": {},
   "outputs": [],
   "source": [
    "final_at['month'] = final_at['month'].dt.date"
   ]
  },
  {
   "cell_type": "markdown",
   "metadata": {},
   "source": [
    "## Исследование данных"
   ]
  },
  {
   "cell_type": "markdown",
   "metadata": {},
   "source": [
    "Посмотрим общую выручку по тарифам, а также среднюю."
   ]
  },
  {
   "cell_type": "code",
   "execution_count": 62,
   "metadata": {
    "scrolled": true
   },
   "outputs": [
    {
     "data": {
      "text/html": [
       "<style type=\"text/css\">\n",
       "</style>\n",
       "<table id=\"T_8b1a4\">\n",
       "  <thead>\n",
       "    <tr>\n",
       "      <th class=\"blank level0\" >&nbsp;</th>\n",
       "      <th id=\"T_8b1a4_level0_col0\" class=\"col_heading level0 col0\" >count</th>\n",
       "      <th id=\"T_8b1a4_level0_col1\" class=\"col_heading level0 col1\" >mean</th>\n",
       "      <th id=\"T_8b1a4_level0_col2\" class=\"col_heading level0 col2\" >sum</th>\n",
       "    </tr>\n",
       "    <tr>\n",
       "      <th class=\"index_name level0\" >tariff_name</th>\n",
       "      <th class=\"blank col0\" >&nbsp;</th>\n",
       "      <th class=\"blank col1\" >&nbsp;</th>\n",
       "      <th class=\"blank col2\" >&nbsp;</th>\n",
       "    </tr>\n",
       "  </thead>\n",
       "  <tbody>\n",
       "    <tr>\n",
       "      <th id=\"T_8b1a4_level0_row0\" class=\"row_heading level0 row0\" >smart</th>\n",
       "      <td id=\"T_8b1a4_row0_col0\" class=\"data row0 col0\" >2229.0</td>\n",
       "      <td id=\"T_8b1a4_row0_col1\" class=\"data row0 col1\" >1290.0</td>\n",
       "      <td id=\"T_8b1a4_row0_col2\" class=\"data row0 col2\" >2875351.0</td>\n",
       "    </tr>\n",
       "    <tr>\n",
       "      <th id=\"T_8b1a4_level0_row1\" class=\"row_heading level0 row1\" >ultra</th>\n",
       "      <td id=\"T_8b1a4_row1_col0\" class=\"data row1 col0\" >985.0</td>\n",
       "      <td id=\"T_8b1a4_row1_col1\" class=\"data row1 col1\" >2070.2</td>\n",
       "      <td id=\"T_8b1a4_row1_col2\" class=\"data row1 col2\" >2039100.0</td>\n",
       "    </tr>\n",
       "  </tbody>\n",
       "</table>\n"
      ],
      "text/plain": [
       "<pandas.io.formats.style.Styler at 0x14ec68550>"
      ]
     },
     "execution_count": 62,
     "metadata": {},
     "output_type": "execute_result"
    }
   ],
   "source": [
    "user_tar = final_at.pivot_table(index='tariff_name', values='revenue', aggfunc=('count', 'sum', 'mean'))\n",
    "user_tar.style.format(\"{:.1f}\")"
   ]
  },
  {
   "cell_type": "markdown",
   "metadata": {},
   "source": [
    "### Анализ данных по месяцам по каждому тарифу"
   ]
  },
  {
   "cell_type": "markdown",
   "metadata": {},
   "source": [
    "Посмотрим расход смс-сообщений по каждому месяцу по тарифам. "
   ]
  },
  {
   "cell_type": "code",
   "execution_count": 63,
   "metadata": {},
   "outputs": [
    {
     "data": {
      "text/html": [
       "<div>\n",
       "<style scoped>\n",
       "    .dataframe tbody tr th:only-of-type {\n",
       "        vertical-align: middle;\n",
       "    }\n",
       "\n",
       "    .dataframe tbody tr th {\n",
       "        vertical-align: top;\n",
       "    }\n",
       "\n",
       "    .dataframe thead th {\n",
       "        text-align: right;\n",
       "    }\n",
       "</style>\n",
       "<table border=\"1\" class=\"dataframe\">\n",
       "  <thead>\n",
       "    <tr style=\"text-align: right;\">\n",
       "      <th></th>\n",
       "      <th>month</th>\n",
       "      <th>tariff_name</th>\n",
       "      <th>count</th>\n",
       "      <th>mean</th>\n",
       "      <th>median</th>\n",
       "      <th>sum</th>\n",
       "    </tr>\n",
       "  </thead>\n",
       "  <tbody>\n",
       "    <tr>\n",
       "      <th>0</th>\n",
       "      <td>2018-01-01</td>\n",
       "      <td>smart</td>\n",
       "      <td>34</td>\n",
       "      <td>18.235294</td>\n",
       "      <td>15.0</td>\n",
       "      <td>620.0</td>\n",
       "    </tr>\n",
       "    <tr>\n",
       "      <th>1</th>\n",
       "      <td>2018-01-01</td>\n",
       "      <td>ultra</td>\n",
       "      <td>9</td>\n",
       "      <td>33.777778</td>\n",
       "      <td>32.0</td>\n",
       "      <td>304.0</td>\n",
       "    </tr>\n",
       "    <tr>\n",
       "      <th>2</th>\n",
       "      <td>2018-02-01</td>\n",
       "      <td>smart</td>\n",
       "      <td>58</td>\n",
       "      <td>24.086207</td>\n",
       "      <td>20.0</td>\n",
       "      <td>1397.0</td>\n",
       "    </tr>\n",
       "    <tr>\n",
       "      <th>3</th>\n",
       "      <td>2018-02-01</td>\n",
       "      <td>ultra</td>\n",
       "      <td>24</td>\n",
       "      <td>21.958333</td>\n",
       "      <td>5.5</td>\n",
       "      <td>527.0</td>\n",
       "    </tr>\n",
       "    <tr>\n",
       "      <th>4</th>\n",
       "      <td>2018-03-01</td>\n",
       "      <td>smart</td>\n",
       "      <td>77</td>\n",
       "      <td>31.857143</td>\n",
       "      <td>23.0</td>\n",
       "      <td>2453.0</td>\n",
       "    </tr>\n",
       "  </tbody>\n",
       "</table>\n",
       "</div>"
      ],
      "text/plain": [
       "        month tariff_name  count       mean  median     sum\n",
       "0  2018-01-01       smart     34  18.235294    15.0   620.0\n",
       "1  2018-01-01       ultra      9  33.777778    32.0   304.0\n",
       "2  2018-02-01       smart     58  24.086207    20.0  1397.0\n",
       "3  2018-02-01       ultra     24  21.958333     5.5   527.0\n",
       "4  2018-03-01       smart     77  31.857143    23.0  2453.0"
      ]
     },
     "execution_count": 63,
     "metadata": {},
     "output_type": "execute_result"
    }
   ],
   "source": [
    "us_sms = final_at.pivot_table(index=['month', 'tariff_name'], \n",
    "                              values='sms', \n",
    "                              aggfunc=('count', 'mean', 'sum', 'median')).reset_index()\n",
    "us_sms.head()"
   ]
  },
  {
   "cell_type": "code",
   "execution_count": 64,
   "metadata": {},
   "outputs": [
    {
     "data": {
      "image/png": "[encoded data removed]",
      "text/plain": [
       "<Figure size 1080x504 with 1 Axes>"
      ]
     },
     "metadata": {
      "needs_background": "light"
     },
     "output_type": "display_data"
    }
   ],
   "source": [
    "plt.figure(figsize=(15, 7))\n",
    "sns.barplot(x='month', y='median', data=us_sms, hue='tariff_name')\n",
    "plt.title('Диаграмма распределения количества сообщений по месяцам с разбивкой по тарифам')\n",
    "plt.xlabel('Месяц')\n",
    "plt.ylabel('Количество сообщений')\n",
    "plt.grid()\n",
    "plt.show()"
   ]
  },
  {
   "cell_type": "markdown",
   "metadata": {},
   "source": [
    "На графике видно, что пользователи с тарифом ultra используют больше сообщений в среднем в месяц. Это логично, так как у них в пакет услуг включено 1000 бесплатных сообщений. Но при этом, самый высокий средний показатель - 62 сообщения, это всего лишь на 12 сообщений больше пакета smart."
   ]
  },
  {
   "cell_type": "markdown",
   "metadata": {},
   "source": [
    "Теперь рассмотрим распределение по звонкам:"
   ]
  },
  {
   "cell_type": "code",
   "execution_count": 65,
   "metadata": {},
   "outputs": [
    {
     "data": {
      "text/html": [
       "<div>\n",
       "<style scoped>\n",
       "    .dataframe tbody tr th:only-of-type {\n",
       "        vertical-align: middle;\n",
       "    }\n",
       "\n",
       "    .dataframe tbody tr th {\n",
       "        vertical-align: top;\n",
       "    }\n",
       "\n",
       "    .dataframe thead th {\n",
       "        text-align: right;\n",
       "    }\n",
       "</style>\n",
       "<table border=\"1\" class=\"dataframe\">\n",
       "  <thead>\n",
       "    <tr style=\"text-align: right;\">\n",
       "      <th></th>\n",
       "      <th>month</th>\n",
       "      <th>tariff_name</th>\n",
       "      <th>count</th>\n",
       "      <th>mean</th>\n",
       "      <th>median</th>\n",
       "      <th>sum</th>\n",
       "    </tr>\n",
       "  </thead>\n",
       "  <tbody>\n",
       "    <tr>\n",
       "      <th>0</th>\n",
       "      <td>2018-01-01</td>\n",
       "      <td>smart</td>\n",
       "      <td>34</td>\n",
       "      <td>203.852941</td>\n",
       "      <td>162.5</td>\n",
       "      <td>6931.0</td>\n",
       "    </tr>\n",
       "    <tr>\n",
       "      <th>1</th>\n",
       "      <td>2018-01-01</td>\n",
       "      <td>ultra</td>\n",
       "      <td>9</td>\n",
       "      <td>428.111111</td>\n",
       "      <td>382.0</td>\n",
       "      <td>3853.0</td>\n",
       "    </tr>\n",
       "    <tr>\n",
       "      <th>2</th>\n",
       "      <td>2018-02-01</td>\n",
       "      <td>smart</td>\n",
       "      <td>58</td>\n",
       "      <td>298.689655</td>\n",
       "      <td>258.0</td>\n",
       "      <td>17324.0</td>\n",
       "    </tr>\n",
       "    <tr>\n",
       "      <th>3</th>\n",
       "      <td>2018-02-01</td>\n",
       "      <td>ultra</td>\n",
       "      <td>24</td>\n",
       "      <td>297.125000</td>\n",
       "      <td>168.0</td>\n",
       "      <td>7131.0</td>\n",
       "    </tr>\n",
       "    <tr>\n",
       "      <th>4</th>\n",
       "      <td>2018-03-01</td>\n",
       "      <td>smart</td>\n",
       "      <td>77</td>\n",
       "      <td>390.051948</td>\n",
       "      <td>409.0</td>\n",
       "      <td>30034.0</td>\n",
       "    </tr>\n",
       "  </tbody>\n",
       "</table>\n",
       "</div>"
      ],
      "text/plain": [
       "        month tariff_name  count        mean  median      sum\n",
       "0  2018-01-01       smart     34  203.852941   162.5   6931.0\n",
       "1  2018-01-01       ultra      9  428.111111   382.0   3853.0\n",
       "2  2018-02-01       smart     58  298.689655   258.0  17324.0\n",
       "3  2018-02-01       ultra     24  297.125000   168.0   7131.0\n",
       "4  2018-03-01       smart     77  390.051948   409.0  30034.0"
      ]
     },
     "execution_count": 65,
     "metadata": {},
     "output_type": "execute_result"
    }
   ],
   "source": [
    "us_call = final_at.pivot_table(index=['month', 'tariff_name'], \n",
    "                               values='duration', \n",
    "                               aggfunc=('count', 'mean', 'sum', 'median')).reset_index()\n",
    "us_call.head()"
   ]
  },
  {
   "cell_type": "markdown",
   "metadata": {},
   "source": [
    "Визуализируем для наглядности:"
   ]
  },
  {
   "cell_type": "code",
   "execution_count": 66,
   "metadata": {},
   "outputs": [
    {
     "data": {
      "image/png": "[encoded data removed]",
      "text/plain": [
       "<Figure size 1080x504 with 1 Axes>"
      ]
     },
     "metadata": {
      "needs_background": "light"
     },
     "output_type": "display_data"
    }
   ],
   "source": [
    "plt.figure(figsize=(15, 7))\n",
    "sns.barplot(x='month', y='median', data=us_call, hue='tariff_name')\n",
    "plt.title('Диаграмма распределения количества исрасходованных минут по месяцам с разбивкой по тарифам')\n",
    "plt.xlabel('Месяц')\n",
    "plt.ylabel('Количество минут')\n",
    "plt.grid()\n",
    "plt.show()"
   ]
  },
  {
   "cell_type": "markdown",
   "metadata": {},
   "source": [
    "Пользователи тарифа ultra в среднем не превышают 600 минут в месяц. Для бизнеса это выгоднее, так как пользователи не используют полностью включенный пакет."
   ]
  },
  {
   "cell_type": "markdown",
   "metadata": {},
   "source": [
    "Рассмотрим теперь на распределение интернет-трафика по тарифам:"
   ]
  },
  {
   "cell_type": "code",
   "execution_count": 67,
   "metadata": {},
   "outputs": [
    {
     "data": {
      "text/html": [
       "<div>\n",
       "<style scoped>\n",
       "    .dataframe tbody tr th:only-of-type {\n",
       "        vertical-align: middle;\n",
       "    }\n",
       "\n",
       "    .dataframe tbody tr th {\n",
       "        vertical-align: top;\n",
       "    }\n",
       "\n",
       "    .dataframe thead th {\n",
       "        text-align: right;\n",
       "    }\n",
       "</style>\n",
       "<table border=\"1\" class=\"dataframe\">\n",
       "  <thead>\n",
       "    <tr style=\"text-align: right;\">\n",
       "      <th></th>\n",
       "      <th>month</th>\n",
       "      <th>tariff_name</th>\n",
       "      <th>count</th>\n",
       "      <th>mean</th>\n",
       "      <th>median</th>\n",
       "      <th>sum</th>\n",
       "    </tr>\n",
       "  </thead>\n",
       "  <tbody>\n",
       "    <tr>\n",
       "      <th>0</th>\n",
       "      <td>2018-01-01</td>\n",
       "      <td>smart</td>\n",
       "      <td>34</td>\n",
       "      <td>8.735294</td>\n",
       "      <td>7.0</td>\n",
       "      <td>297.0</td>\n",
       "    </tr>\n",
       "    <tr>\n",
       "      <th>1</th>\n",
       "      <td>2018-01-01</td>\n",
       "      <td>ultra</td>\n",
       "      <td>9</td>\n",
       "      <td>13.222222</td>\n",
       "      <td>15.0</td>\n",
       "      <td>119.0</td>\n",
       "    </tr>\n",
       "    <tr>\n",
       "      <th>2</th>\n",
       "      <td>2018-02-01</td>\n",
       "      <td>smart</td>\n",
       "      <td>58</td>\n",
       "      <td>11.844828</td>\n",
       "      <td>13.0</td>\n",
       "      <td>687.0</td>\n",
       "    </tr>\n",
       "    <tr>\n",
       "      <th>3</th>\n",
       "      <td>2018-02-01</td>\n",
       "      <td>ultra</td>\n",
       "      <td>24</td>\n",
       "      <td>12.000000</td>\n",
       "      <td>7.5</td>\n",
       "      <td>288.0</td>\n",
       "    </tr>\n",
       "    <tr>\n",
       "      <th>4</th>\n",
       "      <td>2018-03-01</td>\n",
       "      <td>smart</td>\n",
       "      <td>77</td>\n",
       "      <td>15.233766</td>\n",
       "      <td>16.0</td>\n",
       "      <td>1173.0</td>\n",
       "    </tr>\n",
       "  </tbody>\n",
       "</table>\n",
       "</div>"
      ],
      "text/plain": [
       "        month tariff_name  count       mean  median     sum\n",
       "0  2018-01-01       smart     34   8.735294     7.0   297.0\n",
       "1  2018-01-01       ultra      9  13.222222    15.0   119.0\n",
       "2  2018-02-01       smart     58  11.844828    13.0   687.0\n",
       "3  2018-02-01       ultra     24  12.000000     7.5   288.0\n",
       "4  2018-03-01       smart     77  15.233766    16.0  1173.0"
      ]
     },
     "execution_count": 67,
     "metadata": {},
     "output_type": "execute_result"
    }
   ],
   "source": [
    "us_gb = final_at.pivot_table(index=['month', 'tariff_name'], \n",
    "                             values='gb_used', \n",
    "                             aggfunc=('count', 'mean', 'sum', 'median')).reset_index()\n",
    "us_gb.head()"
   ]
  },
  {
   "cell_type": "code",
   "execution_count": 68,
   "metadata": {},
   "outputs": [
    {
     "data": {
      "image/png": "[encoded data removed]",
      "text/plain": [
       "<Figure size 1080x504 with 1 Axes>"
      ]
     },
     "metadata": {
      "needs_background": "light"
     },
     "output_type": "display_data"
    }
   ],
   "source": [
    "plt.figure(figsize=(15, 7))\n",
    "sns.barplot(x='month', y='median', data=us_gb, hue='tariff_name')\n",
    "plt.title('Диаграмма распределения количества исрасходованных гигабайт по месяцам с разбивкой по тарифам')\n",
    "plt.xlabel('Месяц')\n",
    "plt.ylabel('Количество гигабайт')\n",
    "plt.grid()\n",
    "plt.show()"
   ]
  },
  {
   "cell_type": "markdown",
   "metadata": {},
   "source": [
    "По интернету пользователи тарифа ultra довольно объемно используют интернет-трафик. Возможно по этой причине они и выбирают данный тариф. Хотя я бы не сказала, что разница между тарифами слишком существенна. Например, в феврале пользователи тарифа смарт больше в среднем расходовали интернет. В ноябре также разница расходов трафика между пользователями разных тарифов минимальна.\n",
    "\n",
    "\n",
    "Проанализировав выше 3 показатели, наблюдается одна закономерность: в феврале пользователи тарифа Смарт активнее пользовались доступными продуктами своего тарифа."
   ]
  },
  {
   "cell_type": "markdown",
   "metadata": {},
   "source": [
    "### Рассчет дисперсии, стандартного отклонения."
   ]
  },
  {
   "cell_type": "markdown",
   "metadata": {},
   "source": [
    "Для звонков, смс и интернет-трафика посчитаем дисперсию и стандартное отклонение."
   ]
  },
  {
   "cell_type": "code",
   "execution_count": 69,
   "metadata": {},
   "outputs": [
    {
     "data": {
      "text/html": [
       "<style type=\"text/css\">\n",
       "</style>\n",
       "<table id=\"T_a17ea\">\n",
       "  <thead>\n",
       "    <tr>\n",
       "      <th class=\"blank level0\" >&nbsp;</th>\n",
       "      <th id=\"T_a17ea_level0_col0\" class=\"col_heading level0 col0\" >var</th>\n",
       "      <th id=\"T_a17ea_level0_col1\" class=\"col_heading level0 col1\" >std</th>\n",
       "    </tr>\n",
       "    <tr>\n",
       "      <th class=\"index_name level0\" >tariff_name</th>\n",
       "      <th class=\"blank col0\" >&nbsp;</th>\n",
       "      <th class=\"blank col1\" >&nbsp;</th>\n",
       "    </tr>\n",
       "  </thead>\n",
       "  <tbody>\n",
       "    <tr>\n",
       "      <th id=\"T_a17ea_level0_row0\" class=\"row_heading level0 row0\" >smart</th>\n",
       "      <td id=\"T_a17ea_row0_col0\" class=\"data row0 col0\" >36219.3</td>\n",
       "      <td id=\"T_a17ea_row0_col1\" class=\"data row0 col1\" >190.3</td>\n",
       "    </tr>\n",
       "    <tr>\n",
       "      <th id=\"T_a17ea_level0_row1\" class=\"row_heading level0 row1\" >ultra</th>\n",
       "      <td id=\"T_a17ea_row1_col0\" class=\"data row1 col0\" >100873.6</td>\n",
       "      <td id=\"T_a17ea_row1_col1\" class=\"data row1 col1\" >317.6</td>\n",
       "    </tr>\n",
       "  </tbody>\n",
       "</table>\n"
      ],
      "text/plain": [
       "<pandas.io.formats.style.Styler at 0x14f57b790>"
      ]
     },
     "execution_count": 69,
     "metadata": {},
     "output_type": "execute_result"
    }
   ],
   "source": [
    "variance_duration = final_at.groupby('tariff_name')['duration'].agg(['var', 'std'])\n",
    "variance_duration.style.format(\"{:.1f}\")"
   ]
  },
  {
   "cell_type": "code",
   "execution_count": 70,
   "metadata": {},
   "outputs": [
    {
     "data": {
      "text/html": [
       "<style type=\"text/css\">\n",
       "</style>\n",
       "<table id=\"T_2a549\">\n",
       "  <thead>\n",
       "    <tr>\n",
       "      <th class=\"blank level0\" >&nbsp;</th>\n",
       "      <th id=\"T_2a549_level0_col0\" class=\"col_heading level0 col0\" >var</th>\n",
       "      <th id=\"T_2a549_level0_col1\" class=\"col_heading level0 col1\" >std</th>\n",
       "    </tr>\n",
       "    <tr>\n",
       "      <th class=\"index_name level0\" >tariff_name</th>\n",
       "      <th class=\"blank col0\" >&nbsp;</th>\n",
       "      <th class=\"blank col1\" >&nbsp;</th>\n",
       "    </tr>\n",
       "  </thead>\n",
       "  <tbody>\n",
       "    <tr>\n",
       "      <th id=\"T_2a549_level0_row0\" class=\"row_heading level0 row0\" >smart</th>\n",
       "      <td id=\"T_2a549_row0_col0\" class=\"data row0 col0\" >796.8</td>\n",
       "      <td id=\"T_2a549_row0_col1\" class=\"data row0 col1\" >28.2</td>\n",
       "    </tr>\n",
       "    <tr>\n",
       "      <th id=\"T_2a549_level0_row1\" class=\"row_heading level0 row1\" >ultra</th>\n",
       "      <td id=\"T_2a549_row1_col0\" class=\"data row1 col0\" >2285.3</td>\n",
       "      <td id=\"T_2a549_row1_col1\" class=\"data row1 col1\" >47.8</td>\n",
       "    </tr>\n",
       "  </tbody>\n",
       "</table>\n"
      ],
      "text/plain": [
       "<pandas.io.formats.style.Styler at 0x14f7c1e50>"
      ]
     },
     "execution_count": 70,
     "metadata": {},
     "output_type": "execute_result"
    }
   ],
   "source": [
    "variance_sms = final_at.groupby('tariff_name')['sms'].agg(['var', 'std'])\n",
    "variance_sms.style.format(\"{:.1f}\")"
   ]
  },
  {
   "cell_type": "code",
   "execution_count": 71,
   "metadata": {},
   "outputs": [
    {
     "data": {
      "text/html": [
       "<style type=\"text/css\">\n",
       "</style>\n",
       "<table id=\"T_1adb3\">\n",
       "  <thead>\n",
       "    <tr>\n",
       "      <th class=\"blank level0\" >&nbsp;</th>\n",
       "      <th id=\"T_1adb3_level0_col0\" class=\"col_heading level0 col0\" >var</th>\n",
       "      <th id=\"T_1adb3_level0_col1\" class=\"col_heading level0 col1\" >std</th>\n",
       "    </tr>\n",
       "    <tr>\n",
       "      <th class=\"index_name level0\" >tariff_name</th>\n",
       "      <th class=\"blank col0\" >&nbsp;</th>\n",
       "      <th class=\"blank col1\" >&nbsp;</th>\n",
       "    </tr>\n",
       "  </thead>\n",
       "  <tbody>\n",
       "    <tr>\n",
       "      <th id=\"T_1adb3_level0_row0\" class=\"row_heading level0 row0\" >smart</th>\n",
       "      <td id=\"T_1adb3_row0_col0\" class=\"data row0 col0\" >33.0</td>\n",
       "      <td id=\"T_1adb3_row0_col1\" class=\"data row0 col1\" >5.7</td>\n",
       "    </tr>\n",
       "    <tr>\n",
       "      <th id=\"T_1adb3_level0_row1\" class=\"row_heading level0 row1\" >ultra</th>\n",
       "      <td id=\"T_1adb3_row1_col0\" class=\"data row1 col0\" >97.1</td>\n",
       "      <td id=\"T_1adb3_row1_col1\" class=\"data row1 col1\" >9.9</td>\n",
       "    </tr>\n",
       "  </tbody>\n",
       "</table>\n"
      ],
      "text/plain": [
       "<pandas.io.formats.style.Styler at 0x14f57bbe0>"
      ]
     },
     "execution_count": 71,
     "metadata": {},
     "output_type": "execute_result"
    }
   ],
   "source": [
    "variance_gb = final_at.groupby('tariff_name')['gb_used'].agg(['var', 'std'])\n",
    "variance_gb.style.format(\"{:.1f}\")"
   ]
  },
  {
   "cell_type": "markdown",
   "metadata": {},
   "source": [
    "### Построение гистограмм по основным показателям"
   ]
  },
  {
   "cell_type": "markdown",
   "metadata": {},
   "source": [
    "Для удобства выведем отдельные таблицы для каждого тарифа."
   ]
  },
  {
   "cell_type": "code",
   "execution_count": 72,
   "metadata": {},
   "outputs": [],
   "source": [
    "final_at_smart = final_at.query('tariff_name == \"smart\"').reset_index()\n",
    "final_at_ultra = final_at.query('tariff_name == \"ultra\"').reset_index()"
   ]
  },
  {
   "cell_type": "markdown",
   "metadata": {},
   "source": [
    "#### Гистограмма сообщений"
   ]
  },
  {
   "cell_type": "markdown",
   "metadata": {},
   "source": [
    "Теперь построим графики для каждого тарифа по основным показателям."
   ]
  },
  {
   "cell_type": "code",
   "execution_count": 73,
   "metadata": {},
   "outputs": [
    {
     "data": {
      "image/png": "[encoded data removed]",
      "text/plain": [
       "<Figure size 1080x504 with 1 Axes>"
      ]
     },
     "metadata": {
      "needs_background": "light"
     },
     "output_type": "display_data"
    }
   ],
   "source": [
    "plt.figure(figsize=(15, 7))\n",
    "final_at_smart['sms'].hist(bins=10, range=(-50, 250))\n",
    "plt.title('Количество израсходованных смс пользователями тарифа \"Смарт\"')\n",
    "plt.xlabel('Количество сообщений')\n",
    "plt.ylabel('Количество пользователей')\n",
    "plt.show()"
   ]
  },
  {
   "cell_type": "markdown",
   "metadata": {},
   "source": [
    "Начнем с сообщений для тарифа smart. Здесь видно, что показатели в среднем варьируются в диапазоне от 12 до 35. Также помним про лимит сообщений по данному тарифу, он составляет 50 смс. "
   ]
  },
  {
   "cell_type": "code",
   "execution_count": 74,
   "metadata": {},
   "outputs": [
    {
     "data": {
      "image/png": "[encoded data removed]",
      "text/plain": [
       "<Figure size 1080x504 with 1 Axes>"
      ]
     },
     "metadata": {
      "needs_background": "light"
     },
     "output_type": "display_data"
    }
   ],
   "source": [
    "plt.figure(figsize=(15, 7))\n",
    "final_at_ultra['sms'].hist(bins=10, range=(-50, 250))\n",
    "plt.title('Количество израсходованных смс пользователями тарифа \"Ультра\"')\n",
    "plt.xlabel('Количество сообщений')\n",
    "plt.ylabel('Количество пользователей')\n",
    "plt.show()"
   ]
  },
  {
   "cell_type": "markdown",
   "metadata": {},
   "source": [
    "Если рассматривать тариф ultra, то на графике видно, что пользователи в основном используют до 100 сообщений, а среднем около 60, но также есть исключения. Полный пакет, который включает в себя 1000 сообщений, полностью не используется."
   ]
  },
  {
   "cell_type": "code",
   "execution_count": 75,
   "metadata": {},
   "outputs": [
    {
     "data": {
      "image/png": "[encoded data removed]",
      "text/plain": [
       "<Figure size 1080x504 with 1 Axes>"
      ]
     },
     "metadata": {
      "needs_background": "light"
     },
     "output_type": "display_data"
    }
   ],
   "source": [
    "plt.figure(figsize=(15, 7))\n",
    "final_at_smart['sms'].hist(bins=20, range=(0, 250))\n",
    "final_at_ultra['sms'].hist(bins=20, range=(0, 250), alpha=0.6)\n",
    "plt.title('Количество израсходованных смс пользователями тарифов \"Смарт\" и \"Ультра\"')\n",
    "plt.xlabel('Количество сообщений')\n",
    "plt.ylabel('Количество пользователей')\n",
    "plt.show()"
   ]
  },
  {
   "cell_type": "markdown",
   "metadata": {},
   "source": [
    "Для наглядности посмотрим гистограмму сразу для двух тарифов. На самом деле, если учесть, что пользователей разное количество, то можно увидеть, что они не сильно отличаются, большинству клиентов достаточно до 60-70 сообщений в месяц. Также, все три графика отображает частоту значений в скошенном вправо наборе данных."
   ]
  },
  {
   "cell_type": "markdown",
   "metadata": {},
   "source": [
    "#### Гистограмма звонков"
   ]
  },
  {
   "cell_type": "markdown",
   "metadata": {},
   "source": [
    "Теперь построим гистограммы и посмотрим испозованные минуты."
   ]
  },
  {
   "cell_type": "code",
   "execution_count": 76,
   "metadata": {},
   "outputs": [
    {
     "data": {
      "image/png": "[encoded data removed]",
      "text/plain": [
       "<Figure size 1080x504 with 1 Axes>"
      ]
     },
     "metadata": {
      "needs_background": "light"
     },
     "output_type": "display_data"
    }
   ],
   "source": [
    "plt.figure(figsize=(15, 7))\n",
    "final_at_smart['duration'].hist(bins=15, range=(0, 1500))\n",
    "plt.title('Количество израсходованных минут пользователями тарифа \"Смарт\"')\n",
    "plt.xlabel('Количество минут')\n",
    "plt.ylabel('Количество пользователей')\n",
    "plt.show()"
   ]
  },
  {
   "cell_type": "markdown",
   "metadata": {},
   "source": [
    "Гистограмма звонков для тарифа smart. В среднем пользователи используют от 300 до 600 минут, также есть исключения, но количество таких пользователей небольшое. Большинство пользователей укладываются в свой лимит разговоров, который составляет 500 минут в месяц."
   ]
  },
  {
   "cell_type": "code",
   "execution_count": 77,
   "metadata": {},
   "outputs": [
    {
     "data": {
      "image/png": "[encoded data removed]",
      "text/plain": [
       "<Figure size 1080x504 with 1 Axes>"
      ]
     },
     "metadata": {
      "needs_background": "light"
     },
     "output_type": "display_data"
    }
   ],
   "source": [
    "plt.figure(figsize=(15, 7))\n",
    "final_at_ultra['duration'].hist(bins=15, range=(0, 1600))\n",
    "plt.title('Количество израсходованных минут пользователями тарифа \"Ультра\"')\n",
    "plt.xlabel('Количество минут')\n",
    "plt.ylabel('Количество пользователей')\n",
    "plt.show()"
   ]
  },
  {
   "cell_type": "markdown",
   "metadata": {},
   "source": [
    "Здесь уже другая картина. Если смотреть на сводную таблицу выше, то там в среднем пользователи тарифа ultra используют до 800 минут разговора при доступных 3000. Крайне малое количество пользователей превышает 800 минут. Опять же предположу, что для бизнеса это выгоднее, так как клиент покупает более дорогой тариф, но использует включенные минуты разговоров практически в рамках тарифа smart."
   ]
  },
  {
   "cell_type": "code",
   "execution_count": 78,
   "metadata": {},
   "outputs": [
    {
     "data": {
      "image/png": "[encoded data removed]",
      "text/plain": [
       "<Figure size 1080x504 with 1 Axes>"
      ]
     },
     "metadata": {
      "needs_background": "light"
     },
     "output_type": "display_data"
    }
   ],
   "source": [
    "plt.figure(figsize=(15, 7))\n",
    "final_at_smart['duration'].hist(bins=15, range=(0, 1600))\n",
    "final_at_ultra['duration'].hist(bins=15, range=(0, 1600), alpha=0.6)\n",
    "plt.title('Количество израсходованных минут пользователями тарифов \"Смарт\" и \"Ультра\"')\n",
    "plt.xlabel('Количество минут')\n",
    "plt.ylabel('Количество пользователей')\n",
    "plt.show()"
   ]
  },
  {
   "cell_type": "markdown",
   "metadata": {},
   "source": [
    "Как раз на графике видно, что пользователи двух тарифов чаще всего используют примерно одинаковое количество минут разговоров.Если рассматривать тариф \"Смарт\", то распределение данных харектиризуется как нормальное. По тарифу \"Ультра\" гистограмма скорее равномерного распределения, хотя имеет тенденцию скоса вправо."
   ]
  },
  {
   "cell_type": "markdown",
   "metadata": {},
   "source": [
    "#### Гистограмма интернет-трафика"
   ]
  },
  {
   "cell_type": "markdown",
   "metadata": {},
   "source": [
    "Осталось построить графики для интернет-трафика по каждому тарифу."
   ]
  },
  {
   "cell_type": "code",
   "execution_count": 79,
   "metadata": {},
   "outputs": [
    {
     "data": {
      "image/png": "[encoded data removed]",
      "text/plain": [
       "<Figure size 1080x504 with 1 Axes>"
      ]
     },
     "metadata": {
      "needs_background": "light"
     },
     "output_type": "display_data"
    }
   ],
   "source": [
    "plt.figure(figsize=(15, 7))\n",
    "final_at_smart['gb_used'].hist(bins=10, range=(0, 60))\n",
    "plt.title('Количество израсходованных гигабайт пользователями тарифа \"Смарт\"')\n",
    "plt.xlabel('Количество гигабайт')\n",
    "plt.ylabel('Количество пользователей')\n",
    "plt.show()"
   ]
  },
  {
   "cell_type": "markdown",
   "metadata": {},
   "source": [
    "Исходя из полученного графика видно, что пользователи тарифа smart зачастую превышают тарифный план в размере 15 гб, в среднем диапазон в пределах 1-20 гб. Из этого следуют, что за интернет клиенты доплачивают сверх пакета."
   ]
  },
  {
   "cell_type": "code",
   "execution_count": 80,
   "metadata": {},
   "outputs": [
    {
     "data": {
      "image/png": "[encoded data removed]",
      "text/plain": [
       "<Figure size 1080x504 with 1 Axes>"
      ]
     },
     "metadata": {
      "needs_background": "light"
     },
     "output_type": "display_data"
    }
   ],
   "source": [
    "plt.figure(figsize=(15, 7))\n",
    "final_at_ultra['gb_used'].hist(bins=10, range=(0, 60))\n",
    "plt.title('Количество израсходованных гигабайт пользователями тарифа \"Ультра\"')\n",
    "plt.xlabel('Количество гигабайт')\n",
    "plt.ylabel('Количество пользователей')\n",
    "plt.show()"
   ]
  },
  {
   "cell_type": "markdown",
   "metadata": {},
   "source": [
    "Пользователи тарифа ultra в основном используют интернет-трафик в диапазоне  с 10-30 гб, при лимите пакета в 30 гб, превышение лимита у незначительного числа пользователей. Также можно сказать, что пользователи активно пользуются интернетом. "
   ]
  },
  {
   "cell_type": "code",
   "execution_count": 81,
   "metadata": {},
   "outputs": [
    {
     "data": {
      "image/png": "[encoded data removed]",
      "text/plain": [
       "<Figure size 1080x504 with 1 Axes>"
      ]
     },
     "metadata": {
      "needs_background": "light"
     },
     "output_type": "display_data"
    }
   ],
   "source": [
    "plt.figure(figsize=(15, 7))\n",
    "final_at_smart['gb_used'].hist(bins=10, range=(0, 60))\n",
    "final_at_ultra['gb_used'].hist(bins=10, range=(0, 60), alpha=0.6)\n",
    "plt.title('Количество израсходованных гигабайт пользователями тарифов \"Смарт\" и \"Ультра\"')\n",
    "plt.xlabel('Количество гигабайт')\n",
    "plt.ylabel('Количество пользователей')\n",
    "plt.show()"
   ]
  },
  {
   "cell_type": "markdown",
   "metadata": {},
   "source": [
    "На общей гистограмме видно, что пользователи тарифа ultra активнее пользуются интернетом. "
   ]
  },
  {
   "cell_type": "markdown",
   "metadata": {},
   "source": [
    "## Проверка гипотез"
   ]
  },
  {
   "cell_type": "markdown",
   "metadata": {},
   "source": [
    "### Гипотеза № 1: средняя выручка пользователей тарифов «Ультра» и «Смарт» различаются"
   ]
  },
  {
   "cell_type": "markdown",
   "metadata": {},
   "source": [
    "Сформулируем нулевую и альтернативную гипотезы:\n",
    "\n",
    "Нулевая гипотеза (Н0): Средняя выручка пользователей тарифов «Ультра» и «Смарт» равны. \n",
    "\n",
    "Альтернативная гипотеза (Н1): Средняя выручка пользователей тарифов «Ультра» и средняя выручка тарифа \"Смарт\" не равны."
   ]
  },
  {
   "cell_type": "markdown",
   "metadata": {},
   "source": [
    "Для удобства выведем выручки по тарифам в отдельные списки:"
   ]
  },
  {
   "cell_type": "code",
   "execution_count": 82,
   "metadata": {},
   "outputs": [],
   "source": [
    "revenue_smart = final_at_smart['revenue'].to_list()"
   ]
  },
  {
   "cell_type": "code",
   "execution_count": 83,
   "metadata": {},
   "outputs": [],
   "source": [
    "revenue_ultra = final_at_ultra['revenue'].to_list()"
   ]
  },
  {
   "cell_type": "code",
   "execution_count": 84,
   "metadata": {},
   "outputs": [
    {
     "name": "stdout",
     "output_type": "stream",
     "text": [
      "4.2606313931076085e-250\n",
      "Отвергаем нулевую гипотезу\n"
     ]
    }
   ],
   "source": [
    "alpha = 0.05\n",
    "\n",
    "results = st.ttest_ind(\n",
    "    revenue_smart,\n",
    "    revenue_ultra,\n",
    "    equal_var=False\n",
    ")\n",
    "\n",
    "print(results.pvalue)\n",
    "\n",
    "if results.pvalue < alpha:\n",
    "    print(\"Отвергаем нулевую гипотезу\")\n",
    "else:\n",
    "    print(\"Не получилось отвергнуть нулевую гипотезу\")"
   ]
  },
  {
   "cell_type": "markdown",
   "metadata": {},
   "source": [
    "Если нулевая гипотеза о том, что средняя выручка пользователей тарифов «Ультра» и «Смарт» равны отвергается, тогда соответственно есть основания полагать, что средние выручки пользователей тарифов «Ультра» и тарифа \"Смарт\" отличаются."
   ]
  },
  {
   "cell_type": "markdown",
   "metadata": {},
   "source": [
    "### Гипотеза № 2: средняя выручка пользователей из Москвы отличается от выручки пользователей из других регионов"
   ]
  },
  {
   "cell_type": "markdown",
   "metadata": {},
   "source": [
    "Также формулируем нулевую и альтернативную гипотезы:\n",
    "\n",
    "Нулевая гипотеза (Н0): Средняя выручка пользователей из Москвы равна выручке пользователей из других регионов. \n",
    "\n",
    "Альтернативная гипотеза (Н1): Средняя выручка пользователей из Москвы и выручка пользователей из других регионов не равны.\n",
    "\n"
   ]
  },
  {
   "cell_type": "markdown",
   "metadata": {},
   "source": [
    "Выводим выручку Москвы и других регионов в отдельные списки"
   ]
  },
  {
   "cell_type": "code",
   "execution_count": 85,
   "metadata": {},
   "outputs": [],
   "source": [
    "revenue_msk = final_at.query('city == \"Москва\"').reset_index()\n",
    "revenue_msk = revenue_msk['revenue'].to_list()"
   ]
  },
  {
   "cell_type": "code",
   "execution_count": 86,
   "metadata": {},
   "outputs": [],
   "source": [
    "revenue_other = final_at.query('city != \"Москва\"').reset_index()\n",
    "revenue_other = revenue_other['revenue'].to_list()"
   ]
  },
  {
   "cell_type": "code",
   "execution_count": 87,
   "metadata": {},
   "outputs": [
    {
     "name": "stdout",
     "output_type": "stream",
     "text": [
      "0.5257376663729298\n",
      "Не получилось отвергнуть нулевую гипотезу\n"
     ]
    }
   ],
   "source": [
    "alpha = 0.05\n",
    "\n",
    "results = st.ttest_ind(\n",
    "    revenue_msk,\n",
    "    revenue_other,\n",
    "    equal_var=False\n",
    ")\n",
    "\n",
    "print(results.pvalue)\n",
    "\n",
    "if results.pvalue < alpha:\n",
    "    print(\"Отвергаем нулевую гипотезу\")\n",
    "else:\n",
    "    print(\"Не получилось отвергнуть нулевую гипотезу\")"
   ]
  },
  {
   "cell_type": "markdown",
   "metadata": {},
   "source": [
    "Исходя из результатов проведенного теста, у нас отсутствуют основания делать вывод о значимом различии средних выручек между пользователями из Москвы и пользователями других регионов."
   ]
  },
  {
   "cell_type": "markdown",
   "metadata": {},
   "source": [
    "## Дополнительный анализ выручки"
   ]
  },
  {
   "cell_type": "markdown",
   "metadata": {},
   "source": [
    "Дополнительно рассмотрим выручку 2-х тарифов:"
   ]
  },
  {
   "cell_type": "code",
   "execution_count": 88,
   "metadata": {},
   "outputs": [],
   "source": [
    "revenue = final_at.copy()"
   ]
  },
  {
   "cell_type": "code",
   "execution_count": 89,
   "metadata": {},
   "outputs": [
    {
     "data": {
      "image/png": "[encoded data removed]",
      "text/plain": [
       "<Figure size 720x288 with 1 Axes>"
      ]
     },
     "metadata": {
      "needs_background": "light"
     },
     "output_type": "display_data"
    }
   ],
   "source": [
    "(revenue\n",
    " .pivot_table(index='tariff_name', columns='month', values='user_id', aggfunc='count')\n",
    " .T\n",
    " .plot(kind='line', figsize=(10,4),  style = 'o-')\n",
    ")\n",
    "plt.title('Рост кол-ва клиентов по 2-м тарифам за год'+ \"\\n\")\n",
    "plt.xlabel('Месяц')\n",
    "plt.ylabel('Кол-во клиентов')\n",
    "plt.show()"
   ]
  },
  {
   "cell_type": "markdown",
   "metadata": {},
   "source": [
    "До марта рост двух тарифов был одинаковым, далее рост клиентов тарифа смарт увеличился.\n",
    "\n",
    "\n",
    "Рассмотрим ежемесячную выручку от одного обонента по месяцам:"
   ]
  },
  {
   "cell_type": "code",
   "execution_count": 90,
   "metadata": {},
   "outputs": [
    {
     "data": {
      "image/png": "[encoded data removed]",
      "text/plain": [
       "<Figure size 720x288 with 1 Axes>"
      ]
     },
     "metadata": {
      "needs_background": "light"
     },
     "output_type": "display_data"
    }
   ],
   "source": [
    "(revenue\n",
    " .pivot_table(index='tariff_name', columns='month', values='revenue', aggfunc='mean')\n",
    " .T\n",
    " .plot(kind='line', figsize=(10,4),  style = 'o-')\n",
    ")\n",
    "plt.title('Средняя ежемесячная выручка от одного абонента'+ \"\\n\")\n",
    "plt.xlabel('Месяц')\n",
    "plt.ylabel('Рубли')\n",
    "plt.show()"
   ]
  },
  {
   "cell_type": "markdown",
   "metadata": {},
   "source": [
    "При том, что выручка от абонента тарифа Ультра выше, видна тенденция роста средней выручки от абонента в тарифе Смарт.\n",
    "\n",
    "Теперь рассмотрим суммарную ежемесячную выручку по двум тарифам:"
   ]
  },
  {
   "cell_type": "code",
   "execution_count": 91,
   "metadata": {},
   "outputs": [
    {
     "data": {
      "image/png": "[encoded data removed]",
      "text/plain": [
       "<Figure size 720x288 with 1 Axes>"
      ]
     },
     "metadata": {
      "needs_background": "light"
     },
     "output_type": "display_data"
    }
   ],
   "source": [
    "(revenue\n",
    " .pivot_table(index='tariff_name', columns='month', values='revenue', aggfunc='sum')\n",
    " .T\n",
    " .plot(kind='line', figsize=(10,4),  style = 'o-')\n",
    ")\n",
    "plt.title('Суммарная ежемесячная выручка по 2-м тарифам'+ \"\\n\")\n",
    "plt.xlabel('Месяц')\n",
    "plt.ylabel('Рубли')\n",
    "plt.show()"
   ]
  },
  {
   "cell_type": "markdown",
   "metadata": {},
   "source": [
    "Как раз на данном графике видна тенденция роста выручки тарифов Смарт.\n",
    "\n",
    "Также выведем отдельные цифры для размышления по оттоку клиентов:"
   ]
  },
  {
   "cell_type": "code",
   "execution_count": 92,
   "metadata": {},
   "outputs": [
    {
     "name": "stdout",
     "output_type": "stream",
     "text": [
      "Количество клиентов, покинувших компанию за год, составляет:  38\n",
      "......................................................................................\n",
      "Количество клиентов, покинувших компанию за последние 4 месяца 2018 года на двух тарифах, составляет:  35\n",
      "......................................................................................\n",
      "%  от общего количества всех клиентов, покинувших компанию за последние 4 месяца 2018 года на двух тарифах, составляет:  92.1\n",
      "......................................................................................\n",
      "Распределение оттока клиентов на тарифах за последние 4 месяца 2018 года\n"
     ]
    },
    {
     "data": {
      "text/html": [
       "<div>\n",
       "<style scoped>\n",
       "    .dataframe tbody tr th:only-of-type {\n",
       "        vertical-align: middle;\n",
       "    }\n",
       "\n",
       "    .dataframe tbody tr th {\n",
       "        vertical-align: top;\n",
       "    }\n",
       "\n",
       "    .dataframe thead th {\n",
       "        text-align: right;\n",
       "    }\n",
       "</style>\n",
       "<table border=\"1\" class=\"dataframe\">\n",
       "  <thead>\n",
       "    <tr style=\"text-align: right;\">\n",
       "      <th></th>\n",
       "      <th>churn_date</th>\n",
       "    </tr>\n",
       "    <tr>\n",
       "      <th>tariff</th>\n",
       "      <th></th>\n",
       "    </tr>\n",
       "  </thead>\n",
       "  <tbody>\n",
       "    <tr>\n",
       "      <th>smart</th>\n",
       "      <td>22</td>\n",
       "    </tr>\n",
       "    <tr>\n",
       "      <th>ultra</th>\n",
       "      <td>13</td>\n",
       "    </tr>\n",
       "  </tbody>\n",
       "</table>\n",
       "</div>"
      ],
      "text/plain": [
       "        churn_date\n",
       "tariff            \n",
       "smart           22\n",
       "ultra           13"
      ]
     },
     "execution_count": 92,
     "metadata": {},
     "output_type": "execute_result"
    }
   ],
   "source": [
    "print ('Количество клиентов, покинувших компанию за год, составляет: ', user['churn_date'].notna().sum())\n",
    "print('......................................................................................')\n",
    "print ('Количество клиентов, покинувших компанию за последние 4 месяца 2018 года на двух тарифах, составляет: ',\n",
    "       user.query('churn_date > \"2018-09-25\"')['churn_date'].notna().sum()\n",
    "      )\n",
    "print('......................................................................................')\n",
    "print ('%  от общего количества всех клиентов, покинувших компанию за последние 4 месяца 2018 года на двух тарифах, составляет: ',\n",
    "    (user.query('churn_date > \"2018-09-25\"')['churn_date'].notna().sum()/user['churn_date'].notna().sum()*100).round(1)\n",
    ")\n",
    "print('......................................................................................')\n",
    "print ('Распределение оттока клиентов на тарифах за последние 4 месяца 2018 года')\n",
    "user.query('churn_date > \"2018-09-25\"').groupby('tariff')['churn_date'].count().to_frame()"
   ]
  },
  {
   "cell_type": "markdown",
   "metadata": {},
   "source": [
    "Полученные нами цифры говорят, что отток усиливается, при чем в тарифе Смарт он выше. Могу предположить, что это связано с тем, что разница в стоимости пакета услуг тарифов Смарт и Ультра огромная. Пользователям не нужен полный пакет Ультра, но так де им не хватает пакета Смарт. В этом случае, может увеличиваться отток клиентов. Для уменьшения оттока клиентов, бизнесу необходимо разработать другие тарифы, которые будут комфортны для пользователей."
   ]
  },
  {
   "cell_type": "markdown",
   "metadata": {},
   "source": [
    "## Общий вывод"
   ]
  },
  {
   "cell_type": "markdown",
   "metadata": {},
   "source": [
    "Для исследования тарифов мы получили несколько датасетов с данными о пользователях. У нас были сведения о количестве используемых клиентами сообщений, звонков и интернет-трафика за 2018 год. Перед началом исследования мы проделали следующую работу:\n",
    "1. Так как сведения с датами были сохранены в формате object, мы поменяли формат.\n",
    "2. Так как компания производит рассчет в минутах, а интернет-трафик в гигабайтах, мы округлили данные с минутами разговоров в большую сторону, мегабайты перевели в гигабайты и также округлили в большую сторону для дальнейших рассчетов.\n",
    "3. В каждую таблицу добавили столбец, где даты округлили до месяцев для удобства, так как нас интересует расход пользователей в месяц.\n",
    "\n",
    "После этого, мы создали три новые таблицы, где сгруппировали данные по месяцам и пользователям и таким образом у нас появились данные, сколько пользователь тратит смс, звонков и интернет-трафика в месяц в течение года.\n",
    "\n",
    "Далее, мы объеденили полученные таблицы между собой с данными о пользователях и сведениями о тарифах. Удалили ненужные столбцы и у нас получилась полноценная аналитическая таблица для дальнейшего исследования.\n",
    "\n",
    "В дальнейщем, мы создали функцию, которая рассчитала выручку с каждого пользователя с учетом перерасхода по тарифам.\n",
    "\n",
    "\t           \n",
    "tariff_name\t   count\tmean\t    sum\t\n",
    "\n",
    "smart\t       2229.0\t1290.0\t   2875351.0\n",
    "\n",
    "ultra\t       985.0\t2070.2\t   2039100.0\n",
    "\n",
    "\n",
    "Обратите внимание, что пользователей с тарифом smart в 2,3 раза превышает пользователей тарифа ultra, при этом выручка выше всего в 1,4 раза. Также видно, что пользователи тарифа smart в среднем часто превышают пакет включенных услуг (стоимость пакета - 550 рублей, средняя выручка - 1290). Стоимость услуг тарифа ultra составляет 1950 рублей, из рассчетов средняя - 2070 рублей. Это говорит о том, что пользователям в среднем хватает включенных в пакет минут, смс и интернет трафика.\n",
    "\n",
    "После этого мы рассчитали дисперсии и стандартные отклонения по основным показателям для каждого тарифа:\n",
    "\n",
    "Для звонков:\n",
    "\n",
    "tariff_name\t       var\t     std\n",
    "\n",
    "smart\t         36219.3\t190.3\n",
    "\n",
    "ultra\t        100873.6\t317.6\n",
    "\n",
    "\n",
    "Для смс-сообщений:\n",
    "\n",
    "tariff_name\t     var\t       std\n",
    "\t\t\n",
    "smart\t         796.8\t      28.2\n",
    "\n",
    "ultra\t         2285.3\t      47.8\n",
    "\n",
    "\n",
    "Для интернет-трафика:\n",
    "\n",
    "\n",
    "tariff_name\t    var\t    std\n",
    "\t\n",
    "smart\t        33.0\t5.7\n",
    "\n",
    "ultra\t        97.1\t9.9\n",
    "\n",
    "\n",
    "Также, мы проанализировали расход сообщений, звонков и интернет-трафика по месяцам каждого пользователя по каждому тарифу по отдельности. Постороили гистограммы для сравнения. Краткие выводы по ним:\n",
    "1. Сообщения для тарифа smart. Показатели в среднем варьируются в диапазоне от 12 до 35 смс в месяц. Также помним про лимит сообщений по данному тарифу, он составляет 50 смс. Если рассматривать тариф ultra, пользователи в основном используют до 100 сообщений, а среднем около 60, но также есть исключения, полный пакет, который включает в себя 1000 сообщений не используют. Если учесть, что пользователей разное количество, то можно увидеть, что они не сильно отличаются, большинству клиентов достаточно до 60-70 сообщений в месяц.\n",
    "2. Звонки для тарифа smart: в среднем пользователи используют от 300 до 600 минут, также есть исключения, но количество таких пользователей небольшое. Большинство пользователей укладываются в свой лимит разговоров, который составляет 500 минут в месяц. Звонки для тарифа ultra: Если вспомнить сводную таблицу выше, то там в среднем пользователи тарифа ultra используют до 800 минут разговора при доступных 3000. Крайне малое количество пользователей превышает 800 минут. Опять же предположу, что для бизнеса это выгоднее, так как клиент покупает более дорогой тариф, но использует включенные минуты разговоров практически в рамках тарифа smart. Пользователи двух тарифов чаще всего используют примерно одинаковое количество минут разговоров.\n",
    "3. Пользователи тарифа smart зачастую превышают тарифный план в размере 15 гб, в среднем диапазон в пределах 1-20 гб. Из этого следуют, что за интернет клиенты доплачивают сверх пакета. Пользователи тарифа ultra в основном используют интернет-трафик в диапазоне  с 10-30 гб, при лимите пакета в 30 гб, превышение лимита у незначительного числа пользователей. Также можно сказать, что пользователи активно пользуются интернетом. \n",
    "\n",
    "В конце мы проверили 2 гипотезы:\n",
    "1. Средняя выручка пользователей тарифов «Ультра» и «Смарт» различаются.\n",
    "2. Средняя выручка пользователей из Москвы отличается от выручки пользователей из других регионов.\n",
    "\n",
    "После проведенного теста по 1-й гипотезе, есть основания полагать, что средние выручки пользователей тарифов «Ультра» и тарифа \"Смарт\" отличаются. \n",
    "\n",
    "Исходя из результатов проведенного теста по 2-й гипотезе, у нас отсутствуют основания делать вывод о значимом различии средних выручек между пользователями из Москвы и пользователями других регионов.\n",
    "\n",
    "Если рассматривать рекомендации бизнесу по выбору рекламы для тарифов, на мой взгляд выгоднее тариф «Ультра». Пользователи зачастую не используют имеющиеся звонки и смс, находятся в диапазоне тарифа \"Смарт\", но при этом стоимость тарифа почти в 4 раза выше. Также, я обратила внимание, что пользователи тарифа \"Смарт\" часто перерасходуют интернет-трафик, поэтому эту метрику можно взять за основу для привлечения их к покупке тарифа \"Ультра\", так как интернета в нем в два раза больше. Для уменьшения оттока клиентов, бизнесу необходимо разработать другие тарифы, которые будут комфортны для пользователей.\n",
    "\n",
    " "
   ]
  },
  {
   "cell_type": "markdown",
   "metadata": {},
   "source": []
  }
 ],
 "metadata": {
  "ExecuteTimeLog": [
   {
    "duration": 34,
    "start_time": "2022-06-03T10:37:57.320Z"
   },
   {
    "duration": 53,
    "start_time": "2022-06-03T10:43:56.951Z"
   },
   {
    "duration": 16,
    "start_time": "2022-06-03T10:44:46.552Z"
   },
   {
    "duration": 1967,
    "start_time": "2022-06-03T10:45:47.023Z"
   },
   {
    "duration": 1418,
    "start_time": "2022-06-03T10:46:29.153Z"
   },
   {
    "duration": 1294,
    "start_time": "2022-06-03T11:01:45.536Z"
   },
   {
    "duration": 268,
    "start_time": "2022-06-03T11:01:46.832Z"
   },
   {
    "duration": 496,
    "start_time": "2022-06-03T11:01:47.102Z"
   },
   {
    "duration": 387,
    "start_time": "2022-06-03T11:01:47.601Z"
   },
   {
    "duration": 75,
    "start_time": "2022-06-03T11:01:47.991Z"
   },
   {
    "duration": 68,
    "start_time": "2022-06-03T11:01:48.070Z"
   },
   {
    "duration": 18,
    "start_time": "2022-06-03T11:03:01.283Z"
   },
   {
    "duration": 1121,
    "start_time": "2022-06-03T11:05:42.809Z"
   },
   {
    "duration": 197,
    "start_time": "2022-06-03T11:05:43.932Z"
   },
   {
    "duration": 157,
    "start_time": "2022-06-03T11:05:44.130Z"
   },
   {
    "duration": 101,
    "start_time": "2022-06-03T11:05:44.289Z"
   },
   {
    "duration": 21,
    "start_time": "2022-06-03T11:05:44.392Z"
   },
   {
    "duration": 36,
    "start_time": "2022-06-03T11:05:44.414Z"
   },
   {
    "duration": 1179,
    "start_time": "2022-06-03T16:09:19.894Z"
   },
   {
    "duration": 190,
    "start_time": "2022-06-03T16:09:21.075Z"
   },
   {
    "duration": 185,
    "start_time": "2022-06-03T16:09:21.267Z"
   },
   {
    "duration": 116,
    "start_time": "2022-06-03T16:09:21.454Z"
   },
   {
    "duration": 24,
    "start_time": "2022-06-03T16:09:21.574Z"
   },
   {
    "duration": 36,
    "start_time": "2022-06-03T16:09:21.600Z"
   },
   {
    "duration": 33,
    "start_time": "2022-06-03T16:09:21.638Z"
   },
   {
    "duration": 52,
    "start_time": "2022-06-03T16:09:21.674Z"
   },
   {
    "duration": 28,
    "start_time": "2022-06-03T16:09:53.495Z"
   },
   {
    "duration": 26,
    "start_time": "2022-06-03T16:10:41.348Z"
   },
   {
    "duration": 22,
    "start_time": "2022-06-03T16:10:54.550Z"
   },
   {
    "duration": 21,
    "start_time": "2022-06-03T16:11:13.363Z"
   },
   {
    "duration": 13,
    "start_time": "2022-06-03T16:11:50.807Z"
   },
   {
    "duration": 12,
    "start_time": "2022-06-03T16:12:28.415Z"
   },
   {
    "duration": 66,
    "start_time": "2022-06-03T16:19:24.416Z"
   },
   {
    "duration": 83,
    "start_time": "2022-06-03T16:25:06.242Z"
   },
   {
    "duration": 6,
    "start_time": "2022-06-03T16:36:46.807Z"
   },
   {
    "duration": 6,
    "start_time": "2022-06-03T16:36:56.606Z"
   },
   {
    "duration": 5,
    "start_time": "2022-06-03T16:37:39.179Z"
   },
   {
    "duration": 13,
    "start_time": "2022-06-03T16:39:55.876Z"
   },
   {
    "duration": 5,
    "start_time": "2022-06-03T16:40:13.343Z"
   },
   {
    "duration": 1204,
    "start_time": "2022-06-08T06:49:55.677Z"
   },
   {
    "duration": 230,
    "start_time": "2022-06-08T06:49:56.883Z"
   },
   {
    "duration": 5,
    "start_time": "2022-06-08T06:49:57.115Z"
   },
   {
    "duration": 322,
    "start_time": "2022-06-08T06:49:57.121Z"
   },
   {
    "duration": 326,
    "start_time": "2022-06-08T06:49:57.446Z"
   },
   {
    "duration": 65,
    "start_time": "2022-06-08T06:49:57.774Z"
   },
   {
    "duration": 62,
    "start_time": "2022-06-08T06:49:57.841Z"
   },
   {
    "duration": 6,
    "start_time": "2022-06-08T06:49:57.905Z"
   },
   {
    "duration": 31,
    "start_time": "2022-06-08T06:49:57.912Z"
   },
   {
    "duration": 20,
    "start_time": "2022-06-08T06:49:57.944Z"
   },
   {
    "duration": 16,
    "start_time": "2022-06-08T06:49:57.966Z"
   },
   {
    "duration": 9,
    "start_time": "2022-06-08T06:49:57.984Z"
   },
   {
    "duration": 34,
    "start_time": "2022-06-08T06:49:57.994Z"
   },
   {
    "duration": 66,
    "start_time": "2022-06-08T06:49:58.031Z"
   },
   {
    "duration": 104,
    "start_time": "2022-06-08T06:49:58.099Z"
   },
   {
    "duration": 1022,
    "start_time": "2022-06-08T06:53:08.587Z"
   },
   {
    "duration": 161,
    "start_time": "2022-06-08T06:53:09.611Z"
   },
   {
    "duration": 4,
    "start_time": "2022-06-08T06:53:09.774Z"
   },
   {
    "duration": 131,
    "start_time": "2022-06-08T06:53:09.780Z"
   },
   {
    "duration": 86,
    "start_time": "2022-06-08T06:53:09.912Z"
   },
   {
    "duration": 20,
    "start_time": "2022-06-08T06:53:09.999Z"
   },
   {
    "duration": 32,
    "start_time": "2022-06-08T06:53:10.020Z"
   },
   {
    "duration": 5,
    "start_time": "2022-06-08T06:53:10.053Z"
   },
   {
    "duration": 27,
    "start_time": "2022-06-08T06:53:10.060Z"
   },
   {
    "duration": 20,
    "start_time": "2022-06-08T06:53:10.090Z"
   },
   {
    "duration": 33,
    "start_time": "2022-06-08T06:53:10.112Z"
   },
   {
    "duration": 10,
    "start_time": "2022-06-08T06:53:10.147Z"
   },
   {
    "duration": 12,
    "start_time": "2022-06-08T06:53:10.159Z"
   },
   {
    "duration": 78,
    "start_time": "2022-06-08T06:53:10.173Z"
   },
   {
    "duration": 11,
    "start_time": "2022-06-08T06:53:10.253Z"
   },
   {
    "duration": 22,
    "start_time": "2022-06-08T07:08:52.123Z"
   },
   {
    "duration": 10,
    "start_time": "2022-06-08T07:09:00.417Z"
   },
   {
    "duration": 16,
    "start_time": "2022-06-08T07:11:18.771Z"
   },
   {
    "duration": 11,
    "start_time": "2022-06-08T07:11:21.058Z"
   },
   {
    "duration": 10,
    "start_time": "2022-06-08T07:12:27.875Z"
   },
   {
    "duration": 13,
    "start_time": "2022-06-08T07:13:00.815Z"
   },
   {
    "duration": 13,
    "start_time": "2022-06-08T07:13:02.988Z"
   },
   {
    "duration": 116,
    "start_time": "2022-06-08T07:22:13.024Z"
   },
   {
    "duration": 10,
    "start_time": "2022-06-08T07:26:38.041Z"
   },
   {
    "duration": 1104,
    "start_time": "2022-06-08T07:26:46.108Z"
   },
   {
    "duration": 172,
    "start_time": "2022-06-08T07:26:47.214Z"
   },
   {
    "duration": 6,
    "start_time": "2022-06-08T07:26:47.387Z"
   },
   {
    "duration": 143,
    "start_time": "2022-06-08T07:26:47.395Z"
   },
   {
    "duration": 98,
    "start_time": "2022-06-08T07:26:47.541Z"
   },
   {
    "duration": 19,
    "start_time": "2022-06-08T07:26:47.641Z"
   },
   {
    "duration": 33,
    "start_time": "2022-06-08T07:26:47.661Z"
   },
   {
    "duration": 5,
    "start_time": "2022-06-08T07:26:47.696Z"
   },
   {
    "duration": 28,
    "start_time": "2022-06-08T07:26:47.702Z"
   },
   {
    "duration": 20,
    "start_time": "2022-06-08T07:26:47.731Z"
   },
   {
    "duration": 18,
    "start_time": "2022-06-08T07:26:47.752Z"
   },
   {
    "duration": 10,
    "start_time": "2022-06-08T07:26:47.771Z"
   },
   {
    "duration": 15,
    "start_time": "2022-06-08T07:26:47.782Z"
   },
   {
    "duration": 86,
    "start_time": "2022-06-08T07:26:47.799Z"
   },
   {
    "duration": 11,
    "start_time": "2022-06-08T07:26:47.886Z"
   },
   {
    "duration": 37,
    "start_time": "2022-06-08T07:26:47.899Z"
   },
   {
    "duration": 10,
    "start_time": "2022-06-08T07:26:47.938Z"
   },
   {
    "duration": 18,
    "start_time": "2022-06-08T07:26:47.949Z"
   },
   {
    "duration": 9,
    "start_time": "2022-06-08T07:26:47.969Z"
   },
   {
    "duration": 15,
    "start_time": "2022-06-08T07:26:47.980Z"
   },
   {
    "duration": 38,
    "start_time": "2022-06-08T07:26:47.997Z"
   },
   {
    "duration": 112,
    "start_time": "2022-06-08T07:26:48.037Z"
   },
   {
    "duration": 25,
    "start_time": "2022-06-08T07:27:11.179Z"
   },
   {
    "duration": 29,
    "start_time": "2022-06-08T07:27:36.905Z"
   },
   {
    "duration": 28,
    "start_time": "2022-06-08T07:27:58.711Z"
   },
   {
    "duration": 28,
    "start_time": "2022-06-08T07:28:51.900Z"
   },
   {
    "duration": 23,
    "start_time": "2022-06-08T07:31:21.444Z"
   },
   {
    "duration": 38,
    "start_time": "2022-06-08T07:31:28.550Z"
   },
   {
    "duration": 24,
    "start_time": "2022-06-08T07:35:23.104Z"
   },
   {
    "duration": 25,
    "start_time": "2022-06-08T07:40:25.041Z"
   },
   {
    "duration": 46,
    "start_time": "2022-06-09T08:10:50.301Z"
   },
   {
    "duration": 1130,
    "start_time": "2022-06-09T08:10:58.038Z"
   },
   {
    "duration": 239,
    "start_time": "2022-06-09T08:10:59.170Z"
   },
   {
    "duration": 5,
    "start_time": "2022-06-09T08:10:59.411Z"
   },
   {
    "duration": 314,
    "start_time": "2022-06-09T08:10:59.418Z"
   },
   {
    "duration": 307,
    "start_time": "2022-06-09T08:10:59.735Z"
   },
   {
    "duration": 65,
    "start_time": "2022-06-09T08:11:00.044Z"
   },
   {
    "duration": 61,
    "start_time": "2022-06-09T08:11:00.110Z"
   },
   {
    "duration": 5,
    "start_time": "2022-06-09T08:11:00.173Z"
   },
   {
    "duration": 59,
    "start_time": "2022-06-09T08:11:00.179Z"
   },
   {
    "duration": 53,
    "start_time": "2022-06-09T08:11:00.239Z"
   },
   {
    "duration": 57,
    "start_time": "2022-06-09T08:11:00.293Z"
   },
   {
    "duration": 42,
    "start_time": "2022-06-09T08:11:00.352Z"
   },
   {
    "duration": 42,
    "start_time": "2022-06-09T08:11:00.396Z"
   },
   {
    "duration": 140,
    "start_time": "2022-06-09T08:11:00.441Z"
   },
   {
    "duration": 18,
    "start_time": "2022-06-09T08:11:00.583Z"
   },
   {
    "duration": 30,
    "start_time": "2022-06-09T08:11:00.603Z"
   },
   {
    "duration": 14,
    "start_time": "2022-06-09T08:11:00.634Z"
   },
   {
    "duration": 37,
    "start_time": "2022-06-09T08:11:00.649Z"
   },
   {
    "duration": 47,
    "start_time": "2022-06-09T08:11:00.687Z"
   },
   {
    "duration": 47,
    "start_time": "2022-06-09T08:11:00.736Z"
   },
   {
    "duration": 20,
    "start_time": "2022-06-09T08:11:00.785Z"
   },
   {
    "duration": 44,
    "start_time": "2022-06-09T08:11:00.807Z"
   },
   {
    "duration": 24,
    "start_time": "2022-06-09T08:11:00.853Z"
   },
   {
    "duration": 13,
    "start_time": "2022-06-09T08:11:00.878Z"
   },
   {
    "duration": 46,
    "start_time": "2022-06-09T08:11:00.892Z"
   },
   {
    "duration": 87,
    "start_time": "2022-06-09T08:13:01.439Z"
   },
   {
    "duration": 1072,
    "start_time": "2022-06-09T08:16:13.440Z"
   },
   {
    "duration": 187,
    "start_time": "2022-06-09T08:16:14.514Z"
   },
   {
    "duration": 6,
    "start_time": "2022-06-09T08:16:14.703Z"
   },
   {
    "duration": 158,
    "start_time": "2022-06-09T08:16:14.710Z"
   },
   {
    "duration": 89,
    "start_time": "2022-06-09T08:16:14.870Z"
   },
   {
    "duration": 19,
    "start_time": "2022-06-09T08:16:14.961Z"
   },
   {
    "duration": 32,
    "start_time": "2022-06-09T08:16:14.982Z"
   },
   {
    "duration": 5,
    "start_time": "2022-06-09T08:16:15.016Z"
   },
   {
    "duration": 43,
    "start_time": "2022-06-09T08:16:15.022Z"
   },
   {
    "duration": 20,
    "start_time": "2022-06-09T08:16:15.067Z"
   },
   {
    "duration": 17,
    "start_time": "2022-06-09T08:16:15.089Z"
   },
   {
    "duration": 9,
    "start_time": "2022-06-09T08:16:15.107Z"
   },
   {
    "duration": 22,
    "start_time": "2022-06-09T08:16:15.118Z"
   },
   {
    "duration": 71,
    "start_time": "2022-06-09T08:16:15.142Z"
   },
   {
    "duration": 15,
    "start_time": "2022-06-09T08:16:15.215Z"
   },
   {
    "duration": 30,
    "start_time": "2022-06-09T08:16:15.232Z"
   },
   {
    "duration": 11,
    "start_time": "2022-06-09T08:16:15.263Z"
   },
   {
    "duration": 20,
    "start_time": "2022-06-09T08:16:15.275Z"
   },
   {
    "duration": 9,
    "start_time": "2022-06-09T08:16:15.297Z"
   },
   {
    "duration": 36,
    "start_time": "2022-06-09T08:16:15.307Z"
   },
   {
    "duration": 13,
    "start_time": "2022-06-09T08:16:15.346Z"
   },
   {
    "duration": 28,
    "start_time": "2022-06-09T08:16:15.361Z"
   },
   {
    "duration": 49,
    "start_time": "2022-06-09T08:16:15.391Z"
   },
   {
    "duration": 99,
    "start_time": "2022-06-09T08:16:15.442Z"
   },
   {
    "duration": 0,
    "start_time": "2022-06-09T08:16:15.542Z"
   },
   {
    "duration": 1050,
    "start_time": "2022-06-09T08:17:25.440Z"
   },
   {
    "duration": 184,
    "start_time": "2022-06-09T08:17:26.492Z"
   },
   {
    "duration": 5,
    "start_time": "2022-06-09T08:17:26.677Z"
   },
   {
    "duration": 156,
    "start_time": "2022-06-09T08:17:26.683Z"
   },
   {
    "duration": 83,
    "start_time": "2022-06-09T08:17:26.841Z"
   },
   {
    "duration": 24,
    "start_time": "2022-06-09T08:17:26.926Z"
   },
   {
    "duration": 32,
    "start_time": "2022-06-09T08:17:26.951Z"
   },
   {
    "duration": 5,
    "start_time": "2022-06-09T08:17:26.985Z"
   },
   {
    "duration": 28,
    "start_time": "2022-06-09T08:17:26.991Z"
   },
   {
    "duration": 26,
    "start_time": "2022-06-09T08:17:27.021Z"
   },
   {
    "duration": 17,
    "start_time": "2022-06-09T08:17:27.049Z"
   },
   {
    "duration": 11,
    "start_time": "2022-06-09T08:17:27.068Z"
   },
   {
    "duration": 13,
    "start_time": "2022-06-09T08:17:27.081Z"
   },
   {
    "duration": 92,
    "start_time": "2022-06-09T08:17:27.096Z"
   },
   {
    "duration": 10,
    "start_time": "2022-06-09T08:17:27.189Z"
   },
   {
    "duration": 43,
    "start_time": "2022-06-09T08:17:27.201Z"
   },
   {
    "duration": 9,
    "start_time": "2022-06-09T08:17:27.246Z"
   },
   {
    "duration": 24,
    "start_time": "2022-06-09T08:17:27.257Z"
   },
   {
    "duration": 8,
    "start_time": "2022-06-09T08:17:27.283Z"
   },
   {
    "duration": 22,
    "start_time": "2022-06-09T08:17:27.293Z"
   },
   {
    "duration": 21,
    "start_time": "2022-06-09T08:17:27.316Z"
   },
   {
    "duration": 28,
    "start_time": "2022-06-09T08:17:27.340Z"
   },
   {
    "duration": 21,
    "start_time": "2022-06-09T08:17:27.370Z"
   },
   {
    "duration": 108,
    "start_time": "2022-06-09T08:17:27.393Z"
   },
   {
    "duration": 0,
    "start_time": "2022-06-09T08:17:27.502Z"
   },
   {
    "duration": 1054,
    "start_time": "2022-06-09T08:39:27.532Z"
   },
   {
    "duration": 190,
    "start_time": "2022-06-09T08:39:28.589Z"
   },
   {
    "duration": 6,
    "start_time": "2022-06-09T08:39:28.781Z"
   },
   {
    "duration": 172,
    "start_time": "2022-06-09T08:39:28.790Z"
   },
   {
    "duration": 87,
    "start_time": "2022-06-09T08:39:28.965Z"
   },
   {
    "duration": 20,
    "start_time": "2022-06-09T08:39:29.054Z"
   },
   {
    "duration": 39,
    "start_time": "2022-06-09T08:39:29.075Z"
   },
   {
    "duration": 6,
    "start_time": "2022-06-09T08:39:29.116Z"
   },
   {
    "duration": 28,
    "start_time": "2022-06-09T08:39:29.124Z"
   },
   {
    "duration": 21,
    "start_time": "2022-06-09T08:39:29.154Z"
   },
   {
    "duration": 19,
    "start_time": "2022-06-09T08:39:29.177Z"
   },
   {
    "duration": 31,
    "start_time": "2022-06-09T08:39:29.197Z"
   },
   {
    "duration": 14,
    "start_time": "2022-06-09T08:39:29.230Z"
   },
   {
    "duration": 98,
    "start_time": "2022-06-09T08:39:29.246Z"
   },
   {
    "duration": 13,
    "start_time": "2022-06-09T08:39:29.346Z"
   },
   {
    "duration": 25,
    "start_time": "2022-06-09T08:39:29.361Z"
   },
   {
    "duration": 12,
    "start_time": "2022-06-09T08:39:29.387Z"
   },
   {
    "duration": 46,
    "start_time": "2022-06-09T08:39:29.401Z"
   },
   {
    "duration": 13,
    "start_time": "2022-06-09T08:39:29.449Z"
   },
   {
    "duration": 21,
    "start_time": "2022-06-09T08:39:29.464Z"
   },
   {
    "duration": 16,
    "start_time": "2022-06-09T08:39:29.487Z"
   },
   {
    "duration": 45,
    "start_time": "2022-06-09T08:39:29.505Z"
   },
   {
    "duration": 24,
    "start_time": "2022-06-09T08:39:29.552Z"
   },
   {
    "duration": 13,
    "start_time": "2022-06-09T08:39:29.578Z"
   },
   {
    "duration": 51,
    "start_time": "2022-06-09T08:39:29.593Z"
   },
   {
    "duration": 19,
    "start_time": "2022-06-09T08:39:40.961Z"
   },
   {
    "duration": 17,
    "start_time": "2022-06-09T08:40:32.663Z"
   },
   {
    "duration": 1077,
    "start_time": "2022-06-09T08:59:56.109Z"
   },
   {
    "duration": 168,
    "start_time": "2022-06-09T08:59:57.188Z"
   },
   {
    "duration": 5,
    "start_time": "2022-06-09T08:59:57.358Z"
   },
   {
    "duration": 131,
    "start_time": "2022-06-09T08:59:57.364Z"
   },
   {
    "duration": 82,
    "start_time": "2022-06-09T08:59:57.497Z"
   },
   {
    "duration": 23,
    "start_time": "2022-06-09T08:59:57.581Z"
   },
   {
    "duration": 37,
    "start_time": "2022-06-09T08:59:57.606Z"
   },
   {
    "duration": 6,
    "start_time": "2022-06-09T08:59:57.645Z"
   },
   {
    "duration": 44,
    "start_time": "2022-06-09T08:59:57.653Z"
   },
   {
    "duration": 29,
    "start_time": "2022-06-09T08:59:57.698Z"
   },
   {
    "duration": 18,
    "start_time": "2022-06-09T08:59:57.728Z"
   },
   {
    "duration": 9,
    "start_time": "2022-06-09T08:59:57.747Z"
   },
   {
    "duration": 9,
    "start_time": "2022-06-09T08:59:57.758Z"
   },
   {
    "duration": 95,
    "start_time": "2022-06-09T08:59:57.770Z"
   },
   {
    "duration": 10,
    "start_time": "2022-06-09T08:59:57.867Z"
   },
   {
    "duration": 20,
    "start_time": "2022-06-09T08:59:57.878Z"
   },
   {
    "duration": 9,
    "start_time": "2022-06-09T08:59:57.899Z"
   },
   {
    "duration": 16,
    "start_time": "2022-06-09T08:59:57.927Z"
   },
   {
    "duration": 9,
    "start_time": "2022-06-09T08:59:57.944Z"
   },
   {
    "duration": 16,
    "start_time": "2022-06-09T08:59:57.955Z"
   },
   {
    "duration": 16,
    "start_time": "2022-06-09T08:59:57.973Z"
   },
   {
    "duration": 62,
    "start_time": "2022-06-09T08:59:57.991Z"
   },
   {
    "duration": 32,
    "start_time": "2022-06-09T08:59:58.055Z"
   },
   {
    "duration": 14,
    "start_time": "2022-06-09T08:59:58.089Z"
   },
   {
    "duration": 38,
    "start_time": "2022-06-09T08:59:58.104Z"
   },
   {
    "duration": 7,
    "start_time": "2022-06-09T08:59:58.143Z"
   },
   {
    "duration": 16,
    "start_time": "2022-06-09T09:01:23.106Z"
   },
   {
    "duration": 88,
    "start_time": "2022-06-09T09:03:34.040Z"
   },
   {
    "duration": 8,
    "start_time": "2022-06-09T09:03:40.350Z"
   },
   {
    "duration": 18,
    "start_time": "2022-06-09T09:03:43.105Z"
   },
   {
    "duration": 5,
    "start_time": "2022-06-09T09:05:19.420Z"
   },
   {
    "duration": 4,
    "start_time": "2022-06-09T09:05:43.651Z"
   },
   {
    "duration": 11,
    "start_time": "2022-06-09T09:07:03.905Z"
   },
   {
    "duration": 27,
    "start_time": "2022-06-09T09:11:58.339Z"
   },
   {
    "duration": 17,
    "start_time": "2022-06-09T09:16:43.334Z"
   },
   {
    "duration": 4,
    "start_time": "2022-06-09T09:19:10.984Z"
   },
   {
    "duration": 4,
    "start_time": "2022-06-09T09:20:01.033Z"
   },
   {
    "duration": 15,
    "start_time": "2022-06-09T09:20:10.649Z"
   },
   {
    "duration": 7,
    "start_time": "2022-06-09T09:22:19.924Z"
   },
   {
    "duration": 6,
    "start_time": "2022-06-09T09:24:28.927Z"
   },
   {
    "duration": 1061,
    "start_time": "2022-06-09T09:25:01.849Z"
   },
   {
    "duration": 178,
    "start_time": "2022-06-09T09:25:02.912Z"
   },
   {
    "duration": 5,
    "start_time": "2022-06-09T09:25:03.091Z"
   },
   {
    "duration": 151,
    "start_time": "2022-06-09T09:25:03.098Z"
   },
   {
    "duration": 112,
    "start_time": "2022-06-09T09:25:03.253Z"
   },
   {
    "duration": 26,
    "start_time": "2022-06-09T09:25:03.367Z"
   },
   {
    "duration": 39,
    "start_time": "2022-06-09T09:25:03.395Z"
   },
   {
    "duration": 6,
    "start_time": "2022-06-09T09:25:03.436Z"
   },
   {
    "duration": 39,
    "start_time": "2022-06-09T09:25:03.444Z"
   },
   {
    "duration": 44,
    "start_time": "2022-06-09T09:25:03.486Z"
   },
   {
    "duration": 20,
    "start_time": "2022-06-09T09:25:03.532Z"
   },
   {
    "duration": 17,
    "start_time": "2022-06-09T09:25:03.553Z"
   },
   {
    "duration": 20,
    "start_time": "2022-06-09T09:25:03.571Z"
   },
   {
    "duration": 92,
    "start_time": "2022-06-09T09:25:03.592Z"
   },
   {
    "duration": 12,
    "start_time": "2022-06-09T09:25:03.686Z"
   },
   {
    "duration": 41,
    "start_time": "2022-06-09T09:25:03.699Z"
   },
   {
    "duration": 11,
    "start_time": "2022-06-09T09:25:03.742Z"
   },
   {
    "duration": 22,
    "start_time": "2022-06-09T09:25:03.754Z"
   },
   {
    "duration": 10,
    "start_time": "2022-06-09T09:25:03.778Z"
   },
   {
    "duration": 37,
    "start_time": "2022-06-09T09:25:03.790Z"
   },
   {
    "duration": 18,
    "start_time": "2022-06-09T09:25:03.829Z"
   },
   {
    "duration": 35,
    "start_time": "2022-06-09T09:25:03.849Z"
   },
   {
    "duration": 54,
    "start_time": "2022-06-09T09:25:03.886Z"
   },
   {
    "duration": 17,
    "start_time": "2022-06-09T09:25:03.942Z"
   },
   {
    "duration": 23,
    "start_time": "2022-06-09T09:25:03.960Z"
   },
   {
    "duration": 9,
    "start_time": "2022-06-09T09:25:03.985Z"
   },
   {
    "duration": 48,
    "start_time": "2022-06-09T09:25:03.995Z"
   },
   {
    "duration": 5,
    "start_time": "2022-06-09T09:25:04.047Z"
   },
   {
    "duration": 12,
    "start_time": "2022-06-09T09:25:04.053Z"
   },
   {
    "duration": 20,
    "start_time": "2022-06-09T09:25:04.066Z"
   },
   {
    "duration": 41,
    "start_time": "2022-06-09T09:25:04.088Z"
   },
   {
    "duration": 17,
    "start_time": "2022-06-09T09:25:04.131Z"
   },
   {
    "duration": 3,
    "start_time": "2022-06-09T09:25:04.150Z"
   },
   {
    "duration": 31,
    "start_time": "2022-06-09T09:25:04.155Z"
   },
   {
    "duration": 12,
    "start_time": "2022-06-09T09:25:04.188Z"
   },
   {
    "duration": 14,
    "start_time": "2022-06-09T09:25:04.202Z"
   },
   {
    "duration": 14,
    "start_time": "2022-06-09T09:25:04.217Z"
   },
   {
    "duration": 19,
    "start_time": "2022-06-09T09:25:04.232Z"
   },
   {
    "duration": 1018,
    "start_time": "2022-06-09T09:26:24.380Z"
   },
   {
    "duration": 175,
    "start_time": "2022-06-09T09:26:25.400Z"
   },
   {
    "duration": 5,
    "start_time": "2022-06-09T09:26:25.576Z"
   },
   {
    "duration": 169,
    "start_time": "2022-06-09T09:26:25.583Z"
   },
   {
    "duration": 89,
    "start_time": "2022-06-09T09:26:25.754Z"
   },
   {
    "duration": 19,
    "start_time": "2022-06-09T09:26:25.845Z"
   },
   {
    "duration": 35,
    "start_time": "2022-06-09T09:26:25.866Z"
   },
   {
    "duration": 6,
    "start_time": "2022-06-09T09:26:25.903Z"
   },
   {
    "duration": 30,
    "start_time": "2022-06-09T09:26:25.910Z"
   },
   {
    "duration": 20,
    "start_time": "2022-06-09T09:26:25.942Z"
   },
   {
    "duration": 18,
    "start_time": "2022-06-09T09:26:25.963Z"
   },
   {
    "duration": 10,
    "start_time": "2022-06-09T09:26:25.982Z"
   },
   {
    "duration": 41,
    "start_time": "2022-06-09T09:26:25.993Z"
   },
   {
    "duration": 74,
    "start_time": "2022-06-09T09:26:26.038Z"
   },
   {
    "duration": 21,
    "start_time": "2022-06-09T09:26:26.114Z"
   },
   {
    "duration": 23,
    "start_time": "2022-06-09T09:26:26.137Z"
   },
   {
    "duration": 11,
    "start_time": "2022-06-09T09:26:26.161Z"
   },
   {
    "duration": 27,
    "start_time": "2022-06-09T09:26:26.174Z"
   },
   {
    "duration": 38,
    "start_time": "2022-06-09T09:26:26.204Z"
   },
   {
    "duration": 34,
    "start_time": "2022-06-09T09:26:26.244Z"
   },
   {
    "duration": 21,
    "start_time": "2022-06-09T09:26:26.280Z"
   },
   {
    "duration": 50,
    "start_time": "2022-06-09T09:26:26.303Z"
   },
   {
    "duration": 30,
    "start_time": "2022-06-09T09:26:26.355Z"
   },
   {
    "duration": 17,
    "start_time": "2022-06-09T09:26:26.387Z"
   },
   {
    "duration": 53,
    "start_time": "2022-06-09T09:26:26.406Z"
   },
   {
    "duration": 10,
    "start_time": "2022-06-09T09:26:26.462Z"
   },
   {
    "duration": 25,
    "start_time": "2022-06-09T09:26:26.474Z"
   },
   {
    "duration": 28,
    "start_time": "2022-06-09T09:26:26.501Z"
   },
   {
    "duration": 36,
    "start_time": "2022-06-09T09:26:26.531Z"
   },
   {
    "duration": 18,
    "start_time": "2022-06-09T09:26:26.569Z"
   },
   {
    "duration": 34,
    "start_time": "2022-06-09T09:26:26.589Z"
   },
   {
    "duration": 18,
    "start_time": "2022-06-09T09:26:26.624Z"
   },
   {
    "duration": 5,
    "start_time": "2022-06-09T09:26:26.644Z"
   },
   {
    "duration": 38,
    "start_time": "2022-06-09T09:26:26.651Z"
   },
   {
    "duration": 10,
    "start_time": "2022-06-09T09:26:26.690Z"
   },
   {
    "duration": 7,
    "start_time": "2022-06-09T09:26:26.703Z"
   },
   {
    "duration": 7,
    "start_time": "2022-06-09T09:26:26.712Z"
   },
   {
    "duration": 8,
    "start_time": "2022-06-09T09:26:26.721Z"
   },
   {
    "duration": 4,
    "start_time": "2022-06-09T09:26:46.008Z"
   },
   {
    "duration": 7,
    "start_time": "2022-06-09T09:26:53.338Z"
   },
   {
    "duration": 1249,
    "start_time": "2022-06-09T17:19:08.712Z"
   },
   {
    "duration": 256,
    "start_time": "2022-06-09T17:19:09.963Z"
   },
   {
    "duration": 6,
    "start_time": "2022-06-09T17:19:10.220Z"
   },
   {
    "duration": 329,
    "start_time": "2022-06-09T17:19:10.227Z"
   },
   {
    "duration": 341,
    "start_time": "2022-06-09T17:19:10.558Z"
   },
   {
    "duration": 66,
    "start_time": "2022-06-09T17:19:10.900Z"
   },
   {
    "duration": 63,
    "start_time": "2022-06-09T17:19:10.967Z"
   },
   {
    "duration": 4,
    "start_time": "2022-06-09T17:19:11.032Z"
   },
   {
    "duration": 29,
    "start_time": "2022-06-09T17:19:11.038Z"
   },
   {
    "duration": 20,
    "start_time": "2022-06-09T17:19:11.068Z"
   },
   {
    "duration": 26,
    "start_time": "2022-06-09T17:19:11.090Z"
   },
   {
    "duration": 11,
    "start_time": "2022-06-09T17:19:11.117Z"
   },
   {
    "duration": 13,
    "start_time": "2022-06-09T17:19:11.130Z"
   },
   {
    "duration": 100,
    "start_time": "2022-06-09T17:19:11.148Z"
   },
   {
    "duration": 11,
    "start_time": "2022-06-09T17:19:11.249Z"
   },
   {
    "duration": 47,
    "start_time": "2022-06-09T17:19:11.261Z"
   },
   {
    "duration": 11,
    "start_time": "2022-06-09T17:19:11.310Z"
   },
   {
    "duration": 25,
    "start_time": "2022-06-09T17:19:11.323Z"
   },
   {
    "duration": 10,
    "start_time": "2022-06-09T17:19:11.350Z"
   },
   {
    "duration": 18,
    "start_time": "2022-06-09T17:19:11.362Z"
   },
   {
    "duration": 30,
    "start_time": "2022-06-09T17:19:11.381Z"
   },
   {
    "duration": 31,
    "start_time": "2022-06-09T17:19:11.413Z"
   },
   {
    "duration": 27,
    "start_time": "2022-06-09T17:19:11.446Z"
   },
   {
    "duration": 34,
    "start_time": "2022-06-09T17:19:11.475Z"
   },
   {
    "duration": 27,
    "start_time": "2022-06-09T17:19:11.511Z"
   },
   {
    "duration": 7,
    "start_time": "2022-06-09T17:19:11.540Z"
   },
   {
    "duration": 20,
    "start_time": "2022-06-09T17:19:11.549Z"
   },
   {
    "duration": 4,
    "start_time": "2022-06-09T17:19:11.570Z"
   },
   {
    "duration": 16,
    "start_time": "2022-06-09T17:19:11.598Z"
   },
   {
    "duration": 12,
    "start_time": "2022-06-09T17:19:11.616Z"
   },
   {
    "duration": 28,
    "start_time": "2022-06-09T17:19:11.630Z"
   },
   {
    "duration": 16,
    "start_time": "2022-06-09T17:19:11.660Z"
   },
   {
    "duration": 20,
    "start_time": "2022-06-09T17:19:11.677Z"
   },
   {
    "duration": 19,
    "start_time": "2022-06-09T17:19:11.698Z"
   },
   {
    "duration": 7,
    "start_time": "2022-06-09T17:19:11.719Z"
   },
   {
    "duration": 6,
    "start_time": "2022-06-09T17:19:11.727Z"
   },
   {
    "duration": 12,
    "start_time": "2022-06-09T17:19:11.735Z"
   },
   {
    "duration": 17,
    "start_time": "2022-06-09T17:21:24.340Z"
   },
   {
    "duration": 1044,
    "start_time": "2022-06-09T17:23:27.212Z"
   },
   {
    "duration": 191,
    "start_time": "2022-06-09T17:23:28.258Z"
   },
   {
    "duration": 5,
    "start_time": "2022-06-09T17:23:28.450Z"
   },
   {
    "duration": 163,
    "start_time": "2022-06-09T17:23:28.456Z"
   },
   {
    "duration": 102,
    "start_time": "2022-06-09T17:23:28.622Z"
   },
   {
    "duration": 21,
    "start_time": "2022-06-09T17:23:28.726Z"
   },
   {
    "duration": 32,
    "start_time": "2022-06-09T17:23:28.749Z"
   },
   {
    "duration": 5,
    "start_time": "2022-06-09T17:23:28.783Z"
   },
   {
    "duration": 56,
    "start_time": "2022-06-09T17:23:28.790Z"
   },
   {
    "duration": 30,
    "start_time": "2022-06-09T17:23:28.849Z"
   },
   {
    "duration": 48,
    "start_time": "2022-06-09T17:23:28.882Z"
   },
   {
    "duration": 12,
    "start_time": "2022-06-09T17:23:28.932Z"
   },
   {
    "duration": 21,
    "start_time": "2022-06-09T17:23:28.946Z"
   },
   {
    "duration": 107,
    "start_time": "2022-06-09T17:23:28.972Z"
   },
   {
    "duration": 21,
    "start_time": "2022-06-09T17:23:29.082Z"
   },
   {
    "duration": 30,
    "start_time": "2022-06-09T17:23:29.105Z"
   },
   {
    "duration": 15,
    "start_time": "2022-06-09T17:23:29.137Z"
   },
   {
    "duration": 42,
    "start_time": "2022-06-09T17:23:29.154Z"
   },
   {
    "duration": 18,
    "start_time": "2022-06-09T17:23:29.198Z"
   },
   {
    "duration": 21,
    "start_time": "2022-06-09T17:23:29.218Z"
   },
   {
    "duration": 15,
    "start_time": "2022-06-09T17:23:29.242Z"
   },
   {
    "duration": 52,
    "start_time": "2022-06-09T17:23:29.259Z"
   },
   {
    "duration": 26,
    "start_time": "2022-06-09T17:23:29.313Z"
   },
   {
    "duration": 15,
    "start_time": "2022-06-09T17:23:29.341Z"
   },
   {
    "duration": 51,
    "start_time": "2022-06-09T17:23:29.358Z"
   },
   {
    "duration": 9,
    "start_time": "2022-06-09T17:23:29.411Z"
   },
   {
    "duration": 21,
    "start_time": "2022-06-09T17:23:29.422Z"
   },
   {
    "duration": 5,
    "start_time": "2022-06-09T17:23:29.445Z"
   },
   {
    "duration": 10,
    "start_time": "2022-06-09T17:23:29.452Z"
   },
   {
    "duration": 40,
    "start_time": "2022-06-09T17:23:29.464Z"
   },
   {
    "duration": 35,
    "start_time": "2022-06-09T17:23:29.508Z"
   },
   {
    "duration": 18,
    "start_time": "2022-06-09T17:23:29.544Z"
   },
   {
    "duration": 4,
    "start_time": "2022-06-09T17:23:29.564Z"
   },
   {
    "duration": 41,
    "start_time": "2022-06-09T17:23:29.569Z"
   },
   {
    "duration": 9,
    "start_time": "2022-06-09T17:23:29.612Z"
   },
   {
    "duration": 5,
    "start_time": "2022-06-09T17:23:29.623Z"
   },
   {
    "duration": 11,
    "start_time": "2022-06-09T17:23:29.629Z"
   },
   {
    "duration": 7,
    "start_time": "2022-06-09T17:25:30.335Z"
   },
   {
    "duration": 25,
    "start_time": "2022-06-09T17:25:36.812Z"
   },
   {
    "duration": 4,
    "start_time": "2022-06-09T17:26:50.306Z"
   },
   {
    "duration": 4,
    "start_time": "2022-06-09T17:31:17.332Z"
   },
   {
    "duration": 20,
    "start_time": "2022-06-09T17:31:23.623Z"
   },
   {
    "duration": 3,
    "start_time": "2022-06-09T17:33:18.274Z"
   },
   {
    "duration": 22,
    "start_time": "2022-06-09T17:33:21.407Z"
   },
   {
    "duration": 1104,
    "start_time": "2022-06-09T18:58:11.062Z"
   },
   {
    "duration": 189,
    "start_time": "2022-06-09T18:58:12.168Z"
   },
   {
    "duration": 5,
    "start_time": "2022-06-09T18:58:12.359Z"
   },
   {
    "duration": 185,
    "start_time": "2022-06-09T18:58:12.365Z"
   },
   {
    "duration": 100,
    "start_time": "2022-06-09T18:58:12.554Z"
   },
   {
    "duration": 21,
    "start_time": "2022-06-09T18:58:12.655Z"
   },
   {
    "duration": 39,
    "start_time": "2022-06-09T18:58:12.677Z"
   },
   {
    "duration": 6,
    "start_time": "2022-06-09T18:58:12.718Z"
   },
   {
    "duration": 29,
    "start_time": "2022-06-09T18:58:12.726Z"
   },
   {
    "duration": 22,
    "start_time": "2022-06-09T18:58:12.757Z"
   },
   {
    "duration": 41,
    "start_time": "2022-06-09T18:58:12.781Z"
   },
   {
    "duration": 11,
    "start_time": "2022-06-09T18:58:12.824Z"
   },
   {
    "duration": 13,
    "start_time": "2022-06-09T18:58:12.836Z"
   },
   {
    "duration": 91,
    "start_time": "2022-06-09T18:58:12.854Z"
   },
   {
    "duration": 12,
    "start_time": "2022-06-09T18:58:12.947Z"
   },
   {
    "duration": 52,
    "start_time": "2022-06-09T18:58:12.960Z"
   },
   {
    "duration": 10,
    "start_time": "2022-06-09T18:58:13.014Z"
   },
   {
    "duration": 22,
    "start_time": "2022-06-09T18:58:13.026Z"
   },
   {
    "duration": 10,
    "start_time": "2022-06-09T18:58:13.050Z"
   },
   {
    "duration": 23,
    "start_time": "2022-06-09T18:58:13.062Z"
   },
   {
    "duration": 15,
    "start_time": "2022-06-09T18:58:13.087Z"
   },
   {
    "duration": 38,
    "start_time": "2022-06-09T18:58:13.103Z"
   },
   {
    "duration": 27,
    "start_time": "2022-06-09T18:58:13.143Z"
   },
   {
    "duration": 35,
    "start_time": "2022-06-09T18:58:13.172Z"
   },
   {
    "duration": 30,
    "start_time": "2022-06-09T18:58:13.209Z"
   },
   {
    "duration": 9,
    "start_time": "2022-06-09T18:58:13.241Z"
   },
   {
    "duration": 49,
    "start_time": "2022-06-09T18:58:13.251Z"
   },
   {
    "duration": 7,
    "start_time": "2022-06-09T18:58:13.302Z"
   },
   {
    "duration": 6,
    "start_time": "2022-06-09T18:58:13.311Z"
   },
   {
    "duration": 12,
    "start_time": "2022-06-09T18:58:13.319Z"
   },
   {
    "duration": 29,
    "start_time": "2022-06-09T18:58:13.332Z"
   },
   {
    "duration": 46,
    "start_time": "2022-06-09T18:58:13.362Z"
   },
   {
    "duration": 5,
    "start_time": "2022-06-09T18:58:13.410Z"
   },
   {
    "duration": 19,
    "start_time": "2022-06-09T18:58:13.417Z"
   },
   {
    "duration": 11,
    "start_time": "2022-06-09T18:58:13.437Z"
   },
   {
    "duration": 10,
    "start_time": "2022-06-09T18:58:13.450Z"
   },
   {
    "duration": 8,
    "start_time": "2022-06-09T18:58:13.462Z"
   },
   {
    "duration": 33,
    "start_time": "2022-06-09T18:58:13.494Z"
   },
   {
    "duration": 4,
    "start_time": "2022-06-09T18:58:13.529Z"
   },
   {
    "duration": 9,
    "start_time": "2022-06-09T18:58:13.535Z"
   },
   {
    "duration": 24,
    "start_time": "2022-06-09T18:58:13.548Z"
   },
   {
    "duration": 6,
    "start_time": "2022-06-09T18:58:13.595Z"
   },
   {
    "duration": 130,
    "start_time": "2022-06-09T18:58:13.603Z"
   },
   {
    "duration": 133,
    "start_time": "2022-06-09T18:58:27.537Z"
   },
   {
    "duration": 121,
    "start_time": "2022-06-09T19:05:39.188Z"
   },
   {
    "duration": 4,
    "start_time": "2022-06-09T19:05:51.740Z"
   },
   {
    "duration": 5,
    "start_time": "2022-06-09T19:05:57.888Z"
   },
   {
    "duration": 24,
    "start_time": "2022-06-09T19:08:17.109Z"
   },
   {
    "duration": 1142,
    "start_time": "2022-06-09T19:09:59.168Z"
   },
   {
    "duration": 183,
    "start_time": "2022-06-09T19:10:00.315Z"
   },
   {
    "duration": 7,
    "start_time": "2022-06-09T19:10:00.504Z"
   },
   {
    "duration": 153,
    "start_time": "2022-06-09T19:10:00.513Z"
   },
   {
    "duration": 103,
    "start_time": "2022-06-09T19:10:00.669Z"
   },
   {
    "duration": 24,
    "start_time": "2022-06-09T19:10:00.774Z"
   },
   {
    "duration": 33,
    "start_time": "2022-06-09T19:10:00.805Z"
   },
   {
    "duration": 6,
    "start_time": "2022-06-09T19:10:00.839Z"
   },
   {
    "duration": 33,
    "start_time": "2022-06-09T19:10:00.847Z"
   },
   {
    "duration": 38,
    "start_time": "2022-06-09T19:10:00.882Z"
   },
   {
    "duration": 20,
    "start_time": "2022-06-09T19:10:00.922Z"
   },
   {
    "duration": 16,
    "start_time": "2022-06-09T19:10:00.944Z"
   },
   {
    "duration": 26,
    "start_time": "2022-06-09T19:10:00.962Z"
   },
   {
    "duration": 97,
    "start_time": "2022-06-09T19:10:00.996Z"
   },
   {
    "duration": 15,
    "start_time": "2022-06-09T19:10:01.096Z"
   },
   {
    "duration": 35,
    "start_time": "2022-06-09T19:10:01.113Z"
   },
   {
    "duration": 10,
    "start_time": "2022-06-09T19:10:01.150Z"
   },
   {
    "duration": 46,
    "start_time": "2022-06-09T19:10:01.161Z"
   },
   {
    "duration": 20,
    "start_time": "2022-06-09T19:10:01.208Z"
   },
   {
    "duration": 26,
    "start_time": "2022-06-09T19:10:01.229Z"
   },
   {
    "duration": 12,
    "start_time": "2022-06-09T19:10:01.257Z"
   },
   {
    "duration": 70,
    "start_time": "2022-06-09T19:10:01.271Z"
   },
   {
    "duration": 29,
    "start_time": "2022-06-09T19:10:01.342Z"
   },
   {
    "duration": 17,
    "start_time": "2022-06-09T19:10:01.372Z"
   },
   {
    "duration": 40,
    "start_time": "2022-06-09T19:10:01.391Z"
   },
   {
    "duration": 8,
    "start_time": "2022-06-09T19:10:01.433Z"
   },
   {
    "duration": 42,
    "start_time": "2022-06-09T19:10:01.442Z"
   },
   {
    "duration": 4,
    "start_time": "2022-06-09T19:10:01.487Z"
   },
   {
    "duration": 43,
    "start_time": "2022-06-09T19:10:01.493Z"
   },
   {
    "duration": 33,
    "start_time": "2022-06-09T19:10:01.538Z"
   },
   {
    "duration": 68,
    "start_time": "2022-06-09T19:10:01.573Z"
   },
   {
    "duration": 24,
    "start_time": "2022-06-09T19:10:01.642Z"
   },
   {
    "duration": 21,
    "start_time": "2022-06-09T19:10:01.668Z"
   },
   {
    "duration": 57,
    "start_time": "2022-06-09T19:10:01.691Z"
   },
   {
    "duration": 26,
    "start_time": "2022-06-09T19:10:01.750Z"
   },
   {
    "duration": 40,
    "start_time": "2022-06-09T19:10:01.779Z"
   },
   {
    "duration": 30,
    "start_time": "2022-06-09T19:10:01.821Z"
   },
   {
    "duration": 58,
    "start_time": "2022-06-09T19:10:01.853Z"
   },
   {
    "duration": 36,
    "start_time": "2022-06-09T19:10:01.913Z"
   },
   {
    "duration": 31,
    "start_time": "2022-06-09T19:10:01.952Z"
   },
   {
    "duration": 57,
    "start_time": "2022-06-09T19:10:01.988Z"
   },
   {
    "duration": 17,
    "start_time": "2022-06-09T19:10:02.046Z"
   },
   {
    "duration": 178,
    "start_time": "2022-06-09T19:10:02.066Z"
   },
   {
    "duration": 27,
    "start_time": "2022-06-09T19:10:02.246Z"
   },
   {
    "duration": 115,
    "start_time": "2022-06-09T19:12:20.849Z"
   },
   {
    "duration": 26,
    "start_time": "2022-06-09T19:13:05.654Z"
   },
   {
    "duration": 20,
    "start_time": "2022-06-09T19:13:11.408Z"
   },
   {
    "duration": 1068,
    "start_time": "2022-06-09T19:15:41.959Z"
   },
   {
    "duration": 182,
    "start_time": "2022-06-09T19:15:43.029Z"
   },
   {
    "duration": 11,
    "start_time": "2022-06-09T19:15:43.213Z"
   },
   {
    "duration": 157,
    "start_time": "2022-06-09T19:15:43.227Z"
   },
   {
    "duration": 103,
    "start_time": "2022-06-09T19:15:43.386Z"
   },
   {
    "duration": 25,
    "start_time": "2022-06-09T19:15:43.491Z"
   },
   {
    "duration": 32,
    "start_time": "2022-06-09T19:15:43.518Z"
   },
   {
    "duration": 5,
    "start_time": "2022-06-09T19:15:43.552Z"
   },
   {
    "duration": 27,
    "start_time": "2022-06-09T19:15:43.559Z"
   },
   {
    "duration": 27,
    "start_time": "2022-06-09T19:15:43.589Z"
   },
   {
    "duration": 16,
    "start_time": "2022-06-09T19:15:43.618Z"
   },
   {
    "duration": 11,
    "start_time": "2022-06-09T19:15:43.636Z"
   },
   {
    "duration": 10,
    "start_time": "2022-06-09T19:15:43.649Z"
   },
   {
    "duration": 103,
    "start_time": "2022-06-09T19:15:43.661Z"
   },
   {
    "duration": 12,
    "start_time": "2022-06-09T19:15:43.766Z"
   },
   {
    "duration": 38,
    "start_time": "2022-06-09T19:15:43.780Z"
   },
   {
    "duration": 11,
    "start_time": "2022-06-09T19:15:43.819Z"
   },
   {
    "duration": 19,
    "start_time": "2022-06-09T19:15:43.832Z"
   },
   {
    "duration": 9,
    "start_time": "2022-06-09T19:15:43.853Z"
   },
   {
    "duration": 34,
    "start_time": "2022-06-09T19:15:43.863Z"
   },
   {
    "duration": 16,
    "start_time": "2022-06-09T19:15:43.905Z"
   },
   {
    "duration": 32,
    "start_time": "2022-06-09T19:15:43.923Z"
   },
   {
    "duration": 52,
    "start_time": "2022-06-09T19:15:43.956Z"
   },
   {
    "duration": 15,
    "start_time": "2022-06-09T19:15:44.010Z"
   },
   {
    "duration": 27,
    "start_time": "2022-06-09T19:15:44.026Z"
   },
   {
    "duration": 8,
    "start_time": "2022-06-09T19:15:44.055Z"
   },
   {
    "duration": 44,
    "start_time": "2022-06-09T19:15:44.065Z"
   },
   {
    "duration": 4,
    "start_time": "2022-06-09T19:15:44.113Z"
   },
   {
    "duration": 7,
    "start_time": "2022-06-09T19:15:44.119Z"
   },
   {
    "duration": 12,
    "start_time": "2022-06-09T19:15:44.127Z"
   },
   {
    "duration": 28,
    "start_time": "2022-06-09T19:15:44.140Z"
   },
   {
    "duration": 32,
    "start_time": "2022-06-09T19:15:44.169Z"
   },
   {
    "duration": 4,
    "start_time": "2022-06-09T19:15:44.210Z"
   },
   {
    "duration": 18,
    "start_time": "2022-06-09T19:15:44.215Z"
   },
   {
    "duration": 10,
    "start_time": "2022-06-09T19:15:44.235Z"
   },
   {
    "duration": 11,
    "start_time": "2022-06-09T19:15:44.246Z"
   },
   {
    "duration": 13,
    "start_time": "2022-06-09T19:15:44.258Z"
   },
   {
    "duration": 52,
    "start_time": "2022-06-09T19:15:44.272Z"
   },
   {
    "duration": 4,
    "start_time": "2022-06-09T19:15:44.326Z"
   },
   {
    "duration": 6,
    "start_time": "2022-06-09T19:15:44.332Z"
   },
   {
    "duration": 24,
    "start_time": "2022-06-09T19:15:44.339Z"
   },
   {
    "duration": 4,
    "start_time": "2022-06-09T19:15:44.364Z"
   },
   {
    "duration": 150,
    "start_time": "2022-06-09T19:15:44.370Z"
   },
   {
    "duration": 8,
    "start_time": "2022-06-09T19:15:44.521Z"
   },
   {
    "duration": 19,
    "start_time": "2022-06-09T19:15:44.530Z"
   },
   {
    "duration": 3812,
    "start_time": "2022-06-15T16:24:24.561Z"
   },
   {
    "duration": 273,
    "start_time": "2022-06-15T16:24:28.376Z"
   },
   {
    "duration": 7,
    "start_time": "2022-06-15T16:24:28.651Z"
   },
   {
    "duration": 309,
    "start_time": "2022-06-15T16:24:28.660Z"
   },
   {
    "duration": 303,
    "start_time": "2022-06-15T16:24:28.970Z"
   },
   {
    "duration": 60,
    "start_time": "2022-06-15T16:24:29.275Z"
   },
   {
    "duration": 58,
    "start_time": "2022-06-15T16:24:29.336Z"
   },
   {
    "duration": 5,
    "start_time": "2022-06-15T16:24:29.396Z"
   },
   {
    "duration": 31,
    "start_time": "2022-06-15T16:24:29.402Z"
   },
   {
    "duration": 21,
    "start_time": "2022-06-15T16:24:29.436Z"
   },
   {
    "duration": 17,
    "start_time": "2022-06-15T16:24:29.459Z"
   },
   {
    "duration": 16,
    "start_time": "2022-06-15T16:24:29.478Z"
   },
   {
    "duration": 13,
    "start_time": "2022-06-15T16:24:29.495Z"
   },
   {
    "duration": 93,
    "start_time": "2022-06-15T16:24:29.510Z"
   },
   {
    "duration": 9,
    "start_time": "2022-06-15T16:24:29.605Z"
   },
   {
    "duration": 21,
    "start_time": "2022-06-15T16:24:29.616Z"
   },
   {
    "duration": 26,
    "start_time": "2022-06-15T16:24:29.638Z"
   },
   {
    "duration": 19,
    "start_time": "2022-06-15T16:24:29.666Z"
   },
   {
    "duration": 10,
    "start_time": "2022-06-15T16:24:29.686Z"
   },
   {
    "duration": 16,
    "start_time": "2022-06-15T16:24:29.698Z"
   },
   {
    "duration": 13,
    "start_time": "2022-06-15T16:24:29.716Z"
   },
   {
    "duration": 55,
    "start_time": "2022-06-15T16:24:29.731Z"
   },
   {
    "duration": 25,
    "start_time": "2022-06-15T16:24:29.788Z"
   },
   {
    "duration": 14,
    "start_time": "2022-06-15T16:24:29.814Z"
   },
   {
    "duration": 48,
    "start_time": "2022-06-15T16:24:29.830Z"
   },
   {
    "duration": 7,
    "start_time": "2022-06-15T16:24:29.880Z"
   },
   {
    "duration": 18,
    "start_time": "2022-06-15T16:24:29.888Z"
   },
   {
    "duration": 6,
    "start_time": "2022-06-15T16:24:29.909Z"
   },
   {
    "duration": 4,
    "start_time": "2022-06-15T16:24:29.916Z"
   },
   {
    "duration": 40,
    "start_time": "2022-06-15T16:24:29.922Z"
   },
   {
    "duration": 26,
    "start_time": "2022-06-15T16:24:29.964Z"
   },
   {
    "duration": 19,
    "start_time": "2022-06-15T16:24:29.992Z"
   },
   {
    "duration": 4,
    "start_time": "2022-06-15T16:24:30.013Z"
   },
   {
    "duration": 46,
    "start_time": "2022-06-15T16:24:30.019Z"
   },
   {
    "duration": 16,
    "start_time": "2022-06-15T16:24:30.067Z"
   },
   {
    "duration": 13,
    "start_time": "2022-06-15T16:24:30.085Z"
   },
   {
    "duration": 7,
    "start_time": "2022-06-15T16:24:30.100Z"
   },
   {
    "duration": 23,
    "start_time": "2022-06-15T16:24:30.108Z"
   },
   {
    "duration": 4,
    "start_time": "2022-06-15T16:24:30.133Z"
   },
   {
    "duration": 28,
    "start_time": "2022-06-15T16:24:30.138Z"
   },
   {
    "duration": 23,
    "start_time": "2022-06-15T16:24:30.168Z"
   },
   {
    "duration": 4,
    "start_time": "2022-06-15T16:24:30.193Z"
   },
   {
    "duration": 128,
    "start_time": "2022-06-15T16:24:30.198Z"
   },
   {
    "duration": 7,
    "start_time": "2022-06-15T16:24:30.328Z"
   },
   {
    "duration": 35,
    "start_time": "2022-06-15T16:24:30.336Z"
   },
   {
    "duration": 18,
    "start_time": "2022-06-15T16:29:00.752Z"
   },
   {
    "duration": 20,
    "start_time": "2022-06-15T16:29:35.419Z"
   },
   {
    "duration": 20,
    "start_time": "2022-06-15T16:30:44.803Z"
   },
   {
    "duration": 20,
    "start_time": "2022-06-15T16:31:56.635Z"
   },
   {
    "duration": 16,
    "start_time": "2022-06-15T16:39:34.625Z"
   },
   {
    "duration": 23,
    "start_time": "2022-06-15T16:39:49.577Z"
   },
   {
    "duration": 23,
    "start_time": "2022-06-15T16:41:06.887Z"
   },
   {
    "duration": 32,
    "start_time": "2022-06-15T16:41:11.292Z"
   },
   {
    "duration": 25,
    "start_time": "2022-06-15T16:41:16.548Z"
   },
   {
    "duration": 25,
    "start_time": "2022-06-15T16:42:35.242Z"
   },
   {
    "duration": 29,
    "start_time": "2022-06-15T16:43:29.595Z"
   },
   {
    "duration": 40,
    "start_time": "2022-06-15T16:44:02.435Z"
   },
   {
    "duration": 30,
    "start_time": "2022-06-15T16:44:11.934Z"
   },
   {
    "duration": 23,
    "start_time": "2022-06-15T16:49:57.685Z"
   },
   {
    "duration": 23,
    "start_time": "2022-06-15T16:50:00.574Z"
   },
   {
    "duration": 33,
    "start_time": "2022-06-15T16:50:05.173Z"
   },
   {
    "duration": 116,
    "start_time": "2022-06-15T16:56:42.737Z"
   },
   {
    "duration": 36,
    "start_time": "2022-06-15T16:57:16.750Z"
   },
   {
    "duration": 1078,
    "start_time": "2022-06-15T16:57:25.883Z"
   },
   {
    "duration": 245,
    "start_time": "2022-06-15T16:57:26.963Z"
   },
   {
    "duration": 5,
    "start_time": "2022-06-15T16:57:27.211Z"
   },
   {
    "duration": 438,
    "start_time": "2022-06-15T16:57:27.218Z"
   },
   {
    "duration": 307,
    "start_time": "2022-06-15T16:57:27.658Z"
   },
   {
    "duration": 53,
    "start_time": "2022-06-15T16:57:27.968Z"
   },
   {
    "duration": 63,
    "start_time": "2022-06-15T16:57:28.023Z"
   },
   {
    "duration": 8,
    "start_time": "2022-06-15T16:57:28.089Z"
   },
   {
    "duration": 73,
    "start_time": "2022-06-15T16:57:28.098Z"
   },
   {
    "duration": 34,
    "start_time": "2022-06-15T16:57:28.174Z"
   },
   {
    "duration": 42,
    "start_time": "2022-06-15T16:57:28.210Z"
   },
   {
    "duration": 29,
    "start_time": "2022-06-15T16:57:28.254Z"
   },
   {
    "duration": 27,
    "start_time": "2022-06-15T16:57:28.285Z"
   },
   {
    "duration": 118,
    "start_time": "2022-06-15T16:57:28.314Z"
   },
   {
    "duration": 11,
    "start_time": "2022-06-15T16:57:28.434Z"
   },
   {
    "duration": 33,
    "start_time": "2022-06-15T16:57:28.447Z"
   },
   {
    "duration": 13,
    "start_time": "2022-06-15T16:57:28.481Z"
   },
   {
    "duration": 44,
    "start_time": "2022-06-15T16:57:28.496Z"
   },
   {
    "duration": 29,
    "start_time": "2022-06-15T16:57:28.541Z"
   },
   {
    "duration": 50,
    "start_time": "2022-06-15T16:57:28.571Z"
   },
   {
    "duration": 19,
    "start_time": "2022-06-15T16:57:28.623Z"
   },
   {
    "duration": 43,
    "start_time": "2022-06-15T16:57:28.644Z"
   },
   {
    "duration": 23,
    "start_time": "2022-06-15T16:57:28.689Z"
   },
   {
    "duration": 14,
    "start_time": "2022-06-15T16:57:28.714Z"
   },
   {
    "duration": 48,
    "start_time": "2022-06-15T16:57:28.730Z"
   },
   {
    "duration": 9,
    "start_time": "2022-06-15T16:57:28.780Z"
   },
   {
    "duration": 27,
    "start_time": "2022-06-15T16:57:28.790Z"
   },
   {
    "duration": 13,
    "start_time": "2022-06-15T16:57:28.822Z"
   },
   {
    "duration": 16,
    "start_time": "2022-06-15T16:57:28.836Z"
   },
   {
    "duration": 27,
    "start_time": "2022-06-15T16:57:28.854Z"
   },
   {
    "duration": 62,
    "start_time": "2022-06-15T16:57:28.883Z"
   },
   {
    "duration": 16,
    "start_time": "2022-06-15T16:57:28.947Z"
   },
   {
    "duration": 26,
    "start_time": "2022-06-15T16:57:28.965Z"
   },
   {
    "duration": 35,
    "start_time": "2022-06-15T16:57:28.993Z"
   },
   {
    "duration": 27,
    "start_time": "2022-06-15T16:57:29.030Z"
   },
   {
    "duration": 22,
    "start_time": "2022-06-15T16:57:29.059Z"
   },
   {
    "duration": 7,
    "start_time": "2022-06-15T16:57:29.083Z"
   },
   {
    "duration": 46,
    "start_time": "2022-06-15T16:57:29.092Z"
   },
   {
    "duration": 4,
    "start_time": "2022-06-15T16:57:29.140Z"
   },
   {
    "duration": 24,
    "start_time": "2022-06-15T16:57:29.145Z"
   },
   {
    "duration": 29,
    "start_time": "2022-06-15T16:57:29.171Z"
   },
   {
    "duration": 15,
    "start_time": "2022-06-15T16:57:29.202Z"
   },
   {
    "duration": 153,
    "start_time": "2022-06-15T16:57:29.219Z"
   },
   {
    "duration": 7,
    "start_time": "2022-06-15T16:57:29.374Z"
   },
   {
    "duration": 39,
    "start_time": "2022-06-15T16:57:29.382Z"
   },
   {
    "duration": 30,
    "start_time": "2022-06-15T16:57:29.423Z"
   },
   {
    "duration": 25,
    "start_time": "2022-06-15T16:57:29.458Z"
   },
   {
    "duration": 24,
    "start_time": "2022-06-15T16:57:29.485Z"
   },
   {
    "duration": 51,
    "start_time": "2022-06-15T16:57:29.510Z"
   },
   {
    "duration": 121,
    "start_time": "2022-06-15T16:57:29.563Z"
   },
   {
    "duration": 0,
    "start_time": "2022-06-15T16:57:29.686Z"
   },
   {
    "duration": 19,
    "start_time": "2022-06-15T16:58:01.519Z"
   },
   {
    "duration": 24,
    "start_time": "2022-06-15T16:58:14.551Z"
   },
   {
    "duration": 8,
    "start_time": "2022-06-15T17:00:43.458Z"
   },
   {
    "duration": 4,
    "start_time": "2022-06-15T17:01:28.860Z"
   },
   {
    "duration": 4,
    "start_time": "2022-06-15T17:01:36.584Z"
   },
   {
    "duration": 8,
    "start_time": "2022-06-15T17:07:40.296Z"
   },
   {
    "duration": 10,
    "start_time": "2022-06-15T17:08:28.237Z"
   },
   {
    "duration": 13,
    "start_time": "2022-06-15T17:08:39.117Z"
   },
   {
    "duration": 17,
    "start_time": "2022-06-15T17:11:45.559Z"
   },
   {
    "duration": 10,
    "start_time": "2022-06-15T17:14:59.603Z"
   },
   {
    "duration": 65,
    "start_time": "2022-06-30T15:59:31.292Z"
   },
   {
    "duration": 1197,
    "start_time": "2022-06-30T16:02:10.681Z"
   },
   {
    "duration": 216,
    "start_time": "2022-06-30T16:02:11.880Z"
   },
   {
    "duration": 331,
    "start_time": "2022-06-30T16:02:12.098Z"
   },
   {
    "duration": 119,
    "start_time": "2022-06-30T16:02:12.432Z"
   },
   {
    "duration": 33,
    "start_time": "2022-06-30T16:02:12.553Z"
   },
   {
    "duration": 41,
    "start_time": "2022-06-30T16:02:12.588Z"
   },
   {
    "duration": 6,
    "start_time": "2022-06-30T16:02:12.630Z"
   },
   {
    "duration": 23,
    "start_time": "2022-06-30T16:02:12.638Z"
   },
   {
    "duration": 27,
    "start_time": "2022-06-30T16:02:12.662Z"
   },
   {
    "duration": 19,
    "start_time": "2022-06-30T16:02:12.691Z"
   },
   {
    "duration": 13,
    "start_time": "2022-06-30T16:02:12.712Z"
   },
   {
    "duration": 13,
    "start_time": "2022-06-30T16:02:12.751Z"
   },
   {
    "duration": 91,
    "start_time": "2022-06-30T16:02:12.766Z"
   },
   {
    "duration": 11,
    "start_time": "2022-06-30T16:02:12.858Z"
   },
   {
    "duration": 23,
    "start_time": "2022-06-30T16:02:12.870Z"
   },
   {
    "duration": 13,
    "start_time": "2022-06-30T16:02:12.895Z"
   },
   {
    "duration": 43,
    "start_time": "2022-06-30T16:02:12.909Z"
   },
   {
    "duration": 9,
    "start_time": "2022-06-30T16:02:12.954Z"
   },
   {
    "duration": 15,
    "start_time": "2022-06-30T16:02:12.965Z"
   },
   {
    "duration": 13,
    "start_time": "2022-06-30T16:02:12.982Z"
   },
   {
    "duration": 55,
    "start_time": "2022-06-30T16:02:12.997Z"
   },
   {
    "duration": 23,
    "start_time": "2022-06-30T16:02:13.054Z"
   },
   {
    "duration": 18,
    "start_time": "2022-06-30T16:02:13.079Z"
   },
   {
    "duration": 22,
    "start_time": "2022-06-30T16:02:13.099Z"
   },
   {
    "duration": 34,
    "start_time": "2022-06-30T16:02:13.123Z"
   },
   {
    "duration": 26,
    "start_time": "2022-06-30T16:02:13.159Z"
   },
   {
    "duration": 6,
    "start_time": "2022-06-30T16:02:13.187Z"
   },
   {
    "duration": 5,
    "start_time": "2022-06-30T16:02:13.197Z"
   },
   {
    "duration": 17,
    "start_time": "2022-06-30T16:02:13.203Z"
   },
   {
    "duration": 57,
    "start_time": "2022-06-30T16:02:13.222Z"
   },
   {
    "duration": 22,
    "start_time": "2022-06-30T16:02:13.281Z"
   },
   {
    "duration": 4,
    "start_time": "2022-06-30T16:02:13.305Z"
   },
   {
    "duration": 41,
    "start_time": "2022-06-30T16:02:13.311Z"
   },
   {
    "duration": 7,
    "start_time": "2022-06-30T16:02:13.354Z"
   },
   {
    "duration": 10,
    "start_time": "2022-06-30T16:02:13.363Z"
   },
   {
    "duration": 7,
    "start_time": "2022-06-30T16:02:13.374Z"
   },
   {
    "duration": 24,
    "start_time": "2022-06-30T16:02:13.383Z"
   },
   {
    "duration": 4,
    "start_time": "2022-06-30T16:02:13.409Z"
   },
   {
    "duration": 36,
    "start_time": "2022-06-30T16:02:13.415Z"
   },
   {
    "duration": 36,
    "start_time": "2022-06-30T16:02:13.453Z"
   },
   {
    "duration": 4,
    "start_time": "2022-06-30T16:02:13.491Z"
   },
   {
    "duration": 136,
    "start_time": "2022-06-30T16:02:13.496Z"
   },
   {
    "duration": 7,
    "start_time": "2022-06-30T16:02:13.633Z"
   },
   {
    "duration": 18,
    "start_time": "2022-06-30T16:02:13.651Z"
   },
   {
    "duration": 23,
    "start_time": "2022-06-30T16:02:13.671Z"
   },
   {
    "duration": 25,
    "start_time": "2022-06-30T16:02:13.695Z"
   },
   {
    "duration": 50,
    "start_time": "2022-06-30T16:02:13.722Z"
   },
   {
    "duration": 30,
    "start_time": "2022-06-30T16:02:13.774Z"
   },
   {
    "duration": 10,
    "start_time": "2022-06-30T16:02:13.806Z"
   },
   {
    "duration": 36,
    "start_time": "2022-06-30T16:02:13.817Z"
   },
   {
    "duration": 13,
    "start_time": "2022-06-30T16:02:13.855Z"
   },
   {
    "duration": 9,
    "start_time": "2022-06-30T16:02:52.417Z"
   },
   {
    "duration": 1262,
    "start_time": "2022-07-04T12:25:18.683Z"
   },
   {
    "duration": 546,
    "start_time": "2022-07-04T12:25:19.947Z"
   },
   {
    "duration": 442,
    "start_time": "2022-07-04T12:25:20.495Z"
   },
   {
    "duration": 301,
    "start_time": "2022-07-04T12:25:20.939Z"
   },
   {
    "duration": 87,
    "start_time": "2022-07-04T12:25:21.241Z"
   },
   {
    "duration": 81,
    "start_time": "2022-07-04T12:25:21.333Z"
   },
   {
    "duration": 5,
    "start_time": "2022-07-04T12:25:21.416Z"
   },
   {
    "duration": 54,
    "start_time": "2022-07-04T12:25:21.422Z"
   },
   {
    "duration": 17,
    "start_time": "2022-07-04T12:25:21.478Z"
   },
   {
    "duration": 30,
    "start_time": "2022-07-04T12:25:21.498Z"
   },
   {
    "duration": 17,
    "start_time": "2022-07-04T12:25:21.533Z"
   },
   {
    "duration": 26,
    "start_time": "2022-07-04T12:25:21.552Z"
   },
   {
    "duration": 78,
    "start_time": "2022-07-04T12:25:21.579Z"
   },
   {
    "duration": 9,
    "start_time": "2022-07-04T12:25:21.659Z"
   },
   {
    "duration": 23,
    "start_time": "2022-07-04T12:25:21.669Z"
   },
   {
    "duration": 9,
    "start_time": "2022-07-04T12:25:21.693Z"
   },
   {
    "duration": 38,
    "start_time": "2022-07-04T12:25:21.704Z"
   },
   {
    "duration": 12,
    "start_time": "2022-07-04T12:25:21.743Z"
   },
   {
    "duration": 17,
    "start_time": "2022-07-04T12:25:21.757Z"
   },
   {
    "duration": 8,
    "start_time": "2022-07-04T12:25:21.776Z"
   },
   {
    "duration": 55,
    "start_time": "2022-07-04T12:25:21.785Z"
   },
   {
    "duration": 24,
    "start_time": "2022-07-04T12:25:21.842Z"
   },
   {
    "duration": 15,
    "start_time": "2022-07-04T12:25:21.868Z"
   },
   {
    "duration": 54,
    "start_time": "2022-07-04T12:25:21.885Z"
   },
   {
    "duration": 10,
    "start_time": "2022-07-04T12:25:21.941Z"
   },
   {
    "duration": 24,
    "start_time": "2022-07-04T12:25:21.953Z"
   },
   {
    "duration": 4,
    "start_time": "2022-07-04T12:25:21.978Z"
   },
   {
    "duration": 7,
    "start_time": "2022-07-04T12:25:21.985Z"
   },
   {
    "duration": 15,
    "start_time": "2022-07-04T12:25:21.993Z"
   },
   {
    "duration": 44,
    "start_time": "2022-07-04T12:25:22.027Z"
   },
   {
    "duration": 18,
    "start_time": "2022-07-04T12:25:22.073Z"
   },
   {
    "duration": 4,
    "start_time": "2022-07-04T12:25:22.092Z"
   },
   {
    "duration": 23,
    "start_time": "2022-07-04T12:25:22.098Z"
   },
   {
    "duration": 13,
    "start_time": "2022-07-04T12:25:22.128Z"
   },
   {
    "duration": 13,
    "start_time": "2022-07-04T12:25:22.142Z"
   },
   {
    "duration": 6,
    "start_time": "2022-07-04T12:25:22.157Z"
   },
   {
    "duration": 31,
    "start_time": "2022-07-04T12:25:22.164Z"
   },
   {
    "duration": 4,
    "start_time": "2022-07-04T12:25:22.197Z"
   },
   {
    "duration": 25,
    "start_time": "2022-07-04T12:25:22.203Z"
   },
   {
    "duration": 25,
    "start_time": "2022-07-04T12:25:22.232Z"
   },
   {
    "duration": 4,
    "start_time": "2022-07-04T12:25:22.259Z"
   },
   {
    "duration": 147,
    "start_time": "2022-07-04T12:25:22.264Z"
   },
   {
    "duration": 15,
    "start_time": "2022-07-04T12:25:22.412Z"
   },
   {
    "duration": 23,
    "start_time": "2022-07-04T12:25:22.435Z"
   },
   {
    "duration": 24,
    "start_time": "2022-07-04T12:25:22.459Z"
   },
   {
    "duration": 24,
    "start_time": "2022-07-04T12:25:22.484Z"
   },
   {
    "duration": 29,
    "start_time": "2022-07-04T12:25:22.528Z"
   },
   {
    "duration": 26,
    "start_time": "2022-07-04T12:25:22.559Z"
   },
   {
    "duration": 9,
    "start_time": "2022-07-04T12:25:22.586Z"
   },
   {
    "duration": 10,
    "start_time": "2022-07-04T12:25:22.597Z"
   },
   {
    "duration": 35,
    "start_time": "2022-07-04T12:25:22.608Z"
   },
   {
    "duration": 32,
    "start_time": "2022-07-04T12:31:59.238Z"
   },
   {
    "duration": 22,
    "start_time": "2022-07-04T12:33:11.474Z"
   },
   {
    "duration": 11,
    "start_time": "2022-07-04T12:34:31.396Z"
   },
   {
    "duration": 20,
    "start_time": "2022-07-04T12:35:32.397Z"
   },
   {
    "duration": 17,
    "start_time": "2022-07-04T12:54:19.651Z"
   },
   {
    "duration": 13,
    "start_time": "2022-07-04T12:56:47.863Z"
   },
   {
    "duration": 408,
    "start_time": "2022-07-04T13:54:02.775Z"
   },
   {
    "duration": 344,
    "start_time": "2022-07-04T13:54:23.303Z"
   },
   {
    "duration": 1086,
    "start_time": "2022-07-04T13:54:54.754Z"
   },
   {
    "duration": 165,
    "start_time": "2022-07-04T13:54:55.842Z"
   },
   {
    "duration": 135,
    "start_time": "2022-07-04T13:54:56.008Z"
   },
   {
    "duration": 94,
    "start_time": "2022-07-04T13:54:56.145Z"
   },
   {
    "duration": 20,
    "start_time": "2022-07-04T13:54:56.241Z"
   },
   {
    "duration": 33,
    "start_time": "2022-07-04T13:54:56.263Z"
   },
   {
    "duration": 5,
    "start_time": "2022-07-04T13:54:56.298Z"
   },
   {
    "duration": 23,
    "start_time": "2022-07-04T13:54:56.304Z"
   },
   {
    "duration": 17,
    "start_time": "2022-07-04T13:54:56.329Z"
   },
   {
    "duration": 15,
    "start_time": "2022-07-04T13:54:56.349Z"
   },
   {
    "duration": 9,
    "start_time": "2022-07-04T13:54:56.366Z"
   },
   {
    "duration": 12,
    "start_time": "2022-07-04T13:54:56.376Z"
   },
   {
    "duration": 100,
    "start_time": "2022-07-04T13:54:56.390Z"
   },
   {
    "duration": 13,
    "start_time": "2022-07-04T13:54:56.493Z"
   },
   {
    "duration": 37,
    "start_time": "2022-07-04T13:54:56.509Z"
   },
   {
    "duration": 11,
    "start_time": "2022-07-04T13:54:56.548Z"
   },
   {
    "duration": 30,
    "start_time": "2022-07-04T13:54:56.561Z"
   },
   {
    "duration": 13,
    "start_time": "2022-07-04T13:54:56.593Z"
   },
   {
    "duration": 35,
    "start_time": "2022-07-04T13:54:56.608Z"
   },
   {
    "duration": 10,
    "start_time": "2022-07-04T13:54:56.645Z"
   },
   {
    "duration": 37,
    "start_time": "2022-07-04T13:54:56.656Z"
   },
   {
    "duration": 39,
    "start_time": "2022-07-04T13:54:56.695Z"
   },
   {
    "duration": 12,
    "start_time": "2022-07-04T13:54:56.736Z"
   },
   {
    "duration": 22,
    "start_time": "2022-07-04T13:54:56.750Z"
   },
   {
    "duration": 9,
    "start_time": "2022-07-04T13:54:56.774Z"
   },
   {
    "duration": 48,
    "start_time": "2022-07-04T13:54:56.784Z"
   },
   {
    "duration": 4,
    "start_time": "2022-07-04T13:54:56.834Z"
   },
   {
    "duration": 4,
    "start_time": "2022-07-04T13:54:56.841Z"
   },
   {
    "duration": 13,
    "start_time": "2022-07-04T13:54:56.847Z"
   },
   {
    "duration": 28,
    "start_time": "2022-07-04T13:54:56.861Z"
   },
   {
    "duration": 36,
    "start_time": "2022-07-04T13:54:56.891Z"
   },
   {
    "duration": 4,
    "start_time": "2022-07-04T13:54:56.928Z"
   },
   {
    "duration": 24,
    "start_time": "2022-07-04T13:54:56.934Z"
   },
   {
    "duration": 7,
    "start_time": "2022-07-04T13:54:56.960Z"
   },
   {
    "duration": 11,
    "start_time": "2022-07-04T13:54:56.968Z"
   },
   {
    "duration": 7,
    "start_time": "2022-07-04T13:54:56.981Z"
   },
   {
    "duration": 92,
    "start_time": "2022-07-04T13:54:56.989Z"
   },
   {
    "duration": 0,
    "start_time": "2022-07-04T13:54:57.083Z"
   },
   {
    "duration": 0,
    "start_time": "2022-07-04T13:54:57.085Z"
   },
   {
    "duration": 0,
    "start_time": "2022-07-04T13:54:57.086Z"
   },
   {
    "duration": 0,
    "start_time": "2022-07-04T13:54:57.087Z"
   },
   {
    "duration": 0,
    "start_time": "2022-07-04T13:54:57.088Z"
   },
   {
    "duration": 0,
    "start_time": "2022-07-04T13:54:57.089Z"
   },
   {
    "duration": 0,
    "start_time": "2022-07-04T13:54:57.090Z"
   },
   {
    "duration": 0,
    "start_time": "2022-07-04T13:54:57.091Z"
   },
   {
    "duration": 0,
    "start_time": "2022-07-04T13:54:57.092Z"
   },
   {
    "duration": 0,
    "start_time": "2022-07-04T13:54:57.093Z"
   },
   {
    "duration": 0,
    "start_time": "2022-07-04T13:54:57.094Z"
   },
   {
    "duration": 0,
    "start_time": "2022-07-04T13:54:57.095Z"
   },
   {
    "duration": 0,
    "start_time": "2022-07-04T13:54:57.096Z"
   },
   {
    "duration": 0,
    "start_time": "2022-07-04T13:54:57.097Z"
   },
   {
    "duration": 1152,
    "start_time": "2022-07-04T13:55:28.019Z"
   },
   {
    "duration": 170,
    "start_time": "2022-07-04T13:55:29.173Z"
   },
   {
    "duration": 140,
    "start_time": "2022-07-04T13:55:29.344Z"
   },
   {
    "duration": 89,
    "start_time": "2022-07-04T13:55:29.487Z"
   },
   {
    "duration": 21,
    "start_time": "2022-07-04T13:55:29.578Z"
   },
   {
    "duration": 33,
    "start_time": "2022-07-04T13:55:29.601Z"
   },
   {
    "duration": 6,
    "start_time": "2022-07-04T13:55:29.636Z"
   },
   {
    "duration": 33,
    "start_time": "2022-07-04T13:55:29.643Z"
   },
   {
    "duration": 19,
    "start_time": "2022-07-04T13:55:29.678Z"
   },
   {
    "duration": 35,
    "start_time": "2022-07-04T13:55:29.699Z"
   },
   {
    "duration": 10,
    "start_time": "2022-07-04T13:55:29.735Z"
   },
   {
    "duration": 14,
    "start_time": "2022-07-04T13:55:29.746Z"
   },
   {
    "duration": 91,
    "start_time": "2022-07-04T13:55:29.761Z"
   },
   {
    "duration": 11,
    "start_time": "2022-07-04T13:55:29.854Z"
   },
   {
    "duration": 22,
    "start_time": "2022-07-04T13:55:29.867Z"
   },
   {
    "duration": 12,
    "start_time": "2022-07-04T13:55:29.891Z"
   },
   {
    "duration": 34,
    "start_time": "2022-07-04T13:55:29.905Z"
   },
   {
    "duration": 11,
    "start_time": "2022-07-04T13:55:29.941Z"
   },
   {
    "duration": 27,
    "start_time": "2022-07-04T13:55:29.954Z"
   },
   {
    "duration": 12,
    "start_time": "2022-07-04T13:55:29.983Z"
   },
   {
    "duration": 53,
    "start_time": "2022-07-04T13:55:29.997Z"
   },
   {
    "duration": 25,
    "start_time": "2022-07-04T13:55:30.052Z"
   },
   {
    "duration": 10,
    "start_time": "2022-07-04T13:55:30.079Z"
   },
   {
    "duration": 39,
    "start_time": "2022-07-04T13:55:30.091Z"
   },
   {
    "duration": 8,
    "start_time": "2022-07-04T13:55:30.132Z"
   },
   {
    "duration": 25,
    "start_time": "2022-07-04T13:55:30.142Z"
   },
   {
    "duration": 8,
    "start_time": "2022-07-04T13:55:30.169Z"
   },
   {
    "duration": 20,
    "start_time": "2022-07-04T13:55:30.181Z"
   },
   {
    "duration": 25,
    "start_time": "2022-07-04T13:55:30.203Z"
   },
   {
    "duration": 46,
    "start_time": "2022-07-04T13:55:30.229Z"
   },
   {
    "duration": 18,
    "start_time": "2022-07-04T13:55:30.276Z"
   },
   {
    "duration": 6,
    "start_time": "2022-07-04T13:55:30.295Z"
   },
   {
    "duration": 28,
    "start_time": "2022-07-04T13:55:30.303Z"
   },
   {
    "duration": 19,
    "start_time": "2022-07-04T13:55:30.333Z"
   },
   {
    "duration": 11,
    "start_time": "2022-07-04T13:55:30.354Z"
   },
   {
    "duration": 8,
    "start_time": "2022-07-04T13:55:30.367Z"
   },
   {
    "duration": 26,
    "start_time": "2022-07-04T13:55:30.376Z"
   },
   {
    "duration": 4,
    "start_time": "2022-07-04T13:55:30.403Z"
   },
   {
    "duration": 24,
    "start_time": "2022-07-04T13:55:30.408Z"
   },
   {
    "duration": 21,
    "start_time": "2022-07-04T13:55:30.434Z"
   },
   {
    "duration": 7,
    "start_time": "2022-07-04T13:55:30.457Z"
   },
   {
    "duration": 137,
    "start_time": "2022-07-04T13:55:30.465Z"
   },
   {
    "duration": 8,
    "start_time": "2022-07-04T13:55:30.603Z"
   },
   {
    "duration": 37,
    "start_time": "2022-07-04T13:55:30.612Z"
   },
   {
    "duration": 401,
    "start_time": "2022-07-04T13:55:30.651Z"
   },
   {
    "duration": 0,
    "start_time": "2022-07-04T13:55:31.053Z"
   },
   {
    "duration": 0,
    "start_time": "2022-07-04T13:55:31.055Z"
   },
   {
    "duration": 0,
    "start_time": "2022-07-04T13:55:31.055Z"
   },
   {
    "duration": 0,
    "start_time": "2022-07-04T13:55:31.057Z"
   },
   {
    "duration": 0,
    "start_time": "2022-07-04T13:55:31.058Z"
   },
   {
    "duration": 27,
    "start_time": "2022-07-04T13:56:05.579Z"
   },
   {
    "duration": 27,
    "start_time": "2022-07-04T13:57:23.452Z"
   },
   {
    "duration": 28,
    "start_time": "2022-07-04T13:58:26.783Z"
   },
   {
    "duration": 24,
    "start_time": "2022-07-04T13:58:56.110Z"
   },
   {
    "duration": 197,
    "start_time": "2022-07-04T14:00:38.683Z"
   },
   {
    "duration": 1269,
    "start_time": "2022-07-04T14:01:44.970Z"
   },
   {
    "duration": 1239,
    "start_time": "2022-07-04T14:02:04.832Z"
   },
   {
    "duration": 150,
    "start_time": "2022-07-04T14:02:15.495Z"
   },
   {
    "duration": 228,
    "start_time": "2022-07-04T14:11:17.715Z"
   },
   {
    "duration": 162,
    "start_time": "2022-07-04T14:11:27.163Z"
   },
   {
    "duration": 1102,
    "start_time": "2022-07-04T14:51:41.150Z"
   },
   {
    "duration": 169,
    "start_time": "2022-07-04T14:51:42.254Z"
   },
   {
    "duration": 139,
    "start_time": "2022-07-04T14:51:42.424Z"
   },
   {
    "duration": 94,
    "start_time": "2022-07-04T14:51:42.565Z"
   },
   {
    "duration": 20,
    "start_time": "2022-07-04T14:51:42.661Z"
   },
   {
    "duration": 33,
    "start_time": "2022-07-04T14:51:42.682Z"
   },
   {
    "duration": 5,
    "start_time": "2022-07-04T14:51:42.717Z"
   },
   {
    "duration": 23,
    "start_time": "2022-07-04T14:51:42.724Z"
   },
   {
    "duration": 19,
    "start_time": "2022-07-04T14:51:42.749Z"
   },
   {
    "duration": 19,
    "start_time": "2022-07-04T14:51:42.770Z"
   },
   {
    "duration": 10,
    "start_time": "2022-07-04T14:51:42.790Z"
   },
   {
    "duration": 13,
    "start_time": "2022-07-04T14:51:42.825Z"
   },
   {
    "duration": 71,
    "start_time": "2022-07-04T14:51:42.840Z"
   },
   {
    "duration": 11,
    "start_time": "2022-07-04T14:51:42.925Z"
   },
   {
    "duration": 20,
    "start_time": "2022-07-04T14:51:42.938Z"
   },
   {
    "duration": 10,
    "start_time": "2022-07-04T14:51:42.960Z"
   },
   {
    "duration": 18,
    "start_time": "2022-07-04T14:51:42.972Z"
   },
   {
    "duration": 35,
    "start_time": "2022-07-04T14:51:42.991Z"
   },
   {
    "duration": 14,
    "start_time": "2022-07-04T14:51:43.028Z"
   },
   {
    "duration": 9,
    "start_time": "2022-07-04T14:51:43.043Z"
   },
   {
    "duration": 36,
    "start_time": "2022-07-04T14:51:43.054Z"
   },
   {
    "duration": 42,
    "start_time": "2022-07-04T14:51:43.092Z"
   },
   {
    "duration": 11,
    "start_time": "2022-07-04T14:51:43.136Z"
   },
   {
    "duration": 21,
    "start_time": "2022-07-04T14:51:43.148Z"
   },
   {
    "duration": 10,
    "start_time": "2022-07-04T14:51:43.170Z"
   },
   {
    "duration": 45,
    "start_time": "2022-07-04T14:51:43.181Z"
   },
   {
    "duration": 5,
    "start_time": "2022-07-04T14:51:43.227Z"
   },
   {
    "duration": 4,
    "start_time": "2022-07-04T14:51:43.235Z"
   },
   {
    "duration": 13,
    "start_time": "2022-07-04T14:51:43.241Z"
   },
   {
    "duration": 28,
    "start_time": "2022-07-04T14:51:43.255Z"
   },
   {
    "duration": 16,
    "start_time": "2022-07-04T14:51:43.284Z"
   },
   {
    "duration": 24,
    "start_time": "2022-07-04T14:51:43.302Z"
   },
   {
    "duration": 16,
    "start_time": "2022-07-04T14:51:43.328Z"
   },
   {
    "duration": 6,
    "start_time": "2022-07-04T14:51:43.346Z"
   },
   {
    "duration": 11,
    "start_time": "2022-07-04T14:51:43.354Z"
   },
   {
    "duration": 7,
    "start_time": "2022-07-04T14:51:43.366Z"
   },
   {
    "duration": 56,
    "start_time": "2022-07-04T14:51:43.375Z"
   },
   {
    "duration": 4,
    "start_time": "2022-07-04T14:51:43.433Z"
   },
   {
    "duration": 4,
    "start_time": "2022-07-04T14:51:43.439Z"
   },
   {
    "duration": 16,
    "start_time": "2022-07-04T14:51:43.445Z"
   },
   {
    "duration": 6,
    "start_time": "2022-07-04T14:51:43.462Z"
   },
   {
    "duration": 150,
    "start_time": "2022-07-04T14:51:43.470Z"
   },
   {
    "duration": 7,
    "start_time": "2022-07-04T14:51:43.622Z"
   },
   {
    "duration": 20,
    "start_time": "2022-07-04T14:51:43.631Z"
   },
   {
    "duration": 24,
    "start_time": "2022-07-04T14:51:43.653Z"
   },
   {
    "duration": 202,
    "start_time": "2022-07-04T14:51:43.678Z"
   },
   {
    "duration": 25,
    "start_time": "2022-07-04T14:51:43.882Z"
   },
   {
    "duration": 38,
    "start_time": "2022-07-04T14:51:43.909Z"
   },
   {
    "duration": 10,
    "start_time": "2022-07-04T14:51:43.948Z"
   },
   {
    "duration": 9,
    "start_time": "2022-07-04T14:51:43.959Z"
   },
   {
    "duration": 12,
    "start_time": "2022-07-04T14:51:43.970Z"
   },
   {
    "duration": 15,
    "start_time": "2022-07-04T14:51:59.909Z"
   },
   {
    "duration": 1298,
    "start_time": "2022-07-04T14:52:53.291Z"
   },
   {
    "duration": 712,
    "start_time": "2022-07-04T14:54:13.799Z"
   },
   {
    "duration": 122,
    "start_time": "2022-07-04T14:54:44.953Z"
   },
   {
    "duration": 12,
    "start_time": "2022-07-04T14:58:37.175Z"
   },
   {
    "duration": 18,
    "start_time": "2022-07-04T14:58:45.642Z"
   },
   {
    "duration": 126,
    "start_time": "2022-07-04T14:58:56.871Z"
   },
   {
    "duration": 1217,
    "start_time": "2022-07-05T12:16:23.390Z"
   },
   {
    "duration": 229,
    "start_time": "2022-07-05T12:16:24.609Z"
   },
   {
    "duration": 298,
    "start_time": "2022-07-05T12:16:24.840Z"
   },
   {
    "duration": 120,
    "start_time": "2022-07-05T12:16:25.140Z"
   },
   {
    "duration": 42,
    "start_time": "2022-07-05T12:16:25.262Z"
   },
   {
    "duration": 41,
    "start_time": "2022-07-05T12:16:25.306Z"
   },
   {
    "duration": 7,
    "start_time": "2022-07-05T12:16:25.348Z"
   },
   {
    "duration": 34,
    "start_time": "2022-07-05T12:16:25.356Z"
   },
   {
    "duration": 22,
    "start_time": "2022-07-05T12:16:25.392Z"
   },
   {
    "duration": 36,
    "start_time": "2022-07-05T12:16:25.417Z"
   },
   {
    "duration": 11,
    "start_time": "2022-07-05T12:16:25.455Z"
   },
   {
    "duration": 13,
    "start_time": "2022-07-05T12:16:25.468Z"
   },
   {
    "duration": 98,
    "start_time": "2022-07-05T12:16:25.483Z"
   },
   {
    "duration": 11,
    "start_time": "2022-07-05T12:16:25.583Z"
   },
   {
    "duration": 23,
    "start_time": "2022-07-05T12:16:25.596Z"
   },
   {
    "duration": 28,
    "start_time": "2022-07-05T12:16:25.620Z"
   },
   {
    "duration": 28,
    "start_time": "2022-07-05T12:16:25.649Z"
   },
   {
    "duration": 10,
    "start_time": "2022-07-05T12:16:25.678Z"
   },
   {
    "duration": 20,
    "start_time": "2022-07-05T12:16:25.690Z"
   },
   {
    "duration": 14,
    "start_time": "2022-07-05T12:16:25.711Z"
   },
   {
    "duration": 42,
    "start_time": "2022-07-05T12:16:25.727Z"
   },
   {
    "duration": 23,
    "start_time": "2022-07-05T12:16:25.771Z"
   },
   {
    "duration": 11,
    "start_time": "2022-07-05T12:16:25.796Z"
   },
   {
    "duration": 46,
    "start_time": "2022-07-05T12:16:25.808Z"
   },
   {
    "duration": 9,
    "start_time": "2022-07-05T12:16:25.856Z"
   },
   {
    "duration": 21,
    "start_time": "2022-07-05T12:16:25.867Z"
   },
   {
    "duration": 4,
    "start_time": "2022-07-05T12:16:25.890Z"
   },
   {
    "duration": 12,
    "start_time": "2022-07-05T12:16:25.899Z"
   },
   {
    "duration": 37,
    "start_time": "2022-07-05T12:16:25.912Z"
   },
   {
    "duration": 34,
    "start_time": "2022-07-05T12:16:25.951Z"
   },
   {
    "duration": 18,
    "start_time": "2022-07-05T12:16:25.987Z"
   },
   {
    "duration": 4,
    "start_time": "2022-07-05T12:16:26.007Z"
   },
   {
    "duration": 43,
    "start_time": "2022-07-05T12:16:26.013Z"
   },
   {
    "duration": 7,
    "start_time": "2022-07-05T12:16:26.058Z"
   },
   {
    "duration": 12,
    "start_time": "2022-07-05T12:16:26.067Z"
   },
   {
    "duration": 7,
    "start_time": "2022-07-05T12:16:26.080Z"
   },
   {
    "duration": 19,
    "start_time": "2022-07-05T12:16:26.089Z"
   },
   {
    "duration": 36,
    "start_time": "2022-07-05T12:16:26.110Z"
   },
   {
    "duration": 3,
    "start_time": "2022-07-05T12:16:26.148Z"
   },
   {
    "duration": 22,
    "start_time": "2022-07-05T12:16:26.153Z"
   },
   {
    "duration": 6,
    "start_time": "2022-07-05T12:16:26.177Z"
   },
   {
    "duration": 133,
    "start_time": "2022-07-05T12:16:26.185Z"
   },
   {
    "duration": 6,
    "start_time": "2022-07-05T12:16:26.319Z"
   },
   {
    "duration": 29,
    "start_time": "2022-07-05T12:16:26.327Z"
   },
   {
    "duration": 24,
    "start_time": "2022-07-05T12:16:26.358Z"
   },
   {
    "duration": 200,
    "start_time": "2022-07-05T12:16:26.383Z"
   },
   {
    "duration": 27,
    "start_time": "2022-07-05T12:16:26.585Z"
   },
   {
    "duration": 42,
    "start_time": "2022-07-05T12:16:26.614Z"
   },
   {
    "duration": 10,
    "start_time": "2022-07-05T12:16:26.658Z"
   },
   {
    "duration": 11,
    "start_time": "2022-07-05T12:16:26.669Z"
   },
   {
    "duration": 10,
    "start_time": "2022-07-05T12:16:26.682Z"
   },
   {
    "duration": 14,
    "start_time": "2022-07-05T12:16:26.694Z"
   },
   {
    "duration": 51,
    "start_time": "2022-07-05T12:16:26.710Z"
   },
   {
    "duration": 17,
    "start_time": "2022-07-05T12:16:26.763Z"
   },
   {
    "duration": 163,
    "start_time": "2022-07-05T12:16:26.782Z"
   },
   {
    "duration": 129,
    "start_time": "2022-07-05T12:26:10.399Z"
   },
   {
    "duration": 245,
    "start_time": "2022-07-05T12:29:06.781Z"
   },
   {
    "duration": 224,
    "start_time": "2022-07-05T12:29:16.461Z"
   },
   {
    "duration": 141,
    "start_time": "2022-07-05T12:29:26.010Z"
   },
   {
    "duration": 45,
    "start_time": "2022-07-05T12:29:54.705Z"
   },
   {
    "duration": 199,
    "start_time": "2022-07-05T12:30:03.778Z"
   },
   {
    "duration": 148,
    "start_time": "2022-07-05T12:30:25.083Z"
   },
   {
    "duration": 138,
    "start_time": "2022-07-05T12:30:43.535Z"
   },
   {
    "duration": 117,
    "start_time": "2022-07-05T12:30:49.890Z"
   },
   {
    "duration": 128,
    "start_time": "2022-07-05T12:32:25.777Z"
   },
   {
    "duration": 134,
    "start_time": "2022-07-05T12:32:33.298Z"
   },
   {
    "duration": 115,
    "start_time": "2022-07-05T12:32:42.990Z"
   },
   {
    "duration": 129,
    "start_time": "2022-07-05T12:33:01.930Z"
   },
   {
    "duration": 137,
    "start_time": "2022-07-05T12:33:09.174Z"
   },
   {
    "duration": 145,
    "start_time": "2022-07-05T12:35:47.080Z"
   },
   {
    "duration": 153,
    "start_time": "2022-07-05T12:36:05.509Z"
   },
   {
    "duration": 136,
    "start_time": "2022-07-05T12:36:18.075Z"
   },
   {
    "duration": 249,
    "start_time": "2022-07-05T12:38:28.080Z"
   },
   {
    "duration": 162,
    "start_time": "2022-07-05T12:38:54.111Z"
   },
   {
    "duration": 165,
    "start_time": "2022-07-05T12:40:06.616Z"
   },
   {
    "duration": 175,
    "start_time": "2022-07-05T12:40:16.933Z"
   },
   {
    "duration": 161,
    "start_time": "2022-07-05T12:40:29.621Z"
   },
   {
    "duration": 146,
    "start_time": "2022-07-05T12:42:05.032Z"
   },
   {
    "duration": 127,
    "start_time": "2022-07-05T12:42:17.001Z"
   },
   {
    "duration": 122,
    "start_time": "2022-07-05T12:42:32.607Z"
   },
   {
    "duration": 126,
    "start_time": "2022-07-05T12:42:51.404Z"
   },
   {
    "duration": 117,
    "start_time": "2022-07-05T12:43:01.803Z"
   },
   {
    "duration": 140,
    "start_time": "2022-07-05T12:43:07.473Z"
   },
   {
    "duration": 224,
    "start_time": "2022-07-05T12:43:12.302Z"
   },
   {
    "duration": 124,
    "start_time": "2022-07-05T12:43:18.287Z"
   },
   {
    "duration": 149,
    "start_time": "2022-07-05T12:43:23.291Z"
   },
   {
    "duration": 135,
    "start_time": "2022-07-05T12:43:31.087Z"
   },
   {
    "duration": 131,
    "start_time": "2022-07-05T12:43:35.598Z"
   },
   {
    "duration": 122,
    "start_time": "2022-07-05T12:43:40.810Z"
   },
   {
    "duration": 150,
    "start_time": "2022-07-05T12:43:45.989Z"
   },
   {
    "duration": 140,
    "start_time": "2022-07-05T12:43:53.808Z"
   },
   {
    "duration": 139,
    "start_time": "2022-07-05T12:44:20.300Z"
   },
   {
    "duration": 142,
    "start_time": "2022-07-05T12:44:31.375Z"
   },
   {
    "duration": 160,
    "start_time": "2022-07-05T12:44:40.017Z"
   },
   {
    "duration": 5,
    "start_time": "2022-07-05T12:45:01.451Z"
   },
   {
    "duration": 152,
    "start_time": "2022-07-05T12:45:34.813Z"
   },
   {
    "duration": 149,
    "start_time": "2022-07-05T12:47:58.693Z"
   },
   {
    "duration": 152,
    "start_time": "2022-07-05T12:48:05.279Z"
   },
   {
    "duration": 252,
    "start_time": "2022-07-05T12:48:09.308Z"
   },
   {
    "duration": 117,
    "start_time": "2022-07-05T12:48:16.001Z"
   },
   {
    "duration": 126,
    "start_time": "2022-07-05T12:48:20.696Z"
   },
   {
    "duration": 129,
    "start_time": "2022-07-05T12:48:33.233Z"
   },
   {
    "duration": 136,
    "start_time": "2022-07-05T12:48:45.127Z"
   },
   {
    "duration": 130,
    "start_time": "2022-07-05T12:48:55.295Z"
   },
   {
    "duration": 138,
    "start_time": "2022-07-05T12:49:05.583Z"
   },
   {
    "duration": 135,
    "start_time": "2022-07-05T12:49:11.331Z"
   },
   {
    "duration": 153,
    "start_time": "2022-07-05T12:49:34.102Z"
   },
   {
    "duration": 1121,
    "start_time": "2022-07-05T13:02:48.930Z"
   },
   {
    "duration": 167,
    "start_time": "2022-07-05T13:02:50.054Z"
   },
   {
    "duration": 139,
    "start_time": "2022-07-05T13:02:50.222Z"
   },
   {
    "duration": 93,
    "start_time": "2022-07-05T13:02:50.363Z"
   },
   {
    "duration": 15,
    "start_time": "2022-07-05T13:02:50.458Z"
   },
   {
    "duration": 22,
    "start_time": "2022-07-05T13:02:50.475Z"
   },
   {
    "duration": 6,
    "start_time": "2022-07-05T13:02:50.499Z"
   },
   {
    "duration": 40,
    "start_time": "2022-07-05T13:02:50.507Z"
   },
   {
    "duration": 21,
    "start_time": "2022-07-05T13:02:50.549Z"
   },
   {
    "duration": 23,
    "start_time": "2022-07-05T13:02:50.572Z"
   },
   {
    "duration": 11,
    "start_time": "2022-07-05T13:02:50.597Z"
   },
   {
    "duration": 37,
    "start_time": "2022-07-05T13:02:50.609Z"
   },
   {
    "duration": 84,
    "start_time": "2022-07-05T13:02:50.648Z"
   },
   {
    "duration": 25,
    "start_time": "2022-07-05T13:02:50.734Z"
   },
   {
    "duration": 26,
    "start_time": "2022-07-05T13:02:50.761Z"
   },
   {
    "duration": 12,
    "start_time": "2022-07-05T13:02:50.789Z"
   },
   {
    "duration": 27,
    "start_time": "2022-07-05T13:02:50.803Z"
   },
   {
    "duration": 20,
    "start_time": "2022-07-05T13:02:50.832Z"
   },
   {
    "duration": 19,
    "start_time": "2022-07-05T13:02:50.854Z"
   },
   {
    "duration": 9,
    "start_time": "2022-07-05T13:02:50.875Z"
   },
   {
    "duration": 34,
    "start_time": "2022-07-05T13:02:50.885Z"
   },
   {
    "duration": 43,
    "start_time": "2022-07-05T13:02:50.921Z"
   },
   {
    "duration": 11,
    "start_time": "2022-07-05T13:02:50.965Z"
   },
   {
    "duration": 21,
    "start_time": "2022-07-05T13:02:50.977Z"
   },
   {
    "duration": 8,
    "start_time": "2022-07-05T13:02:51.000Z"
   },
   {
    "duration": 49,
    "start_time": "2022-07-05T13:02:51.010Z"
   },
   {
    "duration": 4,
    "start_time": "2022-07-05T13:02:51.061Z"
   },
   {
    "duration": 11,
    "start_time": "2022-07-05T13:02:51.069Z"
   },
   {
    "duration": 20,
    "start_time": "2022-07-05T13:02:51.082Z"
   },
   {
    "duration": 30,
    "start_time": "2022-07-05T13:02:51.104Z"
   },
   {
    "duration": 18,
    "start_time": "2022-07-05T13:02:51.145Z"
   },
   {
    "duration": 4,
    "start_time": "2022-07-05T13:02:51.164Z"
   },
   {
    "duration": 29,
    "start_time": "2022-07-05T13:02:51.170Z"
   },
   {
    "duration": 9,
    "start_time": "2022-07-05T13:02:51.201Z"
   },
   {
    "duration": 11,
    "start_time": "2022-07-05T13:02:51.212Z"
   },
   {
    "duration": 26,
    "start_time": "2022-07-05T13:02:51.224Z"
   },
   {
    "duration": 22,
    "start_time": "2022-07-05T13:02:51.251Z"
   },
   {
    "duration": 3,
    "start_time": "2022-07-05T13:02:51.275Z"
   },
   {
    "duration": 321,
    "start_time": "2022-07-05T13:02:51.280Z"
   },
   {
    "duration": 0,
    "start_time": "2022-07-05T13:02:51.602Z"
   },
   {
    "duration": 0,
    "start_time": "2022-07-05T13:02:51.604Z"
   },
   {
    "duration": 0,
    "start_time": "2022-07-05T13:02:51.606Z"
   },
   {
    "duration": 0,
    "start_time": "2022-07-05T13:02:51.607Z"
   },
   {
    "duration": 0,
    "start_time": "2022-07-05T13:02:51.608Z"
   },
   {
    "duration": 0,
    "start_time": "2022-07-05T13:02:51.608Z"
   },
   {
    "duration": 0,
    "start_time": "2022-07-05T13:02:51.609Z"
   },
   {
    "duration": 0,
    "start_time": "2022-07-05T13:02:51.610Z"
   },
   {
    "duration": 0,
    "start_time": "2022-07-05T13:02:51.611Z"
   },
   {
    "duration": 0,
    "start_time": "2022-07-05T13:02:51.612Z"
   },
   {
    "duration": 0,
    "start_time": "2022-07-05T13:02:51.613Z"
   },
   {
    "duration": 0,
    "start_time": "2022-07-05T13:02:51.614Z"
   },
   {
    "duration": 0,
    "start_time": "2022-07-05T13:02:51.615Z"
   },
   {
    "duration": 0,
    "start_time": "2022-07-05T13:02:51.616Z"
   },
   {
    "duration": 0,
    "start_time": "2022-07-05T13:02:51.618Z"
   },
   {
    "duration": 0,
    "start_time": "2022-07-05T13:02:51.618Z"
   },
   {
    "duration": 0,
    "start_time": "2022-07-05T13:02:51.620Z"
   },
   {
    "duration": 0,
    "start_time": "2022-07-05T13:02:51.621Z"
   },
   {
    "duration": 0,
    "start_time": "2022-07-05T13:02:51.623Z"
   },
   {
    "duration": 0,
    "start_time": "2022-07-05T13:02:51.623Z"
   },
   {
    "duration": 0,
    "start_time": "2022-07-05T13:02:51.624Z"
   },
   {
    "duration": 0,
    "start_time": "2022-07-05T13:02:51.625Z"
   },
   {
    "duration": 3,
    "start_time": "2022-07-05T13:03:22.569Z"
   },
   {
    "duration": 1167,
    "start_time": "2022-07-05T13:03:38.398Z"
   },
   {
    "duration": 178,
    "start_time": "2022-07-05T13:03:39.568Z"
   },
   {
    "duration": 137,
    "start_time": "2022-07-05T13:03:39.748Z"
   },
   {
    "duration": 86,
    "start_time": "2022-07-05T13:03:39.887Z"
   },
   {
    "duration": 14,
    "start_time": "2022-07-05T13:03:39.974Z"
   },
   {
    "duration": 21,
    "start_time": "2022-07-05T13:03:39.989Z"
   },
   {
    "duration": 5,
    "start_time": "2022-07-05T13:03:40.012Z"
   },
   {
    "duration": 38,
    "start_time": "2022-07-05T13:03:40.018Z"
   },
   {
    "duration": 20,
    "start_time": "2022-07-05T13:03:40.058Z"
   },
   {
    "duration": 17,
    "start_time": "2022-07-05T13:03:40.081Z"
   },
   {
    "duration": 10,
    "start_time": "2022-07-05T13:03:40.099Z"
   },
   {
    "duration": 36,
    "start_time": "2022-07-05T13:03:40.110Z"
   },
   {
    "duration": 73,
    "start_time": "2022-07-05T13:03:40.148Z"
   },
   {
    "duration": 24,
    "start_time": "2022-07-05T13:03:40.222Z"
   },
   {
    "duration": 21,
    "start_time": "2022-07-05T13:03:40.247Z"
   },
   {
    "duration": 9,
    "start_time": "2022-07-05T13:03:40.269Z"
   },
   {
    "duration": 20,
    "start_time": "2022-07-05T13:03:40.279Z"
   },
   {
    "duration": 9,
    "start_time": "2022-07-05T13:03:40.300Z"
   },
   {
    "duration": 37,
    "start_time": "2022-07-05T13:03:40.311Z"
   },
   {
    "duration": 8,
    "start_time": "2022-07-05T13:03:40.350Z"
   },
   {
    "duration": 31,
    "start_time": "2022-07-05T13:03:40.360Z"
   },
   {
    "duration": 22,
    "start_time": "2022-07-05T13:03:40.393Z"
   },
   {
    "duration": 34,
    "start_time": "2022-07-05T13:03:40.416Z"
   },
   {
    "duration": 22,
    "start_time": "2022-07-05T13:03:40.452Z"
   },
   {
    "duration": 9,
    "start_time": "2022-07-05T13:03:40.476Z"
   },
   {
    "duration": 21,
    "start_time": "2022-07-05T13:03:40.486Z"
   },
   {
    "duration": 5,
    "start_time": "2022-07-05T13:03:40.508Z"
   },
   {
    "duration": 4,
    "start_time": "2022-07-05T13:03:40.549Z"
   },
   {
    "duration": 15,
    "start_time": "2022-07-05T13:03:40.555Z"
   },
   {
    "duration": 40,
    "start_time": "2022-07-05T13:03:40.571Z"
   },
   {
    "duration": 34,
    "start_time": "2022-07-05T13:03:40.613Z"
   },
   {
    "duration": 4,
    "start_time": "2022-07-05T13:03:40.648Z"
   },
   {
    "duration": 23,
    "start_time": "2022-07-05T13:03:40.653Z"
   },
   {
    "duration": 10,
    "start_time": "2022-07-05T13:03:40.677Z"
   },
   {
    "duration": 9,
    "start_time": "2022-07-05T13:03:40.689Z"
   },
   {
    "duration": 6,
    "start_time": "2022-07-05T13:03:40.700Z"
   },
   {
    "duration": 43,
    "start_time": "2022-07-05T13:03:40.708Z"
   },
   {
    "duration": 5,
    "start_time": "2022-07-05T13:03:40.753Z"
   },
   {
    "duration": 6,
    "start_time": "2022-07-05T13:03:40.759Z"
   },
   {
    "duration": 21,
    "start_time": "2022-07-05T13:03:40.766Z"
   },
   {
    "duration": 5,
    "start_time": "2022-07-05T13:03:40.788Z"
   },
   {
    "duration": 140,
    "start_time": "2022-07-05T13:03:40.794Z"
   },
   {
    "duration": 12,
    "start_time": "2022-07-05T13:03:40.936Z"
   },
   {
    "duration": 34,
    "start_time": "2022-07-05T13:03:40.949Z"
   },
   {
    "duration": 23,
    "start_time": "2022-07-05T13:03:40.984Z"
   },
   {
    "duration": 24,
    "start_time": "2022-07-05T13:03:41.008Z"
   },
   {
    "duration": 25,
    "start_time": "2022-07-05T13:03:41.045Z"
   },
   {
    "duration": 10,
    "start_time": "2022-07-05T13:03:41.072Z"
   },
   {
    "duration": 15,
    "start_time": "2022-07-05T13:03:41.084Z"
   },
   {
    "duration": 10,
    "start_time": "2022-07-05T13:03:41.101Z"
   },
   {
    "duration": 46,
    "start_time": "2022-07-05T13:03:41.113Z"
   },
   {
    "duration": 16,
    "start_time": "2022-07-05T13:03:41.161Z"
   },
   {
    "duration": 167,
    "start_time": "2022-07-05T13:03:41.179Z"
   },
   {
    "duration": 131,
    "start_time": "2022-07-05T13:03:41.348Z"
   },
   {
    "duration": 183,
    "start_time": "2022-07-05T13:03:41.482Z"
   },
   {
    "duration": 147,
    "start_time": "2022-07-05T13:03:41.667Z"
   },
   {
    "duration": 149,
    "start_time": "2022-07-05T13:03:41.816Z"
   },
   {
    "duration": 161,
    "start_time": "2022-07-05T13:03:41.967Z"
   },
   {
    "duration": 151,
    "start_time": "2022-07-05T13:03:42.130Z"
   },
   {
    "duration": 147,
    "start_time": "2022-07-05T13:03:42.283Z"
   },
   {
    "duration": 237,
    "start_time": "2022-07-05T13:03:42.431Z"
   },
   {
    "duration": 27,
    "start_time": "2022-07-05T13:05:24.113Z"
   },
   {
    "duration": 6,
    "start_time": "2022-07-05T13:05:34.404Z"
   },
   {
    "duration": 1337,
    "start_time": "2022-07-05T15:12:25.693Z"
   },
   {
    "duration": 950,
    "start_time": "2022-07-05T15:12:27.032Z"
   },
   {
    "duration": 435,
    "start_time": "2022-07-05T15:12:27.984Z"
   },
   {
    "duration": 311,
    "start_time": "2022-07-05T15:12:28.421Z"
   },
   {
    "duration": 77,
    "start_time": "2022-07-05T15:12:28.734Z"
   },
   {
    "duration": 77,
    "start_time": "2022-07-05T15:12:28.813Z"
   },
   {
    "duration": 6,
    "start_time": "2022-07-05T15:12:28.892Z"
   },
   {
    "duration": 26,
    "start_time": "2022-07-05T15:12:28.900Z"
   },
   {
    "duration": 26,
    "start_time": "2022-07-05T15:12:28.928Z"
   },
   {
    "duration": 21,
    "start_time": "2022-07-05T15:12:28.958Z"
   },
   {
    "duration": 31,
    "start_time": "2022-07-05T15:12:28.981Z"
   },
   {
    "duration": 15,
    "start_time": "2022-07-05T15:12:29.013Z"
   },
   {
    "duration": 100,
    "start_time": "2022-07-05T15:12:29.031Z"
   },
   {
    "duration": 12,
    "start_time": "2022-07-05T15:12:29.133Z"
   },
   {
    "duration": 21,
    "start_time": "2022-07-05T15:12:29.146Z"
   },
   {
    "duration": 10,
    "start_time": "2022-07-05T15:12:29.169Z"
   },
   {
    "duration": 37,
    "start_time": "2022-07-05T15:12:29.181Z"
   },
   {
    "duration": 10,
    "start_time": "2022-07-05T15:12:29.219Z"
   },
   {
    "duration": 17,
    "start_time": "2022-07-05T15:12:29.231Z"
   },
   {
    "duration": 9,
    "start_time": "2022-07-05T15:12:29.249Z"
   },
   {
    "duration": 59,
    "start_time": "2022-07-05T15:12:29.260Z"
   },
   {
    "duration": 23,
    "start_time": "2022-07-05T15:12:29.321Z"
   },
   {
    "duration": 12,
    "start_time": "2022-07-05T15:12:29.346Z"
   },
   {
    "duration": 45,
    "start_time": "2022-07-05T15:12:29.360Z"
   },
   {
    "duration": 10,
    "start_time": "2022-07-05T15:12:29.406Z"
   },
   {
    "duration": 21,
    "start_time": "2022-07-05T15:12:29.417Z"
   },
   {
    "duration": 5,
    "start_time": "2022-07-05T15:12:29.440Z"
   },
   {
    "duration": 5,
    "start_time": "2022-07-05T15:12:29.448Z"
   },
   {
    "duration": 13,
    "start_time": "2022-07-05T15:12:29.455Z"
   },
   {
    "duration": 63,
    "start_time": "2022-07-05T15:12:29.469Z"
   },
   {
    "duration": 22,
    "start_time": "2022-07-05T15:12:29.533Z"
   },
   {
    "duration": 5,
    "start_time": "2022-07-05T15:12:29.556Z"
   },
   {
    "duration": 44,
    "start_time": "2022-07-05T15:12:29.563Z"
   },
   {
    "duration": 8,
    "start_time": "2022-07-05T15:12:29.609Z"
   },
   {
    "duration": 10,
    "start_time": "2022-07-05T15:12:29.618Z"
   },
   {
    "duration": 8,
    "start_time": "2022-07-05T15:12:29.630Z"
   },
   {
    "duration": 20,
    "start_time": "2022-07-05T15:12:29.640Z"
   },
   {
    "duration": 6,
    "start_time": "2022-07-05T15:12:29.661Z"
   },
   {
    "duration": 36,
    "start_time": "2022-07-05T15:12:29.668Z"
   },
   {
    "duration": 15,
    "start_time": "2022-07-05T15:12:29.706Z"
   },
   {
    "duration": 6,
    "start_time": "2022-07-05T15:12:29.723Z"
   },
   {
    "duration": 159,
    "start_time": "2022-07-05T15:12:29.731Z"
   },
   {
    "duration": 15,
    "start_time": "2022-07-05T15:12:29.892Z"
   },
   {
    "duration": 26,
    "start_time": "2022-07-05T15:12:29.908Z"
   },
   {
    "duration": 28,
    "start_time": "2022-07-05T15:12:29.936Z"
   },
   {
    "duration": 54,
    "start_time": "2022-07-05T15:12:29.965Z"
   },
   {
    "duration": 28,
    "start_time": "2022-07-05T15:12:30.021Z"
   },
   {
    "duration": 12,
    "start_time": "2022-07-05T15:12:30.050Z"
   },
   {
    "duration": 14,
    "start_time": "2022-07-05T15:12:30.064Z"
   },
   {
    "duration": 31,
    "start_time": "2022-07-05T15:12:30.081Z"
   },
   {
    "duration": 35,
    "start_time": "2022-07-05T15:12:30.113Z"
   },
   {
    "duration": 35,
    "start_time": "2022-07-05T15:12:30.151Z"
   },
   {
    "duration": 185,
    "start_time": "2022-07-05T15:12:30.187Z"
   },
   {
    "duration": 139,
    "start_time": "2022-07-05T15:12:30.373Z"
   },
   {
    "duration": 181,
    "start_time": "2022-07-05T15:12:30.513Z"
   },
   {
    "duration": 145,
    "start_time": "2022-07-05T15:12:30.696Z"
   },
   {
    "duration": 158,
    "start_time": "2022-07-05T15:12:30.843Z"
   },
   {
    "duration": 166,
    "start_time": "2022-07-05T15:12:31.003Z"
   },
   {
    "duration": 179,
    "start_time": "2022-07-05T15:12:31.171Z"
   },
   {
    "duration": 152,
    "start_time": "2022-07-05T15:12:31.352Z"
   },
   {
    "duration": 232,
    "start_time": "2022-07-05T15:12:31.505Z"
   },
   {
    "duration": 10,
    "start_time": "2022-07-05T15:12:31.739Z"
   },
   {
    "duration": 21,
    "start_time": "2022-07-05T15:12:31.750Z"
   },
   {
    "duration": 4,
    "start_time": "2022-07-05T15:13:35.274Z"
   },
   {
    "duration": 4,
    "start_time": "2022-07-05T15:13:37.553Z"
   },
   {
    "duration": 7,
    "start_time": "2022-07-05T15:16:04.977Z"
   },
   {
    "duration": 3,
    "start_time": "2022-07-05T15:21:05.490Z"
   },
   {
    "duration": 1145,
    "start_time": "2022-07-05T15:22:33.523Z"
   },
   {
    "duration": 168,
    "start_time": "2022-07-05T15:22:34.670Z"
   },
   {
    "duration": 132,
    "start_time": "2022-07-05T15:22:34.840Z"
   },
   {
    "duration": 94,
    "start_time": "2022-07-05T15:22:34.974Z"
   },
   {
    "duration": 20,
    "start_time": "2022-07-05T15:22:35.070Z"
   },
   {
    "duration": 34,
    "start_time": "2022-07-05T15:22:35.092Z"
   },
   {
    "duration": 5,
    "start_time": "2022-07-05T15:22:35.128Z"
   },
   {
    "duration": 26,
    "start_time": "2022-07-05T15:22:35.134Z"
   },
   {
    "duration": 18,
    "start_time": "2022-07-05T15:22:35.162Z"
   },
   {
    "duration": 24,
    "start_time": "2022-07-05T15:22:35.182Z"
   },
   {
    "duration": 11,
    "start_time": "2022-07-05T15:22:35.208Z"
   },
   {
    "duration": 13,
    "start_time": "2022-07-05T15:22:35.221Z"
   },
   {
    "duration": 95,
    "start_time": "2022-07-05T15:22:35.236Z"
   },
   {
    "duration": 12,
    "start_time": "2022-07-05T15:22:35.333Z"
   },
   {
    "duration": 23,
    "start_time": "2022-07-05T15:22:35.346Z"
   },
   {
    "duration": 12,
    "start_time": "2022-07-05T15:22:35.371Z"
   },
   {
    "duration": 36,
    "start_time": "2022-07-05T15:22:35.384Z"
   },
   {
    "duration": 10,
    "start_time": "2022-07-05T15:22:35.422Z"
   },
   {
    "duration": 29,
    "start_time": "2022-07-05T15:22:35.433Z"
   },
   {
    "duration": 11,
    "start_time": "2022-07-05T15:22:35.464Z"
   },
   {
    "duration": 43,
    "start_time": "2022-07-05T15:22:35.477Z"
   },
   {
    "duration": 22,
    "start_time": "2022-07-05T15:22:35.522Z"
   },
   {
    "duration": 11,
    "start_time": "2022-07-05T15:22:35.546Z"
   },
   {
    "duration": 22,
    "start_time": "2022-07-05T15:22:35.559Z"
   },
   {
    "duration": 30,
    "start_time": "2022-07-05T15:22:35.582Z"
   },
   {
    "duration": 19,
    "start_time": "2022-07-05T15:22:35.614Z"
   },
   {
    "duration": 4,
    "start_time": "2022-07-05T15:22:35.635Z"
   },
   {
    "duration": 4,
    "start_time": "2022-07-05T15:22:35.644Z"
   },
   {
    "duration": 16,
    "start_time": "2022-07-05T15:22:35.650Z"
   },
   {
    "duration": 60,
    "start_time": "2022-07-05T15:22:35.668Z"
   },
   {
    "duration": 20,
    "start_time": "2022-07-05T15:22:35.730Z"
   },
   {
    "duration": 5,
    "start_time": "2022-07-05T15:22:35.752Z"
   },
   {
    "duration": 25,
    "start_time": "2022-07-05T15:22:35.758Z"
   },
   {
    "duration": 26,
    "start_time": "2022-07-05T15:22:35.784Z"
   },
   {
    "duration": 12,
    "start_time": "2022-07-05T15:22:35.811Z"
   },
   {
    "duration": 7,
    "start_time": "2022-07-05T15:22:35.824Z"
   },
   {
    "duration": 19,
    "start_time": "2022-07-05T15:22:35.832Z"
   },
   {
    "duration": 4,
    "start_time": "2022-07-05T15:22:35.853Z"
   },
   {
    "duration": 9,
    "start_time": "2022-07-05T15:22:35.858Z"
   },
   {
    "duration": 45,
    "start_time": "2022-07-05T15:22:35.869Z"
   },
   {
    "duration": 4,
    "start_time": "2022-07-05T15:22:35.916Z"
   },
   {
    "duration": 152,
    "start_time": "2022-07-05T15:22:35.922Z"
   },
   {
    "duration": 7,
    "start_time": "2022-07-05T15:22:36.075Z"
   },
   {
    "duration": 29,
    "start_time": "2022-07-05T15:22:36.084Z"
   },
   {
    "duration": 25,
    "start_time": "2022-07-05T15:22:36.114Z"
   },
   {
    "duration": 26,
    "start_time": "2022-07-05T15:22:36.140Z"
   },
   {
    "duration": 52,
    "start_time": "2022-07-05T15:22:36.167Z"
   },
   {
    "duration": 9,
    "start_time": "2022-07-05T15:22:36.221Z"
   },
   {
    "duration": 10,
    "start_time": "2022-07-05T15:22:36.232Z"
   },
   {
    "duration": 12,
    "start_time": "2022-07-05T15:22:36.244Z"
   },
   {
    "duration": 18,
    "start_time": "2022-07-05T15:22:36.258Z"
   },
   {
    "duration": 21,
    "start_time": "2022-07-05T15:22:36.304Z"
   },
   {
    "duration": 165,
    "start_time": "2022-07-05T15:22:36.326Z"
   },
   {
    "duration": 167,
    "start_time": "2022-07-05T15:22:36.493Z"
   },
   {
    "duration": 196,
    "start_time": "2022-07-05T15:22:36.662Z"
   },
   {
    "duration": 146,
    "start_time": "2022-07-05T15:22:36.859Z"
   },
   {
    "duration": 161,
    "start_time": "2022-07-05T15:22:37.007Z"
   },
   {
    "duration": 174,
    "start_time": "2022-07-05T15:22:37.170Z"
   },
   {
    "duration": 150,
    "start_time": "2022-07-05T15:22:37.345Z"
   },
   {
    "duration": 155,
    "start_time": "2022-07-05T15:22:37.497Z"
   },
   {
    "duration": 228,
    "start_time": "2022-07-05T15:22:37.654Z"
   },
   {
    "duration": 3,
    "start_time": "2022-07-05T15:22:37.884Z"
   },
   {
    "duration": 6,
    "start_time": "2022-07-05T15:22:37.888Z"
   },
   {
    "duration": 13,
    "start_time": "2022-07-05T15:22:37.895Z"
   },
   {
    "duration": 6,
    "start_time": "2022-07-05T15:23:02.376Z"
   },
   {
    "duration": 6,
    "start_time": "2022-07-05T15:29:55.231Z"
   },
   {
    "duration": 6,
    "start_time": "2022-07-05T15:34:57.174Z"
   },
   {
    "duration": 9,
    "start_time": "2022-07-05T15:39:26.859Z"
   },
   {
    "duration": 93,
    "start_time": "2022-07-05T15:48:54.642Z"
   },
   {
    "duration": 6,
    "start_time": "2022-07-05T15:49:30.626Z"
   },
   {
    "duration": 6,
    "start_time": "2022-07-05T15:49:39.919Z"
   },
   {
    "duration": 5,
    "start_time": "2022-07-05T15:53:30.266Z"
   },
   {
    "duration": 87,
    "start_time": "2022-07-05T15:57:02.659Z"
   },
   {
    "duration": 8,
    "start_time": "2022-07-05T15:57:30.712Z"
   },
   {
    "duration": 45,
    "start_time": "2022-07-05T15:57:36.668Z"
   },
   {
    "duration": 9,
    "start_time": "2022-07-05T15:58:26.562Z"
   },
   {
    "duration": 10,
    "start_time": "2022-07-05T15:59:56.602Z"
   },
   {
    "duration": 94,
    "start_time": "2022-07-05T16:00:28.397Z"
   },
   {
    "duration": 15,
    "start_time": "2022-07-05T16:00:45.049Z"
   },
   {
    "duration": 11,
    "start_time": "2022-07-05T16:01:16.686Z"
   },
   {
    "duration": 10,
    "start_time": "2022-07-05T16:01:25.542Z"
   },
   {
    "duration": 7,
    "start_time": "2022-07-05T16:01:31.089Z"
   },
   {
    "duration": 5,
    "start_time": "2022-07-05T16:01:33.455Z"
   },
   {
    "duration": 6,
    "start_time": "2022-07-05T16:05:26.912Z"
   },
   {
    "duration": 1238,
    "start_time": "2022-07-07T09:09:41.078Z"
   },
   {
    "duration": 237,
    "start_time": "2022-07-07T09:09:42.319Z"
   },
   {
    "duration": 309,
    "start_time": "2022-07-07T09:09:42.558Z"
   },
   {
    "duration": 130,
    "start_time": "2022-07-07T09:09:42.870Z"
   },
   {
    "duration": 36,
    "start_time": "2022-07-07T09:09:43.001Z"
   },
   {
    "duration": 45,
    "start_time": "2022-07-07T09:09:43.039Z"
   },
   {
    "duration": 6,
    "start_time": "2022-07-07T09:09:43.086Z"
   },
   {
    "duration": 29,
    "start_time": "2022-07-07T09:09:43.093Z"
   },
   {
    "duration": 20,
    "start_time": "2022-07-07T09:09:43.124Z"
   },
   {
    "duration": 17,
    "start_time": "2022-07-07T09:09:43.147Z"
   },
   {
    "duration": 10,
    "start_time": "2022-07-07T09:09:43.165Z"
   },
   {
    "duration": 29,
    "start_time": "2022-07-07T09:09:43.176Z"
   },
   {
    "duration": 81,
    "start_time": "2022-07-07T09:09:43.207Z"
   },
   {
    "duration": 10,
    "start_time": "2022-07-07T09:09:43.290Z"
   },
   {
    "duration": 23,
    "start_time": "2022-07-07T09:09:43.302Z"
   },
   {
    "duration": 24,
    "start_time": "2022-07-07T09:09:43.327Z"
   },
   {
    "duration": 25,
    "start_time": "2022-07-07T09:09:43.352Z"
   },
   {
    "duration": 10,
    "start_time": "2022-07-07T09:09:43.378Z"
   },
   {
    "duration": 17,
    "start_time": "2022-07-07T09:09:43.389Z"
   },
   {
    "duration": 8,
    "start_time": "2022-07-07T09:09:43.408Z"
   },
   {
    "duration": 48,
    "start_time": "2022-07-07T09:09:43.417Z"
   },
   {
    "duration": 22,
    "start_time": "2022-07-07T09:09:43.467Z"
   },
   {
    "duration": 12,
    "start_time": "2022-07-07T09:09:43.491Z"
   },
   {
    "duration": 45,
    "start_time": "2022-07-07T09:09:43.505Z"
   },
   {
    "duration": 9,
    "start_time": "2022-07-07T09:09:43.551Z"
   },
   {
    "duration": 24,
    "start_time": "2022-07-07T09:09:43.561Z"
   },
   {
    "duration": 4,
    "start_time": "2022-07-07T09:09:43.586Z"
   },
   {
    "duration": 6,
    "start_time": "2022-07-07T09:09:43.594Z"
   },
   {
    "duration": 21,
    "start_time": "2022-07-07T09:09:43.601Z"
   },
   {
    "duration": 46,
    "start_time": "2022-07-07T09:09:43.623Z"
   },
   {
    "duration": 19,
    "start_time": "2022-07-07T09:09:43.671Z"
   },
   {
    "duration": 3,
    "start_time": "2022-07-07T09:09:43.692Z"
   },
   {
    "duration": 23,
    "start_time": "2022-07-07T09:09:43.697Z"
   },
   {
    "duration": 29,
    "start_time": "2022-07-07T09:09:43.722Z"
   },
   {
    "duration": 17,
    "start_time": "2022-07-07T09:09:43.752Z"
   },
   {
    "duration": 6,
    "start_time": "2022-07-07T09:09:43.771Z"
   },
   {
    "duration": 22,
    "start_time": "2022-07-07T09:09:43.779Z"
   },
   {
    "duration": 3,
    "start_time": "2022-07-07T09:09:43.803Z"
   },
   {
    "duration": 11,
    "start_time": "2022-07-07T09:09:43.808Z"
   },
   {
    "duration": 33,
    "start_time": "2022-07-07T09:09:43.820Z"
   },
   {
    "duration": 38,
    "start_time": "2022-07-07T09:09:43.855Z"
   },
   {
    "duration": 159,
    "start_time": "2022-07-07T09:09:43.895Z"
   },
   {
    "duration": 6,
    "start_time": "2022-07-07T09:09:44.056Z"
   },
   {
    "duration": 21,
    "start_time": "2022-07-07T09:09:44.065Z"
   },
   {
    "duration": 25,
    "start_time": "2022-07-07T09:09:44.088Z"
   },
   {
    "duration": 47,
    "start_time": "2022-07-07T09:09:44.115Z"
   },
   {
    "duration": 26,
    "start_time": "2022-07-07T09:09:44.163Z"
   },
   {
    "duration": 9,
    "start_time": "2022-07-07T09:09:44.191Z"
   },
   {
    "duration": 10,
    "start_time": "2022-07-07T09:09:44.202Z"
   },
   {
    "duration": 39,
    "start_time": "2022-07-07T09:09:44.214Z"
   },
   {
    "duration": 19,
    "start_time": "2022-07-07T09:09:44.255Z"
   },
   {
    "duration": 21,
    "start_time": "2022-07-07T09:09:44.276Z"
   },
   {
    "duration": 180,
    "start_time": "2022-07-07T09:09:44.299Z"
   },
   {
    "duration": 123,
    "start_time": "2022-07-07T09:09:44.481Z"
   },
   {
    "duration": 166,
    "start_time": "2022-07-07T09:09:44.606Z"
   },
   {
    "duration": 139,
    "start_time": "2022-07-07T09:09:44.774Z"
   },
   {
    "duration": 147,
    "start_time": "2022-07-07T09:09:44.915Z"
   },
   {
    "duration": 150,
    "start_time": "2022-07-07T09:09:45.063Z"
   },
   {
    "duration": 142,
    "start_time": "2022-07-07T09:09:45.215Z"
   },
   {
    "duration": 150,
    "start_time": "2022-07-07T09:09:45.359Z"
   },
   {
    "duration": 217,
    "start_time": "2022-07-07T09:09:45.511Z"
   },
   {
    "duration": 3,
    "start_time": "2022-07-07T09:09:45.730Z"
   },
   {
    "duration": 8,
    "start_time": "2022-07-07T09:09:45.734Z"
   },
   {
    "duration": 15,
    "start_time": "2022-07-07T09:09:45.746Z"
   },
   {
    "duration": 16,
    "start_time": "2022-07-07T09:09:45.763Z"
   },
   {
    "duration": 23,
    "start_time": "2022-07-07T09:09:45.781Z"
   },
   {
    "duration": 9,
    "start_time": "2022-07-07T09:09:45.806Z"
   },
   {
    "duration": 116,
    "start_time": "2022-07-07T09:15:59.923Z"
   },
   {
    "duration": 142,
    "start_time": "2022-07-07T09:16:12.741Z"
   },
   {
    "duration": 154,
    "start_time": "2022-07-07T09:16:33.248Z"
   },
   {
    "duration": 118,
    "start_time": "2022-07-07T09:16:38.291Z"
   },
   {
    "duration": 139,
    "start_time": "2022-07-07T09:16:48.761Z"
   },
   {
    "duration": 121,
    "start_time": "2022-07-07T09:16:58.653Z"
   },
   {
    "duration": 131,
    "start_time": "2022-07-07T09:17:04.967Z"
   },
   {
    "duration": 115,
    "start_time": "2022-07-07T09:19:01.277Z"
   },
   {
    "duration": 140,
    "start_time": "2022-07-07T09:19:07.691Z"
   },
   {
    "duration": 1438,
    "start_time": "2022-07-07T12:18:04.173Z"
   },
   {
    "duration": 273,
    "start_time": "2022-07-07T12:18:05.614Z"
   },
   {
    "duration": 361,
    "start_time": "2022-07-07T12:18:05.889Z"
   },
   {
    "duration": 152,
    "start_time": "2022-07-07T12:18:06.252Z"
   },
   {
    "duration": 46,
    "start_time": "2022-07-07T12:18:06.406Z"
   },
   {
    "duration": 47,
    "start_time": "2022-07-07T12:18:06.453Z"
   },
   {
    "duration": 6,
    "start_time": "2022-07-07T12:18:06.502Z"
   },
   {
    "duration": 52,
    "start_time": "2022-07-07T12:18:06.510Z"
   },
   {
    "duration": 37,
    "start_time": "2022-07-07T12:18:06.564Z"
   },
   {
    "duration": 36,
    "start_time": "2022-07-07T12:18:06.602Z"
   },
   {
    "duration": 27,
    "start_time": "2022-07-07T12:18:06.640Z"
   },
   {
    "duration": 18,
    "start_time": "2022-07-07T12:18:06.669Z"
   },
   {
    "duration": 107,
    "start_time": "2022-07-07T12:18:06.689Z"
   },
   {
    "duration": 13,
    "start_time": "2022-07-07T12:18:06.800Z"
   },
   {
    "duration": 40,
    "start_time": "2022-07-07T12:18:06.815Z"
   },
   {
    "duration": 10,
    "start_time": "2022-07-07T12:18:06.857Z"
   },
   {
    "duration": 24,
    "start_time": "2022-07-07T12:18:06.869Z"
   },
   {
    "duration": 31,
    "start_time": "2022-07-07T12:18:06.894Z"
   },
   {
    "duration": 21,
    "start_time": "2022-07-07T12:18:06.927Z"
   },
   {
    "duration": 29,
    "start_time": "2022-07-07T12:18:06.962Z"
   },
   {
    "duration": 37,
    "start_time": "2022-07-07T12:18:06.993Z"
   },
   {
    "duration": 27,
    "start_time": "2022-07-07T12:18:07.033Z"
   },
   {
    "duration": 18,
    "start_time": "2022-07-07T12:18:07.061Z"
   },
   {
    "duration": 54,
    "start_time": "2022-07-07T12:18:07.080Z"
   },
   {
    "duration": 17,
    "start_time": "2022-07-07T12:18:07.136Z"
   },
   {
    "duration": 30,
    "start_time": "2022-07-07T12:18:07.155Z"
   },
   {
    "duration": 5,
    "start_time": "2022-07-07T12:18:07.187Z"
   },
   {
    "duration": 29,
    "start_time": "2022-07-07T12:18:07.194Z"
   },
   {
    "duration": 14,
    "start_time": "2022-07-07T12:18:07.233Z"
   },
   {
    "duration": 34,
    "start_time": "2022-07-07T12:18:07.249Z"
   },
   {
    "duration": 57,
    "start_time": "2022-07-07T12:18:07.286Z"
   },
   {
    "duration": 4,
    "start_time": "2022-07-07T12:18:07.345Z"
   },
   {
    "duration": 28,
    "start_time": "2022-07-07T12:18:07.351Z"
   },
   {
    "duration": 17,
    "start_time": "2022-07-07T12:18:07.381Z"
   },
   {
    "duration": 23,
    "start_time": "2022-07-07T12:18:07.400Z"
   },
   {
    "duration": 8,
    "start_time": "2022-07-07T12:18:07.435Z"
   },
   {
    "duration": 24,
    "start_time": "2022-07-07T12:18:07.445Z"
   },
   {
    "duration": 5,
    "start_time": "2022-07-07T12:18:07.471Z"
   },
   {
    "duration": 11,
    "start_time": "2022-07-07T12:18:07.477Z"
   },
   {
    "duration": 49,
    "start_time": "2022-07-07T12:18:07.490Z"
   },
   {
    "duration": 7,
    "start_time": "2022-07-07T12:18:07.545Z"
   },
   {
    "duration": 166,
    "start_time": "2022-07-07T12:18:07.554Z"
   },
   {
    "duration": 15,
    "start_time": "2022-07-07T12:18:07.722Z"
   },
   {
    "duration": 36,
    "start_time": "2022-07-07T12:18:07.740Z"
   },
   {
    "duration": 29,
    "start_time": "2022-07-07T12:18:07.777Z"
   },
   {
    "duration": 49,
    "start_time": "2022-07-07T12:18:07.808Z"
   },
   {
    "duration": 36,
    "start_time": "2022-07-07T12:18:07.859Z"
   },
   {
    "duration": 37,
    "start_time": "2022-07-07T12:18:07.897Z"
   },
   {
    "duration": 35,
    "start_time": "2022-07-07T12:18:07.936Z"
   },
   {
    "duration": 14,
    "start_time": "2022-07-07T12:18:07.973Z"
   },
   {
    "duration": 24,
    "start_time": "2022-07-07T12:18:07.990Z"
   },
   {
    "duration": 46,
    "start_time": "2022-07-07T12:18:08.015Z"
   },
   {
    "duration": 203,
    "start_time": "2022-07-07T12:18:08.063Z"
   },
   {
    "duration": 175,
    "start_time": "2022-07-07T12:18:08.269Z"
   },
   {
    "duration": 199,
    "start_time": "2022-07-07T12:18:08.447Z"
   },
   {
    "duration": 209,
    "start_time": "2022-07-07T12:18:08.648Z"
   },
   {
    "duration": 217,
    "start_time": "2022-07-07T12:18:08.860Z"
   },
   {
    "duration": 191,
    "start_time": "2022-07-07T12:18:09.079Z"
   },
   {
    "duration": 206,
    "start_time": "2022-07-07T12:18:09.273Z"
   },
   {
    "duration": 177,
    "start_time": "2022-07-07T12:18:09.481Z"
   },
   {
    "duration": 285,
    "start_time": "2022-07-07T12:18:09.660Z"
   },
   {
    "duration": 4,
    "start_time": "2022-07-07T12:18:09.946Z"
   },
   {
    "duration": 18,
    "start_time": "2022-07-07T12:18:09.952Z"
   },
   {
    "duration": 11,
    "start_time": "2022-07-07T12:18:09.973Z"
   },
   {
    "duration": 21,
    "start_time": "2022-07-07T12:18:09.986Z"
   },
   {
    "duration": 20,
    "start_time": "2022-07-07T12:18:10.009Z"
   },
   {
    "duration": 22,
    "start_time": "2022-07-07T12:18:10.031Z"
   },
   {
    "duration": 1096,
    "start_time": "2022-07-07T14:05:16.084Z"
   },
   {
    "duration": 158,
    "start_time": "2022-07-07T14:05:17.182Z"
   },
   {
    "duration": 135,
    "start_time": "2022-07-07T14:05:17.342Z"
   },
   {
    "duration": 87,
    "start_time": "2022-07-07T14:05:17.478Z"
   },
   {
    "duration": 15,
    "start_time": "2022-07-07T14:05:17.568Z"
   },
   {
    "duration": 25,
    "start_time": "2022-07-07T14:05:17.584Z"
   },
   {
    "duration": 12,
    "start_time": "2022-07-07T14:05:17.611Z"
   },
   {
    "duration": 37,
    "start_time": "2022-07-07T14:05:17.624Z"
   },
   {
    "duration": 21,
    "start_time": "2022-07-07T14:05:17.663Z"
   },
   {
    "duration": 18,
    "start_time": "2022-07-07T14:05:17.685Z"
   },
   {
    "duration": 19,
    "start_time": "2022-07-07T14:05:17.705Z"
   },
   {
    "duration": 20,
    "start_time": "2022-07-07T14:05:17.725Z"
   },
   {
    "duration": 81,
    "start_time": "2022-07-07T14:05:17.747Z"
   },
   {
    "duration": 10,
    "start_time": "2022-07-07T14:05:17.831Z"
   },
   {
    "duration": 21,
    "start_time": "2022-07-07T14:05:17.842Z"
   },
   {
    "duration": 8,
    "start_time": "2022-07-07T14:05:17.865Z"
   },
   {
    "duration": 20,
    "start_time": "2022-07-07T14:05:17.875Z"
   },
   {
    "duration": 33,
    "start_time": "2022-07-07T14:05:17.896Z"
   },
   {
    "duration": 19,
    "start_time": "2022-07-07T14:05:17.930Z"
   },
   {
    "duration": 9,
    "start_time": "2022-07-07T14:05:17.951Z"
   },
   {
    "duration": 28,
    "start_time": "2022-07-07T14:05:17.961Z"
   },
   {
    "duration": 43,
    "start_time": "2022-07-07T14:05:17.991Z"
   },
   {
    "duration": 11,
    "start_time": "2022-07-07T14:05:18.036Z"
   },
   {
    "duration": 24,
    "start_time": "2022-07-07T14:05:18.048Z"
   },
   {
    "duration": 9,
    "start_time": "2022-07-07T14:05:18.074Z"
   },
   {
    "duration": 42,
    "start_time": "2022-07-07T14:05:18.084Z"
   },
   {
    "duration": 4,
    "start_time": "2022-07-07T14:05:18.128Z"
   },
   {
    "duration": 8,
    "start_time": "2022-07-07T14:05:18.133Z"
   },
   {
    "duration": 18,
    "start_time": "2022-07-07T14:05:18.142Z"
   },
   {
    "duration": 32,
    "start_time": "2022-07-07T14:05:18.161Z"
   },
   {
    "duration": 32,
    "start_time": "2022-07-07T14:05:18.194Z"
   },
   {
    "duration": 4,
    "start_time": "2022-07-07T14:05:18.228Z"
   },
   {
    "duration": 32,
    "start_time": "2022-07-07T14:05:18.233Z"
   },
   {
    "duration": 14,
    "start_time": "2022-07-07T14:05:18.267Z"
   },
   {
    "duration": 15,
    "start_time": "2022-07-07T14:05:18.283Z"
   },
   {
    "duration": 6,
    "start_time": "2022-07-07T14:05:18.300Z"
   },
   {
    "duration": 25,
    "start_time": "2022-07-07T14:05:18.307Z"
   },
   {
    "duration": 4,
    "start_time": "2022-07-07T14:05:18.333Z"
   },
   {
    "duration": 12,
    "start_time": "2022-07-07T14:05:18.339Z"
   },
   {
    "duration": 21,
    "start_time": "2022-07-07T14:05:18.352Z"
   },
   {
    "duration": 13,
    "start_time": "2022-07-07T14:05:18.377Z"
   },
   {
    "duration": 127,
    "start_time": "2022-07-07T14:05:18.392Z"
   },
   {
    "duration": 7,
    "start_time": "2022-07-07T14:05:18.522Z"
   },
   {
    "duration": 27,
    "start_time": "2022-07-07T14:05:18.530Z"
   },
   {
    "duration": 24,
    "start_time": "2022-07-07T14:05:18.559Z"
   },
   {
    "duration": 53,
    "start_time": "2022-07-07T14:05:18.584Z"
   },
   {
    "duration": 27,
    "start_time": "2022-07-07T14:05:18.639Z"
   },
   {
    "duration": 9,
    "start_time": "2022-07-07T14:05:18.667Z"
   },
   {
    "duration": 13,
    "start_time": "2022-07-07T14:05:18.677Z"
   },
   {
    "duration": 12,
    "start_time": "2022-07-07T14:05:18.691Z"
   },
   {
    "duration": 33,
    "start_time": "2022-07-07T14:05:18.704Z"
   },
   {
    "duration": 18,
    "start_time": "2022-07-07T14:05:18.739Z"
   },
   {
    "duration": 177,
    "start_time": "2022-07-07T14:05:18.759Z"
   },
   {
    "duration": 130,
    "start_time": "2022-07-07T14:05:18.938Z"
   },
   {
    "duration": 159,
    "start_time": "2022-07-07T14:05:19.069Z"
   },
   {
    "duration": 129,
    "start_time": "2022-07-07T14:05:19.230Z"
   },
   {
    "duration": 148,
    "start_time": "2022-07-07T14:05:19.361Z"
   },
   {
    "duration": 166,
    "start_time": "2022-07-07T14:05:19.511Z"
   },
   {
    "duration": 144,
    "start_time": "2022-07-07T14:05:19.679Z"
   },
   {
    "duration": 142,
    "start_time": "2022-07-07T14:05:19.824Z"
   },
   {
    "duration": 228,
    "start_time": "2022-07-07T14:05:19.969Z"
   },
   {
    "duration": 3,
    "start_time": "2022-07-07T14:05:20.199Z"
   },
   {
    "duration": 10,
    "start_time": "2022-07-07T14:05:20.203Z"
   },
   {
    "duration": 22,
    "start_time": "2022-07-07T14:05:20.214Z"
   },
   {
    "duration": 10,
    "start_time": "2022-07-07T14:05:20.238Z"
   },
   {
    "duration": 9,
    "start_time": "2022-07-07T14:05:20.249Z"
   },
   {
    "duration": 16,
    "start_time": "2022-07-07T14:05:20.259Z"
   },
   {
    "duration": 47,
    "start_time": "2022-07-07T14:26:51.093Z"
   },
   {
    "duration": 1140,
    "start_time": "2022-07-07T14:26:57.153Z"
   },
   {
    "duration": 552,
    "start_time": "2022-07-07T14:26:58.295Z"
   },
   {
    "duration": 473,
    "start_time": "2022-07-07T14:26:58.849Z"
   },
   {
    "duration": 315,
    "start_time": "2022-07-07T14:26:59.323Z"
   },
   {
    "duration": 74,
    "start_time": "2022-07-07T14:26:59.640Z"
   },
   {
    "duration": 75,
    "start_time": "2022-07-07T14:26:59.716Z"
   },
   {
    "duration": 7,
    "start_time": "2022-07-07T14:26:59.793Z"
   },
   {
    "duration": 25,
    "start_time": "2022-07-07T14:26:59.802Z"
   },
   {
    "duration": 21,
    "start_time": "2022-07-07T14:26:59.829Z"
   },
   {
    "duration": 17,
    "start_time": "2022-07-07T14:26:59.852Z"
   },
   {
    "duration": 9,
    "start_time": "2022-07-07T14:26:59.871Z"
   },
   {
    "duration": 13,
    "start_time": "2022-07-07T14:26:59.882Z"
   },
   {
    "duration": 97,
    "start_time": "2022-07-07T14:26:59.897Z"
   },
   {
    "duration": 12,
    "start_time": "2022-07-07T14:26:59.997Z"
   },
   {
    "duration": 41,
    "start_time": "2022-07-07T14:27:00.011Z"
   },
   {
    "duration": 9,
    "start_time": "2022-07-07T14:27:00.054Z"
   },
   {
    "duration": 25,
    "start_time": "2022-07-07T14:27:00.065Z"
   },
   {
    "duration": 9,
    "start_time": "2022-07-07T14:27:00.092Z"
   },
   {
    "duration": 21,
    "start_time": "2022-07-07T14:27:00.103Z"
   },
   {
    "duration": 27,
    "start_time": "2022-07-07T14:27:00.125Z"
   },
   {
    "duration": 28,
    "start_time": "2022-07-07T14:27:00.154Z"
   },
   {
    "duration": 21,
    "start_time": "2022-07-07T14:27:00.184Z"
   },
   {
    "duration": 18,
    "start_time": "2022-07-07T14:27:00.207Z"
   },
   {
    "duration": 45,
    "start_time": "2022-07-07T14:27:00.227Z"
   },
   {
    "duration": 9,
    "start_time": "2022-07-07T14:27:00.274Z"
   },
   {
    "duration": 36,
    "start_time": "2022-07-07T14:27:00.285Z"
   },
   {
    "duration": 4,
    "start_time": "2022-07-07T14:27:00.322Z"
   },
   {
    "duration": 25,
    "start_time": "2022-07-07T14:27:00.328Z"
   },
   {
    "duration": 28,
    "start_time": "2022-07-07T14:27:00.355Z"
   },
   {
    "duration": 62,
    "start_time": "2022-07-07T14:27:00.385Z"
   },
   {
    "duration": 21,
    "start_time": "2022-07-07T14:27:00.449Z"
   },
   {
    "duration": 4,
    "start_time": "2022-07-07T14:27:00.472Z"
   },
   {
    "duration": 29,
    "start_time": "2022-07-07T14:27:00.477Z"
   },
   {
    "duration": 20,
    "start_time": "2022-07-07T14:27:00.507Z"
   },
   {
    "duration": 22,
    "start_time": "2022-07-07T14:27:00.528Z"
   },
   {
    "duration": 20,
    "start_time": "2022-07-07T14:27:00.552Z"
   },
   {
    "duration": 39,
    "start_time": "2022-07-07T14:27:00.574Z"
   },
   {
    "duration": 4,
    "start_time": "2022-07-07T14:27:00.614Z"
   },
   {
    "duration": 12,
    "start_time": "2022-07-07T14:27:00.619Z"
   },
   {
    "duration": 35,
    "start_time": "2022-07-07T14:27:00.633Z"
   },
   {
    "duration": 6,
    "start_time": "2022-07-07T14:27:00.673Z"
   },
   {
    "duration": 157,
    "start_time": "2022-07-07T14:27:00.681Z"
   },
   {
    "duration": 13,
    "start_time": "2022-07-07T14:27:00.840Z"
   },
   {
    "duration": 18,
    "start_time": "2022-07-07T14:27:00.854Z"
   },
   {
    "duration": 29,
    "start_time": "2022-07-07T14:27:00.874Z"
   },
   {
    "duration": 24,
    "start_time": "2022-07-07T14:27:00.905Z"
   },
   {
    "duration": 24,
    "start_time": "2022-07-07T14:27:00.931Z"
   },
   {
    "duration": 25,
    "start_time": "2022-07-07T14:27:00.956Z"
   },
   {
    "duration": 9,
    "start_time": "2022-07-07T14:27:00.982Z"
   },
   {
    "duration": 1098,
    "start_time": "2022-07-07T14:28:30.901Z"
   },
   {
    "duration": 161,
    "start_time": "2022-07-07T14:28:32.000Z"
   },
   {
    "duration": 134,
    "start_time": "2022-07-07T14:28:32.163Z"
   },
   {
    "duration": 84,
    "start_time": "2022-07-07T14:28:32.300Z"
   },
   {
    "duration": 21,
    "start_time": "2022-07-07T14:28:32.386Z"
   },
   {
    "duration": 34,
    "start_time": "2022-07-07T14:28:32.408Z"
   },
   {
    "duration": 7,
    "start_time": "2022-07-07T14:28:32.444Z"
   },
   {
    "duration": 37,
    "start_time": "2022-07-07T14:28:32.453Z"
   },
   {
    "duration": 30,
    "start_time": "2022-07-07T14:28:32.492Z"
   },
   {
    "duration": 42,
    "start_time": "2022-07-07T14:28:32.526Z"
   },
   {
    "duration": 12,
    "start_time": "2022-07-07T14:28:32.570Z"
   },
   {
    "duration": 20,
    "start_time": "2022-07-07T14:28:32.584Z"
   },
   {
    "duration": 135,
    "start_time": "2022-07-07T14:28:32.606Z"
   },
   {
    "duration": 13,
    "start_time": "2022-07-07T14:28:32.743Z"
   },
   {
    "duration": 21,
    "start_time": "2022-07-07T14:28:32.758Z"
   },
   {
    "duration": 12,
    "start_time": "2022-07-07T14:28:32.781Z"
   },
   {
    "duration": 21,
    "start_time": "2022-07-07T14:28:32.795Z"
   },
   {
    "duration": 37,
    "start_time": "2022-07-07T14:28:32.818Z"
   },
   {
    "duration": 18,
    "start_time": "2022-07-07T14:28:32.857Z"
   },
   {
    "duration": 10,
    "start_time": "2022-07-07T14:28:32.877Z"
   },
   {
    "duration": 46,
    "start_time": "2022-07-07T14:28:32.888Z"
   },
   {
    "duration": 46,
    "start_time": "2022-07-07T14:28:32.935Z"
   },
   {
    "duration": 15,
    "start_time": "2022-07-07T14:28:32.983Z"
   },
   {
    "duration": 26,
    "start_time": "2022-07-07T14:28:33.001Z"
   },
   {
    "duration": 35,
    "start_time": "2022-07-07T14:28:33.029Z"
   },
   {
    "duration": 27,
    "start_time": "2022-07-07T14:28:33.069Z"
   },
   {
    "duration": 5,
    "start_time": "2022-07-07T14:28:33.097Z"
   },
   {
    "duration": 8,
    "start_time": "2022-07-07T14:28:33.106Z"
   },
   {
    "duration": 40,
    "start_time": "2022-07-07T14:28:33.116Z"
   },
   {
    "duration": 36,
    "start_time": "2022-07-07T14:28:33.157Z"
   },
   {
    "duration": 19,
    "start_time": "2022-07-07T14:28:33.195Z"
   },
   {
    "duration": 5,
    "start_time": "2022-07-07T14:28:33.215Z"
   },
   {
    "duration": 41,
    "start_time": "2022-07-07T14:28:33.221Z"
   },
   {
    "duration": 9,
    "start_time": "2022-07-07T14:28:33.263Z"
   },
   {
    "duration": 10,
    "start_time": "2022-07-07T14:28:33.273Z"
   },
   {
    "duration": 12,
    "start_time": "2022-07-07T14:28:33.285Z"
   },
   {
    "duration": 22,
    "start_time": "2022-07-07T14:28:33.299Z"
   },
   {
    "duration": 31,
    "start_time": "2022-07-07T14:28:33.322Z"
   },
   {
    "duration": 3,
    "start_time": "2022-07-07T14:28:33.355Z"
   },
   {
    "duration": 1171,
    "start_time": "2022-07-07T14:38:11.024Z"
   },
   {
    "duration": 184,
    "start_time": "2022-07-07T14:38:12.196Z"
   },
   {
    "duration": 137,
    "start_time": "2022-07-07T14:38:12.382Z"
   },
   {
    "duration": 99,
    "start_time": "2022-07-07T14:38:12.522Z"
   },
   {
    "duration": 20,
    "start_time": "2022-07-07T14:38:12.623Z"
   },
   {
    "duration": 44,
    "start_time": "2022-07-07T14:38:12.645Z"
   },
   {
    "duration": 6,
    "start_time": "2022-07-07T14:38:12.690Z"
   },
   {
    "duration": 25,
    "start_time": "2022-07-07T14:38:12.697Z"
   },
   {
    "duration": 21,
    "start_time": "2022-07-07T14:38:12.724Z"
   },
   {
    "duration": 23,
    "start_time": "2022-07-07T14:38:12.748Z"
   },
   {
    "duration": 14,
    "start_time": "2022-07-07T14:38:12.772Z"
   },
   {
    "duration": 20,
    "start_time": "2022-07-07T14:38:12.788Z"
   },
   {
    "duration": 90,
    "start_time": "2022-07-07T14:38:12.810Z"
   },
   {
    "duration": 12,
    "start_time": "2022-07-07T14:38:12.902Z"
   },
   {
    "duration": 37,
    "start_time": "2022-07-07T14:38:12.915Z"
   },
   {
    "duration": 10,
    "start_time": "2022-07-07T14:38:12.954Z"
   },
   {
    "duration": 23,
    "start_time": "2022-07-07T14:38:12.966Z"
   },
   {
    "duration": 10,
    "start_time": "2022-07-07T14:38:12.991Z"
   },
   {
    "duration": 16,
    "start_time": "2022-07-07T14:38:13.002Z"
   },
   {
    "duration": 9,
    "start_time": "2022-07-07T14:38:13.019Z"
   },
   {
    "duration": 29,
    "start_time": "2022-07-07T14:38:13.053Z"
   },
   {
    "duration": 24,
    "start_time": "2022-07-07T14:38:13.084Z"
   },
   {
    "duration": 44,
    "start_time": "2022-07-07T14:38:13.110Z"
   },
   {
    "duration": 28,
    "start_time": "2022-07-07T14:38:13.156Z"
   },
   {
    "duration": 9,
    "start_time": "2022-07-07T14:38:13.186Z"
   },
   {
    "duration": 19,
    "start_time": "2022-07-07T14:38:13.196Z"
   },
   {
    "duration": 4,
    "start_time": "2022-07-07T14:38:13.216Z"
   },
   {
    "duration": 10,
    "start_time": "2022-07-07T14:38:13.255Z"
   },
   {
    "duration": 19,
    "start_time": "2022-07-07T14:38:13.268Z"
   },
   {
    "duration": 34,
    "start_time": "2022-07-07T14:38:13.288Z"
   },
   {
    "duration": 37,
    "start_time": "2022-07-07T14:38:13.323Z"
   },
   {
    "duration": 4,
    "start_time": "2022-07-07T14:38:13.362Z"
   },
   {
    "duration": 24,
    "start_time": "2022-07-07T14:38:13.367Z"
   },
   {
    "duration": 10,
    "start_time": "2022-07-07T14:38:13.393Z"
   },
   {
    "duration": 14,
    "start_time": "2022-07-07T14:38:13.405Z"
   },
   {
    "duration": 35,
    "start_time": "2022-07-07T14:38:13.420Z"
   },
   {
    "duration": 22,
    "start_time": "2022-07-07T14:38:13.457Z"
   },
   {
    "duration": 4,
    "start_time": "2022-07-07T14:38:13.481Z"
   },
   {
    "duration": 7,
    "start_time": "2022-07-07T14:38:13.487Z"
   },
   {
    "duration": 16,
    "start_time": "2022-07-07T14:38:13.496Z"
   },
   {
    "duration": 5,
    "start_time": "2022-07-07T14:38:13.513Z"
   },
   {
    "duration": 194,
    "start_time": "2022-07-07T14:38:13.519Z"
   },
   {
    "duration": 7,
    "start_time": "2022-07-07T14:38:13.715Z"
   },
   {
    "duration": 6,
    "start_time": "2022-07-07T14:38:13.724Z"
   },
   {
    "duration": 22,
    "start_time": "2022-07-07T14:38:13.732Z"
   },
   {
    "duration": 31,
    "start_time": "2022-07-07T14:38:13.757Z"
   },
   {
    "duration": 22,
    "start_time": "2022-07-07T14:38:13.790Z"
   },
   {
    "duration": 27,
    "start_time": "2022-07-07T14:38:13.814Z"
   },
   {
    "duration": 41,
    "start_time": "2022-07-07T14:38:13.842Z"
   },
   {
    "duration": 26,
    "start_time": "2022-07-07T14:38:13.885Z"
   },
   {
    "duration": 11,
    "start_time": "2022-07-07T14:38:13.912Z"
   },
   {
    "duration": 43,
    "start_time": "2022-07-07T14:38:13.924Z"
   },
   {
    "duration": 19,
    "start_time": "2022-07-07T14:38:13.969Z"
   },
   {
    "duration": 21,
    "start_time": "2022-07-07T14:38:13.990Z"
   },
   {
    "duration": 44,
    "start_time": "2022-07-07T14:38:14.013Z"
   },
   {
    "duration": 187,
    "start_time": "2022-07-07T14:38:14.059Z"
   },
   {
    "duration": 154,
    "start_time": "2022-07-07T14:38:14.247Z"
   },
   {
    "duration": 200,
    "start_time": "2022-07-07T14:38:14.402Z"
   },
   {
    "duration": 148,
    "start_time": "2022-07-07T14:38:14.604Z"
   },
   {
    "duration": 164,
    "start_time": "2022-07-07T14:38:14.754Z"
   },
   {
    "duration": 179,
    "start_time": "2022-07-07T14:38:14.920Z"
   },
   {
    "duration": 170,
    "start_time": "2022-07-07T14:38:15.101Z"
   },
   {
    "duration": 163,
    "start_time": "2022-07-07T14:38:15.273Z"
   },
   {
    "duration": 244,
    "start_time": "2022-07-07T14:38:15.438Z"
   },
   {
    "duration": 4,
    "start_time": "2022-07-07T14:38:15.684Z"
   },
   {
    "duration": 5,
    "start_time": "2022-07-07T14:38:15.690Z"
   },
   {
    "duration": 8,
    "start_time": "2022-07-07T14:38:15.698Z"
   },
   {
    "duration": 12,
    "start_time": "2022-07-07T14:38:15.708Z"
   },
   {
    "duration": 32,
    "start_time": "2022-07-07T14:38:15.723Z"
   },
   {
    "duration": 7,
    "start_time": "2022-07-07T14:38:15.757Z"
   },
   {
    "duration": 14,
    "start_time": "2022-07-07T14:38:53.267Z"
   },
   {
    "duration": 5,
    "start_time": "2022-07-07T14:40:49.968Z"
   },
   {
    "duration": 132,
    "start_time": "2022-07-07T14:40:51.191Z"
   },
   {
    "duration": 8,
    "start_time": "2022-07-07T14:40:59.326Z"
   },
   {
    "duration": 5,
    "start_time": "2022-07-07T14:40:59.678Z"
   },
   {
    "duration": 4,
    "start_time": "2022-07-07T14:42:47.068Z"
   },
   {
    "duration": 130,
    "start_time": "2022-07-07T14:42:48.396Z"
   },
   {
    "duration": 7,
    "start_time": "2022-07-07T14:42:49.940Z"
   },
   {
    "duration": 5,
    "start_time": "2022-07-07T14:42:50.299Z"
   },
   {
    "duration": 19,
    "start_time": "2022-07-07T14:42:51.557Z"
   },
   {
    "duration": 11,
    "start_time": "2022-07-07T14:44:01.468Z"
   },
   {
    "duration": 1161,
    "start_time": "2022-07-07T14:47:28.167Z"
   },
   {
    "duration": 165,
    "start_time": "2022-07-07T14:47:29.330Z"
   },
   {
    "duration": 145,
    "start_time": "2022-07-07T14:47:29.496Z"
   },
   {
    "duration": 88,
    "start_time": "2022-07-07T14:47:29.642Z"
   },
   {
    "duration": 19,
    "start_time": "2022-07-07T14:47:29.732Z"
   },
   {
    "duration": 46,
    "start_time": "2022-07-07T14:47:29.753Z"
   },
   {
    "duration": 6,
    "start_time": "2022-07-07T14:47:29.800Z"
   },
   {
    "duration": 25,
    "start_time": "2022-07-07T14:47:29.807Z"
   },
   {
    "duration": 20,
    "start_time": "2022-07-07T14:47:29.834Z"
   },
   {
    "duration": 32,
    "start_time": "2022-07-07T14:47:29.856Z"
   },
   {
    "duration": 12,
    "start_time": "2022-07-07T14:47:29.890Z"
   },
   {
    "duration": 14,
    "start_time": "2022-07-07T14:47:29.904Z"
   },
   {
    "duration": 99,
    "start_time": "2022-07-07T14:47:29.919Z"
   },
   {
    "duration": 11,
    "start_time": "2022-07-07T14:47:30.021Z"
   },
   {
    "duration": 40,
    "start_time": "2022-07-07T14:47:30.034Z"
   },
   {
    "duration": 14,
    "start_time": "2022-07-07T14:47:30.077Z"
   },
   {
    "duration": 41,
    "start_time": "2022-07-07T14:47:30.093Z"
   },
   {
    "duration": 11,
    "start_time": "2022-07-07T14:47:30.136Z"
   },
   {
    "duration": 40,
    "start_time": "2022-07-07T14:47:30.148Z"
   },
   {
    "duration": 29,
    "start_time": "2022-07-07T14:47:30.190Z"
   },
   {
    "duration": 52,
    "start_time": "2022-07-07T14:47:30.221Z"
   },
   {
    "duration": 25,
    "start_time": "2022-07-07T14:47:30.275Z"
   },
   {
    "duration": 16,
    "start_time": "2022-07-07T14:47:30.302Z"
   },
   {
    "duration": 41,
    "start_time": "2022-07-07T14:47:30.319Z"
   },
   {
    "duration": 13,
    "start_time": "2022-07-07T14:47:30.362Z"
   },
   {
    "duration": 28,
    "start_time": "2022-07-07T14:47:30.376Z"
   },
   {
    "duration": 4,
    "start_time": "2022-07-07T14:47:30.406Z"
   },
   {
    "duration": 20,
    "start_time": "2022-07-07T14:47:30.412Z"
   },
   {
    "duration": 36,
    "start_time": "2022-07-07T14:47:30.434Z"
   },
   {
    "duration": 36,
    "start_time": "2022-07-07T14:47:30.472Z"
   },
   {
    "duration": 20,
    "start_time": "2022-07-07T14:47:30.510Z"
   },
   {
    "duration": 3,
    "start_time": "2022-07-07T14:47:30.532Z"
   },
   {
    "duration": 56,
    "start_time": "2022-07-07T14:47:30.537Z"
   },
   {
    "duration": 15,
    "start_time": "2022-07-07T14:47:30.595Z"
   },
   {
    "duration": 29,
    "start_time": "2022-07-07T14:47:30.612Z"
   },
   {
    "duration": 9,
    "start_time": "2022-07-07T14:47:30.643Z"
   },
   {
    "duration": 29,
    "start_time": "2022-07-07T14:47:30.653Z"
   },
   {
    "duration": 16,
    "start_time": "2022-07-07T14:47:30.684Z"
   },
   {
    "duration": 6,
    "start_time": "2022-07-07T14:47:30.702Z"
   },
   {
    "duration": 14,
    "start_time": "2022-07-07T14:47:30.710Z"
   },
   {
    "duration": 40,
    "start_time": "2022-07-07T14:47:30.730Z"
   },
   {
    "duration": 5,
    "start_time": "2022-07-07T14:47:30.772Z"
   },
   {
    "duration": 155,
    "start_time": "2022-07-07T14:47:30.779Z"
   },
   {
    "duration": 7,
    "start_time": "2022-07-07T14:47:30.935Z"
   },
   {
    "duration": 11,
    "start_time": "2022-07-07T14:47:30.943Z"
   },
   {
    "duration": 28,
    "start_time": "2022-07-07T14:47:30.956Z"
   },
   {
    "duration": 21,
    "start_time": "2022-07-07T14:47:30.985Z"
   },
   {
    "duration": 25,
    "start_time": "2022-07-07T14:47:31.008Z"
   },
   {
    "duration": 41,
    "start_time": "2022-07-07T14:47:31.035Z"
   },
   {
    "duration": 96,
    "start_time": "2022-07-07T14:47:31.078Z"
   },
   {
    "duration": 11,
    "start_time": "2022-07-07T14:47:31.175Z"
   },
   {
    "duration": 18,
    "start_time": "2022-07-07T14:47:31.187Z"
   },
   {
    "duration": 11,
    "start_time": "2022-07-07T14:47:31.253Z"
   },
   {
    "duration": 37,
    "start_time": "2022-07-07T14:47:31.266Z"
   },
   {
    "duration": 58,
    "start_time": "2022-07-07T14:47:31.305Z"
   },
   {
    "duration": 165,
    "start_time": "2022-07-07T14:47:31.366Z"
   },
   {
    "duration": 235,
    "start_time": "2022-07-07T14:47:31.533Z"
   },
   {
    "duration": 391,
    "start_time": "2022-07-07T14:47:31.771Z"
   },
   {
    "duration": 311,
    "start_time": "2022-07-07T14:47:32.164Z"
   },
   {
    "duration": 381,
    "start_time": "2022-07-07T14:47:32.477Z"
   },
   {
    "duration": 401,
    "start_time": "2022-07-07T14:47:32.860Z"
   },
   {
    "duration": 300,
    "start_time": "2022-07-07T14:47:33.263Z"
   },
   {
    "duration": 336,
    "start_time": "2022-07-07T14:47:33.565Z"
   },
   {
    "duration": 605,
    "start_time": "2022-07-07T14:47:33.952Z"
   },
   {
    "duration": 4,
    "start_time": "2022-07-07T14:47:34.565Z"
   },
   {
    "duration": 11,
    "start_time": "2022-07-07T14:47:34.571Z"
   },
   {
    "duration": 15,
    "start_time": "2022-07-07T14:47:34.584Z"
   },
   {
    "duration": 12,
    "start_time": "2022-07-07T14:47:34.601Z"
   },
   {
    "duration": 9,
    "start_time": "2022-07-07T14:47:34.653Z"
   },
   {
    "duration": 11,
    "start_time": "2022-07-07T14:47:34.664Z"
   },
   {
    "duration": 21,
    "start_time": "2022-07-07T14:47:34.677Z"
   },
   {
    "duration": 14,
    "start_time": "2022-07-07T14:49:39.488Z"
   },
   {
    "duration": 1135,
    "start_time": "2022-07-07T14:50:06.869Z"
   },
   {
    "duration": 176,
    "start_time": "2022-07-07T14:50:08.006Z"
   },
   {
    "duration": 149,
    "start_time": "2022-07-07T14:50:08.183Z"
   },
   {
    "duration": 103,
    "start_time": "2022-07-07T14:50:08.334Z"
   },
   {
    "duration": 25,
    "start_time": "2022-07-07T14:50:08.439Z"
   },
   {
    "duration": 34,
    "start_time": "2022-07-07T14:50:08.467Z"
   },
   {
    "duration": 6,
    "start_time": "2022-07-07T14:50:08.503Z"
   },
   {
    "duration": 26,
    "start_time": "2022-07-07T14:50:08.511Z"
   },
   {
    "duration": 25,
    "start_time": "2022-07-07T14:50:08.539Z"
   },
   {
    "duration": 26,
    "start_time": "2022-07-07T14:50:08.568Z"
   },
   {
    "duration": 14,
    "start_time": "2022-07-07T14:50:08.596Z"
   },
   {
    "duration": 17,
    "start_time": "2022-07-07T14:50:08.612Z"
   },
   {
    "duration": 100,
    "start_time": "2022-07-07T14:50:08.631Z"
   },
   {
    "duration": 21,
    "start_time": "2022-07-07T14:50:08.733Z"
   },
   {
    "duration": 39,
    "start_time": "2022-07-07T14:50:08.756Z"
   },
   {
    "duration": 11,
    "start_time": "2022-07-07T14:50:08.797Z"
   },
   {
    "duration": 27,
    "start_time": "2022-07-07T14:50:08.811Z"
   },
   {
    "duration": 13,
    "start_time": "2022-07-07T14:50:08.841Z"
   },
   {
    "duration": 47,
    "start_time": "2022-07-07T14:50:08.855Z"
   },
   {
    "duration": 12,
    "start_time": "2022-07-07T14:50:08.905Z"
   },
   {
    "duration": 59,
    "start_time": "2022-07-07T14:50:08.919Z"
   },
   {
    "duration": 36,
    "start_time": "2022-07-07T14:50:08.980Z"
   },
   {
    "duration": 36,
    "start_time": "2022-07-07T14:50:09.018Z"
   },
   {
    "duration": 34,
    "start_time": "2022-07-07T14:50:09.056Z"
   },
   {
    "duration": 13,
    "start_time": "2022-07-07T14:50:09.093Z"
   },
   {
    "duration": 31,
    "start_time": "2022-07-07T14:50:09.154Z"
   },
   {
    "duration": 6,
    "start_time": "2022-07-07T14:50:09.187Z"
   },
   {
    "duration": 56,
    "start_time": "2022-07-07T14:50:09.199Z"
   },
   {
    "duration": 32,
    "start_time": "2022-07-07T14:50:09.257Z"
   },
   {
    "duration": 88,
    "start_time": "2022-07-07T14:50:09.291Z"
   },
   {
    "duration": 78,
    "start_time": "2022-07-07T14:50:09.381Z"
   },
   {
    "duration": 8,
    "start_time": "2022-07-07T14:50:09.461Z"
   },
   {
    "duration": 95,
    "start_time": "2022-07-07T14:50:09.471Z"
   },
   {
    "duration": 17,
    "start_time": "2022-07-07T14:50:09.571Z"
   },
   {
    "duration": 72,
    "start_time": "2022-07-07T14:50:09.591Z"
   },
   {
    "duration": 11,
    "start_time": "2022-07-07T14:50:09.665Z"
   },
   {
    "duration": 78,
    "start_time": "2022-07-07T14:50:09.678Z"
   },
   {
    "duration": 23,
    "start_time": "2022-07-07T14:50:09.758Z"
   },
   {
    "duration": 15,
    "start_time": "2022-07-07T14:50:09.783Z"
   },
   {
    "duration": 10,
    "start_time": "2022-07-07T14:50:09.800Z"
   },
   {
    "duration": 71,
    "start_time": "2022-07-07T14:50:09.813Z"
   },
   {
    "duration": 9,
    "start_time": "2022-07-07T14:50:09.886Z"
   },
   {
    "duration": 410,
    "start_time": "2022-07-07T14:50:09.898Z"
   },
   {
    "duration": 49,
    "start_time": "2022-07-07T14:50:10.309Z"
   },
   {
    "duration": 22,
    "start_time": "2022-07-07T14:50:10.360Z"
   },
   {
    "duration": 8,
    "start_time": "2022-07-07T14:50:10.384Z"
   },
   {
    "duration": 72,
    "start_time": "2022-07-07T14:50:10.394Z"
   },
   {
    "duration": 24,
    "start_time": "2022-07-07T14:50:10.468Z"
   },
   {
    "duration": 74,
    "start_time": "2022-07-07T14:50:10.494Z"
   },
   {
    "duration": 94,
    "start_time": "2022-07-07T14:50:10.570Z"
   },
   {
    "duration": 27,
    "start_time": "2022-07-07T14:50:10.667Z"
   },
   {
    "duration": 58,
    "start_time": "2022-07-07T14:50:10.696Z"
   },
   {
    "duration": 11,
    "start_time": "2022-07-07T14:50:10.756Z"
   },
   {
    "duration": 18,
    "start_time": "2022-07-07T14:50:10.769Z"
   },
   {
    "duration": 71,
    "start_time": "2022-07-07T14:50:10.789Z"
   },
   {
    "duration": 24,
    "start_time": "2022-07-07T14:50:10.862Z"
   },
   {
    "duration": 311,
    "start_time": "2022-07-07T14:50:10.887Z"
   },
   {
    "duration": 244,
    "start_time": "2022-07-07T14:50:11.252Z"
   },
   {
    "duration": 199,
    "start_time": "2022-07-07T14:50:11.497Z"
   },
   {
    "duration": 146,
    "start_time": "2022-07-07T14:50:11.698Z"
   },
   {
    "duration": 160,
    "start_time": "2022-07-07T14:50:11.852Z"
   },
   {
    "duration": 166,
    "start_time": "2022-07-07T14:50:12.014Z"
   },
   {
    "duration": 151,
    "start_time": "2022-07-07T14:50:12.182Z"
   },
   {
    "duration": 158,
    "start_time": "2022-07-07T14:50:12.334Z"
   },
   {
    "duration": 237,
    "start_time": "2022-07-07T14:50:12.493Z"
   },
   {
    "duration": 3,
    "start_time": "2022-07-07T14:50:12.731Z"
   },
   {
    "duration": 18,
    "start_time": "2022-07-07T14:50:12.736Z"
   },
   {
    "duration": 20,
    "start_time": "2022-07-07T14:50:12.756Z"
   },
   {
    "duration": 9,
    "start_time": "2022-07-07T14:50:12.778Z"
   },
   {
    "duration": 9,
    "start_time": "2022-07-07T14:50:12.788Z"
   },
   {
    "duration": 6,
    "start_time": "2022-07-07T14:50:12.798Z"
   },
   {
    "duration": 7,
    "start_time": "2022-07-07T14:50:12.805Z"
   },
   {
    "duration": 7,
    "start_time": "2022-07-07T14:50:48.810Z"
   },
   {
    "duration": 5,
    "start_time": "2022-07-07T14:50:52.938Z"
   },
   {
    "duration": 144,
    "start_time": "2022-07-07T14:50:55.233Z"
   },
   {
    "duration": 11,
    "start_time": "2022-07-07T14:50:58.446Z"
   },
   {
    "duration": 11,
    "start_time": "2022-07-07T14:51:00.568Z"
   },
   {
    "duration": 4,
    "start_time": "2022-07-07T14:51:01.202Z"
   },
   {
    "duration": 5,
    "start_time": "2022-07-07T14:51:03.721Z"
   },
   {
    "duration": 9,
    "start_time": "2022-07-07T14:51:47.051Z"
   },
   {
    "duration": 1145,
    "start_time": "2022-07-07T14:53:27.401Z"
   },
   {
    "duration": 222,
    "start_time": "2022-07-07T14:53:28.548Z"
   },
   {
    "duration": 322,
    "start_time": "2022-07-07T14:53:28.773Z"
   },
   {
    "duration": 198,
    "start_time": "2022-07-07T14:53:29.097Z"
   },
   {
    "duration": 69,
    "start_time": "2022-07-07T14:53:29.298Z"
   },
   {
    "duration": 42,
    "start_time": "2022-07-07T14:53:29.369Z"
   },
   {
    "duration": 41,
    "start_time": "2022-07-07T14:53:29.413Z"
   },
   {
    "duration": 40,
    "start_time": "2022-07-07T14:53:29.456Z"
   },
   {
    "duration": 76,
    "start_time": "2022-07-07T14:53:29.498Z"
   },
   {
    "duration": 19,
    "start_time": "2022-07-07T14:53:29.576Z"
   },
   {
    "duration": 69,
    "start_time": "2022-07-07T14:53:29.597Z"
   },
   {
    "duration": 18,
    "start_time": "2022-07-07T14:53:29.668Z"
   },
   {
    "duration": 180,
    "start_time": "2022-07-07T14:53:29.688Z"
   },
   {
    "duration": 10,
    "start_time": "2022-07-07T14:53:29.872Z"
   },
   {
    "duration": 72,
    "start_time": "2022-07-07T14:53:29.884Z"
   },
   {
    "duration": 10,
    "start_time": "2022-07-07T14:53:29.958Z"
   },
   {
    "duration": 25,
    "start_time": "2022-07-07T14:53:29.970Z"
   },
   {
    "duration": 65,
    "start_time": "2022-07-07T14:53:29.998Z"
   },
   {
    "duration": 18,
    "start_time": "2022-07-07T14:53:30.065Z"
   },
   {
    "duration": 10,
    "start_time": "2022-07-07T14:53:30.084Z"
   },
   {
    "duration": 91,
    "start_time": "2022-07-07T14:53:30.096Z"
   },
   {
    "duration": 81,
    "start_time": "2022-07-07T14:53:30.189Z"
   },
   {
    "duration": 14,
    "start_time": "2022-07-07T14:53:30.272Z"
   },
   {
    "duration": 83,
    "start_time": "2022-07-07T14:53:30.288Z"
   },
   {
    "duration": 10,
    "start_time": "2022-07-07T14:53:30.373Z"
   },
   {
    "duration": 84,
    "start_time": "2022-07-07T14:53:30.384Z"
   },
   {
    "duration": 5,
    "start_time": "2022-07-07T14:53:30.471Z"
   },
   {
    "duration": 22,
    "start_time": "2022-07-07T14:53:30.478Z"
   },
   {
    "duration": 58,
    "start_time": "2022-07-07T14:53:30.502Z"
   },
   {
    "duration": 91,
    "start_time": "2022-07-07T14:53:30.563Z"
   },
   {
    "duration": 23,
    "start_time": "2022-07-07T14:53:30.657Z"
   },
   {
    "duration": 4,
    "start_time": "2022-07-07T14:53:30.682Z"
   },
   {
    "duration": 81,
    "start_time": "2022-07-07T14:53:30.688Z"
   },
   {
    "duration": 15,
    "start_time": "2022-07-07T14:53:30.771Z"
   },
   {
    "duration": 68,
    "start_time": "2022-07-07T14:53:30.788Z"
   },
   {
    "duration": 9,
    "start_time": "2022-07-07T14:53:30.858Z"
   },
   {
    "duration": 30,
    "start_time": "2022-07-07T14:53:30.869Z"
   },
   {
    "duration": 66,
    "start_time": "2022-07-07T14:53:30.901Z"
   },
   {
    "duration": 7,
    "start_time": "2022-07-07T14:53:30.969Z"
   },
   {
    "duration": 21,
    "start_time": "2022-07-07T14:53:30.978Z"
   },
   {
    "duration": 20,
    "start_time": "2022-07-07T14:53:31.003Z"
   },
   {
    "duration": 6,
    "start_time": "2022-07-07T14:53:31.025Z"
   },
   {
    "duration": 162,
    "start_time": "2022-07-07T14:53:31.033Z"
   },
   {
    "duration": 7,
    "start_time": "2022-07-07T14:53:31.197Z"
   },
   {
    "duration": 11,
    "start_time": "2022-07-07T14:53:31.206Z"
   },
   {
    "duration": 11,
    "start_time": "2022-07-07T14:53:31.219Z"
   },
   {
    "duration": 41,
    "start_time": "2022-07-07T14:53:31.232Z"
   },
   {
    "duration": 19,
    "start_time": "2022-07-07T14:53:31.275Z"
   },
   {
    "duration": 25,
    "start_time": "2022-07-07T14:53:31.295Z"
   },
   {
    "duration": 46,
    "start_time": "2022-07-07T14:53:31.322Z"
   },
   {
    "duration": 24,
    "start_time": "2022-07-07T14:53:31.370Z"
   },
   {
    "duration": 9,
    "start_time": "2022-07-07T14:53:31.395Z"
   },
   {
    "duration": 19,
    "start_time": "2022-07-07T14:53:31.405Z"
   },
   {
    "duration": 9,
    "start_time": "2022-07-07T14:53:31.426Z"
   },
   {
    "duration": 50,
    "start_time": "2022-07-07T14:53:31.436Z"
   },
   {
    "duration": 20,
    "start_time": "2022-07-07T14:53:31.488Z"
   },
   {
    "duration": 154,
    "start_time": "2022-07-07T14:53:31.509Z"
   },
   {
    "duration": 142,
    "start_time": "2022-07-07T14:53:31.665Z"
   },
   {
    "duration": 182,
    "start_time": "2022-07-07T14:53:31.808Z"
   },
   {
    "duration": 156,
    "start_time": "2022-07-07T14:53:31.996Z"
   },
   {
    "duration": 231,
    "start_time": "2022-07-07T14:53:32.155Z"
   },
   {
    "duration": 177,
    "start_time": "2022-07-07T14:53:32.388Z"
   },
   {
    "duration": 161,
    "start_time": "2022-07-07T14:53:32.567Z"
   },
   {
    "duration": 160,
    "start_time": "2022-07-07T14:53:32.730Z"
   },
   {
    "duration": 235,
    "start_time": "2022-07-07T14:53:32.893Z"
   },
   {
    "duration": 2,
    "start_time": "2022-07-07T14:53:33.130Z"
   },
   {
    "duration": 7,
    "start_time": "2022-07-07T14:53:33.134Z"
   },
   {
    "duration": 13,
    "start_time": "2022-07-07T14:53:33.142Z"
   },
   {
    "duration": 9,
    "start_time": "2022-07-07T14:53:33.156Z"
   },
   {
    "duration": 10,
    "start_time": "2022-07-07T14:53:33.167Z"
   },
   {
    "duration": 6,
    "start_time": "2022-07-07T14:53:33.179Z"
   },
   {
    "duration": 10,
    "start_time": "2022-07-07T14:53:33.187Z"
   },
   {
    "duration": 19,
    "start_time": "2022-07-07T14:54:56.672Z"
   },
   {
    "duration": 1214,
    "start_time": "2022-07-07T14:55:35.895Z"
   },
   {
    "duration": 181,
    "start_time": "2022-07-07T14:55:37.111Z"
   },
   {
    "duration": 143,
    "start_time": "2022-07-07T14:55:37.294Z"
   },
   {
    "duration": 98,
    "start_time": "2022-07-07T14:55:37.439Z"
   },
   {
    "duration": 24,
    "start_time": "2022-07-07T14:55:37.539Z"
   },
   {
    "duration": 46,
    "start_time": "2022-07-07T14:55:37.566Z"
   },
   {
    "duration": 7,
    "start_time": "2022-07-07T14:55:37.614Z"
   },
   {
    "duration": 42,
    "start_time": "2022-07-07T14:55:37.623Z"
   },
   {
    "duration": 19,
    "start_time": "2022-07-07T14:55:37.666Z"
   },
   {
    "duration": 18,
    "start_time": "2022-07-07T14:55:37.686Z"
   },
   {
    "duration": 11,
    "start_time": "2022-07-07T14:55:37.706Z"
   },
   {
    "duration": 36,
    "start_time": "2022-07-07T14:55:37.719Z"
   },
   {
    "duration": 98,
    "start_time": "2022-07-07T14:55:37.757Z"
   },
   {
    "duration": 14,
    "start_time": "2022-07-07T14:55:37.860Z"
   },
   {
    "duration": 20,
    "start_time": "2022-07-07T14:55:37.876Z"
   },
   {
    "duration": 10,
    "start_time": "2022-07-07T14:55:37.898Z"
   },
   {
    "duration": 19,
    "start_time": "2022-07-07T14:55:37.909Z"
   },
   {
    "duration": 25,
    "start_time": "2022-07-07T14:55:37.929Z"
   },
   {
    "duration": 34,
    "start_time": "2022-07-07T14:55:37.956Z"
   },
   {
    "duration": 8,
    "start_time": "2022-07-07T14:55:37.992Z"
   },
   {
    "duration": 26,
    "start_time": "2022-07-07T14:55:38.002Z"
   },
   {
    "duration": 35,
    "start_time": "2022-07-07T14:55:38.030Z"
   },
   {
    "duration": 13,
    "start_time": "2022-07-07T14:55:38.067Z"
   },
   {
    "duration": 23,
    "start_time": "2022-07-07T14:55:38.082Z"
   },
   {
    "duration": 9,
    "start_time": "2022-07-07T14:55:38.106Z"
   },
   {
    "duration": 54,
    "start_time": "2022-07-07T14:55:38.117Z"
   },
   {
    "duration": 5,
    "start_time": "2022-07-07T14:55:38.172Z"
   },
   {
    "duration": 6,
    "start_time": "2022-07-07T14:55:38.178Z"
   },
   {
    "duration": 13,
    "start_time": "2022-07-07T14:55:38.186Z"
   },
   {
    "duration": 28,
    "start_time": "2022-07-07T14:55:38.201Z"
   },
   {
    "duration": 27,
    "start_time": "2022-07-07T14:55:38.254Z"
   },
   {
    "duration": 4,
    "start_time": "2022-07-07T14:55:38.283Z"
   },
   {
    "duration": 21,
    "start_time": "2022-07-07T14:55:38.289Z"
   },
   {
    "duration": 12,
    "start_time": "2022-07-07T14:55:38.312Z"
   },
   {
    "duration": 37,
    "start_time": "2022-07-07T14:55:38.326Z"
   },
   {
    "duration": 17,
    "start_time": "2022-07-07T14:55:38.365Z"
   },
   {
    "duration": 19,
    "start_time": "2022-07-07T14:55:38.385Z"
   },
   {
    "duration": 13,
    "start_time": "2022-07-07T14:55:38.406Z"
   },
   {
    "duration": 4,
    "start_time": "2022-07-07T14:55:38.421Z"
   },
   {
    "duration": 5,
    "start_time": "2022-07-07T14:55:38.453Z"
   },
   {
    "duration": 30,
    "start_time": "2022-07-07T14:55:38.464Z"
   },
   {
    "duration": 6,
    "start_time": "2022-07-07T14:55:38.497Z"
   },
   {
    "duration": 7,
    "start_time": "2022-07-07T14:55:38.504Z"
   },
   {
    "duration": 183,
    "start_time": "2022-07-07T14:55:38.512Z"
   },
   {
    "duration": 5,
    "start_time": "2022-07-07T14:55:38.697Z"
   },
   {
    "duration": 26,
    "start_time": "2022-07-07T14:55:38.704Z"
   },
   {
    "duration": 21,
    "start_time": "2022-07-07T14:55:38.732Z"
   },
   {
    "duration": 6,
    "start_time": "2022-07-07T14:55:38.755Z"
   },
   {
    "duration": 28,
    "start_time": "2022-07-07T14:55:38.764Z"
   },
   {
    "duration": 30,
    "start_time": "2022-07-07T14:55:38.794Z"
   },
   {
    "duration": 37,
    "start_time": "2022-07-07T14:55:38.826Z"
   },
   {
    "duration": 30,
    "start_time": "2022-07-07T14:55:38.866Z"
   },
   {
    "duration": 30,
    "start_time": "2022-07-07T14:55:38.898Z"
   },
   {
    "duration": 32,
    "start_time": "2022-07-07T14:55:38.930Z"
   },
   {
    "duration": 21,
    "start_time": "2022-07-07T14:55:38.965Z"
   },
   {
    "duration": 12,
    "start_time": "2022-07-07T14:55:38.987Z"
   },
   {
    "duration": 20,
    "start_time": "2022-07-07T14:55:39.001Z"
   },
   {
    "duration": 47,
    "start_time": "2022-07-07T14:55:39.022Z"
   },
   {
    "duration": 165,
    "start_time": "2022-07-07T14:55:39.071Z"
   },
   {
    "duration": 147,
    "start_time": "2022-07-07T14:55:39.237Z"
   },
   {
    "duration": 182,
    "start_time": "2022-07-07T14:55:39.385Z"
   },
   {
    "duration": 160,
    "start_time": "2022-07-07T14:55:39.569Z"
   },
   {
    "duration": 167,
    "start_time": "2022-07-07T14:55:39.731Z"
   },
   {
    "duration": 184,
    "start_time": "2022-07-07T14:55:39.900Z"
   },
   {
    "duration": 269,
    "start_time": "2022-07-07T14:55:40.086Z"
   },
   {
    "duration": 316,
    "start_time": "2022-07-07T14:55:40.356Z"
   },
   {
    "duration": 511,
    "start_time": "2022-07-07T14:55:40.674Z"
   },
   {
    "duration": 2,
    "start_time": "2022-07-07T14:55:41.187Z"
   },
   {
    "duration": 6,
    "start_time": "2022-07-07T14:55:41.191Z"
   },
   {
    "duration": 6,
    "start_time": "2022-07-07T14:55:41.198Z"
   },
   {
    "duration": 8,
    "start_time": "2022-07-07T14:55:41.252Z"
   },
   {
    "duration": 20,
    "start_time": "2022-07-07T14:55:41.262Z"
   },
   {
    "duration": 22,
    "start_time": "2022-07-07T14:55:41.284Z"
   },
   {
    "duration": 46,
    "start_time": "2022-07-07T14:55:41.308Z"
   },
   {
    "duration": 1112,
    "start_time": "2022-07-07T14:57:42.666Z"
   },
   {
    "duration": 185,
    "start_time": "2022-07-07T14:57:43.780Z"
   },
   {
    "duration": 143,
    "start_time": "2022-07-07T14:57:43.966Z"
   },
   {
    "duration": 96,
    "start_time": "2022-07-07T14:57:44.111Z"
   },
   {
    "duration": 22,
    "start_time": "2022-07-07T14:57:44.209Z"
   },
   {
    "duration": 46,
    "start_time": "2022-07-07T14:57:44.232Z"
   },
   {
    "duration": 5,
    "start_time": "2022-07-07T14:57:44.280Z"
   },
   {
    "duration": 25,
    "start_time": "2022-07-07T14:57:44.287Z"
   },
   {
    "duration": 20,
    "start_time": "2022-07-07T14:57:44.315Z"
   },
   {
    "duration": 20,
    "start_time": "2022-07-07T14:57:44.338Z"
   },
   {
    "duration": 19,
    "start_time": "2022-07-07T14:57:44.360Z"
   },
   {
    "duration": 12,
    "start_time": "2022-07-07T14:57:44.381Z"
   },
   {
    "duration": 88,
    "start_time": "2022-07-07T14:57:44.395Z"
   },
   {
    "duration": 12,
    "start_time": "2022-07-07T14:57:44.485Z"
   },
   {
    "duration": 21,
    "start_time": "2022-07-07T14:57:44.499Z"
   },
   {
    "duration": 31,
    "start_time": "2022-07-07T14:57:44.522Z"
   },
   {
    "duration": 21,
    "start_time": "2022-07-07T14:57:44.556Z"
   },
   {
    "duration": 22,
    "start_time": "2022-07-07T14:57:44.580Z"
   },
   {
    "duration": 20,
    "start_time": "2022-07-07T14:57:44.604Z"
   },
   {
    "duration": 9,
    "start_time": "2022-07-07T14:57:44.626Z"
   },
   {
    "duration": 52,
    "start_time": "2022-07-07T14:57:44.637Z"
   },
   {
    "duration": 25,
    "start_time": "2022-07-07T14:57:44.691Z"
   },
   {
    "duration": 44,
    "start_time": "2022-07-07T14:57:44.718Z"
   },
   {
    "duration": 31,
    "start_time": "2022-07-07T14:57:44.764Z"
   },
   {
    "duration": 9,
    "start_time": "2022-07-07T14:57:44.797Z"
   },
   {
    "duration": 20,
    "start_time": "2022-07-07T14:57:44.807Z"
   },
   {
    "duration": 25,
    "start_time": "2022-07-07T14:57:44.829Z"
   },
   {
    "duration": 20,
    "start_time": "2022-07-07T14:57:44.859Z"
   },
   {
    "duration": 14,
    "start_time": "2022-07-07T14:57:44.881Z"
   },
   {
    "duration": 34,
    "start_time": "2022-07-07T14:57:44.897Z"
   },
   {
    "duration": 37,
    "start_time": "2022-07-07T14:57:44.932Z"
   },
   {
    "duration": 4,
    "start_time": "2022-07-07T14:57:44.971Z"
   },
   {
    "duration": 19,
    "start_time": "2022-07-07T14:57:44.977Z"
   },
   {
    "duration": 10,
    "start_time": "2022-07-07T14:57:44.998Z"
   },
   {
    "duration": 28,
    "start_time": "2022-07-07T14:57:45.010Z"
   },
   {
    "duration": 8,
    "start_time": "2022-07-07T14:57:45.053Z"
   },
   {
    "duration": 34,
    "start_time": "2022-07-07T14:57:45.062Z"
   },
   {
    "duration": 13,
    "start_time": "2022-07-07T14:57:45.098Z"
   },
   {
    "duration": 4,
    "start_time": "2022-07-07T14:57:45.113Z"
   },
   {
    "duration": 8,
    "start_time": "2022-07-07T14:57:45.118Z"
   },
   {
    "duration": 36,
    "start_time": "2022-07-07T14:57:45.128Z"
   },
   {
    "duration": 10,
    "start_time": "2022-07-07T14:57:45.166Z"
   },
   {
    "duration": 9,
    "start_time": "2022-07-07T14:57:45.178Z"
   },
   {
    "duration": 142,
    "start_time": "2022-07-07T14:57:45.189Z"
   },
   {
    "duration": 19,
    "start_time": "2022-07-07T14:57:45.333Z"
   },
   {
    "duration": 8,
    "start_time": "2022-07-07T14:57:45.354Z"
   },
   {
    "duration": 23,
    "start_time": "2022-07-07T14:57:45.363Z"
   },
   {
    "duration": 4,
    "start_time": "2022-07-07T14:57:45.388Z"
   },
   {
    "duration": 16,
    "start_time": "2022-07-07T14:57:45.394Z"
   },
   {
    "duration": 48,
    "start_time": "2022-07-07T14:57:45.411Z"
   },
   {
    "duration": 32,
    "start_time": "2022-07-07T14:57:45.462Z"
   },
   {
    "duration": 26,
    "start_time": "2022-07-07T14:57:45.496Z"
   },
   {
    "duration": 59,
    "start_time": "2022-07-07T14:57:45.525Z"
   },
   {
    "duration": 13,
    "start_time": "2022-07-07T14:57:45.586Z"
   },
   {
    "duration": 17,
    "start_time": "2022-07-07T14:57:45.601Z"
   },
   {
    "duration": 10,
    "start_time": "2022-07-07T14:57:45.620Z"
   },
   {
    "duration": 30,
    "start_time": "2022-07-07T14:57:45.653Z"
   },
   {
    "duration": 26,
    "start_time": "2022-07-07T14:57:45.685Z"
   },
   {
    "duration": 200,
    "start_time": "2022-07-07T14:57:45.713Z"
   },
   {
    "duration": 168,
    "start_time": "2022-07-07T14:57:45.915Z"
   },
   {
    "duration": 290,
    "start_time": "2022-07-07T14:57:46.086Z"
   },
   {
    "duration": 317,
    "start_time": "2022-07-07T14:57:46.378Z"
   },
   {
    "duration": 390,
    "start_time": "2022-07-07T14:57:46.697Z"
   },
   {
    "duration": 474,
    "start_time": "2022-07-07T14:57:47.089Z"
   },
   {
    "duration": 315,
    "start_time": "2022-07-07T14:57:47.565Z"
   },
   {
    "duration": 296,
    "start_time": "2022-07-07T14:57:47.881Z"
   },
   {
    "duration": 255,
    "start_time": "2022-07-07T14:57:48.179Z"
   },
   {
    "duration": 4,
    "start_time": "2022-07-07T14:57:48.436Z"
   },
   {
    "duration": 4,
    "start_time": "2022-07-07T14:57:48.452Z"
   },
   {
    "duration": 7,
    "start_time": "2022-07-07T14:57:48.458Z"
   },
   {
    "duration": 8,
    "start_time": "2022-07-07T14:57:48.466Z"
   },
   {
    "duration": 9,
    "start_time": "2022-07-07T14:57:48.476Z"
   },
   {
    "duration": 8,
    "start_time": "2022-07-07T14:57:48.487Z"
   },
   {
    "duration": 8,
    "start_time": "2022-07-07T14:57:48.497Z"
   },
   {
    "duration": 1165,
    "start_time": "2022-07-07T14:58:54.505Z"
   },
   {
    "duration": 195,
    "start_time": "2022-07-07T14:58:55.672Z"
   },
   {
    "duration": 160,
    "start_time": "2022-07-07T14:58:55.869Z"
   },
   {
    "duration": 120,
    "start_time": "2022-07-07T14:58:56.032Z"
   },
   {
    "duration": 31,
    "start_time": "2022-07-07T14:58:56.155Z"
   },
   {
    "duration": 39,
    "start_time": "2022-07-07T14:58:56.187Z"
   },
   {
    "duration": 8,
    "start_time": "2022-07-07T14:58:56.228Z"
   },
   {
    "duration": 47,
    "start_time": "2022-07-07T14:58:56.238Z"
   },
   {
    "duration": 24,
    "start_time": "2022-07-07T14:58:56.287Z"
   },
   {
    "duration": 18,
    "start_time": "2022-07-07T14:58:56.313Z"
   },
   {
    "duration": 14,
    "start_time": "2022-07-07T14:58:56.353Z"
   },
   {
    "duration": 14,
    "start_time": "2022-07-07T14:58:56.369Z"
   },
   {
    "duration": 100,
    "start_time": "2022-07-07T14:58:56.385Z"
   },
   {
    "duration": 13,
    "start_time": "2022-07-07T14:58:56.488Z"
   },
   {
    "duration": 23,
    "start_time": "2022-07-07T14:58:56.502Z"
   },
   {
    "duration": 27,
    "start_time": "2022-07-07T14:58:56.527Z"
   },
   {
    "duration": 22,
    "start_time": "2022-07-07T14:58:56.556Z"
   },
   {
    "duration": 11,
    "start_time": "2022-07-07T14:58:56.580Z"
   },
   {
    "duration": 22,
    "start_time": "2022-07-07T14:58:56.593Z"
   },
   {
    "duration": 40,
    "start_time": "2022-07-07T14:58:56.618Z"
   },
   {
    "duration": 43,
    "start_time": "2022-07-07T14:58:56.660Z"
   },
   {
    "duration": 25,
    "start_time": "2022-07-07T14:58:56.705Z"
   },
   {
    "duration": 22,
    "start_time": "2022-07-07T14:58:56.732Z"
   },
   {
    "duration": 25,
    "start_time": "2022-07-07T14:58:56.757Z"
   },
   {
    "duration": 10,
    "start_time": "2022-07-07T14:58:56.784Z"
   },
   {
    "duration": 20,
    "start_time": "2022-07-07T14:58:56.796Z"
   },
   {
    "duration": 37,
    "start_time": "2022-07-07T14:58:56.818Z"
   },
   {
    "duration": 21,
    "start_time": "2022-07-07T14:58:56.857Z"
   },
   {
    "duration": 13,
    "start_time": "2022-07-07T14:58:56.879Z"
   },
   {
    "duration": 30,
    "start_time": "2022-07-07T14:58:56.894Z"
   },
   {
    "duration": 40,
    "start_time": "2022-07-07T14:58:56.927Z"
   },
   {
    "duration": 5,
    "start_time": "2022-07-07T14:58:56.969Z"
   },
   {
    "duration": 42,
    "start_time": "2022-07-07T14:58:56.976Z"
   },
   {
    "duration": 8,
    "start_time": "2022-07-07T14:58:57.020Z"
   },
   {
    "duration": 24,
    "start_time": "2022-07-07T14:58:57.029Z"
   },
   {
    "duration": 9,
    "start_time": "2022-07-07T14:58:57.055Z"
   },
   {
    "duration": 33,
    "start_time": "2022-07-07T14:58:57.065Z"
   },
   {
    "duration": 13,
    "start_time": "2022-07-07T14:58:57.100Z"
   },
   {
    "duration": 4,
    "start_time": "2022-07-07T14:58:57.115Z"
   },
   {
    "duration": 6,
    "start_time": "2022-07-07T14:58:57.121Z"
   },
   {
    "duration": 38,
    "start_time": "2022-07-07T14:58:57.131Z"
   },
   {
    "duration": 5,
    "start_time": "2022-07-07T14:58:57.170Z"
   },
   {
    "duration": 7,
    "start_time": "2022-07-07T14:58:57.176Z"
   },
   {
    "duration": 164,
    "start_time": "2022-07-07T14:58:57.185Z"
   },
   {
    "duration": 14,
    "start_time": "2022-07-07T14:58:57.353Z"
   },
   {
    "duration": 11,
    "start_time": "2022-07-07T14:58:57.369Z"
   },
   {
    "duration": 17,
    "start_time": "2022-07-07T14:58:57.382Z"
   },
   {
    "duration": 4,
    "start_time": "2022-07-07T14:58:57.401Z"
   },
   {
    "duration": 17,
    "start_time": "2022-07-07T14:58:57.407Z"
   },
   {
    "duration": 50,
    "start_time": "2022-07-07T14:58:57.426Z"
   },
   {
    "duration": 28,
    "start_time": "2022-07-07T14:58:57.479Z"
   },
   {
    "duration": 44,
    "start_time": "2022-07-07T14:58:57.509Z"
   },
   {
    "duration": 32,
    "start_time": "2022-07-07T14:58:57.555Z"
   },
   {
    "duration": 10,
    "start_time": "2022-07-07T14:58:57.589Z"
   },
   {
    "duration": 10,
    "start_time": "2022-07-07T14:58:57.600Z"
   },
   {
    "duration": 12,
    "start_time": "2022-07-07T14:58:57.612Z"
   },
   {
    "duration": 24,
    "start_time": "2022-07-07T14:58:57.653Z"
   },
   {
    "duration": 28,
    "start_time": "2022-07-07T14:58:57.679Z"
   },
   {
    "duration": 178,
    "start_time": "2022-07-07T14:58:57.709Z"
   },
   {
    "duration": 150,
    "start_time": "2022-07-07T14:58:57.889Z"
   },
   {
    "duration": 184,
    "start_time": "2022-07-07T14:58:58.040Z"
   },
   {
    "duration": 175,
    "start_time": "2022-07-07T14:58:58.225Z"
   },
   {
    "duration": 178,
    "start_time": "2022-07-07T14:58:58.401Z"
   },
   {
    "duration": 197,
    "start_time": "2022-07-07T14:58:58.581Z"
   },
   {
    "duration": 179,
    "start_time": "2022-07-07T14:58:58.780Z"
   },
   {
    "duration": 173,
    "start_time": "2022-07-07T14:58:58.962Z"
   },
   {
    "duration": 257,
    "start_time": "2022-07-07T14:58:59.137Z"
   },
   {
    "duration": 3,
    "start_time": "2022-07-07T14:58:59.396Z"
   },
   {
    "duration": 5,
    "start_time": "2022-07-07T14:58:59.401Z"
   },
   {
    "duration": 6,
    "start_time": "2022-07-07T14:58:59.408Z"
   },
   {
    "duration": 6,
    "start_time": "2022-07-07T14:58:59.416Z"
   },
   {
    "duration": 28,
    "start_time": "2022-07-07T14:58:59.424Z"
   },
   {
    "duration": 6,
    "start_time": "2022-07-07T14:58:59.454Z"
   },
   {
    "duration": 20,
    "start_time": "2022-07-07T14:58:59.461Z"
   },
   {
    "duration": 1191,
    "start_time": "2022-07-07T14:59:23.517Z"
   },
   {
    "duration": 190,
    "start_time": "2022-07-07T14:59:24.710Z"
   },
   {
    "duration": 146,
    "start_time": "2022-07-07T14:59:24.902Z"
   },
   {
    "duration": 98,
    "start_time": "2022-07-07T14:59:25.053Z"
   },
   {
    "duration": 27,
    "start_time": "2022-07-07T14:59:25.155Z"
   },
   {
    "duration": 35,
    "start_time": "2022-07-07T14:59:25.185Z"
   },
   {
    "duration": 6,
    "start_time": "2022-07-07T14:59:25.222Z"
   },
   {
    "duration": 25,
    "start_time": "2022-07-07T14:59:25.229Z"
   },
   {
    "duration": 20,
    "start_time": "2022-07-07T14:59:25.256Z"
   },
   {
    "duration": 16,
    "start_time": "2022-07-07T14:59:25.278Z"
   },
   {
    "duration": 11,
    "start_time": "2022-07-07T14:59:25.296Z"
   },
   {
    "duration": 59,
    "start_time": "2022-07-07T14:59:25.309Z"
   },
   {
    "duration": 97,
    "start_time": "2022-07-07T14:59:25.370Z"
   },
   {
    "duration": 10,
    "start_time": "2022-07-07T14:59:25.470Z"
   },
   {
    "duration": 22,
    "start_time": "2022-07-07T14:59:25.482Z"
   },
   {
    "duration": 10,
    "start_time": "2022-07-07T14:59:25.505Z"
   },
   {
    "duration": 46,
    "start_time": "2022-07-07T14:59:25.517Z"
   },
   {
    "duration": 12,
    "start_time": "2022-07-07T14:59:25.564Z"
   },
   {
    "duration": 25,
    "start_time": "2022-07-07T14:59:25.578Z"
   },
   {
    "duration": 12,
    "start_time": "2022-07-07T14:59:25.605Z"
   },
   {
    "duration": 49,
    "start_time": "2022-07-07T14:59:25.619Z"
   },
   {
    "duration": 28,
    "start_time": "2022-07-07T14:59:25.670Z"
   },
   {
    "duration": 13,
    "start_time": "2022-07-07T14:59:25.700Z"
   },
   {
    "duration": 51,
    "start_time": "2022-07-07T14:59:25.715Z"
   },
   {
    "duration": 9,
    "start_time": "2022-07-07T14:59:25.768Z"
   },
   {
    "duration": 23,
    "start_time": "2022-07-07T14:59:25.779Z"
   },
   {
    "duration": 4,
    "start_time": "2022-07-07T14:59:25.804Z"
   },
   {
    "duration": 7,
    "start_time": "2022-07-07T14:59:25.810Z"
   },
   {
    "duration": 43,
    "start_time": "2022-07-07T14:59:25.819Z"
   },
   {
    "duration": 30,
    "start_time": "2022-07-07T14:59:25.864Z"
   },
   {
    "duration": 21,
    "start_time": "2022-07-07T14:59:25.896Z"
   },
   {
    "duration": 4,
    "start_time": "2022-07-07T14:59:25.919Z"
   },
   {
    "duration": 28,
    "start_time": "2022-07-07T14:59:25.952Z"
   },
   {
    "duration": 6,
    "start_time": "2022-07-07T14:59:25.982Z"
   },
   {
    "duration": 33,
    "start_time": "2022-07-07T14:59:25.990Z"
   },
   {
    "duration": 16,
    "start_time": "2022-07-07T14:59:26.025Z"
   },
   {
    "duration": 30,
    "start_time": "2022-07-07T14:59:26.043Z"
   },
   {
    "duration": 18,
    "start_time": "2022-07-07T14:59:26.075Z"
   },
   {
    "duration": 5,
    "start_time": "2022-07-07T14:59:26.095Z"
   },
   {
    "duration": 11,
    "start_time": "2022-07-07T14:59:26.102Z"
   },
   {
    "duration": 40,
    "start_time": "2022-07-07T14:59:26.120Z"
   },
   {
    "duration": 14,
    "start_time": "2022-07-07T14:59:26.162Z"
   },
   {
    "duration": 14,
    "start_time": "2022-07-07T14:59:26.178Z"
   },
   {
    "duration": 178,
    "start_time": "2022-07-07T14:59:26.194Z"
   },
   {
    "duration": 21,
    "start_time": "2022-07-07T14:59:26.374Z"
   },
   {
    "duration": 7,
    "start_time": "2022-07-07T14:59:26.397Z"
   },
   {
    "duration": 17,
    "start_time": "2022-07-07T14:59:26.405Z"
   },
   {
    "duration": 4,
    "start_time": "2022-07-07T14:59:26.424Z"
   },
   {
    "duration": 30,
    "start_time": "2022-07-07T14:59:26.429Z"
   },
   {
    "duration": 20,
    "start_time": "2022-07-07T14:59:26.461Z"
   },
   {
    "duration": 38,
    "start_time": "2022-07-07T14:59:26.483Z"
   },
   {
    "duration": 65,
    "start_time": "2022-07-07T14:59:26.523Z"
   },
   {
    "duration": 28,
    "start_time": "2022-07-07T14:59:26.590Z"
   },
   {
    "duration": 39,
    "start_time": "2022-07-07T14:59:26.620Z"
   },
   {
    "duration": 14,
    "start_time": "2022-07-07T14:59:26.661Z"
   },
   {
    "duration": 11,
    "start_time": "2022-07-07T14:59:26.677Z"
   },
   {
    "duration": 29,
    "start_time": "2022-07-07T14:59:26.690Z"
   },
   {
    "duration": 48,
    "start_time": "2022-07-07T14:59:26.720Z"
   },
   {
    "duration": 148,
    "start_time": "2022-07-07T14:59:26.769Z"
   },
   {
    "duration": 150,
    "start_time": "2022-07-07T14:59:26.919Z"
   },
   {
    "duration": 174,
    "start_time": "2022-07-07T14:59:27.071Z"
   },
   {
    "duration": 150,
    "start_time": "2022-07-07T14:59:27.247Z"
   },
   {
    "duration": 202,
    "start_time": "2022-07-07T14:59:27.399Z"
   },
   {
    "duration": 182,
    "start_time": "2022-07-07T14:59:27.603Z"
   },
   {
    "duration": 140,
    "start_time": "2022-07-07T14:59:27.786Z"
   },
   {
    "duration": 150,
    "start_time": "2022-07-07T14:59:27.928Z"
   },
   {
    "duration": 225,
    "start_time": "2022-07-07T14:59:28.080Z"
   },
   {
    "duration": 4,
    "start_time": "2022-07-07T14:59:28.307Z"
   },
   {
    "duration": 11,
    "start_time": "2022-07-07T14:59:28.313Z"
   },
   {
    "duration": 11,
    "start_time": "2022-07-07T14:59:28.326Z"
   },
   {
    "duration": 17,
    "start_time": "2022-07-07T14:59:28.339Z"
   },
   {
    "duration": 10,
    "start_time": "2022-07-07T14:59:28.358Z"
   },
   {
    "duration": 9,
    "start_time": "2022-07-07T14:59:28.370Z"
   },
   {
    "duration": 32,
    "start_time": "2022-07-07T14:59:28.381Z"
   },
   {
    "duration": 5,
    "start_time": "2022-07-07T15:01:10.741Z"
   },
   {
    "duration": 26,
    "start_time": "2022-07-07T15:01:51.309Z"
   },
   {
    "duration": 21,
    "start_time": "2022-07-07T15:02:09.718Z"
   },
   {
    "duration": 31,
    "start_time": "2022-07-07T15:02:30.142Z"
   },
   {
    "duration": 26,
    "start_time": "2022-07-07T15:02:49.750Z"
   },
   {
    "duration": 15,
    "start_time": "2022-07-07T15:03:55.409Z"
   },
   {
    "duration": 7,
    "start_time": "2022-07-07T15:04:15.290Z"
   },
   {
    "duration": 12,
    "start_time": "2022-07-07T15:04:19.355Z"
   },
   {
    "duration": 10,
    "start_time": "2022-07-07T15:04:23.642Z"
   },
   {
    "duration": 10,
    "start_time": "2022-07-07T15:04:25.818Z"
   },
   {
    "duration": 12,
    "start_time": "2022-07-07T15:04:52.178Z"
   },
   {
    "duration": 6,
    "start_time": "2022-07-07T15:05:14.877Z"
   },
   {
    "duration": 4,
    "start_time": "2022-07-07T15:05:33.474Z"
   },
   {
    "duration": 15,
    "start_time": "2022-07-07T15:06:04.378Z"
   },
   {
    "duration": 14,
    "start_time": "2022-07-07T15:06:13.254Z"
   },
   {
    "duration": 18,
    "start_time": "2022-07-07T15:06:21.022Z"
   },
   {
    "duration": 17,
    "start_time": "2022-07-07T15:06:28.376Z"
   },
   {
    "duration": 21,
    "start_time": "2022-07-07T15:06:36.672Z"
   },
   {
    "duration": 19,
    "start_time": "2022-07-07T15:07:03.320Z"
   },
   {
    "duration": 21,
    "start_time": "2022-07-07T15:07:58.342Z"
   },
   {
    "duration": 23,
    "start_time": "2022-07-07T15:08:30.459Z"
   },
   {
    "duration": 21,
    "start_time": "2022-07-07T15:08:34.251Z"
   },
   {
    "duration": 18,
    "start_time": "2022-07-07T15:08:38.443Z"
   },
   {
    "duration": 20,
    "start_time": "2022-07-07T15:12:42.596Z"
   },
   {
    "duration": 14,
    "start_time": "2022-07-07T15:12:44.427Z"
   },
   {
    "duration": 4,
    "start_time": "2022-07-07T15:12:44.994Z"
   },
   {
    "duration": 3,
    "start_time": "2022-07-07T15:12:45.385Z"
   },
   {
    "duration": 18,
    "start_time": "2022-07-07T15:12:46.064Z"
   },
   {
    "duration": 5,
    "start_time": "2022-07-07T15:12:47.391Z"
   },
   {
    "duration": 4,
    "start_time": "2022-07-07T15:12:49.315Z"
   },
   {
    "duration": 131,
    "start_time": "2022-07-07T15:12:50.796Z"
   },
   {
    "duration": 13,
    "start_time": "2022-07-07T15:12:52.917Z"
   },
   {
    "duration": 7,
    "start_time": "2022-07-07T15:12:53.627Z"
   },
   {
    "duration": 13,
    "start_time": "2022-07-07T15:12:55.634Z"
   },
   {
    "duration": 20,
    "start_time": "2022-07-07T15:13:57.865Z"
   },
   {
    "duration": 17,
    "start_time": "2022-07-07T15:13:58.247Z"
   },
   {
    "duration": 4,
    "start_time": "2022-07-07T15:13:58.894Z"
   },
   {
    "duration": 4,
    "start_time": "2022-07-07T15:13:59.267Z"
   },
   {
    "duration": 20,
    "start_time": "2022-07-07T15:13:59.948Z"
   },
   {
    "duration": 5,
    "start_time": "2022-07-07T15:14:01.560Z"
   },
   {
    "duration": 3,
    "start_time": "2022-07-07T15:14:03.449Z"
   },
   {
    "duration": 167,
    "start_time": "2022-07-07T15:14:05.624Z"
   },
   {
    "duration": 13,
    "start_time": "2022-07-07T15:14:07.006Z"
   },
   {
    "duration": 26,
    "start_time": "2022-07-07T15:14:08.190Z"
   },
   {
    "duration": 27,
    "start_time": "2022-07-07T15:16:13.660Z"
   },
   {
    "duration": 12,
    "start_time": "2022-07-07T15:16:14.187Z"
   },
   {
    "duration": 4,
    "start_time": "2022-07-07T15:16:14.956Z"
   },
   {
    "duration": 3,
    "start_time": "2022-07-07T15:16:15.403Z"
   },
   {
    "duration": 16,
    "start_time": "2022-07-07T15:16:16.256Z"
   },
   {
    "duration": 5,
    "start_time": "2022-07-07T15:16:18.194Z"
   },
   {
    "duration": 4,
    "start_time": "2022-07-07T15:16:19.994Z"
   },
   {
    "duration": 140,
    "start_time": "2022-07-07T15:16:20.654Z"
   },
   {
    "duration": 16,
    "start_time": "2022-07-07T15:16:21.882Z"
   },
   {
    "duration": 2,
    "start_time": "2022-07-07T15:16:22.455Z"
   },
   {
    "duration": 14,
    "start_time": "2022-07-07T15:16:24.258Z"
   },
   {
    "duration": 19,
    "start_time": "2022-07-07T15:16:25.441Z"
   },
   {
    "duration": 15,
    "start_time": "2022-07-07T15:16:26.323Z"
   },
   {
    "duration": 4,
    "start_time": "2022-07-07T15:16:27.948Z"
   },
   {
    "duration": 5,
    "start_time": "2022-07-07T15:16:28.786Z"
   },
   {
    "duration": 15,
    "start_time": "2022-07-07T15:16:40.108Z"
   },
   {
    "duration": 22,
    "start_time": "2022-07-07T15:17:06.725Z"
   },
   {
    "duration": 1187,
    "start_time": "2022-07-07T15:18:30.565Z"
   },
   {
    "duration": 318,
    "start_time": "2022-07-07T15:18:31.754Z"
   },
   {
    "duration": 296,
    "start_time": "2022-07-07T15:18:32.074Z"
   },
   {
    "duration": 190,
    "start_time": "2022-07-07T15:18:32.371Z"
   },
   {
    "duration": 21,
    "start_time": "2022-07-07T15:18:32.563Z"
   },
   {
    "duration": 74,
    "start_time": "2022-07-07T15:18:32.586Z"
   },
   {
    "duration": 5,
    "start_time": "2022-07-07T15:18:32.662Z"
   },
   {
    "duration": 88,
    "start_time": "2022-07-07T15:18:32.669Z"
   },
   {
    "duration": 18,
    "start_time": "2022-07-07T15:18:32.759Z"
   },
   {
    "duration": 80,
    "start_time": "2022-07-07T15:18:32.778Z"
   },
   {
    "duration": 12,
    "start_time": "2022-07-07T15:18:32.860Z"
   },
   {
    "duration": 32,
    "start_time": "2022-07-07T15:18:32.874Z"
   },
   {
    "duration": 202,
    "start_time": "2022-07-07T15:18:32.953Z"
   },
   {
    "duration": 14,
    "start_time": "2022-07-07T15:18:33.160Z"
   },
   {
    "duration": 77,
    "start_time": "2022-07-07T15:18:33.176Z"
   },
   {
    "duration": 13,
    "start_time": "2022-07-07T15:18:33.255Z"
   },
   {
    "duration": 30,
    "start_time": "2022-07-07T15:18:33.271Z"
   },
   {
    "duration": 17,
    "start_time": "2022-07-07T15:18:33.352Z"
   },
   {
    "duration": 37,
    "start_time": "2022-07-07T15:18:33.371Z"
   },
   {
    "duration": 12,
    "start_time": "2022-07-07T15:18:33.453Z"
   },
   {
    "duration": 99,
    "start_time": "2022-07-07T15:18:33.467Z"
   },
   {
    "duration": 28,
    "start_time": "2022-07-07T15:18:33.568Z"
   },
   {
    "duration": 69,
    "start_time": "2022-07-07T15:18:33.598Z"
   },
   {
    "duration": 22,
    "start_time": "2022-07-07T15:18:33.669Z"
   },
   {
    "duration": 8,
    "start_time": "2022-07-07T15:18:33.693Z"
   },
   {
    "duration": 56,
    "start_time": "2022-07-07T15:18:33.703Z"
   },
   {
    "duration": 4,
    "start_time": "2022-07-07T15:18:33.761Z"
   },
   {
    "duration": 6,
    "start_time": "2022-07-07T15:18:33.767Z"
   },
   {
    "duration": 13,
    "start_time": "2022-07-07T15:18:33.775Z"
   },
   {
    "duration": 32,
    "start_time": "2022-07-07T15:18:33.790Z"
   },
   {
    "duration": 47,
    "start_time": "2022-07-07T15:18:33.823Z"
   },
   {
    "duration": 4,
    "start_time": "2022-07-07T15:18:33.871Z"
   },
   {
    "duration": 20,
    "start_time": "2022-07-07T15:18:33.877Z"
   },
   {
    "duration": 7,
    "start_time": "2022-07-07T15:18:33.899Z"
   },
   {
    "duration": 45,
    "start_time": "2022-07-07T15:18:33.908Z"
   },
   {
    "duration": 9,
    "start_time": "2022-07-07T15:18:33.955Z"
   },
   {
    "duration": 24,
    "start_time": "2022-07-07T15:18:33.965Z"
   },
   {
    "duration": 14,
    "start_time": "2022-07-07T15:18:33.991Z"
   },
   {
    "duration": 5,
    "start_time": "2022-07-07T15:18:34.007Z"
   },
   {
    "duration": 10,
    "start_time": "2022-07-07T15:18:34.013Z"
   },
   {
    "duration": 16,
    "start_time": "2022-07-07T15:18:34.055Z"
   },
   {
    "duration": 6,
    "start_time": "2022-07-07T15:18:34.073Z"
   },
   {
    "duration": 6,
    "start_time": "2022-07-07T15:18:34.081Z"
   },
   {
    "duration": 166,
    "start_time": "2022-07-07T15:18:34.089Z"
   },
   {
    "duration": 11,
    "start_time": "2022-07-07T15:18:34.257Z"
   },
   {
    "duration": 19,
    "start_time": "2022-07-07T15:18:34.270Z"
   },
   {
    "duration": 32,
    "start_time": "2022-07-07T15:18:34.291Z"
   },
   {
    "duration": 11,
    "start_time": "2022-07-07T15:18:34.326Z"
   },
   {
    "duration": 26,
    "start_time": "2022-07-07T15:18:34.339Z"
   },
   {
    "duration": 24,
    "start_time": "2022-07-07T15:18:34.367Z"
   },
   {
    "duration": 35,
    "start_time": "2022-07-07T15:18:34.393Z"
   },
   {
    "duration": 57,
    "start_time": "2022-07-07T15:18:34.430Z"
   },
   {
    "duration": 28,
    "start_time": "2022-07-07T15:18:34.489Z"
   },
   {
    "duration": 35,
    "start_time": "2022-07-07T15:18:34.518Z"
   },
   {
    "duration": 30,
    "start_time": "2022-07-07T15:18:34.555Z"
   },
   {
    "duration": 15,
    "start_time": "2022-07-07T15:18:34.590Z"
   },
   {
    "duration": 14,
    "start_time": "2022-07-07T15:18:34.607Z"
   },
   {
    "duration": 37,
    "start_time": "2022-07-07T15:18:34.623Z"
   },
   {
    "duration": 38,
    "start_time": "2022-07-07T15:18:34.662Z"
   },
   {
    "duration": 32,
    "start_time": "2022-07-07T15:18:34.702Z"
   },
   {
    "duration": 206,
    "start_time": "2022-07-07T15:18:34.753Z"
   },
   {
    "duration": 158,
    "start_time": "2022-07-07T15:18:34.961Z"
   },
   {
    "duration": 197,
    "start_time": "2022-07-07T15:18:35.121Z"
   },
   {
    "duration": 171,
    "start_time": "2022-07-07T15:18:35.320Z"
   },
   {
    "duration": 194,
    "start_time": "2022-07-07T15:18:35.493Z"
   },
   {
    "duration": 186,
    "start_time": "2022-07-07T15:18:35.689Z"
   },
   {
    "duration": 204,
    "start_time": "2022-07-07T15:18:35.877Z"
   },
   {
    "duration": 192,
    "start_time": "2022-07-07T15:18:36.085Z"
   },
   {
    "duration": 250,
    "start_time": "2022-07-07T15:18:36.279Z"
   },
   {
    "duration": 3,
    "start_time": "2022-07-07T15:18:36.531Z"
   },
   {
    "duration": 16,
    "start_time": "2022-07-07T15:18:36.536Z"
   },
   {
    "duration": 6,
    "start_time": "2022-07-07T15:18:36.553Z"
   },
   {
    "duration": 12,
    "start_time": "2022-07-07T15:18:36.561Z"
   },
   {
    "duration": 8,
    "start_time": "2022-07-07T15:18:36.575Z"
   },
   {
    "duration": 16,
    "start_time": "2022-07-07T15:18:36.585Z"
   },
   {
    "duration": 11,
    "start_time": "2022-07-07T15:18:36.604Z"
   },
   {
    "duration": 112,
    "start_time": "2022-07-07T15:27:39.792Z"
   },
   {
    "duration": 4,
    "start_time": "2022-07-07T15:27:40.359Z"
   },
   {
    "duration": 5,
    "start_time": "2022-07-07T15:27:41.436Z"
   },
   {
    "duration": 106,
    "start_time": "2022-07-07T15:28:29.609Z"
   },
   {
    "duration": 15,
    "start_time": "2022-07-07T15:28:42.146Z"
   },
   {
    "duration": 228,
    "start_time": "2022-07-07T15:28:50.524Z"
   },
   {
    "duration": 205,
    "start_time": "2022-07-07T15:28:59.947Z"
   },
   {
    "duration": 190,
    "start_time": "2022-07-07T15:29:04.098Z"
   },
   {
    "duration": 54,
    "start_time": "2022-07-07T15:29:06.554Z"
   },
   {
    "duration": 17,
    "start_time": "2022-07-07T15:29:28.589Z"
   },
   {
    "duration": 1168,
    "start_time": "2022-07-07T15:29:35.236Z"
   },
   {
    "duration": 1054,
    "start_time": "2022-07-07T15:29:43.642Z"
   },
   {
    "duration": 166,
    "start_time": "2022-07-07T15:29:44.698Z"
   },
   {
    "duration": 138,
    "start_time": "2022-07-07T15:29:44.866Z"
   },
   {
    "duration": 96,
    "start_time": "2022-07-07T15:29:45.006Z"
   },
   {
    "duration": 19,
    "start_time": "2022-07-07T15:29:45.104Z"
   },
   {
    "duration": 33,
    "start_time": "2022-07-07T15:29:45.125Z"
   },
   {
    "duration": 6,
    "start_time": "2022-07-07T15:29:45.160Z"
   },
   {
    "duration": 32,
    "start_time": "2022-07-07T15:29:45.167Z"
   },
   {
    "duration": 19,
    "start_time": "2022-07-07T15:29:45.201Z"
   },
   {
    "duration": 35,
    "start_time": "2022-07-07T15:29:45.222Z"
   },
   {
    "duration": 10,
    "start_time": "2022-07-07T15:29:45.258Z"
   },
   {
    "duration": 21,
    "start_time": "2022-07-07T15:29:45.270Z"
   },
   {
    "duration": 81,
    "start_time": "2022-07-07T15:29:45.292Z"
   },
   {
    "duration": 10,
    "start_time": "2022-07-07T15:29:45.375Z"
   },
   {
    "duration": 34,
    "start_time": "2022-07-07T15:29:45.386Z"
   },
   {
    "duration": 9,
    "start_time": "2022-07-07T15:29:45.422Z"
   },
   {
    "duration": 42,
    "start_time": "2022-07-07T15:29:45.432Z"
   },
   {
    "duration": 11,
    "start_time": "2022-07-07T15:29:45.475Z"
   },
   {
    "duration": 20,
    "start_time": "2022-07-07T15:29:45.488Z"
   },
   {
    "duration": 9,
    "start_time": "2022-07-07T15:29:45.510Z"
   },
   {
    "duration": 51,
    "start_time": "2022-07-07T15:29:45.522Z"
   },
   {
    "duration": 24,
    "start_time": "2022-07-07T15:29:45.575Z"
   },
   {
    "duration": 11,
    "start_time": "2022-07-07T15:29:45.600Z"
   },
   {
    "duration": 40,
    "start_time": "2022-07-07T15:29:45.612Z"
   },
   {
    "duration": 7,
    "start_time": "2022-07-07T15:29:45.654Z"
   },
   {
    "duration": 19,
    "start_time": "2022-07-07T15:29:45.663Z"
   },
   {
    "duration": 4,
    "start_time": "2022-07-07T15:29:45.684Z"
   },
   {
    "duration": 5,
    "start_time": "2022-07-07T15:29:45.692Z"
   },
   {
    "duration": 13,
    "start_time": "2022-07-07T15:29:45.698Z"
   },
   {
    "duration": 60,
    "start_time": "2022-07-07T15:29:45.713Z"
   },
   {
    "duration": 21,
    "start_time": "2022-07-07T15:29:45.775Z"
   },
   {
    "duration": 4,
    "start_time": "2022-07-07T15:29:45.798Z"
   },
   {
    "duration": 19,
    "start_time": "2022-07-07T15:29:45.804Z"
   },
   {
    "duration": 33,
    "start_time": "2022-07-07T15:29:45.825Z"
   },
   {
    "duration": 10,
    "start_time": "2022-07-07T15:29:45.860Z"
   },
   {
    "duration": 8,
    "start_time": "2022-07-07T15:29:45.872Z"
   },
   {
    "duration": 18,
    "start_time": "2022-07-07T15:29:45.882Z"
   },
   {
    "duration": 13,
    "start_time": "2022-07-07T15:29:45.901Z"
   },
   {
    "duration": 41,
    "start_time": "2022-07-07T15:29:45.915Z"
   },
   {
    "duration": 6,
    "start_time": "2022-07-07T15:29:45.958Z"
   },
   {
    "duration": 17,
    "start_time": "2022-07-07T15:29:45.965Z"
   },
   {
    "duration": 5,
    "start_time": "2022-07-07T15:29:45.983Z"
   },
   {
    "duration": 18,
    "start_time": "2022-07-07T15:29:45.989Z"
   },
   {
    "duration": 174,
    "start_time": "2022-07-07T15:29:46.009Z"
   },
   {
    "duration": 14,
    "start_time": "2022-07-07T15:29:46.184Z"
   },
   {
    "duration": 8,
    "start_time": "2022-07-07T15:29:46.200Z"
   },
   {
    "duration": 19,
    "start_time": "2022-07-07T15:29:46.210Z"
   },
   {
    "duration": 32,
    "start_time": "2022-07-07T15:29:46.231Z"
   },
   {
    "duration": 10,
    "start_time": "2022-07-07T15:29:46.265Z"
   },
   {
    "duration": 7,
    "start_time": "2022-07-07T15:29:46.276Z"
   },
   {
    "duration": 15,
    "start_time": "2022-07-07T15:29:46.285Z"
   },
   {
    "duration": 19,
    "start_time": "2022-07-07T15:29:46.302Z"
   },
   {
    "duration": 49,
    "start_time": "2022-07-07T15:29:46.322Z"
   },
   {
    "duration": 26,
    "start_time": "2022-07-07T15:29:46.372Z"
   },
   {
    "duration": 25,
    "start_time": "2022-07-07T15:29:46.399Z"
   },
   {
    "duration": 28,
    "start_time": "2022-07-07T15:29:46.425Z"
   },
   {
    "duration": 12,
    "start_time": "2022-07-07T15:29:46.455Z"
   },
   {
    "duration": 12,
    "start_time": "2022-07-07T15:29:46.468Z"
   },
   {
    "duration": 29,
    "start_time": "2022-07-07T15:29:46.482Z"
   },
   {
    "duration": 42,
    "start_time": "2022-07-07T15:29:46.513Z"
   },
   {
    "duration": 165,
    "start_time": "2022-07-07T15:29:46.557Z"
   },
   {
    "duration": 131,
    "start_time": "2022-07-07T15:29:46.724Z"
   },
   {
    "duration": 178,
    "start_time": "2022-07-07T15:29:46.857Z"
   },
   {
    "duration": 128,
    "start_time": "2022-07-07T15:29:47.037Z"
   },
   {
    "duration": 161,
    "start_time": "2022-07-07T15:29:47.167Z"
   },
   {
    "duration": 162,
    "start_time": "2022-07-07T15:29:47.330Z"
   },
   {
    "duration": 143,
    "start_time": "2022-07-07T15:29:47.493Z"
   },
   {
    "duration": 139,
    "start_time": "2022-07-07T15:29:47.638Z"
   },
   {
    "duration": 231,
    "start_time": "2022-07-07T15:29:47.779Z"
   },
   {
    "duration": 3,
    "start_time": "2022-07-07T15:29:48.012Z"
   },
   {
    "duration": 6,
    "start_time": "2022-07-07T15:29:48.017Z"
   },
   {
    "duration": 5,
    "start_time": "2022-07-07T15:29:48.025Z"
   },
   {
    "duration": 23,
    "start_time": "2022-07-07T15:29:48.032Z"
   },
   {
    "duration": 5,
    "start_time": "2022-07-07T15:29:48.057Z"
   },
   {
    "duration": 8,
    "start_time": "2022-07-07T15:29:48.064Z"
   },
   {
    "duration": 51,
    "start_time": "2022-07-07T15:29:48.073Z"
   },
   {
    "duration": 3,
    "start_time": "2022-07-07T15:29:48.126Z"
   },
   {
    "duration": 22,
    "start_time": "2022-07-07T15:29:48.130Z"
   },
   {
    "duration": 1106,
    "start_time": "2022-07-07T15:29:48.153Z"
   },
   {
    "duration": 201,
    "start_time": "2022-07-07T15:29:49.261Z"
   },
   {
    "duration": 212,
    "start_time": "2022-07-07T15:29:49.464Z"
   },
   {
    "duration": 206,
    "start_time": "2022-07-07T15:29:49.681Z"
   },
   {
    "duration": 127,
    "start_time": "2022-07-07T15:29:49.889Z"
   },
   {
    "duration": 45,
    "start_time": "2022-07-07T17:39:19.241Z"
   },
   {
    "duration": 1269,
    "start_time": "2022-07-07T17:39:26.181Z"
   },
   {
    "duration": 224,
    "start_time": "2022-07-07T17:39:27.452Z"
   },
   {
    "duration": 476,
    "start_time": "2022-07-07T17:39:27.678Z"
   },
   {
    "duration": 123,
    "start_time": "2022-07-07T17:39:28.156Z"
   },
   {
    "duration": 40,
    "start_time": "2022-07-07T17:39:28.281Z"
   },
   {
    "duration": 45,
    "start_time": "2022-07-07T17:39:28.323Z"
   },
   {
    "duration": 5,
    "start_time": "2022-07-07T17:39:28.370Z"
   },
   {
    "duration": 26,
    "start_time": "2022-07-07T17:39:28.377Z"
   },
   {
    "duration": 21,
    "start_time": "2022-07-07T17:39:28.405Z"
   },
   {
    "duration": 20,
    "start_time": "2022-07-07T17:39:28.428Z"
   },
   {
    "duration": 9,
    "start_time": "2022-07-07T17:39:28.450Z"
   },
   {
    "duration": 11,
    "start_time": "2022-07-07T17:39:28.461Z"
   },
   {
    "duration": 95,
    "start_time": "2022-07-07T17:39:28.473Z"
   },
   {
    "duration": 8,
    "start_time": "2022-07-07T17:39:28.571Z"
   },
   {
    "duration": 20,
    "start_time": "2022-07-07T17:39:28.581Z"
   },
   {
    "duration": 22,
    "start_time": "2022-07-07T17:39:28.602Z"
   },
   {
    "duration": 19,
    "start_time": "2022-07-07T17:39:28.626Z"
   },
   {
    "duration": 9,
    "start_time": "2022-07-07T17:39:28.647Z"
   },
   {
    "duration": 18,
    "start_time": "2022-07-07T17:39:28.657Z"
   },
   {
    "duration": 7,
    "start_time": "2022-07-07T17:39:28.677Z"
   },
   {
    "duration": 49,
    "start_time": "2022-07-07T17:39:28.686Z"
   },
   {
    "duration": 19,
    "start_time": "2022-07-07T17:39:28.737Z"
   },
   {
    "duration": 10,
    "start_time": "2022-07-07T17:39:28.758Z"
   },
   {
    "duration": 20,
    "start_time": "2022-07-07T17:39:28.769Z"
   },
   {
    "duration": 33,
    "start_time": "2022-07-07T17:39:28.790Z"
   },
   {
    "duration": 19,
    "start_time": "2022-07-07T17:39:28.825Z"
   },
   {
    "duration": 5,
    "start_time": "2022-07-07T17:39:28.846Z"
   },
   {
    "duration": 8,
    "start_time": "2022-07-07T17:39:28.853Z"
   },
   {
    "duration": 15,
    "start_time": "2022-07-07T17:39:28.863Z"
   },
   {
    "duration": 46,
    "start_time": "2022-07-07T17:39:28.880Z"
   },
   {
    "duration": 17,
    "start_time": "2022-07-07T17:39:28.928Z"
   },
   {
    "duration": 4,
    "start_time": "2022-07-07T17:39:28.947Z"
   },
   {
    "duration": 19,
    "start_time": "2022-07-07T17:39:28.953Z"
   },
   {
    "duration": 8,
    "start_time": "2022-07-07T17:39:28.973Z"
   },
   {
    "duration": 51,
    "start_time": "2022-07-07T17:39:28.982Z"
   },
   {
    "duration": 8,
    "start_time": "2022-07-07T17:39:29.035Z"
   },
   {
    "duration": 17,
    "start_time": "2022-07-07T17:39:29.045Z"
   },
   {
    "duration": 79,
    "start_time": "2022-07-07T17:39:29.064Z"
   },
   {
    "duration": 5,
    "start_time": "2022-07-07T17:39:29.145Z"
   },
   {
    "duration": 9,
    "start_time": "2022-07-07T17:39:29.152Z"
   },
   {
    "duration": 60,
    "start_time": "2022-07-07T17:39:29.165Z"
   },
   {
    "duration": 4,
    "start_time": "2022-07-07T17:39:29.227Z"
   },
   {
    "duration": 8,
    "start_time": "2022-07-07T17:39:29.232Z"
   },
   {
    "duration": 222,
    "start_time": "2022-07-07T17:39:29.242Z"
   },
   {
    "duration": 65,
    "start_time": "2022-07-07T17:39:29.465Z"
   },
   {
    "duration": 7,
    "start_time": "2022-07-07T17:39:29.531Z"
   },
   {
    "duration": 24,
    "start_time": "2022-07-07T17:39:29.539Z"
   },
   {
    "duration": 60,
    "start_time": "2022-07-07T17:39:29.565Z"
   },
   {
    "duration": 7,
    "start_time": "2022-07-07T17:39:29.627Z"
   },
   {
    "duration": 11,
    "start_time": "2022-07-07T17:39:29.636Z"
   },
   {
    "duration": 23,
    "start_time": "2022-07-07T17:39:29.649Z"
   },
   {
    "duration": 21,
    "start_time": "2022-07-07T17:39:29.724Z"
   },
   {
    "duration": 87,
    "start_time": "2022-07-07T17:39:29.747Z"
   },
   {
    "duration": 29,
    "start_time": "2022-07-07T17:39:29.836Z"
   },
   {
    "duration": 77,
    "start_time": "2022-07-07T17:39:29.867Z"
   },
   {
    "duration": 9,
    "start_time": "2022-07-07T17:39:29.946Z"
   },
   {
    "duration": 10,
    "start_time": "2022-07-07T17:39:29.956Z"
   },
   {
    "duration": 11,
    "start_time": "2022-07-07T17:39:30.024Z"
   },
   {
    "duration": 25,
    "start_time": "2022-07-07T17:39:30.037Z"
   },
   {
    "duration": 70,
    "start_time": "2022-07-07T17:39:30.064Z"
   },
   {
    "duration": 325,
    "start_time": "2022-07-07T17:39:30.135Z"
   },
   {
    "duration": 292,
    "start_time": "2022-07-07T17:39:30.462Z"
   },
   {
    "duration": 320,
    "start_time": "2022-07-07T17:39:30.755Z"
   },
   {
    "duration": 162,
    "start_time": "2022-07-07T17:39:31.077Z"
   },
   {
    "duration": 148,
    "start_time": "2022-07-07T17:39:31.240Z"
   },
   {
    "duration": 159,
    "start_time": "2022-07-07T17:39:31.389Z"
   },
   {
    "duration": 144,
    "start_time": "2022-07-07T17:39:31.549Z"
   },
   {
    "duration": 140,
    "start_time": "2022-07-07T17:39:31.694Z"
   },
   {
    "duration": 222,
    "start_time": "2022-07-07T17:39:31.835Z"
   },
   {
    "duration": 3,
    "start_time": "2022-07-07T17:39:32.058Z"
   },
   {
    "duration": 11,
    "start_time": "2022-07-07T17:39:32.063Z"
   },
   {
    "duration": 16,
    "start_time": "2022-07-07T17:39:32.075Z"
   },
   {
    "duration": 13,
    "start_time": "2022-07-07T17:39:32.092Z"
   },
   {
    "duration": 18,
    "start_time": "2022-07-07T17:39:32.107Z"
   },
   {
    "duration": 10,
    "start_time": "2022-07-07T17:39:32.127Z"
   },
   {
    "duration": 56,
    "start_time": "2022-07-07T17:39:32.138Z"
   },
   {
    "duration": 3,
    "start_time": "2022-07-07T17:39:32.195Z"
   },
   {
    "duration": 8,
    "start_time": "2022-07-07T17:39:32.199Z"
   },
   {
    "duration": 1101,
    "start_time": "2022-07-07T17:39:32.224Z"
   },
   {
    "duration": 200,
    "start_time": "2022-07-07T17:39:33.327Z"
   },
   {
    "duration": 206,
    "start_time": "2022-07-07T17:39:33.529Z"
   },
   {
    "duration": 196,
    "start_time": "2022-07-07T17:39:33.736Z"
   },
   {
    "duration": 113,
    "start_time": "2022-07-07T17:39:33.934Z"
   },
   {
    "duration": 142,
    "start_time": "2022-07-07T17:44:01.554Z"
   },
   {
    "duration": 6,
    "start_time": "2022-07-07T17:47:06.152Z"
   },
   {
    "duration": 5,
    "start_time": "2022-07-07T17:47:48.241Z"
   },
   {
    "duration": 18,
    "start_time": "2022-07-07T17:50:37.196Z"
   },
   {
    "duration": 11,
    "start_time": "2022-07-07T17:51:33.073Z"
   },
   {
    "duration": 62,
    "start_time": "2022-07-07T17:52:02.679Z"
   },
   {
    "duration": 67,
    "start_time": "2022-07-07T17:52:32.944Z"
   },
   {
    "duration": 140,
    "start_time": "2022-07-07T17:52:57.341Z"
   },
   {
    "duration": 4,
    "start_time": "2022-07-07T18:04:14.223Z"
   },
   {
    "duration": 93,
    "start_time": "2022-07-07T18:06:59.918Z"
   },
   {
    "duration": 1055,
    "start_time": "2022-07-07T18:07:36.468Z"
   },
   {
    "duration": 196,
    "start_time": "2022-07-07T18:07:37.526Z"
   },
   {
    "duration": 148,
    "start_time": "2022-07-07T18:07:37.724Z"
   },
   {
    "duration": 86,
    "start_time": "2022-07-07T18:07:37.874Z"
   },
   {
    "duration": 16,
    "start_time": "2022-07-07T18:07:37.963Z"
   },
   {
    "duration": 22,
    "start_time": "2022-07-07T18:07:37.981Z"
   },
   {
    "duration": 6,
    "start_time": "2022-07-07T18:07:38.004Z"
   },
   {
    "duration": 33,
    "start_time": "2022-07-07T18:07:38.011Z"
   },
   {
    "duration": 19,
    "start_time": "2022-07-07T18:07:38.046Z"
   },
   {
    "duration": 16,
    "start_time": "2022-07-07T18:07:38.067Z"
   },
   {
    "duration": 11,
    "start_time": "2022-07-07T18:07:38.085Z"
   },
   {
    "duration": 31,
    "start_time": "2022-07-07T18:07:38.098Z"
   },
   {
    "duration": 160,
    "start_time": "2022-07-07T18:07:38.131Z"
   },
   {
    "duration": 5,
    "start_time": "2022-07-07T18:07:38.295Z"
   },
   {
    "duration": 22,
    "start_time": "2022-07-07T18:07:38.302Z"
   },
   {
    "duration": 72,
    "start_time": "2022-07-07T18:07:38.326Z"
   },
   {
    "duration": 90,
    "start_time": "2022-07-07T18:07:38.400Z"
   },
   {
    "duration": 142,
    "start_time": "2022-07-07T18:07:38.492Z"
   },
   {
    "duration": 93,
    "start_time": "2022-07-07T18:07:38.636Z"
   },
   {
    "duration": 12,
    "start_time": "2022-07-07T18:07:38.731Z"
   },
   {
    "duration": 27,
    "start_time": "2022-07-07T18:07:38.745Z"
   },
   {
    "duration": 10,
    "start_time": "2022-07-07T18:07:38.774Z"
   },
   {
    "duration": 42,
    "start_time": "2022-07-07T18:07:38.786Z"
   },
   {
    "duration": 10,
    "start_time": "2022-07-07T18:07:38.830Z"
   },
   {
    "duration": 20,
    "start_time": "2022-07-07T18:07:38.842Z"
   },
   {
    "duration": 9,
    "start_time": "2022-07-07T18:07:38.864Z"
   },
   {
    "duration": 54,
    "start_time": "2022-07-07T18:07:38.875Z"
   },
   {
    "duration": 21,
    "start_time": "2022-07-07T18:07:38.930Z"
   },
   {
    "duration": 11,
    "start_time": "2022-07-07T18:07:38.952Z"
   },
   {
    "duration": 21,
    "start_time": "2022-07-07T18:07:38.965Z"
   },
   {
    "duration": 42,
    "start_time": "2022-07-07T18:07:38.987Z"
   },
   {
    "duration": 21,
    "start_time": "2022-07-07T18:07:39.031Z"
   },
   {
    "duration": 4,
    "start_time": "2022-07-07T18:07:39.054Z"
   },
   {
    "duration": 8,
    "start_time": "2022-07-07T18:07:39.060Z"
   },
   {
    "duration": 12,
    "start_time": "2022-07-07T18:07:39.070Z"
   },
   {
    "duration": 58,
    "start_time": "2022-07-07T18:07:39.084Z"
   },
   {
    "duration": 19,
    "start_time": "2022-07-07T18:07:39.144Z"
   },
   {
    "duration": 5,
    "start_time": "2022-07-07T18:07:39.164Z"
   },
   {
    "duration": 24,
    "start_time": "2022-07-07T18:07:39.171Z"
   },
   {
    "duration": 33,
    "start_time": "2022-07-07T18:07:39.197Z"
   },
   {
    "duration": 10,
    "start_time": "2022-07-07T18:07:39.235Z"
   },
   {
    "duration": 8,
    "start_time": "2022-07-07T18:07:39.246Z"
   },
   {
    "duration": 19,
    "start_time": "2022-07-07T18:07:39.255Z"
   },
   {
    "duration": 12,
    "start_time": "2022-07-07T18:07:39.276Z"
   },
   {
    "duration": 4,
    "start_time": "2022-07-07T18:07:39.290Z"
   },
   {
    "duration": 3,
    "start_time": "2022-07-07T18:07:39.325Z"
   },
   {
    "duration": 20,
    "start_time": "2022-07-07T18:07:39.330Z"
   },
   {
    "duration": 5,
    "start_time": "2022-07-07T18:07:39.352Z"
   },
   {
    "duration": 25,
    "start_time": "2022-07-07T18:07:39.359Z"
   },
   {
    "duration": 138,
    "start_time": "2022-07-07T18:07:39.386Z"
   },
   {
    "duration": 11,
    "start_time": "2022-07-07T18:07:39.526Z"
   },
   {
    "duration": 22,
    "start_time": "2022-07-07T18:07:39.539Z"
   },
   {
    "duration": 12,
    "start_time": "2022-07-07T18:07:39.563Z"
   },
   {
    "duration": 13,
    "start_time": "2022-07-07T18:07:39.577Z"
   },
   {
    "duration": 15,
    "start_time": "2022-07-07T18:07:39.593Z"
   },
   {
    "duration": 9,
    "start_time": "2022-07-07T18:07:39.624Z"
   },
   {
    "duration": 32,
    "start_time": "2022-07-07T18:07:39.635Z"
   },
   {
    "duration": 33,
    "start_time": "2022-07-07T18:07:39.669Z"
   },
   {
    "duration": 25,
    "start_time": "2022-07-07T18:07:39.704Z"
   },
   {
    "duration": 28,
    "start_time": "2022-07-07T18:07:39.731Z"
   },
   {
    "duration": 24,
    "start_time": "2022-07-07T18:07:39.761Z"
   },
   {
    "duration": 10,
    "start_time": "2022-07-07T18:07:39.786Z"
   },
   {
    "duration": 10,
    "start_time": "2022-07-07T18:07:39.825Z"
   },
   {
    "duration": 17,
    "start_time": "2022-07-07T18:07:39.837Z"
   },
   {
    "duration": 27,
    "start_time": "2022-07-07T18:07:39.855Z"
   },
   {
    "duration": 20,
    "start_time": "2022-07-07T18:07:39.884Z"
   },
   {
    "duration": 226,
    "start_time": "2022-07-07T18:07:39.906Z"
   },
   {
    "duration": 221,
    "start_time": "2022-07-07T18:07:40.134Z"
   },
   {
    "duration": 310,
    "start_time": "2022-07-07T18:07:40.357Z"
   },
   {
    "duration": 286,
    "start_time": "2022-07-07T18:07:40.669Z"
   },
   {
    "duration": 297,
    "start_time": "2022-07-07T18:07:40.957Z"
   },
   {
    "duration": 301,
    "start_time": "2022-07-07T18:07:41.255Z"
   },
   {
    "duration": 436,
    "start_time": "2022-07-07T18:07:41.558Z"
   },
   {
    "duration": 158,
    "start_time": "2022-07-07T18:07:41.995Z"
   },
   {
    "duration": 158,
    "start_time": "2022-07-07T18:07:42.155Z"
   },
   {
    "duration": 3,
    "start_time": "2022-07-07T18:07:42.315Z"
   },
   {
    "duration": 9,
    "start_time": "2022-07-07T18:07:42.324Z"
   },
   {
    "duration": 12,
    "start_time": "2022-07-07T18:07:42.335Z"
   },
   {
    "duration": 17,
    "start_time": "2022-07-07T18:07:42.348Z"
   },
   {
    "duration": 10,
    "start_time": "2022-07-07T18:07:42.367Z"
   },
   {
    "duration": 6,
    "start_time": "2022-07-07T18:07:42.379Z"
   },
   {
    "duration": 58,
    "start_time": "2022-07-07T18:07:42.387Z"
   },
   {
    "duration": 3,
    "start_time": "2022-07-07T18:07:42.447Z"
   },
   {
    "duration": 13,
    "start_time": "2022-07-07T18:07:42.453Z"
   },
   {
    "duration": 1186,
    "start_time": "2022-07-07T18:07:42.468Z"
   },
   {
    "duration": 209,
    "start_time": "2022-07-07T18:07:43.656Z"
   },
   {
    "duration": 282,
    "start_time": "2022-07-07T18:07:43.867Z"
   },
   {
    "duration": 207,
    "start_time": "2022-07-07T18:07:44.151Z"
   },
   {
    "duration": 35,
    "start_time": "2022-07-07T18:07:44.361Z"
   },
   {
    "duration": 986,
    "start_time": "2022-07-07T18:55:58.972Z"
   },
   {
    "duration": 156,
    "start_time": "2022-07-07T18:55:59.960Z"
   },
   {
    "duration": 136,
    "start_time": "2022-07-07T18:56:00.117Z"
   },
   {
    "duration": 90,
    "start_time": "2022-07-07T18:56:00.255Z"
   },
   {
    "duration": 14,
    "start_time": "2022-07-07T18:56:00.347Z"
   },
   {
    "duration": 23,
    "start_time": "2022-07-07T18:56:00.363Z"
   },
   {
    "duration": 5,
    "start_time": "2022-07-07T18:56:00.387Z"
   },
   {
    "duration": 29,
    "start_time": "2022-07-07T18:56:00.394Z"
   },
   {
    "duration": 19,
    "start_time": "2022-07-07T18:56:00.425Z"
   },
   {
    "duration": 22,
    "start_time": "2022-07-07T18:56:00.446Z"
   },
   {
    "duration": 11,
    "start_time": "2022-07-07T18:56:00.470Z"
   },
   {
    "duration": 21,
    "start_time": "2022-07-07T18:56:00.483Z"
   },
   {
    "duration": 181,
    "start_time": "2022-07-07T18:56:00.505Z"
   },
   {
    "duration": 4,
    "start_time": "2022-07-07T18:56:00.688Z"
   },
   {
    "duration": 13,
    "start_time": "2022-07-07T18:56:00.694Z"
   },
   {
    "duration": 83,
    "start_time": "2022-07-07T18:56:00.708Z"
   },
   {
    "duration": 88,
    "start_time": "2022-07-07T18:56:00.793Z"
   },
   {
    "duration": 152,
    "start_time": "2022-07-07T18:56:00.882Z"
   },
   {
    "duration": 71,
    "start_time": "2022-07-07T18:56:01.036Z"
   },
   {
    "duration": 23,
    "start_time": "2022-07-07T18:56:01.108Z"
   },
   {
    "duration": 22,
    "start_time": "2022-07-07T18:56:01.132Z"
   },
   {
    "duration": 22,
    "start_time": "2022-07-07T18:56:01.155Z"
   },
   {
    "duration": 34,
    "start_time": "2022-07-07T18:56:01.179Z"
   },
   {
    "duration": 24,
    "start_time": "2022-07-07T18:56:01.215Z"
   },
   {
    "duration": 47,
    "start_time": "2022-07-07T18:56:01.241Z"
   },
   {
    "duration": 45,
    "start_time": "2022-07-07T18:56:01.290Z"
   },
   {
    "duration": 43,
    "start_time": "2022-07-07T18:56:01.336Z"
   },
   {
    "duration": 21,
    "start_time": "2022-07-07T18:56:01.384Z"
   },
   {
    "duration": 12,
    "start_time": "2022-07-07T18:56:01.407Z"
   },
   {
    "duration": 26,
    "start_time": "2022-07-07T18:56:01.423Z"
   },
   {
    "duration": 10,
    "start_time": "2022-07-07T18:56:01.451Z"
   },
   {
    "duration": 31,
    "start_time": "2022-07-07T18:56:01.463Z"
   },
   {
    "duration": 5,
    "start_time": "2022-07-07T18:56:01.496Z"
   },
   {
    "duration": 24,
    "start_time": "2022-07-07T18:56:01.503Z"
   },
   {
    "duration": 19,
    "start_time": "2022-07-07T18:56:01.529Z"
   },
   {
    "duration": 34,
    "start_time": "2022-07-07T18:56:01.549Z"
   },
   {
    "duration": 18,
    "start_time": "2022-07-07T18:56:01.585Z"
   },
   {
    "duration": 20,
    "start_time": "2022-07-07T18:56:01.605Z"
   },
   {
    "duration": 28,
    "start_time": "2022-07-07T18:56:01.627Z"
   },
   {
    "duration": 10,
    "start_time": "2022-07-07T18:56:01.657Z"
   },
   {
    "duration": 13,
    "start_time": "2022-07-07T18:56:01.668Z"
   },
   {
    "duration": 10,
    "start_time": "2022-07-07T18:56:01.683Z"
   },
   {
    "duration": 36,
    "start_time": "2022-07-07T18:56:01.694Z"
   },
   {
    "duration": 12,
    "start_time": "2022-07-07T18:56:01.732Z"
   },
   {
    "duration": 9,
    "start_time": "2022-07-07T18:56:01.746Z"
   },
   {
    "duration": 6,
    "start_time": "2022-07-07T18:56:01.757Z"
   },
   {
    "duration": 22,
    "start_time": "2022-07-07T18:56:01.765Z"
   },
   {
    "duration": 7,
    "start_time": "2022-07-07T18:56:01.788Z"
   },
   {
    "duration": 10,
    "start_time": "2022-07-07T18:56:01.796Z"
   },
   {
    "duration": 142,
    "start_time": "2022-07-07T18:56:01.808Z"
   },
   {
    "duration": 12,
    "start_time": "2022-07-07T18:56:01.952Z"
   },
   {
    "duration": 13,
    "start_time": "2022-07-07T18:56:01.966Z"
   },
   {
    "duration": 25,
    "start_time": "2022-07-07T18:56:01.981Z"
   },
   {
    "duration": 13,
    "start_time": "2022-07-07T18:56:02.008Z"
   },
   {
    "duration": 8,
    "start_time": "2022-07-07T18:56:02.022Z"
   },
   {
    "duration": 10,
    "start_time": "2022-07-07T18:56:02.031Z"
   },
   {
    "duration": 24,
    "start_time": "2022-07-07T18:56:02.043Z"
   },
   {
    "duration": 38,
    "start_time": "2022-07-07T18:56:02.068Z"
   },
   {
    "duration": 22,
    "start_time": "2022-07-07T18:56:02.108Z"
   },
   {
    "duration": 28,
    "start_time": "2022-07-07T18:56:02.131Z"
   },
   {
    "duration": 25,
    "start_time": "2022-07-07T18:56:02.160Z"
   },
   {
    "duration": 24,
    "start_time": "2022-07-07T18:56:02.187Z"
   },
   {
    "duration": 17,
    "start_time": "2022-07-07T18:56:02.213Z"
   },
   {
    "duration": 16,
    "start_time": "2022-07-07T18:56:02.232Z"
   },
   {
    "duration": 33,
    "start_time": "2022-07-07T18:56:02.250Z"
   },
   {
    "duration": 25,
    "start_time": "2022-07-07T18:56:02.284Z"
   },
   {
    "duration": 113,
    "start_time": "2022-07-07T18:56:02.311Z"
   },
   {
    "duration": 130,
    "start_time": "2022-07-07T18:56:02.426Z"
   },
   {
    "duration": 157,
    "start_time": "2022-07-07T18:56:02.557Z"
   },
   {
    "duration": 127,
    "start_time": "2022-07-07T18:56:02.716Z"
   },
   {
    "duration": 143,
    "start_time": "2022-07-07T18:56:02.845Z"
   },
   {
    "duration": 156,
    "start_time": "2022-07-07T18:56:02.990Z"
   },
   {
    "duration": 195,
    "start_time": "2022-07-07T18:56:03.148Z"
   },
   {
    "duration": 120,
    "start_time": "2022-07-07T18:56:03.345Z"
   },
   {
    "duration": 126,
    "start_time": "2022-07-07T18:56:03.466Z"
   },
   {
    "duration": 3,
    "start_time": "2022-07-07T18:56:03.594Z"
   },
   {
    "duration": 7,
    "start_time": "2022-07-07T18:56:03.598Z"
   },
   {
    "duration": 18,
    "start_time": "2022-07-07T18:56:03.606Z"
   },
   {
    "duration": 10,
    "start_time": "2022-07-07T18:56:03.625Z"
   },
   {
    "duration": 15,
    "start_time": "2022-07-07T18:56:03.636Z"
   },
   {
    "duration": 9,
    "start_time": "2022-07-07T18:56:03.653Z"
   },
   {
    "duration": 61,
    "start_time": "2022-07-07T18:56:03.666Z"
   },
   {
    "duration": 2,
    "start_time": "2022-07-07T18:56:03.729Z"
   },
   {
    "duration": 8,
    "start_time": "2022-07-07T18:56:03.733Z"
   },
   {
    "duration": 1111,
    "start_time": "2022-07-07T18:56:03.743Z"
   },
   {
    "duration": 228,
    "start_time": "2022-07-07T18:56:04.855Z"
   },
   {
    "duration": 286,
    "start_time": "2022-07-07T18:56:05.085Z"
   },
   {
    "duration": 203,
    "start_time": "2022-07-07T18:56:05.373Z"
   },
   {
    "duration": 42,
    "start_time": "2022-07-07T18:56:05.578Z"
   },
   {
    "duration": 0,
    "start_time": "2022-07-07T19:08:52.055Z"
   },
   {
    "duration": 1143,
    "start_time": "2022-07-07T19:09:13.968Z"
   },
   {
    "duration": 165,
    "start_time": "2022-07-07T19:09:15.113Z"
   },
   {
    "duration": 139,
    "start_time": "2022-07-07T19:09:15.280Z"
   },
   {
    "duration": 87,
    "start_time": "2022-07-07T19:09:15.424Z"
   },
   {
    "duration": 16,
    "start_time": "2022-07-07T19:09:15.513Z"
   },
   {
    "duration": 24,
    "start_time": "2022-07-07T19:09:15.531Z"
   },
   {
    "duration": 6,
    "start_time": "2022-07-07T19:09:15.557Z"
   },
   {
    "duration": 30,
    "start_time": "2022-07-07T19:09:15.564Z"
   },
   {
    "duration": 34,
    "start_time": "2022-07-07T19:09:15.596Z"
   },
   {
    "duration": 18,
    "start_time": "2022-07-07T19:09:15.633Z"
   },
   {
    "duration": 10,
    "start_time": "2022-07-07T19:09:15.653Z"
   },
   {
    "duration": 17,
    "start_time": "2022-07-07T19:09:15.664Z"
   },
   {
    "duration": 195,
    "start_time": "2022-07-07T19:09:15.683Z"
   },
   {
    "duration": 4,
    "start_time": "2022-07-07T19:09:15.880Z"
   },
   {
    "duration": 10,
    "start_time": "2022-07-07T19:09:15.885Z"
   },
   {
    "duration": 88,
    "start_time": "2022-07-07T19:09:15.897Z"
   },
   {
    "duration": 86,
    "start_time": "2022-07-07T19:09:15.987Z"
   },
   {
    "duration": 140,
    "start_time": "2022-07-07T19:09:16.074Z"
   },
   {
    "duration": 67,
    "start_time": "2022-07-07T19:09:16.224Z"
   },
   {
    "duration": 10,
    "start_time": "2022-07-07T19:09:16.293Z"
   },
   {
    "duration": 22,
    "start_time": "2022-07-07T19:09:16.325Z"
   },
   {
    "duration": 9,
    "start_time": "2022-07-07T19:09:16.349Z"
   },
   {
    "duration": 20,
    "start_time": "2022-07-07T19:09:16.360Z"
   },
   {
    "duration": 10,
    "start_time": "2022-07-07T19:09:16.382Z"
   },
   {
    "duration": 42,
    "start_time": "2022-07-07T19:09:16.393Z"
   },
   {
    "duration": 9,
    "start_time": "2022-07-07T19:09:16.437Z"
   },
   {
    "duration": 28,
    "start_time": "2022-07-07T19:09:16.447Z"
   },
   {
    "duration": 20,
    "start_time": "2022-07-07T19:09:16.479Z"
   },
   {
    "duration": 31,
    "start_time": "2022-07-07T19:09:16.501Z"
   },
   {
    "duration": 22,
    "start_time": "2022-07-07T19:09:16.534Z"
   },
   {
    "duration": 10,
    "start_time": "2022-07-07T19:09:16.558Z"
   },
   {
    "duration": 19,
    "start_time": "2022-07-07T19:09:16.569Z"
   },
   {
    "duration": 36,
    "start_time": "2022-07-07T19:09:16.590Z"
   },
   {
    "duration": 7,
    "start_time": "2022-07-07T19:09:16.628Z"
   },
   {
    "duration": 18,
    "start_time": "2022-07-07T19:09:16.636Z"
   },
   {
    "duration": 30,
    "start_time": "2022-07-07T19:09:16.655Z"
   },
   {
    "duration": 18,
    "start_time": "2022-07-07T19:09:16.687Z"
   },
   {
    "duration": 22,
    "start_time": "2022-07-07T19:09:16.706Z"
   },
   {
    "duration": 22,
    "start_time": "2022-07-07T19:09:16.730Z"
   },
   {
    "duration": 16,
    "start_time": "2022-07-07T19:09:16.753Z"
   },
   {
    "duration": 14,
    "start_time": "2022-07-07T19:09:16.770Z"
   },
   {
    "duration": 9,
    "start_time": "2022-07-07T19:09:16.785Z"
   },
   {
    "duration": 36,
    "start_time": "2022-07-07T19:09:16.795Z"
   },
   {
    "duration": 17,
    "start_time": "2022-07-07T19:09:16.833Z"
   },
   {
    "duration": 5,
    "start_time": "2022-07-07T19:09:16.852Z"
   },
   {
    "duration": 7,
    "start_time": "2022-07-07T19:09:16.859Z"
   },
   {
    "duration": 31,
    "start_time": "2022-07-07T19:09:16.869Z"
   },
   {
    "duration": 26,
    "start_time": "2022-07-07T19:09:16.903Z"
   },
   {
    "duration": 9,
    "start_time": "2022-07-07T19:09:16.931Z"
   },
   {
    "duration": 143,
    "start_time": "2022-07-07T19:09:16.942Z"
   },
   {
    "duration": 12,
    "start_time": "2022-07-07T19:09:17.087Z"
   },
   {
    "duration": 24,
    "start_time": "2022-07-07T19:09:17.101Z"
   },
   {
    "duration": 16,
    "start_time": "2022-07-07T19:09:17.126Z"
   },
   {
    "duration": 10,
    "start_time": "2022-07-07T19:09:17.143Z"
   },
   {
    "duration": 4,
    "start_time": "2022-07-07T19:09:17.154Z"
   },
   {
    "duration": 7,
    "start_time": "2022-07-07T19:09:17.159Z"
   },
   {
    "duration": 20,
    "start_time": "2022-07-07T19:09:17.167Z"
   },
   {
    "duration": 118,
    "start_time": "2022-07-07T19:09:17.188Z"
   },
   {
    "duration": 0,
    "start_time": "2022-07-07T19:09:17.308Z"
   },
   {
    "duration": 0,
    "start_time": "2022-07-07T19:09:17.309Z"
   },
   {
    "duration": 0,
    "start_time": "2022-07-07T19:09:17.310Z"
   },
   {
    "duration": 0,
    "start_time": "2022-07-07T19:09:17.311Z"
   },
   {
    "duration": 0,
    "start_time": "2022-07-07T19:09:17.313Z"
   },
   {
    "duration": 0,
    "start_time": "2022-07-07T19:09:17.314Z"
   },
   {
    "duration": 0,
    "start_time": "2022-07-07T19:09:17.323Z"
   },
   {
    "duration": 0,
    "start_time": "2022-07-07T19:09:17.324Z"
   },
   {
    "duration": 0,
    "start_time": "2022-07-07T19:09:17.325Z"
   },
   {
    "duration": 0,
    "start_time": "2022-07-07T19:09:17.326Z"
   },
   {
    "duration": 0,
    "start_time": "2022-07-07T19:09:17.327Z"
   },
   {
    "duration": 0,
    "start_time": "2022-07-07T19:09:17.328Z"
   },
   {
    "duration": 0,
    "start_time": "2022-07-07T19:09:17.329Z"
   },
   {
    "duration": 0,
    "start_time": "2022-07-07T19:09:17.330Z"
   },
   {
    "duration": 0,
    "start_time": "2022-07-07T19:09:17.331Z"
   },
   {
    "duration": 0,
    "start_time": "2022-07-07T19:09:17.332Z"
   },
   {
    "duration": 0,
    "start_time": "2022-07-07T19:09:17.333Z"
   },
   {
    "duration": 0,
    "start_time": "2022-07-07T19:09:17.334Z"
   },
   {
    "duration": 0,
    "start_time": "2022-07-07T19:09:17.335Z"
   },
   {
    "duration": 0,
    "start_time": "2022-07-07T19:09:17.336Z"
   },
   {
    "duration": 0,
    "start_time": "2022-07-07T19:09:17.337Z"
   },
   {
    "duration": 0,
    "start_time": "2022-07-07T19:09:17.339Z"
   },
   {
    "duration": 0,
    "start_time": "2022-07-07T19:09:17.340Z"
   },
   {
    "duration": 0,
    "start_time": "2022-07-07T19:09:17.341Z"
   },
   {
    "duration": 0,
    "start_time": "2022-07-07T19:09:17.342Z"
   },
   {
    "duration": 0,
    "start_time": "2022-07-07T19:09:17.343Z"
   },
   {
    "duration": 0,
    "start_time": "2022-07-07T19:09:17.344Z"
   },
   {
    "duration": 0,
    "start_time": "2022-07-07T19:09:17.346Z"
   },
   {
    "duration": 0,
    "start_time": "2022-07-07T19:09:17.346Z"
   },
   {
    "duration": 0,
    "start_time": "2022-07-07T19:09:17.348Z"
   },
   {
    "duration": 0,
    "start_time": "2022-07-07T19:09:17.349Z"
   },
   {
    "duration": 21,
    "start_time": "2022-07-07T19:09:46.877Z"
   },
   {
    "duration": 81,
    "start_time": "2022-07-07T19:10:27.216Z"
   },
   {
    "duration": 59,
    "start_time": "2022-07-07T19:10:35.967Z"
   },
   {
    "duration": 1047,
    "start_time": "2022-07-07T19:15:40.914Z"
   },
   {
    "duration": 157,
    "start_time": "2022-07-07T19:15:41.963Z"
   },
   {
    "duration": 133,
    "start_time": "2022-07-07T19:15:42.121Z"
   },
   {
    "duration": 80,
    "start_time": "2022-07-07T19:15:42.256Z"
   },
   {
    "duration": 13,
    "start_time": "2022-07-07T19:15:42.338Z"
   },
   {
    "duration": 21,
    "start_time": "2022-07-07T19:15:42.353Z"
   },
   {
    "duration": 4,
    "start_time": "2022-07-07T19:15:42.376Z"
   },
   {
    "duration": 27,
    "start_time": "2022-07-07T19:15:42.382Z"
   },
   {
    "duration": 27,
    "start_time": "2022-07-07T19:15:42.411Z"
   },
   {
    "duration": 16,
    "start_time": "2022-07-07T19:15:42.440Z"
   },
   {
    "duration": 9,
    "start_time": "2022-07-07T19:15:42.457Z"
   },
   {
    "duration": 12,
    "start_time": "2022-07-07T19:15:42.467Z"
   },
   {
    "duration": 177,
    "start_time": "2022-07-07T19:15:42.480Z"
   },
   {
    "duration": 5,
    "start_time": "2022-07-07T19:15:42.659Z"
   },
   {
    "duration": 9,
    "start_time": "2022-07-07T19:15:42.665Z"
   },
   {
    "duration": 86,
    "start_time": "2022-07-07T19:15:42.675Z"
   },
   {
    "duration": 77,
    "start_time": "2022-07-07T19:15:42.762Z"
   },
   {
    "duration": 137,
    "start_time": "2022-07-07T19:15:42.841Z"
   },
   {
    "duration": 73,
    "start_time": "2022-07-07T19:15:42.979Z"
   },
   {
    "duration": 10,
    "start_time": "2022-07-07T19:15:43.053Z"
   },
   {
    "duration": 20,
    "start_time": "2022-07-07T19:15:43.064Z"
   },
   {
    "duration": 9,
    "start_time": "2022-07-07T19:15:43.086Z"
   },
   {
    "duration": 43,
    "start_time": "2022-07-07T19:15:43.096Z"
   },
   {
    "duration": 10,
    "start_time": "2022-07-07T19:15:43.140Z"
   },
   {
    "duration": 18,
    "start_time": "2022-07-07T19:15:43.151Z"
   },
   {
    "duration": 9,
    "start_time": "2022-07-07T19:15:43.171Z"
   },
   {
    "duration": 44,
    "start_time": "2022-07-07T19:15:43.181Z"
   },
   {
    "duration": 21,
    "start_time": "2022-07-07T19:15:43.228Z"
   },
   {
    "duration": 10,
    "start_time": "2022-07-07T19:15:43.250Z"
   },
   {
    "duration": 20,
    "start_time": "2022-07-07T19:15:43.262Z"
   },
   {
    "duration": 8,
    "start_time": "2022-07-07T19:15:43.283Z"
   },
   {
    "duration": 47,
    "start_time": "2022-07-07T19:15:43.292Z"
   },
   {
    "duration": 4,
    "start_time": "2022-07-07T19:15:43.341Z"
   },
   {
    "duration": 10,
    "start_time": "2022-07-07T19:15:43.347Z"
   },
   {
    "duration": 13,
    "start_time": "2022-07-07T19:15:43.358Z"
   },
   {
    "duration": 28,
    "start_time": "2022-07-07T19:15:43.373Z"
   },
   {
    "duration": 34,
    "start_time": "2022-07-07T19:15:43.402Z"
   },
   {
    "duration": 3,
    "start_time": "2022-07-07T19:15:43.438Z"
   },
   {
    "duration": 20,
    "start_time": "2022-07-07T19:15:43.443Z"
   },
   {
    "duration": 18,
    "start_time": "2022-07-07T19:15:43.465Z"
   },
   {
    "duration": 10,
    "start_time": "2022-07-07T19:15:43.485Z"
   },
   {
    "duration": 12,
    "start_time": "2022-07-07T19:15:43.496Z"
   },
   {
    "duration": 29,
    "start_time": "2022-07-07T19:15:43.510Z"
   },
   {
    "duration": 11,
    "start_time": "2022-07-07T19:15:43.541Z"
   },
   {
    "duration": 3,
    "start_time": "2022-07-07T19:15:43.553Z"
   },
   {
    "duration": 4,
    "start_time": "2022-07-07T19:15:43.558Z"
   },
   {
    "duration": 15,
    "start_time": "2022-07-07T19:15:43.564Z"
   },
   {
    "duration": 6,
    "start_time": "2022-07-07T19:15:43.581Z"
   },
   {
    "duration": 10,
    "start_time": "2022-07-07T19:15:43.589Z"
   },
   {
    "duration": 125,
    "start_time": "2022-07-07T19:15:43.624Z"
   },
   {
    "duration": 10,
    "start_time": "2022-07-07T19:15:43.751Z"
   },
   {
    "duration": 6,
    "start_time": "2022-07-07T19:15:43.763Z"
   },
   {
    "duration": 16,
    "start_time": "2022-07-07T19:15:43.770Z"
   },
   {
    "duration": 9,
    "start_time": "2022-07-07T19:15:43.788Z"
   },
   {
    "duration": 6,
    "start_time": "2022-07-07T19:15:43.799Z"
   },
   {
    "duration": 24,
    "start_time": "2022-07-07T19:15:43.807Z"
   },
   {
    "duration": 17,
    "start_time": "2022-07-07T19:15:43.832Z"
   },
   {
    "duration": 18,
    "start_time": "2022-07-07T19:15:43.851Z"
   },
   {
    "duration": 22,
    "start_time": "2022-07-07T19:15:43.871Z"
   },
   {
    "duration": 38,
    "start_time": "2022-07-07T19:15:43.894Z"
   },
   {
    "duration": 21,
    "start_time": "2022-07-07T19:15:43.933Z"
   },
   {
    "duration": 8,
    "start_time": "2022-07-07T19:15:43.956Z"
   },
   {
    "duration": 9,
    "start_time": "2022-07-07T19:15:43.965Z"
   },
   {
    "duration": 8,
    "start_time": "2022-07-07T19:15:43.975Z"
   },
   {
    "duration": 49,
    "start_time": "2022-07-07T19:15:43.984Z"
   },
   {
    "duration": 17,
    "start_time": "2022-07-07T19:15:44.035Z"
   },
   {
    "duration": 128,
    "start_time": "2022-07-07T19:15:44.053Z"
   },
   {
    "duration": 127,
    "start_time": "2022-07-07T19:15:44.183Z"
   },
   {
    "duration": 164,
    "start_time": "2022-07-07T19:15:44.312Z"
   },
   {
    "duration": 154,
    "start_time": "2022-07-07T19:15:44.478Z"
   },
   {
    "duration": 154,
    "start_time": "2022-07-07T19:15:44.633Z"
   },
   {
    "duration": 161,
    "start_time": "2022-07-07T19:15:44.789Z"
   },
   {
    "duration": 199,
    "start_time": "2022-07-07T19:15:44.952Z"
   },
   {
    "duration": 122,
    "start_time": "2022-07-07T19:15:45.153Z"
   },
   {
    "duration": 122,
    "start_time": "2022-07-07T19:15:45.276Z"
   },
   {
    "duration": 3,
    "start_time": "2022-07-07T19:15:45.399Z"
   },
   {
    "duration": 6,
    "start_time": "2022-07-07T19:15:45.404Z"
   },
   {
    "duration": 12,
    "start_time": "2022-07-07T19:15:45.412Z"
   },
   {
    "duration": 15,
    "start_time": "2022-07-07T19:15:45.425Z"
   },
   {
    "duration": 8,
    "start_time": "2022-07-07T19:15:45.441Z"
   },
   {
    "duration": 5,
    "start_time": "2022-07-07T19:15:45.451Z"
   },
   {
    "duration": 51,
    "start_time": "2022-07-07T19:15:45.461Z"
   },
   {
    "duration": 10,
    "start_time": "2022-07-07T19:15:45.514Z"
   },
   {
    "duration": 7,
    "start_time": "2022-07-07T19:15:45.526Z"
   },
   {
    "duration": 1128,
    "start_time": "2022-07-07T19:15:45.535Z"
   },
   {
    "duration": 233,
    "start_time": "2022-07-07T19:15:46.666Z"
   },
   {
    "duration": 281,
    "start_time": "2022-07-07T19:15:46.901Z"
   },
   {
    "duration": 243,
    "start_time": "2022-07-07T19:15:47.183Z"
   },
   {
    "duration": 45,
    "start_time": "2022-07-07T19:15:47.428Z"
   },
   {
    "duration": 134,
    "start_time": "2022-07-07T19:18:28.361Z"
   },
   {
    "duration": 140,
    "start_time": "2022-07-07T19:18:48.038Z"
   },
   {
    "duration": 181,
    "start_time": "2022-07-07T19:19:15.435Z"
   },
   {
    "duration": 185,
    "start_time": "2022-07-07T19:20:53.910Z"
   },
   {
    "duration": 167,
    "start_time": "2022-07-07T19:21:11.217Z"
   },
   {
    "duration": 155,
    "start_time": "2022-07-07T19:21:16.369Z"
   },
   {
    "duration": 167,
    "start_time": "2022-07-07T19:21:45.193Z"
   },
   {
    "duration": 138,
    "start_time": "2022-07-07T19:22:26.002Z"
   },
   {
    "duration": 154,
    "start_time": "2022-07-07T19:23:05.049Z"
   },
   {
    "duration": 256,
    "start_time": "2022-07-07T19:23:07.973Z"
   },
   {
    "duration": 296,
    "start_time": "2022-07-07T19:28:51.549Z"
   },
   {
    "duration": 28,
    "start_time": "2022-07-07T19:29:11.593Z"
   },
   {
    "duration": 1215,
    "start_time": "2022-07-07T19:29:53.196Z"
   },
   {
    "duration": 186,
    "start_time": "2022-07-07T19:29:54.413Z"
   },
   {
    "duration": 162,
    "start_time": "2022-07-07T19:29:54.601Z"
   },
   {
    "duration": 113,
    "start_time": "2022-07-07T19:29:54.766Z"
   },
   {
    "duration": 15,
    "start_time": "2022-07-07T19:29:54.881Z"
   },
   {
    "duration": 24,
    "start_time": "2022-07-07T19:29:54.898Z"
   },
   {
    "duration": 6,
    "start_time": "2022-07-07T19:29:54.923Z"
   },
   {
    "duration": 28,
    "start_time": "2022-07-07T19:29:54.930Z"
   },
   {
    "duration": 20,
    "start_time": "2022-07-07T19:29:54.960Z"
   },
   {
    "duration": 41,
    "start_time": "2022-07-07T19:29:54.983Z"
   },
   {
    "duration": 11,
    "start_time": "2022-07-07T19:29:55.025Z"
   },
   {
    "duration": 14,
    "start_time": "2022-07-07T19:29:55.038Z"
   },
   {
    "duration": 183,
    "start_time": "2022-07-07T19:29:55.054Z"
   },
   {
    "duration": 5,
    "start_time": "2022-07-07T19:29:55.238Z"
   },
   {
    "duration": 13,
    "start_time": "2022-07-07T19:29:55.244Z"
   },
   {
    "duration": 83,
    "start_time": "2022-07-07T19:29:55.260Z"
   },
   {
    "duration": 86,
    "start_time": "2022-07-07T19:29:55.345Z"
   },
   {
    "duration": 141,
    "start_time": "2022-07-07T19:29:55.433Z"
   },
   {
    "duration": 73,
    "start_time": "2022-07-07T19:29:55.576Z"
   },
   {
    "duration": 9,
    "start_time": "2022-07-07T19:29:55.651Z"
   },
   {
    "duration": 21,
    "start_time": "2022-07-07T19:29:55.662Z"
   },
   {
    "duration": 9,
    "start_time": "2022-07-07T19:29:55.685Z"
   },
   {
    "duration": 40,
    "start_time": "2022-07-07T19:29:55.696Z"
   },
   {
    "duration": 9,
    "start_time": "2022-07-07T19:29:55.738Z"
   },
   {
    "duration": 19,
    "start_time": "2022-07-07T19:29:55.749Z"
   },
   {
    "duration": 10,
    "start_time": "2022-07-07T19:29:55.769Z"
   },
   {
    "duration": 50,
    "start_time": "2022-07-07T19:29:55.781Z"
   },
   {
    "duration": 21,
    "start_time": "2022-07-07T19:29:55.836Z"
   },
   {
    "duration": 12,
    "start_time": "2022-07-07T19:29:55.858Z"
   },
   {
    "duration": 21,
    "start_time": "2022-07-07T19:29:55.871Z"
   },
   {
    "duration": 36,
    "start_time": "2022-07-07T19:29:55.894Z"
   },
   {
    "duration": 19,
    "start_time": "2022-07-07T19:29:55.931Z"
   },
   {
    "duration": 4,
    "start_time": "2022-07-07T19:29:55.952Z"
   },
   {
    "duration": 9,
    "start_time": "2022-07-07T19:29:55.957Z"
   },
   {
    "duration": 17,
    "start_time": "2022-07-07T19:29:55.968Z"
   },
   {
    "duration": 59,
    "start_time": "2022-07-07T19:29:55.987Z"
   },
   {
    "duration": 21,
    "start_time": "2022-07-07T19:29:56.048Z"
   },
   {
    "duration": 4,
    "start_time": "2022-07-07T19:29:56.070Z"
   },
   {
    "duration": 24,
    "start_time": "2022-07-07T19:29:56.076Z"
   },
   {
    "duration": 25,
    "start_time": "2022-07-07T19:29:56.102Z"
   },
   {
    "duration": 11,
    "start_time": "2022-07-07T19:29:56.129Z"
   },
   {
    "duration": 6,
    "start_time": "2022-07-07T19:29:56.142Z"
   },
   {
    "duration": 22,
    "start_time": "2022-07-07T19:29:56.150Z"
   },
   {
    "duration": 12,
    "start_time": "2022-07-07T19:29:56.174Z"
   },
   {
    "duration": 4,
    "start_time": "2022-07-07T19:29:56.187Z"
   },
   {
    "duration": 4,
    "start_time": "2022-07-07T19:29:56.224Z"
   },
   {
    "duration": 17,
    "start_time": "2022-07-07T19:29:56.229Z"
   },
   {
    "duration": 9,
    "start_time": "2022-07-07T19:29:56.247Z"
   },
   {
    "duration": 9,
    "start_time": "2022-07-07T19:29:56.257Z"
   },
   {
    "duration": 148,
    "start_time": "2022-07-07T19:29:56.267Z"
   },
   {
    "duration": 17,
    "start_time": "2022-07-07T19:29:56.417Z"
   },
   {
    "duration": 3,
    "start_time": "2022-07-07T19:29:56.436Z"
   },
   {
    "duration": 15,
    "start_time": "2022-07-07T19:29:56.440Z"
   },
   {
    "duration": 11,
    "start_time": "2022-07-07T19:29:56.456Z"
   },
   {
    "duration": 7,
    "start_time": "2022-07-07T19:29:56.469Z"
   },
   {
    "duration": 9,
    "start_time": "2022-07-07T19:29:56.477Z"
   },
   {
    "duration": 39,
    "start_time": "2022-07-07T19:29:56.487Z"
   },
   {
    "duration": 29,
    "start_time": "2022-07-07T19:29:56.528Z"
   },
   {
    "duration": 27,
    "start_time": "2022-07-07T19:29:56.558Z"
   },
   {
    "duration": 44,
    "start_time": "2022-07-07T19:29:56.586Z"
   },
   {
    "duration": 24,
    "start_time": "2022-07-07T19:29:56.632Z"
   },
   {
    "duration": 10,
    "start_time": "2022-07-07T19:29:56.657Z"
   },
   {
    "duration": 10,
    "start_time": "2022-07-07T19:29:56.668Z"
   },
   {
    "duration": 9,
    "start_time": "2022-07-07T19:29:56.680Z"
   },
   {
    "duration": 21,
    "start_time": "2022-07-07T19:29:56.724Z"
   },
   {
    "duration": 19,
    "start_time": "2022-07-07T19:29:56.746Z"
   },
   {
    "duration": 170,
    "start_time": "2022-07-07T19:29:56.766Z"
   },
   {
    "duration": 156,
    "start_time": "2022-07-07T19:29:56.938Z"
   },
   {
    "duration": 180,
    "start_time": "2022-07-07T19:29:57.095Z"
   },
   {
    "duration": 202,
    "start_time": "2022-07-07T19:29:57.277Z"
   },
   {
    "duration": 199,
    "start_time": "2022-07-07T19:29:57.481Z"
   },
   {
    "duration": 182,
    "start_time": "2022-07-07T19:29:57.682Z"
   },
   {
    "duration": 215,
    "start_time": "2022-07-07T19:29:57.866Z"
   },
   {
    "duration": 145,
    "start_time": "2022-07-07T19:29:58.082Z"
   },
   {
    "duration": 159,
    "start_time": "2022-07-07T19:29:58.228Z"
   },
   {
    "duration": 3,
    "start_time": "2022-07-07T19:29:58.389Z"
   },
   {
    "duration": 6,
    "start_time": "2022-07-07T19:29:58.394Z"
   },
   {
    "duration": 8,
    "start_time": "2022-07-07T19:29:58.401Z"
   },
   {
    "duration": 6,
    "start_time": "2022-07-07T19:29:58.424Z"
   },
   {
    "duration": 10,
    "start_time": "2022-07-07T19:29:58.432Z"
   },
   {
    "duration": 10,
    "start_time": "2022-07-07T19:29:58.444Z"
   },
   {
    "duration": 72,
    "start_time": "2022-07-07T19:29:58.459Z"
   },
   {
    "duration": 3,
    "start_time": "2022-07-07T19:29:58.533Z"
   },
   {
    "duration": 9,
    "start_time": "2022-07-07T19:29:58.537Z"
   },
   {
    "duration": 1061,
    "start_time": "2022-07-07T19:29:58.548Z"
   },
   {
    "duration": 209,
    "start_time": "2022-07-07T19:29:59.610Z"
   },
   {
    "duration": 284,
    "start_time": "2022-07-07T19:29:59.823Z"
   },
   {
    "duration": 214,
    "start_time": "2022-07-07T19:30:00.109Z"
   },
   {
    "duration": 41,
    "start_time": "2022-07-07T19:30:00.325Z"
   },
   {
    "duration": 23,
    "start_time": "2022-07-07T19:30:40.542Z"
   },
   {
    "duration": 27,
    "start_time": "2022-07-07T19:31:21.380Z"
   },
   {
    "duration": 29,
    "start_time": "2022-07-07T19:31:42.643Z"
   },
   {
    "duration": 26,
    "start_time": "2022-07-07T19:31:54.731Z"
   },
   {
    "duration": 27,
    "start_time": "2022-07-07T19:39:51.456Z"
   },
   {
    "duration": 25,
    "start_time": "2022-07-07T19:56:21.477Z"
   },
   {
    "duration": 94,
    "start_time": "2022-07-07T20:12:31.446Z"
   },
   {
    "duration": 4,
    "start_time": "2022-07-07T20:12:46.258Z"
   },
   {
    "duration": 7,
    "start_time": "2022-07-07T20:13:25.495Z"
   },
   {
    "duration": 2,
    "start_time": "2022-07-07T20:13:43.263Z"
   },
   {
    "duration": 4,
    "start_time": "2022-07-07T20:13:53.029Z"
   },
   {
    "duration": 5,
    "start_time": "2022-07-07T20:23:48.586Z"
   },
   {
    "duration": 4,
    "start_time": "2022-07-07T20:25:42.287Z"
   },
   {
    "duration": 4,
    "start_time": "2022-07-07T20:25:56.096Z"
   },
   {
    "duration": 5,
    "start_time": "2022-07-07T20:30:27.168Z"
   },
   {
    "duration": 11,
    "start_time": "2022-07-07T20:31:52.903Z"
   },
   {
    "duration": 1144,
    "start_time": "2022-07-07T20:32:09.600Z"
   },
   {
    "duration": 170,
    "start_time": "2022-07-07T20:32:10.746Z"
   },
   {
    "duration": 147,
    "start_time": "2022-07-07T20:32:10.918Z"
   },
   {
    "duration": 91,
    "start_time": "2022-07-07T20:32:11.067Z"
   },
   {
    "duration": 15,
    "start_time": "2022-07-07T20:32:11.161Z"
   },
   {
    "duration": 31,
    "start_time": "2022-07-07T20:32:11.178Z"
   },
   {
    "duration": 7,
    "start_time": "2022-07-07T20:32:11.211Z"
   },
   {
    "duration": 27,
    "start_time": "2022-07-07T20:32:11.224Z"
   },
   {
    "duration": 21,
    "start_time": "2022-07-07T20:32:11.252Z"
   },
   {
    "duration": 21,
    "start_time": "2022-07-07T20:32:11.275Z"
   },
   {
    "duration": 28,
    "start_time": "2022-07-07T20:32:11.298Z"
   },
   {
    "duration": 14,
    "start_time": "2022-07-07T20:32:11.328Z"
   },
   {
    "duration": 171,
    "start_time": "2022-07-07T20:32:11.344Z"
   },
   {
    "duration": 5,
    "start_time": "2022-07-07T20:32:11.526Z"
   },
   {
    "duration": 14,
    "start_time": "2022-07-07T20:32:11.533Z"
   },
   {
    "duration": 92,
    "start_time": "2022-07-07T20:32:11.549Z"
   },
   {
    "duration": 87,
    "start_time": "2022-07-07T20:32:11.643Z"
   },
   {
    "duration": 169,
    "start_time": "2022-07-07T20:32:11.733Z"
   },
   {
    "duration": 75,
    "start_time": "2022-07-07T20:32:11.904Z"
   },
   {
    "duration": 10,
    "start_time": "2022-07-07T20:32:11.980Z"
   },
   {
    "duration": 42,
    "start_time": "2022-07-07T20:32:11.992Z"
   },
   {
    "duration": 9,
    "start_time": "2022-07-07T20:32:12.036Z"
   },
   {
    "duration": 21,
    "start_time": "2022-07-07T20:32:12.046Z"
   },
   {
    "duration": 10,
    "start_time": "2022-07-07T20:32:12.069Z"
   },
   {
    "duration": 44,
    "start_time": "2022-07-07T20:32:12.081Z"
   },
   {
    "duration": 9,
    "start_time": "2022-07-07T20:32:12.127Z"
   },
   {
    "duration": 33,
    "start_time": "2022-07-07T20:32:12.138Z"
   },
   {
    "duration": 24,
    "start_time": "2022-07-07T20:32:12.173Z"
   },
   {
    "duration": 36,
    "start_time": "2022-07-07T20:32:12.199Z"
   },
   {
    "duration": 22,
    "start_time": "2022-07-07T20:32:12.237Z"
   },
   {
    "duration": 9,
    "start_time": "2022-07-07T20:32:12.261Z"
   },
   {
    "duration": 24,
    "start_time": "2022-07-07T20:32:12.271Z"
   },
   {
    "duration": 30,
    "start_time": "2022-07-07T20:32:12.297Z"
   },
   {
    "duration": 6,
    "start_time": "2022-07-07T20:32:12.329Z"
   },
   {
    "duration": 24,
    "start_time": "2022-07-07T20:32:12.337Z"
   },
   {
    "duration": 30,
    "start_time": "2022-07-07T20:32:12.363Z"
   },
   {
    "duration": 43,
    "start_time": "2022-07-07T20:32:12.395Z"
   },
   {
    "duration": 5,
    "start_time": "2022-07-07T20:32:12.440Z"
   },
   {
    "duration": 21,
    "start_time": "2022-07-07T20:32:12.446Z"
   },
   {
    "duration": 8,
    "start_time": "2022-07-07T20:32:12.469Z"
   },
   {
    "duration": 11,
    "start_time": "2022-07-07T20:32:12.482Z"
   },
   {
    "duration": 31,
    "start_time": "2022-07-07T20:32:12.494Z"
   },
   {
    "duration": 21,
    "start_time": "2022-07-07T20:32:12.527Z"
   },
   {
    "duration": 12,
    "start_time": "2022-07-07T20:32:12.549Z"
   },
   {
    "duration": 4,
    "start_time": "2022-07-07T20:32:12.563Z"
   },
   {
    "duration": 7,
    "start_time": "2022-07-07T20:32:12.568Z"
   },
   {
    "duration": 18,
    "start_time": "2022-07-07T20:32:12.576Z"
   },
   {
    "duration": 4,
    "start_time": "2022-07-07T20:32:12.625Z"
   },
   {
    "duration": 10,
    "start_time": "2022-07-07T20:32:12.630Z"
   },
   {
    "duration": 136,
    "start_time": "2022-07-07T20:32:12.641Z"
   },
   {
    "duration": 11,
    "start_time": "2022-07-07T20:32:12.779Z"
   },
   {
    "duration": 5,
    "start_time": "2022-07-07T20:32:12.792Z"
   },
   {
    "duration": 18,
    "start_time": "2022-07-07T20:32:12.799Z"
   },
   {
    "duration": 10,
    "start_time": "2022-07-07T20:32:12.824Z"
   },
   {
    "duration": 14,
    "start_time": "2022-07-07T20:32:12.835Z"
   },
   {
    "duration": 10,
    "start_time": "2022-07-07T20:32:12.851Z"
   },
   {
    "duration": 14,
    "start_time": "2022-07-07T20:32:12.864Z"
   },
   {
    "duration": 21,
    "start_time": "2022-07-07T20:32:12.880Z"
   },
   {
    "duration": 27,
    "start_time": "2022-07-07T20:32:12.923Z"
   },
   {
    "duration": 26,
    "start_time": "2022-07-07T20:32:12.952Z"
   },
   {
    "duration": 51,
    "start_time": "2022-07-07T20:32:12.980Z"
   },
   {
    "duration": 11,
    "start_time": "2022-07-07T20:32:13.033Z"
   },
   {
    "duration": 12,
    "start_time": "2022-07-07T20:32:13.045Z"
   },
   {
    "duration": 9,
    "start_time": "2022-07-07T20:32:13.059Z"
   },
   {
    "duration": 22,
    "start_time": "2022-07-07T20:32:13.070Z"
   },
   {
    "duration": 43,
    "start_time": "2022-07-07T20:32:13.093Z"
   },
   {
    "duration": 151,
    "start_time": "2022-07-07T20:32:13.138Z"
   },
   {
    "duration": 152,
    "start_time": "2022-07-07T20:32:13.290Z"
   },
   {
    "duration": 193,
    "start_time": "2022-07-07T20:32:13.444Z"
   },
   {
    "duration": 157,
    "start_time": "2022-07-07T20:32:13.638Z"
   },
   {
    "duration": 172,
    "start_time": "2022-07-07T20:32:13.797Z"
   },
   {
    "duration": 193,
    "start_time": "2022-07-07T20:32:13.971Z"
   },
   {
    "duration": 169,
    "start_time": "2022-07-07T20:32:14.166Z"
   },
   {
    "duration": 276,
    "start_time": "2022-07-07T20:32:14.338Z"
   },
   {
    "duration": 172,
    "start_time": "2022-07-07T20:32:14.617Z"
   },
   {
    "duration": 3,
    "start_time": "2022-07-07T20:32:14.791Z"
   },
   {
    "duration": 16,
    "start_time": "2022-07-07T20:32:14.795Z"
   },
   {
    "duration": 13,
    "start_time": "2022-07-07T20:32:14.812Z"
   },
   {
    "duration": 7,
    "start_time": "2022-07-07T20:32:14.827Z"
   },
   {
    "duration": 7,
    "start_time": "2022-07-07T20:32:14.835Z"
   },
   {
    "duration": 128,
    "start_time": "2022-07-07T20:32:14.844Z"
   },
   {
    "duration": 0,
    "start_time": "2022-07-07T20:32:14.974Z"
   },
   {
    "duration": 0,
    "start_time": "2022-07-07T20:32:14.975Z"
   },
   {
    "duration": 0,
    "start_time": "2022-07-07T20:32:14.976Z"
   },
   {
    "duration": 0,
    "start_time": "2022-07-07T20:32:14.977Z"
   },
   {
    "duration": 0,
    "start_time": "2022-07-07T20:32:14.978Z"
   },
   {
    "duration": 0,
    "start_time": "2022-07-07T20:32:14.979Z"
   },
   {
    "duration": 0,
    "start_time": "2022-07-07T20:32:14.980Z"
   },
   {
    "duration": 0,
    "start_time": "2022-07-07T20:32:14.981Z"
   },
   {
    "duration": 0,
    "start_time": "2022-07-07T20:32:14.982Z"
   },
   {
    "duration": 0,
    "start_time": "2022-07-07T20:32:14.983Z"
   },
   {
    "duration": 0,
    "start_time": "2022-07-07T20:32:14.984Z"
   },
   {
    "duration": 1251,
    "start_time": "2022-07-08T07:01:55.845Z"
   },
   {
    "duration": 240,
    "start_time": "2022-07-08T07:01:57.098Z"
   },
   {
    "duration": 308,
    "start_time": "2022-07-08T07:01:57.340Z"
   },
   {
    "duration": 130,
    "start_time": "2022-07-08T07:01:57.650Z"
   },
   {
    "duration": 36,
    "start_time": "2022-07-08T07:01:57.782Z"
   },
   {
    "duration": 45,
    "start_time": "2022-07-08T07:01:57.819Z"
   },
   {
    "duration": 6,
    "start_time": "2022-07-08T07:01:57.865Z"
   },
   {
    "duration": 27,
    "start_time": "2022-07-08T07:01:57.873Z"
   },
   {
    "duration": 22,
    "start_time": "2022-07-08T07:01:57.902Z"
   },
   {
    "duration": 35,
    "start_time": "2022-07-08T07:01:57.928Z"
   },
   {
    "duration": 9,
    "start_time": "2022-07-08T07:01:57.965Z"
   },
   {
    "duration": 15,
    "start_time": "2022-07-08T07:01:57.976Z"
   },
   {
    "duration": 187,
    "start_time": "2022-07-08T07:01:57.993Z"
   },
   {
    "duration": 5,
    "start_time": "2022-07-08T07:01:58.183Z"
   },
   {
    "duration": 12,
    "start_time": "2022-07-08T07:01:58.190Z"
   },
   {
    "duration": 89,
    "start_time": "2022-07-08T07:01:58.203Z"
   },
   {
    "duration": 87,
    "start_time": "2022-07-08T07:01:58.294Z"
   },
   {
    "duration": 148,
    "start_time": "2022-07-08T07:01:58.383Z"
   },
   {
    "duration": 75,
    "start_time": "2022-07-08T07:01:58.533Z"
   },
   {
    "duration": 11,
    "start_time": "2022-07-08T07:01:58.610Z"
   },
   {
    "duration": 41,
    "start_time": "2022-07-08T07:01:58.623Z"
   },
   {
    "duration": 10,
    "start_time": "2022-07-08T07:01:58.666Z"
   },
   {
    "duration": 20,
    "start_time": "2022-07-08T07:01:58.677Z"
   },
   {
    "duration": 10,
    "start_time": "2022-07-08T07:01:58.698Z"
   },
   {
    "duration": 40,
    "start_time": "2022-07-08T07:01:58.710Z"
   },
   {
    "duration": 9,
    "start_time": "2022-07-08T07:01:58.751Z"
   },
   {
    "duration": 35,
    "start_time": "2022-07-08T07:01:58.762Z"
   },
   {
    "duration": 22,
    "start_time": "2022-07-08T07:01:58.801Z"
   },
   {
    "duration": 26,
    "start_time": "2022-07-08T07:01:58.824Z"
   },
   {
    "duration": 30,
    "start_time": "2022-07-08T07:01:58.852Z"
   },
   {
    "duration": 11,
    "start_time": "2022-07-08T07:01:58.884Z"
   },
   {
    "duration": 51,
    "start_time": "2022-07-08T07:01:58.897Z"
   },
   {
    "duration": 6,
    "start_time": "2022-07-08T07:01:58.950Z"
   },
   {
    "duration": 19,
    "start_time": "2022-07-08T07:01:58.958Z"
   },
   {
    "duration": 13,
    "start_time": "2022-07-08T07:01:58.978Z"
   },
   {
    "duration": 29,
    "start_time": "2022-07-08T07:01:58.992Z"
   },
   {
    "duration": 36,
    "start_time": "2022-07-08T07:01:59.022Z"
   },
   {
    "duration": 3,
    "start_time": "2022-07-08T07:01:59.060Z"
   },
   {
    "duration": 23,
    "start_time": "2022-07-08T07:01:59.065Z"
   },
   {
    "duration": 7,
    "start_time": "2022-07-08T07:01:59.090Z"
   },
   {
    "duration": 11,
    "start_time": "2022-07-08T07:01:59.099Z"
   },
   {
    "duration": 34,
    "start_time": "2022-07-08T07:01:59.112Z"
   },
   {
    "duration": 21,
    "start_time": "2022-07-08T07:01:59.148Z"
   },
   {
    "duration": 11,
    "start_time": "2022-07-08T07:01:59.171Z"
   },
   {
    "duration": 3,
    "start_time": "2022-07-08T07:01:59.184Z"
   },
   {
    "duration": 6,
    "start_time": "2022-07-08T07:01:59.189Z"
   },
   {
    "duration": 20,
    "start_time": "2022-07-08T07:01:59.196Z"
   },
   {
    "duration": 30,
    "start_time": "2022-07-08T07:01:59.218Z"
   },
   {
    "duration": 7,
    "start_time": "2022-07-08T07:01:59.249Z"
   },
   {
    "duration": 133,
    "start_time": "2022-07-08T07:01:59.257Z"
   },
   {
    "duration": 10,
    "start_time": "2022-07-08T07:01:59.392Z"
   },
   {
    "duration": 2,
    "start_time": "2022-07-08T07:01:59.404Z"
   },
   {
    "duration": 13,
    "start_time": "2022-07-08T07:01:59.407Z"
   },
   {
    "duration": 28,
    "start_time": "2022-07-08T07:01:59.422Z"
   },
   {
    "duration": 9,
    "start_time": "2022-07-08T07:01:59.451Z"
   },
   {
    "duration": 6,
    "start_time": "2022-07-08T07:01:59.461Z"
   },
   {
    "duration": 16,
    "start_time": "2022-07-08T07:01:59.469Z"
   },
   {
    "duration": 25,
    "start_time": "2022-07-08T07:01:59.487Z"
   },
   {
    "duration": 45,
    "start_time": "2022-07-08T07:01:59.513Z"
   },
   {
    "duration": 26,
    "start_time": "2022-07-08T07:01:59.559Z"
   },
   {
    "duration": 27,
    "start_time": "2022-07-08T07:01:59.586Z"
   },
   {
    "duration": 36,
    "start_time": "2022-07-08T07:01:59.615Z"
   },
   {
    "duration": 12,
    "start_time": "2022-07-08T07:01:59.652Z"
   },
   {
    "duration": 8,
    "start_time": "2022-07-08T07:01:59.666Z"
   },
   {
    "duration": 19,
    "start_time": "2022-07-08T07:01:59.675Z"
   },
   {
    "duration": 18,
    "start_time": "2022-07-08T07:01:59.696Z"
   },
   {
    "duration": 177,
    "start_time": "2022-07-08T07:01:59.716Z"
   },
   {
    "duration": 156,
    "start_time": "2022-07-08T07:01:59.895Z"
   },
   {
    "duration": 189,
    "start_time": "2022-07-08T07:02:00.053Z"
   },
   {
    "duration": 159,
    "start_time": "2022-07-08T07:02:00.246Z"
   },
   {
    "duration": 181,
    "start_time": "2022-07-08T07:02:00.407Z"
   },
   {
    "duration": 196,
    "start_time": "2022-07-08T07:02:00.589Z"
   },
   {
    "duration": 245,
    "start_time": "2022-07-08T07:02:00.787Z"
   },
   {
    "duration": 160,
    "start_time": "2022-07-08T07:02:01.033Z"
   },
   {
    "duration": 179,
    "start_time": "2022-07-08T07:02:01.196Z"
   },
   {
    "duration": 3,
    "start_time": "2022-07-08T07:02:01.377Z"
   },
   {
    "duration": 29,
    "start_time": "2022-07-08T07:02:01.381Z"
   },
   {
    "duration": 31,
    "start_time": "2022-07-08T07:02:01.412Z"
   },
   {
    "duration": 21,
    "start_time": "2022-07-08T07:02:01.445Z"
   },
   {
    "duration": 37,
    "start_time": "2022-07-08T07:02:01.468Z"
   },
   {
    "duration": 123,
    "start_time": "2022-07-08T07:02:01.507Z"
   },
   {
    "duration": 0,
    "start_time": "2022-07-08T07:02:01.632Z"
   },
   {
    "duration": 0,
    "start_time": "2022-07-08T07:02:01.633Z"
   },
   {
    "duration": 0,
    "start_time": "2022-07-08T07:02:01.634Z"
   },
   {
    "duration": 0,
    "start_time": "2022-07-08T07:02:01.636Z"
   },
   {
    "duration": 0,
    "start_time": "2022-07-08T07:02:01.646Z"
   },
   {
    "duration": 0,
    "start_time": "2022-07-08T07:02:01.647Z"
   },
   {
    "duration": 0,
    "start_time": "2022-07-08T07:02:01.648Z"
   },
   {
    "duration": 0,
    "start_time": "2022-07-08T07:02:01.648Z"
   },
   {
    "duration": 0,
    "start_time": "2022-07-08T07:02:01.649Z"
   },
   {
    "duration": 0,
    "start_time": "2022-07-08T07:02:01.650Z"
   },
   {
    "duration": 0,
    "start_time": "2022-07-08T07:02:01.651Z"
   },
   {
    "duration": 50,
    "start_time": "2022-07-08T15:16:27.960Z"
   },
   {
    "duration": 1171,
    "start_time": "2022-07-08T15:16:34.849Z"
   },
   {
    "duration": 163,
    "start_time": "2022-07-08T15:16:36.022Z"
   },
   {
    "duration": 146,
    "start_time": "2022-07-08T15:16:36.186Z"
   },
   {
    "duration": 89,
    "start_time": "2022-07-08T15:16:36.335Z"
   },
   {
    "duration": 14,
    "start_time": "2022-07-08T15:16:36.427Z"
   },
   {
    "duration": 23,
    "start_time": "2022-07-08T15:16:36.442Z"
   },
   {
    "duration": 7,
    "start_time": "2022-07-08T15:16:36.467Z"
   },
   {
    "duration": 28,
    "start_time": "2022-07-08T15:16:36.476Z"
   },
   {
    "duration": 22,
    "start_time": "2022-07-08T15:16:36.506Z"
   },
   {
    "duration": 45,
    "start_time": "2022-07-08T15:16:36.530Z"
   },
   {
    "duration": 11,
    "start_time": "2022-07-08T15:16:36.577Z"
   },
   {
    "duration": 13,
    "start_time": "2022-07-08T15:16:36.590Z"
   },
   {
    "duration": 189,
    "start_time": "2022-07-08T15:16:36.605Z"
   },
   {
    "duration": 5,
    "start_time": "2022-07-08T15:16:36.798Z"
   },
   {
    "duration": 214,
    "start_time": "2022-07-08T15:16:36.805Z"
   },
   {
    "duration": 11,
    "start_time": "2022-07-08T15:16:37.021Z"
   },
   {
    "duration": 92,
    "start_time": "2022-07-08T15:16:37.033Z"
   },
   {
    "duration": 87,
    "start_time": "2022-07-08T15:16:37.127Z"
   },
   {
    "duration": 172,
    "start_time": "2022-07-08T15:16:37.217Z"
   },
   {
    "duration": 25,
    "start_time": "2022-07-08T15:16:37.391Z"
   },
   {
    "duration": 81,
    "start_time": "2022-07-08T15:16:37.418Z"
   },
   {
    "duration": 10,
    "start_time": "2022-07-08T15:16:37.501Z"
   },
   {
    "duration": 22,
    "start_time": "2022-07-08T15:16:37.513Z"
   },
   {
    "duration": 27,
    "start_time": "2022-07-08T15:16:37.537Z"
   },
   {
    "duration": 16,
    "start_time": "2022-07-08T15:16:37.566Z"
   },
   {
    "duration": 9,
    "start_time": "2022-07-08T15:16:37.584Z"
   },
   {
    "duration": 19,
    "start_time": "2022-07-08T15:16:37.595Z"
   },
   {
    "duration": 9,
    "start_time": "2022-07-08T15:16:37.616Z"
   },
   {
    "duration": 54,
    "start_time": "2022-07-08T15:16:37.626Z"
   },
   {
    "duration": 23,
    "start_time": "2022-07-08T15:16:37.681Z"
   },
   {
    "duration": 11,
    "start_time": "2022-07-08T15:16:37.705Z"
   },
   {
    "duration": 20,
    "start_time": "2022-07-08T15:16:37.717Z"
   },
   {
    "duration": 31,
    "start_time": "2022-07-08T15:16:37.738Z"
   },
   {
    "duration": 21,
    "start_time": "2022-07-08T15:16:37.771Z"
   },
   {
    "duration": 4,
    "start_time": "2022-07-08T15:16:37.794Z"
   },
   {
    "duration": 8,
    "start_time": "2022-07-08T15:16:37.799Z"
   },
   {
    "duration": 12,
    "start_time": "2022-07-08T15:16:37.809Z"
   },
   {
    "duration": 62,
    "start_time": "2022-07-08T15:16:37.822Z"
   },
   {
    "duration": 21,
    "start_time": "2022-07-08T15:16:37.886Z"
   },
   {
    "duration": 4,
    "start_time": "2022-07-08T15:16:37.909Z"
   },
   {
    "duration": 24,
    "start_time": "2022-07-08T15:16:37.918Z"
   },
   {
    "duration": 24,
    "start_time": "2022-07-08T15:16:37.944Z"
   },
   {
    "duration": 20,
    "start_time": "2022-07-08T15:16:37.970Z"
   },
   {
    "duration": 8,
    "start_time": "2022-07-08T15:16:37.991Z"
   },
   {
    "duration": 23,
    "start_time": "2022-07-08T15:16:38.001Z"
   },
   {
    "duration": 38,
    "start_time": "2022-07-08T15:16:38.026Z"
   },
   {
    "duration": 4,
    "start_time": "2022-07-08T15:16:38.066Z"
   },
   {
    "duration": 6,
    "start_time": "2022-07-08T15:16:38.072Z"
   },
   {
    "duration": 18,
    "start_time": "2022-07-08T15:16:38.080Z"
   },
   {
    "duration": 5,
    "start_time": "2022-07-08T15:16:38.100Z"
   },
   {
    "duration": 11,
    "start_time": "2022-07-08T15:16:38.106Z"
   },
   {
    "duration": 149,
    "start_time": "2022-07-08T15:16:38.118Z"
   },
   {
    "duration": 13,
    "start_time": "2022-07-08T15:16:38.268Z"
   },
   {
    "duration": 3,
    "start_time": "2022-07-08T15:16:38.283Z"
   },
   {
    "duration": 13,
    "start_time": "2022-07-08T15:16:38.288Z"
   },
   {
    "duration": 10,
    "start_time": "2022-07-08T15:16:38.303Z"
   },
   {
    "duration": 10,
    "start_time": "2022-07-08T15:16:38.315Z"
   },
   {
    "duration": 9,
    "start_time": "2022-07-08T15:16:38.327Z"
   },
   {
    "duration": 26,
    "start_time": "2022-07-08T15:16:38.364Z"
   },
   {
    "duration": 21,
    "start_time": "2022-07-08T15:16:38.392Z"
   },
   {
    "duration": 27,
    "start_time": "2022-07-08T15:16:38.415Z"
   },
   {
    "duration": 45,
    "start_time": "2022-07-08T15:16:38.443Z"
   },
   {
    "duration": 29,
    "start_time": "2022-07-08T15:16:38.489Z"
   },
   {
    "duration": 10,
    "start_time": "2022-07-08T15:16:38.520Z"
   },
   {
    "duration": 39,
    "start_time": "2022-07-08T15:16:38.531Z"
   },
   {
    "duration": 10,
    "start_time": "2022-07-08T15:16:38.572Z"
   },
   {
    "duration": 22,
    "start_time": "2022-07-08T15:16:38.584Z"
   },
   {
    "duration": 18,
    "start_time": "2022-07-08T15:16:38.608Z"
   },
   {
    "duration": 196,
    "start_time": "2022-07-08T15:16:38.628Z"
   },
   {
    "duration": 179,
    "start_time": "2022-07-08T15:16:38.826Z"
   },
   {
    "duration": 200,
    "start_time": "2022-07-08T15:16:39.006Z"
   },
   {
    "duration": 158,
    "start_time": "2022-07-08T15:16:39.208Z"
   },
   {
    "duration": 184,
    "start_time": "2022-07-08T15:16:39.367Z"
   },
   {
    "duration": 282,
    "start_time": "2022-07-08T15:16:39.553Z"
   },
   {
    "duration": 159,
    "start_time": "2022-07-08T15:16:39.837Z"
   },
   {
    "duration": 153,
    "start_time": "2022-07-08T15:16:39.997Z"
   },
   {
    "duration": 166,
    "start_time": "2022-07-08T15:16:40.151Z"
   },
   {
    "duration": 3,
    "start_time": "2022-07-08T15:16:40.319Z"
   },
   {
    "duration": 14,
    "start_time": "2022-07-08T15:16:40.324Z"
   },
   {
    "duration": 8,
    "start_time": "2022-07-08T15:16:40.340Z"
   },
   {
    "duration": 16,
    "start_time": "2022-07-08T15:16:40.349Z"
   },
   {
    "duration": 19,
    "start_time": "2022-07-08T15:16:40.366Z"
   },
   {
    "duration": 104,
    "start_time": "2022-07-08T15:16:40.387Z"
   },
   {
    "duration": 0,
    "start_time": "2022-07-08T15:16:40.493Z"
   },
   {
    "duration": 0,
    "start_time": "2022-07-08T15:16:40.494Z"
   },
   {
    "duration": 0,
    "start_time": "2022-07-08T15:16:40.496Z"
   },
   {
    "duration": 0,
    "start_time": "2022-07-08T15:16:40.497Z"
   },
   {
    "duration": 0,
    "start_time": "2022-07-08T15:16:40.498Z"
   },
   {
    "duration": 0,
    "start_time": "2022-07-08T15:16:40.499Z"
   },
   {
    "duration": 0,
    "start_time": "2022-07-08T15:16:40.500Z"
   },
   {
    "duration": 0,
    "start_time": "2022-07-08T15:16:40.501Z"
   },
   {
    "duration": 0,
    "start_time": "2022-07-08T15:16:40.502Z"
   },
   {
    "duration": 1,
    "start_time": "2022-07-08T15:16:40.503Z"
   },
   {
    "duration": 0,
    "start_time": "2022-07-08T15:16:40.505Z"
   },
   {
    "duration": 6,
    "start_time": "2022-07-08T15:17:57.865Z"
   },
   {
    "duration": 4,
    "start_time": "2022-07-08T15:18:03.690Z"
   },
   {
    "duration": 5,
    "start_time": "2022-07-08T15:18:16.872Z"
   },
   {
    "duration": 51,
    "start_time": "2022-07-08T15:22:22.347Z"
   },
   {
    "duration": 17,
    "start_time": "2022-07-08T15:22:38.059Z"
   },
   {
    "duration": 24,
    "start_time": "2022-07-08T15:26:27.566Z"
   },
   {
    "duration": 4,
    "start_time": "2022-07-08T15:26:37.644Z"
   },
   {
    "duration": 4,
    "start_time": "2022-07-08T15:27:28.055Z"
   },
   {
    "duration": 20,
    "start_time": "2022-07-08T15:29:23.216Z"
   },
   {
    "duration": 20,
    "start_time": "2022-07-08T15:29:41.346Z"
   },
   {
    "duration": 19,
    "start_time": "2022-07-08T15:29:45.300Z"
   },
   {
    "duration": 7,
    "start_time": "2022-07-08T15:33:07.146Z"
   },
   {
    "duration": 8,
    "start_time": "2022-07-08T15:34:47.527Z"
   },
   {
    "duration": 94,
    "start_time": "2022-07-08T15:42:04.127Z"
   },
   {
    "duration": 1289,
    "start_time": "2022-07-08T15:44:07.154Z"
   },
   {
    "duration": 193,
    "start_time": "2022-07-08T15:44:08.446Z"
   },
   {
    "duration": 193,
    "start_time": "2022-07-08T15:44:08.641Z"
   },
   {
    "duration": 135,
    "start_time": "2022-07-08T15:44:08.837Z"
   },
   {
    "duration": 23,
    "start_time": "2022-07-08T15:44:08.974Z"
   },
   {
    "duration": 24,
    "start_time": "2022-07-08T15:44:08.999Z"
   },
   {
    "duration": 6,
    "start_time": "2022-07-08T15:44:09.025Z"
   },
   {
    "duration": 54,
    "start_time": "2022-07-08T15:44:09.033Z"
   },
   {
    "duration": 22,
    "start_time": "2022-07-08T15:44:09.089Z"
   },
   {
    "duration": 20,
    "start_time": "2022-07-08T15:44:09.114Z"
   },
   {
    "duration": 40,
    "start_time": "2022-07-08T15:44:09.136Z"
   },
   {
    "duration": 23,
    "start_time": "2022-07-08T15:44:09.177Z"
   },
   {
    "duration": 191,
    "start_time": "2022-07-08T15:44:09.202Z"
   },
   {
    "duration": 7,
    "start_time": "2022-07-08T15:44:09.395Z"
   },
   {
    "duration": 242,
    "start_time": "2022-07-08T15:44:09.404Z"
   },
   {
    "duration": 19,
    "start_time": "2022-07-08T15:44:09.648Z"
   },
   {
    "duration": 96,
    "start_time": "2022-07-08T15:44:09.670Z"
   },
   {
    "duration": 114,
    "start_time": "2022-07-08T15:44:09.768Z"
   },
   {
    "duration": 175,
    "start_time": "2022-07-08T15:44:09.884Z"
   },
   {
    "duration": 28,
    "start_time": "2022-07-08T15:44:10.066Z"
   },
   {
    "duration": 92,
    "start_time": "2022-07-08T15:44:10.096Z"
   },
   {
    "duration": 11,
    "start_time": "2022-07-08T15:44:10.190Z"
   },
   {
    "duration": 21,
    "start_time": "2022-07-08T15:44:10.202Z"
   },
   {
    "duration": 10,
    "start_time": "2022-07-08T15:44:10.225Z"
   },
   {
    "duration": 18,
    "start_time": "2022-07-08T15:44:10.264Z"
   },
   {
    "duration": 14,
    "start_time": "2022-07-08T15:44:10.285Z"
   },
   {
    "duration": 17,
    "start_time": "2022-07-08T15:44:10.300Z"
   },
   {
    "duration": 9,
    "start_time": "2022-07-08T15:44:10.321Z"
   },
   {
    "duration": 92,
    "start_time": "2022-07-08T15:44:10.332Z"
   },
   {
    "duration": 22,
    "start_time": "2022-07-08T15:44:10.425Z"
   },
   {
    "duration": 16,
    "start_time": "2022-07-08T15:44:10.449Z"
   },
   {
    "duration": 35,
    "start_time": "2022-07-08T15:44:10.467Z"
   },
   {
    "duration": 10,
    "start_time": "2022-07-08T15:44:10.505Z"
   },
   {
    "duration": 22,
    "start_time": "2022-07-08T15:44:10.518Z"
   },
   {
    "duration": 27,
    "start_time": "2022-07-08T15:44:10.542Z"
   },
   {
    "duration": 23,
    "start_time": "2022-07-08T15:44:10.571Z"
   },
   {
    "duration": 12,
    "start_time": "2022-07-08T15:44:10.596Z"
   },
   {
    "duration": 30,
    "start_time": "2022-07-08T15:44:10.610Z"
   },
   {
    "duration": 5,
    "start_time": "2022-07-08T15:44:10.642Z"
   },
   {
    "duration": 31,
    "start_time": "2022-07-08T15:44:10.663Z"
   },
   {
    "duration": 43,
    "start_time": "2022-07-08T15:44:10.697Z"
   },
   {
    "duration": 5,
    "start_time": "2022-07-08T15:44:10.742Z"
   },
   {
    "duration": 21,
    "start_time": "2022-07-08T15:44:10.749Z"
   },
   {
    "duration": 12,
    "start_time": "2022-07-08T15:44:10.772Z"
   },
   {
    "duration": 23,
    "start_time": "2022-07-08T15:44:10.787Z"
   },
   {
    "duration": 23,
    "start_time": "2022-07-08T15:44:10.812Z"
   },
   {
    "duration": 26,
    "start_time": "2022-07-08T15:44:10.837Z"
   },
   {
    "duration": 16,
    "start_time": "2022-07-08T15:44:10.866Z"
   },
   {
    "duration": 19,
    "start_time": "2022-07-08T15:44:10.884Z"
   },
   {
    "duration": 13,
    "start_time": "2022-07-08T15:44:10.905Z"
   },
   {
    "duration": 21,
    "start_time": "2022-07-08T15:44:10.919Z"
   },
   {
    "duration": 11,
    "start_time": "2022-07-08T15:44:10.941Z"
   },
   {
    "duration": 10,
    "start_time": "2022-07-08T15:44:10.954Z"
   },
   {
    "duration": 160,
    "start_time": "2022-07-08T15:44:10.966Z"
   },
   {
    "duration": 14,
    "start_time": "2022-07-08T15:44:11.127Z"
   },
   {
    "duration": 2,
    "start_time": "2022-07-08T15:44:11.143Z"
   },
   {
    "duration": 16,
    "start_time": "2022-07-08T15:44:11.164Z"
   },
   {
    "duration": 22,
    "start_time": "2022-07-08T15:44:11.183Z"
   },
   {
    "duration": 10,
    "start_time": "2022-07-08T15:44:11.207Z"
   },
   {
    "duration": 10,
    "start_time": "2022-07-08T15:44:11.219Z"
   },
   {
    "duration": 35,
    "start_time": "2022-07-08T15:44:11.232Z"
   },
   {
    "duration": 98,
    "start_time": "2022-07-08T15:44:11.270Z"
   },
   {
    "duration": 39,
    "start_time": "2022-07-08T15:44:11.370Z"
   },
   {
    "duration": 27,
    "start_time": "2022-07-08T15:44:11.410Z"
   },
   {
    "duration": 54,
    "start_time": "2022-07-08T15:44:11.439Z"
   },
   {
    "duration": 10,
    "start_time": "2022-07-08T15:44:11.495Z"
   },
   {
    "duration": 12,
    "start_time": "2022-07-08T15:44:11.507Z"
   },
   {
    "duration": 12,
    "start_time": "2022-07-08T15:44:11.521Z"
   },
   {
    "duration": 52,
    "start_time": "2022-07-08T15:44:11.535Z"
   },
   {
    "duration": 20,
    "start_time": "2022-07-08T15:44:11.589Z"
   },
   {
    "duration": 190,
    "start_time": "2022-07-08T15:44:11.611Z"
   },
   {
    "duration": 186,
    "start_time": "2022-07-08T15:44:11.803Z"
   },
   {
    "duration": 223,
    "start_time": "2022-07-08T15:44:11.991Z"
   },
   {
    "duration": 187,
    "start_time": "2022-07-08T15:44:12.215Z"
   },
   {
    "duration": 351,
    "start_time": "2022-07-08T15:44:12.405Z"
   },
   {
    "duration": 220,
    "start_time": "2022-07-08T15:44:12.758Z"
   },
   {
    "duration": 185,
    "start_time": "2022-07-08T15:44:12.981Z"
   },
   {
    "duration": 179,
    "start_time": "2022-07-08T15:44:13.168Z"
   },
   {
    "duration": 202,
    "start_time": "2022-07-08T15:44:13.349Z"
   },
   {
    "duration": 35,
    "start_time": "2022-07-08T15:44:13.553Z"
   },
   {
    "duration": 9,
    "start_time": "2022-07-08T15:44:13.590Z"
   },
   {
    "duration": 6,
    "start_time": "2022-07-08T15:44:13.604Z"
   },
   {
    "duration": 7,
    "start_time": "2022-07-08T15:44:13.612Z"
   },
   {
    "duration": 8,
    "start_time": "2022-07-08T15:44:13.621Z"
   },
   {
    "duration": 8,
    "start_time": "2022-07-08T15:44:13.630Z"
   },
   {
    "duration": 29,
    "start_time": "2022-07-08T15:44:13.640Z"
   },
   {
    "duration": 127,
    "start_time": "2022-07-08T15:44:13.672Z"
   },
   {
    "duration": 0,
    "start_time": "2022-07-08T15:44:13.801Z"
   },
   {
    "duration": 0,
    "start_time": "2022-07-08T15:44:13.802Z"
   },
   {
    "duration": 0,
    "start_time": "2022-07-08T15:44:13.804Z"
   },
   {
    "duration": 0,
    "start_time": "2022-07-08T15:44:13.805Z"
   },
   {
    "duration": 0,
    "start_time": "2022-07-08T15:44:13.807Z"
   },
   {
    "duration": 0,
    "start_time": "2022-07-08T15:44:13.808Z"
   },
   {
    "duration": 0,
    "start_time": "2022-07-08T15:44:13.810Z"
   },
   {
    "duration": 0,
    "start_time": "2022-07-08T15:44:13.811Z"
   },
   {
    "duration": 0,
    "start_time": "2022-07-08T15:44:13.812Z"
   },
   {
    "duration": 0,
    "start_time": "2022-07-08T15:44:13.813Z"
   },
   {
    "duration": 1,
    "start_time": "2022-07-08T15:44:13.814Z"
   },
   {
    "duration": 0,
    "start_time": "2022-07-08T15:44:13.816Z"
   },
   {
    "duration": 1189,
    "start_time": "2022-07-08T16:13:36.526Z"
   },
   {
    "duration": 180,
    "start_time": "2022-07-08T16:13:37.718Z"
   },
   {
    "duration": 160,
    "start_time": "2022-07-08T16:13:37.900Z"
   },
   {
    "duration": 101,
    "start_time": "2022-07-08T16:13:38.062Z"
   },
   {
    "duration": 24,
    "start_time": "2022-07-08T16:13:38.165Z"
   },
   {
    "duration": 35,
    "start_time": "2022-07-08T16:13:38.190Z"
   },
   {
    "duration": 6,
    "start_time": "2022-07-08T16:13:38.227Z"
   },
   {
    "duration": 28,
    "start_time": "2022-07-08T16:13:38.235Z"
   },
   {
    "duration": 22,
    "start_time": "2022-07-08T16:13:38.265Z"
   },
   {
    "duration": 23,
    "start_time": "2022-07-08T16:13:38.297Z"
   },
   {
    "duration": 11,
    "start_time": "2022-07-08T16:13:38.321Z"
   },
   {
    "duration": 16,
    "start_time": "2022-07-08T16:13:38.334Z"
   },
   {
    "duration": 207,
    "start_time": "2022-07-08T16:13:38.352Z"
   },
   {
    "duration": 5,
    "start_time": "2022-07-08T16:13:38.561Z"
   },
   {
    "duration": 243,
    "start_time": "2022-07-08T16:13:38.568Z"
   },
   {
    "duration": 11,
    "start_time": "2022-07-08T16:13:38.813Z"
   },
   {
    "duration": 104,
    "start_time": "2022-07-08T16:13:38.826Z"
   },
   {
    "duration": 101,
    "start_time": "2022-07-08T16:13:38.932Z"
   },
   {
    "duration": 168,
    "start_time": "2022-07-08T16:13:39.036Z"
   },
   {
    "duration": 20,
    "start_time": "2022-07-08T16:13:39.207Z"
   },
   {
    "duration": 87,
    "start_time": "2022-07-08T16:13:39.229Z"
   },
   {
    "duration": 12,
    "start_time": "2022-07-08T16:13:39.318Z"
   },
   {
    "duration": 24,
    "start_time": "2022-07-08T16:13:39.332Z"
   },
   {
    "duration": 11,
    "start_time": "2022-07-08T16:13:39.358Z"
   },
   {
    "duration": 45,
    "start_time": "2022-07-08T16:13:39.371Z"
   },
   {
    "duration": 10,
    "start_time": "2022-07-08T16:13:39.417Z"
   },
   {
    "duration": 19,
    "start_time": "2022-07-08T16:13:39.429Z"
   },
   {
    "duration": 8,
    "start_time": "2022-07-08T16:13:39.452Z"
   },
   {
    "duration": 50,
    "start_time": "2022-07-08T16:13:39.462Z"
   },
   {
    "duration": 22,
    "start_time": "2022-07-08T16:13:39.513Z"
   },
   {
    "duration": 12,
    "start_time": "2022-07-08T16:13:39.536Z"
   },
   {
    "duration": 21,
    "start_time": "2022-07-08T16:13:39.550Z"
   },
   {
    "duration": 11,
    "start_time": "2022-07-08T16:13:39.597Z"
   },
   {
    "duration": 27,
    "start_time": "2022-07-08T16:13:39.610Z"
   },
   {
    "duration": 4,
    "start_time": "2022-07-08T16:13:39.639Z"
   },
   {
    "duration": 13,
    "start_time": "2022-07-08T16:13:39.644Z"
   },
   {
    "duration": 13,
    "start_time": "2022-07-08T16:13:39.659Z"
   },
   {
    "duration": 52,
    "start_time": "2022-07-08T16:13:39.674Z"
   },
   {
    "duration": 4,
    "start_time": "2022-07-08T16:13:39.728Z"
   },
   {
    "duration": 5,
    "start_time": "2022-07-08T16:13:39.734Z"
   },
   {
    "duration": 23,
    "start_time": "2022-07-08T16:13:39.741Z"
   },
   {
    "duration": 3,
    "start_time": "2022-07-08T16:13:39.766Z"
   },
   {
    "duration": 43,
    "start_time": "2022-07-08T16:13:39.771Z"
   },
   {
    "duration": 6,
    "start_time": "2022-07-08T16:13:39.816Z"
   },
   {
    "duration": 12,
    "start_time": "2022-07-08T16:13:39.823Z"
   },
   {
    "duration": 6,
    "start_time": "2022-07-08T16:13:39.837Z"
   },
   {
    "duration": 53,
    "start_time": "2022-07-08T16:13:39.845Z"
   },
   {
    "duration": 13,
    "start_time": "2022-07-08T16:13:39.900Z"
   },
   {
    "duration": 4,
    "start_time": "2022-07-08T16:13:39.914Z"
   },
   {
    "duration": 6,
    "start_time": "2022-07-08T16:13:39.919Z"
   },
   {
    "duration": 17,
    "start_time": "2022-07-08T16:13:39.926Z"
   },
   {
    "duration": 8,
    "start_time": "2022-07-08T16:13:39.945Z"
   },
   {
    "duration": 6,
    "start_time": "2022-07-08T16:13:39.954Z"
   },
   {
    "duration": 170,
    "start_time": "2022-07-08T16:13:39.962Z"
   },
   {
    "duration": 13,
    "start_time": "2022-07-08T16:13:40.134Z"
   },
   {
    "duration": 3,
    "start_time": "2022-07-08T16:13:40.148Z"
   },
   {
    "duration": 15,
    "start_time": "2022-07-08T16:13:40.153Z"
   },
   {
    "duration": 33,
    "start_time": "2022-07-08T16:13:40.170Z"
   },
   {
    "duration": 6,
    "start_time": "2022-07-08T16:13:40.205Z"
   },
   {
    "duration": 5,
    "start_time": "2022-07-08T16:13:40.213Z"
   },
   {
    "duration": 16,
    "start_time": "2022-07-08T16:13:40.220Z"
   },
   {
    "duration": 80,
    "start_time": "2022-07-08T16:13:40.238Z"
   },
   {
    "duration": 31,
    "start_time": "2022-07-08T16:13:40.319Z"
   },
   {
    "duration": 47,
    "start_time": "2022-07-08T16:13:40.352Z"
   },
   {
    "duration": 30,
    "start_time": "2022-07-08T16:13:40.401Z"
   },
   {
    "duration": 9,
    "start_time": "2022-07-08T16:13:40.433Z"
   },
   {
    "duration": 9,
    "start_time": "2022-07-08T16:13:40.444Z"
   },
   {
    "duration": 10,
    "start_time": "2022-07-08T16:13:40.455Z"
   },
   {
    "duration": 51,
    "start_time": "2022-07-08T16:13:40.466Z"
   },
   {
    "duration": 26,
    "start_time": "2022-07-08T16:13:40.519Z"
   },
   {
    "duration": 180,
    "start_time": "2022-07-08T16:13:40.547Z"
   },
   {
    "duration": 174,
    "start_time": "2022-07-08T16:13:40.728Z"
   },
   {
    "duration": 207,
    "start_time": "2022-07-08T16:13:40.903Z"
   },
   {
    "duration": 180,
    "start_time": "2022-07-08T16:13:41.112Z"
   },
   {
    "duration": 265,
    "start_time": "2022-07-08T16:13:41.298Z"
   },
   {
    "duration": 209,
    "start_time": "2022-07-08T16:13:41.565Z"
   },
   {
    "duration": 171,
    "start_time": "2022-07-08T16:13:41.776Z"
   },
   {
    "duration": 178,
    "start_time": "2022-07-08T16:13:41.948Z"
   },
   {
    "duration": 190,
    "start_time": "2022-07-08T16:13:42.128Z"
   },
   {
    "duration": 21,
    "start_time": "2022-07-08T16:13:42.321Z"
   },
   {
    "duration": 6,
    "start_time": "2022-07-08T16:13:42.344Z"
   },
   {
    "duration": 3,
    "start_time": "2022-07-08T16:13:42.356Z"
   },
   {
    "duration": 5,
    "start_time": "2022-07-08T16:13:42.361Z"
   },
   {
    "duration": 31,
    "start_time": "2022-07-08T16:13:42.368Z"
   },
   {
    "duration": 5,
    "start_time": "2022-07-08T16:13:42.400Z"
   },
   {
    "duration": 6,
    "start_time": "2022-07-08T16:13:42.406Z"
   },
   {
    "duration": 121,
    "start_time": "2022-07-08T16:13:42.414Z"
   },
   {
    "duration": 0,
    "start_time": "2022-07-08T16:13:42.537Z"
   },
   {
    "duration": 0,
    "start_time": "2022-07-08T16:13:42.539Z"
   },
   {
    "duration": 0,
    "start_time": "2022-07-08T16:13:42.541Z"
   },
   {
    "duration": 0,
    "start_time": "2022-07-08T16:13:42.542Z"
   },
   {
    "duration": 0,
    "start_time": "2022-07-08T16:13:42.544Z"
   },
   {
    "duration": 0,
    "start_time": "2022-07-08T16:13:42.545Z"
   },
   {
    "duration": 0,
    "start_time": "2022-07-08T16:13:42.547Z"
   },
   {
    "duration": 0,
    "start_time": "2022-07-08T16:13:42.548Z"
   },
   {
    "duration": 0,
    "start_time": "2022-07-08T16:13:42.550Z"
   },
   {
    "duration": 0,
    "start_time": "2022-07-08T16:13:42.551Z"
   },
   {
    "duration": 0,
    "start_time": "2022-07-08T16:13:42.552Z"
   },
   {
    "duration": 0,
    "start_time": "2022-07-08T16:13:42.553Z"
   },
   {
    "duration": 27,
    "start_time": "2022-07-08T16:15:11.393Z"
   },
   {
    "duration": 28,
    "start_time": "2022-07-08T16:15:19.949Z"
   },
   {
    "duration": 30,
    "start_time": "2022-07-08T16:15:27.604Z"
   },
   {
    "duration": 9,
    "start_time": "2022-07-08T16:15:35.488Z"
   },
   {
    "duration": 10,
    "start_time": "2022-07-08T16:15:39.913Z"
   },
   {
    "duration": 9,
    "start_time": "2022-07-08T16:15:44.646Z"
   },
   {
    "duration": 30,
    "start_time": "2022-07-08T16:18:48.148Z"
   },
   {
    "duration": 4,
    "start_time": "2022-07-08T16:18:56.350Z"
   },
   {
    "duration": 7,
    "start_time": "2022-07-08T16:32:49.054Z"
   },
   {
    "duration": 14,
    "start_time": "2022-07-08T16:51:34.756Z"
   },
   {
    "duration": 1187,
    "start_time": "2022-07-08T16:51:45.635Z"
   },
   {
    "duration": 238,
    "start_time": "2022-07-08T16:51:46.825Z"
   },
   {
    "duration": 165,
    "start_time": "2022-07-08T16:51:47.065Z"
   },
   {
    "duration": 99,
    "start_time": "2022-07-08T16:51:47.232Z"
   },
   {
    "duration": 21,
    "start_time": "2022-07-08T16:51:47.332Z"
   },
   {
    "duration": 35,
    "start_time": "2022-07-08T16:51:47.354Z"
   },
   {
    "duration": 6,
    "start_time": "2022-07-08T16:51:47.391Z"
   },
   {
    "duration": 35,
    "start_time": "2022-07-08T16:51:47.398Z"
   },
   {
    "duration": 21,
    "start_time": "2022-07-08T16:51:47.434Z"
   },
   {
    "duration": 18,
    "start_time": "2022-07-08T16:51:47.458Z"
   },
   {
    "duration": 26,
    "start_time": "2022-07-08T16:51:47.478Z"
   },
   {
    "duration": 19,
    "start_time": "2022-07-08T16:51:47.507Z"
   },
   {
    "duration": 203,
    "start_time": "2022-07-08T16:51:47.529Z"
   },
   {
    "duration": 6,
    "start_time": "2022-07-08T16:51:47.734Z"
   },
   {
    "duration": 246,
    "start_time": "2022-07-08T16:51:47.743Z"
   },
   {
    "duration": 15,
    "start_time": "2022-07-08T16:51:47.991Z"
   },
   {
    "duration": 94,
    "start_time": "2022-07-08T16:51:48.008Z"
   },
   {
    "duration": 94,
    "start_time": "2022-07-08T16:51:48.104Z"
   },
   {
    "duration": 171,
    "start_time": "2022-07-08T16:51:48.201Z"
   },
   {
    "duration": 30,
    "start_time": "2022-07-08T16:51:48.374Z"
   },
   {
    "duration": 73,
    "start_time": "2022-07-08T16:51:48.406Z"
   },
   {
    "duration": 25,
    "start_time": "2022-07-08T16:51:48.481Z"
   },
   {
    "duration": 23,
    "start_time": "2022-07-08T16:51:48.508Z"
   },
   {
    "duration": 10,
    "start_time": "2022-07-08T16:51:48.533Z"
   },
   {
    "duration": 20,
    "start_time": "2022-07-08T16:51:48.545Z"
   },
   {
    "duration": 33,
    "start_time": "2022-07-08T16:51:48.566Z"
   },
   {
    "duration": 20,
    "start_time": "2022-07-08T16:51:48.601Z"
   },
   {
    "duration": 9,
    "start_time": "2022-07-08T16:51:48.626Z"
   },
   {
    "duration": 31,
    "start_time": "2022-07-08T16:51:48.637Z"
   },
   {
    "duration": 46,
    "start_time": "2022-07-08T16:51:48.670Z"
   },
   {
    "duration": 14,
    "start_time": "2022-07-08T16:51:48.718Z"
   },
   {
    "duration": 24,
    "start_time": "2022-07-08T16:51:48.734Z"
   },
   {
    "duration": 9,
    "start_time": "2022-07-08T16:51:48.760Z"
   },
   {
    "duration": 23,
    "start_time": "2022-07-08T16:51:48.799Z"
   },
   {
    "duration": 6,
    "start_time": "2022-07-08T16:51:48.824Z"
   },
   {
    "duration": 8,
    "start_time": "2022-07-08T16:51:48.831Z"
   },
   {
    "duration": 15,
    "start_time": "2022-07-08T16:51:48.840Z"
   },
   {
    "duration": 70,
    "start_time": "2022-07-08T16:51:48.857Z"
   },
   {
    "duration": 5,
    "start_time": "2022-07-08T16:51:48.929Z"
   },
   {
    "duration": 9,
    "start_time": "2022-07-08T16:51:48.938Z"
   },
   {
    "duration": 33,
    "start_time": "2022-07-08T16:51:48.950Z"
   },
   {
    "duration": 4,
    "start_time": "2022-07-08T16:51:48.998Z"
   },
   {
    "duration": 25,
    "start_time": "2022-07-08T16:51:49.004Z"
   },
   {
    "duration": 8,
    "start_time": "2022-07-08T16:51:49.032Z"
   },
   {
    "duration": 13,
    "start_time": "2022-07-08T16:51:49.042Z"
   },
   {
    "duration": 7,
    "start_time": "2022-07-08T16:51:49.058Z"
   },
   {
    "duration": 26,
    "start_time": "2022-07-08T16:51:49.100Z"
   },
   {
    "duration": 14,
    "start_time": "2022-07-08T16:51:49.128Z"
   },
   {
    "duration": 5,
    "start_time": "2022-07-08T16:51:49.145Z"
   },
   {
    "duration": 5,
    "start_time": "2022-07-08T16:51:49.152Z"
   },
   {
    "duration": 49,
    "start_time": "2022-07-08T16:51:49.159Z"
   },
   {
    "duration": 6,
    "start_time": "2022-07-08T16:51:49.210Z"
   },
   {
    "duration": 12,
    "start_time": "2022-07-08T16:51:49.217Z"
   },
   {
    "duration": 154,
    "start_time": "2022-07-08T16:51:49.230Z"
   },
   {
    "duration": 23,
    "start_time": "2022-07-08T16:51:49.386Z"
   },
   {
    "duration": 3,
    "start_time": "2022-07-08T16:51:49.411Z"
   },
   {
    "duration": 16,
    "start_time": "2022-07-08T16:51:49.416Z"
   },
   {
    "duration": 12,
    "start_time": "2022-07-08T16:51:49.434Z"
   },
   {
    "duration": 7,
    "start_time": "2022-07-08T16:51:49.448Z"
   },
   {
    "duration": 45,
    "start_time": "2022-07-08T16:51:49.457Z"
   },
   {
    "duration": 25,
    "start_time": "2022-07-08T16:51:49.504Z"
   },
   {
    "duration": 67,
    "start_time": "2022-07-08T16:51:49.532Z"
   },
   {
    "duration": 31,
    "start_time": "2022-07-08T16:51:49.602Z"
   },
   {
    "duration": 32,
    "start_time": "2022-07-08T16:51:49.635Z"
   },
   {
    "duration": 50,
    "start_time": "2022-07-08T16:51:49.669Z"
   },
   {
    "duration": 8,
    "start_time": "2022-07-08T16:51:49.721Z"
   },
   {
    "duration": 10,
    "start_time": "2022-07-08T16:51:49.730Z"
   },
   {
    "duration": 8,
    "start_time": "2022-07-08T16:51:49.742Z"
   },
   {
    "duration": 51,
    "start_time": "2022-07-08T16:51:49.752Z"
   },
   {
    "duration": 21,
    "start_time": "2022-07-08T16:51:49.804Z"
   },
   {
    "duration": 177,
    "start_time": "2022-07-08T16:51:49.826Z"
   },
   {
    "duration": 178,
    "start_time": "2022-07-08T16:51:50.005Z"
   },
   {
    "duration": 218,
    "start_time": "2022-07-08T16:51:50.186Z"
   },
   {
    "duration": 205,
    "start_time": "2022-07-08T16:51:50.406Z"
   },
   {
    "duration": 278,
    "start_time": "2022-07-08T16:51:50.613Z"
   },
   {
    "duration": 207,
    "start_time": "2022-07-08T16:51:50.893Z"
   },
   {
    "duration": 180,
    "start_time": "2022-07-08T16:51:51.102Z"
   },
   {
    "duration": 167,
    "start_time": "2022-07-08T16:51:51.284Z"
   },
   {
    "duration": 179,
    "start_time": "2022-07-08T16:51:51.453Z"
   },
   {
    "duration": 24,
    "start_time": "2022-07-08T16:51:51.634Z"
   },
   {
    "duration": 7,
    "start_time": "2022-07-08T16:51:51.660Z"
   },
   {
    "duration": 27,
    "start_time": "2022-07-08T16:51:51.673Z"
   },
   {
    "duration": 7,
    "start_time": "2022-07-08T16:51:51.701Z"
   },
   {
    "duration": 8,
    "start_time": "2022-07-08T16:51:51.709Z"
   },
   {
    "duration": 5,
    "start_time": "2022-07-08T16:51:51.719Z"
   },
   {
    "duration": 5,
    "start_time": "2022-07-08T16:51:51.726Z"
   },
   {
    "duration": 8,
    "start_time": "2022-07-08T16:51:51.733Z"
   },
   {
    "duration": 13,
    "start_time": "2022-07-08T16:51:51.743Z"
   },
   {
    "duration": 7,
    "start_time": "2022-07-08T16:51:51.758Z"
   },
   {
    "duration": 5,
    "start_time": "2022-07-08T16:51:51.799Z"
   },
   {
    "duration": 69,
    "start_time": "2022-07-08T16:51:51.806Z"
   },
   {
    "duration": 4,
    "start_time": "2022-07-08T16:51:51.878Z"
   },
   {
    "duration": 5,
    "start_time": "2022-07-08T16:51:51.899Z"
   },
   {
    "duration": 1354,
    "start_time": "2022-07-08T16:51:51.906Z"
   },
   {
    "duration": 246,
    "start_time": "2022-07-08T16:51:53.262Z"
   },
   {
    "duration": 244,
    "start_time": "2022-07-08T16:51:53.510Z"
   },
   {
    "duration": 230,
    "start_time": "2022-07-08T16:51:53.756Z"
   },
   {
    "duration": 57,
    "start_time": "2022-07-08T16:51:53.988Z"
   },
   {
    "duration": 1113,
    "start_time": "2022-07-08T17:05:54.259Z"
   },
   {
    "duration": 189,
    "start_time": "2022-07-08T17:05:55.374Z"
   },
   {
    "duration": 156,
    "start_time": "2022-07-08T17:05:55.565Z"
   },
   {
    "duration": 97,
    "start_time": "2022-07-08T17:05:55.723Z"
   },
   {
    "duration": 21,
    "start_time": "2022-07-08T17:05:55.822Z"
   },
   {
    "duration": 36,
    "start_time": "2022-07-08T17:05:55.844Z"
   },
   {
    "duration": 6,
    "start_time": "2022-07-08T17:05:55.881Z"
   },
   {
    "duration": 27,
    "start_time": "2022-07-08T17:05:55.889Z"
   },
   {
    "duration": 22,
    "start_time": "2022-07-08T17:05:55.918Z"
   },
   {
    "duration": 19,
    "start_time": "2022-07-08T17:05:55.943Z"
   },
   {
    "duration": 11,
    "start_time": "2022-07-08T17:05:55.963Z"
   },
   {
    "duration": 34,
    "start_time": "2022-07-08T17:05:55.976Z"
   },
   {
    "duration": 204,
    "start_time": "2022-07-08T17:05:56.011Z"
   },
   {
    "duration": 5,
    "start_time": "2022-07-08T17:05:56.217Z"
   },
   {
    "duration": 248,
    "start_time": "2022-07-08T17:05:56.224Z"
   },
   {
    "duration": 10,
    "start_time": "2022-07-08T17:05:56.474Z"
   },
   {
    "duration": 96,
    "start_time": "2022-07-08T17:05:56.486Z"
   },
   {
    "duration": 89,
    "start_time": "2022-07-08T17:05:56.597Z"
   },
   {
    "duration": 195,
    "start_time": "2022-07-08T17:05:56.688Z"
   },
   {
    "duration": 26,
    "start_time": "2022-07-08T17:05:56.885Z"
   },
   {
    "duration": 85,
    "start_time": "2022-07-08T17:05:56.913Z"
   },
   {
    "duration": 12,
    "start_time": "2022-07-08T17:05:57.000Z"
   },
   {
    "duration": 24,
    "start_time": "2022-07-08T17:05:57.014Z"
   },
   {
    "duration": 11,
    "start_time": "2022-07-08T17:05:57.039Z"
   },
   {
    "duration": 23,
    "start_time": "2022-07-08T17:05:57.051Z"
   },
   {
    "duration": 14,
    "start_time": "2022-07-08T17:05:57.099Z"
   },
   {
    "duration": 20,
    "start_time": "2022-07-08T17:05:57.116Z"
   },
   {
    "duration": 9,
    "start_time": "2022-07-08T17:05:57.141Z"
   },
   {
    "duration": 51,
    "start_time": "2022-07-08T17:05:57.152Z"
   },
   {
    "duration": 23,
    "start_time": "2022-07-08T17:05:57.204Z"
   },
   {
    "duration": 12,
    "start_time": "2022-07-08T17:05:57.228Z"
   },
   {
    "duration": 21,
    "start_time": "2022-07-08T17:05:57.242Z"
   },
   {
    "duration": 34,
    "start_time": "2022-07-08T17:05:57.265Z"
   },
   {
    "duration": 22,
    "start_time": "2022-07-08T17:05:57.301Z"
   },
   {
    "duration": 4,
    "start_time": "2022-07-08T17:05:57.325Z"
   },
   {
    "duration": 7,
    "start_time": "2022-07-08T17:05:57.332Z"
   },
   {
    "duration": 14,
    "start_time": "2022-07-08T17:05:57.341Z"
   },
   {
    "duration": 60,
    "start_time": "2022-07-08T17:05:57.357Z"
   },
   {
    "duration": 4,
    "start_time": "2022-07-08T17:05:57.419Z"
   },
   {
    "duration": 9,
    "start_time": "2022-07-08T17:05:57.424Z"
   },
   {
    "duration": 23,
    "start_time": "2022-07-08T17:05:57.434Z"
   },
   {
    "duration": 4,
    "start_time": "2022-07-08T17:05:57.459Z"
   },
   {
    "duration": 48,
    "start_time": "2022-07-08T17:05:57.465Z"
   },
   {
    "duration": 7,
    "start_time": "2022-07-08T17:05:57.515Z"
   },
   {
    "duration": 17,
    "start_time": "2022-07-08T17:05:57.524Z"
   },
   {
    "duration": 8,
    "start_time": "2022-07-08T17:05:57.542Z"
   },
   {
    "duration": 20,
    "start_time": "2022-07-08T17:05:57.551Z"
   },
   {
    "duration": 41,
    "start_time": "2022-07-08T17:05:57.573Z"
   },
   {
    "duration": 5,
    "start_time": "2022-07-08T17:05:57.616Z"
   },
   {
    "duration": 15,
    "start_time": "2022-07-08T17:05:57.623Z"
   },
   {
    "duration": 23,
    "start_time": "2022-07-08T17:05:57.640Z"
   },
   {
    "duration": 11,
    "start_time": "2022-07-08T17:05:57.665Z"
   },
   {
    "duration": 7,
    "start_time": "2022-07-08T17:05:57.678Z"
   },
   {
    "duration": 142,
    "start_time": "2022-07-08T17:05:57.698Z"
   },
   {
    "duration": 13,
    "start_time": "2022-07-08T17:05:57.842Z"
   },
   {
    "duration": 2,
    "start_time": "2022-07-08T17:05:57.856Z"
   },
   {
    "duration": 13,
    "start_time": "2022-07-08T17:05:57.860Z"
   },
   {
    "duration": 27,
    "start_time": "2022-07-08T17:05:57.875Z"
   },
   {
    "duration": 6,
    "start_time": "2022-07-08T17:05:57.904Z"
   },
   {
    "duration": 8,
    "start_time": "2022-07-08T17:05:57.911Z"
   },
   {
    "duration": 15,
    "start_time": "2022-07-08T17:05:57.921Z"
   },
   {
    "duration": 82,
    "start_time": "2022-07-08T17:05:57.938Z"
   },
   {
    "duration": 28,
    "start_time": "2022-07-08T17:05:58.021Z"
   },
   {
    "duration": 25,
    "start_time": "2022-07-08T17:05:58.051Z"
   },
   {
    "duration": 28,
    "start_time": "2022-07-08T17:05:58.097Z"
   },
   {
    "duration": 8,
    "start_time": "2022-07-08T17:05:58.126Z"
   },
   {
    "duration": 11,
    "start_time": "2022-07-08T17:05:58.136Z"
   },
   {
    "duration": 7,
    "start_time": "2022-07-08T17:05:58.149Z"
   },
   {
    "duration": 52,
    "start_time": "2022-07-08T17:05:58.158Z"
   },
   {
    "duration": 19,
    "start_time": "2022-07-08T17:05:58.212Z"
   },
   {
    "duration": 177,
    "start_time": "2022-07-08T17:05:58.232Z"
   },
   {
    "duration": 167,
    "start_time": "2022-07-08T17:05:58.411Z"
   },
   {
    "duration": 208,
    "start_time": "2022-07-08T17:05:58.580Z"
   },
   {
    "duration": 181,
    "start_time": "2022-07-08T17:05:58.790Z"
   },
   {
    "duration": 277,
    "start_time": "2022-07-08T17:05:58.973Z"
   },
   {
    "duration": 220,
    "start_time": "2022-07-08T17:05:59.252Z"
   },
   {
    "duration": 184,
    "start_time": "2022-07-08T17:05:59.474Z"
   },
   {
    "duration": 166,
    "start_time": "2022-07-08T17:05:59.660Z"
   },
   {
    "duration": 187,
    "start_time": "2022-07-08T17:05:59.827Z"
   },
   {
    "duration": 20,
    "start_time": "2022-07-08T17:06:00.016Z"
   },
   {
    "duration": 14,
    "start_time": "2022-07-08T17:06:00.038Z"
   },
   {
    "duration": 6,
    "start_time": "2022-07-08T17:06:00.059Z"
   },
   {
    "duration": 23,
    "start_time": "2022-07-08T17:06:00.067Z"
   },
   {
    "duration": 12,
    "start_time": "2022-07-08T17:06:00.092Z"
   },
   {
    "duration": 26,
    "start_time": "2022-07-08T17:06:00.106Z"
   },
   {
    "duration": 28,
    "start_time": "2022-07-08T17:06:00.133Z"
   },
   {
    "duration": 15,
    "start_time": "2022-07-08T17:06:00.162Z"
   },
   {
    "duration": 15,
    "start_time": "2022-07-08T17:06:00.178Z"
   },
   {
    "duration": 28,
    "start_time": "2022-07-08T17:06:00.195Z"
   },
   {
    "duration": 17,
    "start_time": "2022-07-08T17:06:00.225Z"
   },
   {
    "duration": 74,
    "start_time": "2022-07-08T17:06:00.244Z"
   },
   {
    "duration": 3,
    "start_time": "2022-07-08T17:06:00.320Z"
   },
   {
    "duration": 23,
    "start_time": "2022-07-08T17:06:00.325Z"
   },
   {
    "duration": 1553,
    "start_time": "2022-07-08T17:06:00.350Z"
   },
   {
    "duration": 235,
    "start_time": "2022-07-08T17:06:01.905Z"
   },
   {
    "duration": 240,
    "start_time": "2022-07-08T17:06:02.142Z"
   },
   {
    "duration": 234,
    "start_time": "2022-07-08T17:06:02.384Z"
   },
   {
    "duration": 57,
    "start_time": "2022-07-08T17:06:02.620Z"
   },
   {
    "duration": 6,
    "start_time": "2022-07-08T17:10:43.573Z"
   },
   {
    "duration": 5,
    "start_time": "2022-07-08T17:11:05.218Z"
   },
   {
    "duration": 5,
    "start_time": "2022-07-08T17:12:21.460Z"
   },
   {
    "duration": 5,
    "start_time": "2022-07-08T17:13:16.642Z"
   },
   {
    "duration": 4,
    "start_time": "2022-07-08T17:13:27.408Z"
   },
   {
    "duration": 17,
    "start_time": "2022-07-08T17:14:52.824Z"
   },
   {
    "duration": 17,
    "start_time": "2022-07-08T17:16:06.546Z"
   },
   {
    "duration": 13,
    "start_time": "2022-07-08T17:20:00.114Z"
   },
   {
    "duration": 11,
    "start_time": "2022-07-08T17:20:12.739Z"
   },
   {
    "duration": 16,
    "start_time": "2022-07-08T17:20:18.858Z"
   },
   {
    "duration": 10,
    "start_time": "2022-07-08T17:21:05.713Z"
   },
   {
    "duration": 1238,
    "start_time": "2022-07-08T17:21:15.689Z"
   },
   {
    "duration": 183,
    "start_time": "2022-07-08T17:21:16.930Z"
   },
   {
    "duration": 162,
    "start_time": "2022-07-08T17:21:17.115Z"
   },
   {
    "duration": 96,
    "start_time": "2022-07-08T17:21:17.279Z"
   },
   {
    "duration": 21,
    "start_time": "2022-07-08T17:21:17.377Z"
   },
   {
    "duration": 35,
    "start_time": "2022-07-08T17:21:17.400Z"
   },
   {
    "duration": 6,
    "start_time": "2022-07-08T17:21:17.437Z"
   },
   {
    "duration": 26,
    "start_time": "2022-07-08T17:21:17.445Z"
   },
   {
    "duration": 25,
    "start_time": "2022-07-08T17:21:17.473Z"
   },
   {
    "duration": 19,
    "start_time": "2022-07-08T17:21:17.500Z"
   },
   {
    "duration": 11,
    "start_time": "2022-07-08T17:21:17.521Z"
   },
   {
    "duration": 19,
    "start_time": "2022-07-08T17:21:17.534Z"
   },
   {
    "duration": 216,
    "start_time": "2022-07-08T17:21:17.555Z"
   },
   {
    "duration": 5,
    "start_time": "2022-07-08T17:21:17.774Z"
   },
   {
    "duration": 243,
    "start_time": "2022-07-08T17:21:17.780Z"
   },
   {
    "duration": 10,
    "start_time": "2022-07-08T17:21:18.025Z"
   },
   {
    "duration": 92,
    "start_time": "2022-07-08T17:21:18.037Z"
   },
   {
    "duration": 91,
    "start_time": "2022-07-08T17:21:18.131Z"
   },
   {
    "duration": 164,
    "start_time": "2022-07-08T17:21:18.223Z"
   },
   {
    "duration": 26,
    "start_time": "2022-07-08T17:21:18.389Z"
   },
   {
    "duration": 84,
    "start_time": "2022-07-08T17:21:18.417Z"
   },
   {
    "duration": 13,
    "start_time": "2022-07-08T17:21:18.503Z"
   },
   {
    "duration": 24,
    "start_time": "2022-07-08T17:21:18.518Z"
   },
   {
    "duration": 11,
    "start_time": "2022-07-08T17:21:18.543Z"
   },
   {
    "duration": 50,
    "start_time": "2022-07-08T17:21:18.556Z"
   },
   {
    "duration": 10,
    "start_time": "2022-07-08T17:21:18.608Z"
   },
   {
    "duration": 17,
    "start_time": "2022-07-08T17:21:18.620Z"
   },
   {
    "duration": 9,
    "start_time": "2022-07-08T17:21:18.638Z"
   },
   {
    "duration": 55,
    "start_time": "2022-07-08T17:21:18.649Z"
   },
   {
    "duration": 23,
    "start_time": "2022-07-08T17:21:18.705Z"
   },
   {
    "duration": 13,
    "start_time": "2022-07-08T17:21:18.730Z"
   },
   {
    "duration": 21,
    "start_time": "2022-07-08T17:21:18.746Z"
   },
   {
    "duration": 37,
    "start_time": "2022-07-08T17:21:18.769Z"
   },
   {
    "duration": 21,
    "start_time": "2022-07-08T17:21:18.808Z"
   },
   {
    "duration": 4,
    "start_time": "2022-07-08T17:21:18.831Z"
   },
   {
    "duration": 7,
    "start_time": "2022-07-08T17:21:18.837Z"
   },
   {
    "duration": 6,
    "start_time": "2022-07-08T17:21:18.846Z"
   },
   {
    "duration": 46,
    "start_time": "2022-07-08T17:21:18.853Z"
   },
   {
    "duration": 5,
    "start_time": "2022-07-08T17:21:18.901Z"
   },
   {
    "duration": 39,
    "start_time": "2022-07-08T17:21:18.909Z"
   },
   {
    "duration": 22,
    "start_time": "2022-07-08T17:21:18.954Z"
   },
   {
    "duration": 16,
    "start_time": "2022-07-08T17:21:18.999Z"
   },
   {
    "duration": 12,
    "start_time": "2022-07-08T17:21:19.017Z"
   },
   {
    "duration": 6,
    "start_time": "2022-07-08T17:21:19.031Z"
   },
   {
    "duration": 6,
    "start_time": "2022-07-08T17:21:19.039Z"
   },
   {
    "duration": 12,
    "start_time": "2022-07-08T17:21:19.047Z"
   },
   {
    "duration": 7,
    "start_time": "2022-07-08T17:21:19.060Z"
   },
   {
    "duration": 35,
    "start_time": "2022-07-08T17:21:19.069Z"
   },
   {
    "duration": 10,
    "start_time": "2022-07-08T17:21:19.106Z"
   },
   {
    "duration": 6,
    "start_time": "2022-07-08T17:21:19.118Z"
   },
   {
    "duration": 9,
    "start_time": "2022-07-08T17:21:19.126Z"
   },
   {
    "duration": 16,
    "start_time": "2022-07-08T17:21:19.137Z"
   },
   {
    "duration": 12,
    "start_time": "2022-07-08T17:21:19.154Z"
   },
   {
    "duration": 32,
    "start_time": "2022-07-08T17:21:19.168Z"
   },
   {
    "duration": 8,
    "start_time": "2022-07-08T17:21:19.202Z"
   },
   {
    "duration": 11,
    "start_time": "2022-07-08T17:21:19.212Z"
   },
   {
    "duration": 6,
    "start_time": "2022-07-08T17:21:19.225Z"
   },
   {
    "duration": 6,
    "start_time": "2022-07-08T17:21:19.232Z"
   },
   {
    "duration": 1298,
    "start_time": "2022-07-08T17:21:19.240Z"
   },
   {
    "duration": 0,
    "start_time": "2022-07-08T17:21:20.540Z"
   },
   {
    "duration": 0,
    "start_time": "2022-07-08T17:21:20.541Z"
   },
   {
    "duration": 0,
    "start_time": "2022-07-08T17:21:20.543Z"
   },
   {
    "duration": 0,
    "start_time": "2022-07-08T17:21:20.544Z"
   },
   {
    "duration": 0,
    "start_time": "2022-07-08T17:21:20.545Z"
   },
   {
    "duration": 0,
    "start_time": "2022-07-08T17:21:20.547Z"
   },
   {
    "duration": 0,
    "start_time": "2022-07-08T17:21:20.548Z"
   },
   {
    "duration": 0,
    "start_time": "2022-07-08T17:21:20.550Z"
   },
   {
    "duration": 0,
    "start_time": "2022-07-08T17:21:20.551Z"
   },
   {
    "duration": 0,
    "start_time": "2022-07-08T17:21:20.553Z"
   },
   {
    "duration": 0,
    "start_time": "2022-07-08T17:21:20.554Z"
   },
   {
    "duration": 0,
    "start_time": "2022-07-08T17:21:20.555Z"
   },
   {
    "duration": 0,
    "start_time": "2022-07-08T17:21:20.556Z"
   },
   {
    "duration": 0,
    "start_time": "2022-07-08T17:21:20.558Z"
   },
   {
    "duration": 0,
    "start_time": "2022-07-08T17:21:20.559Z"
   },
   {
    "duration": 0,
    "start_time": "2022-07-08T17:21:20.598Z"
   },
   {
    "duration": 0,
    "start_time": "2022-07-08T17:21:20.600Z"
   },
   {
    "duration": 0,
    "start_time": "2022-07-08T17:21:20.601Z"
   },
   {
    "duration": 0,
    "start_time": "2022-07-08T17:21:20.602Z"
   },
   {
    "duration": 0,
    "start_time": "2022-07-08T17:21:20.603Z"
   },
   {
    "duration": 0,
    "start_time": "2022-07-08T17:21:20.604Z"
   },
   {
    "duration": 0,
    "start_time": "2022-07-08T17:21:20.605Z"
   },
   {
    "duration": 0,
    "start_time": "2022-07-08T17:21:20.606Z"
   },
   {
    "duration": 0,
    "start_time": "2022-07-08T17:21:20.607Z"
   },
   {
    "duration": 0,
    "start_time": "2022-07-08T17:21:20.608Z"
   },
   {
    "duration": 0,
    "start_time": "2022-07-08T17:21:20.609Z"
   },
   {
    "duration": 0,
    "start_time": "2022-07-08T17:21:20.610Z"
   },
   {
    "duration": 0,
    "start_time": "2022-07-08T17:21:20.611Z"
   },
   {
    "duration": 0,
    "start_time": "2022-07-08T17:21:20.612Z"
   },
   {
    "duration": 0,
    "start_time": "2022-07-08T17:21:20.614Z"
   },
   {
    "duration": 0,
    "start_time": "2022-07-08T17:21:20.615Z"
   },
   {
    "duration": 0,
    "start_time": "2022-07-08T17:21:20.616Z"
   },
   {
    "duration": 0,
    "start_time": "2022-07-08T17:21:20.618Z"
   },
   {
    "duration": 0,
    "start_time": "2022-07-08T17:21:20.619Z"
   },
   {
    "duration": 0,
    "start_time": "2022-07-08T17:21:20.620Z"
   },
   {
    "duration": 0,
    "start_time": "2022-07-08T17:21:20.621Z"
   },
   {
    "duration": 0,
    "start_time": "2022-07-08T17:21:20.622Z"
   },
   {
    "duration": 0,
    "start_time": "2022-07-08T17:21:20.623Z"
   },
   {
    "duration": 0,
    "start_time": "2022-07-08T17:21:20.624Z"
   },
   {
    "duration": 0,
    "start_time": "2022-07-08T17:21:20.625Z"
   },
   {
    "duration": 0,
    "start_time": "2022-07-08T17:21:20.626Z"
   },
   {
    "duration": 0,
    "start_time": "2022-07-08T17:21:20.627Z"
   },
   {
    "duration": 0,
    "start_time": "2022-07-08T17:21:20.628Z"
   },
   {
    "duration": 0,
    "start_time": "2022-07-08T17:21:20.629Z"
   },
   {
    "duration": 1168,
    "start_time": "2022-07-08T17:21:55.006Z"
   },
   {
    "duration": 182,
    "start_time": "2022-07-08T17:21:56.177Z"
   },
   {
    "duration": 160,
    "start_time": "2022-07-08T17:21:56.361Z"
   },
   {
    "duration": 99,
    "start_time": "2022-07-08T17:21:56.524Z"
   },
   {
    "duration": 24,
    "start_time": "2022-07-08T17:21:56.625Z"
   },
   {
    "duration": 39,
    "start_time": "2022-07-08T17:21:56.651Z"
   },
   {
    "duration": 9,
    "start_time": "2022-07-08T17:21:56.692Z"
   },
   {
    "duration": 37,
    "start_time": "2022-07-08T17:21:56.703Z"
   },
   {
    "duration": 27,
    "start_time": "2022-07-08T17:21:56.743Z"
   },
   {
    "duration": 46,
    "start_time": "2022-07-08T17:21:56.774Z"
   },
   {
    "duration": 13,
    "start_time": "2022-07-08T17:21:56.822Z"
   },
   {
    "duration": 36,
    "start_time": "2022-07-08T17:21:56.838Z"
   },
   {
    "duration": 202,
    "start_time": "2022-07-08T17:21:56.876Z"
   },
   {
    "duration": 5,
    "start_time": "2022-07-08T17:21:57.080Z"
   },
   {
    "duration": 229,
    "start_time": "2022-07-08T17:21:57.099Z"
   },
   {
    "duration": 9,
    "start_time": "2022-07-08T17:21:57.330Z"
   },
   {
    "duration": 94,
    "start_time": "2022-07-08T17:21:57.341Z"
   },
   {
    "duration": 104,
    "start_time": "2022-07-08T17:21:57.438Z"
   },
   {
    "duration": 163,
    "start_time": "2022-07-08T17:21:57.543Z"
   },
   {
    "duration": 23,
    "start_time": "2022-07-08T17:21:57.708Z"
   },
   {
    "duration": 85,
    "start_time": "2022-07-08T17:21:57.733Z"
   },
   {
    "duration": 12,
    "start_time": "2022-07-08T17:21:57.820Z"
   },
   {
    "duration": 24,
    "start_time": "2022-07-08T17:21:57.834Z"
   },
   {
    "duration": 9,
    "start_time": "2022-07-08T17:21:57.860Z"
   },
   {
    "duration": 41,
    "start_time": "2022-07-08T17:21:57.871Z"
   },
   {
    "duration": 10,
    "start_time": "2022-07-08T17:21:57.914Z"
   },
   {
    "duration": 18,
    "start_time": "2022-07-08T17:21:57.926Z"
   },
   {
    "duration": 9,
    "start_time": "2022-07-08T17:21:57.949Z"
   },
   {
    "duration": 59,
    "start_time": "2022-07-08T17:21:57.960Z"
   },
   {
    "duration": 25,
    "start_time": "2022-07-08T17:21:58.021Z"
   },
   {
    "duration": 14,
    "start_time": "2022-07-08T17:21:58.048Z"
   },
   {
    "duration": 48,
    "start_time": "2022-07-08T17:21:58.064Z"
   },
   {
    "duration": 11,
    "start_time": "2022-07-08T17:21:58.113Z"
   },
   {
    "duration": 24,
    "start_time": "2022-07-08T17:21:58.126Z"
   },
   {
    "duration": 5,
    "start_time": "2022-07-08T17:21:58.152Z"
   },
   {
    "duration": 7,
    "start_time": "2022-07-08T17:21:58.159Z"
   },
   {
    "duration": 5,
    "start_time": "2022-07-08T17:21:58.198Z"
   },
   {
    "duration": 22,
    "start_time": "2022-07-08T17:21:58.205Z"
   },
   {
    "duration": 15,
    "start_time": "2022-07-08T17:21:58.228Z"
   },
   {
    "duration": 41,
    "start_time": "2022-07-08T17:21:58.245Z"
   },
   {
    "duration": 18,
    "start_time": "2022-07-08T17:21:58.287Z"
   },
   {
    "duration": 16,
    "start_time": "2022-07-08T17:21:58.307Z"
   },
   {
    "duration": 11,
    "start_time": "2022-07-08T17:21:58.324Z"
   },
   {
    "duration": 5,
    "start_time": "2022-07-08T17:21:58.337Z"
   },
   {
    "duration": 5,
    "start_time": "2022-07-08T17:21:58.344Z"
   },
   {
    "duration": 54,
    "start_time": "2022-07-08T17:21:58.351Z"
   },
   {
    "duration": 4,
    "start_time": "2022-07-08T17:21:58.407Z"
   },
   {
    "duration": 25,
    "start_time": "2022-07-08T17:21:58.413Z"
   },
   {
    "duration": 10,
    "start_time": "2022-07-08T17:21:58.440Z"
   },
   {
    "duration": 12,
    "start_time": "2022-07-08T17:21:58.452Z"
   },
   {
    "duration": 38,
    "start_time": "2022-07-08T17:21:58.466Z"
   },
   {
    "duration": 21,
    "start_time": "2022-07-08T17:21:58.506Z"
   },
   {
    "duration": 15,
    "start_time": "2022-07-08T17:21:58.529Z"
   },
   {
    "duration": 4,
    "start_time": "2022-07-08T17:21:58.546Z"
   },
   {
    "duration": 4,
    "start_time": "2022-07-08T17:21:58.553Z"
   },
   {
    "duration": 54,
    "start_time": "2022-07-08T17:21:58.559Z"
   },
   {
    "duration": 8,
    "start_time": "2022-07-08T17:21:58.615Z"
   },
   {
    "duration": 7,
    "start_time": "2022-07-08T17:21:58.625Z"
   },
   {
    "duration": 160,
    "start_time": "2022-07-08T17:21:58.633Z"
   },
   {
    "duration": 14,
    "start_time": "2022-07-08T17:21:58.794Z"
   },
   {
    "duration": 2,
    "start_time": "2022-07-08T17:21:58.810Z"
   },
   {
    "duration": 16,
    "start_time": "2022-07-08T17:21:58.813Z"
   },
   {
    "duration": 12,
    "start_time": "2022-07-08T17:21:58.831Z"
   },
   {
    "duration": 5,
    "start_time": "2022-07-08T17:21:58.844Z"
   },
   {
    "duration": 15,
    "start_time": "2022-07-08T17:21:58.851Z"
   },
   {
    "duration": 45,
    "start_time": "2022-07-08T17:21:58.867Z"
   },
   {
    "duration": 61,
    "start_time": "2022-07-08T17:21:58.914Z"
   },
   {
    "duration": 55,
    "start_time": "2022-07-08T17:21:58.977Z"
   },
   {
    "duration": 32,
    "start_time": "2022-07-08T17:21:59.034Z"
   },
   {
    "duration": 42,
    "start_time": "2022-07-08T17:21:59.068Z"
   },
   {
    "duration": 8,
    "start_time": "2022-07-08T17:21:59.112Z"
   },
   {
    "duration": 13,
    "start_time": "2022-07-08T17:21:59.122Z"
   },
   {
    "duration": 8,
    "start_time": "2022-07-08T17:21:59.137Z"
   },
   {
    "duration": 22,
    "start_time": "2022-07-08T17:21:59.147Z"
   },
   {
    "duration": 43,
    "start_time": "2022-07-08T17:21:59.171Z"
   },
   {
    "duration": 176,
    "start_time": "2022-07-08T17:21:59.216Z"
   },
   {
    "duration": 183,
    "start_time": "2022-07-08T17:21:59.398Z"
   },
   {
    "duration": 215,
    "start_time": "2022-07-08T17:21:59.583Z"
   },
   {
    "duration": 179,
    "start_time": "2022-07-08T17:21:59.799Z"
   },
   {
    "duration": 284,
    "start_time": "2022-07-08T17:21:59.980Z"
   },
   {
    "duration": 219,
    "start_time": "2022-07-08T17:22:00.265Z"
   },
   {
    "duration": 187,
    "start_time": "2022-07-08T17:22:00.490Z"
   },
   {
    "duration": 179,
    "start_time": "2022-07-08T17:22:00.679Z"
   },
   {
    "duration": 185,
    "start_time": "2022-07-08T17:22:00.860Z"
   },
   {
    "duration": 21,
    "start_time": "2022-07-08T17:22:01.047Z"
   },
   {
    "duration": 6,
    "start_time": "2022-07-08T17:22:01.070Z"
   },
   {
    "duration": 3,
    "start_time": "2022-07-08T17:22:01.099Z"
   },
   {
    "duration": 12,
    "start_time": "2022-07-08T17:22:01.104Z"
   },
   {
    "duration": 22,
    "start_time": "2022-07-08T17:22:01.119Z"
   },
   {
    "duration": 9,
    "start_time": "2022-07-08T17:22:01.143Z"
   },
   {
    "duration": 15,
    "start_time": "2022-07-08T17:22:01.154Z"
   },
   {
    "duration": 11,
    "start_time": "2022-07-08T17:22:01.171Z"
   },
   {
    "duration": 21,
    "start_time": "2022-07-08T17:22:01.184Z"
   },
   {
    "duration": 13,
    "start_time": "2022-07-08T17:22:01.207Z"
   },
   {
    "duration": 13,
    "start_time": "2022-07-08T17:22:01.222Z"
   },
   {
    "duration": 79,
    "start_time": "2022-07-08T17:22:01.237Z"
   },
   {
    "duration": 3,
    "start_time": "2022-07-08T17:22:01.318Z"
   },
   {
    "duration": 18,
    "start_time": "2022-07-08T17:22:01.323Z"
   },
   {
    "duration": 1657,
    "start_time": "2022-07-08T17:22:01.343Z"
   },
   {
    "duration": 294,
    "start_time": "2022-07-08T17:22:03.002Z"
   },
   {
    "duration": 232,
    "start_time": "2022-07-08T17:22:03.298Z"
   },
   {
    "duration": 221,
    "start_time": "2022-07-08T17:22:03.532Z"
   },
   {
    "duration": 54,
    "start_time": "2022-07-08T17:22:03.755Z"
   },
   {
    "duration": 3,
    "start_time": "2022-07-08T17:35:01.880Z"
   },
   {
    "duration": 3,
    "start_time": "2022-07-08T17:35:03.975Z"
   },
   {
    "duration": 1204,
    "start_time": "2022-07-08T22:21:25.909Z"
   },
   {
    "duration": 192,
    "start_time": "2022-07-08T22:21:27.115Z"
   },
   {
    "duration": 182,
    "start_time": "2022-07-08T22:21:27.309Z"
   },
   {
    "duration": 107,
    "start_time": "2022-07-08T22:21:27.493Z"
   },
   {
    "duration": 16,
    "start_time": "2022-07-08T22:21:27.603Z"
   },
   {
    "duration": 26,
    "start_time": "2022-07-08T22:21:27.621Z"
   },
   {
    "duration": 7,
    "start_time": "2022-07-08T22:21:27.649Z"
   },
   {
    "duration": 32,
    "start_time": "2022-07-08T22:21:27.657Z"
   },
   {
    "duration": 24,
    "start_time": "2022-07-08T22:21:27.691Z"
   },
   {
    "duration": 52,
    "start_time": "2022-07-08T22:21:27.717Z"
   },
   {
    "duration": 11,
    "start_time": "2022-07-08T22:21:27.772Z"
   },
   {
    "duration": 15,
    "start_time": "2022-07-08T22:21:27.784Z"
   },
   {
    "duration": 199,
    "start_time": "2022-07-08T22:21:27.800Z"
   },
   {
    "duration": 7,
    "start_time": "2022-07-08T22:21:28.003Z"
   },
   {
    "duration": 274,
    "start_time": "2022-07-08T22:21:28.012Z"
   },
   {
    "duration": 18,
    "start_time": "2022-07-08T22:21:28.288Z"
   },
   {
    "duration": 96,
    "start_time": "2022-07-08T22:21:28.307Z"
   },
   {
    "duration": 99,
    "start_time": "2022-07-08T22:21:28.406Z"
   },
   {
    "duration": 167,
    "start_time": "2022-07-08T22:21:28.507Z"
   },
   {
    "duration": 21,
    "start_time": "2022-07-08T22:21:28.676Z"
   },
   {
    "duration": 89,
    "start_time": "2022-07-08T22:21:28.699Z"
   },
   {
    "duration": 12,
    "start_time": "2022-07-08T22:21:28.790Z"
   },
   {
    "duration": 23,
    "start_time": "2022-07-08T22:21:28.803Z"
   },
   {
    "duration": 15,
    "start_time": "2022-07-08T22:21:28.846Z"
   },
   {
    "duration": 25,
    "start_time": "2022-07-08T22:21:28.864Z"
   },
   {
    "duration": 23,
    "start_time": "2022-07-08T22:21:28.892Z"
   },
   {
    "duration": 31,
    "start_time": "2022-07-08T22:21:28.918Z"
   },
   {
    "duration": 11,
    "start_time": "2022-07-08T22:21:28.951Z"
   },
   {
    "duration": 47,
    "start_time": "2022-07-08T22:21:28.965Z"
   },
   {
    "duration": 51,
    "start_time": "2022-07-08T22:21:29.014Z"
   },
   {
    "duration": 16,
    "start_time": "2022-07-08T22:21:29.067Z"
   },
   {
    "duration": 43,
    "start_time": "2022-07-08T22:21:29.085Z"
   },
   {
    "duration": 25,
    "start_time": "2022-07-08T22:21:29.130Z"
   },
   {
    "duration": 28,
    "start_time": "2022-07-08T22:21:29.157Z"
   },
   {
    "duration": 5,
    "start_time": "2022-07-08T22:21:29.187Z"
   },
   {
    "duration": 8,
    "start_time": "2022-07-08T22:21:29.193Z"
   },
   {
    "duration": 7,
    "start_time": "2022-07-08T22:21:29.203Z"
   },
   {
    "duration": 16,
    "start_time": "2022-07-08T22:21:29.245Z"
   },
   {
    "duration": 5,
    "start_time": "2022-07-08T22:21:29.264Z"
   },
   {
    "duration": 38,
    "start_time": "2022-07-08T22:21:29.272Z"
   },
   {
    "duration": 49,
    "start_time": "2022-07-08T22:21:29.318Z"
   },
   {
    "duration": 17,
    "start_time": "2022-07-08T22:21:29.369Z"
   },
   {
    "duration": 15,
    "start_time": "2022-07-08T22:21:29.389Z"
   },
   {
    "duration": 6,
    "start_time": "2022-07-08T22:21:29.406Z"
   },
   {
    "duration": 33,
    "start_time": "2022-07-08T22:21:29.414Z"
   },
   {
    "duration": 29,
    "start_time": "2022-07-08T22:21:29.449Z"
   },
   {
    "duration": 5,
    "start_time": "2022-07-08T22:21:29.480Z"
   },
   {
    "duration": 24,
    "start_time": "2022-07-08T22:21:29.487Z"
   },
   {
    "duration": 37,
    "start_time": "2022-07-08T22:21:29.513Z"
   },
   {
    "duration": 13,
    "start_time": "2022-07-08T22:21:29.552Z"
   },
   {
    "duration": 8,
    "start_time": "2022-07-08T22:21:29.567Z"
   },
   {
    "duration": 23,
    "start_time": "2022-07-08T22:21:29.577Z"
   },
   {
    "duration": 13,
    "start_time": "2022-07-08T22:21:29.602Z"
   },
   {
    "duration": 33,
    "start_time": "2022-07-08T22:21:29.616Z"
   },
   {
    "duration": 6,
    "start_time": "2022-07-08T22:21:29.651Z"
   },
   {
    "duration": 23,
    "start_time": "2022-07-08T22:21:29.660Z"
   },
   {
    "duration": 6,
    "start_time": "2022-07-08T22:21:29.686Z"
   },
   {
    "duration": 7,
    "start_time": "2022-07-08T22:21:29.694Z"
   },
   {
    "duration": 160,
    "start_time": "2022-07-08T22:21:29.703Z"
   },
   {
    "duration": 13,
    "start_time": "2022-07-08T22:21:29.865Z"
   },
   {
    "duration": 5,
    "start_time": "2022-07-08T22:21:29.880Z"
   },
   {
    "duration": 14,
    "start_time": "2022-07-08T22:21:29.886Z"
   },
   {
    "duration": 11,
    "start_time": "2022-07-08T22:21:29.901Z"
   },
   {
    "duration": 6,
    "start_time": "2022-07-08T22:21:29.945Z"
   },
   {
    "duration": 6,
    "start_time": "2022-07-08T22:21:29.953Z"
   },
   {
    "duration": 23,
    "start_time": "2022-07-08T22:21:29.961Z"
   },
   {
    "duration": 74,
    "start_time": "2022-07-08T22:21:29.987Z"
   },
   {
    "duration": 37,
    "start_time": "2022-07-08T22:21:30.063Z"
   },
   {
    "duration": 56,
    "start_time": "2022-07-08T22:21:30.103Z"
   },
   {
    "duration": 38,
    "start_time": "2022-07-08T22:21:30.161Z"
   },
   {
    "duration": 9,
    "start_time": "2022-07-08T22:21:30.202Z"
   },
   {
    "duration": 34,
    "start_time": "2022-07-08T22:21:30.215Z"
   },
   {
    "duration": 8,
    "start_time": "2022-07-08T22:21:30.251Z"
   },
   {
    "duration": 42,
    "start_time": "2022-07-08T22:21:30.261Z"
   },
   {
    "duration": 42,
    "start_time": "2022-07-08T22:21:30.305Z"
   },
   {
    "duration": 178,
    "start_time": "2022-07-08T22:21:30.348Z"
   },
   {
    "duration": 163,
    "start_time": "2022-07-08T22:21:30.528Z"
   },
   {
    "duration": 210,
    "start_time": "2022-07-08T22:21:30.693Z"
   },
   {
    "duration": 258,
    "start_time": "2022-07-08T22:21:30.905Z"
   },
   {
    "duration": 187,
    "start_time": "2022-07-08T22:21:31.165Z"
   },
   {
    "duration": 253,
    "start_time": "2022-07-08T22:21:31.354Z"
   },
   {
    "duration": 167,
    "start_time": "2022-07-08T22:21:31.608Z"
   },
   {
    "duration": 163,
    "start_time": "2022-07-08T22:21:31.776Z"
   },
   {
    "duration": 188,
    "start_time": "2022-07-08T22:21:31.945Z"
   },
   {
    "duration": 38,
    "start_time": "2022-07-08T22:21:32.135Z"
   },
   {
    "duration": 9,
    "start_time": "2022-07-08T22:21:32.175Z"
   },
   {
    "duration": 18,
    "start_time": "2022-07-08T22:21:32.187Z"
   },
   {
    "duration": 22,
    "start_time": "2022-07-08T22:21:32.207Z"
   },
   {
    "duration": 13,
    "start_time": "2022-07-08T22:21:32.231Z"
   },
   {
    "duration": 27,
    "start_time": "2022-07-08T22:21:32.245Z"
   },
   {
    "duration": 28,
    "start_time": "2022-07-08T22:21:32.273Z"
   },
   {
    "duration": 32,
    "start_time": "2022-07-08T22:21:32.303Z"
   },
   {
    "duration": 31,
    "start_time": "2022-07-08T22:21:32.338Z"
   },
   {
    "duration": 32,
    "start_time": "2022-07-08T22:21:32.371Z"
   },
   {
    "duration": 30,
    "start_time": "2022-07-08T22:21:32.405Z"
   },
   {
    "duration": 118,
    "start_time": "2022-07-08T22:21:32.438Z"
   },
   {
    "duration": 5,
    "start_time": "2022-07-08T22:21:32.558Z"
   },
   {
    "duration": 21,
    "start_time": "2022-07-08T22:21:32.564Z"
   },
   {
    "duration": 1289,
    "start_time": "2022-07-08T22:21:32.586Z"
   },
   {
    "duration": 237,
    "start_time": "2022-07-08T22:21:33.877Z"
   },
   {
    "duration": 216,
    "start_time": "2022-07-08T22:21:34.116Z"
   },
   {
    "duration": 226,
    "start_time": "2022-07-08T22:21:34.333Z"
   },
   {
    "duration": 37,
    "start_time": "2022-07-08T22:21:34.560Z"
   },
   {
    "duration": 66,
    "start_time": "2022-07-15T14:38:37.463Z"
   },
   {
    "duration": 1153,
    "start_time": "2022-07-15T14:38:47.442Z"
   },
   {
    "duration": 85,
    "start_time": "2022-07-15T14:38:50.153Z"
   },
   {
    "duration": 1172,
    "start_time": "2022-07-15T14:38:57.590Z"
   },
   {
    "duration": 134,
    "start_time": "2022-07-15T14:38:58.764Z"
   },
   {
    "duration": 0,
    "start_time": "2022-07-15T14:38:58.905Z"
   },
   {
    "duration": 0,
    "start_time": "2022-07-15T14:38:58.906Z"
   },
   {
    "duration": 0,
    "start_time": "2022-07-15T14:38:58.907Z"
   },
   {
    "duration": 0,
    "start_time": "2022-07-15T14:38:58.908Z"
   },
   {
    "duration": 0,
    "start_time": "2022-07-15T14:38:58.909Z"
   },
   {
    "duration": 0,
    "start_time": "2022-07-15T14:38:58.910Z"
   },
   {
    "duration": 0,
    "start_time": "2022-07-15T14:38:58.911Z"
   },
   {
    "duration": 0,
    "start_time": "2022-07-15T14:38:58.912Z"
   },
   {
    "duration": 0,
    "start_time": "2022-07-15T14:38:58.913Z"
   },
   {
    "duration": 0,
    "start_time": "2022-07-15T14:38:58.914Z"
   },
   {
    "duration": 0,
    "start_time": "2022-07-15T14:38:58.915Z"
   },
   {
    "duration": 0,
    "start_time": "2022-07-15T14:38:58.916Z"
   },
   {
    "duration": 0,
    "start_time": "2022-07-15T14:38:58.917Z"
   },
   {
    "duration": 0,
    "start_time": "2022-07-15T14:38:58.917Z"
   },
   {
    "duration": 0,
    "start_time": "2022-07-15T14:38:58.918Z"
   },
   {
    "duration": 0,
    "start_time": "2022-07-15T14:38:58.920Z"
   },
   {
    "duration": 0,
    "start_time": "2022-07-15T14:38:58.920Z"
   },
   {
    "duration": 0,
    "start_time": "2022-07-15T14:38:58.921Z"
   },
   {
    "duration": 0,
    "start_time": "2022-07-15T14:38:58.923Z"
   },
   {
    "duration": 0,
    "start_time": "2022-07-15T14:38:58.923Z"
   },
   {
    "duration": 0,
    "start_time": "2022-07-15T14:38:58.925Z"
   },
   {
    "duration": 0,
    "start_time": "2022-07-15T14:38:58.926Z"
   },
   {
    "duration": 0,
    "start_time": "2022-07-15T14:38:58.927Z"
   },
   {
    "duration": 0,
    "start_time": "2022-07-15T14:38:58.928Z"
   },
   {
    "duration": 0,
    "start_time": "2022-07-15T14:38:58.929Z"
   },
   {
    "duration": 0,
    "start_time": "2022-07-15T14:38:58.930Z"
   },
   {
    "duration": 0,
    "start_time": "2022-07-15T14:38:58.931Z"
   },
   {
    "duration": 0,
    "start_time": "2022-07-15T14:38:58.932Z"
   },
   {
    "duration": 0,
    "start_time": "2022-07-15T14:38:58.933Z"
   },
   {
    "duration": 0,
    "start_time": "2022-07-15T14:38:58.969Z"
   },
   {
    "duration": 0,
    "start_time": "2022-07-15T14:38:58.972Z"
   },
   {
    "duration": 0,
    "start_time": "2022-07-15T14:38:58.973Z"
   },
   {
    "duration": 0,
    "start_time": "2022-07-15T14:38:58.975Z"
   },
   {
    "duration": 0,
    "start_time": "2022-07-15T14:38:58.976Z"
   },
   {
    "duration": 0,
    "start_time": "2022-07-15T14:38:58.978Z"
   },
   {
    "duration": 0,
    "start_time": "2022-07-15T14:38:58.979Z"
   },
   {
    "duration": 0,
    "start_time": "2022-07-15T14:38:58.980Z"
   },
   {
    "duration": 0,
    "start_time": "2022-07-15T14:38:58.982Z"
   },
   {
    "duration": 0,
    "start_time": "2022-07-15T14:38:58.984Z"
   },
   {
    "duration": 0,
    "start_time": "2022-07-15T14:38:58.985Z"
   },
   {
    "duration": 0,
    "start_time": "2022-07-15T14:38:58.987Z"
   },
   {
    "duration": 0,
    "start_time": "2022-07-15T14:38:58.988Z"
   },
   {
    "duration": 0,
    "start_time": "2022-07-15T14:38:58.993Z"
   },
   {
    "duration": 0,
    "start_time": "2022-07-15T14:38:58.994Z"
   },
   {
    "duration": 0,
    "start_time": "2022-07-15T14:38:58.995Z"
   },
   {
    "duration": 0,
    "start_time": "2022-07-15T14:38:58.996Z"
   },
   {
    "duration": 0,
    "start_time": "2022-07-15T14:38:58.998Z"
   },
   {
    "duration": 0,
    "start_time": "2022-07-15T14:38:59.003Z"
   },
   {
    "duration": 0,
    "start_time": "2022-07-15T14:38:59.007Z"
   },
   {
    "duration": 1,
    "start_time": "2022-07-15T14:38:59.008Z"
   },
   {
    "duration": 0,
    "start_time": "2022-07-15T14:38:59.010Z"
   },
   {
    "duration": 0,
    "start_time": "2022-07-15T14:38:59.011Z"
   },
   {
    "duration": 0,
    "start_time": "2022-07-15T14:38:59.012Z"
   },
   {
    "duration": 0,
    "start_time": "2022-07-15T14:38:59.013Z"
   },
   {
    "duration": 0,
    "start_time": "2022-07-15T14:38:59.014Z"
   },
   {
    "duration": 0,
    "start_time": "2022-07-15T14:38:59.015Z"
   },
   {
    "duration": 0,
    "start_time": "2022-07-15T14:38:59.017Z"
   },
   {
    "duration": 0,
    "start_time": "2022-07-15T14:38:59.018Z"
   },
   {
    "duration": 0,
    "start_time": "2022-07-15T14:38:59.019Z"
   },
   {
    "duration": 0,
    "start_time": "2022-07-15T14:38:59.020Z"
   },
   {
    "duration": 0,
    "start_time": "2022-07-15T14:38:59.021Z"
   },
   {
    "duration": 0,
    "start_time": "2022-07-15T14:38:59.066Z"
   },
   {
    "duration": 0,
    "start_time": "2022-07-15T14:38:59.068Z"
   },
   {
    "duration": 0,
    "start_time": "2022-07-15T14:38:59.069Z"
   },
   {
    "duration": 0,
    "start_time": "2022-07-15T14:38:59.071Z"
   },
   {
    "duration": 0,
    "start_time": "2022-07-15T14:38:59.072Z"
   },
   {
    "duration": 0,
    "start_time": "2022-07-15T14:38:59.073Z"
   },
   {
    "duration": 0,
    "start_time": "2022-07-15T14:38:59.073Z"
   },
   {
    "duration": 0,
    "start_time": "2022-07-15T14:38:59.074Z"
   },
   {
    "duration": 0,
    "start_time": "2022-07-15T14:38:59.075Z"
   },
   {
    "duration": 0,
    "start_time": "2022-07-15T14:38:59.079Z"
   },
   {
    "duration": 0,
    "start_time": "2022-07-15T14:38:59.079Z"
   },
   {
    "duration": 0,
    "start_time": "2022-07-15T14:38:59.080Z"
   },
   {
    "duration": 0,
    "start_time": "2022-07-15T14:38:59.081Z"
   },
   {
    "duration": 0,
    "start_time": "2022-07-15T14:38:59.084Z"
   },
   {
    "duration": 0,
    "start_time": "2022-07-15T14:38:59.085Z"
   },
   {
    "duration": 0,
    "start_time": "2022-07-15T14:38:59.091Z"
   },
   {
    "duration": 0,
    "start_time": "2022-07-15T14:38:59.092Z"
   },
   {
    "duration": 0,
    "start_time": "2022-07-15T14:38:59.092Z"
   },
   {
    "duration": 0,
    "start_time": "2022-07-15T14:38:59.093Z"
   },
   {
    "duration": 0,
    "start_time": "2022-07-15T14:38:59.094Z"
   },
   {
    "duration": 0,
    "start_time": "2022-07-15T14:38:59.094Z"
   },
   {
    "duration": 0,
    "start_time": "2022-07-15T14:38:59.095Z"
   },
   {
    "duration": 0,
    "start_time": "2022-07-15T14:38:59.096Z"
   },
   {
    "duration": 0,
    "start_time": "2022-07-15T14:38:59.096Z"
   },
   {
    "duration": 0,
    "start_time": "2022-07-15T14:38:59.097Z"
   },
   {
    "duration": 0,
    "start_time": "2022-07-15T14:38:59.097Z"
   },
   {
    "duration": 0,
    "start_time": "2022-07-15T14:38:59.098Z"
   },
   {
    "duration": 0,
    "start_time": "2022-07-15T14:38:59.099Z"
   },
   {
    "duration": 0,
    "start_time": "2022-07-15T14:38:59.101Z"
   },
   {
    "duration": 0,
    "start_time": "2022-07-15T14:38:59.102Z"
   },
   {
    "duration": 0,
    "start_time": "2022-07-15T14:38:59.103Z"
   },
   {
    "duration": 0,
    "start_time": "2022-07-15T14:38:59.103Z"
   },
   {
    "duration": 0,
    "start_time": "2022-07-15T14:38:59.104Z"
   },
   {
    "duration": 0,
    "start_time": "2022-07-15T14:38:59.105Z"
   },
   {
    "duration": 0,
    "start_time": "2022-07-15T14:38:59.105Z"
   },
   {
    "duration": 0,
    "start_time": "2022-07-15T14:38:59.106Z"
   },
   {
    "duration": 0,
    "start_time": "2022-07-15T14:38:59.106Z"
   },
   {
    "duration": 0,
    "start_time": "2022-07-15T14:38:59.107Z"
   },
   {
    "duration": 0,
    "start_time": "2022-07-15T14:38:59.107Z"
   },
   {
    "duration": 0,
    "start_time": "2022-07-15T14:38:59.108Z"
   },
   {
    "duration": 0,
    "start_time": "2022-07-15T14:38:59.108Z"
   },
   {
    "duration": 8,
    "start_time": "2022-07-15T14:39:18.689Z"
   }
  ],
  "kernelspec": {
   "display_name": "Python 3 (ipykernel)",
   "language": "python",
   "name": "python3"
  },
  "language_info": {
   "codemirror_mode": {
    "name": "ipython",
    "version": 3
   },
   "file_extension": ".py",
   "mimetype": "text/x-python",
   "name": "python",
   "nbconvert_exporter": "python",
   "pygments_lexer": "ipython3",
   "version": "3.9.12"
  },
  "toc": {
   "base_numbering": 1,
   "nav_menu": {},
   "number_sections": true,
   "sideBar": true,
   "skip_h1_title": true,
   "title_cell": "Table of Contents",
   "title_sidebar": "Contents",
   "toc_cell": false,
   "toc_position": {
    "height": "478px",
    "left": "583px",
    "top": "111.125px",
    "width": "221px"
   },
   "toc_section_display": true,
   "toc_window_display": true
  }
 },
 "nbformat": 4,
 "nbformat_minor": 2
}
