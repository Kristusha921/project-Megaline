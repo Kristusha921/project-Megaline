{
 "cells": [
  {
   "cell_type": "markdown",
   "metadata": {},
   "source": [
    "# Проект по теме: Принятие решений в бизнесе"
   ]
  },
  {
   "cell_type": "markdown",
   "metadata": {},
   "source": [
    "## Описание проекта"
   ]
  },
  {
   "cell_type": "markdown",
   "metadata": {},
   "source": [
    "Перед нами данные крупного интернет-магазина. Вместе с отделом маркетинга был подготовиллен список гипотез для увеличения выручки.\n",
    "Необходимо приоритизировать гипотезы, запустить A/B-тест и проанализировать результаты."
   ]
  },
  {
   "cell_type": "markdown",
   "metadata": {},
   "source": [
    "### Описание данных"
   ]
  },
  {
   "cell_type": "markdown",
   "metadata": {},
   "source": [
    "Таблица hypothesis:\n",
    "\n",
    "- `Hypothesis` — краткое описание гипотезы;\n",
    "\n",
    "- `Reach` — охват пользователей по 10-балльной шкале;\n",
    "\n",
    "- `Impact` — влияние на пользователей по 10-балльной шкале;\n",
    "\n",
    "- `Confidence` — уверенность в гипотезе по 10-балльной шкале;\n",
    "\n",
    "- `Efforts` — затраты ресурсов на проверку гипотезы по 10-балльной шкале. Чем больше значение Efforts, тем дороже проверка гипотезы.\n",
    "\n",
    "\n",
    "Таблица orders:\n",
    "\n",
    "- `transactionId` — идентификатор заказа;\n",
    "\n",
    "- `visitorId` — идентификатор пользователя, совершившего заказ;\n",
    "\n",
    "- `date` — дата, когда был совершён заказ;\n",
    "\n",
    "- `revenue` — выручка заказа;\n",
    "\n",
    "- `group` — группа A/B-теста, в которую попал заказ.\n",
    "\n",
    "\n",
    "Таблица visitors:\n",
    "\n",
    "- `date` — дата;\n",
    "\n",
    "- `group` — группа A/B-теста;\n",
    "\n",
    "- `visitors` — количество пользователей в указанную дату в указанной группе A/B-теста\n"
   ]
  },
  {
   "cell_type": "markdown",
   "metadata": {},
   "source": [
    "### Этапы работы"
   ]
  },
  {
   "cell_type": "markdown",
   "metadata": {},
   "source": [
    "1. Чтение файла с данными и изучение общей информации\n",
    "2. Приоритизация гипотез\n",
    "3. Анализ A/B-теста\n",
    "4. Вывод"
   ]
  },
  {
   "cell_type": "markdown",
   "metadata": {},
   "source": [
    "## Изучение данных"
   ]
  },
  {
   "cell_type": "markdown",
   "metadata": {},
   "source": [
    "Для работы с данными импортируем необходимые библиотеки:"
   ]
  },
  {
   "cell_type": "code",
   "execution_count": 72,
   "metadata": {},
   "outputs": [],
   "source": [
    "import pandas as pd\n",
    "import matplotlib.pyplot as plt \n",
    "import numpy as np\n",
    "import scipy.stats as stats\n",
    "from pylab import rcParams\n",
    "rcParams['figure.figsize'] = 18, 8\n",
    "import datetime as dt\n",
    "import seaborn as sns"
   ]
  },
  {
   "cell_type": "markdown",
   "metadata": {},
   "source": [
    "### Прочтение файлов и просмотр первых строк полученных данных"
   ]
  },
  {
   "cell_type": "markdown",
   "metadata": {},
   "source": [
    "Прочитаем каждый имеющийся файл и посмотрим первые несколько строк для ознакомления"
   ]
  },
  {
   "cell_type": "code",
   "execution_count": 2,
   "metadata": {},
   "outputs": [
    {
     "data": {
      "text/html": [
       "<div>\n",
       "<style scoped>\n",
       "    .dataframe tbody tr th:only-of-type {\n",
       "        vertical-align: middle;\n",
       "    }\n",
       "\n",
       "    .dataframe tbody tr th {\n",
       "        vertical-align: top;\n",
       "    }\n",
       "\n",
       "    .dataframe thead th {\n",
       "        text-align: right;\n",
       "    }\n",
       "</style>\n",
       "<table border=\"1\" class=\"dataframe\">\n",
       "  <thead>\n",
       "    <tr style=\"text-align: right;\">\n",
       "      <th></th>\n",
       "      <th>Hypothesis</th>\n",
       "      <th>Reach</th>\n",
       "      <th>Impact</th>\n",
       "      <th>Confidence</th>\n",
       "      <th>Efforts</th>\n",
       "    </tr>\n",
       "  </thead>\n",
       "  <tbody>\n",
       "    <tr>\n",
       "      <th>0</th>\n",
       "      <td>Добавить два новых канала привлечения трафика,...</td>\n",
       "      <td>3</td>\n",
       "      <td>10</td>\n",
       "      <td>8</td>\n",
       "      <td>6</td>\n",
       "    </tr>\n",
       "    <tr>\n",
       "      <th>1</th>\n",
       "      <td>Запустить собственную службу доставки, что сок...</td>\n",
       "      <td>2</td>\n",
       "      <td>5</td>\n",
       "      <td>4</td>\n",
       "      <td>10</td>\n",
       "    </tr>\n",
       "    <tr>\n",
       "      <th>2</th>\n",
       "      <td>Добавить блоки рекомендаций товаров на сайт ин...</td>\n",
       "      <td>8</td>\n",
       "      <td>3</td>\n",
       "      <td>7</td>\n",
       "      <td>3</td>\n",
       "    </tr>\n",
       "    <tr>\n",
       "      <th>3</th>\n",
       "      <td>Изменить структура категорий, что увеличит кон...</td>\n",
       "      <td>8</td>\n",
       "      <td>3</td>\n",
       "      <td>3</td>\n",
       "      <td>8</td>\n",
       "    </tr>\n",
       "    <tr>\n",
       "      <th>4</th>\n",
       "      <td>Изменить цвет фона главной страницы, чтобы уве...</td>\n",
       "      <td>3</td>\n",
       "      <td>1</td>\n",
       "      <td>1</td>\n",
       "      <td>1</td>\n",
       "    </tr>\n",
       "    <tr>\n",
       "      <th>5</th>\n",
       "      <td>Добавить страницу отзывов клиентов о магазине,...</td>\n",
       "      <td>3</td>\n",
       "      <td>2</td>\n",
       "      <td>2</td>\n",
       "      <td>3</td>\n",
       "    </tr>\n",
       "    <tr>\n",
       "      <th>6</th>\n",
       "      <td>Показать на главной странице баннеры с актуаль...</td>\n",
       "      <td>5</td>\n",
       "      <td>3</td>\n",
       "      <td>8</td>\n",
       "      <td>3</td>\n",
       "    </tr>\n",
       "    <tr>\n",
       "      <th>7</th>\n",
       "      <td>Добавить форму подписки на все основные страни...</td>\n",
       "      <td>10</td>\n",
       "      <td>7</td>\n",
       "      <td>8</td>\n",
       "      <td>5</td>\n",
       "    </tr>\n",
       "    <tr>\n",
       "      <th>8</th>\n",
       "      <td>Запустить акцию, дающую скидку на товар в день...</td>\n",
       "      <td>1</td>\n",
       "      <td>9</td>\n",
       "      <td>9</td>\n",
       "      <td>5</td>\n",
       "    </tr>\n",
       "  </tbody>\n",
       "</table>\n",
       "</div>"
      ],
      "text/plain": [
       "                                          Hypothesis  Reach  Impact  \\\n",
       "0  Добавить два новых канала привлечения трафика,...      3      10   \n",
       "1  Запустить собственную службу доставки, что сок...      2       5   \n",
       "2  Добавить блоки рекомендаций товаров на сайт ин...      8       3   \n",
       "3  Изменить структура категорий, что увеличит кон...      8       3   \n",
       "4  Изменить цвет фона главной страницы, чтобы уве...      3       1   \n",
       "5  Добавить страницу отзывов клиентов о магазине,...      3       2   \n",
       "6  Показать на главной странице баннеры с актуаль...      5       3   \n",
       "7  Добавить форму подписки на все основные страни...     10       7   \n",
       "8  Запустить акцию, дающую скидку на товар в день...      1       9   \n",
       "\n",
       "   Confidence  Efforts  \n",
       "0           8        6  \n",
       "1           4       10  \n",
       "2           7        3  \n",
       "3           3        8  \n",
       "4           1        1  \n",
       "5           2        3  \n",
       "6           8        3  \n",
       "7           8        5  \n",
       "8           9        5  "
      ]
     },
     "execution_count": 2,
     "metadata": {},
     "output_type": "execute_result"
    }
   ],
   "source": [
    "hypothesis = pd.read_csv('~/Desktop/project_files/hypothesis.csv')\n",
    "hypothesis"
   ]
  },
  {
   "cell_type": "code",
   "execution_count": 3,
   "metadata": {},
   "outputs": [
    {
     "data": {
      "text/html": [
       "<div>\n",
       "<style scoped>\n",
       "    .dataframe tbody tr th:only-of-type {\n",
       "        vertical-align: middle;\n",
       "    }\n",
       "\n",
       "    .dataframe tbody tr th {\n",
       "        vertical-align: top;\n",
       "    }\n",
       "\n",
       "    .dataframe thead th {\n",
       "        text-align: right;\n",
       "    }\n",
       "</style>\n",
       "<table border=\"1\" class=\"dataframe\">\n",
       "  <thead>\n",
       "    <tr style=\"text-align: right;\">\n",
       "      <th></th>\n",
       "      <th>transactionId</th>\n",
       "      <th>visitorId</th>\n",
       "      <th>date</th>\n",
       "      <th>revenue</th>\n",
       "      <th>group</th>\n",
       "    </tr>\n",
       "  </thead>\n",
       "  <tbody>\n",
       "    <tr>\n",
       "      <th>0</th>\n",
       "      <td>3667963787</td>\n",
       "      <td>3312258926</td>\n",
       "      <td>2019-08-15</td>\n",
       "      <td>1650</td>\n",
       "      <td>B</td>\n",
       "    </tr>\n",
       "    <tr>\n",
       "      <th>1</th>\n",
       "      <td>2804400009</td>\n",
       "      <td>3642806036</td>\n",
       "      <td>2019-08-15</td>\n",
       "      <td>730</td>\n",
       "      <td>B</td>\n",
       "    </tr>\n",
       "    <tr>\n",
       "      <th>2</th>\n",
       "      <td>2961555356</td>\n",
       "      <td>4069496402</td>\n",
       "      <td>2019-08-15</td>\n",
       "      <td>400</td>\n",
       "      <td>A</td>\n",
       "    </tr>\n",
       "    <tr>\n",
       "      <th>3</th>\n",
       "      <td>3797467345</td>\n",
       "      <td>1196621759</td>\n",
       "      <td>2019-08-15</td>\n",
       "      <td>9759</td>\n",
       "      <td>B</td>\n",
       "    </tr>\n",
       "    <tr>\n",
       "      <th>4</th>\n",
       "      <td>2282983706</td>\n",
       "      <td>2322279887</td>\n",
       "      <td>2019-08-15</td>\n",
       "      <td>2308</td>\n",
       "      <td>B</td>\n",
       "    </tr>\n",
       "  </tbody>\n",
       "</table>\n",
       "</div>"
      ],
      "text/plain": [
       "   transactionId   visitorId        date  revenue group\n",
       "0     3667963787  3312258926  2019-08-15     1650     B\n",
       "1     2804400009  3642806036  2019-08-15      730     B\n",
       "2     2961555356  4069496402  2019-08-15      400     A\n",
       "3     3797467345  1196621759  2019-08-15     9759     B\n",
       "4     2282983706  2322279887  2019-08-15     2308     B"
      ]
     },
     "execution_count": 3,
     "metadata": {},
     "output_type": "execute_result"
    }
   ],
   "source": [
    "orders = pd.read_csv('~/Desktop/project_files/orders.csv')\n",
    "orders.head()"
   ]
  },
  {
   "cell_type": "code",
   "execution_count": 4,
   "metadata": {},
   "outputs": [
    {
     "data": {
      "text/html": [
       "<div>\n",
       "<style scoped>\n",
       "    .dataframe tbody tr th:only-of-type {\n",
       "        vertical-align: middle;\n",
       "    }\n",
       "\n",
       "    .dataframe tbody tr th {\n",
       "        vertical-align: top;\n",
       "    }\n",
       "\n",
       "    .dataframe thead th {\n",
       "        text-align: right;\n",
       "    }\n",
       "</style>\n",
       "<table border=\"1\" class=\"dataframe\">\n",
       "  <thead>\n",
       "    <tr style=\"text-align: right;\">\n",
       "      <th></th>\n",
       "      <th>date</th>\n",
       "      <th>group</th>\n",
       "      <th>visitors</th>\n",
       "    </tr>\n",
       "  </thead>\n",
       "  <tbody>\n",
       "    <tr>\n",
       "      <th>0</th>\n",
       "      <td>2019-08-01</td>\n",
       "      <td>A</td>\n",
       "      <td>719</td>\n",
       "    </tr>\n",
       "    <tr>\n",
       "      <th>1</th>\n",
       "      <td>2019-08-02</td>\n",
       "      <td>A</td>\n",
       "      <td>619</td>\n",
       "    </tr>\n",
       "    <tr>\n",
       "      <th>2</th>\n",
       "      <td>2019-08-03</td>\n",
       "      <td>A</td>\n",
       "      <td>507</td>\n",
       "    </tr>\n",
       "    <tr>\n",
       "      <th>3</th>\n",
       "      <td>2019-08-04</td>\n",
       "      <td>A</td>\n",
       "      <td>717</td>\n",
       "    </tr>\n",
       "    <tr>\n",
       "      <th>4</th>\n",
       "      <td>2019-08-05</td>\n",
       "      <td>A</td>\n",
       "      <td>756</td>\n",
       "    </tr>\n",
       "  </tbody>\n",
       "</table>\n",
       "</div>"
      ],
      "text/plain": [
       "         date group  visitors\n",
       "0  2019-08-01     A       719\n",
       "1  2019-08-02     A       619\n",
       "2  2019-08-03     A       507\n",
       "3  2019-08-04     A       717\n",
       "4  2019-08-05     A       756"
      ]
     },
     "execution_count": 4,
     "metadata": {},
     "output_type": "execute_result"
    }
   ],
   "source": [
    "visitors = pd.read_csv('~/Desktop/project_files/visitors.csv')\n",
    "visitors.head()"
   ]
  },
  {
   "cell_type": "markdown",
   "metadata": {},
   "source": [
    "### Изучение общей информации по датафреймам"
   ]
  },
  {
   "cell_type": "markdown",
   "metadata": {},
   "source": [
    "Перед началом исследования посмотрим общую информацию по имеющимся таблицам"
   ]
  },
  {
   "cell_type": "code",
   "execution_count": 5,
   "metadata": {},
   "outputs": [
    {
     "name": "stdout",
     "output_type": "stream",
     "text": [
      "<class 'pandas.core.frame.DataFrame'>\n",
      "RangeIndex: 9 entries, 0 to 8\n",
      "Data columns (total 5 columns):\n",
      " #   Column      Non-Null Count  Dtype \n",
      "---  ------      --------------  ----- \n",
      " 0   Hypothesis  9 non-null      object\n",
      " 1   Reach       9 non-null      int64 \n",
      " 2   Impact      9 non-null      int64 \n",
      " 3   Confidence  9 non-null      int64 \n",
      " 4   Efforts     9 non-null      int64 \n",
      "dtypes: int64(4), object(1)\n",
      "memory usage: 488.0+ bytes\n"
     ]
    }
   ],
   "source": [
    "hypothesis.info()"
   ]
  },
  {
   "cell_type": "code",
   "execution_count": 6,
   "metadata": {},
   "outputs": [
    {
     "name": "stdout",
     "output_type": "stream",
     "text": [
      "<class 'pandas.core.frame.DataFrame'>\n",
      "RangeIndex: 1197 entries, 0 to 1196\n",
      "Data columns (total 5 columns):\n",
      " #   Column         Non-Null Count  Dtype \n",
      "---  ------         --------------  ----- \n",
      " 0   transactionId  1197 non-null   int64 \n",
      " 1   visitorId      1197 non-null   int64 \n",
      " 2   date           1197 non-null   object\n",
      " 3   revenue        1197 non-null   int64 \n",
      " 4   group          1197 non-null   object\n",
      "dtypes: int64(3), object(2)\n",
      "memory usage: 46.9+ KB\n"
     ]
    }
   ],
   "source": [
    "orders.info()"
   ]
  },
  {
   "cell_type": "code",
   "execution_count": 7,
   "metadata": {},
   "outputs": [
    {
     "name": "stdout",
     "output_type": "stream",
     "text": [
      "<class 'pandas.core.frame.DataFrame'>\n",
      "RangeIndex: 62 entries, 0 to 61\n",
      "Data columns (total 3 columns):\n",
      " #   Column    Non-Null Count  Dtype \n",
      "---  ------    --------------  ----- \n",
      " 0   date      62 non-null     object\n",
      " 1   group     62 non-null     object\n",
      " 2   visitors  62 non-null     int64 \n",
      "dtypes: int64(1), object(2)\n",
      "memory usage: 1.6+ KB\n"
     ]
    }
   ],
   "source": [
    "visitors.info()"
   ]
  },
  {
   "cell_type": "markdown",
   "metadata": {},
   "source": [
    "Исходя из общей информации видно, что пропусков в данных нет, однако во всех 3-х таблицах данные о дате хранятся в формате object, поэтому необходимо заранее изменить тип данных, также я для удобства переименую столбцы (таблица orders) и приведу их к нижнему регистру (таблица hypothesis)."
   ]
  },
  {
   "cell_type": "markdown",
   "metadata": {},
   "source": [
    "## Предобработка данных"
   ]
  },
  {
   "cell_type": "markdown",
   "metadata": {},
   "source": [
    "Изменим тип данных в столбцах с данными о времени в таблицах: visitors и orders"
   ]
  },
  {
   "cell_type": "code",
   "execution_count": 8,
   "metadata": {},
   "outputs": [],
   "source": [
    "visitors['date'] = visitors['date'].map(lambda x: dt.datetime.strptime(x, '%Y-%m-%d'))"
   ]
  },
  {
   "cell_type": "code",
   "execution_count": 9,
   "metadata": {},
   "outputs": [],
   "source": [
    "orders['date'] = orders['date'].map(lambda x: dt.datetime.strptime(x, '%Y-%m-%d'))"
   ]
  },
  {
   "cell_type": "markdown",
   "metadata": {},
   "source": [
    "Приведем к нижнему регистру столбцы таблицы hypothesis:"
   ]
  },
  {
   "cell_type": "code",
   "execution_count": 10,
   "metadata": {},
   "outputs": [],
   "source": [
    "hypothesis.columns = hypothesis.columns.str.lower()"
   ]
  },
  {
   "cell_type": "markdown",
   "metadata": {},
   "source": [
    "Переименуем названия столбцов в таблице orders:"
   ]
  },
  {
   "cell_type": "code",
   "execution_count": 11,
   "metadata": {},
   "outputs": [
    {
     "data": {
      "text/plain": [
       "Index(['transactionId', 'visitorId', 'date', 'revenue', 'group'], dtype='object')"
      ]
     },
     "execution_count": 11,
     "metadata": {},
     "output_type": "execute_result"
    }
   ],
   "source": [
    "orders.columns"
   ]
  },
  {
   "cell_type": "code",
   "execution_count": 12,
   "metadata": {},
   "outputs": [],
   "source": [
    "orders.columns = ['order_id', 'user_id', 'date', 'revenue', 'group']"
   ]
  },
  {
   "cell_type": "markdown",
   "metadata": {},
   "source": [
    "### Проверка на дубликаты"
   ]
  },
  {
   "cell_type": "code",
   "execution_count": 13,
   "metadata": {},
   "outputs": [
    {
     "name": "stdout",
     "output_type": "stream",
     "text": [
      "Количество дубликатов: 0\n"
     ]
    }
   ],
   "source": [
    "print('Количество дубликатов:', orders.duplicated().sum())"
   ]
  },
  {
   "cell_type": "code",
   "execution_count": 14,
   "metadata": {},
   "outputs": [
    {
     "name": "stdout",
     "output_type": "stream",
     "text": [
      "Количество дубликатов: 0\n"
     ]
    }
   ],
   "source": [
    "print('Количество дубликатов:', visitors.duplicated().sum())"
   ]
  },
  {
   "cell_type": "markdown",
   "metadata": {},
   "source": [
    "### Проверка на пересечение пользователей между группами:"
   ]
  },
  {
   "cell_type": "code",
   "execution_count": 15,
   "metadata": {},
   "outputs": [
    {
     "data": {
      "text/plain": [
       "183"
      ]
     },
     "execution_count": 15,
     "metadata": {},
     "output_type": "execute_result"
    }
   ],
   "source": [
    "users_2_group = orders.query('group == \"A\"').merge(orders.query('group == \"B\"'), on='user_id')\n",
    "len(users_2_group)"
   ]
  },
  {
   "cell_type": "markdown",
   "metadata": {},
   "source": [
    "Таких пользователей (заказов) получилось 183, что составляет 15,3 % от всего количества. В целом ситуация с пользователями в двух группах неприятная и на реальном проекте стоит узнать у того, кто собирал данные, что пошло не так. В данном случае пользователей не так много, поэтому их можно оставить как есть, плюс мы не можем их полностью убрать из visitors."
   ]
  },
  {
   "cell_type": "markdown",
   "metadata": {},
   "source": [
    "## Приоритизация гипотез"
   ]
  },
  {
   "cell_type": "markdown",
   "metadata": {},
   "source": [
    "### Применение фреймворка ICE"
   ]
  },
  {
   "cell_type": "markdown",
   "metadata": {},
   "source": [
    "Для приоритизации гипотез воспользуемся 2-мя популярными способами: ICE и RICE"
   ]
  },
  {
   "cell_type": "markdown",
   "metadata": {},
   "source": [
    "В ICE оценивается идея таким образом:\n",
    "\n",
    "`Влияние` демонстрирует, насколько идея положительно повлияет на ключевой показатель, который вы пытаетесь улучшить.\n",
    "\n",
    "`Легкость` реализации или простота — это оценка того, сколько усилий и ресурсов требуется для реализации этой идеи.\n",
    "\n",
    "`Уверенность` демонстрирует, насколько вы уверены в оценках влияния и легкости реализации.\n",
    "\n",
    "Значения в ICE оцениваются по шкале от 1 до 10, чтобы все факторы сбалансировано повлияли на итоговое число. "
   ]
  },
  {
   "cell_type": "markdown",
   "metadata": {},
   "source": [
    "Название RICE — это аббревиатура четырех факторов, которые используют для оценки: Reach, Impact, Confidence, Effort"
   ]
  },
  {
   "cell_type": "code",
   "execution_count": 16,
   "metadata": {},
   "outputs": [
    {
     "data": {
      "text/html": [
       "<div>\n",
       "<style scoped>\n",
       "    .dataframe tbody tr th:only-of-type {\n",
       "        vertical-align: middle;\n",
       "    }\n",
       "\n",
       "    .dataframe tbody tr th {\n",
       "        vertical-align: top;\n",
       "    }\n",
       "\n",
       "    .dataframe thead th {\n",
       "        text-align: right;\n",
       "    }\n",
       "</style>\n",
       "<table border=\"1\" class=\"dataframe\">\n",
       "  <thead>\n",
       "    <tr style=\"text-align: right;\">\n",
       "      <th></th>\n",
       "      <th>hypothesis</th>\n",
       "      <th>ICE</th>\n",
       "    </tr>\n",
       "  </thead>\n",
       "  <tbody>\n",
       "    <tr>\n",
       "      <th>8</th>\n",
       "      <td>Запустить акцию, дающую скидку на товар в день рождения</td>\n",
       "      <td>16.0</td>\n",
       "    </tr>\n",
       "    <tr>\n",
       "      <th>0</th>\n",
       "      <td>Добавить два новых канала привлечения трафика, что позволит привлекать на 30% больше пользователей</td>\n",
       "      <td>13.0</td>\n",
       "    </tr>\n",
       "    <tr>\n",
       "      <th>7</th>\n",
       "      <td>Добавить форму подписки на все основные страницы, чтобы собрать базу клиентов для email-рассылок</td>\n",
       "      <td>11.0</td>\n",
       "    </tr>\n",
       "    <tr>\n",
       "      <th>6</th>\n",
       "      <td>Показать на главной странице баннеры с актуальными акциями и распродажами, чтобы увеличить конверсию</td>\n",
       "      <td>8.0</td>\n",
       "    </tr>\n",
       "    <tr>\n",
       "      <th>2</th>\n",
       "      <td>Добавить блоки рекомендаций товаров на сайт интернет магазина, чтобы повысить конверсию и средний чек заказа</td>\n",
       "      <td>7.0</td>\n",
       "    </tr>\n",
       "    <tr>\n",
       "      <th>1</th>\n",
       "      <td>Запустить собственную службу доставки, что сократит срок доставки заказов</td>\n",
       "      <td>2.0</td>\n",
       "    </tr>\n",
       "    <tr>\n",
       "      <th>5</th>\n",
       "      <td>Добавить страницу отзывов клиентов о магазине, что позволит увеличить количество заказов</td>\n",
       "      <td>1.0</td>\n",
       "    </tr>\n",
       "    <tr>\n",
       "      <th>3</th>\n",
       "      <td>Изменить структура категорий, что увеличит конверсию, т.к. пользователи быстрее найдут нужный товар</td>\n",
       "      <td>1.0</td>\n",
       "    </tr>\n",
       "    <tr>\n",
       "      <th>4</th>\n",
       "      <td>Изменить цвет фона главной страницы, чтобы увеличить вовлеченность пользователей</td>\n",
       "      <td>1.0</td>\n",
       "    </tr>\n",
       "  </tbody>\n",
       "</table>\n",
       "</div>"
      ],
      "text/plain": [
       "                                                                                                     hypothesis  \\\n",
       "8                                                       Запустить акцию, дающую скидку на товар в день рождения   \n",
       "0            Добавить два новых канала привлечения трафика, что позволит привлекать на 30% больше пользователей   \n",
       "7              Добавить форму подписки на все основные страницы, чтобы собрать базу клиентов для email-рассылок   \n",
       "6          Показать на главной странице баннеры с актуальными акциями и распродажами, чтобы увеличить конверсию   \n",
       "2  Добавить блоки рекомендаций товаров на сайт интернет магазина, чтобы повысить конверсию и средний чек заказа   \n",
       "1                                     Запустить собственную службу доставки, что сократит срок доставки заказов   \n",
       "5                      Добавить страницу отзывов клиентов о магазине, что позволит увеличить количество заказов   \n",
       "3           Изменить структура категорий, что увеличит конверсию, т.к. пользователи быстрее найдут нужный товар   \n",
       "4                              Изменить цвет фона главной страницы, чтобы увеличить вовлеченность пользователей   \n",
       "\n",
       "    ICE  \n",
       "8  16.0  \n",
       "0  13.0  \n",
       "7  11.0  \n",
       "6   8.0  \n",
       "2   7.0  \n",
       "1   2.0  \n",
       "5   1.0  \n",
       "3   1.0  \n",
       "4   1.0  "
      ]
     },
     "execution_count": 16,
     "metadata": {},
     "output_type": "execute_result"
    }
   ],
   "source": [
    "hypothesis['ICE'] = hypothesis['impact'] * hypothesis['confidence'] / hypothesis['efforts']\n",
    "\n",
    "hypothesis_ice = hypothesis[['hypothesis', 'ICE']].sort_values(by='ICE', ascending=False)\n",
    "pd.options.display.max_colwidth = 210\n",
    "hypothesis_ice.round()"
   ]
  },
  {
   "cell_type": "markdown",
   "metadata": {},
   "source": [
    "Пятерка лидеров: 8, 0, 7, 6, 2 в порядке убывания значимости"
   ]
  },
  {
   "cell_type": "markdown",
   "metadata": {},
   "source": [
    "### Применение фреймворка RICE"
   ]
  },
  {
   "cell_type": "code",
   "execution_count": 17,
   "metadata": {},
   "outputs": [
    {
     "data": {
      "text/html": [
       "<div>\n",
       "<style scoped>\n",
       "    .dataframe tbody tr th:only-of-type {\n",
       "        vertical-align: middle;\n",
       "    }\n",
       "\n",
       "    .dataframe tbody tr th {\n",
       "        vertical-align: top;\n",
       "    }\n",
       "\n",
       "    .dataframe thead th {\n",
       "        text-align: right;\n",
       "    }\n",
       "</style>\n",
       "<table border=\"1\" class=\"dataframe\">\n",
       "  <thead>\n",
       "    <tr style=\"text-align: right;\">\n",
       "      <th></th>\n",
       "      <th>hypothesis</th>\n",
       "      <th>RICE</th>\n",
       "    </tr>\n",
       "  </thead>\n",
       "  <tbody>\n",
       "    <tr>\n",
       "      <th>7</th>\n",
       "      <td>Добавить форму подписки на все основные страницы, чтобы собрать базу клиентов для email-рассылок</td>\n",
       "      <td>112.0</td>\n",
       "    </tr>\n",
       "    <tr>\n",
       "      <th>2</th>\n",
       "      <td>Добавить блоки рекомендаций товаров на сайт интернет магазина, чтобы повысить конверсию и средний чек заказа</td>\n",
       "      <td>56.0</td>\n",
       "    </tr>\n",
       "    <tr>\n",
       "      <th>0</th>\n",
       "      <td>Добавить два новых канала привлечения трафика, что позволит привлекать на 30% больше пользователей</td>\n",
       "      <td>40.0</td>\n",
       "    </tr>\n",
       "    <tr>\n",
       "      <th>6</th>\n",
       "      <td>Показать на главной странице баннеры с актуальными акциями и распродажами, чтобы увеличить конверсию</td>\n",
       "      <td>40.0</td>\n",
       "    </tr>\n",
       "    <tr>\n",
       "      <th>8</th>\n",
       "      <td>Запустить акцию, дающую скидку на товар в день рождения</td>\n",
       "      <td>16.0</td>\n",
       "    </tr>\n",
       "    <tr>\n",
       "      <th>3</th>\n",
       "      <td>Изменить структура категорий, что увеличит конверсию, т.к. пользователи быстрее найдут нужный товар</td>\n",
       "      <td>9.0</td>\n",
       "    </tr>\n",
       "    <tr>\n",
       "      <th>1</th>\n",
       "      <td>Запустить собственную службу доставки, что сократит срок доставки заказов</td>\n",
       "      <td>4.0</td>\n",
       "    </tr>\n",
       "    <tr>\n",
       "      <th>5</th>\n",
       "      <td>Добавить страницу отзывов клиентов о магазине, что позволит увеличить количество заказов</td>\n",
       "      <td>4.0</td>\n",
       "    </tr>\n",
       "    <tr>\n",
       "      <th>4</th>\n",
       "      <td>Изменить цвет фона главной страницы, чтобы увеличить вовлеченность пользователей</td>\n",
       "      <td>3.0</td>\n",
       "    </tr>\n",
       "  </tbody>\n",
       "</table>\n",
       "</div>"
      ],
      "text/plain": [
       "                                                                                                     hypothesis  \\\n",
       "7              Добавить форму подписки на все основные страницы, чтобы собрать базу клиентов для email-рассылок   \n",
       "2  Добавить блоки рекомендаций товаров на сайт интернет магазина, чтобы повысить конверсию и средний чек заказа   \n",
       "0            Добавить два новых канала привлечения трафика, что позволит привлекать на 30% больше пользователей   \n",
       "6          Показать на главной странице баннеры с актуальными акциями и распродажами, чтобы увеличить конверсию   \n",
       "8                                                       Запустить акцию, дающую скидку на товар в день рождения   \n",
       "3           Изменить структура категорий, что увеличит конверсию, т.к. пользователи быстрее найдут нужный товар   \n",
       "1                                     Запустить собственную службу доставки, что сократит срок доставки заказов   \n",
       "5                      Добавить страницу отзывов клиентов о магазине, что позволит увеличить количество заказов   \n",
       "4                              Изменить цвет фона главной страницы, чтобы увеличить вовлеченность пользователей   \n",
       "\n",
       "    RICE  \n",
       "7  112.0  \n",
       "2   56.0  \n",
       "0   40.0  \n",
       "6   40.0  \n",
       "8   16.0  \n",
       "3    9.0  \n",
       "1    4.0  \n",
       "5    4.0  \n",
       "4    3.0  "
      ]
     },
     "execution_count": 17,
     "metadata": {},
     "output_type": "execute_result"
    }
   ],
   "source": [
    "hypothesis['RICE'] = hypothesis['impact'] * hypothesis['confidence'] * hypothesis['reach'] / hypothesis['efforts']\n",
    "\n",
    "hypothesis_rice = hypothesis[['hypothesis', 'RICE']].sort_values(by='RICE', ascending=False)\n",
    "pd.options.display.max_colwidth = 210\n",
    "hypothesis_rice.round()\n"
   ]
  },
  {
   "cell_type": "markdown",
   "metadata": {},
   "source": [
    "Здесь пятерка лидеров совпадает, но изменился порядок: 7, 2, 0, 6, 8. Данные изменения связаны с параметром reach (охват пользователей), очень важный параметр. Если посмотреть на имеющиеся данные, то у гипотезы 8 параметр reach равен 1, а у гипотезы 7 он равен 10. Получается, что гипотеза 7 охватывает не менее половины количество пользователей, а гипотеза 8 лишь небольшую часть пользователей. В данном случае бизнес самостоятельно принимает решение, какую гипотезу считать приоритетной."
   ]
  },
  {
   "cell_type": "markdown",
   "metadata": {},
   "source": [
    "## Анализ A/B-теста"
   ]
  },
  {
   "cell_type": "markdown",
   "metadata": {},
   "source": [
    "### Построение графика кумулятивной выручки по группам"
   ]
  },
  {
   "cell_type": "markdown",
   "metadata": {},
   "source": [
    "Прежде, чем строить график кумулятивной выручки по группам, для начала подготовим данные. Первое, мы сгруппируем таблицу заказов по дате и группе и избавимся от дубликатов."
   ]
  },
  {
   "cell_type": "code",
   "execution_count": 18,
   "metadata": {},
   "outputs": [],
   "source": [
    "dates_groups = orders[['date', 'group']].drop_duplicates()"
   ]
  },
  {
   "cell_type": "code",
   "execution_count": 19,
   "metadata": {},
   "outputs": [
    {
     "data": {
      "text/html": [
       "<div>\n",
       "<style scoped>\n",
       "    .dataframe tbody tr th:only-of-type {\n",
       "        vertical-align: middle;\n",
       "    }\n",
       "\n",
       "    .dataframe tbody tr th {\n",
       "        vertical-align: top;\n",
       "    }\n",
       "\n",
       "    .dataframe thead th {\n",
       "        text-align: right;\n",
       "    }\n",
       "</style>\n",
       "<table border=\"1\" class=\"dataframe\">\n",
       "  <thead>\n",
       "    <tr style=\"text-align: right;\">\n",
       "      <th></th>\n",
       "      <th>order_id</th>\n",
       "      <th>user_id</th>\n",
       "      <th>date</th>\n",
       "      <th>revenue</th>\n",
       "      <th>group</th>\n",
       "    </tr>\n",
       "  </thead>\n",
       "  <tbody>\n",
       "    <tr>\n",
       "      <th>0</th>\n",
       "      <td>3667963787</td>\n",
       "      <td>3312258926</td>\n",
       "      <td>2019-08-15</td>\n",
       "      <td>1650</td>\n",
       "      <td>B</td>\n",
       "    </tr>\n",
       "    <tr>\n",
       "      <th>1</th>\n",
       "      <td>2804400009</td>\n",
       "      <td>3642806036</td>\n",
       "      <td>2019-08-15</td>\n",
       "      <td>730</td>\n",
       "      <td>B</td>\n",
       "    </tr>\n",
       "    <tr>\n",
       "      <th>2</th>\n",
       "      <td>2961555356</td>\n",
       "      <td>4069496402</td>\n",
       "      <td>2019-08-15</td>\n",
       "      <td>400</td>\n",
       "      <td>A</td>\n",
       "    </tr>\n",
       "    <tr>\n",
       "      <th>3</th>\n",
       "      <td>3797467345</td>\n",
       "      <td>1196621759</td>\n",
       "      <td>2019-08-15</td>\n",
       "      <td>9759</td>\n",
       "      <td>B</td>\n",
       "    </tr>\n",
       "    <tr>\n",
       "      <th>4</th>\n",
       "      <td>2282983706</td>\n",
       "      <td>2322279887</td>\n",
       "      <td>2019-08-15</td>\n",
       "      <td>2308</td>\n",
       "      <td>B</td>\n",
       "    </tr>\n",
       "  </tbody>\n",
       "</table>\n",
       "</div>"
      ],
      "text/plain": [
       "     order_id     user_id       date  revenue group\n",
       "0  3667963787  3312258926 2019-08-15     1650     B\n",
       "1  2804400009  3642806036 2019-08-15      730     B\n",
       "2  2961555356  4069496402 2019-08-15      400     A\n",
       "3  3797467345  1196621759 2019-08-15     9759     B\n",
       "4  2282983706  2322279887 2019-08-15     2308     B"
      ]
     },
     "execution_count": 19,
     "metadata": {},
     "output_type": "execute_result"
    }
   ],
   "source": [
    "orders.head()"
   ]
  },
  {
   "cell_type": "markdown",
   "metadata": {},
   "source": [
    "Теперь получим строки таблицы orders, дата которых меньше или равна дате элемента из dates_groups, а группа теста равна группе из dates_groups, и агрегируем значения. Вычислим максимальную дату. Найдём число уникальных ID заказов и пользователей. Подсчитаем сумму средних чеков, применим методы к каждой строке датафрейма: apply(axis=1) и отсортируем результаты по столбцам 'date' и 'group'"
   ]
  },
  {
   "cell_type": "code",
   "execution_count": 20,
   "metadata": {},
   "outputs": [],
   "source": [
    "orders_aggregated = dates_groups.apply(\n",
    "    lambda x: orders[\n",
    "        np.logical_and(\n",
    "            orders['date'] <= x['date'], orders['group'] == x['group']\n",
    "        )\n",
    "    ].agg(\n",
    "        {\n",
    "            'date': 'max',\n",
    "            'group': 'max',\n",
    "            'order_id': 'nunique',\n",
    "            'user_id': 'nunique',\n",
    "            'revenue': 'sum',\n",
    "        }\n",
    "    ),\n",
    "    axis=1,\n",
    ").sort_values(by=['date', 'group'])"
   ]
  },
  {
   "cell_type": "markdown",
   "metadata": {},
   "source": [
    "Проделаем аналогичную работу для посетителей интернет-магазина"
   ]
  },
  {
   "cell_type": "code",
   "execution_count": 21,
   "metadata": {},
   "outputs": [],
   "source": [
    "visitors_aggregated = dates_groups.apply(\n",
    "    lambda x: visitors[\n",
    "        np.logical_and(\n",
    "            visitors['date'] <= x['date'], visitors['group'] == x['group']\n",
    "        )\n",
    "    ].agg({'date': 'max', 'group': 'max', 'visitors': 'sum'}),\n",
    "    axis=1,\n",
    ").sort_values(by=['date', 'group'])\n",
    "\n"
   ]
  },
  {
   "cell_type": "markdown",
   "metadata": {},
   "source": [
    "Объеденим полученные таблицы"
   ]
  },
  {
   "cell_type": "code",
   "execution_count": 22,
   "metadata": {},
   "outputs": [],
   "source": [
    "cumulative_data = orders_aggregated.merge(\n",
    "    visitors_aggregated, left_on=['date', 'group'], right_on=['date', 'group']\n",
    ")\n"
   ]
  },
  {
   "cell_type": "markdown",
   "metadata": {},
   "source": [
    "Переименуем столбцы в новой таблице"
   ]
  },
  {
   "cell_type": "code",
   "execution_count": 23,
   "metadata": {},
   "outputs": [],
   "source": [
    "cumulative_data.columns = ['date', 'group', 'orders', 'buyers', 'revenue', 'visitors']"
   ]
  },
  {
   "cell_type": "markdown",
   "metadata": {},
   "source": [
    "Теперь выведем в отдельные таблицы кумулятивную выручку по дням для каждой группы"
   ]
  },
  {
   "cell_type": "code",
   "execution_count": 24,
   "metadata": {},
   "outputs": [],
   "source": [
    "cumulative_revenue_a = cumulative_data[cumulative_data['group']=='A'][['date','revenue', 'orders']]\n",
    "\n",
    "cumulative_revenue_b = cumulative_data[cumulative_data['group']=='B'][['date','revenue', 'orders']]"
   ]
  },
  {
   "cell_type": "markdown",
   "metadata": {},
   "source": [
    "Строим график"
   ]
  },
  {
   "cell_type": "code",
   "execution_count": 25,
   "metadata": {},
   "outputs": [
    {
     "data": {
      "image/png": "[encoded data removed]",
      "text/plain": [
       "<Figure size 1296x576 with 1 Axes>"
      ]
     },
     "metadata": {
      "needs_background": "light"
     },
     "output_type": "display_data"
    }
   ],
   "source": [
    "plt.plot(cumulative_revenue_a['date'], cumulative_revenue_a['revenue'], label='A')\n",
    "plt.plot(cumulative_revenue_b['date'], cumulative_revenue_b['revenue'], label='B')\n",
    "plt.title('График кумулятивной выручки по группам')\n",
    "plt.xlabel('Период эксперимента')\n",
    "plt.ylabel('Выручка в млн.')\n",
    "plt.grid()\n",
    "plt.show()\n"
   ]
  },
  {
   "cell_type": "markdown",
   "metadata": {},
   "source": [
    "Первые пять дней выручка в обеих группах увеличивалась равномерно, следующие 5 дней эксперимента выручка группы В была выше, после чего они сравнялись, далее 4 дня группа В также лидирует, резкий скачок выручки группы В случился с 17.08 и далее равномерно шел вверх. Группа А после 17.08 сильно отставала по выручке. Предположу, что это может быть связано с крупными заказами."
   ]
  },
  {
   "cell_type": "markdown",
   "metadata": {},
   "source": [
    "### Построение графика кумулятивного среднего чека по группам"
   ]
  },
  {
   "cell_type": "markdown",
   "metadata": {},
   "source": [
    "Теперь посмотрим кумулятивный средний чек по группам, разделив выручку на количество заказов."
   ]
  },
  {
   "cell_type": "code",
   "execution_count": 26,
   "metadata": {},
   "outputs": [
    {
     "data": {
      "image/png": "[encoded data removed]",
      "text/plain": [
       "<Figure size 1296x576 with 1 Axes>"
      ]
     },
     "metadata": {
      "needs_background": "light"
     },
     "output_type": "display_data"
    }
   ],
   "source": [
    "plt.plot(cumulative_revenue_a['date'], cumulative_revenue_a['revenue']/cumulative_revenue_a['orders'], label='A')\n",
    "plt.plot(cumulative_revenue_b['date'], cumulative_revenue_b['revenue']/cumulative_revenue_b['orders'], label='B')\n",
    "plt.title('График кумулятивного среднего чека по группам')\n",
    "plt.xlabel('Период эксперимента')\n",
    "plt.ylabel('Сумма среднего чека')\n",
    "plt.grid()\n",
    "plt.show()\n"
   ]
  },
  {
   "cell_type": "markdown",
   "metadata": {},
   "source": [
    "Опять же после 17 августа средний чек группы В резко увеличился, также связываю данный факт с крупным заказом."
   ]
  },
  {
   "cell_type": "markdown",
   "metadata": {},
   "source": [
    "### Построение графика относительного изменения кумулятивного среднего чека группы B к группе A"
   ]
  },
  {
   "cell_type": "code",
   "execution_count": 27,
   "metadata": {},
   "outputs": [
    {
     "data": {
      "image/png": "[encoded data removed]",
      "text/plain": [
       "<Figure size 1296x576 with 1 Axes>"
      ]
     },
     "metadata": {
      "needs_background": "light"
     },
     "output_type": "display_data"
    }
   ],
   "source": [
    "merged_cumulative_revenue = cumulative_revenue_a.merge(cumulative_revenue_b, left_on='date', right_on='date', how='left', suffixes=['A', 'B'])\n",
    "\n",
    "# cтроим отношение средних чеков\n",
    "plt.plot(merged_cumulative_revenue['date'], (merged_cumulative_revenue['revenueB']/merged_cumulative_revenue['ordersB'])/(merged_cumulative_revenue['revenueA']/merged_cumulative_revenue['ordersA'])-1)\n",
    "\n",
    "# добавляем ось X\n",
    "plt.axhline(y=0, color='black', linestyle='--')\n",
    "plt.title('График относительного изменения кумулятивного среднего чека группы B к группе A')\n",
    "plt.xlabel('Период эксперимента')\n",
    "plt.grid()\n",
    "plt.show()\n"
   ]
  },
  {
   "cell_type": "markdown",
   "metadata": {},
   "source": [
    "В нескольких точках график различия между сегментами сильно скачет, значит в тесте точно есть крупные заказы и выбросы, позже с ними разберемся подробнее."
   ]
  },
  {
   "cell_type": "markdown",
   "metadata": {},
   "source": [
    "### Построение графика кумулятивной конверсии по группам"
   ]
  },
  {
   "cell_type": "markdown",
   "metadata": {},
   "source": [
    "Теперь построим график кумулятивной конверсии по группам. Для начала разделим количество заказов на количество посетителей сайта и выведем данные в отдельные таблицы по группам."
   ]
  },
  {
   "cell_type": "code",
   "execution_count": 28,
   "metadata": {},
   "outputs": [],
   "source": [
    "cumulative_data['conversion'] = cumulative_data['orders']/cumulative_data['visitors']"
   ]
  },
  {
   "cell_type": "code",
   "execution_count": 29,
   "metadata": {},
   "outputs": [],
   "source": [
    "cumulative_data_a = cumulative_data[cumulative_data['group']=='A']\n",
    "\n",
    "cumulative_data_b = cumulative_data[cumulative_data['group']=='B']"
   ]
  },
  {
   "cell_type": "code",
   "execution_count": 30,
   "metadata": {},
   "outputs": [
    {
     "data": {
      "image/png": "[encoded data removed]",
      "text/plain": [
       "<Figure size 1296x576 with 1 Axes>"
      ]
     },
     "metadata": {
      "needs_background": "light"
     },
     "output_type": "display_data"
    }
   ],
   "source": [
    "plt.plot(cumulative_data_a['date'], cumulative_data_a['conversion'], label='A')\n",
    "plt.plot(cumulative_data_b['date'], cumulative_data_b['conversion'], label='B')\n",
    "plt.title('График кумулятивной конверсии по группам')\n",
    "plt.xlabel('Период эксперимента')\n",
    "plt.ylabel('Конверсия')\n",
    "plt.axis([dt.datetime(2019, 8, 1), dt.datetime(2019, 9, 1), 0, 0.04])\n",
    "plt.grid()\n",
    "plt.show()"
   ]
  },
  {
   "cell_type": "markdown",
   "metadata": {},
   "source": [
    "Примерно после 5 дня эксперимента конверсия группы В стала заметно выше конверсии группы А, обе так и зафиксировались до конца эксперимента."
   ]
  },
  {
   "cell_type": "markdown",
   "metadata": {},
   "source": [
    "### Построение графика относительного изменения кумулятивной конверсии группы B к группе A."
   ]
  },
  {
   "cell_type": "code",
   "execution_count": 67,
   "metadata": {},
   "outputs": [
    {
     "data": {
      "image/png": "[encoded data removed]",
      "text/plain": [
       "<Figure size 1296x576 with 1 Axes>"
      ]
     },
     "metadata": {
      "needs_background": "light"
     },
     "output_type": "display_data"
    }
   ],
   "source": [
    "merged_cumulative_conversions = cumulative_data_a[['date','conversion']].merge(cumulative_data_b[['date','conversion']], left_on='date', right_on='date', how='left', suffixes=['A', 'B'])\n",
    "\n",
    "plt.plot(merged_cumulative_conversions['date'], merged_cumulative_conversions['conversionB']/merged_cumulative_conversions['conversionA']-1, label=\"Относительный прирост конверсии группы B относительно группы A\")\n",
    "plt.legend()\n",
    "plt.title('График относительного изменения кумулятивной конверсии группы B к группе A')\n",
    "plt.xlabel('Период эксперимента')\n",
    "plt.axhline(y=0, color='black', linestyle='--')\n",
    "#plt.axis([dt.datetime(2019, 8, 1), dt.datetime(2019, 9, 1), -0.2, 0.5]) \n",
    "plt.grid()"
   ]
  },
  {
   "cell_type": "markdown",
   "metadata": {},
   "source": [
    "Группа B уверенно лидирует после 6-го дня эксперимента, с 22 августа конверсия стабилизировалась с небольшими колебаниями."
   ]
  },
  {
   "cell_type": "markdown",
   "metadata": {},
   "source": [
    "### Построение точечного графика количества заказов по пользователям и подсчет 95-й и 99-й перцентили количества заказов на пользователя"
   ]
  },
  {
   "cell_type": "markdown",
   "metadata": {},
   "source": [
    "Для того, чтобы правильно оценить эксперимент, нам необходимо посомтреть, есть ли аномальные заказы и выбросы, оценить их количество и вдальнейшем учесть их. Для начала создадим таблицу, сгруппировав по количеству уникальных заказов на каждого пользователя."
   ]
  },
  {
   "cell_type": "code",
   "execution_count": 32,
   "metadata": {},
   "outputs": [
    {
     "data": {
      "text/html": [
       "<div>\n",
       "<style scoped>\n",
       "    .dataframe tbody tr th:only-of-type {\n",
       "        vertical-align: middle;\n",
       "    }\n",
       "\n",
       "    .dataframe tbody tr th {\n",
       "        vertical-align: top;\n",
       "    }\n",
       "\n",
       "    .dataframe thead th {\n",
       "        text-align: right;\n",
       "    }\n",
       "</style>\n",
       "<table border=\"1\" class=\"dataframe\">\n",
       "  <thead>\n",
       "    <tr style=\"text-align: right;\">\n",
       "      <th></th>\n",
       "      <th>order_id</th>\n",
       "      <th>user_id</th>\n",
       "      <th>date</th>\n",
       "      <th>revenue</th>\n",
       "      <th>group</th>\n",
       "    </tr>\n",
       "  </thead>\n",
       "  <tbody>\n",
       "    <tr>\n",
       "      <th>0</th>\n",
       "      <td>3667963787</td>\n",
       "      <td>3312258926</td>\n",
       "      <td>2019-08-15</td>\n",
       "      <td>1650</td>\n",
       "      <td>B</td>\n",
       "    </tr>\n",
       "    <tr>\n",
       "      <th>1</th>\n",
       "      <td>2804400009</td>\n",
       "      <td>3642806036</td>\n",
       "      <td>2019-08-15</td>\n",
       "      <td>730</td>\n",
       "      <td>B</td>\n",
       "    </tr>\n",
       "    <tr>\n",
       "      <th>2</th>\n",
       "      <td>2961555356</td>\n",
       "      <td>4069496402</td>\n",
       "      <td>2019-08-15</td>\n",
       "      <td>400</td>\n",
       "      <td>A</td>\n",
       "    </tr>\n",
       "    <tr>\n",
       "      <th>3</th>\n",
       "      <td>3797467345</td>\n",
       "      <td>1196621759</td>\n",
       "      <td>2019-08-15</td>\n",
       "      <td>9759</td>\n",
       "      <td>B</td>\n",
       "    </tr>\n",
       "    <tr>\n",
       "      <th>4</th>\n",
       "      <td>2282983706</td>\n",
       "      <td>2322279887</td>\n",
       "      <td>2019-08-15</td>\n",
       "      <td>2308</td>\n",
       "      <td>B</td>\n",
       "    </tr>\n",
       "  </tbody>\n",
       "</table>\n",
       "</div>"
      ],
      "text/plain": [
       "     order_id     user_id       date  revenue group\n",
       "0  3667963787  3312258926 2019-08-15     1650     B\n",
       "1  2804400009  3642806036 2019-08-15      730     B\n",
       "2  2961555356  4069496402 2019-08-15      400     A\n",
       "3  3797467345  1196621759 2019-08-15     9759     B\n",
       "4  2282983706  2322279887 2019-08-15     2308     B"
      ]
     },
     "execution_count": 32,
     "metadata": {},
     "output_type": "execute_result"
    }
   ],
   "source": [
    "orders.head()"
   ]
  },
  {
   "cell_type": "code",
   "execution_count": 33,
   "metadata": {},
   "outputs": [
    {
     "data": {
      "text/html": [
       "<div>\n",
       "<style scoped>\n",
       "    .dataframe tbody tr th:only-of-type {\n",
       "        vertical-align: middle;\n",
       "    }\n",
       "\n",
       "    .dataframe tbody tr th {\n",
       "        vertical-align: top;\n",
       "    }\n",
       "\n",
       "    .dataframe thead th {\n",
       "        text-align: right;\n",
       "    }\n",
       "</style>\n",
       "<table border=\"1\" class=\"dataframe\">\n",
       "  <thead>\n",
       "    <tr style=\"text-align: right;\">\n",
       "      <th></th>\n",
       "      <th>user_id</th>\n",
       "      <th>order_id</th>\n",
       "    </tr>\n",
       "  </thead>\n",
       "  <tbody>\n",
       "    <tr>\n",
       "      <th>1023</th>\n",
       "      <td>4256040402</td>\n",
       "      <td>11</td>\n",
       "    </tr>\n",
       "    <tr>\n",
       "      <th>591</th>\n",
       "      <td>2458001652</td>\n",
       "      <td>11</td>\n",
       "    </tr>\n",
       "    <tr>\n",
       "      <th>569</th>\n",
       "      <td>2378935119</td>\n",
       "      <td>9</td>\n",
       "    </tr>\n",
       "    <tr>\n",
       "      <th>487</th>\n",
       "      <td>2038680547</td>\n",
       "      <td>8</td>\n",
       "    </tr>\n",
       "    <tr>\n",
       "      <th>44</th>\n",
       "      <td>199603092</td>\n",
       "      <td>5</td>\n",
       "    </tr>\n",
       "    <tr>\n",
       "      <th>744</th>\n",
       "      <td>3062433592</td>\n",
       "      <td>5</td>\n",
       "    </tr>\n",
       "    <tr>\n",
       "      <th>55</th>\n",
       "      <td>237748145</td>\n",
       "      <td>5</td>\n",
       "    </tr>\n",
       "    <tr>\n",
       "      <th>917</th>\n",
       "      <td>3803269165</td>\n",
       "      <td>5</td>\n",
       "    </tr>\n",
       "    <tr>\n",
       "      <th>299</th>\n",
       "      <td>1230306981</td>\n",
       "      <td>5</td>\n",
       "    </tr>\n",
       "    <tr>\n",
       "      <th>897</th>\n",
       "      <td>3717692402</td>\n",
       "      <td>5</td>\n",
       "    </tr>\n",
       "  </tbody>\n",
       "</table>\n",
       "</div>"
      ],
      "text/plain": [
       "         user_id  order_id\n",
       "1023  4256040402        11\n",
       "591   2458001652        11\n",
       "569   2378935119         9\n",
       "487   2038680547         8\n",
       "44     199603092         5\n",
       "744   3062433592         5\n",
       "55     237748145         5\n",
       "917   3803269165         5\n",
       "299   1230306981         5\n",
       "897   3717692402         5"
      ]
     },
     "metadata": {},
     "output_type": "display_data"
    }
   ],
   "source": [
    "orders_by_users = (\n",
    "    orders.groupby('user_id', as_index=False) \n",
    "    .agg({'order_id' : 'nunique',}) \n",
    "    .sort_values(by='order_id',ascending=False) \n",
    ")\n",
    "display(orders_by_users.head(10))"
   ]
  },
  {
   "cell_type": "markdown",
   "metadata": {},
   "source": [
    "Теперь построим гистограмму распредления по количеству заказов"
   ]
  },
  {
   "cell_type": "code",
   "execution_count": 34,
   "metadata": {},
   "outputs": [
    {
     "data": {
      "image/png": "[encoded data removed]",
      "text/plain": [
       "<Figure size 1296x576 with 1 Axes>"
      ]
     },
     "metadata": {
      "needs_background": "light"
     },
     "output_type": "display_data"
    }
   ],
   "source": [
    "plt.hist(orders_by_users['order_id'])\n",
    "plt.title('Гистограмма распределения количества заказов')\n",
    "plt.xlabel('Количество заказов')\n",
    "plt.ylabel('Количество покупателей')\n",
    "plt.grid()\n",
    "plt.show()"
   ]
  },
  {
   "cell_type": "markdown",
   "metadata": {},
   "source": [
    "Большинство покупателей оформляли заказ 1 раз, есть также небольшое количество покупателей, оформивших 2 заказа и скорее исключения - те покупатели, которые оформляли заказ более 3 раз: 6, 8 или даже 10  и выше заказов. Это скорее исключение, чем тенденция."
   ]
  },
  {
   "cell_type": "markdown",
   "metadata": {},
   "source": [
    "Теперь построим точечный график количества заказов по пользователям и посчитаем 95-й и 99-й перцентили количества заказов на пользователя"
   ]
  },
  {
   "cell_type": "code",
   "execution_count": 35,
   "metadata": {},
   "outputs": [
    {
     "data": {
      "image/png": "[encoded data removed]",
      "text/plain": [
       "<Figure size 1296x576 with 1 Axes>"
      ]
     },
     "metadata": {
      "needs_background": "light"
     },
     "output_type": "display_data"
    }
   ],
   "source": [
    "x_values = pd.Series(range(0, len(orders_by_users)))\n",
    "plt.scatter(x_values, orders_by_users['order_id'])\n",
    "plt.title('Точечный график количества заказов по пользователям')\n",
    "plt.xlabel('Количество покупателей')\n",
    "plt.ylabel('Количество заказов')\n",
    "plt.grid()\n",
    "plt.show()"
   ]
  },
  {
   "cell_type": "code",
   "execution_count": 36,
   "metadata": {},
   "outputs": [
    {
     "name": "stdout",
     "output_type": "stream",
     "text": [
      "[2. 4.]\n"
     ]
    }
   ],
   "source": [
    "print(np.percentile(orders_by_users['order_id'], [95, 99])) "
   ]
  },
  {
   "cell_type": "markdown",
   "metadata": {},
   "source": [
    "Исходя из полученных данных, не более 5 % всех покупателей оформляют свыше 2-х заказов и не более 1 % свыше 4 заказов. На точечном графике это отчетливо видно."
   ]
  },
  {
   "cell_type": "markdown",
   "metadata": {},
   "source": [
    "### Построение точечного графика стоимости заказов и подсчет 95-й и 99-й перцентили стоимости заказов"
   ]
  },
  {
   "cell_type": "markdown",
   "metadata": {},
   "source": [
    "Теперь проделаем ту же работу по стоимости заказов. Важно: диапазон стоимости сознательно снизила до 100000 для наглядности."
   ]
  },
  {
   "cell_type": "code",
   "execution_count": 37,
   "metadata": {},
   "outputs": [
    {
     "data": {
      "image/png": "[encoded data removed]",
      "text/plain": [
       "<Figure size 1296x576 with 1 Axes>"
      ]
     },
     "metadata": {
      "needs_background": "light"
     },
     "output_type": "display_data"
    }
   ],
   "source": [
    "plt.hist(orders['revenue'], bins = 17, range = (0, 100000))\n",
    "plt.title('Гистограмма распределения стоимости заказов')\n",
    "plt.xlabel('Стоимость заказов')\n",
    "plt.ylabel('Количество покупателей')\n",
    "plt.grid()\n",
    "plt.show()"
   ]
  },
  {
   "cell_type": "markdown",
   "metadata": {},
   "source": [
    "На графике видно, что большинство заказов на сумму примерно до 5-6 тысяч, стоимость свыше 40 тысяч уже редкость."
   ]
  },
  {
   "cell_type": "code",
   "execution_count": 70,
   "metadata": {},
   "outputs": [
    {
     "data": {
      "text/html": [
       "<div>\n",
       "<style scoped>\n",
       "    .dataframe tbody tr th:only-of-type {\n",
       "        vertical-align: middle;\n",
       "    }\n",
       "\n",
       "    .dataframe tbody tr th {\n",
       "        vertical-align: top;\n",
       "    }\n",
       "\n",
       "    .dataframe thead th {\n",
       "        text-align: right;\n",
       "    }\n",
       "</style>\n",
       "<table border=\"1\" class=\"dataframe\">\n",
       "  <thead>\n",
       "    <tr style=\"text-align: right;\">\n",
       "      <th></th>\n",
       "      <th>order_id</th>\n",
       "      <th>user_id</th>\n",
       "      <th>date</th>\n",
       "      <th>revenue</th>\n",
       "      <th>group</th>\n",
       "    </tr>\n",
       "  </thead>\n",
       "  <tbody>\n",
       "    <tr>\n",
       "      <th>0</th>\n",
       "      <td>3667963787</td>\n",
       "      <td>3312258926</td>\n",
       "      <td>2019-08-15</td>\n",
       "      <td>1650</td>\n",
       "      <td>B</td>\n",
       "    </tr>\n",
       "    <tr>\n",
       "      <th>1</th>\n",
       "      <td>2804400009</td>\n",
       "      <td>3642806036</td>\n",
       "      <td>2019-08-15</td>\n",
       "      <td>730</td>\n",
       "      <td>B</td>\n",
       "    </tr>\n",
       "    <tr>\n",
       "      <th>2</th>\n",
       "      <td>2961555356</td>\n",
       "      <td>4069496402</td>\n",
       "      <td>2019-08-15</td>\n",
       "      <td>400</td>\n",
       "      <td>A</td>\n",
       "    </tr>\n",
       "    <tr>\n",
       "      <th>3</th>\n",
       "      <td>3797467345</td>\n",
       "      <td>1196621759</td>\n",
       "      <td>2019-08-15</td>\n",
       "      <td>9759</td>\n",
       "      <td>B</td>\n",
       "    </tr>\n",
       "    <tr>\n",
       "      <th>4</th>\n",
       "      <td>2282983706</td>\n",
       "      <td>2322279887</td>\n",
       "      <td>2019-08-15</td>\n",
       "      <td>2308</td>\n",
       "      <td>B</td>\n",
       "    </tr>\n",
       "    <tr>\n",
       "      <th>...</th>\n",
       "      <td>...</td>\n",
       "      <td>...</td>\n",
       "      <td>...</td>\n",
       "      <td>...</td>\n",
       "      <td>...</td>\n",
       "    </tr>\n",
       "    <tr>\n",
       "      <th>1192</th>\n",
       "      <td>2662137336</td>\n",
       "      <td>3733762160</td>\n",
       "      <td>2019-08-14</td>\n",
       "      <td>6490</td>\n",
       "      <td>B</td>\n",
       "    </tr>\n",
       "    <tr>\n",
       "      <th>1193</th>\n",
       "      <td>2203539145</td>\n",
       "      <td>370388673</td>\n",
       "      <td>2019-08-14</td>\n",
       "      <td>3190</td>\n",
       "      <td>A</td>\n",
       "    </tr>\n",
       "    <tr>\n",
       "      <th>1194</th>\n",
       "      <td>1807773912</td>\n",
       "      <td>573423106</td>\n",
       "      <td>2019-08-14</td>\n",
       "      <td>10550</td>\n",
       "      <td>A</td>\n",
       "    </tr>\n",
       "    <tr>\n",
       "      <th>1195</th>\n",
       "      <td>1947021204</td>\n",
       "      <td>1614305549</td>\n",
       "      <td>2019-08-14</td>\n",
       "      <td>100</td>\n",
       "      <td>A</td>\n",
       "    </tr>\n",
       "    <tr>\n",
       "      <th>1196</th>\n",
       "      <td>3936777065</td>\n",
       "      <td>2108080724</td>\n",
       "      <td>2019-08-15</td>\n",
       "      <td>202740</td>\n",
       "      <td>B</td>\n",
       "    </tr>\n",
       "  </tbody>\n",
       "</table>\n",
       "<p>1197 rows × 5 columns</p>\n",
       "</div>"
      ],
      "text/plain": [
       "        order_id     user_id       date  revenue group\n",
       "0     3667963787  3312258926 2019-08-15     1650     B\n",
       "1     2804400009  3642806036 2019-08-15      730     B\n",
       "2     2961555356  4069496402 2019-08-15      400     A\n",
       "3     3797467345  1196621759 2019-08-15     9759     B\n",
       "4     2282983706  2322279887 2019-08-15     2308     B\n",
       "...          ...         ...        ...      ...   ...\n",
       "1192  2662137336  3733762160 2019-08-14     6490     B\n",
       "1193  2203539145   370388673 2019-08-14     3190     A\n",
       "1194  1807773912   573423106 2019-08-14    10550     A\n",
       "1195  1947021204  1614305549 2019-08-14      100     A\n",
       "1196  3936777065  2108080724 2019-08-15   202740     B\n",
       "\n",
       "[1197 rows x 5 columns]"
      ]
     },
     "execution_count": 70,
     "metadata": {},
     "output_type": "execute_result"
    }
   ],
   "source": [
    "orders"
   ]
  },
  {
   "cell_type": "code",
   "execution_count": 74,
   "metadata": {},
   "outputs": [],
   "source": [
    "x_values = pd.Series(range(0, len(orders['revenue'])))"
   ]
  },
  {
   "cell_type": "code",
   "execution_count": 76,
   "metadata": {},
   "outputs": [
    {
     "data": {
      "image/png": "[encoded data removed]",
      "text/plain": [
       "<Figure size 1296x576 with 1 Axes>"
      ]
     },
     "metadata": {
      "needs_background": "light"
     },
     "output_type": "display_data"
    }
   ],
   "source": [
    "sns.scatterplot(data=orders, x=x_values, y='revenue', hue='group')\n",
    "plt.title('Точечный график стоимости заказов')\n",
    "plt.xlabel('Количество покупателей')\n",
    "plt.ylabel('Стоимость заказов')\n",
    "plt.grid()\n",
    "plt.show()"
   ]
  },
  {
   "cell_type": "markdown",
   "metadata": {},
   "source": [
    "График не выглядит наглядным, поэтому мы урежем стоимость покупки до 200 000, таким образом, избавимся от 2 выбросов:"
   ]
  },
  {
   "cell_type": "code",
   "execution_count": 78,
   "metadata": {},
   "outputs": [
    {
     "data": {
      "image/png": "[encoded data removed]",
      "text/plain": [
       "<Figure size 1296x576 with 1 Axes>"
      ]
     },
     "metadata": {
      "needs_background": "light"
     },
     "output_type": "display_data"
    }
   ],
   "source": [
    "sns.scatterplot(data=orders.query('revenue < 200000'), x=x_values, y='revenue', hue='group')\n",
    "plt.title('Точечный график стоимости заказов до 200 000')\n",
    "plt.xlabel('Количество покупателей')\n",
    "plt.ylabel('Стоимость заказов')\n",
    "plt.grid()\n",
    "plt.show()"
   ]
  },
  {
   "cell_type": "code",
   "execution_count": 39,
   "metadata": {},
   "outputs": [
    {
     "name": "stdout",
     "output_type": "stream",
     "text": [
      "[28000.  58233.2]\n"
     ]
    }
   ],
   "source": [
    "print(np.percentile(orders['revenue'], [95, 99])) "
   ]
  },
  {
   "cell_type": "markdown",
   "metadata": {},
   "source": [
    "На точечном графике выявился рекордсмен- заказ на сумму выше 1200000. Также, если обратить внимание на перцентили, то не более 5 % покупателей оформляют заказ на сумму свыше 28000, не более 1 % на сумму свыше 58 тысяч. Давайте посмотрим в какой группе были 2 крупных заказа, а именно свыше 200 тысяч и 1 млн. 200 тысяч."
   ]
  },
  {
   "cell_type": "code",
   "execution_count": 40,
   "metadata": {},
   "outputs": [
    {
     "data": {
      "text/html": [
       "<div>\n",
       "<style scoped>\n",
       "    .dataframe tbody tr th:only-of-type {\n",
       "        vertical-align: middle;\n",
       "    }\n",
       "\n",
       "    .dataframe tbody tr th {\n",
       "        vertical-align: top;\n",
       "    }\n",
       "\n",
       "    .dataframe thead th {\n",
       "        text-align: right;\n",
       "    }\n",
       "</style>\n",
       "<table border=\"1\" class=\"dataframe\">\n",
       "  <thead>\n",
       "    <tr style=\"text-align: right;\">\n",
       "      <th></th>\n",
       "      <th>order_id</th>\n",
       "      <th>user_id</th>\n",
       "      <th>date</th>\n",
       "      <th>revenue</th>\n",
       "      <th>group</th>\n",
       "    </tr>\n",
       "  </thead>\n",
       "  <tbody>\n",
       "    <tr>\n",
       "      <th>425</th>\n",
       "      <td>590470918</td>\n",
       "      <td>1920142716</td>\n",
       "      <td>2019-08-19</td>\n",
       "      <td>1294500</td>\n",
       "      <td>B</td>\n",
       "    </tr>\n",
       "    <tr>\n",
       "      <th>1196</th>\n",
       "      <td>3936777065</td>\n",
       "      <td>2108080724</td>\n",
       "      <td>2019-08-15</td>\n",
       "      <td>202740</td>\n",
       "      <td>B</td>\n",
       "    </tr>\n",
       "  </tbody>\n",
       "</table>\n",
       "</div>"
      ],
      "text/plain": [
       "        order_id     user_id       date  revenue group\n",
       "425    590470918  1920142716 2019-08-19  1294500     B\n",
       "1196  3936777065  2108080724 2019-08-15   202740     B"
      ]
     },
     "metadata": {},
     "output_type": "display_data"
    }
   ],
   "source": [
    "display(orders.query('revenue > 200000'))"
   ]
  },
  {
   "cell_type": "markdown",
   "metadata": {},
   "source": [
    "Вот и ответ на предыдущие вопросы про резкий рост средней выручки и среднего чека группы В. Оба крупных заказа принадлежат этой группе, обязательно будем иметь это ввиду. Такие показатели сильно искажают результаты теста.Также, обратим внимания на даты этих заказов, они совпадают с ростом на графиках."
   ]
  },
  {
   "cell_type": "markdown",
   "metadata": {},
   "source": [
    "### Подсчет статистической значимости различий в конверсии между группами по «сырым» данным"
   ]
  },
  {
   "cell_type": "markdown",
   "metadata": {},
   "source": [
    "Теперь приступим к подсчету статистической значимости различий в конверсии между группами по «сырым» данным. Для начала сформулируем нулевую и альтернативную гипотезы."
   ]
  },
  {
   "cell_type": "markdown",
   "metadata": {},
   "source": [
    "Нулевая гипотеза (Н0): Конверсии группы А и В равны.\n",
    "\n",
    "Альтернативная гипотеза (Н1): Конверсии группы А и В не равны.\n",
    "\n",
    "alpha = 0.05 (уровень значимости)"
   ]
  },
  {
   "cell_type": "markdown",
   "metadata": {},
   "source": [
    "Рассчитаем количество посетителей по дням для первой группы."
   ]
  },
  {
   "cell_type": "code",
   "execution_count": 41,
   "metadata": {},
   "outputs": [],
   "source": [
    "visitors_a_daily = visitors[visitors['group'] == 'A'][['date', 'visitors']]\n",
    "visitors_a_daily.columns = ['date', 'visitors_per_date_a']"
   ]
  },
  {
   "cell_type": "markdown",
   "metadata": {},
   "source": [
    "Далее, посчитаем кумулятивные данные о количестве пользователей в первой группе по дням."
   ]
  },
  {
   "cell_type": "code",
   "execution_count": 42,
   "metadata": {},
   "outputs": [],
   "source": [
    "visitors_a_cummulative = visitors_a_daily.apply(\n",
    "    lambda x: visitors_a_daily[visitors_a_daily['date'] <= x['date']].agg(\n",
    "        {'date': 'max', 'visitors_per_date_a': 'sum'}\n",
    "    ),\n",
    "    axis=1,\n",
    ")\n",
    "visitors_a_cummulative.columns = ['date', 'visitors_cummulative_a']"
   ]
  },
  {
   "cell_type": "markdown",
   "metadata": {},
   "source": [
    "Проделаем ту же работу по второй группе."
   ]
  },
  {
   "cell_type": "code",
   "execution_count": 43,
   "metadata": {},
   "outputs": [],
   "source": [
    "visitors_b_daily = visitors[visitors['group'] == 'B'][['date', 'visitors']]\n",
    "visitors_b_daily.columns = ['date', 'visitors_per_date_b']"
   ]
  },
  {
   "cell_type": "code",
   "execution_count": 44,
   "metadata": {},
   "outputs": [],
   "source": [
    "visitors_b_cummulative = visitors_b_daily.apply(\n",
    "    lambda x: visitors_b_daily[visitors_b_daily['date'] <= x['date']].agg(\n",
    "        {'date': 'max', 'visitors_per_date_b': 'sum'}\n",
    "    ),\n",
    "    axis=1,\n",
    ")\n",
    "visitors_b_cummulative.columns = ['date', 'visitors_cummulative_b']"
   ]
  },
  {
   "cell_type": "markdown",
   "metadata": {},
   "source": [
    "Следующий шаг: рассчитаем данные о количестве заказов, сумме выручке по дням для группы А"
   ]
  },
  {
   "cell_type": "code",
   "execution_count": 45,
   "metadata": {},
   "outputs": [],
   "source": [
    "orders_a_daily = (\n",
    "    orders[orders['group'] == 'A'][['date', 'order_id', 'user_id', 'revenue']]\n",
    "    .groupby('date', as_index=False)\n",
    "    .agg({'order_id': pd.Series.nunique, 'revenue': 'sum'})\n",
    ")\n",
    "orders_a_daily.columns = ['date', 'orders_per_date_a', 'revenue_per_date_a']"
   ]
  },
  {
   "cell_type": "markdown",
   "metadata": {},
   "source": [
    "Рассчитаем данные о кумулятивном количестве заказов, сумме выручке по дням для группы А"
   ]
  },
  {
   "cell_type": "code",
   "execution_count": 46,
   "metadata": {},
   "outputs": [],
   "source": [
    "orders_a_cummulative = orders_a_daily.apply(\n",
    "    lambda x: orders_a_daily[orders_a_daily['date'] <= x['date']].agg(\n",
    "        {'date': 'max', 'orders_per_date_a': 'sum', 'revenue_per_date_a': 'sum'}\n",
    "    ),\n",
    "    axis=1,\n",
    ").sort_values(by=['date'])\n",
    "\n",
    "orders_a_cummulative.columns = ['date','orders_cummulative_a','revenue_cummulative_a']"
   ]
  },
  {
   "cell_type": "markdown",
   "metadata": {},
   "source": [
    "Проделываем ту е работу со второй группой"
   ]
  },
  {
   "cell_type": "code",
   "execution_count": 47,
   "metadata": {},
   "outputs": [],
   "source": [
    "orders_b_daily = (\n",
    "    orders[orders['group'] == 'B'][['date', 'order_id', 'user_id', 'revenue']]\n",
    "    .groupby('date', as_index=False)\n",
    "    .agg({'order_id': pd.Series.nunique, 'revenue': 'sum'})\n",
    ")\n",
    "orders_b_daily.columns = ['date', 'orders_per_date_b', 'revenue_per_date_b']"
   ]
  },
  {
   "cell_type": "code",
   "execution_count": 48,
   "metadata": {},
   "outputs": [],
   "source": [
    "orders_b_cummulative = orders_b_daily.apply(\n",
    "    lambda x: orders_b_daily[orders_b_daily['date'] <= x['date']].agg(\n",
    "        {'date': 'max', 'orders_per_date_b': 'sum', 'revenue_per_date_b': 'sum'}\n",
    "    ),\n",
    "    axis=1,\n",
    ").sort_values(by=['date'])\n",
    "orders_b_cummulative.columns = ['date','orders_cummulative_b','revenue_cummulative_b']"
   ]
  },
  {
   "cell_type": "markdown",
   "metadata": {},
   "source": [
    "Объединяем все данные по датам в одну таблицу."
   ]
  },
  {
   "cell_type": "code",
   "execution_count": 49,
   "metadata": {},
   "outputs": [],
   "source": [
    "data = (\n",
    "    orders_a_daily.merge(\n",
    "        orders_b_daily, left_on='date', right_on='date', how='left'\n",
    "    )\n",
    "    .merge(orders_a_cummulative, left_on='date', right_on='date', how='left')\n",
    "    .merge(orders_b_cummulative, left_on='date', right_on='date', how='left')\n",
    "    .merge(visitors_a_daily, left_on='date', right_on='date', how='left')\n",
    "    .merge(visitors_b_daily, left_on='date', right_on='date', how='left')\n",
    "    .merge(visitors_a_cummulative, left_on='date', right_on='date', how='left')\n",
    "    .merge(visitors_b_cummulative, left_on='date', right_on='date', how='left')\n",
    ")"
   ]
  },
  {
   "cell_type": "markdown",
   "metadata": {},
   "source": [
    "Далее, создадим 2 таблицы со столбцами 'user_id, 'orders', где для пользователей, которые заказывали хотя бы 1 раз, укажем число совершённых заказов"
   ]
  },
  {
   "cell_type": "code",
   "execution_count": 50,
   "metadata": {},
   "outputs": [],
   "source": [
    "orders_by_users_a = (\n",
    "    orders[orders['group'] == 'A']\n",
    "    .groupby('user_id', as_index=False)\n",
    "    .agg({'order_id': pd.Series.nunique})\n",
    ")\n",
    "orders_by_users_a.columns = ['user_id', 'orders']"
   ]
  },
  {
   "cell_type": "code",
   "execution_count": 51,
   "metadata": {},
   "outputs": [],
   "source": [
    "orders_by_users_b = (\n",
    "    orders[orders['group'] == 'B']\n",
    "    .groupby('user_id', as_index=False)\n",
    "    .agg({'order_id': pd.Series.nunique})\n",
    ")\n",
    "orders_by_users_b.columns = ['user_id', 'orders']"
   ]
  },
  {
   "cell_type": "markdown",
   "metadata": {},
   "source": [
    "Объявляем переменные sample_a и sample_b - выборки с числом заказов каждого из пользователей по группам."
   ]
  },
  {
   "cell_type": "code",
   "execution_count": 52,
   "metadata": {},
   "outputs": [],
   "source": [
    "sample_a = pd.concat(\n",
    "    [\n",
    "        orders_by_users_a['orders'],\n",
    "        pd.Series(\n",
    "            0,\n",
    "            index=np.arange(\n",
    "                visitors[visitors['group']=='A']['visitors'].sum() - len(orders_by_users_a['orders'])\n",
    "            ),\n",
    "            name='orders',\n",
    "        ),\n",
    "    ],\n",
    "    axis=0,\n",
    ")\n",
    "                     "
   ]
  },
  {
   "cell_type": "code",
   "execution_count": 53,
   "metadata": {},
   "outputs": [],
   "source": [
    "sample_b = pd.concat(\n",
    "    [\n",
    "        orders_by_users_b['orders'],\n",
    "        pd.Series(\n",
    "            0,\n",
    "            index=np.arange(\n",
    "                visitors[visitors['group']=='B']['visitors'].sum() - len(orders_by_users_b['orders'])\n",
    "            ),\n",
    "            name='orders',\n",
    "        ),\n",
    "    ],\n",
    "    axis=0,\n",
    ")"
   ]
  },
  {
   "cell_type": "markdown",
   "metadata": {},
   "source": [
    "Применяем статистический критерий Манна-Уитни и считаем статистическую значимость различий в конверсии между группами по «сырым» данным"
   ]
  },
  {
   "cell_type": "code",
   "execution_count": 54,
   "metadata": {},
   "outputs": [
    {
     "name": "stdout",
     "output_type": "stream",
     "text": [
      "p-value: 0.016792355056752608\n",
      "Отвергаем нулевую гипотезу\n"
     ]
    }
   ],
   "source": [
    "alpha = 0.05\n",
    "p_value = stats.mannwhitneyu(sample_a, sample_b)[1]\n",
    "\n",
    "print('p-value:', p_value)\n",
    "\n",
    "if p_value < alpha:\n",
    "    print(\"Отвергаем нулевую гипотезу\")\n",
    "else:\n",
    "    print(\"Не получилось отвергнуть нулевую гипотезу\") \n"
   ]
  },
  {
   "cell_type": "code",
   "execution_count": 55,
   "metadata": {},
   "outputs": [
    {
     "name": "stdout",
     "output_type": "stream",
     "text": [
      "Относительный прирост конверсии группы B к группе А равен: 0.13807884655320146\n"
     ]
    }
   ],
   "source": [
    "print('Относительный прирост конверсии группы B к группе А равен:', sample_b.mean()/sample_a.mean()-1)"
   ]
  },
  {
   "cell_type": "markdown",
   "metadata": {},
   "source": [
    "p-value = 0.0168 меньше 0.05. Значит,статистически значимые различия в конверсии между группами есть. Относительный прирост конверсии группы B к группе А равен 13,8%."
   ]
  },
  {
   "cell_type": "markdown",
   "metadata": {},
   "source": [
    "### Подсчет статистической значимости различий в среднем чеке заказа между группами по «сырым» данным"
   ]
  },
  {
   "cell_type": "markdown",
   "metadata": {},
   "source": [
    "Теперь рассмотрим  различия в среднем чеке между граппами. Также, сформулируем нулевую и алтернативную гипотезы."
   ]
  },
  {
   "cell_type": "markdown",
   "metadata": {},
   "source": [
    "Нулевая гипотеза (Н0): Различий в среднем чеке заказа между группами нет.\n",
    "\n",
    "Альтернативная гипотеза (Н1): Различий в среднем чеке заказа между группами есть.\n",
    "\n",
    "alpha = 0.05 (уровень значимости)"
   ]
  },
  {
   "cell_type": "code",
   "execution_count": 56,
   "metadata": {},
   "outputs": [
    {
     "name": "stdout",
     "output_type": "stream",
     "text": [
      "p-value: 0.7292909855432458\n",
      "Не получилось отвергнуть нулевую гипотезу\n"
     ]
    }
   ],
   "source": [
    "p_value = stats.mannwhitneyu(orders[orders['group']=='A']['revenue'], orders[orders['group']=='B']['revenue'])[1]\n",
    "\n",
    "print('p-value:', p_value)\n",
    "\n",
    "if p_value < alpha:\n",
    "    print(\"Отвергаем нулевую гипотезу\")\n",
    "else:\n",
    "    print(\"Не получилось отвергнуть нулевую гипотезу\")\n",
    "    "
   ]
  },
  {
   "cell_type": "code",
   "execution_count": 57,
   "metadata": {},
   "outputs": [
    {
     "name": "stdout",
     "output_type": "stream",
     "text": [
      "Относительный прирост среднего чека группы B к группе А равен: 0.2587136699126005\n"
     ]
    }
   ],
   "source": [
    "print('Относительный прирост среднего чека группы B к группе А равен:', orders[orders['group']=='B']['revenue'].mean()/orders[orders['group']=='A']['revenue'].mean()-1\n",
    ")\n"
   ]
  },
  {
   "cell_type": "markdown",
   "metadata": {},
   "source": [
    "P-value больше 0.05. Значит, причин отвергать нулевую гипотезу и считать, что в среднем чеке есть различия, нет. При этом, средний чек группы B выше среднего чека группы A почти на 26 %. Также, мы помним, что это \"сырые\" данные. "
   ]
  },
  {
   "cell_type": "markdown",
   "metadata": {},
   "source": [
    "### Подсчет статистической значимости различий в конверсии между группами по «очищенным» данным"
   ]
  },
  {
   "cell_type": "markdown",
   "metadata": {},
   "source": [
    "Ранее, в анализе, мы проанализировали аномальное количество заказов и и также стоимость заказов и пришли к выводу, что для очищенных данных подойдут заказы в количество 1 или 2, и по стоимости не выше 28000. Посмотрим, сколько у нас таких записей. "
   ]
  },
  {
   "cell_type": "markdown",
   "metadata": {},
   "source": [
    "Гипотезы остаются прежними:\n",
    "\n",
    "Нулевая гипотеза (Н0): Конверсии группы А и В равны.\n",
    "\n",
    "Альтернативная гипотеза (Н1): Конверсии группы А и В не равны.\n",
    "\n",
    "alpha = 0.05 (уровень значимости)"
   ]
  },
  {
   "cell_type": "code",
   "execution_count": 58,
   "metadata": {},
   "outputs": [],
   "source": [
    "users_with_many_orders = pd.concat(\n",
    "    [\n",
    "        orders_by_users_a[orders_by_users_a['orders'] > 2]['user_id'],\n",
    "        orders_by_users_b[orders_by_users_b['orders'] > 2]['user_id'],\n",
    "    ],\n",
    "    axis=0,\n",
    ")\n"
   ]
  },
  {
   "cell_type": "code",
   "execution_count": 59,
   "metadata": {},
   "outputs": [],
   "source": [
    "users_with_expensive_orders = orders[orders['revenue'] > 28000]['user_id']"
   ]
  },
  {
   "cell_type": "code",
   "execution_count": 60,
   "metadata": {},
   "outputs": [
    {
     "name": "stdout",
     "output_type": "stream",
     "text": [
      "1099     148427295\n",
      "18       199603092\n",
      "928      204675465\n",
      "23       237748145\n",
      "37       249864742\n",
      "           ...    \n",
      "723     4009017467\n",
      "627     4120364173\n",
      "743     4133034833\n",
      "499     4256040402\n",
      "662     4266935830\n",
      "Name: user_id, Length: 74, dtype: int64\n"
     ]
    }
   ],
   "source": [
    "ab_normal_users = (\n",
    "    pd.concat([users_with_many_orders, users_with_expensive_orders], axis=0)\n",
    "    .drop_duplicates()\n",
    "    .sort_values()\n",
    ")\n",
    "print(ab_normal_users)"
   ]
  },
  {
   "cell_type": "markdown",
   "metadata": {},
   "source": [
    "Всего 74, далее мы их не будем учитывать. Ниже фильтруем наши данные ипроводим тест заново."
   ]
  },
  {
   "cell_type": "code",
   "execution_count": 61,
   "metadata": {},
   "outputs": [],
   "source": [
    "sample_a_filter = pd.concat([orders_by_users_a[np.logical_not(orders_by_users_a['user_id'].isin(ab_normal_users))]['orders'],pd.Series(0, index=np.arange(visitors[visitors['group']=='A']['visitors'].sum() - len(orders_by_users_a['orders'])),name='orders')],axis=0)\n"
   ]
  },
  {
   "cell_type": "code",
   "execution_count": 62,
   "metadata": {},
   "outputs": [],
   "source": [
    "sample_b_filter = pd.concat([orders_by_users_b[np.logical_not(orders_by_users_b['user_id'].isin(ab_normal_users))]['orders'],pd.Series(0, index=np.arange(visitors[visitors['group']=='B']['visitors'].sum() - len(orders_by_users_b['orders'])),name='orders')],axis=0)\n"
   ]
  },
  {
   "cell_type": "code",
   "execution_count": 63,
   "metadata": {},
   "outputs": [
    {
     "name": "stdout",
     "output_type": "stream",
     "text": [
      "p-value: 0.013042592743036745\n",
      "Отвергаем нулевую гипотезу\n"
     ]
    }
   ],
   "source": [
    "p_value = stats.mannwhitneyu(sample_a_filter, sample_b_filter)[1]\n",
    "\n",
    "print('p-value:', p_value)\n",
    "\n",
    "if p_value < alpha:\n",
    "    print(\"Отвергаем нулевую гипотезу\")\n",
    "else:\n",
    "    print(\"Не получилось отвергнуть нулевую гипотезу\") "
   ]
  },
  {
   "cell_type": "code",
   "execution_count": 64,
   "metadata": {},
   "outputs": [
    {
     "name": "stdout",
     "output_type": "stream",
     "text": [
      "Относительный прирост конверсии группы B к группе А равен: 0.17270102073526417\n"
     ]
    }
   ],
   "source": [
    "print('Относительный прирост конверсии группы B к группе А равен:', sample_b_filter.mean()/sample_a_filter.mean()-1)"
   ]
  },
  {
   "cell_type": "markdown",
   "metadata": {},
   "source": [
    "На отфильтрованных данных результат не изменился, p-value меньше 0,05 и статистические различия есть и относительный прирост конверсии группы B к группе А теперь составляет 17,3%"
   ]
  },
  {
   "cell_type": "markdown",
   "metadata": {},
   "source": [
    "### Подсчет статистической значимости различий в среднем чеке заказа между группами по «очищенным» данным"
   ]
  },
  {
   "cell_type": "markdown",
   "metadata": {},
   "source": [
    "Гипотезы остаются прежними:\n",
    "\n",
    "Нулевая гипотеза (Н0): Различий в среднем чеке заказа между группами нет.\n",
    "\n",
    "Альтернативная гипотеза (Н1): Различий в среднем чеке заказа между группами есть.\n",
    "\n",
    "alpha = 0.05 (уровень значимости)"
   ]
  },
  {
   "cell_type": "code",
   "execution_count": 65,
   "metadata": {},
   "outputs": [
    {
     "name": "stdout",
     "output_type": "stream",
     "text": [
      "p-value: 0.738481751314565\n",
      "Не получилось отвергнуть нулевую гипотезу\n"
     ]
    }
   ],
   "source": [
    "p_value = (\n",
    "    stats.mannwhitneyu(\n",
    "            orders[\n",
    "                np.logical_and(\n",
    "                    orders['group'] == 'A',\n",
    "                    np.logical_not(orders['user_id'].isin(ab_normal_users)),\n",
    "                )\n",
    "            ]['revenue'],\n",
    "            orders[\n",
    "                np.logical_and(\n",
    "                    orders['group'] == 'B',\n",
    "                    np.logical_not(orders['user_id'].isin(ab_normal_users)),\n",
    "                )\n",
    "            ]['revenue'],\n",
    "        )[1]\n",
    ")\n",
    "\n",
    "print('p-value:', p_value)\n",
    "\n",
    "if p_value < alpha:\n",
    "    print(\"Отвергаем нулевую гипотезу\")\n",
    "else:\n",
    "    print(\"Не получилось отвергнуть нулевую гипотезу\")"
   ]
  },
  {
   "cell_type": "code",
   "execution_count": 66,
   "metadata": {},
   "outputs": [
    {
     "name": "stdout",
     "output_type": "stream",
     "text": [
      "Относительный прирост среднего чека группы B к группе А равен: -0.019624288331982598\n"
     ]
    }
   ],
   "source": [
    "print(\n",
    "        'Относительный прирост среднего чека группы B к группе А равен:',\n",
    "    orders[\n",
    "            np.logical_and(\n",
    "                orders['group'] == 'B',\n",
    "                np.logical_not(orders['user_id'].isin(ab_normal_users)),\n",
    "            )\n",
    "        ]['revenue'].mean()\n",
    "        / orders[\n",
    "            np.logical_and(\n",
    "                orders['group'] == 'A',\n",
    "                np.logical_not(orders['user_id'].isin(ab_normal_users)),\n",
    "            )\n",
    "        ]['revenue'].mean()\n",
    "        - 1\n",
    "    )"
   ]
  },
  {
   "cell_type": "markdown",
   "metadata": {},
   "source": [
    "Мы не можем отвергать нулевую гипотезу и считать, что в среднем чеке есть различия. При этом, после очищения данных, средний чек группы В примерно на 2 % ниже группы А."
   ]
  },
  {
   "cell_type": "markdown",
   "metadata": {},
   "source": [
    "## Общий вывод"
   ]
  },
  {
   "cell_type": "markdown",
   "metadata": {},
   "source": [
    "Мы анализировали данные за 30 дней крупного интернет-магазина. Необходимо было приоритизировать гипотезы, запустить A/B-тест и проанализировать результаты.\n",
    "\n",
    "Перед началом анализа, мы предобработали данные: переименовали столбцы, привели их к нижнему регистру и изменили тип данных во всех трех таблицах в столбцах с данными о дате.\n",
    "\n",
    "Для приоритизации гипотез воспользовались 2-мя популярными способами: ICE и RICE. В первом случае пятерка лидеров: \n",
    "\n",
    "гипотезы 8, 0, 7, 6, 2 в порядке убывания значимости\n",
    "\n",
    "При использовании второго способа пятерка лидеров совпадает, но изменился порядок: 7, 2, 0, 6, 8. \n",
    "\n",
    "Данные изменения связаны с параметром reach (охват пользователей), очень важный параметр. Если посмотреть на имеющиеся данные, то у гипотезы 8 параметр reach равен 1, а у гипотезы 7 он равен 10. Получается, что гипотеза 7 охватывает не менее половины количество пользователей, а гипотеза 8 лишь небольшую часть пользователей. В данном случае бизнес самостоятельно принимает решение, какую гипотезу считать приоритетной.\n",
    "\n",
    "После этого мы построили график кумулятивной выручки по группам, который показал, что первые пять дней выручка в обеих группах увеличивалась равномерно, следующие 5 дней эксперимента выручка группы В была выше, после чего они сравнялись, далее 4 дня группа В также лидирует, резкий скачок выручки группы В случился с 17.08 и далее равномерно шел вверх. Группа А после 17.08 сильно отставала по выручке. Предположу, что это может быть связано с крупными заказами.\n",
    "\n",
    "Также, построили график кумулятивного среднего чека по группам, который показал, что после 17 августа средний чек группы В резко увеличился.\n",
    "\n",
    "Вместе с тем, мы построили график относительного изменения кумулятивного среднего чека группы B к группе A, в котором в нескольких точках график различия между сегментами сильно скачет, значит в тесте точно есть крупные заказы и выбросы.\n",
    "\n",
    "Исходя из графика кумулятивной конверсии по группам, можно сказать, что примерно после 5 дня эксперимента конверсия группы В стала заметно выше конверсии группы А, обе так и зафиксировались до конца эксперимента.\n",
    "\n",
    "Исходя из графика относительного изменения кумулятивной конверсии группы B к группе A, группа B уверенно лидирует после 6-го дня эксперимента.\n",
    "\n",
    "После первых выводов, мы построили точечные графики количества заказов по пользователям и стоимости заказов, а также посчитали 95-й и 99-й перцентили для каждого показателя соответственно. Краткие выводы:\n",
    "\n",
    "1. Большинство покупателей оформляли заказ 1 раз, есть также небольшое количество покупателей, оформивших 2 заказа и скорее исключения - те покупатели, которые оформляли заказ более 3 раз: 6, 8 или даже 10  и выше заказов. Это скорее исключение, чем тенденция.\n",
    "2. Не более 5 % всех покупателей оформляют свыше 2-х заказов и не более 1 % свыше 4 заказов. На точечном графике это отчетливо видно.\n",
    "3. Имеется заказ на сумму выше 1200000. Также, если обратить внимание на перцентили, то не более 5 % покупателей оформляют заказ на сумму свыше 28000, не более 1 % на сумму свыше 58 тысяч. \n",
    "4. В группе \"В\" были 2 крупных заказа, а именно свыше 200 тысяч и 1 млн. 200 тысяч, что является аномально высокими показателями, они определенно повлияли на результаты исследования.\n",
    "\n",
    "И в конце, мы применили статистический критерий Манна-Уитни и определили статистическую значимость различий в конверсии между группами по «сырым» данным, в результате p-value = 0.0168. Значит,статистически значимые различия в конверсии между группами есть. Относительный прирост конверсии группы B к группе А равен 13,8%.\n",
    "\n",
    "После подсчета статистической значимости различий в среднем чеке заказа между группами по «сырым» данным, мы определили, что \n",
    "P-value = 0.729. P-value больше 0.05. Значит, причин отвергать нулевую гипотезу и считать, что в среднем чеке есть различия, нет. При этом, средний чек группы B выше среднего чека группы A почти на 26 %.\n",
    "\n",
    "Ранее, в анализе, мы проанализировали аномальное количество заказов и и также стоимость заказов и пришли к выводу, что для очищенных данных подойдут заказы в количество 1 или 2, и по стоимости не выше 28000. Отфильтровав данные, мы получили следующие результаты:\n",
    "1. На отфильтрованных данных результат статистической значимости различий в конверсии между группами не изменился, p-value = 0.013 и оно меньше 0,05. Следует, что статистические различия есть и относительный прирост конверсии группы B к группе А теперь составляет 17,3%.\n",
    "2. Мы не можем отвергать нулевую гипотезу и считать, что в среднем чеке есть различия (p-value = 0.738). При этом, после очищения данных, средний чек группы В примерно на 2 % ниже группы А.\n",
    "\n",
    "Нет статистически значимого различия по среднему чеку между группами ни по «сырым», ни по данным после фильтрации аномалий.\n",
    "\n",
    "Рекомендации бизнесу:\n",
    "\n",
    "Хотя и средний чек в группах статистически не отличается, при этом конверсия группы B на 17,3% больше, чем у группы A, это говорит о том, что пользователи группы B чаще совершают покупки. Моя рекомендация: остановить тест, признать его успешным.\n"
   ]
  }
 ],
 "metadata": {
  "ExecuteTimeLog": [
   {
    "duration": 1211,
    "start_time": "2022-09-09T15:01:44.183Z"
   },
   {
    "duration": 65,
    "start_time": "2022-09-09T15:03:58.458Z"
   },
   {
    "duration": 99,
    "start_time": "2022-09-09T15:04:00.703Z"
   },
   {
    "duration": 68,
    "start_time": "2022-09-09T15:04:02.859Z"
   },
   {
    "duration": 3,
    "start_time": "2022-09-09T15:06:15.937Z"
   },
   {
    "duration": 46,
    "start_time": "2022-09-09T15:16:25.411Z"
   },
   {
    "duration": 59,
    "start_time": "2022-09-09T15:16:46.162Z"
   },
   {
    "duration": 36,
    "start_time": "2022-09-09T15:17:07.311Z"
   },
   {
    "duration": 11,
    "start_time": "2022-09-09T15:18:42.095Z"
   },
   {
    "duration": 10,
    "start_time": "2022-09-09T15:19:05.529Z"
   },
   {
    "duration": 10,
    "start_time": "2022-09-09T15:19:46.258Z"
   },
   {
    "duration": 1210,
    "start_time": "2022-09-09T15:42:26.921Z"
   },
   {
    "duration": 36,
    "start_time": "2022-09-09T15:42:28.137Z"
   },
   {
    "duration": 45,
    "start_time": "2022-09-09T15:42:28.175Z"
   },
   {
    "duration": 20,
    "start_time": "2022-09-09T15:42:28.222Z"
   },
   {
    "duration": 11,
    "start_time": "2022-09-09T15:42:28.244Z"
   },
   {
    "duration": 24,
    "start_time": "2022-09-09T15:42:28.257Z"
   },
   {
    "duration": 11,
    "start_time": "2022-09-09T15:42:28.283Z"
   },
   {
    "duration": 51,
    "start_time": "2022-09-09T15:42:28.296Z"
   },
   {
    "duration": 0,
    "start_time": "2022-09-09T15:42:28.348Z"
   },
   {
    "duration": 313,
    "start_time": "2022-09-09T15:42:48.034Z"
   },
   {
    "duration": 4,
    "start_time": "2022-09-09T15:43:19.803Z"
   },
   {
    "duration": 228,
    "start_time": "2022-09-09T15:43:24.574Z"
   },
   {
    "duration": 235,
    "start_time": "2022-09-09T15:43:50.305Z"
   },
   {
    "duration": 6,
    "start_time": "2022-09-09T15:44:26.266Z"
   },
   {
    "duration": 12,
    "start_time": "2022-09-09T15:44:28.780Z"
   },
   {
    "duration": 12,
    "start_time": "2022-09-09T15:45:01.905Z"
   },
   {
    "duration": 14,
    "start_time": "2022-09-09T15:45:12.550Z"
   },
   {
    "duration": 1209,
    "start_time": "2022-09-09T16:09:19.550Z"
   },
   {
    "duration": 4,
    "start_time": "2022-09-09T16:09:50.070Z"
   },
   {
    "duration": 4,
    "start_time": "2022-09-09T16:09:54.102Z"
   },
   {
    "duration": 4,
    "start_time": "2022-09-09T16:09:57.478Z"
   },
   {
    "duration": 12,
    "start_time": "2022-09-09T16:10:00.884Z"
   },
   {
    "duration": 17,
    "start_time": "2022-09-09T16:12:46.887Z"
   },
   {
    "duration": 33,
    "start_time": "2022-09-09T16:14:47.607Z"
   },
   {
    "duration": 6,
    "start_time": "2022-09-09T16:24:59.483Z"
   },
   {
    "duration": 24,
    "start_time": "2022-09-09T16:25:02.534Z"
   },
   {
    "duration": 12,
    "start_time": "2022-09-09T16:25:56.017Z"
   },
   {
    "duration": 21,
    "start_time": "2022-09-09T16:26:49.053Z"
   },
   {
    "duration": 156,
    "start_time": "2022-09-09T16:27:02.882Z"
   },
   {
    "duration": 127,
    "start_time": "2022-09-09T16:27:10.037Z"
   },
   {
    "duration": 7,
    "start_time": "2022-09-09T16:27:16.297Z"
   },
   {
    "duration": 3,
    "start_time": "2022-09-09T16:27:18.523Z"
   },
   {
    "duration": 8,
    "start_time": "2022-09-09T16:27:58.863Z"
   },
   {
    "duration": 340,
    "start_time": "2022-09-09T16:28:28.339Z"
   },
   {
    "duration": 7,
    "start_time": "2022-09-09T16:28:58.992Z"
   },
   {
    "duration": 222,
    "start_time": "2022-09-09T16:29:07.067Z"
   },
   {
    "duration": 209,
    "start_time": "2022-09-09T16:30:54.004Z"
   },
   {
    "duration": 371,
    "start_time": "2022-09-09T16:32:39.620Z"
   },
   {
    "duration": 4,
    "start_time": "2022-09-09T16:35:12.541Z"
   },
   {
    "duration": 4,
    "start_time": "2022-09-09T16:35:38.714Z"
   },
   {
    "duration": 200,
    "start_time": "2022-09-09T16:35:40.688Z"
   },
   {
    "duration": 364,
    "start_time": "2022-09-09T16:38:18.843Z"
   },
   {
    "duration": 1210,
    "start_time": "2022-09-12T10:52:07.785Z"
   },
   {
    "duration": 74,
    "start_time": "2022-09-12T10:52:08.997Z"
   },
   {
    "duration": 91,
    "start_time": "2022-09-12T10:52:09.072Z"
   },
   {
    "duration": 59,
    "start_time": "2022-09-12T10:52:09.164Z"
   },
   {
    "duration": 11,
    "start_time": "2022-09-12T10:52:09.224Z"
   },
   {
    "duration": 14,
    "start_time": "2022-09-12T10:52:09.237Z"
   },
   {
    "duration": 11,
    "start_time": "2022-09-12T10:52:09.253Z"
   },
   {
    "duration": 7,
    "start_time": "2022-09-12T10:52:09.266Z"
   },
   {
    "duration": 18,
    "start_time": "2022-09-12T10:52:09.274Z"
   },
   {
    "duration": 18,
    "start_time": "2022-09-12T10:52:09.294Z"
   },
   {
    "duration": 14,
    "start_time": "2022-09-12T10:52:09.313Z"
   },
   {
    "duration": 5,
    "start_time": "2022-09-12T10:52:09.329Z"
   },
   {
    "duration": 16,
    "start_time": "2022-09-12T10:52:09.336Z"
   },
   {
    "duration": 16,
    "start_time": "2022-09-12T10:52:09.353Z"
   },
   {
    "duration": 9,
    "start_time": "2022-09-12T10:52:09.371Z"
   },
   {
    "duration": 12,
    "start_time": "2022-09-12T10:52:09.382Z"
   },
   {
    "duration": 16,
    "start_time": "2022-09-12T10:52:09.396Z"
   },
   {
    "duration": 184,
    "start_time": "2022-09-12T10:52:09.414Z"
   },
   {
    "duration": 123,
    "start_time": "2022-09-12T10:52:09.600Z"
   },
   {
    "duration": 14,
    "start_time": "2022-09-12T10:52:09.725Z"
   },
   {
    "duration": 26,
    "start_time": "2022-09-12T10:52:09.741Z"
   },
   {
    "duration": 20,
    "start_time": "2022-09-12T10:52:09.769Z"
   },
   {
    "duration": 302,
    "start_time": "2022-09-12T10:52:09.791Z"
   },
   {
    "duration": 232,
    "start_time": "2022-09-12T10:52:10.095Z"
   },
   {
    "duration": 358,
    "start_time": "2022-09-12T10:52:10.328Z"
   },
   {
    "duration": 4,
    "start_time": "2022-09-12T10:52:10.687Z"
   },
   {
    "duration": 16,
    "start_time": "2022-09-12T10:52:10.693Z"
   },
   {
    "duration": 228,
    "start_time": "2022-09-12T10:52:10.712Z"
   },
   {
    "duration": 337,
    "start_time": "2022-09-12T10:52:10.941Z"
   },
   {
    "duration": 8,
    "start_time": "2022-09-12T10:52:11.280Z"
   },
   {
    "duration": 103,
    "start_time": "2022-09-12T10:52:11.290Z"
   },
   {
    "duration": 9,
    "start_time": "2022-09-12T10:53:27.109Z"
   },
   {
    "duration": 10,
    "start_time": "2022-09-12T10:53:44.984Z"
   },
   {
    "duration": 129,
    "start_time": "2022-09-12T10:54:57.849Z"
   },
   {
    "duration": 132,
    "start_time": "2022-09-12T10:55:59.566Z"
   },
   {
    "duration": 4,
    "start_time": "2022-09-12T11:00:47.867Z"
   },
   {
    "duration": 1033,
    "start_time": "2022-09-12T11:15:39.157Z"
   },
   {
    "duration": 38,
    "start_time": "2022-09-12T11:15:40.191Z"
   },
   {
    "duration": 45,
    "start_time": "2022-09-12T11:15:40.230Z"
   },
   {
    "duration": 19,
    "start_time": "2022-09-12T11:15:40.277Z"
   },
   {
    "duration": 9,
    "start_time": "2022-09-12T11:15:40.298Z"
   },
   {
    "duration": 25,
    "start_time": "2022-09-12T11:15:40.309Z"
   },
   {
    "duration": 17,
    "start_time": "2022-09-12T11:15:40.336Z"
   },
   {
    "duration": 17,
    "start_time": "2022-09-12T11:15:40.354Z"
   },
   {
    "duration": 20,
    "start_time": "2022-09-12T11:15:40.373Z"
   },
   {
    "duration": 16,
    "start_time": "2022-09-12T11:15:40.395Z"
   },
   {
    "duration": 16,
    "start_time": "2022-09-12T11:15:40.413Z"
   },
   {
    "duration": 18,
    "start_time": "2022-09-12T11:15:40.430Z"
   },
   {
    "duration": 13,
    "start_time": "2022-09-12T11:15:40.450Z"
   },
   {
    "duration": 14,
    "start_time": "2022-09-12T11:15:40.464Z"
   },
   {
    "duration": 23,
    "start_time": "2022-09-12T11:15:40.479Z"
   },
   {
    "duration": 10,
    "start_time": "2022-09-12T11:15:40.503Z"
   },
   {
    "duration": 14,
    "start_time": "2022-09-12T11:15:40.514Z"
   },
   {
    "duration": 15,
    "start_time": "2022-09-12T11:15:40.529Z"
   },
   {
    "duration": 154,
    "start_time": "2022-09-12T11:15:40.546Z"
   },
   {
    "duration": 116,
    "start_time": "2022-09-12T11:15:40.702Z"
   },
   {
    "duration": 6,
    "start_time": "2022-09-12T11:15:40.819Z"
   },
   {
    "duration": 2,
    "start_time": "2022-09-12T11:15:40.837Z"
   },
   {
    "duration": 12,
    "start_time": "2022-09-12T11:15:40.841Z"
   },
   {
    "duration": 279,
    "start_time": "2022-09-12T11:15:40.854Z"
   },
   {
    "duration": 210,
    "start_time": "2022-09-12T11:15:41.135Z"
   },
   {
    "duration": 337,
    "start_time": "2022-09-12T11:15:41.347Z"
   },
   {
    "duration": 4,
    "start_time": "2022-09-12T11:15:41.686Z"
   },
   {
    "duration": 10,
    "start_time": "2022-09-12T11:15:41.694Z"
   },
   {
    "duration": 228,
    "start_time": "2022-09-12T11:15:41.706Z"
   },
   {
    "duration": 345,
    "start_time": "2022-09-12T11:15:41.936Z"
   },
   {
    "duration": 8,
    "start_time": "2022-09-12T11:15:42.282Z"
   },
   {
    "duration": 53,
    "start_time": "2022-09-12T11:15:42.292Z"
   },
   {
    "duration": 292,
    "start_time": "2022-09-12T11:15:42.347Z"
   },
   {
    "duration": 240,
    "start_time": "2022-09-12T11:15:42.641Z"
   },
   {
    "duration": 57,
    "start_time": "2022-09-12T11:15:42.882Z"
   },
   {
    "duration": 3,
    "start_time": "2022-09-12T11:16:58.934Z"
   },
   {
    "duration": 1024,
    "start_time": "2022-09-12T11:27:29.758Z"
   },
   {
    "duration": 38,
    "start_time": "2022-09-12T11:27:30.784Z"
   },
   {
    "duration": 45,
    "start_time": "2022-09-12T11:27:30.824Z"
   },
   {
    "duration": 23,
    "start_time": "2022-09-12T11:27:30.871Z"
   },
   {
    "duration": 12,
    "start_time": "2022-09-12T11:27:30.896Z"
   },
   {
    "duration": 37,
    "start_time": "2022-09-12T11:27:30.909Z"
   },
   {
    "duration": 21,
    "start_time": "2022-09-12T11:27:30.947Z"
   },
   {
    "duration": 21,
    "start_time": "2022-09-12T11:27:30.970Z"
   },
   {
    "duration": 25,
    "start_time": "2022-09-12T11:27:30.993Z"
   },
   {
    "duration": 17,
    "start_time": "2022-09-12T11:27:31.021Z"
   },
   {
    "duration": 25,
    "start_time": "2022-09-12T11:27:31.040Z"
   },
   {
    "duration": 14,
    "start_time": "2022-09-12T11:27:31.066Z"
   },
   {
    "duration": 18,
    "start_time": "2022-09-12T11:27:31.082Z"
   },
   {
    "duration": 10,
    "start_time": "2022-09-12T11:27:31.102Z"
   },
   {
    "duration": 16,
    "start_time": "2022-09-12T11:27:31.114Z"
   },
   {
    "duration": 18,
    "start_time": "2022-09-12T11:27:31.132Z"
   },
   {
    "duration": 14,
    "start_time": "2022-09-12T11:27:31.152Z"
   },
   {
    "duration": 24,
    "start_time": "2022-09-12T11:27:31.168Z"
   },
   {
    "duration": 40,
    "start_time": "2022-09-12T11:27:31.193Z"
   },
   {
    "duration": 100,
    "start_time": "2022-09-12T11:27:31.234Z"
   },
   {
    "duration": 0,
    "start_time": "2022-09-12T11:27:31.336Z"
   },
   {
    "duration": 0,
    "start_time": "2022-09-12T11:27:31.337Z"
   },
   {
    "duration": 0,
    "start_time": "2022-09-12T11:27:31.338Z"
   },
   {
    "duration": 0,
    "start_time": "2022-09-12T11:27:31.338Z"
   },
   {
    "duration": 0,
    "start_time": "2022-09-12T11:27:31.339Z"
   },
   {
    "duration": 0,
    "start_time": "2022-09-12T11:27:31.340Z"
   },
   {
    "duration": 0,
    "start_time": "2022-09-12T11:27:31.341Z"
   },
   {
    "duration": 0,
    "start_time": "2022-09-12T11:27:31.342Z"
   },
   {
    "duration": 0,
    "start_time": "2022-09-12T11:27:31.343Z"
   },
   {
    "duration": 0,
    "start_time": "2022-09-12T11:27:31.344Z"
   },
   {
    "duration": 0,
    "start_time": "2022-09-12T11:27:31.345Z"
   },
   {
    "duration": 0,
    "start_time": "2022-09-12T11:27:31.346Z"
   },
   {
    "duration": 0,
    "start_time": "2022-09-12T11:27:31.347Z"
   },
   {
    "duration": 0,
    "start_time": "2022-09-12T11:27:31.348Z"
   },
   {
    "duration": 0,
    "start_time": "2022-09-12T11:27:31.349Z"
   },
   {
    "duration": 0,
    "start_time": "2022-09-12T11:27:31.350Z"
   },
   {
    "duration": 1232,
    "start_time": "2022-09-12T11:27:59.961Z"
   },
   {
    "duration": 38,
    "start_time": "2022-09-12T11:28:01.196Z"
   },
   {
    "duration": 44,
    "start_time": "2022-09-12T11:28:01.236Z"
   },
   {
    "duration": 22,
    "start_time": "2022-09-12T11:28:01.283Z"
   },
   {
    "duration": 11,
    "start_time": "2022-09-12T11:28:01.307Z"
   },
   {
    "duration": 22,
    "start_time": "2022-09-12T11:28:01.320Z"
   },
   {
    "duration": 35,
    "start_time": "2022-09-12T11:28:01.343Z"
   },
   {
    "duration": 27,
    "start_time": "2022-09-12T11:28:01.380Z"
   },
   {
    "duration": 31,
    "start_time": "2022-09-12T11:28:01.409Z"
   },
   {
    "duration": 14,
    "start_time": "2022-09-12T11:28:01.444Z"
   },
   {
    "duration": 28,
    "start_time": "2022-09-12T11:28:01.460Z"
   },
   {
    "duration": 9,
    "start_time": "2022-09-12T11:28:01.490Z"
   },
   {
    "duration": 17,
    "start_time": "2022-09-12T11:28:01.500Z"
   },
   {
    "duration": 16,
    "start_time": "2022-09-12T11:28:01.518Z"
   },
   {
    "duration": 7,
    "start_time": "2022-09-12T11:28:01.535Z"
   },
   {
    "duration": 19,
    "start_time": "2022-09-12T11:28:01.543Z"
   },
   {
    "duration": 19,
    "start_time": "2022-09-12T11:28:01.564Z"
   },
   {
    "duration": 11,
    "start_time": "2022-09-12T11:28:01.585Z"
   },
   {
    "duration": 17,
    "start_time": "2022-09-12T11:28:01.598Z"
   },
   {
    "duration": 164,
    "start_time": "2022-09-12T11:28:01.617Z"
   },
   {
    "duration": 121,
    "start_time": "2022-09-12T11:28:01.783Z"
   },
   {
    "duration": 7,
    "start_time": "2022-09-12T11:28:01.906Z"
   },
   {
    "duration": 14,
    "start_time": "2022-09-12T11:28:01.914Z"
   },
   {
    "duration": 13,
    "start_time": "2022-09-12T11:28:01.930Z"
   },
   {
    "duration": 288,
    "start_time": "2022-09-12T11:28:01.945Z"
   },
   {
    "duration": 206,
    "start_time": "2022-09-12T11:28:02.236Z"
   },
   {
    "duration": 2482,
    "start_time": "2022-09-12T11:28:02.443Z"
   },
   {
    "duration": 0,
    "start_time": "2022-09-12T11:28:04.927Z"
   },
   {
    "duration": 0,
    "start_time": "2022-09-12T11:28:04.928Z"
   },
   {
    "duration": 0,
    "start_time": "2022-09-12T11:28:04.929Z"
   },
   {
    "duration": 0,
    "start_time": "2022-09-12T11:28:04.930Z"
   },
   {
    "duration": 0,
    "start_time": "2022-09-12T11:28:04.931Z"
   },
   {
    "duration": 0,
    "start_time": "2022-09-12T11:28:04.931Z"
   },
   {
    "duration": 0,
    "start_time": "2022-09-12T11:28:04.933Z"
   },
   {
    "duration": 0,
    "start_time": "2022-09-12T11:28:04.933Z"
   },
   {
    "duration": 0,
    "start_time": "2022-09-12T11:28:04.934Z"
   },
   {
    "duration": 1013,
    "start_time": "2022-09-12T11:29:01.281Z"
   },
   {
    "duration": 38,
    "start_time": "2022-09-12T11:29:02.295Z"
   },
   {
    "duration": 44,
    "start_time": "2022-09-12T11:29:02.335Z"
   },
   {
    "duration": 20,
    "start_time": "2022-09-12T11:29:02.381Z"
   },
   {
    "duration": 35,
    "start_time": "2022-09-12T11:29:02.403Z"
   },
   {
    "duration": 31,
    "start_time": "2022-09-12T11:29:02.440Z"
   },
   {
    "duration": 33,
    "start_time": "2022-09-12T11:29:02.472Z"
   },
   {
    "duration": 13,
    "start_time": "2022-09-12T11:29:02.507Z"
   },
   {
    "duration": 18,
    "start_time": "2022-09-12T11:29:02.521Z"
   },
   {
    "duration": 52,
    "start_time": "2022-09-12T11:29:02.540Z"
   },
   {
    "duration": 164,
    "start_time": "2022-09-12T11:29:02.594Z"
   },
   {
    "duration": 30,
    "start_time": "2022-09-12T11:29:02.760Z"
   },
   {
    "duration": 10,
    "start_time": "2022-09-12T11:29:02.792Z"
   },
   {
    "duration": 6,
    "start_time": "2022-09-12T11:29:02.805Z"
   },
   {
    "duration": 5,
    "start_time": "2022-09-12T11:29:02.812Z"
   },
   {
    "duration": 24,
    "start_time": "2022-09-12T11:29:02.818Z"
   },
   {
    "duration": 10,
    "start_time": "2022-09-12T11:29:02.843Z"
   },
   {
    "duration": 8,
    "start_time": "2022-09-12T11:29:02.855Z"
   },
   {
    "duration": 16,
    "start_time": "2022-09-12T11:29:02.865Z"
   },
   {
    "duration": 167,
    "start_time": "2022-09-12T11:29:02.883Z"
   },
   {
    "duration": 117,
    "start_time": "2022-09-12T11:29:03.052Z"
   },
   {
    "duration": 5,
    "start_time": "2022-09-12T11:29:03.171Z"
   },
   {
    "duration": 16,
    "start_time": "2022-09-12T11:29:03.178Z"
   },
   {
    "duration": 15,
    "start_time": "2022-09-12T11:29:03.196Z"
   },
   {
    "duration": 303,
    "start_time": "2022-09-12T11:29:03.213Z"
   },
   {
    "duration": 217,
    "start_time": "2022-09-12T11:29:03.517Z"
   },
   {
    "duration": 1459,
    "start_time": "2022-09-12T11:29:03.735Z"
   },
   {
    "duration": 0,
    "start_time": "2022-09-12T11:29:05.195Z"
   },
   {
    "duration": 0,
    "start_time": "2022-09-12T11:29:05.197Z"
   },
   {
    "duration": 0,
    "start_time": "2022-09-12T11:29:05.198Z"
   },
   {
    "duration": 0,
    "start_time": "2022-09-12T11:29:05.199Z"
   },
   {
    "duration": 0,
    "start_time": "2022-09-12T11:29:05.200Z"
   },
   {
    "duration": 0,
    "start_time": "2022-09-12T11:29:05.201Z"
   },
   {
    "duration": 0,
    "start_time": "2022-09-12T11:29:05.202Z"
   },
   {
    "duration": 0,
    "start_time": "2022-09-12T11:29:05.203Z"
   },
   {
    "duration": 0,
    "start_time": "2022-09-12T11:29:05.204Z"
   },
   {
    "duration": 1085,
    "start_time": "2022-09-12T11:29:36.002Z"
   },
   {
    "duration": 37,
    "start_time": "2022-09-12T11:29:37.089Z"
   },
   {
    "duration": 44,
    "start_time": "2022-09-12T11:29:37.127Z"
   },
   {
    "duration": 20,
    "start_time": "2022-09-12T11:29:37.173Z"
   },
   {
    "duration": 10,
    "start_time": "2022-09-12T11:29:37.194Z"
   },
   {
    "duration": 12,
    "start_time": "2022-09-12T11:29:37.206Z"
   },
   {
    "duration": 48,
    "start_time": "2022-09-12T11:29:37.219Z"
   },
   {
    "duration": 10,
    "start_time": "2022-09-12T11:29:37.269Z"
   },
   {
    "duration": 15,
    "start_time": "2022-09-12T11:29:37.281Z"
   },
   {
    "duration": 19,
    "start_time": "2022-09-12T11:29:37.299Z"
   },
   {
    "duration": 16,
    "start_time": "2022-09-12T11:29:37.321Z"
   },
   {
    "duration": 11,
    "start_time": "2022-09-12T11:29:37.340Z"
   },
   {
    "duration": 13,
    "start_time": "2022-09-12T11:29:37.353Z"
   },
   {
    "duration": 14,
    "start_time": "2022-09-12T11:29:37.368Z"
   },
   {
    "duration": 7,
    "start_time": "2022-09-12T11:29:37.383Z"
   },
   {
    "duration": 20,
    "start_time": "2022-09-12T11:29:37.392Z"
   },
   {
    "duration": 15,
    "start_time": "2022-09-12T11:29:37.414Z"
   },
   {
    "duration": 31,
    "start_time": "2022-09-12T11:29:37.438Z"
   },
   {
    "duration": 33,
    "start_time": "2022-09-12T11:29:37.473Z"
   },
   {
    "duration": 185,
    "start_time": "2022-09-12T11:29:37.508Z"
   },
   {
    "duration": 128,
    "start_time": "2022-09-12T11:29:37.695Z"
   },
   {
    "duration": 5,
    "start_time": "2022-09-12T11:29:37.825Z"
   },
   {
    "duration": 14,
    "start_time": "2022-09-12T11:29:37.837Z"
   },
   {
    "duration": 29,
    "start_time": "2022-09-12T11:29:37.852Z"
   },
   {
    "duration": 284,
    "start_time": "2022-09-12T11:29:37.882Z"
   },
   {
    "duration": 208,
    "start_time": "2022-09-12T11:29:38.168Z"
   },
   {
    "duration": 297,
    "start_time": "2022-09-12T11:29:38.377Z"
   },
   {
    "duration": 4,
    "start_time": "2022-09-12T11:29:38.677Z"
   },
   {
    "duration": 44,
    "start_time": "2022-09-12T11:29:38.682Z"
   },
   {
    "duration": 239,
    "start_time": "2022-09-12T11:29:38.728Z"
   },
   {
    "duration": 892,
    "start_time": "2022-09-12T11:29:38.969Z"
   },
   {
    "duration": 0,
    "start_time": "2022-09-12T11:29:39.862Z"
   },
   {
    "duration": 0,
    "start_time": "2022-09-12T11:29:39.863Z"
   },
   {
    "duration": 0,
    "start_time": "2022-09-12T11:29:39.864Z"
   },
   {
    "duration": 0,
    "start_time": "2022-09-12T11:29:39.865Z"
   },
   {
    "duration": 0,
    "start_time": "2022-09-12T11:29:39.866Z"
   },
   {
    "duration": 1084,
    "start_time": "2022-09-12T11:30:12.596Z"
   },
   {
    "duration": 39,
    "start_time": "2022-09-12T11:30:13.681Z"
   },
   {
    "duration": 44,
    "start_time": "2022-09-12T11:30:13.721Z"
   },
   {
    "duration": 21,
    "start_time": "2022-09-12T11:30:13.767Z"
   },
   {
    "duration": 12,
    "start_time": "2022-09-12T11:30:13.789Z"
   },
   {
    "duration": 14,
    "start_time": "2022-09-12T11:30:13.802Z"
   },
   {
    "duration": 14,
    "start_time": "2022-09-12T11:30:13.818Z"
   },
   {
    "duration": 8,
    "start_time": "2022-09-12T11:30:13.834Z"
   },
   {
    "duration": 20,
    "start_time": "2022-09-12T11:30:13.843Z"
   },
   {
    "duration": 27,
    "start_time": "2022-09-12T11:30:13.866Z"
   },
   {
    "duration": 20,
    "start_time": "2022-09-12T11:30:13.895Z"
   },
   {
    "duration": 15,
    "start_time": "2022-09-12T11:30:13.917Z"
   },
   {
    "duration": 37,
    "start_time": "2022-09-12T11:30:13.934Z"
   },
   {
    "duration": 19,
    "start_time": "2022-09-12T11:30:13.972Z"
   },
   {
    "duration": 19,
    "start_time": "2022-09-12T11:30:13.992Z"
   },
   {
    "duration": 34,
    "start_time": "2022-09-12T11:30:14.013Z"
   },
   {
    "duration": 11,
    "start_time": "2022-09-12T11:30:14.048Z"
   },
   {
    "duration": 23,
    "start_time": "2022-09-12T11:30:14.060Z"
   },
   {
    "duration": 20,
    "start_time": "2022-09-12T11:30:14.085Z"
   },
   {
    "duration": 152,
    "start_time": "2022-09-12T11:30:14.107Z"
   },
   {
    "duration": 122,
    "start_time": "2022-09-12T11:30:14.261Z"
   },
   {
    "duration": 6,
    "start_time": "2022-09-12T11:30:14.384Z"
   },
   {
    "duration": 16,
    "start_time": "2022-09-12T11:30:14.391Z"
   },
   {
    "duration": 13,
    "start_time": "2022-09-12T11:30:14.409Z"
   },
   {
    "duration": 275,
    "start_time": "2022-09-12T11:30:14.423Z"
   },
   {
    "duration": 220,
    "start_time": "2022-09-12T11:30:14.700Z"
   },
   {
    "duration": 328,
    "start_time": "2022-09-12T11:30:14.922Z"
   },
   {
    "duration": 4,
    "start_time": "2022-09-12T11:30:15.253Z"
   },
   {
    "duration": 21,
    "start_time": "2022-09-12T11:30:15.259Z"
   },
   {
    "duration": 234,
    "start_time": "2022-09-12T11:30:15.282Z"
   },
   {
    "duration": 344,
    "start_time": "2022-09-12T11:30:15.517Z"
   },
   {
    "duration": 8,
    "start_time": "2022-09-12T11:30:15.863Z"
   },
   {
    "duration": 18,
    "start_time": "2022-09-12T11:30:15.873Z"
   },
   {
    "duration": 139,
    "start_time": "2022-09-12T11:30:15.893Z"
   },
   {
    "duration": 136,
    "start_time": "2022-09-12T11:30:16.034Z"
   },
   {
    "duration": 5,
    "start_time": "2022-09-12T11:30:16.172Z"
   },
   {
    "duration": 163,
    "start_time": "2022-09-12T11:31:54.411Z"
   },
   {
    "duration": 213,
    "start_time": "2022-09-12T11:32:19.913Z"
   },
   {
    "duration": 151,
    "start_time": "2022-09-12T11:34:11.432Z"
   },
   {
    "duration": 142,
    "start_time": "2022-09-12T11:34:20.508Z"
   },
   {
    "duration": 4,
    "start_time": "2022-09-12T11:35:03.693Z"
   },
   {
    "duration": 51,
    "start_time": "2022-09-12T18:44:00.099Z"
   },
   {
    "duration": 1252,
    "start_time": "2022-09-12T18:44:24.117Z"
   },
   {
    "duration": 78,
    "start_time": "2022-09-12T18:44:25.371Z"
   },
   {
    "duration": 132,
    "start_time": "2022-09-12T18:44:25.450Z"
   },
   {
    "duration": 58,
    "start_time": "2022-09-12T18:44:25.584Z"
   },
   {
    "duration": 11,
    "start_time": "2022-09-12T18:44:25.644Z"
   },
   {
    "duration": 35,
    "start_time": "2022-09-12T18:44:25.657Z"
   },
   {
    "duration": 15,
    "start_time": "2022-09-12T18:44:25.693Z"
   },
   {
    "duration": 6,
    "start_time": "2022-09-12T18:44:25.710Z"
   },
   {
    "duration": 16,
    "start_time": "2022-09-12T18:44:25.717Z"
   },
   {
    "duration": 13,
    "start_time": "2022-09-12T18:44:25.736Z"
   },
   {
    "duration": 13,
    "start_time": "2022-09-12T18:44:25.751Z"
   },
   {
    "duration": 63,
    "start_time": "2022-09-12T18:44:25.765Z"
   },
   {
    "duration": 31,
    "start_time": "2022-09-12T18:44:25.829Z"
   },
   {
    "duration": 17,
    "start_time": "2022-09-12T18:44:25.862Z"
   },
   {
    "duration": 7,
    "start_time": "2022-09-12T18:44:25.880Z"
   },
   {
    "duration": 16,
    "start_time": "2022-09-12T18:44:25.888Z"
   },
   {
    "duration": 10,
    "start_time": "2022-09-12T18:44:25.905Z"
   },
   {
    "duration": 7,
    "start_time": "2022-09-12T18:44:25.917Z"
   },
   {
    "duration": 13,
    "start_time": "2022-09-12T18:44:25.925Z"
   },
   {
    "duration": 171,
    "start_time": "2022-09-12T18:44:25.939Z"
   },
   {
    "duration": 120,
    "start_time": "2022-09-12T18:44:26.111Z"
   },
   {
    "duration": 6,
    "start_time": "2022-09-12T18:44:26.233Z"
   },
   {
    "duration": 9,
    "start_time": "2022-09-12T18:44:26.240Z"
   },
   {
    "duration": 13,
    "start_time": "2022-09-12T18:44:26.250Z"
   },
   {
    "duration": 306,
    "start_time": "2022-09-12T18:44:26.265Z"
   },
   {
    "duration": 220,
    "start_time": "2022-09-12T18:44:26.573Z"
   },
   {
    "duration": 378,
    "start_time": "2022-09-12T18:44:26.794Z"
   },
   {
    "duration": 4,
    "start_time": "2022-09-12T18:44:27.176Z"
   },
   {
    "duration": 8,
    "start_time": "2022-09-12T18:44:27.182Z"
   },
   {
    "duration": 241,
    "start_time": "2022-09-12T18:44:27.192Z"
   },
   {
    "duration": 320,
    "start_time": "2022-09-12T18:44:27.435Z"
   },
   {
    "duration": 9,
    "start_time": "2022-09-12T18:44:27.757Z"
   },
   {
    "duration": 14,
    "start_time": "2022-09-12T18:44:27.767Z"
   },
   {
    "duration": 165,
    "start_time": "2022-09-12T18:44:27.783Z"
   },
   {
    "duration": 153,
    "start_time": "2022-09-12T18:44:27.950Z"
   },
   {
    "duration": 4,
    "start_time": "2022-09-12T18:44:28.109Z"
   },
   {
    "duration": 165,
    "start_time": "2022-09-12T18:44:28.115Z"
   },
   {
    "duration": 214,
    "start_time": "2022-09-12T18:44:28.281Z"
   },
   {
    "duration": 4,
    "start_time": "2022-09-12T18:44:28.496Z"
   },
   {
    "duration": 117,
    "start_time": "2022-09-12T18:44:28.501Z"
   },
   {
    "duration": 1041,
    "start_time": "2022-09-12T18:49:20.220Z"
   },
   {
    "duration": 39,
    "start_time": "2022-09-12T18:49:21.263Z"
   },
   {
    "duration": 44,
    "start_time": "2022-09-12T18:49:21.303Z"
   },
   {
    "duration": 19,
    "start_time": "2022-09-12T18:49:21.348Z"
   },
   {
    "duration": 10,
    "start_time": "2022-09-12T18:49:21.370Z"
   },
   {
    "duration": 33,
    "start_time": "2022-09-12T18:49:21.382Z"
   },
   {
    "duration": 12,
    "start_time": "2022-09-12T18:49:21.416Z"
   },
   {
    "duration": 6,
    "start_time": "2022-09-12T18:49:21.430Z"
   },
   {
    "duration": 15,
    "start_time": "2022-09-12T18:49:21.437Z"
   },
   {
    "duration": 16,
    "start_time": "2022-09-12T18:49:21.454Z"
   },
   {
    "duration": 11,
    "start_time": "2022-09-12T18:49:21.472Z"
   },
   {
    "duration": 4,
    "start_time": "2022-09-12T18:49:21.484Z"
   },
   {
    "duration": 21,
    "start_time": "2022-09-12T18:49:21.489Z"
   },
   {
    "duration": 3,
    "start_time": "2022-09-12T18:49:21.513Z"
   },
   {
    "duration": 4,
    "start_time": "2022-09-12T18:49:21.518Z"
   },
   {
    "duration": 13,
    "start_time": "2022-09-12T18:49:21.524Z"
   },
   {
    "duration": 10,
    "start_time": "2022-09-12T18:49:21.538Z"
   },
   {
    "duration": 8,
    "start_time": "2022-09-12T18:49:21.549Z"
   },
   {
    "duration": 12,
    "start_time": "2022-09-12T18:49:21.559Z"
   },
   {
    "duration": 192,
    "start_time": "2022-09-12T18:49:21.573Z"
   },
   {
    "duration": 120,
    "start_time": "2022-09-12T18:49:21.767Z"
   },
   {
    "duration": 20,
    "start_time": "2022-09-12T18:49:21.889Z"
   },
   {
    "duration": 6,
    "start_time": "2022-09-12T18:49:21.910Z"
   },
   {
    "duration": 13,
    "start_time": "2022-09-12T18:49:21.918Z"
   },
   {
    "duration": 282,
    "start_time": "2022-09-12T18:49:21.933Z"
   },
   {
    "duration": 210,
    "start_time": "2022-09-12T18:49:22.217Z"
   },
   {
    "duration": 300,
    "start_time": "2022-09-12T18:49:22.428Z"
   },
   {
    "duration": 4,
    "start_time": "2022-09-12T18:49:22.729Z"
   },
   {
    "duration": 6,
    "start_time": "2022-09-12T18:49:22.734Z"
   },
   {
    "duration": 230,
    "start_time": "2022-09-12T18:49:22.742Z"
   },
   {
    "duration": 352,
    "start_time": "2022-09-12T18:49:22.973Z"
   },
   {
    "duration": 8,
    "start_time": "2022-09-12T18:49:23.327Z"
   },
   {
    "duration": 12,
    "start_time": "2022-09-12T18:49:23.336Z"
   },
   {
    "duration": 150,
    "start_time": "2022-09-12T18:49:23.350Z"
   },
   {
    "duration": 149,
    "start_time": "2022-09-12T18:49:23.502Z"
   },
   {
    "duration": 4,
    "start_time": "2022-09-12T18:49:23.652Z"
   },
   {
    "duration": 159,
    "start_time": "2022-09-12T18:49:23.657Z"
   },
   {
    "duration": 226,
    "start_time": "2022-09-12T18:49:23.817Z"
   },
   {
    "duration": 4,
    "start_time": "2022-09-12T18:49:24.045Z"
   },
   {
    "duration": 11,
    "start_time": "2022-09-12T18:49:24.050Z"
   },
   {
    "duration": 6,
    "start_time": "2022-09-12T18:55:06.207Z"
   },
   {
    "duration": 1046,
    "start_time": "2022-09-12T19:18:28.112Z"
   },
   {
    "duration": 36,
    "start_time": "2022-09-12T19:18:29.160Z"
   },
   {
    "duration": 43,
    "start_time": "2022-09-12T19:18:29.197Z"
   },
   {
    "duration": 19,
    "start_time": "2022-09-12T19:18:29.241Z"
   },
   {
    "duration": 21,
    "start_time": "2022-09-12T19:18:29.262Z"
   },
   {
    "duration": 23,
    "start_time": "2022-09-12T19:18:29.285Z"
   },
   {
    "duration": 12,
    "start_time": "2022-09-12T19:18:29.309Z"
   },
   {
    "duration": 6,
    "start_time": "2022-09-12T19:18:29.322Z"
   },
   {
    "duration": 11,
    "start_time": "2022-09-12T19:18:29.329Z"
   },
   {
    "duration": 13,
    "start_time": "2022-09-12T19:18:29.342Z"
   },
   {
    "duration": 12,
    "start_time": "2022-09-12T19:18:29.357Z"
   },
   {
    "duration": 4,
    "start_time": "2022-09-12T19:18:29.371Z"
   },
   {
    "duration": 5,
    "start_time": "2022-09-12T19:18:29.377Z"
   },
   {
    "duration": 3,
    "start_time": "2022-09-12T19:18:29.409Z"
   },
   {
    "duration": 3,
    "start_time": "2022-09-12T19:18:29.414Z"
   },
   {
    "duration": 12,
    "start_time": "2022-09-12T19:18:29.419Z"
   },
   {
    "duration": 9,
    "start_time": "2022-09-12T19:18:29.433Z"
   },
   {
    "duration": 8,
    "start_time": "2022-09-12T19:18:29.444Z"
   },
   {
    "duration": 13,
    "start_time": "2022-09-12T19:18:29.453Z"
   },
   {
    "duration": 185,
    "start_time": "2022-09-12T19:18:29.467Z"
   },
   {
    "duration": 121,
    "start_time": "2022-09-12T19:18:29.653Z"
   },
   {
    "duration": 5,
    "start_time": "2022-09-12T19:18:29.775Z"
   },
   {
    "duration": 6,
    "start_time": "2022-09-12T19:18:29.782Z"
   },
   {
    "duration": 6,
    "start_time": "2022-09-12T19:18:29.790Z"
   },
   {
    "duration": 289,
    "start_time": "2022-09-12T19:18:29.797Z"
   },
   {
    "duration": 213,
    "start_time": "2022-09-12T19:18:30.087Z"
   },
   {
    "duration": 319,
    "start_time": "2022-09-12T19:18:30.302Z"
   },
   {
    "duration": 4,
    "start_time": "2022-09-12T19:18:30.622Z"
   },
   {
    "duration": 24,
    "start_time": "2022-09-12T19:18:30.627Z"
   },
   {
    "duration": 216,
    "start_time": "2022-09-12T19:18:30.653Z"
   },
   {
    "duration": 324,
    "start_time": "2022-09-12T19:18:30.871Z"
   },
   {
    "duration": 18,
    "start_time": "2022-09-12T19:18:31.197Z"
   },
   {
    "duration": 24,
    "start_time": "2022-09-12T19:18:31.216Z"
   },
   {
    "duration": 148,
    "start_time": "2022-09-12T19:18:31.242Z"
   },
   {
    "duration": 147,
    "start_time": "2022-09-12T19:18:31.392Z"
   },
   {
    "duration": 4,
    "start_time": "2022-09-12T19:18:31.541Z"
   },
   {
    "duration": 163,
    "start_time": "2022-09-12T19:18:31.546Z"
   },
   {
    "duration": 206,
    "start_time": "2022-09-12T19:18:31.710Z"
   },
   {
    "duration": 3,
    "start_time": "2022-09-12T19:18:31.918Z"
   },
   {
    "duration": 11,
    "start_time": "2022-09-12T19:18:31.923Z"
   },
   {
    "duration": 6,
    "start_time": "2022-09-12T19:18:31.938Z"
   },
   {
    "duration": 6,
    "start_time": "2022-09-12T19:18:31.945Z"
   },
   {
    "duration": 12,
    "start_time": "2022-09-12T19:18:41.483Z"
   },
   {
    "duration": 157,
    "start_time": "2022-09-12T19:19:34.581Z"
   },
   {
    "duration": 6,
    "start_time": "2022-09-12T19:19:37.615Z"
   },
   {
    "duration": 5,
    "start_time": "2022-09-12T19:19:39.724Z"
   },
   {
    "duration": 4,
    "start_time": "2022-09-12T19:19:54.483Z"
   },
   {
    "duration": 6,
    "start_time": "2022-09-12T19:20:01.680Z"
   },
   {
    "duration": 12,
    "start_time": "2022-09-12T19:20:04.106Z"
   },
   {
    "duration": 7,
    "start_time": "2022-09-12T19:21:28.375Z"
   },
   {
    "duration": 6,
    "start_time": "2022-09-12T19:22:18.916Z"
   },
   {
    "duration": 212,
    "start_time": "2022-09-12T19:27:00.639Z"
   },
   {
    "duration": 211,
    "start_time": "2022-09-12T19:27:21.082Z"
   },
   {
    "duration": 211,
    "start_time": "2022-09-12T19:30:14.577Z"
   },
   {
    "duration": 229,
    "start_time": "2022-09-12T19:30:32.477Z"
   },
   {
    "duration": 54,
    "start_time": "2022-09-12T19:31:31.223Z"
   },
   {
    "duration": 227,
    "start_time": "2022-09-12T19:31:47.646Z"
   },
   {
    "duration": 209,
    "start_time": "2022-09-12T19:35:08.588Z"
   },
   {
    "duration": 207,
    "start_time": "2022-09-12T19:36:34.915Z"
   },
   {
    "duration": 198,
    "start_time": "2022-09-12T19:36:42.231Z"
   },
   {
    "duration": 6,
    "start_time": "2022-09-12T19:38:28.781Z"
   },
   {
    "duration": 5,
    "start_time": "2022-09-12T19:38:37.437Z"
   },
   {
    "duration": 1248,
    "start_time": "2022-09-14T12:26:46.124Z"
   },
   {
    "duration": 91,
    "start_time": "2022-09-14T12:26:47.374Z"
   },
   {
    "duration": 80,
    "start_time": "2022-09-14T12:26:47.466Z"
   },
   {
    "duration": 62,
    "start_time": "2022-09-14T12:26:47.547Z"
   },
   {
    "duration": 10,
    "start_time": "2022-09-14T12:26:47.611Z"
   },
   {
    "duration": 17,
    "start_time": "2022-09-14T12:26:47.623Z"
   },
   {
    "duration": 10,
    "start_time": "2022-09-14T12:26:47.642Z"
   },
   {
    "duration": 8,
    "start_time": "2022-09-14T12:26:47.653Z"
   },
   {
    "duration": 11,
    "start_time": "2022-09-14T12:26:47.662Z"
   },
   {
    "duration": 10,
    "start_time": "2022-09-14T12:26:47.675Z"
   },
   {
    "duration": 14,
    "start_time": "2022-09-14T12:26:47.686Z"
   },
   {
    "duration": 2,
    "start_time": "2022-09-14T12:26:47.702Z"
   },
   {
    "duration": 17,
    "start_time": "2022-09-14T12:26:47.706Z"
   },
   {
    "duration": 7,
    "start_time": "2022-09-14T12:26:47.726Z"
   },
   {
    "duration": 5,
    "start_time": "2022-09-14T12:26:47.735Z"
   },
   {
    "duration": 12,
    "start_time": "2022-09-14T12:26:47.741Z"
   },
   {
    "duration": 10,
    "start_time": "2022-09-14T12:26:47.754Z"
   },
   {
    "duration": 8,
    "start_time": "2022-09-14T12:26:47.765Z"
   },
   {
    "duration": 11,
    "start_time": "2022-09-14T12:26:47.775Z"
   },
   {
    "duration": 180,
    "start_time": "2022-09-14T12:26:47.788Z"
   },
   {
    "duration": 119,
    "start_time": "2022-09-14T12:26:47.969Z"
   },
   {
    "duration": 14,
    "start_time": "2022-09-14T12:26:48.089Z"
   },
   {
    "duration": 8,
    "start_time": "2022-09-14T12:26:48.104Z"
   },
   {
    "duration": 16,
    "start_time": "2022-09-14T12:26:48.113Z"
   },
   {
    "duration": 273,
    "start_time": "2022-09-14T12:26:48.131Z"
   },
   {
    "duration": 206,
    "start_time": "2022-09-14T12:26:48.406Z"
   },
   {
    "duration": 351,
    "start_time": "2022-09-14T12:26:48.614Z"
   },
   {
    "duration": 3,
    "start_time": "2022-09-14T12:26:48.967Z"
   },
   {
    "duration": 8,
    "start_time": "2022-09-14T12:26:48.971Z"
   },
   {
    "duration": 217,
    "start_time": "2022-09-14T12:26:48.981Z"
   },
   {
    "duration": 353,
    "start_time": "2022-09-14T12:26:49.200Z"
   },
   {
    "duration": 8,
    "start_time": "2022-09-14T12:26:49.554Z"
   },
   {
    "duration": 11,
    "start_time": "2022-09-14T12:26:49.564Z"
   },
   {
    "duration": 154,
    "start_time": "2022-09-14T12:26:49.576Z"
   },
   {
    "duration": 162,
    "start_time": "2022-09-14T12:26:49.731Z"
   },
   {
    "duration": 5,
    "start_time": "2022-09-14T12:26:49.894Z"
   },
   {
    "duration": 172,
    "start_time": "2022-09-14T12:26:49.901Z"
   },
   {
    "duration": 224,
    "start_time": "2022-09-14T12:26:50.075Z"
   },
   {
    "duration": 4,
    "start_time": "2022-09-14T12:26:50.301Z"
   },
   {
    "duration": 17,
    "start_time": "2022-09-14T12:26:50.306Z"
   },
   {
    "duration": 46,
    "start_time": "2022-09-14T12:26:50.326Z"
   },
   {
    "duration": 6,
    "start_time": "2022-09-14T12:26:50.374Z"
   },
   {
    "duration": 47,
    "start_time": "2022-09-14T12:26:50.381Z"
   },
   {
    "duration": 20,
    "start_time": "2022-09-14T12:26:50.429Z"
   },
   {
    "duration": 47,
    "start_time": "2022-09-14T12:26:50.450Z"
   },
   {
    "duration": 25,
    "start_time": "2022-09-14T12:26:50.498Z"
   },
   {
    "duration": 48,
    "start_time": "2022-09-14T12:26:50.524Z"
   },
   {
    "duration": 19,
    "start_time": "2022-09-14T12:26:50.573Z"
   },
   {
    "duration": 83,
    "start_time": "2022-09-14T12:26:50.593Z"
   },
   {
    "duration": 80,
    "start_time": "2022-09-14T12:26:50.677Z"
   },
   {
    "duration": 5,
    "start_time": "2022-09-14T12:26:50.758Z"
   },
   {
    "duration": 5,
    "start_time": "2022-09-14T12:26:50.765Z"
   },
   {
    "duration": 21,
    "start_time": "2022-09-14T12:26:50.771Z"
   },
   {
    "duration": 4,
    "start_time": "2022-09-14T12:26:50.793Z"
   },
   {
    "duration": 24,
    "start_time": "2022-09-14T12:26:50.798Z"
   },
   {
    "duration": 9,
    "start_time": "2022-09-14T12:26:50.824Z"
   },
   {
    "duration": 10,
    "start_time": "2022-09-14T12:26:50.835Z"
   },
   {
    "duration": 9,
    "start_time": "2022-09-14T12:26:50.846Z"
   },
   {
    "duration": 8,
    "start_time": "2022-09-14T12:26:50.857Z"
   },
   {
    "duration": 7,
    "start_time": "2022-09-14T12:34:29.440Z"
   },
   {
    "duration": 4,
    "start_time": "2022-09-14T12:34:31.483Z"
   },
   {
    "duration": 89,
    "start_time": "2022-09-14T12:34:32.050Z"
   },
   {
    "duration": 5,
    "start_time": "2022-09-14T12:34:39.710Z"
   },
   {
    "duration": 7,
    "start_time": "2022-09-14T12:34:52.917Z"
   },
   {
    "duration": 6,
    "start_time": "2022-09-14T12:35:01.653Z"
   },
   {
    "duration": 5,
    "start_time": "2022-09-14T12:35:20.880Z"
   },
   {
    "duration": 5,
    "start_time": "2022-09-14T12:36:11.601Z"
   },
   {
    "duration": 7,
    "start_time": "2022-09-14T12:36:12.917Z"
   },
   {
    "duration": 4,
    "start_time": "2022-09-14T12:36:20.359Z"
   },
   {
    "duration": 5,
    "start_time": "2022-09-14T12:36:20.960Z"
   },
   {
    "duration": 5,
    "start_time": "2022-09-14T13:04:52.469Z"
   },
   {
    "duration": 4,
    "start_time": "2022-09-14T13:05:49.488Z"
   },
   {
    "duration": 3,
    "start_time": "2022-09-14T13:05:51.105Z"
   },
   {
    "duration": 5,
    "start_time": "2022-09-14T13:05:52.215Z"
   },
   {
    "duration": 5,
    "start_time": "2022-09-14T13:05:53.099Z"
   },
   {
    "duration": 6,
    "start_time": "2022-09-14T13:05:54.036Z"
   },
   {
    "duration": 30,
    "start_time": "2022-09-14T13:05:54.865Z"
   },
   {
    "duration": 4,
    "start_time": "2022-09-14T13:05:55.898Z"
   },
   {
    "duration": 2077,
    "start_time": "2022-09-14T13:07:04.718Z"
   },
   {
    "duration": 0,
    "start_time": "2022-09-14T13:07:06.797Z"
   },
   {
    "duration": 10,
    "start_time": "2022-09-14T13:07:48.680Z"
   },
   {
    "duration": 7,
    "start_time": "2022-09-14T13:08:07.573Z"
   },
   {
    "duration": 1145,
    "start_time": "2022-09-14T13:08:37.306Z"
   },
   {
    "duration": 37,
    "start_time": "2022-09-14T13:08:38.453Z"
   },
   {
    "duration": 46,
    "start_time": "2022-09-14T13:08:38.492Z"
   },
   {
    "duration": 22,
    "start_time": "2022-09-14T13:08:38.540Z"
   },
   {
    "duration": 11,
    "start_time": "2022-09-14T13:08:38.563Z"
   },
   {
    "duration": 14,
    "start_time": "2022-09-14T13:08:38.576Z"
   },
   {
    "duration": 14,
    "start_time": "2022-09-14T13:08:38.592Z"
   },
   {
    "duration": 8,
    "start_time": "2022-09-14T13:08:38.608Z"
   },
   {
    "duration": 17,
    "start_time": "2022-09-14T13:08:38.618Z"
   },
   {
    "duration": 14,
    "start_time": "2022-09-14T13:08:38.637Z"
   },
   {
    "duration": 12,
    "start_time": "2022-09-14T13:08:38.653Z"
   },
   {
    "duration": 4,
    "start_time": "2022-09-14T13:08:38.667Z"
   },
   {
    "duration": 6,
    "start_time": "2022-09-14T13:08:38.673Z"
   },
   {
    "duration": 6,
    "start_time": "2022-09-14T13:08:38.680Z"
   },
   {
    "duration": 7,
    "start_time": "2022-09-14T13:08:38.687Z"
   },
   {
    "duration": 26,
    "start_time": "2022-09-14T13:08:38.696Z"
   },
   {
    "duration": 10,
    "start_time": "2022-09-14T13:08:38.723Z"
   },
   {
    "duration": 10,
    "start_time": "2022-09-14T13:08:38.735Z"
   },
   {
    "duration": 16,
    "start_time": "2022-09-14T13:08:38.747Z"
   },
   {
    "duration": 195,
    "start_time": "2022-09-14T13:08:38.765Z"
   },
   {
    "duration": 131,
    "start_time": "2022-09-14T13:08:38.962Z"
   },
   {
    "duration": 6,
    "start_time": "2022-09-14T13:08:39.095Z"
   },
   {
    "duration": 9,
    "start_time": "2022-09-14T13:08:39.103Z"
   },
   {
    "duration": 14,
    "start_time": "2022-09-14T13:08:39.113Z"
   },
   {
    "duration": 292,
    "start_time": "2022-09-14T13:08:39.128Z"
   },
   {
    "duration": 218,
    "start_time": "2022-09-14T13:08:39.421Z"
   },
   {
    "duration": 316,
    "start_time": "2022-09-14T13:08:39.641Z"
   },
   {
    "duration": 4,
    "start_time": "2022-09-14T13:08:39.961Z"
   },
   {
    "duration": 12,
    "start_time": "2022-09-14T13:08:39.966Z"
   },
   {
    "duration": 234,
    "start_time": "2022-09-14T13:08:39.980Z"
   },
   {
    "duration": 349,
    "start_time": "2022-09-14T13:08:40.216Z"
   },
   {
    "duration": 9,
    "start_time": "2022-09-14T13:08:40.567Z"
   },
   {
    "duration": 16,
    "start_time": "2022-09-14T13:08:40.577Z"
   },
   {
    "duration": 156,
    "start_time": "2022-09-14T13:08:40.595Z"
   },
   {
    "duration": 162,
    "start_time": "2022-09-14T13:08:40.753Z"
   },
   {
    "duration": 7,
    "start_time": "2022-09-14T13:08:40.917Z"
   },
   {
    "duration": 173,
    "start_time": "2022-09-14T13:08:40.926Z"
   },
   {
    "duration": 238,
    "start_time": "2022-09-14T13:08:41.100Z"
   },
   {
    "duration": 4,
    "start_time": "2022-09-14T13:08:41.340Z"
   },
   {
    "duration": 7,
    "start_time": "2022-09-14T13:08:41.346Z"
   },
   {
    "duration": 45,
    "start_time": "2022-09-14T13:08:41.354Z"
   },
   {
    "duration": 21,
    "start_time": "2022-09-14T13:08:41.401Z"
   },
   {
    "duration": 45,
    "start_time": "2022-09-14T13:08:41.423Z"
   },
   {
    "duration": 15,
    "start_time": "2022-09-14T13:08:41.470Z"
   },
   {
    "duration": 59,
    "start_time": "2022-09-14T13:08:41.487Z"
   },
   {
    "duration": 19,
    "start_time": "2022-09-14T13:08:41.547Z"
   },
   {
    "duration": 58,
    "start_time": "2022-09-14T13:08:41.568Z"
   },
   {
    "duration": 30,
    "start_time": "2022-09-14T13:08:41.628Z"
   },
   {
    "duration": 83,
    "start_time": "2022-09-14T13:08:41.660Z"
   },
   {
    "duration": 85,
    "start_time": "2022-09-14T13:08:41.745Z"
   },
   {
    "duration": 5,
    "start_time": "2022-09-14T13:08:41.832Z"
   },
   {
    "duration": 8,
    "start_time": "2022-09-14T13:08:41.838Z"
   },
   {
    "duration": 24,
    "start_time": "2022-09-14T13:08:41.847Z"
   },
   {
    "duration": 5,
    "start_time": "2022-09-14T13:08:41.872Z"
   },
   {
    "duration": 12,
    "start_time": "2022-09-14T13:08:41.879Z"
   },
   {
    "duration": 33,
    "start_time": "2022-09-14T13:08:41.892Z"
   },
   {
    "duration": 7,
    "start_time": "2022-09-14T13:08:41.926Z"
   },
   {
    "duration": 13,
    "start_time": "2022-09-14T13:08:41.934Z"
   },
   {
    "duration": 9,
    "start_time": "2022-09-14T13:08:41.948Z"
   },
   {
    "duration": 7,
    "start_time": "2022-09-14T13:08:41.958Z"
   },
   {
    "duration": 9,
    "start_time": "2022-09-14T13:08:41.967Z"
   },
   {
    "duration": 28,
    "start_time": "2022-09-14T13:08:41.978Z"
   },
   {
    "duration": 21,
    "start_time": "2022-09-14T13:08:42.008Z"
   },
   {
    "duration": 13,
    "start_time": "2022-09-14T13:08:42.031Z"
   },
   {
    "duration": 10,
    "start_time": "2022-09-14T13:08:42.046Z"
   },
   {
    "duration": 8,
    "start_time": "2022-09-14T13:12:22.328Z"
   },
   {
    "duration": 8,
    "start_time": "2022-09-14T13:12:46.676Z"
   },
   {
    "duration": 32,
    "start_time": "2022-09-14T13:14:27.339Z"
   },
   {
    "duration": 34,
    "start_time": "2022-09-14T13:26:10.109Z"
   },
   {
    "duration": 8,
    "start_time": "2022-09-14T13:32:30.703Z"
   },
   {
    "duration": 8,
    "start_time": "2022-09-14T13:32:33.522Z"
   },
   {
    "duration": 240,
    "start_time": "2022-09-14T14:23:40.814Z"
   },
   {
    "duration": 206,
    "start_time": "2022-09-14T14:24:22.546Z"
   },
   {
    "duration": 177,
    "start_time": "2022-09-14T14:24:32.264Z"
   },
   {
    "duration": 183,
    "start_time": "2022-09-14T14:26:14.060Z"
   },
   {
    "duration": 210,
    "start_time": "2022-09-14T14:33:00.294Z"
   },
   {
    "duration": 183,
    "start_time": "2022-09-14T14:33:28.465Z"
   },
   {
    "duration": 341,
    "start_time": "2022-09-14T14:39:11.268Z"
   },
   {
    "duration": 9,
    "start_time": "2022-09-14T14:39:49.371Z"
   },
   {
    "duration": 8,
    "start_time": "2022-09-14T14:40:01.012Z"
   },
   {
    "duration": 7,
    "start_time": "2022-09-14T14:40:21.307Z"
   },
   {
    "duration": 409,
    "start_time": "2022-09-14T14:44:34.045Z"
   },
   {
    "duration": 431,
    "start_time": "2022-09-14T14:44:41.659Z"
   },
   {
    "duration": 324,
    "start_time": "2022-09-14T14:45:12.973Z"
   },
   {
    "duration": 199,
    "start_time": "2022-09-14T14:45:22.048Z"
   },
   {
    "duration": 268,
    "start_time": "2022-09-14T14:48:22.878Z"
   },
   {
    "duration": 306,
    "start_time": "2022-09-14T14:48:54.468Z"
   },
   {
    "duration": 341,
    "start_time": "2022-09-14T14:49:21.945Z"
   },
   {
    "duration": 433,
    "start_time": "2022-09-14T15:00:16.892Z"
   },
   {
    "duration": 1029,
    "start_time": "2022-09-14T15:00:29.021Z"
   },
   {
    "duration": 37,
    "start_time": "2022-09-14T15:00:30.052Z"
   },
   {
    "duration": 44,
    "start_time": "2022-09-14T15:00:30.091Z"
   },
   {
    "duration": 20,
    "start_time": "2022-09-14T15:00:30.138Z"
   },
   {
    "duration": 10,
    "start_time": "2022-09-14T15:00:30.160Z"
   },
   {
    "duration": 36,
    "start_time": "2022-09-14T15:00:30.172Z"
   },
   {
    "duration": 12,
    "start_time": "2022-09-14T15:00:30.211Z"
   },
   {
    "duration": 14,
    "start_time": "2022-09-14T15:00:30.225Z"
   },
   {
    "duration": 15,
    "start_time": "2022-09-14T15:00:30.240Z"
   },
   {
    "duration": 20,
    "start_time": "2022-09-14T15:00:30.257Z"
   },
   {
    "duration": 21,
    "start_time": "2022-09-14T15:00:30.279Z"
   },
   {
    "duration": 4,
    "start_time": "2022-09-14T15:00:30.301Z"
   },
   {
    "duration": 10,
    "start_time": "2022-09-14T15:00:30.308Z"
   },
   {
    "duration": 6,
    "start_time": "2022-09-14T15:00:30.320Z"
   },
   {
    "duration": 13,
    "start_time": "2022-09-14T15:00:30.327Z"
   },
   {
    "duration": 26,
    "start_time": "2022-09-14T15:00:30.341Z"
   },
   {
    "duration": 21,
    "start_time": "2022-09-14T15:00:30.369Z"
   },
   {
    "duration": 15,
    "start_time": "2022-09-14T15:00:30.391Z"
   },
   {
    "duration": 11,
    "start_time": "2022-09-14T15:00:30.408Z"
   },
   {
    "duration": 152,
    "start_time": "2022-09-14T15:00:30.420Z"
   },
   {
    "duration": 113,
    "start_time": "2022-09-14T15:00:30.574Z"
   },
   {
    "duration": 5,
    "start_time": "2022-09-14T15:00:30.689Z"
   },
   {
    "duration": 44,
    "start_time": "2022-09-14T15:00:30.695Z"
   },
   {
    "duration": 13,
    "start_time": "2022-09-14T15:00:30.741Z"
   },
   {
    "duration": 275,
    "start_time": "2022-09-14T15:00:30.755Z"
   },
   {
    "duration": 204,
    "start_time": "2022-09-14T15:00:31.031Z"
   },
   {
    "duration": 302,
    "start_time": "2022-09-14T15:00:31.236Z"
   },
   {
    "duration": 4,
    "start_time": "2022-09-14T15:00:31.541Z"
   },
   {
    "duration": 10,
    "start_time": "2022-09-14T15:00:31.546Z"
   },
   {
    "duration": 197,
    "start_time": "2022-09-14T15:00:31.557Z"
   },
   {
    "duration": 410,
    "start_time": "2022-09-14T15:00:31.756Z"
   },
   {
    "duration": 0,
    "start_time": "2022-09-14T15:00:32.169Z"
   },
   {
    "duration": 0,
    "start_time": "2022-09-14T15:00:32.170Z"
   },
   {
    "duration": 0,
    "start_time": "2022-09-14T15:00:32.171Z"
   },
   {
    "duration": 0,
    "start_time": "2022-09-14T15:00:32.172Z"
   },
   {
    "duration": 0,
    "start_time": "2022-09-14T15:00:32.173Z"
   },
   {
    "duration": 0,
    "start_time": "2022-09-14T15:00:32.174Z"
   },
   {
    "duration": 0,
    "start_time": "2022-09-14T15:00:32.175Z"
   },
   {
    "duration": 0,
    "start_time": "2022-09-14T15:00:32.176Z"
   },
   {
    "duration": 0,
    "start_time": "2022-09-14T15:00:32.177Z"
   },
   {
    "duration": 0,
    "start_time": "2022-09-14T15:00:32.178Z"
   },
   {
    "duration": 0,
    "start_time": "2022-09-14T15:00:32.179Z"
   },
   {
    "duration": 0,
    "start_time": "2022-09-14T15:00:32.180Z"
   },
   {
    "duration": 0,
    "start_time": "2022-09-14T15:00:32.182Z"
   },
   {
    "duration": 0,
    "start_time": "2022-09-14T15:00:32.183Z"
   },
   {
    "duration": 0,
    "start_time": "2022-09-14T15:00:32.184Z"
   },
   {
    "duration": 0,
    "start_time": "2022-09-14T15:00:32.185Z"
   },
   {
    "duration": 0,
    "start_time": "2022-09-14T15:00:32.186Z"
   },
   {
    "duration": 0,
    "start_time": "2022-09-14T15:00:32.221Z"
   },
   {
    "duration": 0,
    "start_time": "2022-09-14T15:00:32.222Z"
   },
   {
    "duration": 0,
    "start_time": "2022-09-14T15:00:32.223Z"
   },
   {
    "duration": 0,
    "start_time": "2022-09-14T15:00:32.224Z"
   },
   {
    "duration": 0,
    "start_time": "2022-09-14T15:00:32.224Z"
   },
   {
    "duration": 0,
    "start_time": "2022-09-14T15:00:32.225Z"
   },
   {
    "duration": 0,
    "start_time": "2022-09-14T15:00:32.226Z"
   },
   {
    "duration": 0,
    "start_time": "2022-09-14T15:00:32.227Z"
   },
   {
    "duration": 0,
    "start_time": "2022-09-14T15:00:32.228Z"
   },
   {
    "duration": 0,
    "start_time": "2022-09-14T15:00:32.229Z"
   },
   {
    "duration": 0,
    "start_time": "2022-09-14T15:00:32.230Z"
   },
   {
    "duration": 0,
    "start_time": "2022-09-14T15:00:32.231Z"
   },
   {
    "duration": 0,
    "start_time": "2022-09-14T15:00:32.232Z"
   },
   {
    "duration": 0,
    "start_time": "2022-09-14T15:00:32.233Z"
   },
   {
    "duration": 0,
    "start_time": "2022-09-14T15:00:32.234Z"
   },
   {
    "duration": 0,
    "start_time": "2022-09-14T15:00:32.235Z"
   },
   {
    "duration": 0,
    "start_time": "2022-09-14T15:00:32.236Z"
   },
   {
    "duration": 0,
    "start_time": "2022-09-14T15:00:32.237Z"
   },
   {
    "duration": 364,
    "start_time": "2022-09-14T15:04:50.860Z"
   },
   {
    "duration": 379,
    "start_time": "2022-09-14T15:05:09.209Z"
   },
   {
    "duration": 11,
    "start_time": "2022-09-14T15:09:21.049Z"
   },
   {
    "duration": 10,
    "start_time": "2022-09-14T15:09:21.437Z"
   },
   {
    "duration": 128,
    "start_time": "2022-09-14T15:09:22.391Z"
   },
   {
    "duration": 206,
    "start_time": "2022-09-14T15:10:07.193Z"
   },
   {
    "duration": 137,
    "start_time": "2022-09-14T15:12:22.540Z"
   },
   {
    "duration": 1057,
    "start_time": "2022-09-14T15:20:54.819Z"
   },
   {
    "duration": 37,
    "start_time": "2022-09-14T15:20:55.879Z"
   },
   {
    "duration": 43,
    "start_time": "2022-09-14T15:20:55.918Z"
   },
   {
    "duration": 18,
    "start_time": "2022-09-14T15:20:55.963Z"
   },
   {
    "duration": 10,
    "start_time": "2022-09-14T15:20:55.983Z"
   },
   {
    "duration": 16,
    "start_time": "2022-09-14T15:20:55.994Z"
   },
   {
    "duration": 19,
    "start_time": "2022-09-14T15:20:56.012Z"
   },
   {
    "duration": 13,
    "start_time": "2022-09-14T15:20:56.032Z"
   },
   {
    "duration": 17,
    "start_time": "2022-09-14T15:20:56.047Z"
   },
   {
    "duration": 16,
    "start_time": "2022-09-14T15:20:56.066Z"
   },
   {
    "duration": 17,
    "start_time": "2022-09-14T15:20:56.084Z"
   },
   {
    "duration": 10,
    "start_time": "2022-09-14T15:20:56.103Z"
   },
   {
    "duration": 8,
    "start_time": "2022-09-14T15:20:56.115Z"
   },
   {
    "duration": 8,
    "start_time": "2022-09-14T15:20:56.126Z"
   },
   {
    "duration": 9,
    "start_time": "2022-09-14T15:20:56.136Z"
   },
   {
    "duration": 19,
    "start_time": "2022-09-14T15:20:56.147Z"
   },
   {
    "duration": 11,
    "start_time": "2022-09-14T15:20:56.168Z"
   },
   {
    "duration": 10,
    "start_time": "2022-09-14T15:20:56.181Z"
   },
   {
    "duration": 16,
    "start_time": "2022-09-14T15:20:56.193Z"
   },
   {
    "duration": 150,
    "start_time": "2022-09-14T15:20:56.222Z"
   },
   {
    "duration": 117,
    "start_time": "2022-09-14T15:20:56.374Z"
   },
   {
    "duration": 5,
    "start_time": "2022-09-14T15:20:56.493Z"
   },
   {
    "duration": 6,
    "start_time": "2022-09-14T15:20:56.499Z"
   },
   {
    "duration": 14,
    "start_time": "2022-09-14T15:20:56.507Z"
   },
   {
    "duration": 269,
    "start_time": "2022-09-14T15:20:56.523Z"
   },
   {
    "duration": 208,
    "start_time": "2022-09-14T15:20:56.793Z"
   },
   {
    "duration": 335,
    "start_time": "2022-09-14T15:20:57.002Z"
   },
   {
    "duration": 4,
    "start_time": "2022-09-14T15:20:57.338Z"
   },
   {
    "duration": 7,
    "start_time": "2022-09-14T15:20:57.343Z"
   },
   {
    "duration": 207,
    "start_time": "2022-09-14T15:20:57.352Z"
   },
   {
    "duration": 319,
    "start_time": "2022-09-14T15:20:57.560Z"
   },
   {
    "duration": 8,
    "start_time": "2022-09-14T15:20:57.881Z"
   },
   {
    "duration": 11,
    "start_time": "2022-09-14T15:20:57.890Z"
   },
   {
    "duration": 172,
    "start_time": "2022-09-14T15:20:57.903Z"
   },
   {
    "duration": 137,
    "start_time": "2022-09-14T15:20:58.077Z"
   },
   {
    "duration": 4,
    "start_time": "2022-09-14T15:20:58.221Z"
   },
   {
    "duration": 149,
    "start_time": "2022-09-14T15:20:58.226Z"
   },
   {
    "duration": 221,
    "start_time": "2022-09-14T15:20:58.376Z"
   },
   {
    "duration": 4,
    "start_time": "2022-09-14T15:20:58.599Z"
   },
   {
    "duration": 9,
    "start_time": "2022-09-14T15:20:58.604Z"
   },
   {
    "duration": 42,
    "start_time": "2022-09-14T15:20:58.623Z"
   },
   {
    "duration": 16,
    "start_time": "2022-09-14T15:20:58.666Z"
   },
   {
    "duration": 44,
    "start_time": "2022-09-14T15:20:58.683Z"
   },
   {
    "duration": 12,
    "start_time": "2022-09-14T15:20:58.729Z"
   },
   {
    "duration": 51,
    "start_time": "2022-09-14T15:20:58.743Z"
   },
   {
    "duration": 26,
    "start_time": "2022-09-14T15:20:58.795Z"
   },
   {
    "duration": 47,
    "start_time": "2022-09-14T15:20:58.823Z"
   },
   {
    "duration": 31,
    "start_time": "2022-09-14T15:20:58.872Z"
   },
   {
    "duration": 75,
    "start_time": "2022-09-14T15:20:58.904Z"
   },
   {
    "duration": 76,
    "start_time": "2022-09-14T15:20:58.980Z"
   },
   {
    "duration": 4,
    "start_time": "2022-09-14T15:20:59.057Z"
   },
   {
    "duration": 7,
    "start_time": "2022-09-14T15:20:59.062Z"
   },
   {
    "duration": 19,
    "start_time": "2022-09-14T15:20:59.070Z"
   },
   {
    "duration": 4,
    "start_time": "2022-09-14T15:20:59.090Z"
   },
   {
    "duration": 9,
    "start_time": "2022-09-14T15:20:59.095Z"
   },
   {
    "duration": 18,
    "start_time": "2022-09-14T15:20:59.105Z"
   },
   {
    "duration": 5,
    "start_time": "2022-09-14T15:20:59.125Z"
   },
   {
    "duration": 5,
    "start_time": "2022-09-14T15:20:59.131Z"
   },
   {
    "duration": 7,
    "start_time": "2022-09-14T15:20:59.138Z"
   },
   {
    "duration": 7,
    "start_time": "2022-09-14T15:20:59.146Z"
   },
   {
    "duration": 6,
    "start_time": "2022-09-14T15:20:59.154Z"
   },
   {
    "duration": 18,
    "start_time": "2022-09-14T15:20:59.162Z"
   },
   {
    "duration": 4,
    "start_time": "2022-09-14T15:20:59.181Z"
   },
   {
    "duration": 36,
    "start_time": "2022-09-14T15:20:59.186Z"
   },
   {
    "duration": 7,
    "start_time": "2022-09-14T15:20:59.223Z"
   },
   {
    "duration": 11,
    "start_time": "2022-09-14T15:20:59.231Z"
   },
   {
    "duration": 4,
    "start_time": "2022-09-14T15:25:46.409Z"
   },
   {
    "duration": 160,
    "start_time": "2022-09-14T15:26:48.405Z"
   },
   {
    "duration": 172,
    "start_time": "2022-09-14T15:30:33.131Z"
   },
   {
    "duration": 157,
    "start_time": "2022-09-14T15:31:53.501Z"
   },
   {
    "duration": 158,
    "start_time": "2022-09-14T15:32:05.350Z"
   },
   {
    "duration": 177,
    "start_time": "2022-09-14T15:32:24.391Z"
   },
   {
    "duration": 169,
    "start_time": "2022-09-14T15:32:51.821Z"
   },
   {
    "duration": 200,
    "start_time": "2022-09-14T15:36:25.838Z"
   },
   {
    "duration": 163,
    "start_time": "2022-09-14T15:37:03.854Z"
   },
   {
    "duration": 163,
    "start_time": "2022-09-14T15:37:16.882Z"
   },
   {
    "duration": 4,
    "start_time": "2022-09-14T15:39:59.112Z"
   },
   {
    "duration": 7,
    "start_time": "2022-09-14T15:42:33.790Z"
   },
   {
    "duration": 9,
    "start_time": "2022-09-14T15:44:30.375Z"
   },
   {
    "duration": 79,
    "start_time": "2022-09-14T16:23:43.701Z"
   },
   {
    "duration": 98,
    "start_time": "2022-09-14T16:23:54.835Z"
   },
   {
    "duration": 94,
    "start_time": "2022-09-14T16:24:22.865Z"
   },
   {
    "duration": 166,
    "start_time": "2022-09-14T16:28:59.554Z"
   },
   {
    "duration": 262,
    "start_time": "2022-09-14T16:29:07.445Z"
   },
   {
    "duration": 174,
    "start_time": "2022-09-14T16:29:14.590Z"
   },
   {
    "duration": 157,
    "start_time": "2022-09-14T16:29:18.768Z"
   },
   {
    "duration": 354,
    "start_time": "2022-09-14T16:29:26.594Z"
   },
   {
    "duration": 211,
    "start_time": "2022-09-14T16:29:33.643Z"
   },
   {
    "duration": 362,
    "start_time": "2022-09-14T16:29:39.098Z"
   },
   {
    "duration": 208,
    "start_time": "2022-09-14T16:29:43.819Z"
   },
   {
    "duration": 209,
    "start_time": "2022-09-14T16:29:51.460Z"
   },
   {
    "duration": 4,
    "start_time": "2022-09-14T16:34:59.748Z"
   },
   {
    "duration": 4,
    "start_time": "2022-09-14T16:36:48.223Z"
   },
   {
    "duration": 18,
    "start_time": "2022-09-14T16:37:49.162Z"
   },
   {
    "duration": 1106,
    "start_time": "2022-09-14T16:38:11.395Z"
   },
   {
    "duration": 38,
    "start_time": "2022-09-14T16:38:12.502Z"
   },
   {
    "duration": 44,
    "start_time": "2022-09-14T16:38:12.542Z"
   },
   {
    "duration": 19,
    "start_time": "2022-09-14T16:38:12.588Z"
   },
   {
    "duration": 12,
    "start_time": "2022-09-14T16:38:12.609Z"
   },
   {
    "duration": 13,
    "start_time": "2022-09-14T16:38:12.622Z"
   },
   {
    "duration": 23,
    "start_time": "2022-09-14T16:38:12.637Z"
   },
   {
    "duration": 14,
    "start_time": "2022-09-14T16:38:12.662Z"
   },
   {
    "duration": 13,
    "start_time": "2022-09-14T16:38:12.677Z"
   },
   {
    "duration": 13,
    "start_time": "2022-09-14T16:38:12.693Z"
   },
   {
    "duration": 11,
    "start_time": "2022-09-14T16:38:12.724Z"
   },
   {
    "duration": 6,
    "start_time": "2022-09-14T16:38:12.736Z"
   },
   {
    "duration": 7,
    "start_time": "2022-09-14T16:38:12.744Z"
   },
   {
    "duration": 7,
    "start_time": "2022-09-14T16:38:12.752Z"
   },
   {
    "duration": 4,
    "start_time": "2022-09-14T16:38:12.761Z"
   },
   {
    "duration": 13,
    "start_time": "2022-09-14T16:38:12.767Z"
   },
   {
    "duration": 11,
    "start_time": "2022-09-14T16:38:12.781Z"
   },
   {
    "duration": 6,
    "start_time": "2022-09-14T16:38:12.794Z"
   },
   {
    "duration": 10,
    "start_time": "2022-09-14T16:38:12.801Z"
   },
   {
    "duration": 269,
    "start_time": "2022-09-14T16:38:12.812Z"
   },
   {
    "duration": 158,
    "start_time": "2022-09-14T16:38:13.083Z"
   },
   {
    "duration": 5,
    "start_time": "2022-09-14T16:38:13.243Z"
   },
   {
    "duration": 6,
    "start_time": "2022-09-14T16:38:13.250Z"
   },
   {
    "duration": 7,
    "start_time": "2022-09-14T16:38:13.258Z"
   },
   {
    "duration": 303,
    "start_time": "2022-09-14T16:38:13.267Z"
   },
   {
    "duration": 194,
    "start_time": "2022-09-14T16:38:13.572Z"
   },
   {
    "duration": 286,
    "start_time": "2022-09-14T16:38:13.768Z"
   },
   {
    "duration": 4,
    "start_time": "2022-09-14T16:38:14.057Z"
   },
   {
    "duration": 6,
    "start_time": "2022-09-14T16:38:14.062Z"
   },
   {
    "duration": 218,
    "start_time": "2022-09-14T16:38:14.069Z"
   },
   {
    "duration": 345,
    "start_time": "2022-09-14T16:38:14.289Z"
   },
   {
    "duration": 8,
    "start_time": "2022-09-14T16:38:14.636Z"
   },
   {
    "duration": 18,
    "start_time": "2022-09-14T16:38:14.645Z"
   },
   {
    "duration": 161,
    "start_time": "2022-09-14T16:38:14.665Z"
   },
   {
    "duration": 157,
    "start_time": "2022-09-14T16:38:14.828Z"
   },
   {
    "duration": 3,
    "start_time": "2022-09-14T16:38:14.987Z"
   },
   {
    "duration": 178,
    "start_time": "2022-09-14T16:38:14.992Z"
   },
   {
    "duration": 237,
    "start_time": "2022-09-14T16:38:15.171Z"
   },
   {
    "duration": 4,
    "start_time": "2022-09-14T16:38:15.409Z"
   },
   {
    "duration": 15,
    "start_time": "2022-09-14T16:38:15.422Z"
   },
   {
    "duration": 6,
    "start_time": "2022-09-14T16:38:15.438Z"
   },
   {
    "duration": 51,
    "start_time": "2022-09-14T16:38:15.445Z"
   },
   {
    "duration": 28,
    "start_time": "2022-09-14T16:38:15.497Z"
   },
   {
    "duration": 46,
    "start_time": "2022-09-14T16:38:15.526Z"
   },
   {
    "duration": 13,
    "start_time": "2022-09-14T16:38:15.574Z"
   },
   {
    "duration": 45,
    "start_time": "2022-09-14T16:38:15.588Z"
   },
   {
    "duration": 13,
    "start_time": "2022-09-14T16:38:15.635Z"
   },
   {
    "duration": 61,
    "start_time": "2022-09-14T16:38:15.649Z"
   },
   {
    "duration": 23,
    "start_time": "2022-09-14T16:38:15.711Z"
   },
   {
    "duration": 61,
    "start_time": "2022-09-14T16:38:15.735Z"
   },
   {
    "duration": 66,
    "start_time": "2022-09-14T16:38:15.797Z"
   },
   {
    "duration": 4,
    "start_time": "2022-09-14T16:38:15.864Z"
   },
   {
    "duration": 10,
    "start_time": "2022-09-14T16:38:15.869Z"
   },
   {
    "duration": 20,
    "start_time": "2022-09-14T16:38:15.880Z"
   },
   {
    "duration": 4,
    "start_time": "2022-09-14T16:38:15.901Z"
   },
   {
    "duration": 20,
    "start_time": "2022-09-14T16:38:15.906Z"
   },
   {
    "duration": 5,
    "start_time": "2022-09-14T16:38:15.928Z"
   },
   {
    "duration": 8,
    "start_time": "2022-09-14T16:38:15.934Z"
   },
   {
    "duration": 4,
    "start_time": "2022-09-14T16:38:15.943Z"
   },
   {
    "duration": 6,
    "start_time": "2022-09-14T16:38:15.949Z"
   },
   {
    "duration": 7,
    "start_time": "2022-09-14T16:38:15.957Z"
   },
   {
    "duration": 7,
    "start_time": "2022-09-14T16:38:15.965Z"
   },
   {
    "duration": 18,
    "start_time": "2022-09-14T16:38:15.973Z"
   },
   {
    "duration": 6,
    "start_time": "2022-09-14T16:38:15.992Z"
   },
   {
    "duration": 29,
    "start_time": "2022-09-14T16:38:16.000Z"
   },
   {
    "duration": 9,
    "start_time": "2022-09-14T16:38:16.031Z"
   },
   {
    "duration": 12,
    "start_time": "2022-09-14T16:38:16.041Z"
   },
   {
    "duration": 6,
    "start_time": "2022-09-14T16:50:49.738Z"
   },
   {
    "duration": 7,
    "start_time": "2022-09-14T16:51:06.111Z"
   },
   {
    "duration": 19,
    "start_time": "2022-09-14T16:52:50.608Z"
   },
   {
    "duration": 4,
    "start_time": "2022-09-14T16:53:18.390Z"
   },
   {
    "duration": 6,
    "start_time": "2022-09-14T16:58:23.264Z"
   },
   {
    "duration": 6,
    "start_time": "2022-09-14T16:58:23.928Z"
   },
   {
    "duration": 19,
    "start_time": "2022-09-14T16:58:24.488Z"
   },
   {
    "duration": 3,
    "start_time": "2022-09-14T16:58:25.660Z"
   },
   {
    "duration": 19,
    "start_time": "2022-09-14T16:58:43.893Z"
   },
   {
    "duration": 6,
    "start_time": "2022-09-14T16:58:46.036Z"
   },
   {
    "duration": 1281,
    "start_time": "2022-09-14T17:19:37.689Z"
   },
   {
    "duration": 1335,
    "start_time": "2022-09-14T17:19:38.973Z"
   },
   {
    "duration": 7,
    "start_time": "2022-09-14T17:20:39.741Z"
   },
   {
    "duration": 7,
    "start_time": "2022-09-14T17:20:54.077Z"
   },
   {
    "duration": 31,
    "start_time": "2022-09-14T17:20:56.830Z"
   },
   {
    "duration": 6,
    "start_time": "2022-09-14T17:20:57.909Z"
   },
   {
    "duration": 1117,
    "start_time": "2022-09-14T17:21:07.175Z"
   },
   {
    "duration": 43,
    "start_time": "2022-09-14T17:21:08.294Z"
   },
   {
    "duration": 43,
    "start_time": "2022-09-14T17:21:08.339Z"
   },
   {
    "duration": 20,
    "start_time": "2022-09-14T17:21:08.385Z"
   },
   {
    "duration": 13,
    "start_time": "2022-09-14T17:21:08.407Z"
   },
   {
    "duration": 25,
    "start_time": "2022-09-14T17:21:08.423Z"
   },
   {
    "duration": 16,
    "start_time": "2022-09-14T17:21:08.450Z"
   },
   {
    "duration": 7,
    "start_time": "2022-09-14T17:21:08.468Z"
   },
   {
    "duration": 13,
    "start_time": "2022-09-14T17:21:08.477Z"
   },
   {
    "duration": 32,
    "start_time": "2022-09-14T17:21:08.493Z"
   },
   {
    "duration": 12,
    "start_time": "2022-09-14T17:21:08.526Z"
   },
   {
    "duration": 6,
    "start_time": "2022-09-14T17:21:08.539Z"
   },
   {
    "duration": 10,
    "start_time": "2022-09-14T17:21:08.546Z"
   },
   {
    "duration": 8,
    "start_time": "2022-09-14T17:21:08.558Z"
   },
   {
    "duration": 5,
    "start_time": "2022-09-14T17:21:08.568Z"
   },
   {
    "duration": 13,
    "start_time": "2022-09-14T17:21:08.575Z"
   },
   {
    "duration": 43,
    "start_time": "2022-09-14T17:21:08.589Z"
   },
   {
    "duration": 10,
    "start_time": "2022-09-14T17:21:08.635Z"
   },
   {
    "duration": 13,
    "start_time": "2022-09-14T17:21:08.648Z"
   },
   {
    "duration": 182,
    "start_time": "2022-09-14T17:21:08.663Z"
   },
   {
    "duration": 143,
    "start_time": "2022-09-14T17:21:08.847Z"
   },
   {
    "duration": 6,
    "start_time": "2022-09-14T17:21:08.992Z"
   },
   {
    "duration": 7,
    "start_time": "2022-09-14T17:21:08.999Z"
   },
   {
    "duration": 7,
    "start_time": "2022-09-14T17:21:09.022Z"
   },
   {
    "duration": 301,
    "start_time": "2022-09-14T17:21:09.030Z"
   },
   {
    "duration": 257,
    "start_time": "2022-09-14T17:21:09.332Z"
   },
   {
    "duration": 400,
    "start_time": "2022-09-14T17:21:09.591Z"
   },
   {
    "duration": 4,
    "start_time": "2022-09-14T17:21:09.996Z"
   },
   {
    "duration": 23,
    "start_time": "2022-09-14T17:21:10.002Z"
   },
   {
    "duration": 251,
    "start_time": "2022-09-14T17:21:10.027Z"
   },
   {
    "duration": 419,
    "start_time": "2022-09-14T17:21:10.281Z"
   },
   {
    "duration": 20,
    "start_time": "2022-09-14T17:21:10.702Z"
   },
   {
    "duration": 17,
    "start_time": "2022-09-14T17:21:10.725Z"
   },
   {
    "duration": 201,
    "start_time": "2022-09-14T17:21:10.745Z"
   },
   {
    "duration": 199,
    "start_time": "2022-09-14T17:21:10.948Z"
   },
   {
    "duration": 5,
    "start_time": "2022-09-14T17:21:11.150Z"
   },
   {
    "duration": 233,
    "start_time": "2022-09-14T17:21:11.157Z"
   },
   {
    "duration": 326,
    "start_time": "2022-09-14T17:21:11.392Z"
   },
   {
    "duration": 5,
    "start_time": "2022-09-14T17:21:11.720Z"
   },
   {
    "duration": 18,
    "start_time": "2022-09-14T17:21:11.728Z"
   },
   {
    "duration": 13,
    "start_time": "2022-09-14T17:21:11.748Z"
   },
   {
    "duration": 70,
    "start_time": "2022-09-14T17:21:11.763Z"
   },
   {
    "duration": 7,
    "start_time": "2022-09-14T17:21:11.835Z"
   },
   {
    "duration": 51,
    "start_time": "2022-09-14T17:21:11.844Z"
   },
   {
    "duration": 39,
    "start_time": "2022-09-14T17:21:11.897Z"
   },
   {
    "duration": 54,
    "start_time": "2022-09-14T17:21:11.938Z"
   },
   {
    "duration": 34,
    "start_time": "2022-09-14T17:21:11.994Z"
   },
   {
    "duration": 53,
    "start_time": "2022-09-14T17:21:12.030Z"
   },
   {
    "duration": 43,
    "start_time": "2022-09-14T17:21:12.085Z"
   },
   {
    "duration": 70,
    "start_time": "2022-09-14T17:21:12.130Z"
   },
   {
    "duration": 124,
    "start_time": "2022-09-14T17:21:12.202Z"
   },
   {
    "duration": 10,
    "start_time": "2022-09-14T17:21:12.327Z"
   },
   {
    "duration": 13,
    "start_time": "2022-09-14T17:21:12.338Z"
   },
   {
    "duration": 25,
    "start_time": "2022-09-14T17:21:12.353Z"
   },
   {
    "duration": 4,
    "start_time": "2022-09-14T17:21:12.380Z"
   },
   {
    "duration": 37,
    "start_time": "2022-09-14T17:21:12.386Z"
   },
   {
    "duration": 8,
    "start_time": "2022-09-14T17:21:12.425Z"
   },
   {
    "duration": 7,
    "start_time": "2022-09-14T17:21:12.434Z"
   },
   {
    "duration": 7,
    "start_time": "2022-09-14T17:21:12.443Z"
   },
   {
    "duration": 8,
    "start_time": "2022-09-14T17:21:12.452Z"
   },
   {
    "duration": 8,
    "start_time": "2022-09-14T17:21:12.463Z"
   },
   {
    "duration": 7,
    "start_time": "2022-09-14T17:21:12.472Z"
   },
   {
    "duration": 58,
    "start_time": "2022-09-14T17:21:12.481Z"
   },
   {
    "duration": 4,
    "start_time": "2022-09-14T17:21:12.541Z"
   },
   {
    "duration": 18,
    "start_time": "2022-09-14T17:21:12.547Z"
   },
   {
    "duration": 16,
    "start_time": "2022-09-14T17:21:12.567Z"
   },
   {
    "duration": 7,
    "start_time": "2022-09-14T17:23:26.963Z"
   },
   {
    "duration": 7,
    "start_time": "2022-09-14T17:23:27.615Z"
   },
   {
    "duration": 20,
    "start_time": "2022-09-14T17:23:28.190Z"
   },
   {
    "duration": 5,
    "start_time": "2022-09-14T17:23:28.906Z"
   },
   {
    "duration": 352,
    "start_time": "2022-09-14T17:43:40.644Z"
   },
   {
    "duration": 1056,
    "start_time": "2022-09-14T18:15:06.009Z"
   },
   {
    "duration": 36,
    "start_time": "2022-09-14T18:15:07.067Z"
   },
   {
    "duration": 43,
    "start_time": "2022-09-14T18:15:07.105Z"
   },
   {
    "duration": 20,
    "start_time": "2022-09-14T18:15:07.150Z"
   },
   {
    "duration": 11,
    "start_time": "2022-09-14T18:15:07.171Z"
   },
   {
    "duration": 16,
    "start_time": "2022-09-14T18:15:07.184Z"
   },
   {
    "duration": 10,
    "start_time": "2022-09-14T18:15:07.202Z"
   },
   {
    "duration": 5,
    "start_time": "2022-09-14T18:15:07.214Z"
   },
   {
    "duration": 10,
    "start_time": "2022-09-14T18:15:07.221Z"
   },
   {
    "duration": 11,
    "start_time": "2022-09-14T18:15:07.233Z"
   },
   {
    "duration": 14,
    "start_time": "2022-09-14T18:15:07.245Z"
   },
   {
    "duration": 10,
    "start_time": "2022-09-14T18:15:07.261Z"
   },
   {
    "duration": 8,
    "start_time": "2022-09-14T18:15:07.272Z"
   },
   {
    "duration": 8,
    "start_time": "2022-09-14T18:15:07.281Z"
   },
   {
    "duration": 6,
    "start_time": "2022-09-14T18:15:07.290Z"
   },
   {
    "duration": 13,
    "start_time": "2022-09-14T18:15:07.297Z"
   },
   {
    "duration": 17,
    "start_time": "2022-09-14T18:15:07.311Z"
   },
   {
    "duration": 13,
    "start_time": "2022-09-14T18:15:07.330Z"
   },
   {
    "duration": 12,
    "start_time": "2022-09-14T18:15:07.345Z"
   },
   {
    "duration": 154,
    "start_time": "2022-09-14T18:15:07.358Z"
   },
   {
    "duration": 126,
    "start_time": "2022-09-14T18:15:07.513Z"
   },
   {
    "duration": 6,
    "start_time": "2022-09-14T18:15:07.641Z"
   },
   {
    "duration": 5,
    "start_time": "2022-09-14T18:15:07.649Z"
   },
   {
    "duration": 7,
    "start_time": "2022-09-14T18:15:07.656Z"
   },
   {
    "duration": 290,
    "start_time": "2022-09-14T18:15:07.664Z"
   },
   {
    "duration": 199,
    "start_time": "2022-09-14T18:15:07.956Z"
   },
   {
    "duration": 305,
    "start_time": "2022-09-14T18:15:08.157Z"
   },
   {
    "duration": 4,
    "start_time": "2022-09-14T18:15:08.466Z"
   },
   {
    "duration": 6,
    "start_time": "2022-09-14T18:15:08.471Z"
   },
   {
    "duration": 206,
    "start_time": "2022-09-14T18:15:08.478Z"
   },
   {
    "duration": 359,
    "start_time": "2022-09-14T18:15:08.685Z"
   },
   {
    "duration": 7,
    "start_time": "2022-09-14T18:15:09.045Z"
   },
   {
    "duration": 13,
    "start_time": "2022-09-14T18:15:09.053Z"
   },
   {
    "duration": 157,
    "start_time": "2022-09-14T18:15:09.067Z"
   },
   {
    "duration": 168,
    "start_time": "2022-09-14T18:15:09.225Z"
   },
   {
    "duration": 4,
    "start_time": "2022-09-14T18:15:09.395Z"
   },
   {
    "duration": 182,
    "start_time": "2022-09-14T18:15:09.401Z"
   },
   {
    "duration": 256,
    "start_time": "2022-09-14T18:15:09.584Z"
   },
   {
    "duration": 5,
    "start_time": "2022-09-14T18:15:09.841Z"
   },
   {
    "duration": 12,
    "start_time": "2022-09-14T18:15:09.847Z"
   },
   {
    "duration": 5,
    "start_time": "2022-09-14T18:15:09.861Z"
   },
   {
    "duration": 61,
    "start_time": "2022-09-14T18:15:09.868Z"
   },
   {
    "duration": 6,
    "start_time": "2022-09-14T18:15:09.931Z"
   },
   {
    "duration": 42,
    "start_time": "2022-09-14T18:15:09.939Z"
   },
   {
    "duration": 14,
    "start_time": "2022-09-14T18:15:09.983Z"
   },
   {
    "duration": 63,
    "start_time": "2022-09-14T18:15:09.999Z"
   },
   {
    "duration": 15,
    "start_time": "2022-09-14T18:15:10.064Z"
   },
   {
    "duration": 57,
    "start_time": "2022-09-14T18:15:10.080Z"
   },
   {
    "duration": 23,
    "start_time": "2022-09-14T18:15:10.139Z"
   },
   {
    "duration": 71,
    "start_time": "2022-09-14T18:15:10.163Z"
   },
   {
    "duration": 71,
    "start_time": "2022-09-14T18:15:10.235Z"
   },
   {
    "duration": 16,
    "start_time": "2022-09-14T18:15:10.307Z"
   },
   {
    "duration": 7,
    "start_time": "2022-09-14T18:15:10.325Z"
   },
   {
    "duration": 25,
    "start_time": "2022-09-14T18:15:10.333Z"
   },
   {
    "duration": 4,
    "start_time": "2022-09-14T18:15:10.360Z"
   },
   {
    "duration": 9,
    "start_time": "2022-09-14T18:15:10.366Z"
   },
   {
    "duration": 5,
    "start_time": "2022-09-14T18:15:10.376Z"
   },
   {
    "duration": 5,
    "start_time": "2022-09-14T18:15:10.382Z"
   },
   {
    "duration": 33,
    "start_time": "2022-09-14T18:15:10.389Z"
   },
   {
    "duration": 9,
    "start_time": "2022-09-14T18:15:10.424Z"
   },
   {
    "duration": 11,
    "start_time": "2022-09-14T18:15:10.435Z"
   },
   {
    "duration": 6,
    "start_time": "2022-09-14T18:15:10.448Z"
   },
   {
    "duration": 20,
    "start_time": "2022-09-14T18:15:10.455Z"
   },
   {
    "duration": 4,
    "start_time": "2022-09-14T18:15:10.477Z"
   },
   {
    "duration": 10,
    "start_time": "2022-09-14T18:15:10.482Z"
   },
   {
    "duration": 32,
    "start_time": "2022-09-14T18:15:10.493Z"
   },
   {
    "duration": 1045,
    "start_time": "2022-09-14T18:15:53.512Z"
   },
   {
    "duration": 35,
    "start_time": "2022-09-14T18:15:54.558Z"
   },
   {
    "duration": 43,
    "start_time": "2022-09-14T18:15:54.595Z"
   },
   {
    "duration": 18,
    "start_time": "2022-09-14T18:15:54.640Z"
   },
   {
    "duration": 9,
    "start_time": "2022-09-14T18:15:54.659Z"
   },
   {
    "duration": 11,
    "start_time": "2022-09-14T18:15:54.669Z"
   },
   {
    "duration": 12,
    "start_time": "2022-09-14T18:15:54.681Z"
   },
   {
    "duration": 8,
    "start_time": "2022-09-14T18:15:54.694Z"
   },
   {
    "duration": 14,
    "start_time": "2022-09-14T18:15:54.704Z"
   },
   {
    "duration": 16,
    "start_time": "2022-09-14T18:15:54.720Z"
   },
   {
    "duration": 12,
    "start_time": "2022-09-14T18:15:54.737Z"
   },
   {
    "duration": 5,
    "start_time": "2022-09-14T18:15:54.750Z"
   },
   {
    "duration": 8,
    "start_time": "2022-09-14T18:15:54.756Z"
   },
   {
    "duration": 7,
    "start_time": "2022-09-14T18:15:54.765Z"
   },
   {
    "duration": 5,
    "start_time": "2022-09-14T18:15:54.773Z"
   },
   {
    "duration": 11,
    "start_time": "2022-09-14T18:15:54.779Z"
   },
   {
    "duration": 9,
    "start_time": "2022-09-14T18:15:54.792Z"
   },
   {
    "duration": 8,
    "start_time": "2022-09-14T18:15:54.802Z"
   },
   {
    "duration": 10,
    "start_time": "2022-09-14T18:15:54.821Z"
   },
   {
    "duration": 214,
    "start_time": "2022-09-14T18:15:54.832Z"
   },
   {
    "duration": 177,
    "start_time": "2022-09-14T18:15:55.048Z"
   },
   {
    "duration": 5,
    "start_time": "2022-09-14T18:15:55.227Z"
   },
   {
    "duration": 17,
    "start_time": "2022-09-14T18:15:55.233Z"
   },
   {
    "duration": 14,
    "start_time": "2022-09-14T18:15:55.251Z"
   },
   {
    "duration": 248,
    "start_time": "2022-09-14T18:15:55.266Z"
   },
   {
    "duration": 189,
    "start_time": "2022-09-14T18:15:55.515Z"
   },
   {
    "duration": 342,
    "start_time": "2022-09-14T18:15:55.706Z"
   },
   {
    "duration": 5,
    "start_time": "2022-09-14T18:15:56.052Z"
   },
   {
    "duration": 9,
    "start_time": "2022-09-14T18:15:56.059Z"
   },
   {
    "duration": 236,
    "start_time": "2022-09-14T18:15:56.070Z"
   },
   {
    "duration": 326,
    "start_time": "2022-09-14T18:15:56.308Z"
   },
   {
    "duration": 7,
    "start_time": "2022-09-14T18:15:56.636Z"
   },
   {
    "duration": 11,
    "start_time": "2022-09-14T18:15:56.645Z"
   },
   {
    "duration": 160,
    "start_time": "2022-09-14T18:15:56.657Z"
   },
   {
    "duration": 153,
    "start_time": "2022-09-14T18:15:56.821Z"
   },
   {
    "duration": 3,
    "start_time": "2022-09-14T18:15:56.976Z"
   },
   {
    "duration": 182,
    "start_time": "2022-09-14T18:15:56.980Z"
   },
   {
    "duration": 235,
    "start_time": "2022-09-14T18:15:57.163Z"
   },
   {
    "duration": 3,
    "start_time": "2022-09-14T18:15:57.400Z"
   },
   {
    "duration": 19,
    "start_time": "2022-09-14T18:15:57.405Z"
   },
   {
    "duration": 7,
    "start_time": "2022-09-14T18:15:57.425Z"
   },
   {
    "duration": 54,
    "start_time": "2022-09-14T18:15:57.433Z"
   },
   {
    "duration": 13,
    "start_time": "2022-09-14T18:15:57.488Z"
   },
   {
    "duration": 49,
    "start_time": "2022-09-14T18:15:57.502Z"
   },
   {
    "duration": 28,
    "start_time": "2022-09-14T18:15:57.553Z"
   },
   {
    "duration": 55,
    "start_time": "2022-09-14T18:15:57.583Z"
   },
   {
    "duration": 27,
    "start_time": "2022-09-14T18:15:57.640Z"
   },
   {
    "duration": 68,
    "start_time": "2022-09-14T18:15:57.668Z"
   },
   {
    "duration": 32,
    "start_time": "2022-09-14T18:15:57.737Z"
   },
   {
    "duration": 80,
    "start_time": "2022-09-14T18:15:57.770Z"
   },
   {
    "duration": 78,
    "start_time": "2022-09-14T18:15:57.851Z"
   },
   {
    "duration": 5,
    "start_time": "2022-09-14T18:15:57.930Z"
   },
   {
    "duration": 17,
    "start_time": "2022-09-14T18:15:57.936Z"
   },
   {
    "duration": 35,
    "start_time": "2022-09-14T18:15:57.954Z"
   },
   {
    "duration": 11,
    "start_time": "2022-09-14T18:15:57.990Z"
   },
   {
    "duration": 15,
    "start_time": "2022-09-14T18:15:58.002Z"
   },
   {
    "duration": 34,
    "start_time": "2022-09-14T18:15:58.018Z"
   },
   {
    "duration": 13,
    "start_time": "2022-09-14T18:15:58.054Z"
   },
   {
    "duration": 15,
    "start_time": "2022-09-14T18:15:58.069Z"
   },
   {
    "duration": 36,
    "start_time": "2022-09-14T18:15:58.085Z"
   },
   {
    "duration": 14,
    "start_time": "2022-09-14T18:15:58.122Z"
   },
   {
    "duration": 31,
    "start_time": "2022-09-14T18:15:58.137Z"
   },
   {
    "duration": 34,
    "start_time": "2022-09-14T18:15:58.169Z"
   },
   {
    "duration": 3,
    "start_time": "2022-09-14T18:15:58.204Z"
   },
   {
    "duration": 22,
    "start_time": "2022-09-14T18:15:58.209Z"
   },
   {
    "duration": 22,
    "start_time": "2022-09-14T18:15:58.232Z"
   },
   {
    "duration": 1139,
    "start_time": "2022-09-15T14:32:15.613Z"
   },
   {
    "duration": 37,
    "start_time": "2022-09-15T14:32:16.754Z"
   },
   {
    "duration": 44,
    "start_time": "2022-09-15T14:32:16.793Z"
   },
   {
    "duration": 21,
    "start_time": "2022-09-15T14:32:16.839Z"
   },
   {
    "duration": 11,
    "start_time": "2022-09-15T14:32:16.862Z"
   },
   {
    "duration": 12,
    "start_time": "2022-09-15T14:32:16.875Z"
   },
   {
    "duration": 15,
    "start_time": "2022-09-15T14:32:16.889Z"
   },
   {
    "duration": 7,
    "start_time": "2022-09-15T14:32:16.906Z"
   },
   {
    "duration": 15,
    "start_time": "2022-09-15T14:32:16.914Z"
   },
   {
    "duration": 22,
    "start_time": "2022-09-15T14:32:16.931Z"
   },
   {
    "duration": 16,
    "start_time": "2022-09-15T14:32:16.955Z"
   },
   {
    "duration": 4,
    "start_time": "2022-09-15T14:32:16.973Z"
   },
   {
    "duration": 16,
    "start_time": "2022-09-15T14:32:16.978Z"
   },
   {
    "duration": 11,
    "start_time": "2022-09-15T14:32:16.995Z"
   },
   {
    "duration": 20,
    "start_time": "2022-09-15T14:32:17.007Z"
   },
   {
    "duration": 16,
    "start_time": "2022-09-15T14:32:17.029Z"
   },
   {
    "duration": 11,
    "start_time": "2022-09-15T14:32:17.046Z"
   },
   {
    "duration": 11,
    "start_time": "2022-09-15T14:32:17.059Z"
   },
   {
    "duration": 10,
    "start_time": "2022-09-15T14:32:17.072Z"
   },
   {
    "duration": 177,
    "start_time": "2022-09-15T14:32:17.084Z"
   },
   {
    "duration": 125,
    "start_time": "2022-09-15T14:32:17.262Z"
   },
   {
    "duration": 7,
    "start_time": "2022-09-15T14:32:17.388Z"
   },
   {
    "duration": 11,
    "start_time": "2022-09-15T14:32:17.396Z"
   },
   {
    "duration": 19,
    "start_time": "2022-09-15T14:32:17.408Z"
   },
   {
    "duration": 306,
    "start_time": "2022-09-15T14:32:17.428Z"
   },
   {
    "duration": 250,
    "start_time": "2022-09-15T14:32:17.736Z"
   },
   {
    "duration": 325,
    "start_time": "2022-09-15T14:32:17.989Z"
   },
   {
    "duration": 4,
    "start_time": "2022-09-15T14:32:18.318Z"
   },
   {
    "duration": 23,
    "start_time": "2022-09-15T14:32:18.323Z"
   },
   {
    "duration": 231,
    "start_time": "2022-09-15T14:32:18.348Z"
   },
   {
    "duration": 325,
    "start_time": "2022-09-15T14:32:18.580Z"
   },
   {
    "duration": 11,
    "start_time": "2022-09-15T14:32:18.907Z"
   },
   {
    "duration": 35,
    "start_time": "2022-09-15T14:32:18.920Z"
   },
   {
    "duration": 180,
    "start_time": "2022-09-15T14:32:18.957Z"
   },
   {
    "duration": 172,
    "start_time": "2022-09-15T14:32:19.139Z"
   },
   {
    "duration": 4,
    "start_time": "2022-09-15T14:32:19.312Z"
   },
   {
    "duration": 225,
    "start_time": "2022-09-15T14:32:19.318Z"
   },
   {
    "duration": 253,
    "start_time": "2022-09-15T14:32:19.545Z"
   },
   {
    "duration": 4,
    "start_time": "2022-09-15T14:32:19.800Z"
   },
   {
    "duration": 11,
    "start_time": "2022-09-15T14:32:19.806Z"
   },
   {
    "duration": 7,
    "start_time": "2022-09-15T14:32:19.819Z"
   },
   {
    "duration": 60,
    "start_time": "2022-09-15T14:32:19.827Z"
   },
   {
    "duration": 8,
    "start_time": "2022-09-15T14:32:19.889Z"
   },
   {
    "duration": 49,
    "start_time": "2022-09-15T14:32:19.898Z"
   },
   {
    "duration": 13,
    "start_time": "2022-09-15T14:32:19.949Z"
   },
   {
    "duration": 49,
    "start_time": "2022-09-15T14:32:19.963Z"
   },
   {
    "duration": 60,
    "start_time": "2022-09-15T14:32:20.013Z"
   },
   {
    "duration": 47,
    "start_time": "2022-09-15T14:32:20.074Z"
   },
   {
    "duration": 23,
    "start_time": "2022-09-15T14:32:20.122Z"
   },
   {
    "duration": 65,
    "start_time": "2022-09-15T14:32:20.147Z"
   },
   {
    "duration": 84,
    "start_time": "2022-09-15T14:32:20.214Z"
   },
   {
    "duration": 5,
    "start_time": "2022-09-15T14:32:20.300Z"
   },
   {
    "duration": 7,
    "start_time": "2022-09-15T14:32:20.307Z"
   },
   {
    "duration": 41,
    "start_time": "2022-09-15T14:32:20.315Z"
   },
   {
    "duration": 4,
    "start_time": "2022-09-15T14:32:20.358Z"
   },
   {
    "duration": 9,
    "start_time": "2022-09-15T14:32:20.364Z"
   },
   {
    "duration": 5,
    "start_time": "2022-09-15T14:32:20.375Z"
   },
   {
    "duration": 24,
    "start_time": "2022-09-15T14:32:20.382Z"
   },
   {
    "duration": 37,
    "start_time": "2022-09-15T14:32:20.407Z"
   },
   {
    "duration": 9,
    "start_time": "2022-09-15T14:32:20.445Z"
   },
   {
    "duration": 11,
    "start_time": "2022-09-15T14:32:20.456Z"
   },
   {
    "duration": 9,
    "start_time": "2022-09-15T14:32:20.469Z"
   },
   {
    "duration": 30,
    "start_time": "2022-09-15T14:32:20.480Z"
   },
   {
    "duration": 4,
    "start_time": "2022-09-15T14:32:20.511Z"
   },
   {
    "duration": 13,
    "start_time": "2022-09-15T14:32:20.517Z"
   },
   {
    "duration": 19,
    "start_time": "2022-09-15T14:32:20.532Z"
   },
   {
    "duration": 1282,
    "start_time": "2022-09-15T14:55:09.477Z"
   },
   {
    "duration": 68,
    "start_time": "2022-09-15T14:55:10.761Z"
   },
   {
    "duration": 82,
    "start_time": "2022-09-15T14:55:10.831Z"
   },
   {
    "duration": 54,
    "start_time": "2022-09-15T14:55:10.915Z"
   },
   {
    "duration": 10,
    "start_time": "2022-09-15T14:55:10.970Z"
   },
   {
    "duration": 15,
    "start_time": "2022-09-15T14:55:10.981Z"
   },
   {
    "duration": 9,
    "start_time": "2022-09-15T14:55:10.997Z"
   },
   {
    "duration": 9,
    "start_time": "2022-09-15T14:55:11.008Z"
   },
   {
    "duration": 11,
    "start_time": "2022-09-15T14:55:11.018Z"
   },
   {
    "duration": 31,
    "start_time": "2022-09-15T14:55:11.031Z"
   },
   {
    "duration": 11,
    "start_time": "2022-09-15T14:55:11.064Z"
   },
   {
    "duration": 3,
    "start_time": "2022-09-15T14:55:11.077Z"
   },
   {
    "duration": 5,
    "start_time": "2022-09-15T14:55:11.082Z"
   },
   {
    "duration": 5,
    "start_time": "2022-09-15T14:55:11.088Z"
   },
   {
    "duration": 3,
    "start_time": "2022-09-15T14:55:11.094Z"
   },
   {
    "duration": 11,
    "start_time": "2022-09-15T14:55:11.099Z"
   },
   {
    "duration": 9,
    "start_time": "2022-09-15T14:55:11.111Z"
   },
   {
    "duration": 10,
    "start_time": "2022-09-15T14:55:11.121Z"
   },
   {
    "duration": 12,
    "start_time": "2022-09-15T14:55:11.132Z"
   },
   {
    "duration": 155,
    "start_time": "2022-09-15T14:55:11.145Z"
   },
   {
    "duration": 122,
    "start_time": "2022-09-15T14:55:11.301Z"
   },
   {
    "duration": 5,
    "start_time": "2022-09-15T14:55:11.424Z"
   },
   {
    "duration": 11,
    "start_time": "2022-09-15T14:55:11.431Z"
   },
   {
    "duration": 31,
    "start_time": "2022-09-15T14:55:11.443Z"
   },
   {
    "duration": 302,
    "start_time": "2022-09-15T14:55:11.475Z"
   },
   {
    "duration": 212,
    "start_time": "2022-09-15T14:55:11.779Z"
   },
   {
    "duration": 398,
    "start_time": "2022-09-15T14:55:11.993Z"
   },
   {
    "duration": 4,
    "start_time": "2022-09-15T14:55:12.394Z"
   },
   {
    "duration": 20,
    "start_time": "2022-09-15T14:55:12.399Z"
   },
   {
    "duration": 228,
    "start_time": "2022-09-15T14:55:12.421Z"
   },
   {
    "duration": 343,
    "start_time": "2022-09-15T14:55:12.650Z"
   },
   {
    "duration": 8,
    "start_time": "2022-09-15T14:55:12.994Z"
   },
   {
    "duration": 14,
    "start_time": "2022-09-15T14:55:13.008Z"
   },
   {
    "duration": 166,
    "start_time": "2022-09-15T14:55:13.023Z"
   },
   {
    "duration": 171,
    "start_time": "2022-09-15T14:55:13.190Z"
   },
   {
    "duration": 3,
    "start_time": "2022-09-15T14:55:13.363Z"
   },
   {
    "duration": 214,
    "start_time": "2022-09-15T14:55:13.368Z"
   },
   {
    "duration": 258,
    "start_time": "2022-09-15T14:55:13.584Z"
   },
   {
    "duration": 4,
    "start_time": "2022-09-15T14:55:13.843Z"
   },
   {
    "duration": 11,
    "start_time": "2022-09-15T14:55:13.849Z"
   },
   {
    "duration": 7,
    "start_time": "2022-09-15T14:55:13.861Z"
   },
   {
    "duration": 57,
    "start_time": "2022-09-15T14:55:13.869Z"
   },
   {
    "duration": 18,
    "start_time": "2022-09-15T14:55:13.928Z"
   },
   {
    "duration": 46,
    "start_time": "2022-09-15T14:55:13.947Z"
   },
   {
    "duration": 13,
    "start_time": "2022-09-15T14:55:13.995Z"
   },
   {
    "duration": 46,
    "start_time": "2022-09-15T14:55:14.010Z"
   },
   {
    "duration": 18,
    "start_time": "2022-09-15T14:55:14.057Z"
   },
   {
    "duration": 55,
    "start_time": "2022-09-15T14:55:14.076Z"
   },
   {
    "duration": 25,
    "start_time": "2022-09-15T14:55:14.133Z"
   },
   {
    "duration": 81,
    "start_time": "2022-09-15T14:55:14.160Z"
   },
   {
    "duration": 80,
    "start_time": "2022-09-15T14:55:14.243Z"
   },
   {
    "duration": 5,
    "start_time": "2022-09-15T14:55:14.325Z"
   },
   {
    "duration": 7,
    "start_time": "2022-09-15T14:55:14.332Z"
   },
   {
    "duration": 22,
    "start_time": "2022-09-15T14:55:14.341Z"
   },
   {
    "duration": 5,
    "start_time": "2022-09-15T14:55:14.364Z"
   },
   {
    "duration": 10,
    "start_time": "2022-09-15T14:55:14.370Z"
   },
   {
    "duration": 28,
    "start_time": "2022-09-15T14:55:14.382Z"
   },
   {
    "duration": 5,
    "start_time": "2022-09-15T14:55:14.412Z"
   },
   {
    "duration": 9,
    "start_time": "2022-09-15T14:55:14.419Z"
   },
   {
    "duration": 8,
    "start_time": "2022-09-15T14:55:14.429Z"
   },
   {
    "duration": 6,
    "start_time": "2022-09-15T14:55:14.439Z"
   },
   {
    "duration": 10,
    "start_time": "2022-09-15T14:55:14.447Z"
   },
   {
    "duration": 24,
    "start_time": "2022-09-15T14:55:14.458Z"
   },
   {
    "duration": 25,
    "start_time": "2022-09-15T14:55:14.484Z"
   },
   {
    "duration": 9,
    "start_time": "2022-09-15T14:55:14.511Z"
   },
   {
    "duration": 8,
    "start_time": "2022-09-15T14:55:14.522Z"
   },
   {
    "duration": 65,
    "start_time": "2022-09-15T14:57:37.007Z"
   },
   {
    "duration": 5,
    "start_time": "2022-09-15T14:58:25.295Z"
   },
   {
    "duration": 64,
    "start_time": "2022-09-15T14:58:35.875Z"
   },
   {
    "duration": 1224,
    "start_time": "2022-09-15T14:58:42.790Z"
   },
   {
    "duration": 1060,
    "start_time": "2022-09-15T14:59:11.316Z"
   },
   {
    "duration": 1059,
    "start_time": "2022-09-15T14:59:40.755Z"
   },
   {
    "duration": 1642,
    "start_time": "2022-09-15T15:00:23.824Z"
   },
   {
    "duration": 1048,
    "start_time": "2022-09-15T15:00:35.773Z"
   },
   {
    "duration": 37,
    "start_time": "2022-09-15T15:00:36.823Z"
   },
   {
    "duration": 41,
    "start_time": "2022-09-15T15:00:36.862Z"
   },
   {
    "duration": 19,
    "start_time": "2022-09-15T15:00:36.905Z"
   },
   {
    "duration": 10,
    "start_time": "2022-09-15T15:00:36.925Z"
   },
   {
    "duration": 11,
    "start_time": "2022-09-15T15:00:36.936Z"
   },
   {
    "duration": 11,
    "start_time": "2022-09-15T15:00:36.948Z"
   },
   {
    "duration": 6,
    "start_time": "2022-09-15T15:00:36.961Z"
   },
   {
    "duration": 12,
    "start_time": "2022-09-15T15:00:36.969Z"
   },
   {
    "duration": 25,
    "start_time": "2022-09-15T15:00:36.985Z"
   },
   {
    "duration": 14,
    "start_time": "2022-09-15T15:00:37.011Z"
   },
   {
    "duration": 4,
    "start_time": "2022-09-15T15:00:37.026Z"
   },
   {
    "duration": 9,
    "start_time": "2022-09-15T15:00:37.031Z"
   },
   {
    "duration": 8,
    "start_time": "2022-09-15T15:00:37.042Z"
   },
   {
    "duration": 5,
    "start_time": "2022-09-15T15:00:37.051Z"
   },
   {
    "duration": 12,
    "start_time": "2022-09-15T15:00:37.057Z"
   },
   {
    "duration": 9,
    "start_time": "2022-09-15T15:00:37.071Z"
   },
   {
    "duration": 27,
    "start_time": "2022-09-15T15:00:37.082Z"
   },
   {
    "duration": 11,
    "start_time": "2022-09-15T15:00:37.111Z"
   },
   {
    "duration": 161,
    "start_time": "2022-09-15T15:00:37.123Z"
   },
   {
    "duration": 123,
    "start_time": "2022-09-15T15:00:37.286Z"
   },
   {
    "duration": 6,
    "start_time": "2022-09-15T15:00:37.410Z"
   },
   {
    "duration": 5,
    "start_time": "2022-09-15T15:00:37.418Z"
   },
   {
    "duration": 7,
    "start_time": "2022-09-15T15:00:37.424Z"
   },
   {
    "duration": 309,
    "start_time": "2022-09-15T15:00:37.432Z"
   },
   {
    "duration": 225,
    "start_time": "2022-09-15T15:00:37.743Z"
   },
   {
    "duration": 339,
    "start_time": "2022-09-15T15:00:37.970Z"
   },
   {
    "duration": 3,
    "start_time": "2022-09-15T15:00:38.313Z"
   },
   {
    "duration": 6,
    "start_time": "2022-09-15T15:00:38.318Z"
   },
   {
    "duration": 228,
    "start_time": "2022-09-15T15:00:38.325Z"
   },
   {
    "duration": 364,
    "start_time": "2022-09-15T15:00:38.554Z"
   },
   {
    "duration": 8,
    "start_time": "2022-09-15T15:00:38.919Z"
   },
   {
    "duration": 32,
    "start_time": "2022-09-15T15:00:38.929Z"
   },
   {
    "duration": 361,
    "start_time": "2022-09-15T15:00:38.962Z"
   },
   {
    "duration": 387,
    "start_time": "2022-09-15T15:00:39.324Z"
   },
   {
    "duration": 4,
    "start_time": "2022-09-15T15:00:39.713Z"
   },
   {
    "duration": 407,
    "start_time": "2022-09-15T15:00:39.718Z"
   },
   {
    "duration": 490,
    "start_time": "2022-09-15T15:00:40.127Z"
   },
   {
    "duration": 3,
    "start_time": "2022-09-15T15:00:40.619Z"
   },
   {
    "duration": 29,
    "start_time": "2022-09-15T15:00:40.623Z"
   },
   {
    "duration": 14,
    "start_time": "2022-09-15T15:00:40.654Z"
   },
   {
    "duration": 59,
    "start_time": "2022-09-15T15:00:40.669Z"
   },
   {
    "duration": 7,
    "start_time": "2022-09-15T15:00:40.730Z"
   },
   {
    "duration": 41,
    "start_time": "2022-09-15T15:00:40.739Z"
   },
   {
    "duration": 15,
    "start_time": "2022-09-15T15:00:40.781Z"
   },
   {
    "duration": 49,
    "start_time": "2022-09-15T15:00:40.798Z"
   },
   {
    "duration": 14,
    "start_time": "2022-09-15T15:00:40.849Z"
   },
   {
    "duration": 56,
    "start_time": "2022-09-15T15:00:40.864Z"
   },
   {
    "duration": 18,
    "start_time": "2022-09-15T15:00:40.922Z"
   },
   {
    "duration": 75,
    "start_time": "2022-09-15T15:00:40.941Z"
   },
   {
    "duration": 69,
    "start_time": "2022-09-15T15:00:41.017Z"
   },
   {
    "duration": 5,
    "start_time": "2022-09-15T15:00:41.088Z"
   },
   {
    "duration": 5,
    "start_time": "2022-09-15T15:00:41.109Z"
   },
   {
    "duration": 32,
    "start_time": "2022-09-15T15:00:41.115Z"
   },
   {
    "duration": 5,
    "start_time": "2022-09-15T15:00:41.148Z"
   },
   {
    "duration": 11,
    "start_time": "2022-09-15T15:00:41.154Z"
   },
   {
    "duration": 5,
    "start_time": "2022-09-15T15:00:41.166Z"
   },
   {
    "duration": 9,
    "start_time": "2022-09-15T15:00:41.173Z"
   },
   {
    "duration": 5,
    "start_time": "2022-09-15T15:00:41.184Z"
   },
   {
    "duration": 22,
    "start_time": "2022-09-15T15:00:41.191Z"
   },
   {
    "duration": 10,
    "start_time": "2022-09-15T15:00:41.214Z"
   },
   {
    "duration": 7,
    "start_time": "2022-09-15T15:00:41.226Z"
   },
   {
    "duration": 23,
    "start_time": "2022-09-15T15:00:41.234Z"
   },
   {
    "duration": 4,
    "start_time": "2022-09-15T15:00:41.259Z"
   },
   {
    "duration": 9,
    "start_time": "2022-09-15T15:00:41.265Z"
   },
   {
    "duration": 34,
    "start_time": "2022-09-15T15:00:41.275Z"
   },
   {
    "duration": 45,
    "start_time": "2022-09-15T15:01:22.977Z"
   },
   {
    "duration": 9,
    "start_time": "2022-09-15T15:01:44.277Z"
   },
   {
    "duration": 10,
    "start_time": "2022-09-15T15:04:08.813Z"
   },
   {
    "duration": 10,
    "start_time": "2022-09-15T15:04:21.583Z"
   },
   {
    "duration": 9,
    "start_time": "2022-09-15T15:04:31.558Z"
   },
   {
    "duration": 10,
    "start_time": "2022-09-15T15:04:47.178Z"
   },
   {
    "duration": 12,
    "start_time": "2022-09-15T15:08:16.841Z"
   },
   {
    "duration": 1609,
    "start_time": "2022-09-15T15:08:34.359Z"
   },
   {
    "duration": 855,
    "start_time": "2022-09-15T15:08:41.719Z"
   },
   {
    "duration": 1055,
    "start_time": "2022-09-15T15:08:50.183Z"
   },
   {
    "duration": 36,
    "start_time": "2022-09-15T15:08:51.239Z"
   },
   {
    "duration": 40,
    "start_time": "2022-09-15T15:08:51.276Z"
   },
   {
    "duration": 18,
    "start_time": "2022-09-15T15:08:51.318Z"
   },
   {
    "duration": 10,
    "start_time": "2022-09-15T15:08:51.337Z"
   },
   {
    "duration": 22,
    "start_time": "2022-09-15T15:08:51.348Z"
   },
   {
    "duration": 25,
    "start_time": "2022-09-15T15:08:51.372Z"
   },
   {
    "duration": 17,
    "start_time": "2022-09-15T15:08:51.399Z"
   },
   {
    "duration": 24,
    "start_time": "2022-09-15T15:08:51.417Z"
   },
   {
    "duration": 27,
    "start_time": "2022-09-15T15:08:51.443Z"
   },
   {
    "duration": 27,
    "start_time": "2022-09-15T15:08:51.472Z"
   },
   {
    "duration": 19,
    "start_time": "2022-09-15T15:08:51.501Z"
   },
   {
    "duration": 34,
    "start_time": "2022-09-15T15:08:51.521Z"
   },
   {
    "duration": 27,
    "start_time": "2022-09-15T15:08:51.557Z"
   },
   {
    "duration": 19,
    "start_time": "2022-09-15T15:08:51.586Z"
   },
   {
    "duration": 32,
    "start_time": "2022-09-15T15:08:51.606Z"
   },
   {
    "duration": 1105,
    "start_time": "2022-09-15T15:08:51.640Z"
   },
   {
    "duration": 0,
    "start_time": "2022-09-15T15:08:52.749Z"
   },
   {
    "duration": 0,
    "start_time": "2022-09-15T15:08:52.750Z"
   },
   {
    "duration": 0,
    "start_time": "2022-09-15T15:08:52.752Z"
   },
   {
    "duration": 0,
    "start_time": "2022-09-15T15:08:52.753Z"
   },
   {
    "duration": 0,
    "start_time": "2022-09-15T15:08:52.755Z"
   },
   {
    "duration": 0,
    "start_time": "2022-09-15T15:08:52.757Z"
   },
   {
    "duration": 0,
    "start_time": "2022-09-15T15:08:52.758Z"
   },
   {
    "duration": 0,
    "start_time": "2022-09-15T15:08:52.760Z"
   },
   {
    "duration": 0,
    "start_time": "2022-09-15T15:08:52.762Z"
   },
   {
    "duration": 0,
    "start_time": "2022-09-15T15:08:52.763Z"
   },
   {
    "duration": 0,
    "start_time": "2022-09-15T15:08:52.765Z"
   },
   {
    "duration": 0,
    "start_time": "2022-09-15T15:08:52.766Z"
   },
   {
    "duration": 0,
    "start_time": "2022-09-15T15:08:52.768Z"
   },
   {
    "duration": 0,
    "start_time": "2022-09-15T15:08:52.769Z"
   },
   {
    "duration": 0,
    "start_time": "2022-09-15T15:08:52.771Z"
   },
   {
    "duration": 0,
    "start_time": "2022-09-15T15:08:52.772Z"
   },
   {
    "duration": 0,
    "start_time": "2022-09-15T15:08:52.774Z"
   },
   {
    "duration": 0,
    "start_time": "2022-09-15T15:08:52.775Z"
   },
   {
    "duration": 0,
    "start_time": "2022-09-15T15:08:52.777Z"
   },
   {
    "duration": 0,
    "start_time": "2022-09-15T15:08:52.778Z"
   },
   {
    "duration": 0,
    "start_time": "2022-09-15T15:08:52.780Z"
   },
   {
    "duration": 0,
    "start_time": "2022-09-15T15:08:52.781Z"
   },
   {
    "duration": 0,
    "start_time": "2022-09-15T15:08:52.783Z"
   },
   {
    "duration": 0,
    "start_time": "2022-09-15T15:08:52.783Z"
   },
   {
    "duration": 0,
    "start_time": "2022-09-15T15:08:52.785Z"
   },
   {
    "duration": 0,
    "start_time": "2022-09-15T15:08:52.785Z"
   },
   {
    "duration": 0,
    "start_time": "2022-09-15T15:08:52.786Z"
   },
   {
    "duration": 0,
    "start_time": "2022-09-15T15:08:52.787Z"
   },
   {
    "duration": 0,
    "start_time": "2022-09-15T15:08:52.809Z"
   },
   {
    "duration": 0,
    "start_time": "2022-09-15T15:08:52.809Z"
   },
   {
    "duration": 0,
    "start_time": "2022-09-15T15:08:52.810Z"
   },
   {
    "duration": 0,
    "start_time": "2022-09-15T15:08:52.811Z"
   },
   {
    "duration": 0,
    "start_time": "2022-09-15T15:08:52.812Z"
   },
   {
    "duration": 0,
    "start_time": "2022-09-15T15:08:52.813Z"
   },
   {
    "duration": 0,
    "start_time": "2022-09-15T15:08:52.813Z"
   },
   {
    "duration": 0,
    "start_time": "2022-09-15T15:08:52.815Z"
   },
   {
    "duration": 0,
    "start_time": "2022-09-15T15:08:52.815Z"
   },
   {
    "duration": 0,
    "start_time": "2022-09-15T15:08:52.816Z"
   },
   {
    "duration": 0,
    "start_time": "2022-09-15T15:08:52.817Z"
   },
   {
    "duration": 0,
    "start_time": "2022-09-15T15:08:52.818Z"
   },
   {
    "duration": 0,
    "start_time": "2022-09-15T15:08:52.820Z"
   },
   {
    "duration": 0,
    "start_time": "2022-09-15T15:08:52.821Z"
   },
   {
    "duration": 0,
    "start_time": "2022-09-15T15:08:52.822Z"
   },
   {
    "duration": 0,
    "start_time": "2022-09-15T15:08:52.823Z"
   },
   {
    "duration": 0,
    "start_time": "2022-09-15T15:08:52.825Z"
   },
   {
    "duration": 0,
    "start_time": "2022-09-15T15:08:52.826Z"
   },
   {
    "duration": 1,
    "start_time": "2022-09-15T15:08:52.827Z"
   },
   {
    "duration": 0,
    "start_time": "2022-09-15T15:08:52.829Z"
   },
   {
    "duration": 0,
    "start_time": "2022-09-15T15:08:52.830Z"
   },
   {
    "duration": 1636,
    "start_time": "2022-09-15T15:09:27.274Z"
   },
   {
    "duration": 1052,
    "start_time": "2022-09-15T15:09:45.084Z"
   },
   {
    "duration": 36,
    "start_time": "2022-09-15T15:09:46.137Z"
   },
   {
    "duration": 41,
    "start_time": "2022-09-15T15:09:46.174Z"
   },
   {
    "duration": 19,
    "start_time": "2022-09-15T15:09:46.216Z"
   },
   {
    "duration": 27,
    "start_time": "2022-09-15T15:09:46.236Z"
   },
   {
    "duration": 15,
    "start_time": "2022-09-15T15:09:46.265Z"
   },
   {
    "duration": 45,
    "start_time": "2022-09-15T15:09:46.281Z"
   },
   {
    "duration": 25,
    "start_time": "2022-09-15T15:09:46.328Z"
   },
   {
    "duration": 30,
    "start_time": "2022-09-15T15:09:46.354Z"
   },
   {
    "duration": 44,
    "start_time": "2022-09-15T15:09:46.387Z"
   },
   {
    "duration": 19,
    "start_time": "2022-09-15T15:09:46.433Z"
   },
   {
    "duration": 24,
    "start_time": "2022-09-15T15:09:46.454Z"
   },
   {
    "duration": 11,
    "start_time": "2022-09-15T15:09:46.479Z"
   },
   {
    "duration": 35,
    "start_time": "2022-09-15T15:09:46.491Z"
   },
   {
    "duration": 25,
    "start_time": "2022-09-15T15:09:46.527Z"
   },
   {
    "duration": 40,
    "start_time": "2022-09-15T15:09:46.553Z"
   },
   {
    "duration": 1788,
    "start_time": "2022-09-15T15:09:46.594Z"
   },
   {
    "duration": 0,
    "start_time": "2022-09-15T15:09:48.386Z"
   },
   {
    "duration": 0,
    "start_time": "2022-09-15T15:09:48.387Z"
   },
   {
    "duration": 0,
    "start_time": "2022-09-15T15:09:48.388Z"
   },
   {
    "duration": 0,
    "start_time": "2022-09-15T15:09:48.389Z"
   },
   {
    "duration": 0,
    "start_time": "2022-09-15T15:09:48.390Z"
   },
   {
    "duration": 0,
    "start_time": "2022-09-15T15:09:48.391Z"
   },
   {
    "duration": 0,
    "start_time": "2022-09-15T15:09:48.392Z"
   },
   {
    "duration": 0,
    "start_time": "2022-09-15T15:09:48.393Z"
   },
   {
    "duration": 0,
    "start_time": "2022-09-15T15:09:48.394Z"
   },
   {
    "duration": 0,
    "start_time": "2022-09-15T15:09:48.395Z"
   },
   {
    "duration": 0,
    "start_time": "2022-09-15T15:09:48.396Z"
   },
   {
    "duration": 0,
    "start_time": "2022-09-15T15:09:48.396Z"
   },
   {
    "duration": 0,
    "start_time": "2022-09-15T15:09:48.397Z"
   },
   {
    "duration": 0,
    "start_time": "2022-09-15T15:09:48.398Z"
   },
   {
    "duration": 0,
    "start_time": "2022-09-15T15:09:48.399Z"
   },
   {
    "duration": 0,
    "start_time": "2022-09-15T15:09:48.400Z"
   },
   {
    "duration": 0,
    "start_time": "2022-09-15T15:09:48.400Z"
   },
   {
    "duration": 0,
    "start_time": "2022-09-15T15:09:48.401Z"
   },
   {
    "duration": 0,
    "start_time": "2022-09-15T15:09:48.402Z"
   },
   {
    "duration": 0,
    "start_time": "2022-09-15T15:09:48.403Z"
   },
   {
    "duration": 0,
    "start_time": "2022-09-15T15:09:48.403Z"
   },
   {
    "duration": 0,
    "start_time": "2022-09-15T15:09:48.404Z"
   },
   {
    "duration": 0,
    "start_time": "2022-09-15T15:09:48.405Z"
   },
   {
    "duration": 0,
    "start_time": "2022-09-15T15:09:48.406Z"
   },
   {
    "duration": 0,
    "start_time": "2022-09-15T15:09:48.407Z"
   },
   {
    "duration": 0,
    "start_time": "2022-09-15T15:09:48.407Z"
   },
   {
    "duration": 0,
    "start_time": "2022-09-15T15:09:48.408Z"
   },
   {
    "duration": 0,
    "start_time": "2022-09-15T15:09:48.409Z"
   },
   {
    "duration": 0,
    "start_time": "2022-09-15T15:09:48.410Z"
   },
   {
    "duration": 0,
    "start_time": "2022-09-15T15:09:48.411Z"
   },
   {
    "duration": 0,
    "start_time": "2022-09-15T15:09:48.411Z"
   },
   {
    "duration": 0,
    "start_time": "2022-09-15T15:09:48.412Z"
   },
   {
    "duration": 0,
    "start_time": "2022-09-15T15:09:48.413Z"
   },
   {
    "duration": 0,
    "start_time": "2022-09-15T15:09:48.413Z"
   },
   {
    "duration": 0,
    "start_time": "2022-09-15T15:09:48.414Z"
   },
   {
    "duration": 0,
    "start_time": "2022-09-15T15:09:48.415Z"
   },
   {
    "duration": 0,
    "start_time": "2022-09-15T15:09:48.416Z"
   },
   {
    "duration": 0,
    "start_time": "2022-09-15T15:09:48.417Z"
   },
   {
    "duration": 0,
    "start_time": "2022-09-15T15:09:48.418Z"
   },
   {
    "duration": 0,
    "start_time": "2022-09-15T15:09:48.418Z"
   },
   {
    "duration": 0,
    "start_time": "2022-09-15T15:09:48.419Z"
   },
   {
    "duration": 0,
    "start_time": "2022-09-15T15:09:48.420Z"
   },
   {
    "duration": 0,
    "start_time": "2022-09-15T15:09:48.421Z"
   },
   {
    "duration": 0,
    "start_time": "2022-09-15T15:09:48.422Z"
   },
   {
    "duration": 0,
    "start_time": "2022-09-15T15:09:48.423Z"
   },
   {
    "duration": 0,
    "start_time": "2022-09-15T15:09:48.424Z"
   },
   {
    "duration": 0,
    "start_time": "2022-09-15T15:09:48.425Z"
   },
   {
    "duration": 0,
    "start_time": "2022-09-15T15:09:48.426Z"
   },
   {
    "duration": 0,
    "start_time": "2022-09-15T15:09:48.427Z"
   },
   {
    "duration": 781,
    "start_time": "2022-09-15T15:11:07.600Z"
   },
   {
    "duration": 1049,
    "start_time": "2022-09-15T15:11:11.762Z"
   },
   {
    "duration": 1118,
    "start_time": "2022-09-15T15:12:18.527Z"
   },
   {
    "duration": 36,
    "start_time": "2022-09-15T15:12:19.647Z"
   },
   {
    "duration": 41,
    "start_time": "2022-09-15T15:12:19.685Z"
   },
   {
    "duration": 19,
    "start_time": "2022-09-15T15:12:19.728Z"
   },
   {
    "duration": 10,
    "start_time": "2022-09-15T15:12:19.749Z"
   },
   {
    "duration": 9,
    "start_time": "2022-09-15T15:12:19.761Z"
   },
   {
    "duration": 11,
    "start_time": "2022-09-15T15:12:19.771Z"
   },
   {
    "duration": 7,
    "start_time": "2022-09-15T15:12:19.784Z"
   },
   {
    "duration": 16,
    "start_time": "2022-09-15T15:12:19.793Z"
   },
   {
    "duration": 13,
    "start_time": "2022-09-15T15:12:19.812Z"
   },
   {
    "duration": 17,
    "start_time": "2022-09-15T15:12:19.826Z"
   },
   {
    "duration": 10,
    "start_time": "2022-09-15T15:12:19.845Z"
   },
   {
    "duration": 7,
    "start_time": "2022-09-15T15:12:19.857Z"
   },
   {
    "duration": 6,
    "start_time": "2022-09-15T15:12:19.865Z"
   },
   {
    "duration": 4,
    "start_time": "2022-09-15T15:12:19.873Z"
   },
   {
    "duration": 18,
    "start_time": "2022-09-15T15:12:19.879Z"
   },
   {
    "duration": 12,
    "start_time": "2022-09-15T15:12:19.909Z"
   },
   {
    "duration": 5,
    "start_time": "2022-09-15T15:12:19.922Z"
   },
   {
    "duration": 8,
    "start_time": "2022-09-15T15:12:19.928Z"
   },
   {
    "duration": 172,
    "start_time": "2022-09-15T15:12:19.937Z"
   },
   {
    "duration": 116,
    "start_time": "2022-09-15T15:12:20.110Z"
   },
   {
    "duration": 5,
    "start_time": "2022-09-15T15:12:20.228Z"
   },
   {
    "duration": 6,
    "start_time": "2022-09-15T15:12:20.234Z"
   },
   {
    "duration": 7,
    "start_time": "2022-09-15T15:12:20.242Z"
   },
   {
    "duration": 289,
    "start_time": "2022-09-15T15:12:20.251Z"
   },
   {
    "duration": 213,
    "start_time": "2022-09-15T15:12:20.542Z"
   },
   {
    "duration": 310,
    "start_time": "2022-09-15T15:12:20.756Z"
   },
   {
    "duration": 4,
    "start_time": "2022-09-15T15:12:21.069Z"
   },
   {
    "duration": 16,
    "start_time": "2022-09-15T15:12:21.074Z"
   },
   {
    "duration": 207,
    "start_time": "2022-09-15T15:12:21.091Z"
   },
   {
    "duration": 349,
    "start_time": "2022-09-15T15:12:21.299Z"
   },
   {
    "duration": 8,
    "start_time": "2022-09-15T15:12:21.649Z"
   },
   {
    "duration": 18,
    "start_time": "2022-09-15T15:12:21.659Z"
   },
   {
    "duration": 172,
    "start_time": "2022-09-15T15:12:21.679Z"
   },
   {
    "duration": 171,
    "start_time": "2022-09-15T15:12:21.852Z"
   },
   {
    "duration": 4,
    "start_time": "2022-09-15T15:12:22.024Z"
   },
   {
    "duration": 192,
    "start_time": "2022-09-15T15:12:22.029Z"
   },
   {
    "duration": 244,
    "start_time": "2022-09-15T15:12:22.223Z"
   },
   {
    "duration": 4,
    "start_time": "2022-09-15T15:12:22.468Z"
   },
   {
    "duration": 13,
    "start_time": "2022-09-15T15:12:22.474Z"
   },
   {
    "duration": 4,
    "start_time": "2022-09-15T15:12:22.489Z"
   },
   {
    "duration": 68,
    "start_time": "2022-09-15T15:12:22.494Z"
   },
   {
    "duration": 11,
    "start_time": "2022-09-15T15:12:22.565Z"
   },
   {
    "duration": 62,
    "start_time": "2022-09-15T15:12:22.578Z"
   },
   {
    "duration": 17,
    "start_time": "2022-09-15T15:12:22.642Z"
   },
   {
    "duration": 70,
    "start_time": "2022-09-15T15:12:22.661Z"
   },
   {
    "duration": 34,
    "start_time": "2022-09-15T15:12:22.733Z"
   },
   {
    "duration": 85,
    "start_time": "2022-09-15T15:12:22.769Z"
   },
   {
    "duration": 28,
    "start_time": "2022-09-15T15:12:22.856Z"
   },
   {
    "duration": 65,
    "start_time": "2022-09-15T15:12:22.885Z"
   },
   {
    "duration": 82,
    "start_time": "2022-09-15T15:12:22.951Z"
   },
   {
    "duration": 6,
    "start_time": "2022-09-15T15:12:23.035Z"
   },
   {
    "duration": 24,
    "start_time": "2022-09-15T15:12:23.042Z"
   },
   {
    "duration": 54,
    "start_time": "2022-09-15T15:12:23.067Z"
   },
   {
    "duration": 3,
    "start_time": "2022-09-15T15:12:23.123Z"
   },
   {
    "duration": 15,
    "start_time": "2022-09-15T15:12:23.128Z"
   },
   {
    "duration": 15,
    "start_time": "2022-09-15T15:12:23.144Z"
   },
   {
    "duration": 25,
    "start_time": "2022-09-15T15:12:23.161Z"
   },
   {
    "duration": 9,
    "start_time": "2022-09-15T15:12:23.188Z"
   },
   {
    "duration": 17,
    "start_time": "2022-09-15T15:12:23.198Z"
   },
   {
    "duration": 12,
    "start_time": "2022-09-15T15:12:23.216Z"
   },
   {
    "duration": 12,
    "start_time": "2022-09-15T15:12:23.229Z"
   },
   {
    "duration": 36,
    "start_time": "2022-09-15T15:12:23.242Z"
   },
   {
    "duration": 4,
    "start_time": "2022-09-15T15:12:23.280Z"
   },
   {
    "duration": 11,
    "start_time": "2022-09-15T15:12:23.285Z"
   },
   {
    "duration": 18,
    "start_time": "2022-09-15T15:12:23.297Z"
   },
   {
    "duration": 105,
    "start_time": "2022-09-15T15:13:29.791Z"
   },
   {
    "duration": 7,
    "start_time": "2022-09-15T15:13:37.720Z"
   },
   {
    "duration": 14,
    "start_time": "2022-09-15T15:20:36.843Z"
   },
   {
    "duration": 12,
    "start_time": "2022-09-15T15:20:48.279Z"
   },
   {
    "duration": 333,
    "start_time": "2022-09-15T15:23:00.380Z"
   },
   {
    "duration": 318,
    "start_time": "2022-09-15T15:23:09.541Z"
   },
   {
    "duration": 299,
    "start_time": "2022-09-15T15:23:47.751Z"
   },
   {
    "duration": 316,
    "start_time": "2022-09-15T15:23:58.430Z"
   },
   {
    "duration": 20,
    "start_time": "2022-09-15T16:02:13.732Z"
   },
   {
    "duration": 4,
    "start_time": "2022-09-15T16:03:07.324Z"
   },
   {
    "duration": 3,
    "start_time": "2022-09-15T16:04:44.379Z"
   },
   {
    "duration": 7,
    "start_time": "2022-09-15T16:05:01.732Z"
   },
   {
    "duration": 8,
    "start_time": "2022-09-15T16:05:48.801Z"
   },
   {
    "duration": 6,
    "start_time": "2022-09-15T16:07:42.193Z"
   },
   {
    "duration": 20,
    "start_time": "2022-09-15T16:08:54.494Z"
   },
   {
    "duration": 5,
    "start_time": "2022-09-15T16:09:38.783Z"
   },
   {
    "duration": 9,
    "start_time": "2022-09-15T16:13:01.328Z"
   },
   {
    "duration": 7,
    "start_time": "2022-09-15T16:14:26.748Z"
   },
   {
    "duration": 1061,
    "start_time": "2022-09-15T16:18:14.283Z"
   },
   {
    "duration": 37,
    "start_time": "2022-09-15T16:18:15.346Z"
   },
   {
    "duration": 40,
    "start_time": "2022-09-15T16:18:15.384Z"
   },
   {
    "duration": 18,
    "start_time": "2022-09-15T16:18:15.426Z"
   },
   {
    "duration": 10,
    "start_time": "2022-09-15T16:18:15.446Z"
   },
   {
    "duration": 32,
    "start_time": "2022-09-15T16:18:15.457Z"
   },
   {
    "duration": 20,
    "start_time": "2022-09-15T16:18:15.491Z"
   },
   {
    "duration": 12,
    "start_time": "2022-09-15T16:18:15.513Z"
   },
   {
    "duration": 34,
    "start_time": "2022-09-15T16:18:15.527Z"
   },
   {
    "duration": 17,
    "start_time": "2022-09-15T16:18:15.563Z"
   },
   {
    "duration": 21,
    "start_time": "2022-09-15T16:18:15.581Z"
   },
   {
    "duration": 6,
    "start_time": "2022-09-15T16:18:15.604Z"
   },
   {
    "duration": 18,
    "start_time": "2022-09-15T16:18:15.611Z"
   },
   {
    "duration": 18,
    "start_time": "2022-09-15T16:18:15.632Z"
   },
   {
    "duration": 16,
    "start_time": "2022-09-15T16:18:15.652Z"
   },
   {
    "duration": 23,
    "start_time": "2022-09-15T16:18:15.669Z"
   },
   {
    "duration": 12,
    "start_time": "2022-09-15T16:18:15.693Z"
   },
   {
    "duration": 8,
    "start_time": "2022-09-15T16:18:15.707Z"
   },
   {
    "duration": 16,
    "start_time": "2022-09-15T16:18:15.717Z"
   },
   {
    "duration": 152,
    "start_time": "2022-09-15T16:18:15.735Z"
   },
   {
    "duration": 120,
    "start_time": "2022-09-15T16:18:15.889Z"
   },
   {
    "duration": 5,
    "start_time": "2022-09-15T16:18:16.010Z"
   },
   {
    "duration": 16,
    "start_time": "2022-09-15T16:18:16.017Z"
   },
   {
    "duration": 16,
    "start_time": "2022-09-15T16:18:16.034Z"
   },
   {
    "duration": 281,
    "start_time": "2022-09-15T16:18:16.051Z"
   },
   {
    "duration": 204,
    "start_time": "2022-09-15T16:18:16.333Z"
   },
   {
    "duration": 307,
    "start_time": "2022-09-15T16:18:16.539Z"
   },
   {
    "duration": 3,
    "start_time": "2022-09-15T16:18:16.848Z"
   },
   {
    "duration": 6,
    "start_time": "2022-09-15T16:18:16.853Z"
   },
   {
    "duration": 209,
    "start_time": "2022-09-15T16:18:16.860Z"
   },
   {
    "duration": 356,
    "start_time": "2022-09-15T16:18:17.071Z"
   },
   {
    "duration": 7,
    "start_time": "2022-09-15T16:18:17.429Z"
   },
   {
    "duration": 12,
    "start_time": "2022-09-15T16:18:17.437Z"
   },
   {
    "duration": 169,
    "start_time": "2022-09-15T16:18:17.450Z"
   },
   {
    "duration": 168,
    "start_time": "2022-09-15T16:18:17.621Z"
   },
   {
    "duration": 4,
    "start_time": "2022-09-15T16:18:17.791Z"
   },
   {
    "duration": 192,
    "start_time": "2022-09-15T16:18:17.796Z"
   },
   {
    "duration": 237,
    "start_time": "2022-09-15T16:18:17.989Z"
   },
   {
    "duration": 4,
    "start_time": "2022-09-15T16:18:18.227Z"
   },
   {
    "duration": 13,
    "start_time": "2022-09-15T16:18:18.232Z"
   },
   {
    "duration": 4,
    "start_time": "2022-09-15T16:18:18.249Z"
   },
   {
    "duration": 58,
    "start_time": "2022-09-15T16:18:18.254Z"
   },
   {
    "duration": 4,
    "start_time": "2022-09-15T16:18:18.314Z"
   },
   {
    "duration": 40,
    "start_time": "2022-09-15T16:18:18.319Z"
   },
   {
    "duration": 14,
    "start_time": "2022-09-15T16:18:18.361Z"
   },
   {
    "duration": 57,
    "start_time": "2022-09-15T16:18:18.376Z"
   },
   {
    "duration": 12,
    "start_time": "2022-09-15T16:18:18.434Z"
   },
   {
    "duration": 43,
    "start_time": "2022-09-15T16:18:18.447Z"
   },
   {
    "duration": 34,
    "start_time": "2022-09-15T16:18:18.491Z"
   },
   {
    "duration": 74,
    "start_time": "2022-09-15T16:18:18.526Z"
   },
   {
    "duration": 85,
    "start_time": "2022-09-15T16:18:18.601Z"
   },
   {
    "duration": 5,
    "start_time": "2022-09-15T16:18:18.687Z"
   },
   {
    "duration": 5,
    "start_time": "2022-09-15T16:18:18.708Z"
   },
   {
    "duration": 23,
    "start_time": "2022-09-15T16:18:18.714Z"
   },
   {
    "duration": 4,
    "start_time": "2022-09-15T16:18:18.738Z"
   },
   {
    "duration": 11,
    "start_time": "2022-09-15T16:18:18.743Z"
   },
   {
    "duration": 6,
    "start_time": "2022-09-15T16:18:18.756Z"
   },
   {
    "duration": 12,
    "start_time": "2022-09-15T16:18:18.764Z"
   },
   {
    "duration": 10,
    "start_time": "2022-09-15T16:18:18.778Z"
   },
   {
    "duration": 5,
    "start_time": "2022-09-15T16:18:18.808Z"
   },
   {
    "duration": 7,
    "start_time": "2022-09-15T16:18:18.814Z"
   },
   {
    "duration": 8,
    "start_time": "2022-09-15T16:18:18.823Z"
   },
   {
    "duration": 21,
    "start_time": "2022-09-15T16:18:18.833Z"
   },
   {
    "duration": 4,
    "start_time": "2022-09-15T16:18:18.856Z"
   },
   {
    "duration": 23,
    "start_time": "2022-09-15T16:18:18.861Z"
   },
   {
    "duration": 24,
    "start_time": "2022-09-15T16:18:18.885Z"
   },
   {
    "duration": 4,
    "start_time": "2022-09-15T16:21:46.412Z"
   },
   {
    "duration": 6,
    "start_time": "2022-09-15T16:21:52.821Z"
   },
   {
    "duration": 4,
    "start_time": "2022-09-15T16:22:47.116Z"
   },
   {
    "duration": 4,
    "start_time": "2022-09-15T16:22:49.588Z"
   },
   {
    "duration": 7,
    "start_time": "2022-09-15T16:23:00.522Z"
   },
   {
    "duration": 5,
    "start_time": "2022-09-15T16:23:10.221Z"
   },
   {
    "duration": 118,
    "start_time": "2022-09-15T16:23:42.560Z"
   },
   {
    "duration": 848,
    "start_time": "2022-09-15T16:24:31.947Z"
   },
   {
    "duration": 12,
    "start_time": "2022-09-15T16:33:44.809Z"
   },
   {
    "duration": 8,
    "start_time": "2022-09-15T16:33:52.614Z"
   },
   {
    "duration": 16,
    "start_time": "2022-09-15T16:34:56.856Z"
   },
   {
    "duration": 8,
    "start_time": "2022-09-15T16:35:14.248Z"
   },
   {
    "duration": 16,
    "start_time": "2022-09-15T16:35:19.722Z"
   },
   {
    "duration": 17,
    "start_time": "2022-09-15T16:36:13.040Z"
   },
   {
    "duration": 17,
    "start_time": "2022-09-15T16:36:22.149Z"
   },
   {
    "duration": 17,
    "start_time": "2022-09-15T16:36:31.993Z"
   },
   {
    "duration": 1056,
    "start_time": "2022-09-15T16:36:39.905Z"
   },
   {
    "duration": 36,
    "start_time": "2022-09-15T16:36:40.962Z"
   },
   {
    "duration": 41,
    "start_time": "2022-09-15T16:36:41.000Z"
   },
   {
    "duration": 19,
    "start_time": "2022-09-15T16:36:41.043Z"
   },
   {
    "duration": 22,
    "start_time": "2022-09-15T16:36:41.063Z"
   },
   {
    "duration": 37,
    "start_time": "2022-09-15T16:36:41.087Z"
   },
   {
    "duration": 29,
    "start_time": "2022-09-15T16:36:41.126Z"
   },
   {
    "duration": 34,
    "start_time": "2022-09-15T16:36:41.157Z"
   },
   {
    "duration": 40,
    "start_time": "2022-09-15T16:36:41.192Z"
   },
   {
    "duration": 39,
    "start_time": "2022-09-15T16:36:41.234Z"
   },
   {
    "duration": 37,
    "start_time": "2022-09-15T16:36:41.274Z"
   },
   {
    "duration": 31,
    "start_time": "2022-09-15T16:36:41.312Z"
   },
   {
    "duration": 38,
    "start_time": "2022-09-15T16:36:41.344Z"
   },
   {
    "duration": 19,
    "start_time": "2022-09-15T16:36:41.384Z"
   },
   {
    "duration": 33,
    "start_time": "2022-09-15T16:36:41.404Z"
   },
   {
    "duration": 33,
    "start_time": "2022-09-15T16:36:41.439Z"
   },
   {
    "duration": 34,
    "start_time": "2022-09-15T16:36:41.473Z"
   },
   {
    "duration": 36,
    "start_time": "2022-09-15T16:36:41.509Z"
   },
   {
    "duration": 34,
    "start_time": "2022-09-15T16:36:41.546Z"
   },
   {
    "duration": 123,
    "start_time": "2022-09-15T16:36:41.582Z"
   },
   {
    "duration": 0,
    "start_time": "2022-09-15T16:36:41.709Z"
   },
   {
    "duration": 0,
    "start_time": "2022-09-15T16:36:41.711Z"
   },
   {
    "duration": 0,
    "start_time": "2022-09-15T16:36:41.712Z"
   },
   {
    "duration": 0,
    "start_time": "2022-09-15T16:36:41.713Z"
   },
   {
    "duration": 0,
    "start_time": "2022-09-15T16:36:41.714Z"
   },
   {
    "duration": 0,
    "start_time": "2022-09-15T16:36:41.715Z"
   },
   {
    "duration": 0,
    "start_time": "2022-09-15T16:36:41.716Z"
   },
   {
    "duration": 0,
    "start_time": "2022-09-15T16:36:41.718Z"
   },
   {
    "duration": 0,
    "start_time": "2022-09-15T16:36:41.719Z"
   },
   {
    "duration": 0,
    "start_time": "2022-09-15T16:36:41.720Z"
   },
   {
    "duration": 0,
    "start_time": "2022-09-15T16:36:41.721Z"
   },
   {
    "duration": 0,
    "start_time": "2022-09-15T16:36:41.722Z"
   },
   {
    "duration": 0,
    "start_time": "2022-09-15T16:36:41.724Z"
   },
   {
    "duration": 0,
    "start_time": "2022-09-15T16:36:41.724Z"
   },
   {
    "duration": 0,
    "start_time": "2022-09-15T16:36:41.725Z"
   },
   {
    "duration": 0,
    "start_time": "2022-09-15T16:36:41.726Z"
   },
   {
    "duration": 0,
    "start_time": "2022-09-15T16:36:41.727Z"
   },
   {
    "duration": 0,
    "start_time": "2022-09-15T16:36:41.728Z"
   },
   {
    "duration": 0,
    "start_time": "2022-09-15T16:36:41.729Z"
   },
   {
    "duration": 0,
    "start_time": "2022-09-15T16:36:41.730Z"
   },
   {
    "duration": 0,
    "start_time": "2022-09-15T16:36:41.731Z"
   },
   {
    "duration": 0,
    "start_time": "2022-09-15T16:36:41.732Z"
   },
   {
    "duration": 1,
    "start_time": "2022-09-15T16:36:41.732Z"
   },
   {
    "duration": 0,
    "start_time": "2022-09-15T16:36:41.734Z"
   },
   {
    "duration": 0,
    "start_time": "2022-09-15T16:36:41.734Z"
   },
   {
    "duration": 0,
    "start_time": "2022-09-15T16:36:41.735Z"
   },
   {
    "duration": 0,
    "start_time": "2022-09-15T16:36:41.737Z"
   },
   {
    "duration": 0,
    "start_time": "2022-09-15T16:36:41.738Z"
   },
   {
    "duration": 0,
    "start_time": "2022-09-15T16:36:41.739Z"
   },
   {
    "duration": 0,
    "start_time": "2022-09-15T16:36:41.740Z"
   },
   {
    "duration": 0,
    "start_time": "2022-09-15T16:36:41.742Z"
   },
   {
    "duration": 0,
    "start_time": "2022-09-15T16:36:41.743Z"
   },
   {
    "duration": 0,
    "start_time": "2022-09-15T16:36:41.744Z"
   },
   {
    "duration": 0,
    "start_time": "2022-09-15T16:36:41.745Z"
   },
   {
    "duration": 0,
    "start_time": "2022-09-15T16:36:41.746Z"
   },
   {
    "duration": 0,
    "start_time": "2022-09-15T16:36:41.748Z"
   },
   {
    "duration": 0,
    "start_time": "2022-09-15T16:36:41.809Z"
   },
   {
    "duration": 0,
    "start_time": "2022-09-15T16:36:41.811Z"
   },
   {
    "duration": 0,
    "start_time": "2022-09-15T16:36:41.812Z"
   },
   {
    "duration": 0,
    "start_time": "2022-09-15T16:36:41.813Z"
   },
   {
    "duration": 0,
    "start_time": "2022-09-15T16:36:41.815Z"
   },
   {
    "duration": 1,
    "start_time": "2022-09-15T16:36:41.816Z"
   },
   {
    "duration": 0,
    "start_time": "2022-09-15T16:36:41.818Z"
   },
   {
    "duration": 0,
    "start_time": "2022-09-15T16:36:41.819Z"
   },
   {
    "duration": 0,
    "start_time": "2022-09-15T16:36:41.820Z"
   },
   {
    "duration": 0,
    "start_time": "2022-09-15T16:36:41.822Z"
   },
   {
    "duration": 0,
    "start_time": "2022-09-15T16:36:41.823Z"
   },
   {
    "duration": 0,
    "start_time": "2022-09-15T16:36:41.824Z"
   },
   {
    "duration": 11,
    "start_time": "2022-09-15T16:37:15.668Z"
   },
   {
    "duration": 9,
    "start_time": "2022-09-15T16:38:16.359Z"
   },
   {
    "duration": 9,
    "start_time": "2022-09-15T16:38:21.262Z"
   },
   {
    "duration": 4,
    "start_time": "2022-09-15T16:39:48.851Z"
   },
   {
    "duration": 1126,
    "start_time": "2022-09-15T16:39:58.130Z"
   },
   {
    "duration": 36,
    "start_time": "2022-09-15T16:39:59.257Z"
   },
   {
    "duration": 42,
    "start_time": "2022-09-15T16:39:59.294Z"
   },
   {
    "duration": 19,
    "start_time": "2022-09-15T16:39:59.337Z"
   },
   {
    "duration": 10,
    "start_time": "2022-09-15T16:39:59.357Z"
   },
   {
    "duration": 15,
    "start_time": "2022-09-15T16:39:59.368Z"
   },
   {
    "duration": 28,
    "start_time": "2022-09-15T16:39:59.384Z"
   },
   {
    "duration": 15,
    "start_time": "2022-09-15T16:39:59.414Z"
   },
   {
    "duration": 13,
    "start_time": "2022-09-15T16:39:59.431Z"
   },
   {
    "duration": 61,
    "start_time": "2022-09-15T16:39:59.448Z"
   },
   {
    "duration": 10,
    "start_time": "2022-09-15T16:39:59.510Z"
   },
   {
    "duration": 21,
    "start_time": "2022-09-15T16:39:59.522Z"
   },
   {
    "duration": 18,
    "start_time": "2022-09-15T16:39:59.545Z"
   },
   {
    "duration": 45,
    "start_time": "2022-09-15T16:39:59.565Z"
   },
   {
    "duration": 6,
    "start_time": "2022-09-15T16:39:59.611Z"
   },
   {
    "duration": 20,
    "start_time": "2022-09-15T16:39:59.619Z"
   },
   {
    "duration": 20,
    "start_time": "2022-09-15T16:39:59.641Z"
   },
   {
    "duration": 51,
    "start_time": "2022-09-15T16:39:59.663Z"
   },
   {
    "duration": 6,
    "start_time": "2022-09-15T16:39:59.716Z"
   },
   {
    "duration": 15,
    "start_time": "2022-09-15T16:39:59.723Z"
   },
   {
    "duration": 19,
    "start_time": "2022-09-15T16:39:59.739Z"
   },
   {
    "duration": 255,
    "start_time": "2022-09-15T16:39:59.759Z"
   },
   {
    "duration": 0,
    "start_time": "2022-09-15T16:40:00.019Z"
   },
   {
    "duration": 0,
    "start_time": "2022-09-15T16:40:00.021Z"
   },
   {
    "duration": 0,
    "start_time": "2022-09-15T16:40:00.022Z"
   },
   {
    "duration": 0,
    "start_time": "2022-09-15T16:40:00.023Z"
   },
   {
    "duration": 0,
    "start_time": "2022-09-15T16:40:00.025Z"
   },
   {
    "duration": 0,
    "start_time": "2022-09-15T16:40:00.026Z"
   },
   {
    "duration": 0,
    "start_time": "2022-09-15T16:40:00.027Z"
   },
   {
    "duration": 0,
    "start_time": "2022-09-15T16:40:00.028Z"
   },
   {
    "duration": 0,
    "start_time": "2022-09-15T16:40:00.030Z"
   },
   {
    "duration": 0,
    "start_time": "2022-09-15T16:40:00.031Z"
   },
   {
    "duration": 0,
    "start_time": "2022-09-15T16:40:00.032Z"
   },
   {
    "duration": 0,
    "start_time": "2022-09-15T16:40:00.033Z"
   },
   {
    "duration": 0,
    "start_time": "2022-09-15T16:40:00.035Z"
   },
   {
    "duration": 0,
    "start_time": "2022-09-15T16:40:00.037Z"
   },
   {
    "duration": 0,
    "start_time": "2022-09-15T16:40:00.038Z"
   },
   {
    "duration": 0,
    "start_time": "2022-09-15T16:40:00.039Z"
   },
   {
    "duration": 0,
    "start_time": "2022-09-15T16:40:00.040Z"
   },
   {
    "duration": 0,
    "start_time": "2022-09-15T16:40:00.041Z"
   },
   {
    "duration": 0,
    "start_time": "2022-09-15T16:40:00.043Z"
   },
   {
    "duration": 0,
    "start_time": "2022-09-15T16:40:00.044Z"
   },
   {
    "duration": 0,
    "start_time": "2022-09-15T16:40:00.045Z"
   },
   {
    "duration": 0,
    "start_time": "2022-09-15T16:40:00.046Z"
   },
   {
    "duration": 0,
    "start_time": "2022-09-15T16:40:00.047Z"
   },
   {
    "duration": 0,
    "start_time": "2022-09-15T16:40:00.048Z"
   },
   {
    "duration": 0,
    "start_time": "2022-09-15T16:40:00.050Z"
   },
   {
    "duration": 0,
    "start_time": "2022-09-15T16:40:00.108Z"
   },
   {
    "duration": 0,
    "start_time": "2022-09-15T16:40:00.110Z"
   },
   {
    "duration": 0,
    "start_time": "2022-09-15T16:40:00.112Z"
   },
   {
    "duration": 0,
    "start_time": "2022-09-15T16:40:00.113Z"
   },
   {
    "duration": 0,
    "start_time": "2022-09-15T16:40:00.114Z"
   },
   {
    "duration": 0,
    "start_time": "2022-09-15T16:40:00.116Z"
   },
   {
    "duration": 0,
    "start_time": "2022-09-15T16:40:00.117Z"
   },
   {
    "duration": 0,
    "start_time": "2022-09-15T16:40:00.119Z"
   },
   {
    "duration": 0,
    "start_time": "2022-09-15T16:40:00.120Z"
   },
   {
    "duration": 0,
    "start_time": "2022-09-15T16:40:00.122Z"
   },
   {
    "duration": 0,
    "start_time": "2022-09-15T16:40:00.123Z"
   },
   {
    "duration": 0,
    "start_time": "2022-09-15T16:40:00.124Z"
   },
   {
    "duration": 0,
    "start_time": "2022-09-15T16:40:00.126Z"
   },
   {
    "duration": 0,
    "start_time": "2022-09-15T16:40:00.128Z"
   },
   {
    "duration": 0,
    "start_time": "2022-09-15T16:40:00.129Z"
   },
   {
    "duration": 0,
    "start_time": "2022-09-15T16:40:00.132Z"
   },
   {
    "duration": 0,
    "start_time": "2022-09-15T16:40:00.134Z"
   },
   {
    "duration": 0,
    "start_time": "2022-09-15T16:40:00.135Z"
   },
   {
    "duration": 0,
    "start_time": "2022-09-15T16:40:00.137Z"
   },
   {
    "duration": 0,
    "start_time": "2022-09-15T16:40:00.138Z"
   },
   {
    "duration": 1,
    "start_time": "2022-09-15T16:40:00.139Z"
   },
   {
    "duration": 0,
    "start_time": "2022-09-15T16:40:00.141Z"
   },
   {
    "duration": 0,
    "start_time": "2022-09-15T16:40:00.142Z"
   },
   {
    "duration": 345,
    "start_time": "2022-09-15T16:40:34.397Z"
   },
   {
    "duration": 478,
    "start_time": "2022-09-15T16:41:08.780Z"
   },
   {
    "duration": 245,
    "start_time": "2022-09-15T16:42:02.237Z"
   },
   {
    "duration": 11,
    "start_time": "2022-09-15T16:42:38.527Z"
   },
   {
    "duration": 5,
    "start_time": "2022-09-15T16:42:52.601Z"
   },
   {
    "duration": 5,
    "start_time": "2022-09-15T16:43:16.825Z"
   },
   {
    "duration": 1134,
    "start_time": "2022-09-15T16:43:22.223Z"
   },
   {
    "duration": 35,
    "start_time": "2022-09-15T16:43:23.360Z"
   },
   {
    "duration": 42,
    "start_time": "2022-09-15T16:43:23.397Z"
   },
   {
    "duration": 22,
    "start_time": "2022-09-15T16:43:23.441Z"
   },
   {
    "duration": 13,
    "start_time": "2022-09-15T16:43:23.466Z"
   },
   {
    "duration": 17,
    "start_time": "2022-09-15T16:43:23.481Z"
   },
   {
    "duration": 14,
    "start_time": "2022-09-15T16:43:23.500Z"
   },
   {
    "duration": 8,
    "start_time": "2022-09-15T16:43:23.516Z"
   },
   {
    "duration": 17,
    "start_time": "2022-09-15T16:43:23.526Z"
   },
   {
    "duration": 19,
    "start_time": "2022-09-15T16:43:23.545Z"
   },
   {
    "duration": 13,
    "start_time": "2022-09-15T16:43:23.566Z"
   },
   {
    "duration": 5,
    "start_time": "2022-09-15T16:43:23.581Z"
   },
   {
    "duration": 24,
    "start_time": "2022-09-15T16:43:23.588Z"
   },
   {
    "duration": 7,
    "start_time": "2022-09-15T16:43:23.616Z"
   },
   {
    "duration": 5,
    "start_time": "2022-09-15T16:43:23.625Z"
   },
   {
    "duration": 11,
    "start_time": "2022-09-15T16:43:23.632Z"
   },
   {
    "duration": 19,
    "start_time": "2022-09-15T16:43:23.644Z"
   },
   {
    "duration": 9,
    "start_time": "2022-09-15T16:43:23.665Z"
   },
   {
    "duration": 5,
    "start_time": "2022-09-15T16:43:23.676Z"
   },
   {
    "duration": 37,
    "start_time": "2022-09-15T16:43:23.682Z"
   },
   {
    "duration": 14,
    "start_time": "2022-09-15T16:43:23.721Z"
   },
   {
    "duration": 9,
    "start_time": "2022-09-15T16:43:23.737Z"
   },
   {
    "duration": 9,
    "start_time": "2022-09-15T16:43:23.747Z"
   },
   {
    "duration": 194,
    "start_time": "2022-09-15T16:43:23.758Z"
   },
   {
    "duration": 122,
    "start_time": "2022-09-15T16:43:23.954Z"
   },
   {
    "duration": 7,
    "start_time": "2022-09-15T16:43:24.078Z"
   },
   {
    "duration": 23,
    "start_time": "2022-09-15T16:43:24.086Z"
   },
   {
    "duration": 7,
    "start_time": "2022-09-15T16:43:24.111Z"
   },
   {
    "duration": 315,
    "start_time": "2022-09-15T16:43:24.120Z"
   },
   {
    "duration": 231,
    "start_time": "2022-09-15T16:43:24.437Z"
   },
   {
    "duration": 338,
    "start_time": "2022-09-15T16:43:24.670Z"
   },
   {
    "duration": 4,
    "start_time": "2022-09-15T16:43:25.010Z"
   },
   {
    "duration": 7,
    "start_time": "2022-09-15T16:43:25.016Z"
   },
   {
    "duration": 220,
    "start_time": "2022-09-15T16:43:25.025Z"
   },
   {
    "duration": 339,
    "start_time": "2022-09-15T16:43:25.247Z"
   },
   {
    "duration": 8,
    "start_time": "2022-09-15T16:43:25.587Z"
   },
   {
    "duration": 10,
    "start_time": "2022-09-15T16:43:25.608Z"
   },
   {
    "duration": 176,
    "start_time": "2022-09-15T16:43:25.620Z"
   },
   {
    "duration": 171,
    "start_time": "2022-09-15T16:43:25.798Z"
   },
   {
    "duration": 4,
    "start_time": "2022-09-15T16:43:25.971Z"
   },
   {
    "duration": 194,
    "start_time": "2022-09-15T16:43:25.979Z"
   },
   {
    "duration": 241,
    "start_time": "2022-09-15T16:43:26.175Z"
   },
   {
    "duration": 3,
    "start_time": "2022-09-15T16:43:26.418Z"
   },
   {
    "duration": 11,
    "start_time": "2022-09-15T16:43:26.423Z"
   },
   {
    "duration": 5,
    "start_time": "2022-09-15T16:43:26.436Z"
   },
   {
    "duration": 45,
    "start_time": "2022-09-15T16:43:26.442Z"
   },
   {
    "duration": 22,
    "start_time": "2022-09-15T16:43:26.489Z"
   },
   {
    "duration": 42,
    "start_time": "2022-09-15T16:43:26.513Z"
   },
   {
    "duration": 15,
    "start_time": "2022-09-15T16:43:26.557Z"
   },
   {
    "duration": 55,
    "start_time": "2022-09-15T16:43:26.573Z"
   },
   {
    "duration": 14,
    "start_time": "2022-09-15T16:43:26.630Z"
   },
   {
    "duration": 50,
    "start_time": "2022-09-15T16:43:26.646Z"
   },
   {
    "duration": 27,
    "start_time": "2022-09-15T16:43:26.698Z"
   },
   {
    "duration": 64,
    "start_time": "2022-09-15T16:43:26.726Z"
   },
   {
    "duration": 141,
    "start_time": "2022-09-15T16:43:26.791Z"
   },
   {
    "duration": 5,
    "start_time": "2022-09-15T16:43:26.933Z"
   },
   {
    "duration": 7,
    "start_time": "2022-09-15T16:43:26.939Z"
   },
   {
    "duration": 70,
    "start_time": "2022-09-15T16:43:26.947Z"
   },
   {
    "duration": 4,
    "start_time": "2022-09-15T16:43:27.018Z"
   },
   {
    "duration": 8,
    "start_time": "2022-09-15T16:43:27.024Z"
   },
   {
    "duration": 5,
    "start_time": "2022-09-15T16:43:27.034Z"
   },
   {
    "duration": 7,
    "start_time": "2022-09-15T16:43:27.041Z"
   },
   {
    "duration": 59,
    "start_time": "2022-09-15T16:43:27.050Z"
   },
   {
    "duration": 7,
    "start_time": "2022-09-15T16:43:27.111Z"
   },
   {
    "duration": 6,
    "start_time": "2022-09-15T16:43:27.120Z"
   },
   {
    "duration": 5,
    "start_time": "2022-09-15T16:43:27.127Z"
   },
   {
    "duration": 75,
    "start_time": "2022-09-15T16:43:27.134Z"
   },
   {
    "duration": 4,
    "start_time": "2022-09-15T16:43:27.210Z"
   },
   {
    "duration": 14,
    "start_time": "2022-09-15T16:43:27.215Z"
   },
   {
    "duration": 7,
    "start_time": "2022-09-15T16:43:27.230Z"
   },
   {
    "duration": 1346,
    "start_time": "2022-09-16T07:33:49.740Z"
   },
   {
    "duration": 78,
    "start_time": "2022-09-16T07:33:51.089Z"
   },
   {
    "duration": 94,
    "start_time": "2022-09-16T07:33:51.168Z"
   },
   {
    "duration": 65,
    "start_time": "2022-09-16T07:33:51.264Z"
   },
   {
    "duration": 12,
    "start_time": "2022-09-16T07:33:51.331Z"
   },
   {
    "duration": 20,
    "start_time": "2022-09-16T07:33:51.345Z"
   },
   {
    "duration": 38,
    "start_time": "2022-09-16T07:33:51.367Z"
   },
   {
    "duration": 33,
    "start_time": "2022-09-16T07:33:51.406Z"
   },
   {
    "duration": 30,
    "start_time": "2022-09-16T07:33:51.440Z"
   },
   {
    "duration": 25,
    "start_time": "2022-09-16T07:33:51.473Z"
   },
   {
    "duration": 42,
    "start_time": "2022-09-16T07:33:51.500Z"
   },
   {
    "duration": 38,
    "start_time": "2022-09-16T07:33:51.544Z"
   },
   {
    "duration": 15,
    "start_time": "2022-09-16T07:33:51.584Z"
   },
   {
    "duration": 23,
    "start_time": "2022-09-16T07:33:51.600Z"
   },
   {
    "duration": 36,
    "start_time": "2022-09-16T07:33:51.624Z"
   },
   {
    "duration": 20,
    "start_time": "2022-09-16T07:33:51.662Z"
   },
   {
    "duration": 27,
    "start_time": "2022-09-16T07:33:51.684Z"
   },
   {
    "duration": 28,
    "start_time": "2022-09-16T07:33:51.713Z"
   },
   {
    "duration": 17,
    "start_time": "2022-09-16T07:33:51.743Z"
   },
   {
    "duration": 25,
    "start_time": "2022-09-16T07:33:51.762Z"
   },
   {
    "duration": 13,
    "start_time": "2022-09-16T07:33:51.789Z"
   },
   {
    "duration": 11,
    "start_time": "2022-09-16T07:33:51.804Z"
   },
   {
    "duration": 18,
    "start_time": "2022-09-16T07:33:51.817Z"
   },
   {
    "duration": 191,
    "start_time": "2022-09-16T07:33:51.839Z"
   },
   {
    "duration": 135,
    "start_time": "2022-09-16T07:33:52.032Z"
   },
   {
    "duration": 6,
    "start_time": "2022-09-16T07:33:52.170Z"
   },
   {
    "duration": 9,
    "start_time": "2022-09-16T07:33:52.178Z"
   },
   {
    "duration": 6,
    "start_time": "2022-09-16T07:33:52.192Z"
   },
   {
    "duration": 342,
    "start_time": "2022-09-16T07:33:52.200Z"
   },
   {
    "duration": 268,
    "start_time": "2022-09-16T07:33:52.544Z"
   },
   {
    "duration": 409,
    "start_time": "2022-09-16T07:33:52.825Z"
   },
   {
    "duration": 4,
    "start_time": "2022-09-16T07:33:53.236Z"
   },
   {
    "duration": 12,
    "start_time": "2022-09-16T07:33:53.242Z"
   },
   {
    "duration": 238,
    "start_time": "2022-09-16T07:33:53.256Z"
   },
   {
    "duration": 404,
    "start_time": "2022-09-16T07:33:53.496Z"
   },
   {
    "duration": 17,
    "start_time": "2022-09-16T07:33:53.902Z"
   },
   {
    "duration": 29,
    "start_time": "2022-09-16T07:33:53.926Z"
   },
   {
    "duration": 180,
    "start_time": "2022-09-16T07:33:53.957Z"
   },
   {
    "duration": 203,
    "start_time": "2022-09-16T07:33:54.139Z"
   },
   {
    "duration": 4,
    "start_time": "2022-09-16T07:33:54.344Z"
   },
   {
    "duration": 232,
    "start_time": "2022-09-16T07:33:54.350Z"
   },
   {
    "duration": 282,
    "start_time": "2022-09-16T07:33:54.583Z"
   },
   {
    "duration": 4,
    "start_time": "2022-09-16T07:33:54.867Z"
   },
   {
    "duration": 25,
    "start_time": "2022-09-16T07:33:54.872Z"
   },
   {
    "duration": 17,
    "start_time": "2022-09-16T07:33:54.899Z"
   },
   {
    "duration": 71,
    "start_time": "2022-09-16T07:33:54.918Z"
   },
   {
    "duration": 12,
    "start_time": "2022-09-16T07:33:54.991Z"
   },
   {
    "duration": 56,
    "start_time": "2022-09-16T07:33:55.005Z"
   },
   {
    "duration": 25,
    "start_time": "2022-09-16T07:33:55.062Z"
   },
   {
    "duration": 60,
    "start_time": "2022-09-16T07:33:55.089Z"
   },
   {
    "duration": 17,
    "start_time": "2022-09-16T07:33:55.151Z"
   },
   {
    "duration": 72,
    "start_time": "2022-09-16T07:33:55.170Z"
   },
   {
    "duration": 22,
    "start_time": "2022-09-16T07:33:55.244Z"
   },
   {
    "duration": 92,
    "start_time": "2022-09-16T07:33:55.268Z"
   },
   {
    "duration": 90,
    "start_time": "2022-09-16T07:33:55.362Z"
   },
   {
    "duration": 6,
    "start_time": "2022-09-16T07:33:55.454Z"
   },
   {
    "duration": 7,
    "start_time": "2022-09-16T07:33:55.462Z"
   },
   {
    "duration": 29,
    "start_time": "2022-09-16T07:33:55.471Z"
   },
   {
    "duration": 5,
    "start_time": "2022-09-16T07:33:55.501Z"
   },
   {
    "duration": 16,
    "start_time": "2022-09-16T07:33:55.532Z"
   },
   {
    "duration": 7,
    "start_time": "2022-09-16T07:33:55.550Z"
   },
   {
    "duration": 15,
    "start_time": "2022-09-16T07:33:55.559Z"
   },
   {
    "duration": 7,
    "start_time": "2022-09-16T07:33:55.576Z"
   },
   {
    "duration": 11,
    "start_time": "2022-09-16T07:33:55.585Z"
   },
   {
    "duration": 8,
    "start_time": "2022-09-16T07:33:55.597Z"
   },
   {
    "duration": 22,
    "start_time": "2022-09-16T07:33:55.607Z"
   },
   {
    "duration": 27,
    "start_time": "2022-09-16T07:33:55.634Z"
   },
   {
    "duration": 6,
    "start_time": "2022-09-16T07:33:55.663Z"
   },
   {
    "duration": 12,
    "start_time": "2022-09-16T07:33:55.671Z"
   },
   {
    "duration": 8,
    "start_time": "2022-09-16T07:33:55.685Z"
   },
   {
    "duration": 119,
    "start_time": "2022-09-16T08:16:31.851Z"
   },
   {
    "duration": 1153,
    "start_time": "2022-09-16T08:16:43.327Z"
   },
   {
    "duration": 39,
    "start_time": "2022-09-16T08:16:44.482Z"
   },
   {
    "duration": 45,
    "start_time": "2022-09-16T08:16:44.522Z"
   },
   {
    "duration": 21,
    "start_time": "2022-09-16T08:16:44.569Z"
   },
   {
    "duration": 11,
    "start_time": "2022-09-16T08:16:44.591Z"
   },
   {
    "duration": 16,
    "start_time": "2022-09-16T08:16:44.604Z"
   },
   {
    "duration": 13,
    "start_time": "2022-09-16T08:16:44.621Z"
   },
   {
    "duration": 11,
    "start_time": "2022-09-16T08:16:44.635Z"
   },
   {
    "duration": 13,
    "start_time": "2022-09-16T08:16:44.649Z"
   },
   {
    "duration": 13,
    "start_time": "2022-09-16T08:16:44.665Z"
   },
   {
    "duration": 13,
    "start_time": "2022-09-16T08:16:44.680Z"
   },
   {
    "duration": 4,
    "start_time": "2022-09-16T08:16:44.695Z"
   },
   {
    "duration": 25,
    "start_time": "2022-09-16T08:16:44.700Z"
   },
   {
    "duration": 7,
    "start_time": "2022-09-16T08:16:44.727Z"
   },
   {
    "duration": 5,
    "start_time": "2022-09-16T08:16:44.736Z"
   },
   {
    "duration": 17,
    "start_time": "2022-09-16T08:16:44.742Z"
   },
   {
    "duration": 13,
    "start_time": "2022-09-16T08:16:44.761Z"
   },
   {
    "duration": 8,
    "start_time": "2022-09-16T08:16:44.776Z"
   },
   {
    "duration": 41,
    "start_time": "2022-09-16T08:16:44.786Z"
   },
   {
    "duration": 5,
    "start_time": "2022-09-16T08:16:44.829Z"
   },
   {
    "duration": 16,
    "start_time": "2022-09-16T08:16:44.835Z"
   },
   {
    "duration": 20,
    "start_time": "2022-09-16T08:16:44.852Z"
   },
   {
    "duration": 8,
    "start_time": "2022-09-16T08:16:44.874Z"
   },
   {
    "duration": 9,
    "start_time": "2022-09-16T08:16:44.884Z"
   },
   {
    "duration": 188,
    "start_time": "2022-09-16T08:16:44.920Z"
   },
   {
    "duration": 143,
    "start_time": "2022-09-16T08:16:45.110Z"
   },
   {
    "duration": 11,
    "start_time": "2022-09-16T08:16:45.255Z"
   },
   {
    "duration": 7,
    "start_time": "2022-09-16T08:16:45.270Z"
   },
   {
    "duration": 10,
    "start_time": "2022-09-16T08:16:45.279Z"
   },
   {
    "duration": 381,
    "start_time": "2022-09-16T08:16:45.291Z"
   },
   {
    "duration": 261,
    "start_time": "2022-09-16T08:16:45.675Z"
   },
   {
    "duration": 345,
    "start_time": "2022-09-16T08:16:45.938Z"
   },
   {
    "duration": 4,
    "start_time": "2022-09-16T08:16:46.285Z"
   },
   {
    "duration": 17,
    "start_time": "2022-09-16T08:16:46.291Z"
   },
   {
    "duration": 278,
    "start_time": "2022-09-16T08:16:46.310Z"
   },
   {
    "duration": 404,
    "start_time": "2022-09-16T08:16:46.590Z"
   },
   {
    "duration": 10,
    "start_time": "2022-09-16T08:16:46.996Z"
   },
   {
    "duration": 31,
    "start_time": "2022-09-16T08:16:47.008Z"
   },
   {
    "duration": 184,
    "start_time": "2022-09-16T08:16:47.041Z"
   },
   {
    "duration": 194,
    "start_time": "2022-09-16T08:16:47.226Z"
   },
   {
    "duration": 4,
    "start_time": "2022-09-16T08:16:47.422Z"
   },
   {
    "duration": 222,
    "start_time": "2022-09-16T08:16:47.428Z"
   },
   {
    "duration": 302,
    "start_time": "2022-09-16T08:16:47.652Z"
   },
   {
    "duration": 4,
    "start_time": "2022-09-16T08:16:47.956Z"
   },
   {
    "duration": 37,
    "start_time": "2022-09-16T08:16:47.961Z"
   },
   {
    "duration": 28,
    "start_time": "2022-09-16T08:16:48.000Z"
   },
   {
    "duration": 73,
    "start_time": "2022-09-16T08:16:48.030Z"
   },
   {
    "duration": 28,
    "start_time": "2022-09-16T08:16:48.104Z"
   },
   {
    "duration": 69,
    "start_time": "2022-09-16T08:16:48.133Z"
   },
   {
    "duration": 20,
    "start_time": "2022-09-16T08:16:48.204Z"
   },
   {
    "duration": 55,
    "start_time": "2022-09-16T08:16:48.226Z"
   },
   {
    "duration": 19,
    "start_time": "2022-09-16T08:16:48.283Z"
   },
   {
    "duration": 61,
    "start_time": "2022-09-16T08:16:48.303Z"
   },
   {
    "duration": 23,
    "start_time": "2022-09-16T08:16:48.365Z"
   },
   {
    "duration": 102,
    "start_time": "2022-09-16T08:16:48.390Z"
   },
   {
    "duration": 93,
    "start_time": "2022-09-16T08:16:48.493Z"
   },
   {
    "duration": 6,
    "start_time": "2022-09-16T08:16:48.588Z"
   },
   {
    "duration": 12,
    "start_time": "2022-09-16T08:16:48.595Z"
   },
   {
    "duration": 31,
    "start_time": "2022-09-16T08:16:48.608Z"
   },
   {
    "duration": 4,
    "start_time": "2022-09-16T08:16:48.641Z"
   },
   {
    "duration": 16,
    "start_time": "2022-09-16T08:16:48.647Z"
   },
   {
    "duration": 16,
    "start_time": "2022-09-16T08:16:48.665Z"
   },
   {
    "duration": 8,
    "start_time": "2022-09-16T08:16:48.682Z"
   },
   {
    "duration": 10,
    "start_time": "2022-09-16T08:16:48.691Z"
   },
   {
    "duration": 20,
    "start_time": "2022-09-16T08:16:48.702Z"
   },
   {
    "duration": 8,
    "start_time": "2022-09-16T08:16:48.724Z"
   },
   {
    "duration": 28,
    "start_time": "2022-09-16T08:16:48.734Z"
   },
   {
    "duration": 25,
    "start_time": "2022-09-16T08:16:48.764Z"
   },
   {
    "duration": 5,
    "start_time": "2022-09-16T08:16:48.790Z"
   },
   {
    "duration": 17,
    "start_time": "2022-09-16T08:16:48.797Z"
   },
   {
    "duration": 14,
    "start_time": "2022-09-16T08:16:48.815Z"
   },
   {
    "duration": 349,
    "start_time": "2022-09-16T08:52:02.980Z"
   },
   {
    "duration": 378,
    "start_time": "2022-09-16T08:52:09.704Z"
   },
   {
    "duration": 1247,
    "start_time": "2022-09-16T09:24:48.589Z"
   },
   {
    "duration": 1690,
    "start_time": "2022-09-16T09:25:03.710Z"
   },
   {
    "duration": 26,
    "start_time": "2022-09-16T09:25:11.806Z"
   },
   {
    "duration": 15,
    "start_time": "2022-09-16T09:25:18.946Z"
   },
   {
    "duration": 43,
    "start_time": "2022-09-16T09:26:25.232Z"
   },
   {
    "duration": 29,
    "start_time": "2022-09-16T09:26:28.565Z"
   },
   {
    "duration": 1162,
    "start_time": "2022-09-16T09:26:34.045Z"
   },
   {
    "duration": 40,
    "start_time": "2022-09-16T09:26:35.209Z"
   },
   {
    "duration": 44,
    "start_time": "2022-09-16T09:26:35.251Z"
   },
   {
    "duration": 20,
    "start_time": "2022-09-16T09:26:35.298Z"
   },
   {
    "duration": 16,
    "start_time": "2022-09-16T09:26:35.320Z"
   },
   {
    "duration": 25,
    "start_time": "2022-09-16T09:26:35.338Z"
   },
   {
    "duration": 16,
    "start_time": "2022-09-16T09:26:35.365Z"
   },
   {
    "duration": 10,
    "start_time": "2022-09-16T09:26:35.383Z"
   },
   {
    "duration": 26,
    "start_time": "2022-09-16T09:26:35.395Z"
   },
   {
    "duration": 17,
    "start_time": "2022-09-16T09:26:35.424Z"
   },
   {
    "duration": 17,
    "start_time": "2022-09-16T09:26:35.443Z"
   },
   {
    "duration": 7,
    "start_time": "2022-09-16T09:26:35.462Z"
   },
   {
    "duration": 10,
    "start_time": "2022-09-16T09:26:35.470Z"
   },
   {
    "duration": 6,
    "start_time": "2022-09-16T09:26:35.482Z"
   },
   {
    "duration": 17,
    "start_time": "2022-09-16T09:26:35.490Z"
   },
   {
    "duration": 33,
    "start_time": "2022-09-16T09:26:35.508Z"
   },
   {
    "duration": 27,
    "start_time": "2022-09-16T09:26:35.543Z"
   },
   {
    "duration": 12,
    "start_time": "2022-09-16T09:26:35.572Z"
   },
   {
    "duration": 18,
    "start_time": "2022-09-16T09:26:35.586Z"
   },
   {
    "duration": 18,
    "start_time": "2022-09-16T09:26:35.606Z"
   },
   {
    "duration": 14,
    "start_time": "2022-09-16T09:26:35.626Z"
   },
   {
    "duration": 62,
    "start_time": "2022-09-16T09:26:35.642Z"
   },
   {
    "duration": 0,
    "start_time": "2022-09-16T09:26:35.708Z"
   },
   {
    "duration": 0,
    "start_time": "2022-09-16T09:26:35.709Z"
   },
   {
    "duration": 0,
    "start_time": "2022-09-16T09:26:35.711Z"
   },
   {
    "duration": 0,
    "start_time": "2022-09-16T09:26:35.713Z"
   },
   {
    "duration": 0,
    "start_time": "2022-09-16T09:26:35.714Z"
   },
   {
    "duration": 0,
    "start_time": "2022-09-16T09:26:35.716Z"
   },
   {
    "duration": 0,
    "start_time": "2022-09-16T09:26:35.718Z"
   },
   {
    "duration": 0,
    "start_time": "2022-09-16T09:26:35.719Z"
   },
   {
    "duration": 0,
    "start_time": "2022-09-16T09:26:35.721Z"
   },
   {
    "duration": 0,
    "start_time": "2022-09-16T09:26:35.722Z"
   },
   {
    "duration": 0,
    "start_time": "2022-09-16T09:26:35.724Z"
   },
   {
    "duration": 0,
    "start_time": "2022-09-16T09:26:35.725Z"
   },
   {
    "duration": 0,
    "start_time": "2022-09-16T09:26:35.727Z"
   },
   {
    "duration": 0,
    "start_time": "2022-09-16T09:26:35.728Z"
   },
   {
    "duration": 0,
    "start_time": "2022-09-16T09:26:35.730Z"
   },
   {
    "duration": 0,
    "start_time": "2022-09-16T09:26:35.731Z"
   },
   {
    "duration": 0,
    "start_time": "2022-09-16T09:26:35.733Z"
   },
   {
    "duration": 0,
    "start_time": "2022-09-16T09:26:35.733Z"
   },
   {
    "duration": 0,
    "start_time": "2022-09-16T09:26:35.734Z"
   },
   {
    "duration": 0,
    "start_time": "2022-09-16T09:26:35.735Z"
   },
   {
    "duration": 0,
    "start_time": "2022-09-16T09:26:35.736Z"
   },
   {
    "duration": 0,
    "start_time": "2022-09-16T09:26:35.737Z"
   },
   {
    "duration": 0,
    "start_time": "2022-09-16T09:26:35.738Z"
   },
   {
    "duration": 0,
    "start_time": "2022-09-16T09:26:35.740Z"
   },
   {
    "duration": 0,
    "start_time": "2022-09-16T09:26:35.741Z"
   },
   {
    "duration": 0,
    "start_time": "2022-09-16T09:26:35.742Z"
   },
   {
    "duration": 0,
    "start_time": "2022-09-16T09:26:35.743Z"
   },
   {
    "duration": 0,
    "start_time": "2022-09-16T09:26:35.744Z"
   },
   {
    "duration": 0,
    "start_time": "2022-09-16T09:26:35.746Z"
   },
   {
    "duration": 0,
    "start_time": "2022-09-16T09:26:35.747Z"
   },
   {
    "duration": 0,
    "start_time": "2022-09-16T09:26:35.748Z"
   },
   {
    "duration": 0,
    "start_time": "2022-09-16T09:26:35.750Z"
   },
   {
    "duration": 0,
    "start_time": "2022-09-16T09:26:35.751Z"
   },
   {
    "duration": 0,
    "start_time": "2022-09-16T09:26:35.752Z"
   },
   {
    "duration": 0,
    "start_time": "2022-09-16T09:26:35.754Z"
   },
   {
    "duration": 0,
    "start_time": "2022-09-16T09:26:35.756Z"
   },
   {
    "duration": 0,
    "start_time": "2022-09-16T09:26:35.757Z"
   },
   {
    "duration": 0,
    "start_time": "2022-09-16T09:26:35.759Z"
   },
   {
    "duration": 0,
    "start_time": "2022-09-16T09:26:35.760Z"
   },
   {
    "duration": 0,
    "start_time": "2022-09-16T09:26:35.821Z"
   },
   {
    "duration": 0,
    "start_time": "2022-09-16T09:26:35.822Z"
   },
   {
    "duration": 0,
    "start_time": "2022-09-16T09:26:35.824Z"
   },
   {
    "duration": 0,
    "start_time": "2022-09-16T09:26:35.825Z"
   },
   {
    "duration": 0,
    "start_time": "2022-09-16T09:26:35.827Z"
   },
   {
    "duration": 0,
    "start_time": "2022-09-16T09:26:35.828Z"
   },
   {
    "duration": 1,
    "start_time": "2022-09-16T09:26:35.829Z"
   },
   {
    "duration": 0,
    "start_time": "2022-09-16T09:26:35.830Z"
   },
   {
    "duration": 0,
    "start_time": "2022-09-16T09:26:35.832Z"
   },
   {
    "duration": 0,
    "start_time": "2022-09-16T09:26:35.833Z"
   },
   {
    "duration": 0,
    "start_time": "2022-09-16T09:26:35.834Z"
   },
   {
    "duration": 0,
    "start_time": "2022-09-16T09:26:35.835Z"
   },
   {
    "duration": 1146,
    "start_time": "2022-09-20T13:55:55.745Z"
   },
   {
    "duration": 83,
    "start_time": "2022-09-20T13:55:56.892Z"
   },
   {
    "duration": 97,
    "start_time": "2022-09-20T13:55:56.976Z"
   },
   {
    "duration": 70,
    "start_time": "2022-09-20T13:55:57.075Z"
   },
   {
    "duration": 10,
    "start_time": "2022-09-20T13:55:57.147Z"
   },
   {
    "duration": 14,
    "start_time": "2022-09-20T13:55:57.158Z"
   },
   {
    "duration": 10,
    "start_time": "2022-09-20T13:55:57.173Z"
   },
   {
    "duration": 16,
    "start_time": "2022-09-20T13:55:57.184Z"
   },
   {
    "duration": 40,
    "start_time": "2022-09-20T13:55:57.201Z"
   },
   {
    "duration": 23,
    "start_time": "2022-09-20T13:55:57.244Z"
   },
   {
    "duration": 27,
    "start_time": "2022-09-20T13:55:57.268Z"
   },
   {
    "duration": 10,
    "start_time": "2022-09-20T13:55:57.298Z"
   },
   {
    "duration": 12,
    "start_time": "2022-09-20T13:55:57.321Z"
   },
   {
    "duration": 7,
    "start_time": "2022-09-20T13:55:57.335Z"
   },
   {
    "duration": 4,
    "start_time": "2022-09-20T13:55:57.345Z"
   },
   {
    "duration": 9,
    "start_time": "2022-09-20T13:55:57.351Z"
   },
   {
    "duration": 16,
    "start_time": "2022-09-20T13:55:57.362Z"
   },
   {
    "duration": 8,
    "start_time": "2022-09-20T13:55:57.380Z"
   },
   {
    "duration": 35,
    "start_time": "2022-09-20T13:55:57.390Z"
   },
   {
    "duration": 8,
    "start_time": "2022-09-20T13:55:57.427Z"
   },
   {
    "duration": 23,
    "start_time": "2022-09-20T13:55:57.437Z"
   },
   {
    "duration": 14,
    "start_time": "2022-09-20T13:55:57.462Z"
   },
   {
    "duration": 12,
    "start_time": "2022-09-20T13:55:57.477Z"
   },
   {
    "duration": 55,
    "start_time": "2022-09-20T13:55:57.490Z"
   },
   {
    "duration": 162,
    "start_time": "2022-09-20T13:55:57.546Z"
   },
   {
    "duration": 118,
    "start_time": "2022-09-20T13:55:57.709Z"
   },
   {
    "duration": 5,
    "start_time": "2022-09-20T13:55:57.829Z"
   },
   {
    "duration": 3,
    "start_time": "2022-09-20T13:55:57.837Z"
   },
   {
    "duration": 8,
    "start_time": "2022-09-20T13:55:57.842Z"
   },
   {
    "duration": 331,
    "start_time": "2022-09-20T13:55:57.852Z"
   },
   {
    "duration": 238,
    "start_time": "2022-09-20T13:55:58.184Z"
   },
   {
    "duration": 336,
    "start_time": "2022-09-20T13:55:58.424Z"
   },
   {
    "duration": 3,
    "start_time": "2022-09-20T13:55:58.762Z"
   },
   {
    "duration": 5,
    "start_time": "2022-09-20T13:55:58.767Z"
   },
   {
    "duration": 264,
    "start_time": "2022-09-20T13:55:58.774Z"
   }
  ],
  "kernelspec": {
   "display_name": "Python 3 (ipykernel)",
   "language": "python",
   "name": "python3"
  },
  "language_info": {
   "codemirror_mode": {
    "name": "ipython",
    "version": 3
   },
   "file_extension": ".py",
   "mimetype": "text/x-python",
   "name": "python",
   "nbconvert_exporter": "python",
   "pygments_lexer": "ipython3",
   "version": "3.9.12"
  },
  "toc": {
   "base_numbering": 1,
   "nav_menu": {},
   "number_sections": true,
   "sideBar": true,
   "skip_h1_title": true,
   "title_cell": "Table of Contents",
   "title_sidebar": "Contents",
   "toc_cell": false,
   "toc_position": {
    "height": "calc(100% - 180px)",
    "left": "10px",
    "top": "150px",
    "width": "270.195px"
   },
   "toc_section_display": true,
   "toc_window_display": false
  }
 },
 "nbformat": 4,
 "nbformat_minor": 2
}
